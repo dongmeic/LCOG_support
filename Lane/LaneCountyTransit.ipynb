{
 "cells": [
  {
   "cell_type": "code",
   "execution_count": 1,
   "id": "0f4e1d66",
   "metadata": {},
   "outputs": [],
   "source": [
    "import requests\n",
    "from sqlalchemy import create_engine\n",
    "import pandas as pd\n",
    "import geopandas as gpd\n",
    "import os"
   ]
  },
  {
   "cell_type": "code",
   "execution_count": 2,
   "id": "3b2c8310",
   "metadata": {},
   "outputs": [],
   "source": [
    "def get_ip():\n",
    "    response = requests.get('https://api64.ipify.org?format=json').json()\n",
    "    return response[\"ip\"]\n",
    "\n",
    "\n",
    "def get_location():\n",
    "    ip_address = get_ip()\n",
    "    response = requests.get(f'https://ipapi.co/{ip_address}/json/').json()\n",
    "    location_data = {\n",
    "        \"ip\": ip_address,\n",
    "        \"city\": response.get(\"city\"),\n",
    "        \"region\": response.get(\"region\"),\n",
    "        \"country\": response.get(\"country_name\")\n",
    "    }\n",
    "    return location_data"
   ]
  },
  {
   "cell_type": "code",
   "execution_count": 3,
   "id": "0c22d564",
   "metadata": {},
   "outputs": [
    {
     "name": "stdout",
     "output_type": "stream",
     "text": [
      "{'ip': '208.85.234.131', 'city': 'Springfield', 'region': 'Oregon', 'country': 'United States'}\n"
     ]
    }
   ],
   "source": [
    "print(get_location())"
   ]
  },
  {
   "cell_type": "code",
   "execution_count": 46,
   "id": "90258ace",
   "metadata": {},
   "outputs": [],
   "source": [
    "def get_zip(x):\n",
    "    response = requests.get(f'https://ipapi.co/{x}/json/').json()\n",
    "    res = response.get('postal')\n",
    "    if type(res) is str:\n",
    "        return int(res)\n",
    "    else:\n",
    "        return None"
   ]
  },
  {
   "cell_type": "code",
   "execution_count": 4,
   "id": "5c5bda23",
   "metadata": {},
   "outputs": [],
   "source": [
    "ip_address = get_ip()"
   ]
  },
  {
   "cell_type": "code",
   "execution_count": 18,
   "id": "f666c835",
   "metadata": {},
   "outputs": [],
   "source": [
    "ip_address = '73.240.110.67'"
   ]
  },
  {
   "cell_type": "code",
   "execution_count": 19,
   "id": "e3fe67fe",
   "metadata": {},
   "outputs": [],
   "source": [
    "response = requests.get(f'https://ipapi.co/{ip_address}/json/').json()"
   ]
  },
  {
   "cell_type": "code",
   "execution_count": 44,
   "id": "8dffa2cf",
   "metadata": {},
   "outputs": [
    {
     "data": {
      "text/plain": [
       "True"
      ]
     },
     "execution_count": 44,
     "metadata": {},
     "output_type": "execute_result"
    }
   ],
   "source": [
    "type(response.get('postal')) is str"
   ]
  },
  {
   "cell_type": "code",
   "execution_count": 22,
   "id": "5271d438",
   "metadata": {},
   "outputs": [],
   "source": [
    "path = r'T:\\DCProjects\\Support\\Lane'"
   ]
  },
  {
   "cell_type": "code",
   "execution_count": 77,
   "id": "f5cdbbcd",
   "metadata": {},
   "outputs": [],
   "source": [
    "dat = pd.read_csv(os.path.join(path, 'TransitPlanningforRuralLaneCounty.csv'))"
   ]
  },
  {
   "cell_type": "code",
   "execution_count": 78,
   "id": "6223f0e0",
   "metadata": {},
   "outputs": [],
   "source": [
    "dat.loc[:, 'ZipRev'] = dat.copy()['IPAddress'].apply(lambda x: get_zip(x))"
   ]
  },
  {
   "cell_type": "code",
   "execution_count": 32,
   "id": "bee531cb",
   "metadata": {},
   "outputs": [],
   "source": [
    "def revZipCode(x, y):\n",
    "    if x == y:\n",
    "        res = 0\n",
    "    else:\n",
    "        res = 1\n",
    "    return res"
   ]
  },
  {
   "cell_type": "code",
   "execution_count": 34,
   "id": "9895d452",
   "metadata": {},
   "outputs": [
    {
     "data": {
      "text/plain": [
       "Index(['RespondentID', 'CollectorID', 'StartDate', 'EndDate', 'IPAddress',\n",
       "       'ZipCode', 'Area', 'ZipRev'],\n",
       "      dtype='object')"
      ]
     },
     "execution_count": 34,
     "metadata": {},
     "output_type": "execute_result"
    }
   ],
   "source": [
    "dat.columns"
   ]
  },
  {
   "cell_type": "code",
   "execution_count": 48,
   "id": "1c8840d1",
   "metadata": {},
   "outputs": [],
   "source": [
    "dat.loc[:, 'Diff'] = dat.copy()[['ZipCode', 'ZipRev']].apply(lambda row: revZipCode(row.ZipCode, row.ZipRev), axis=1)"
   ]
  },
  {
   "cell_type": "code",
   "execution_count": 38,
   "id": "ff8c50ca",
   "metadata": {},
   "outputs": [
    {
     "data": {
      "text/plain": [
       "(194, 9)"
      ]
     },
     "execution_count": 38,
     "metadata": {},
     "output_type": "execute_result"
    }
   ],
   "source": [
    "dat.shape"
   ]
  },
  {
   "cell_type": "code",
   "execution_count": 76,
   "id": "1d98309b",
   "metadata": {},
   "outputs": [
    {
     "ename": "AttributeError",
     "evalue": "'GeoDataFrame' object has no attribute 'Diff'",
     "output_type": "error",
     "traceback": [
      "\u001b[1;31m---------------------------------------------------------------------------\u001b[0m",
      "\u001b[1;31mAttributeError\u001b[0m                            Traceback (most recent call last)",
      "\u001b[1;32m<ipython-input-76-65b3c435cabb>\u001b[0m in \u001b[0;36m<module>\u001b[1;34m\u001b[0m\n\u001b[1;32m----> 1\u001b[1;33m \u001b[0mdata\u001b[0m\u001b[1;33m.\u001b[0m\u001b[0mloc\u001b[0m\u001b[1;33m[\u001b[0m\u001b[0mdata\u001b[0m\u001b[1;33m.\u001b[0m\u001b[0mDiff\u001b[0m\u001b[1;33m==\u001b[0m\u001b[1;36m1\u001b[0m\u001b[1;33m,\u001b[0m \u001b[1;33m[\u001b[0m\u001b[1;34m'IPAddress'\u001b[0m\u001b[1;33m,\u001b[0m \u001b[1;34m'ZipCode'\u001b[0m\u001b[1;33m,\u001b[0m \u001b[1;34m'ZipRev'\u001b[0m\u001b[1;33m]\u001b[0m\u001b[1;33m]\u001b[0m\u001b[1;33m\u001b[0m\u001b[1;33m\u001b[0m\u001b[0m\n\u001b[0m",
      "\u001b[1;32m~\\AppData\\Anaconda3\\envs\\geoenv\\lib\\site-packages\\pandas\\core\\generic.py\u001b[0m in \u001b[0;36m__getattr__\u001b[1;34m(self, name)\u001b[0m\n\u001b[0;32m   5463\u001b[0m             \u001b[1;32mif\u001b[0m \u001b[0mself\u001b[0m\u001b[1;33m.\u001b[0m\u001b[0m_info_axis\u001b[0m\u001b[1;33m.\u001b[0m\u001b[0m_can_hold_identifiers_and_holds_name\u001b[0m\u001b[1;33m(\u001b[0m\u001b[0mname\u001b[0m\u001b[1;33m)\u001b[0m\u001b[1;33m:\u001b[0m\u001b[1;33m\u001b[0m\u001b[1;33m\u001b[0m\u001b[0m\n\u001b[0;32m   5464\u001b[0m                 \u001b[1;32mreturn\u001b[0m \u001b[0mself\u001b[0m\u001b[1;33m[\u001b[0m\u001b[0mname\u001b[0m\u001b[1;33m]\u001b[0m\u001b[1;33m\u001b[0m\u001b[1;33m\u001b[0m\u001b[0m\n\u001b[1;32m-> 5465\u001b[1;33m             \u001b[1;32mreturn\u001b[0m \u001b[0mobject\u001b[0m\u001b[1;33m.\u001b[0m\u001b[0m__getattribute__\u001b[0m\u001b[1;33m(\u001b[0m\u001b[0mself\u001b[0m\u001b[1;33m,\u001b[0m \u001b[0mname\u001b[0m\u001b[1;33m)\u001b[0m\u001b[1;33m\u001b[0m\u001b[1;33m\u001b[0m\u001b[0m\n\u001b[0m\u001b[0;32m   5466\u001b[0m \u001b[1;33m\u001b[0m\u001b[0m\n\u001b[0;32m   5467\u001b[0m     \u001b[1;32mdef\u001b[0m \u001b[0m__setattr__\u001b[0m\u001b[1;33m(\u001b[0m\u001b[0mself\u001b[0m\u001b[1;33m,\u001b[0m \u001b[0mname\u001b[0m\u001b[1;33m:\u001b[0m \u001b[0mstr\u001b[0m\u001b[1;33m,\u001b[0m \u001b[0mvalue\u001b[0m\u001b[1;33m)\u001b[0m \u001b[1;33m->\u001b[0m \u001b[1;32mNone\u001b[0m\u001b[1;33m:\u001b[0m\u001b[1;33m\u001b[0m\u001b[1;33m\u001b[0m\u001b[0m\n",
      "\u001b[1;31mAttributeError\u001b[0m: 'GeoDataFrame' object has no attribute 'Diff'"
     ]
    }
   ],
   "source": [
    "dat.loc[dat.Diff==1, ['IPAddress', 'ZipCode', 'ZipRev']]"
   ]
  },
  {
   "cell_type": "code",
   "execution_count": 59,
   "id": "5da23fbb",
   "metadata": {},
   "outputs": [],
   "source": [
    "df = data[['RespondentID', 'ZipCode']].groupby(['ZipCode']).agg('count').reset_index()"
   ]
  },
  {
   "cell_type": "code",
   "execution_count": 64,
   "id": "c77a0705",
   "metadata": {},
   "outputs": [],
   "source": [
    "df['ZipCode'] = df['ZipCode'].apply(str)"
   ]
  },
  {
   "cell_type": "code",
   "execution_count": 51,
   "id": "7d8f5241",
   "metadata": {},
   "outputs": [],
   "source": [
    "engine = create_engine(   \n",
    "\"mssql+pyodbc:///?odbc_connect=\"\n",
    "\"Driver%3D%7BODBC+Driver+17+for+SQL+Server%7D%3B\"\n",
    "\"Server%3Drliddb.int.lcog.org%2C5433%3B\"\n",
    "\"Database%3DRLIDGeo%3B\"\n",
    "\"Trusted_Connection%3Dyes%3B\"\n",
    "\"ApplicationIntent%3DReadWrite%3B\"\n",
    "\"WSID%3Dclwrk4087.int.lcog.org%3B\")\n",
    "\n",
    "zip_sql = '''\n",
    "SELECT \n",
    "zipcode AS ZipCode,\n",
    "mailcity AS City,\n",
    "Shape.STAsBinary() AS geometry\n",
    "FROM dbo.ZIPCode;\n",
    "'''"
   ]
  },
  {
   "cell_type": "code",
   "execution_count": 52,
   "id": "8946d7ad",
   "metadata": {},
   "outputs": [],
   "source": [
    "def readZipCode():\n",
    "    ZipCode = gpd.GeoDataFrame.from_postgis(zip_sql, engine, geom_col='geometry')\n",
    "    ZipCode.crs = \"EPSG:2914\"\n",
    "    return ZipCode"
   ]
  },
  {
   "cell_type": "code",
   "execution_count": 53,
   "id": "c607b2e6",
   "metadata": {},
   "outputs": [],
   "source": [
    "zip_shp = readZipCode()"
   ]
  },
  {
   "cell_type": "code",
   "execution_count": 63,
   "id": "c0e450fd",
   "metadata": {},
   "outputs": [
    {
     "data": {
      "text/plain": [
       "'97324'"
      ]
     },
     "execution_count": 63,
     "metadata": {},
     "output_type": "execute_result"
    }
   ],
   "source": [
    "zip_shp.ZipCode.values[0]"
   ]
  },
  {
   "cell_type": "code",
   "execution_count": 69,
   "id": "64477a96",
   "metadata": {},
   "outputs": [],
   "source": [
    "data = zip_shp.merge(df, on='ZipCode', how='left')"
   ]
  },
  {
   "cell_type": "code",
   "execution_count": 70,
   "id": "43d7deab",
   "metadata": {},
   "outputs": [],
   "source": [
    "data.rename(columns={\"RespondentID\": \"IDcount\"}, inplace=True)"
   ]
  },
  {
   "cell_type": "code",
   "execution_count": 74,
   "id": "65d0deb7",
   "metadata": {},
   "outputs": [],
   "source": [
    "data.loc[data.IDcount.isnull(), 'IDcount'] = 0"
   ]
  },
  {
   "cell_type": "code",
   "execution_count": 75,
   "id": "72e5e67f",
   "metadata": {},
   "outputs": [],
   "source": [
    "data.to_file(os.path.join(path, 'Survey_Count.shp'))"
   ]
  }
 ],
 "metadata": {
  "kernelspec": {
   "display_name": "Python 3",
   "language": "python",
   "name": "python3"
  },
  "language_info": {
   "codemirror_mode": {
    "name": "ipython",
    "version": 3
   },
   "file_extension": ".py",
   "mimetype": "text/x-python",
   "name": "python",
   "nbconvert_exporter": "python",
   "pygments_lexer": "ipython3",
   "version": "3.8.8"
  }
 },
 "nbformat": 4,
 "nbformat_minor": 5
}
