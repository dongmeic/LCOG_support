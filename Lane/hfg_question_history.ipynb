{
 "cells": [
  {
   "cell_type": "code",
   "execution_count": 1,
   "id": "7e995686",
   "metadata": {},
   "outputs": [],
   "source": [
    "%load_ext autoreload\n",
    "%autoreload 2"
   ]
  },
  {
   "cell_type": "code",
   "execution_count": 2,
   "id": "ea0717b5",
   "metadata": {},
   "outputs": [],
   "source": [
    "from hfgtools import *"
   ]
  },
  {
   "cell_type": "code",
   "execution_count": 5,
   "id": "a0b77e83",
   "metadata": {},
   "outputs": [],
   "source": [
    "aqh = pd.read_csv(path + '\\\\output\\\\question_history.csv')"
   ]
  },
  {
   "cell_type": "code",
   "execution_count": 12,
   "id": "a42fe14c",
   "metadata": {},
   "outputs": [],
   "source": [
    "#oa = pd.read_csv(path + '\\\\output\\\\online_application.csv')\n",
    "am = pd.read_csv(path + '\\\\output\\\\application_members.csv')"
   ]
  },
  {
   "cell_type": "code",
   "execution_count": 8,
   "id": "98d463ba",
   "metadata": {},
   "outputs": [
    {
     "data": {
      "text/plain": [
       "(102872, 15)"
      ]
     },
     "execution_count": 8,
     "metadata": {},
     "output_type": "execute_result"
    }
   ],
   "source": [
    "aqh.shape"
   ]
  },
  {
   "cell_type": "code",
   "execution_count": 13,
   "id": "6a61dc6a",
   "metadata": {},
   "outputs": [],
   "source": [
    "am.rename(columns={'ID':'AMID'}, inplace=True)"
   ]
  },
  {
   "cell_type": "code",
   "execution_count": 14,
   "id": "96a0f13b",
   "metadata": {},
   "outputs": [],
   "source": [
    "#df = aqh.merge(oa[['KeyApplication', 'ID']], on = 'KeyApplication', how='left')\n",
    "df2 = df.merge(am[['KeyApplication', 'AMID']], on = 'KeyApplication', how='right')"
   ]
  },
  {
   "cell_type": "code",
   "execution_count": 15,
   "id": "416ed841",
   "metadata": {},
   "outputs": [
    {
     "data": {
      "text/plain": [
       "(197508, 17)"
      ]
     },
     "execution_count": 15,
     "metadata": {},
     "output_type": "execute_result"
    }
   ],
   "source": [
    "df2.shape"
   ]
  },
  {
   "cell_type": "code",
   "execution_count": 16,
   "id": "3a6949e6",
   "metadata": {},
   "outputs": [],
   "source": [
    "df2.to_csv(path + '\\\\output\\\\question_history.csv', index=False)"
   ]
  },
  {
   "cell_type": "code",
   "execution_count": 118,
   "id": "ae28e331",
   "metadata": {},
   "outputs": [
    {
     "data": {
      "text/plain": [
       "array(['Do you require a wheelchair accessible unit? This question is for data purposes only.',\n",
       "       'Are you or anyone in your household currently homeless?  This includes currently living in a car, on the street, in an emergency shelter, transitional housing, or currently living in a friend or family members home, or couch surfing? If yes, where are you currently living?',\n",
       "       'Did someone help you complete this application? If yes, then who?',\n",
       "       'How did you hear about our wait list opening?  Please fill in the following box with an answer (Ex. Text message, email, Facebook, RegisterGuard, family/friend, etc.)'],\n",
       "      dtype=object)"
      ]
     },
     "execution_count": 118,
     "metadata": {},
     "output_type": "execute_result"
    }
   ],
   "source": [
    "aqh.Question.unique()"
   ]
  },
  {
   "cell_type": "code",
   "execution_count": 94,
   "id": "4e2827c8",
   "metadata": {},
   "outputs": [
    {
     "data": {
      "text/plain": [
       "array(['P5', 'P7', 'P8', 'P9'], dtype=object)"
      ]
     },
     "execution_count": 94,
     "metadata": {},
     "output_type": "execute_result"
    }
   ],
   "source": [
    "aqh.Preference.unique()"
   ]
  },
  {
   "cell_type": "code",
   "execution_count": 97,
   "id": "8bfbec32",
   "metadata": {},
   "outputs": [
    {
     "data": {
      "text/plain": [
       "array(['No', 'Yes'], dtype=object)"
      ]
     },
     "execution_count": 97,
     "metadata": {},
     "output_type": "execute_result"
    }
   ],
   "source": [
    "aqh[aqh.Preference=='P5'].Answer.unique()"
   ]
  },
  {
   "cell_type": "code",
   "execution_count": 98,
   "id": "a7575dcb",
   "metadata": {},
   "outputs": [
    {
     "data": {
      "text/html": [
       "<div>\n",
       "<style scoped>\n",
       "    .dataframe tbody tr th:only-of-type {\n",
       "        vertical-align: middle;\n",
       "    }\n",
       "\n",
       "    .dataframe tbody tr th {\n",
       "        vertical-align: top;\n",
       "    }\n",
       "\n",
       "    .dataframe thead th {\n",
       "        text-align: right;\n",
       "    }\n",
       "</style>\n",
       "<table border=\"1\" class=\"dataframe\">\n",
       "  <thead>\n",
       "    <tr style=\"text-align: right;\">\n",
       "      <th></th>\n",
       "      <th>wheelchair?</th>\n",
       "      <th>counts</th>\n",
       "    </tr>\n",
       "  </thead>\n",
       "  <tbody>\n",
       "    <tr>\n",
       "      <th>0</th>\n",
       "      <td>No</td>\n",
       "      <td>24322</td>\n",
       "    </tr>\n",
       "    <tr>\n",
       "      <th>1</th>\n",
       "      <td>Yes</td>\n",
       "      <td>1396</td>\n",
       "    </tr>\n",
       "  </tbody>\n",
       "</table>\n",
       "</div>"
      ],
      "text/plain": [
       "  wheelchair?  counts\n",
       "0          No   24322\n",
       "1         Yes    1396"
      ]
     },
     "execution_count": 98,
     "metadata": {},
     "output_type": "execute_result"
    }
   ],
   "source": [
    "aqh[aqh.Preference=='P5']['Answer'].value_counts().rename_axis('wheelchair?').reset_index(name='counts')"
   ]
  },
  {
   "cell_type": "code",
   "execution_count": 3,
   "id": "208d63d4",
   "metadata": {},
   "outputs": [
    {
     "name": "stdout",
     "output_type": "stream",
     "text": [
      "Elapsed time for reorganizing question history: 1.44minutes\n"
     ]
    }
   ],
   "source": [
    "aqh = reorganize_aqh()"
   ]
  },
  {
   "cell_type": "code",
   "execution_count": 4,
   "id": "1f4ead28",
   "metadata": {},
   "outputs": [],
   "source": [
    "aqh.to_csv(path + '\\\\output\\\\question_history.csv', index=False)"
   ]
  },
  {
   "cell_type": "code",
   "execution_count": 132,
   "id": "e285c97f",
   "metadata": {},
   "outputs": [
    {
     "data": {
      "text/html": [
       "<div>\n",
       "<style scoped>\n",
       "    .dataframe tbody tr th:only-of-type {\n",
       "        vertical-align: middle;\n",
       "    }\n",
       "\n",
       "    .dataframe tbody tr th {\n",
       "        vertical-align: top;\n",
       "    }\n",
       "\n",
       "    .dataframe thead th {\n",
       "        text-align: right;\n",
       "    }\n",
       "</style>\n",
       "<table border=\"1\" class=\"dataframe\">\n",
       "  <thead>\n",
       "    <tr style=\"text-align: right;\">\n",
       "      <th></th>\n",
       "      <th>QuestionID</th>\n",
       "      <th>KeyApplication</th>\n",
       "      <th>Question</th>\n",
       "      <th>Preference</th>\n",
       "      <th>Answer</th>\n",
       "      <th>Response</th>\n",
       "      <th>TSModified</th>\n",
       "      <th>TSCreated</th>\n",
       "      <th>P7SCat</th>\n",
       "      <th>P7BCat</th>\n",
       "      <th>P8SCat</th>\n",
       "      <th>P8BCat</th>\n",
       "      <th>P9SCat</th>\n",
       "      <th>P9BCat</th>\n",
       "      <th>P9Cat</th>\n",
       "    </tr>\n",
       "  </thead>\n",
       "  <tbody>\n",
       "    <tr>\n",
       "      <th>0</th>\n",
       "      <td>1518</td>\n",
       "      <td>5419013</td>\n",
       "      <td>Do you require a wheelchair accessible unit? T...</td>\n",
       "      <td>P5</td>\n",
       "      <td>No</td>\n",
       "      <td>NaN</td>\n",
       "      <td>2022-07-26 12:06:25</td>\n",
       "      <td>2022-07-26 12:06:25</td>\n",
       "      <td>NaN</td>\n",
       "      <td>NaN</td>\n",
       "      <td>NaN</td>\n",
       "      <td>NaN</td>\n",
       "      <td>NaN</td>\n",
       "      <td>NaN</td>\n",
       "      <td>NaN</td>\n",
       "    </tr>\n",
       "    <tr>\n",
       "      <th>1</th>\n",
       "      <td>2072</td>\n",
       "      <td>5419013</td>\n",
       "      <td>Are you or anyone in your household currently ...</td>\n",
       "      <td>P7</td>\n",
       "      <td>No</td>\n",
       "      <td>NaN</td>\n",
       "      <td>2022-07-26 12:06:25</td>\n",
       "      <td>2022-07-26 12:06:25</td>\n",
       "      <td>NaN</td>\n",
       "      <td>NaN</td>\n",
       "      <td>NaN</td>\n",
       "      <td>NaN</td>\n",
       "      <td>NaN</td>\n",
       "      <td>NaN</td>\n",
       "      <td>NaN</td>\n",
       "    </tr>\n",
       "    <tr>\n",
       "      <th>2</th>\n",
       "      <td>2083</td>\n",
       "      <td>5419013</td>\n",
       "      <td>Did someone help you complete this application...</td>\n",
       "      <td>P8</td>\n",
       "      <td>No</td>\n",
       "      <td>NaN</td>\n",
       "      <td>2022-07-26 12:06:25</td>\n",
       "      <td>2022-07-26 12:06:25</td>\n",
       "      <td>NaN</td>\n",
       "      <td>NaN</td>\n",
       "      <td>NaN</td>\n",
       "      <td>NaN</td>\n",
       "      <td>NaN</td>\n",
       "      <td>NaN</td>\n",
       "      <td>NaN</td>\n",
       "    </tr>\n",
       "    <tr>\n",
       "      <th>3</th>\n",
       "      <td>2084</td>\n",
       "      <td>5419013</td>\n",
       "      <td>How did you hear about our wait list opening? ...</td>\n",
       "      <td>P9</td>\n",
       "      <td>Yes</td>\n",
       "      <td>Homes for Good email</td>\n",
       "      <td>2022-07-26 12:06:25</td>\n",
       "      <td>2022-07-26 12:06:25</td>\n",
       "      <td>NaN</td>\n",
       "      <td>NaN</td>\n",
       "      <td>NaN</td>\n",
       "      <td>NaN</td>\n",
       "      <td>Homes For Good</td>\n",
       "      <td>Homes For Good</td>\n",
       "      <td>Email</td>\n",
       "    </tr>\n",
       "    <tr>\n",
       "      <th>4</th>\n",
       "      <td>1518</td>\n",
       "      <td>5419021</td>\n",
       "      <td>Do you require a wheelchair accessible unit? T...</td>\n",
       "      <td>P5</td>\n",
       "      <td>No</td>\n",
       "      <td>NaN</td>\n",
       "      <td>2022-07-26 12:07:49</td>\n",
       "      <td>2022-07-26 12:07:49</td>\n",
       "      <td>NaN</td>\n",
       "      <td>NaN</td>\n",
       "      <td>NaN</td>\n",
       "      <td>NaN</td>\n",
       "      <td>NaN</td>\n",
       "      <td>NaN</td>\n",
       "      <td>NaN</td>\n",
       "    </tr>\n",
       "  </tbody>\n",
       "</table>\n",
       "</div>"
      ],
      "text/plain": [
       "   QuestionID  KeyApplication  \\\n",
       "0        1518         5419013   \n",
       "1        2072         5419013   \n",
       "2        2083         5419013   \n",
       "3        2084         5419013   \n",
       "4        1518         5419021   \n",
       "\n",
       "                                            Question Preference Answer  \\\n",
       "0  Do you require a wheelchair accessible unit? T...         P5     No   \n",
       "1  Are you or anyone in your household currently ...         P7     No   \n",
       "2  Did someone help you complete this application...         P8     No   \n",
       "3  How did you hear about our wait list opening? ...         P9    Yes   \n",
       "4  Do you require a wheelchair accessible unit? T...         P5     No   \n",
       "\n",
       "               Response           TSModified            TSCreated P7SCat  \\\n",
       "0                   NaN  2022-07-26 12:06:25  2022-07-26 12:06:25    NaN   \n",
       "1                   NaN  2022-07-26 12:06:25  2022-07-26 12:06:25    NaN   \n",
       "2                   NaN  2022-07-26 12:06:25  2022-07-26 12:06:25    NaN   \n",
       "3  Homes for Good email  2022-07-26 12:06:25  2022-07-26 12:06:25    NaN   \n",
       "4                   NaN  2022-07-26 12:07:49  2022-07-26 12:07:49    NaN   \n",
       "\n",
       "  P7BCat P8SCat P8BCat          P9SCat          P9BCat  P9Cat  \n",
       "0    NaN    NaN    NaN             NaN             NaN    NaN  \n",
       "1    NaN    NaN    NaN             NaN             NaN    NaN  \n",
       "2    NaN    NaN    NaN             NaN             NaN    NaN  \n",
       "3    NaN    NaN    NaN  Homes For Good  Homes For Good  Email  \n",
       "4    NaN    NaN    NaN             NaN             NaN    NaN  "
      ]
     },
     "execution_count": 132,
     "metadata": {},
     "output_type": "execute_result"
    }
   ],
   "source": [
    "aqh.head()"
   ]
  },
  {
   "cell_type": "code",
   "execution_count": 107,
   "id": "7aa701f2",
   "metadata": {},
   "outputs": [
    {
     "data": {
      "text/html": [
       "<div>\n",
       "<style scoped>\n",
       "    .dataframe tbody tr th:only-of-type {\n",
       "        vertical-align: middle;\n",
       "    }\n",
       "\n",
       "    .dataframe tbody tr th {\n",
       "        vertical-align: top;\n",
       "    }\n",
       "\n",
       "    .dataframe thead th {\n",
       "        text-align: right;\n",
       "    }\n",
       "</style>\n",
       "<table border=\"1\" class=\"dataframe\">\n",
       "  <thead>\n",
       "    <tr style=\"text-align: right;\">\n",
       "      <th></th>\n",
       "      <th>homeless?</th>\n",
       "      <th>counts</th>\n",
       "    </tr>\n",
       "  </thead>\n",
       "  <tbody>\n",
       "    <tr>\n",
       "      <th>0</th>\n",
       "      <td>Yes</td>\n",
       "      <td>13727</td>\n",
       "    </tr>\n",
       "    <tr>\n",
       "      <th>1</th>\n",
       "      <td>No</td>\n",
       "      <td>11991</td>\n",
       "    </tr>\n",
       "  </tbody>\n",
       "</table>\n",
       "</div>"
      ],
      "text/plain": [
       "  homeless?  counts\n",
       "0       Yes   13727\n",
       "1        No   11991"
      ]
     },
     "execution_count": 107,
     "metadata": {},
     "output_type": "execute_result"
    }
   ],
   "source": [
    "aqh[aqh.Preference=='P7']['Answer'].value_counts().rename_axis('homeless?').reset_index(name='counts')"
   ]
  },
  {
   "cell_type": "code",
   "execution_count": 109,
   "id": "35a07338",
   "metadata": {},
   "outputs": [
    {
     "data": {
      "text/plain": [
       "0.5337506804572673"
      ]
     },
     "execution_count": 109,
     "metadata": {},
     "output_type": "execute_result"
    }
   ],
   "source": [
    "13727/(13727+11991)"
   ]
  },
  {
   "cell_type": "code",
   "execution_count": 70,
   "id": "5f9b6d25",
   "metadata": {},
   "outputs": [
    {
     "data": {
      "text/plain": [
       "['Svdp shelter',\n",
       " \"I'm living with my ex. I will be on the street at the end of this upcoming January.\",\n",
       " 'Friends house',\n",
       " 'Eugene, OR',\n",
       " '1022 w 4th Ave \\nEugene, OR 97402',\n",
       " 'I am living with my ex. Whether I have a place to go or not, I am required to leave at the end of the upcoming January.',\n",
       " 'Svdp night shelter',\n",
       " 'Couch surfing',\n",
       " 'Staying with adult children and friends on couch.',\n",
       " 'Residential Treatment at Willamette Family Cheshire',\n",
       " 'Sherman housing authority',\n",
       " 'friends',\n",
       " 'I have a tent up in the Whiteaker community, on the grounds of Alluvium (non-profit charity and church).',\n",
       " 'Yes, Am in SSDI process, and living with family member as Disabled.',\n",
       " 'Svdp might shelter',\n",
       " 'Varies places around Eugene Oregon where I can pitch my tent',\n",
       " 'Franklin and hilyard ave',\n",
       " 'Willammette Family',\n",
       " 'Wherever we can for now',\n",
       " 'Living with family member',\n",
       " 'Living with family',\n",
       " \"I am currently staying on my cousin's couch in Salem but the housing is not permanent\",\n",
       " 'I sleep in my car but since it’s so hot I crash at family and friends houses some times . I don’t have a permanent place to stay',\n",
       " 'Disabled living with family Member. Currently waiting in SSDI process.',\n",
       " 'Varies places all over Eugene Oregon where I can pitch my tent',\n",
       " 'Eugene, OR with friends',\n",
       " \"We are currently living at a friend's house but we can't stay late long\",\n",
       " \"I am currently staying on my cousin's couch in Salem\",\n",
       " 'I’m living on the side of the road with my 8 yr old son in a tiny travel trailer with no electric .',\n",
       " 'Transitional housing',\n",
       " 'hoping for a friends parents to pay for a motel room',\n",
       " 'transitional housing',\n",
       " \"I'm currently staying on my cousin's couch in Salem\",\n",
       " 'Residential treatment at willamette family cheshire',\n",
       " 'I am been living in my car . But since it’s too hot I’ve been crashing with family and friends from time to time',\n",
       " 'In my van whenever I can',\n",
       " 'Varies places all over Eugene Oregon where i can pitch my tent',\n",
       " \"At Tyler's Parents\",\n",
       " 'In a tent, in the Whiteaker District, on the grounds of Alluvium (a charity and church).',\n",
       " 'Will be',\n",
       " 'Wilammette Family',\n",
       " 'Emergency shelter',\n",
       " 'Residential treatment',\n",
       " 'Eugene, OR with Friends',\n",
       " 'Eugene,or',\n",
       " '529 Antelope Way couch surfing',\n",
       " 'Willamette Family',\n",
       " 'im couch surfing',\n",
       " 'Residential treatment facility',\n",
       " 'In car',\n",
       " 'About to losing current housing.',\n",
       " 'transitional housing program with looking glass',\n",
       " 'Living with Family,  Disabled, currently waiting on SSI',\n",
       " 'Yes I am living out my car . Sometimes because the weather I crash at family and friends homes .',\n",
       " 'Sherman Texas authority',\n",
       " 'Wilammette family',\n",
       " 'Sisters',\n",
       " 'Willamette family',\n",
       " 'I am disabled, unable to work, with no income and living with my ex. Whether I have a place to go or not, I am required to leave at the end of the upcoming January.',\n",
       " 'In an rv',\n",
       " \"I do not know. I haven't worked out where to sleep tonight.\",\n",
       " 'In a Van',\n",
       " 'living with family member',\n",
       " 'Living in a a tent in the Whiteaker District, on the grounds of Alluvium (a charity and church).',\n",
       " 'I’m living at a friends house until I can get a place',\n",
       " 'Family members home',\n",
       " 'Losing housing and will have no where to stay',\n",
       " \"I am currently staying on my cousin's 'couch in Salem\",\n",
       " \"We've been switching back and forth between my parents and a friends for the last few years. Also sometimes my sisters. Currently staying at the address i listed, 3381 Southview Dr. in Eugene\",\n",
       " 'daughters',\n",
       " 'Ex-boyfriend house',\n",
       " '108 tutor drive\\nApt 11\\nSaltillo, MS',\n",
       " 'I am living out my car but since the weather changed I been sleeping at family and friends house',\n",
       " 'Kicked out 7/18, living in temporary housing on sofa',\n",
       " 'I am currently working through hope and safety. My children and I are currently. We are homeless. Needing immediate housing.',\n",
       " 'At sponsors \\n338 highway 99 n Eugene Oregon 97402',\n",
       " \"Tyler'sParents\",\n",
       " 'Losing housing and will be homeless',\n",
       " 'living with family',\n",
       " \"I'm currently temporarily staying on my cousin's couch in Salem\",\n",
       " 'With family',\n",
       " 'At my moms on the couch.',\n",
       " 'Eugene Oregon',\n",
       " 'Yes living in the huts by the Mission',\n",
       " \"In a travel trailer in someone's front yard 2060 2nd Street\",\n",
       " 'Living out my car sometimes crash with family and friends',\n",
       " 'Avdp night shelter',\n",
       " 'Currently living at The Guest House Crisis Stabilization Center',\n",
       " \"in my car in a friend's garage\",\n",
       " \"I'm temporarily staying on my cousin's couch in Salem\",\n",
       " 'Rv',\n",
       " 'Family/Starting in August',\n",
       " 'currently living in our car sometimes staying in motels or on the floor at parents home',\n",
       " 'Losing housing and will be without housing',\n",
       " 'Willammette family',\n",
       " 'I am.',\n",
       " 'Currently living with family while looking for a house',\n",
       " 'Yes, currently homeless. Hope and safety and dhs referred me. Working with Laura blackwell.',\n",
       " 'kicked out 7/18 - couch surfing',\n",
       " 'My cousins until1 st of August 2022',\n",
       " 'Family/ and friends',\n",
       " 'Currently in a residential treatment facility',\n",
       " 'with my grandmother',\n",
       " 'In a van',\n",
       " 'car and couch surfing',\n",
       " 'Living in the HUTS by the Mission',\n",
       " 'Currently living at The Guest House Crisis stabilization center',\n",
       " 'St. Vincent de Paul Night Shelter annex',\n",
       " 'Living in my moms camp trailer',\n",
       " \"Recreational Vehicle on the street. Sometimes able to park it at my father's home, but not all of the time. Lot of the time I have to park it on the street.\",\n",
       " \"I'm temporarily staying on my cousin's couch in salem\",\n",
       " 'Yes I am currently homeless. Working with hope and safety. Need immediate housing',\n",
       " 'Losing housing',\n",
       " 'in my van down by the river',\n",
       " 'with a friend',\n",
       " 'I am now currently living with my boyfriend.',\n",
       " 'Treatment willammette family',\n",
       " 'August will be living with family',\n",
       " 'Living with a friend',\n",
       " \"I am temporarily staying on my cousin's couch in Salem\",\n",
       " 'St. Vincent de Paul Family First Night Annex - 4060 W. Amazon Dr., Eugene, Oregon 97405',\n",
       " 'Living at a friends house in a camper',\n",
       " 'Friends',\n",
       " 'Living with a family member',\n",
       " 'Currently homeless, sleeping on couches. Immediately moved due to abusive relationships. Need housing.',\n",
       " 'Sdvp night shelter',\n",
       " 'currently living in car and sometimes with parents on floor',\n",
       " 'Lease ended no available affordable housing Homeless after the 1st of august / no evictions !',\n",
       " 'Getting evicted from home in 30 days',\n",
       " 'Currently losing housing',\n",
       " \"I'm living with a friend who wants me to move and tells me every other day !  monta loma mobile home park 2150 laura st # 19 springfield ore, His name is Roger White\",\n",
       " 'in car',\n",
       " 'Me and my children are sleeping on floors and couches. Due to immediate leaving abusive relationship. Working with hope and safety',\n",
       " 'I currently live in a home with my parents they are ill and in and out of the hospital and are needing to move in to assisted living and can not stay in their trailer once they are gone.',\n",
       " 'Living in HUTS by the Mission',\n",
       " 'Living at The Guest House Crisis Stabilization Center',\n",
       " 'Teen challenge',\n",
       " 'Opportunity Village Eugene',\n",
       " \"I'm currently staying at Red Roof Hometown Studios (Room 122) 520 Harlow Road Springfield, Oregon 97477\",\n",
       " 'Living w a family member',\n",
       " 'Living with family member currently',\n",
       " \"In a travel trailer in someone's driveway\",\n",
       " 'Living at my friends house',\n",
       " 'me. at daughters',\n",
       " 'Treatment Center',\n",
       " 'Currently living at The Guest House crisis stabilization Center',\n",
       " 'Bridges on Broadway, Homes for Good program',\n",
       " 'The car',\n",
       " 'living in horse trailer in a ladies driveway',\n",
       " 'currently living in car and sometimes staying at parents house on the floor and sometimes staying in motel rooms',\n",
       " 'I live in the HUTS by the Mission',\n",
       " '338 highway 99 n',\n",
       " 'Staying on my daughters couch',\n",
       " 'Currently sleeping on couches and floors of where ever I can stay with my kids. Left abusive relationship',\n",
       " 'Eugene, OR  with Friends',\n",
       " 'Homeless',\n",
       " \"10th Street 'sidewalk to curb' Eugene Oregon 97401\",\n",
       " 'Eugene Mission',\n",
       " 'Family member Billy Jones is currently homeless. Sleeps in parks or on the streets - where he can be safe.',\n",
       " 'Living with my Parents',\n",
       " 'in Family members home',\n",
       " 'Oakwood manor with friend',\n",
       " 'Currently sleeping on the floor and couches with my 2 children. Left abusive relationship. Working with Laura Blackwell from hope and safety',\n",
       " 'Camping',\n",
       " 'With my parents at 87716 Saltaire St Florence OR 97439',\n",
       " 'family friend',\n",
       " 'Looking Glass New Roads Transitional Housing Program',\n",
       " 'Staying on daughter couch',\n",
       " 'Just had my husband kick me out he was cheating and need',\n",
       " \"In one, basement room at a friend's house, at 408 Brae burn drive\",\n",
       " 'I am staying anywhere between cottage grove and Eugene springfield',\n",
       " 'Van',\n",
       " 'currently living in car and sometimes on parents on floor an in motels sometimes',\n",
       " 'We live at GuestHouse inn and suites',\n",
       " 'Oxford',\n",
       " \"I'm staying with my ex-partner (my son's mon), my partner is couch-surfing\",\n",
       " \"St. Vincent de Paul's Family Night Annex - 4060 W. Amazon. Dr. , Eugene, OR 97405\",\n",
       " \"I've been a guest of the Eugene Mission since June 9, 2022.\",\n",
       " 'Family/ August my child and I will be homeless.',\n",
       " 'Living in a friend home',\n",
       " \"Yes. Currently on the floor of random people's houses. Not knowing where to go each night with my 2 kids.\",\n",
       " 'Family members home/couch surfing',\n",
       " 'in the HUTS by the Mission',\n",
       " \"8th street 'sidewalk to curb' Eugene Oregon 97401\",\n",
       " 'i have a room at 1050 echo hollow road the conditions are abusive and progressing worse so i stay with friends and in car 5-6 nights a week',\n",
       " 'Treatment',\n",
       " '216 SW Denton Ave,\\nDallas, OR  97338',\n",
       " 'Staying at ShelterCare COVID Emergency Shelter',\n",
       " 'Yes, Couch surfing or in my car',\n",
       " 'live in car',\n",
       " 'With a friend in Springfield Oregon',\n",
       " 'shelter',\n",
       " 'Living in car',\n",
       " 'sisters house sleeping on couch',\n",
       " 'Recreational Vehicle on street.',\n",
       " 'Living with my parents',\n",
       " 'Family/ Starting in Aug',\n",
       " 'Car',\n",
       " 'Vehicle',\n",
       " 'With family member',\n",
       " 'We are living in a travel trailer on someone else’s land. Our land lord built his house, now we must find a new place to live.',\n",
       " 'Husband cheated and kicked me out of my home stay on family couch',\n",
       " 'I am currently staying in my car, between cottage grove and Eugene springfield',\n",
       " \"Living in a motel. The motel has been sold and we will need to be out at the end of October. Can't even afford other motels.\",\n",
       " 'living in car, sometimes with parents on floor sometimes motel rooms',\n",
       " 'In my car.',\n",
       " 'The HUTS by the Mission',\n",
       " 'Living in our van',\n",
       " 'Svdp night shlter',\n",
       " '338 highway 99 n Eugene Oregon 97402',\n",
       " 'Living in a family members home, shared bedroom with 1 adult 2 children',\n",
       " 'I am able to stay on the couch at a friends house. This is a temporary situation. I am disabled with a recent hip replacement and a toe amputated all with in the past 3 months. My wife put a restraining order on me when i was in the hospital and i became homeless.',\n",
       " 'living with my parents',\n",
       " '5425 saratoga eugene or 97405',\n",
       " \"Me and two kids sleeping on the floor of random people's houses. immediatly Left abusive relationship.\",\n",
       " 'Staying on daughters couch',\n",
       " 'In van',\n",
       " 'Currently we live at the address above but have to be out by August first and have no where to go with 5 kids please help me',\n",
       " 'Staying with my brothers friends family, at times my kids and I are kicked out because I can’t have a say when it comes to me putting food in the fridge/freezer for my kids and then it all gets eaten and my sons are left with nothing I been crying and struggling for over a year to get into a place with my kids and I’m about to give up I don’t know what else to do! Also my Children are my blood kids I don’t foster them!!',\n",
       " 'The huts by the Mission',\n",
       " 'living with family members',\n",
       " 'Currently staying in my car between cottage grove & eugene springfield',\n",
       " 'Friends basement room',\n",
       " 'Recreational Vehicle on Street',\n",
       " 'Kids and I left an abusive relationship. Sleeping on floors of random people. Homeless',\n",
       " 'moving out of our home at end of month will probally camp or be in hotel',\n",
       " 'In a residential treatment facility and my children are in foster care',\n",
       " 'Living in a friends home',\n",
       " 'Currently losing housing and going to stay with family',\n",
       " '4475 daisy st #79',\n",
       " 'Motel and friends couch',\n",
       " 'With my daughter',\n",
       " \"I'm currently staying with an ex, and my partner is couch-surfing\",\n",
       " 'Families home',\n",
       " 'living in car, on floor at parents house sometimes, sometimes motel rooms',\n",
       " 'Billy Jones - Sleeping on the streets',\n",
       " 'Husband cheated kids me and my kids out staying on couch at friends',\n",
       " \"My 2 children and I are currently sleeping floor of random people's houses. We are homeless, and have been for 6+ months.\",\n",
       " 'Couchsurfing',\n",
       " 'Recreational Vehicle on Street.',\n",
       " 'Losing housing and going to stay with friends and family.',\n",
       " 'i am currently in a motel witch is being torn down then back in my car',\n",
       " 'Currently staying in my car between cottage grove and Eugene springfield',\n",
       " 'Couch surfing and I am 6 months pregnant…',\n",
       " \"I'm currently staying with my ex, my partner is currently couch-surfing\",\n",
       " '338 highway 99 n Eugene or 97402',\n",
       " 'Husband cheated and kicked me and 2 kids out staying on couch at family',\n",
       " \"We are sleeping on the floor of random people's houses. Left abusive relationship. Have been homeless for over 6months\",\n",
       " 'Living in family members home, shared bedroom with 1 adult and 2 children',\n",
       " 'Transitional housing through Willamette family',\n",
       " 'im couch surfing between my sisters and family',\n",
       " 'Billy Jones - Homeless - Sleeping on Street',\n",
       " 'First Place Family Night Annex, St. Vincent de Paul- 4060 W. Amazon Dr. Eugene, OR 97405',\n",
       " \"8th -10th 'street to curb' Eugene Oregon 97401\",\n",
       " 'LIVING WITH FAMILY',\n",
       " 'wam fam',\n",
       " 'living in car, parents house on floor, motel rooms',\n",
       " 'car',\n",
       " \"In a residential treatment facility and my daughter's are in non relative foster care\",\n",
       " 'Couch surfing and I’m 6 months pregnant!',\n",
       " 'TRANSITIONAL',\n",
       " 'We are in our van in a friends driveway',\n",
       " 'Here and there mainly on the streets',\n",
       " 'Family home',\n",
       " 'SVDP night shelter',\n",
       " 'couchsufrin',\n",
       " 'Currently living in my car',\n",
       " 'Living in a friends home so I’m not living in my car or on the streets.',\n",
       " \"We are currently sleeping on the floors of random people's homes. Immediately left abusive relationship. Have been homeless for over 6 months\",\n",
       " 'living with parents',\n",
       " 'Living with my kids at my moms house in her camp trailer',\n",
       " 'Staying on friends couch due to husband cheating and kicking us out',\n",
       " 'The Guest House',\n",
       " 'Living in a motorhome on public property',\n",
       " 'living in car, on parents floor, hotel rooms',\n",
       " 'Billy Jones - Homeless sleeping on streets',\n",
       " 'Living with friends',\n",
       " 'Couch surfing !!! I’m 6 months pregnant too',\n",
       " 'I live with my grandmother',\n",
       " 'Residential treatment facility and my children are in non relative foster care',\n",
       " 'Recreational Vehicle on the Street.',\n",
       " 'Living on the streets mainly or couch surfing when able to',\n",
       " 'I stay in my car',\n",
       " 'Currently living in my Dad’s home who passed away in May of 2021, with his Estate now being sold soon.  I was asked by the Executor Of The Estate to find another place to live.',\n",
       " 'Currently at community supported shelters safe site',\n",
       " 'Sponsors 338 highway 99 n \\nEugene Oregon 97402',\n",
       " 'St Vincent depaul family first annex',\n",
       " 'couch',\n",
       " 'Husband cheated kicked me and 2 kids out couch surfing',\n",
       " 'Billy Jones - Homeless living on streets',\n",
       " 'Currently homeless sleeping on the floor of strangers homes. Have been doing this for 6+months due to leaving abusive relationship',\n",
       " 'We are sleeping in a van in our friends drive way',\n",
       " 'couch surfing',\n",
       " 'Switching between my parents and friends houses with my son for the last few years. Currently at 3381 Southview Dr. Eugene, OR 97405',\n",
       " 'Transitional housing through Willamette family houseing',\n",
       " 'Couch surfing i am a single mom 6 months pregnant',\n",
       " 'Streets or couch surfing when can',\n",
       " 'Motels friends couches',\n",
       " 'I live in a bedroom in a hostile household.  My, “landlord”, also resides in the home and is verbally abusive.  He is an alcoholic and when under the influence is rude, threatening and obnoxious.  He walks into my bedroom knocking as he is walking in or has just walked in.  He will corner me until I answer whatever question he has.  I try to avoid him and stay in my room, which is not a safe place.  He has entered my room hen I am not home.  There wasn’t any kind of agreement or rules gone over when I moved in so he makes up rules when he feels like it.  When my daughter unexpectedly passed away he complained I was disturbing him at night because I was crying loudly.  Horrible man.  I have had boxes packed for months hoping for a miracle to happen and I can move.',\n",
       " 'living with grandmother',\n",
       " 'Roosevelt Safe Spot',\n",
       " 'with Family in there home',\n",
       " \"10th 'sidewalk to curb' Eugene Oregon 97401\",\n",
       " 'Streets mainly or couch surf when allowed',\n",
       " 'Yes, sleeping on the floors with my children due to leaving a abusive relationship 6months ago.',\n",
       " 'living on floor at parents house, in car, motel rooms',\n",
       " 'My vehicle',\n",
       " 'Residential treatment facility and my girls are in non relative foster care',\n",
       " 'Living in a friends home so I don’t have to sleep in my car or on the streets with my kids.',\n",
       " 'Couch surfing, working with looking glass new roads',\n",
       " 'Sisters house sleeping on couch',\n",
       " 'my grandmother',\n",
       " 'We live in a van in our friends driveway',\n",
       " 'Living in a motel.  The motel was sold & we will have to be out at the end of October.',\n",
       " 'Looking Glass New Roads Transitional Housing',\n",
       " 'Vehicles and couches',\n",
       " 'Shelly hatfield',\n",
       " 'Kids and I are sleeping on the floor of strangers homes due to leaving abusive relationship 6+months ago',\n",
       " \"I've been a guest at Eugene Mission since June 9, 2022.\",\n",
       " 'Billy Jones - Homeless Living on streets',\n",
       " 'Couch surfing between my parents and friends houses with my kid for the last few years. Currently at 3381 Southview Dr. Eugene, OR 97405',\n",
       " 'In a truck',\n",
       " 'Transitional houseing',\n",
       " 'Guest House 1057 Patterson St. Eugene, OR 97401',\n",
       " 'Motel but they are diminishing the motel soon so my car is were I was before here so going back if nothing happens',\n",
       " 'living in car, at parents on the floor, motel rooms',\n",
       " 'My husband cheated and kids my and my children out staying on family couch',\n",
       " 'Kids and I left abusive relationship. Homeless',\n",
       " 'with my grandmother, can’t currently afford rent',\n",
       " \"10th street 'sidewalk to curb' Eugene Oregon 97401\",\n",
       " 'With a friend',\n",
       " \"Living in a friend's empty room\",\n",
       " 'Living In my car',\n",
       " 'Homeless with two kids due to leaving abusive relationship',\n",
       " 'brothers are both homeless, staying with me until we finalize gaurdianship papers with me offically',\n",
       " 'Couch surfing between my parents and friends for the last few years with my son. Currently at 3381 Southview Dr, Eugene, OR 97405',\n",
       " 'On the streets or couch surfing when able',\n",
       " 'Living in a friends home so I don’t live in my car or streets with my kids',\n",
       " 'Yes we are currently staying at Shane’s parents home couch surfing',\n",
       " '529 Antelope Way Eugene Or 97401 couch surfing, car',\n",
       " 'river',\n",
       " 'in a shed \"dry cabin\" on a friends property',\n",
       " 'Couch surfing, street',\n",
       " 'living in car , parents house on floor, motel rooms',\n",
       " 'brothers are both homeless, do not have their ssn number available. working towards gaurdianship/custody of them.',\n",
       " '1252 L street',\n",
       " 'Wilammette',\n",
       " 'Sleeping on floors of strangers houses with 2 kids, left abusive relationship 6months ago',\n",
       " 'Motel but they are demo them soon so back in my car',\n",
       " 'Billy Jones - Homeless - living on streets',\n",
       " 'Living between home with family and friends',\n",
       " 'Husband cheated kicked me out with two kids staying on a couch',\n",
       " 'Son house',\n",
       " 'Yes, we are in Cottage Grove',\n",
       " 'brothers are both homeless and staying with me. I do not have their ssn number available. Working towards gaurdianship/custody of them.',\n",
       " 'Homeless with 2 kids, left abusive relationship',\n",
       " 'Living in the streets or couch surfing when able',\n",
       " '529 Antelope Way couch surfing, car',\n",
       " \"I've been a resident of Eugene Mission since June 9, 2022.\",\n",
       " 'Streets or couch surf when allowed',\n",
       " 'couch curfing',\n",
       " 'St Vincent depaul family first center',\n",
       " 'Kevyn Smith',\n",
       " 'Stays at ShelterCare shelter at 969 HWY 99N Eugene.',\n",
       " 'Living between family and friends',\n",
       " 'Conestoga Hut',\n",
       " 'Couch surfing between my parents and friends houses for the past few years with my son. Currently at 3381 Southview Dr. Eugene, OR 97405',\n",
       " 'living in car, parents house on the floor, motel rooms',\n",
       " \"I'm currently staying with my ex, my partner is couch surfing.\",\n",
       " 'Guest  House Eugene',\n",
       " 'Mainly on the streets or couch surf when allowed',\n",
       " 'Currently living in the street.',\n",
       " 'Husband cheated and kicked me out and two kids staying on family couch',\n",
       " \"Chasina Miller and Joseph Work are living in Joseph P Work parents 22 ft travel trailer. My Daughter's a currently staying with My mother Tanya k Hill there Grandmother and there Father Robert Belanger in springfield..So they can attend school and sports . I Chasina Miller and co / head of household of 14 years Joseph P Work live in Cottage Grove. If I can be honest I'm grateful cause it a little roof over my head but Joesph parents are old and set in there own way. It makes so hard for me to have my Daughter's with me . They can't stay over night here with me. I got go into springfield and stay at my mom which she only has 1 bedroom and there father Robert Belanger I visit when he away cause we had bad separation . It was 7 year Abusive relationship. Just now he in counseling he ask if i can join family group 1 time  a month . Relationship finally getting good. Thanks to counseling. It would God send to finaly have that home I can have my Daughter's with me . It would be a dream come true to not depend on family to help me spend time with them. All they want is for mommy to have a place they can have home feel more secure that they have me around not going any ware. I so grateful for home for good . For this opportunity it giving me that chance I felt worthless I fell hard times and I'm grateful more then any one could ever even know. Ihave hope something a chance that makes life good again. i see light at end of the tunnel\",\n",
       " 'Couch surfing,  street',\n",
       " \"Son's house\",\n",
       " 'Mainly on the streets and couch surf when I can',\n",
       " 'living in care, parents floor and motel rooms',\n",
       " 'living in a shed \"Dry cabin\" on a friends property',\n",
       " 'Living on my friends couch',\n",
       " 'Cristafor, Bouncing back an forth between friends and family',\n",
       " 'On the street',\n",
       " 'We are living in a van in a friends drive way',\n",
       " \"A woman's house in a bedroom but wants us gone.\",\n",
       " 'no',\n",
       " \"10th street 'curb to sidewalk ' Eugene Oregon 97401\",\n",
       " 'On the streets mainly and couch surf when I’m allowed',\n",
       " 'Couchsurfing, streets',\n",
       " 'I am currently living in my truck.',\n",
       " 'Sponsors 338 highway 99 n\\nEugene Oregon',\n",
       " 'First Place Night Annex, St. Vincent de Paul - 4060 W. Amazon Dr., Eugene, OR 97405',\n",
       " 'Bridgette is living with friend until 7/27/ when I have to be out. Kimberly is with grandma',\n",
       " \"I've been a guest of Eugene Mission since June 9, 2022.\",\n",
       " 'living in car, parents floor, motels',\n",
       " 'St Vincent depaul first place family annex',\n",
       " 'Guest House Eugene',\n",
       " 'Staying at ShelterCare COVID Emergency Shelter at 969 HWY 99N in Eugene.',\n",
       " 'Bridges on Broadway',\n",
       " 'Family Home',\n",
       " 'Between family and friends',\n",
       " 'I am living in my truck.  :(',\n",
       " 'Recreational Vehicle on the street.',\n",
       " 'Emergency Housing',\n",
       " 'Couchsurfing, Straits',\n",
       " 'Couch, sometimes friends trailer',\n",
       " 'living in car, parents floor, motel',\n",
       " 'On the streets mainly or couch surf when allowed',\n",
       " '1190 W 6th Ave',\n",
       " \"My son's house\",\n",
       " 'At the mission in Eugene',\n",
       " \"Street 10th street 'curb to sidewalk' Eugene Oregon 97401\",\n",
       " '928 Birch Ave, Cottage Grove, OR, 97424.\\nA family members home, as I was unable to find housing that I could afford prior to the lease on my apartment ending. Currently trying to get another apartment, once one opens that I can afford.',\n",
       " 'Live in motel. Motel will be closed at the end of October.',\n",
       " 'In a car right now',\n",
       " 'Streets, Couchsurfing',\n",
       " '4651 Royal Ave. Eugene, Oregon 97402; Transitional housing.  I will be put out when they sell there house.',\n",
       " 'Side of the road in my travel trailer with my son no electric',\n",
       " \"A woman's house slash bedroom wants us to leave\",\n",
       " 'Living temporarily with family.',\n",
       " 'Vet LIFT Grant and per diem transitional housing program',\n",
       " 'Hazel R. is housed (renting) but imminently losing housing due to loss of income; Ashley Y. is couch surfing / living temporarily with friends',\n",
       " 'First Place Family Night Annex, St. Vincent de Paul - 4060 W. Amazon Dr., Eugene, OR 97405',\n",
       " 'Residing in shelter',\n",
       " 'living in a shed \"dry cabin\" on a friends property',\n",
       " '1508 W Fairview Dr, Springfield.  OR 97477',\n",
       " '121 E Hilliard Lane Eugene Oregon 97404',\n",
       " 'with a couple of friends',\n",
       " 'Bridges On Broadway',\n",
       " 'The home we have rented for 3 years is sold we have a 90 day notice to move',\n",
       " 'Couch surfing between parents and friends for the last few years with my son. Currently at 3381 Southview Dr. Eugene, OR 97405',\n",
       " 'Friends Carport.',\n",
       " \"On a couch in the living room of someone's house we met. Someone who is also conducting domestic violence towards me on a regular basis,  and I am in need of fleeing from the situation for the sake of myself and my children.\",\n",
       " 'with my grandma, I can’t currently afford rent for myself',\n",
       " 'Friends couch, sometimes trailer',\n",
       " '529 Antelope Way',\n",
       " 'Staying at a friends',\n",
       " 'Side of the road in car',\n",
       " '444 South 14th Street Cottage Grove Oregon 97424',\n",
       " 'Staying with my parents and or friends until we get into a unit',\n",
       " 'We have a 90 day notice to move the house we rent is sold',\n",
       " 'Friends couch',\n",
       " 'Transitional Housing',\n",
       " 'Live in a motel. Motel has been sold & will close at the end of October.',\n",
       " 'Between friends and family',\n",
       " 'currently living with family',\n",
       " 'House we rent is sold 90 days to move',\n",
       " '928 Birch Ave, Cottage Grove, OR, 97424.\\nA family members home, due to being unable to find an apartment I could afford prior to my lease on my previous apartment ending. Currently trying to get into an apartment I can afford.',\n",
       " 'Sleeping with kids in random homes each night for the past 6months. Homeless because left abusive relationship',\n",
       " 'Side of road with my son no electric',\n",
       " 'i’m living at my grandmas, I can’t currently afford my own place',\n",
       " '90 day notice to move the house we rent sold',\n",
       " 'living in a shed \"dry cabin\" on a friends Property',\n",
       " 'tranistional housing',\n",
       " 'Motel. Motel will close at end of October.',\n",
       " 'Yes, 2 kids homeless for 6 months. Sleeping on floors of strangers due to leaving abusive relationship',\n",
       " 'I am staying with my Dad.',\n",
       " 'Family members property',\n",
       " 'oxford',\n",
       " 'House we rent sold 90 day notice to move',\n",
       " '928 Birch Ave, Cottage Grove, OR.\\nA family members home, as I was unable to find an apartment I could afford prior to the lease ending on my previous apartment. Currently looking for an apartment I can afford.',\n",
       " 'Friends Carport/Couchsurfing.',\n",
       " \"Both living in a woman's house and wants us gone\",\n",
       " 'staying with friends',\n",
       " 'Couch surfing/car',\n",
       " 'Sleeping on the floor of strangers houses with 2 kids due to leaving abusive relationship for 6+ months',\n",
       " '90 day notice to move house we rent sold',\n",
       " 'Staying with family',\n",
       " 'First place family shelter annex  st Vincent depaul',\n",
       " '850 e quincy ave',\n",
       " 'My spouse and I have been living out of our truck for the past 2 months our kiddo is with my sister and we are trying to find housing before the school starts.',\n",
       " 'I am currently Staying with my mom and Have my kids with me part time.',\n",
       " 'Staying in a car',\n",
       " 'In a tent',\n",
       " 'Eugene',\n",
       " \"Sleeping on the floor of random people's houses for over 6months. Due to leaving abusive relationship\",\n",
       " 'yes',\n",
       " 'friends carport/couch surfing',\n",
       " 'In a car',\n",
       " 'Emergency Housing w/ St Vinny’s',\n",
       " \"Both living in a bedroom in a woman's house\",\n",
       " 'couch surfing/ car',\n",
       " 'Comfort Suites with VetLift',\n",
       " \"Currently sleeping on the floor of random people's houses due to leaving abusive relationship 6months ago\",\n",
       " 'With friend at 3856 polar ave. Eugene',\n",
       " 'I live in a homeless youth shelter temporarily',\n",
       " \"Grandmother's temporary\",\n",
       " 'Bridges on  broadway',\n",
       " 'friends carport/couchsurfing',\n",
       " 'Roomkey Program at 66 Motel through St. Vincent de Paul of Lane County Society',\n",
       " 'I am unhoused.',\n",
       " 'Living in a friends house so that I’m not living in my car or streets with my kids',\n",
       " '90 day to move house we rent sold',\n",
       " \"Currently sleeping on the floor of random people's houses due to leaving abusive relationship 6months ago with my 2 kids\",\n",
       " 'Mothers house',\n",
       " 'Couch surfing/ car',\n",
       " '90 days to move house we rent sold',\n",
       " \"between multiple locations, friends in Brookings Oregon at a friends, friends in Nevada and California I must stay our of the heat in smoke right now that is the reason for having to move around \\npermanently disabled, 10 plus years autoimmune plus others, I'd prefer downstairs it is not a requirement  vocational rehab will hopefully be starting once I find housing\",\n",
       " 'Tent or car',\n",
       " \"Street 10th street 'sidewalk to curb' Eugene Oregon 97401\",\n",
       " 'Sleeping in a car',\n",
       " 'I am living temperarly in a recovery home.',\n",
       " \"Both of us are living in a small bedroom in a woman's house and wants us gone\",\n",
       " \"Grandmother's temporarily\",\n",
       " 'Project Roomkey',\n",
       " 'I am living in my truck.  :(  It would also be nice to have an extra bedroom so my two boys can come visit me.',\n",
       " 'First place family center annex st Vincent depaul',\n",
       " 'My three children and I are living at a freinds house temporarily.\\nWe are sharing a bedroom. My freind is allowing us to pay $450 a month to stay here for a few more months. When they say our time is up we will be couch surfing.',\n",
       " 'staying in a car',\n",
       " 'Temporary Shelter',\n",
       " 'My kids and I are homeless for about 6 months now. Sleeping on strangers couches or floors due to leaving abusive relationship',\n",
       " 'currently homeless living in my car',\n",
       " 'with family',\n",
       " 'staying with an Ex',\n",
       " 'Living with Mother temporarily',\n",
       " 'I am couch surfing, between a co workers and the shelter',\n",
       " 'Living in friend or family',\n",
       " 'I believe homelessness status is retained when in ShelterCare Cascades Rapid Rehousing Program.',\n",
       " 'My 2 childeren and I are homeless and have been for 6months. Currently we are sleeping on the floor of strangers home each night. Left abusive relationship',\n",
       " '90 days to move the house we rent sold',\n",
       " '3330 kinsrow avenue apt 226 Eugene oregon 97401',\n",
       " 'In my car',\n",
       " 'in my car',\n",
       " \"I'm living with a family friend, but need my own place!!\",\n",
       " \"In our camper where ever we can find a place that we don't get told to move\",\n",
       " 'Viviendo en casa de amigo o familiar',\n",
       " 'friends home',\n",
       " 'I am transitional housing at the moment I stay at my friends house and move when I have to',\n",
       " 'Car/tent, sexual assault victim',\n",
       " 'with friends',\n",
       " 'homeless since march when rental sold and have been living in my car',\n",
       " 'staying with ex',\n",
       " 'living in a shed \"dry cabin\" on a friend\\'s property',\n",
       " '90 days to move house we rent is sold',\n",
       " 'Willamette family treatment center for women',\n",
       " 'couch surfing, friends and family.',\n",
       " 'I live with a family friend.',\n",
       " 'project roomkey',\n",
       " \"Both living in a bedroom in a woman's house.\",\n",
       " 'Bridges on \\nbroadway',\n",
       " 'Couch surfing/ Car',\n",
       " \"I live in my Father's home.\",\n",
       " 'Living with friend and family',\n",
       " '3330 kinsrow avenue apt 226 eugene oregon 97401',\n",
       " \"I'm living with a family friend.\",\n",
       " 'in a car',\n",
       " 'living between friend and family members homes',\n",
       " 'In my vehicle or a family/friends couch',\n",
       " 'Living with an Ex',\n",
       " 'Living at above address in a tent',\n",
       " 'I am about to be homeless when i get to Lane county on August 29th. i did not  plan this move very well and now i am stuck.',\n",
       " 'Sponsor 338 highway 99 n Eugene Oregon \\n97402',\n",
       " 'Living in a friend or family',\n",
       " 'Sponsors Inc. transitional housing',\n",
       " 'living in a shed \"dry cabin\" n a friend\\'s property',\n",
       " 'friends/couch',\n",
       " 'Im living with a family friend.',\n",
       " 'Sponsors transitional housing',\n",
       " 'SUV on 5th Avenue',\n",
       " 'currently homeless since March 2022 and currently living in my car',\n",
       " 'living in a tent at the above address',\n",
       " 'Leaving washington didnt plan very well. i ported my voucher now i am homeless as of 8/29/22',\n",
       " \"Living in a substandard trailer at family member's home\",\n",
       " 'living with an ex',\n",
       " 'Staying with a friend at the address on file',\n",
       " 'Temp shelter',\n",
       " 'Homeless since March 2022 and currently living in my car.',\n",
       " 'couches',\n",
       " 'Homeless since March 2022 and currently living in my car',\n",
       " 'Staying with friend at address on file',\n",
       " \"Niece is letting me stay in a room so I'm not on the street bc health needs\",\n",
       " 'Currently living in motel with help from Oregon Emergency Rental Assistance Program, but I will most likely not receive additional rental assistance from them, so I am in danger of being evicted soon.  I am 61.  I will not be 62 until this coming April.',\n",
       " 'Temporarily staying with family at there home',\n",
       " 'living with ex',\n",
       " 'living in camp trailer',\n",
       " 'I’m living in my Dad’s home, who passed away in May of 2021.  His home will soon be sold.  I was asked by the Executor of The Estate to find another place to live as soon as possible.',\n",
       " 'My son and I are currently living in a family members home.',\n",
       " \"On family's couches\",\n",
       " 'Currently homeless since Mar 2022 a d currently living in my car',\n",
       " 'Yes as of August 29th 2022. i ported my voucher from king county washington to lane county wasnt thinking ahead. its my fault.',\n",
       " 'With gf oakwood manor',\n",
       " 'Unhoused on 8/20/2022',\n",
       " 'With a friend at the moment',\n",
       " 'by the river',\n",
       " \"Couch Surfing on Niece's couch\",\n",
       " 'Eugene mission',\n",
       " 'Melanie & Corwyn - First Place Family Night Annex\\nJoshua- Emergency Housing (Hotel) St. Vincent de Paul',\n",
       " 'Staying with a friend at address on file',\n",
       " 'Oakwood manor with gf',\n",
       " 'Sober Living',\n",
       " 'Couch Surfing',\n",
       " 'Sleeping in vegine and/or family-friends couches',\n",
       " 'friends/vouch',\n",
       " 'sisters sleeping on couch',\n",
       " 'Homeless since Mar 2022 and currently living in my car',\n",
       " 'son, hearing impaired',\n",
       " 'Roomkey Program at 66 Motel with St. Vincent de Paul of Lane County Society',\n",
       " 'Shelter',\n",
       " 'Streets',\n",
       " 'Project room key',\n",
       " 'River',\n",
       " 'Left Springfield due to domestic violence am currently sharing a room with my kids in Medford staying with a friend',\n",
       " 'In my car, friends/family couches',\n",
       " 'I am currently staying with my Mom.',\n",
       " 'living at the guess house inn until i can find a place to live in or until they terrier it down sometime this year',\n",
       " 'I am living on the street',\n",
       " 'vehicles and couches',\n",
       " 'yes, in my car or on a friends couch.',\n",
       " 'Friend',\n",
       " '3330 kinsrow avenue apt 226',\n",
       " 'homeless and currently living in my car',\n",
       " 'Travel Trailer',\n",
       " 'I am living on the street in a tent',\n",
       " 'Been staying between grandparents and other family members',\n",
       " 'We are currently living with a family member in San Antonio, Texas. We are trying to get into housing in Oregon while I attend University of Oregon.',\n",
       " 'My car since december and with friends off and on',\n",
       " 'yes, living in between friends and families couches or in my car.',\n",
       " '1550 Kellogg RD',\n",
       " 'Living in a room at a friends in Medford with my kids homeless due to leaving a domestic violence. Would like to move home to lane county',\n",
       " 'Street',\n",
       " 'I am living in a tent on the street',\n",
       " 'Living with family member who is moving and i cant go',\n",
       " 'truck',\n",
       " \"I've been a guest at Eugene Mission since March 9, 2022.\",\n",
       " '3330 kinsrow avenue appt 226 eugene oregon 97401',\n",
       " \"In a family member's home\",\n",
       " 'couch surfing at a friends in Eugene',\n",
       " 'We were staying with mother in law, until she kicked us out. We are sleeping in our car and camping.',\n",
       " 'doing housesitting gigs along the west coast.',\n",
       " 'Shelter 1190 ^th ave',\n",
       " 'My son and I are currently living at a family members home.',\n",
       " 'Currently sharing a room with my kids with a friend in Medford left lane county due to a domestic violence. Would like to come back to lane county',\n",
       " 'trailer at sisters home',\n",
       " \"I've been a guest of Eugene Mission since March 9, 20222.\",\n",
       " 'Project roomkey',\n",
       " 'Living with family member that is moving and i cant go',\n",
       " 'I am currently in a program through looking glass at new roads. They provide me a place to sleep while helping me find housing.',\n",
       " 'SUV - 5th Avenue, Eugene, OR',\n",
       " \"a  friend's couch\",\n",
       " '1186 55th Pl. Springfield Oregon',\n",
       " 'Devon Kent - couch surf and sleeps in car\\nSarah May, Kairi Kent, Maverick Kent - soon to be homeless after safe haven law expires',\n",
       " 'living in a shed on a friends property',\n",
       " 'family',\n",
       " 'Staying with friends',\n",
       " 'Truck',\n",
       " 'We are living with a family member in San Antonio, Texas. We are relocating to Eugene, Oregon so I can attend college and University of Oregon.',\n",
       " '1190 SW 6th Eugene',\n",
       " 'a friends couch',\n",
       " 'Florence',\n",
       " 'Emergency Shelter.',\n",
       " 'With family on couchs',\n",
       " \"I've been a guest of Eugene Mission since March 9, 2022.\",\n",
       " 'Devon Kent - couch surfing and living out of car\\nSarah May, Kairi Kent, Maverick Kent - soon to be homeless after the safe haven law expires',\n",
       " \"I'm living on campus where I'm doing my internship. I would consider it transitional housing\",\n",
       " 'I am doing housesitting gigs around the PNW.',\n",
       " 'Hazel R. is housed (renting), but imminently losing housing due to loss of income; Ashley Y. is couch surfing / temporarily staying with friends',\n",
       " '1190 SW 6th  Eugene Shelter',\n",
       " \"Living in a friend's home.\",\n",
       " 'in my van',\n",
       " 'project room key',\n",
       " 'Currently sharing a room with my kids in Medford. Left lane county due to a domestic violence. Would like to come home to lane county',\n",
       " \"My RV at a friend's\",\n",
       " 'hwy 99n. st. vincent dfe Paul',\n",
       " \"Living in a friend's home\",\n",
       " 'Parents house',\n",
       " 'With friends',\n",
       " 'Doing housesitting gigs around PNW.',\n",
       " 'CSS Safe Spot',\n",
       " 'couch surfing at a friends',\n",
       " 'Sober living',\n",
       " 'I am currently living outside and couch surfing between friends houses',\n",
       " 'Family',\n",
       " 'We have been living out of our truck and need a place over our heads before school starts for our 6 year old kiddo.',\n",
       " 'Doing housesitting gigs around the PNW.',\n",
       " 'Family couchs',\n",
       " 'Parents',\n",
       " 'couch surfing and getting mail at families',\n",
       " 'Living in RV',\n",
       " 'Roomkey program at Motel 66',\n",
       " 'Our truck. We need a roof over our head before school starts',\n",
       " 'I’m couch surfing and stayinn outside.',\n",
       " 'staying with family temporally',\n",
       " 'eugene',\n",
       " 'My son and I are currently living in a family members home',\n",
       " 'living with an ex need own place',\n",
       " 'We are living out of our truck and need a roof over our head before school starts for our kiddo',\n",
       " 'I’m couch surfing and staying outside',\n",
       " 'currently living with a friend',\n",
       " 'We have been staying with friends off and on for the last almost 2 years',\n",
       " 'With friends in their garage',\n",
       " 'Staying with mom but she may be moving soon and i cant go with',\n",
       " 'CSS Safe Site',\n",
       " 'Roomkey Project Motel 66',\n",
       " 'Transition Housing',\n",
       " 'Yes, we have been staying with friends off and on for the last 2 years',\n",
       " 'I’m sleeping outside and couch surfing',\n",
       " \"Living in substandard trailer at sister's house\",\n",
       " 'living with brother',\n",
       " 'Temporary shelter',\n",
       " 'staying with Daughter',\n",
       " 'I sleep on my friends couch',\n",
       " 'friends homes',\n",
       " 'Currently staying with my mom but she wants me to be out asap.',\n",
       " 'Family couches',\n",
       " 'Yes, we have been staying with friends off and on for the last almost 2 years',\n",
       " 'staying with family member in living room',\n",
       " 'Hotel and car',\n",
       " 'Staying with my mother',\n",
       " 'Doing housesitting around the PNW',\n",
       " 'In mothers house. Being evicted Aug. 1st. With my 12 yo daughter',\n",
       " 'Will be soon',\n",
       " 'Hotel paid through Flex funds',\n",
       " 'Housesitting in Tucson, AZ',\n",
       " 'Project Room Key',\n",
       " 'We are living out of our truck and need a roof over our head before school starts',\n",
       " 'Temporarily living with family',\n",
       " 'couch surfing at friends',\n",
       " 'friends house',\n",
       " 'We are living out of our truck and need a roof over our heads before school starts',\n",
       " 'Hotel paid through Flex Funds',\n",
       " 'Temporally living with family',\n",
       " 'Friends friends',\n",
       " 'My son and I are couch surfing and sometimes stay with his fathers family when possible',\n",
       " 'Homesless bouncing from my car to family’s.',\n",
       " 'live with brother',\n",
       " 'We are living out of our truck and need a roof over our heads before school starts for our kiddo',\n",
       " 'Yes, me and my kids have been homeless and staying with friends off and on for almost the last 2 years',\n",
       " 'in a motel',\n",
       " 'family members home',\n",
       " 'Temporary shelter fire victim',\n",
       " 'Living with my mother',\n",
       " 'We live in a travel trailer on someone else’s land. The landlord built his house and now we must find another place to live.',\n",
       " 'Hotel via Flex Funds',\n",
       " 'Yes, we have been without a home and staying with friends and family off and on for almost the last 2 years',\n",
       " 'My car',\n",
       " \"Substandard trailer at sisters' house\",\n",
       " 'Living at a friends house',\n",
       " 'Rooomkey Project Motel 66',\n",
       " 'a hut behind a church',\n",
       " 'couch durfing',\n",
       " 'CSS safe Site',\n",
       " 'Yes, we have been homeless and staying with friends and family off and on for the last couple years',\n",
       " 'Temporary housing',\n",
       " 'Living at my moms. Not a good environment. Being evicted Aug. 1st with my 12 yo daughter',\n",
       " 'Roomkey Project/SVDP',\n",
       " 'Living between families homes',\n",
       " 'Temporary Shelter 1190 W 6th Ave in Eugene',\n",
       " 'Moving around. Camping',\n",
       " 'Melanie & Corwyn - First Place Family Night Annex, St. Vincent de Paul - 4060 W. Amazon Dr. 97405\\nJoshua - Emergency Housing Hotel Room through St. Vincent de Paul',\n",
       " 'Currently living in a transition house with in Northern California, Need to be back in Oregon close to family, that can help me when needed',\n",
       " 'Temporary shelter for wildfire victim',\n",
       " 'Temporary housing wildfire victim',\n",
       " 'Living at a friends',\n",
       " 'Our family lives in a travel trailer on someone else’s land. He finished his house and is moving in, so we must find another place to live.',\n",
       " 'I’ve been staying in my car, also from time to time a friend will let me stay on the couch for a day or two',\n",
       " 'Yes, me and my kids have been without a home for the last 2 years',\n",
       " \"My 12 yo daughter and I are being evicted from a bad environment at my mother's house August 1st\",\n",
       " 'Temp shelter for Wild fire victims',\n",
       " 'Living in our car as of Aug 1st',\n",
       " \"We are all living in my mother's basement\",\n",
       " 'Temp shelter for wild fire victims',\n",
       " 'Truck on W 13th avenue',\n",
       " 'Roosevelt Safe Spot\\nEugene OR',\n",
       " 'We are living in a family members home. We are also fighting for custody of our 2 children from CPS.',\n",
       " 'Temp shelter Wild fire victim',\n",
       " 'Roomkey Project/ Motel 66',\n",
       " '1550 q street',\n",
       " 'living at a friends house',\n",
       " \"I'm living on the street occasionally staying at my moms\",\n",
       " \"My 12 yo daughter and I are being evicted Aug 1st from my mother's house, in a bad environment\",\n",
       " '520 Harlow Springfield',\n",
       " 'We are living with family and I have a CPS case of which I am trying to gain back custody of my 2 children.',\n",
       " 'Tent',\n",
       " 'ON THE STREET SOMETIMES EMERGENCY SHELTER',\n",
       " 'Rv in a park',\n",
       " 'Melanie & Corwyn - First Place Family Night Annex through St. Vincent de Paul\\nJoshua - Emergency Housing Hotel Room through St. Vincent de Paul',\n",
       " 'Currently living in motel with help from Oregon Emergency Rental\\nAssistance Program, but I will most likely not receive additional rental\\nassistance from them, so I am in danger of being evicted soon. I am 61. I\\nwill not be 62 until this coming April.  I am not in good health and will most likely not survive if forced to live on the streets.',\n",
       " 'Shelter in San Ysidro.',\n",
       " 'staying with a family member',\n",
       " \"Tyler's Parents\",\n",
       " '1190 W 6th Eugene',\n",
       " 'yes, living in between my car and couch surfing.',\n",
       " 'living with a friends',\n",
       " 'Temporary room rental.',\n",
       " 'living in RV',\n",
       " 'Currently staying in a garage.',\n",
       " 'living with a friend',\n",
       " 'Living with family /friend',\n",
       " 'Currently living in a garage',\n",
       " 'We are living with family and I am fighting dhs to get my kids back',\n",
       " \"Currently living in motel with help from Oregon Emergency Rental\\nAssistance Program, but I will most likely not receive additional rental\\nassistance from them, so I am in danger of being evicted soon. I am 61. I\\nwill not be 62 until this coming April.  I am not in good health, and I will most likely not survive if I'm forced to live on the streets.\",\n",
       " 'Emergency housing w/ St Vinny’s',\n",
       " 'willamette family',\n",
       " \"520 Harlow Home Towne Studios, I am trying to find a place suitable so I can ask for shared custody. I haven't seen my 2 kids in over 2 years that why they are not listed on here as residence, but I can't ask until I have somewhere suitable.\",\n",
       " 'Motel.  Motel will close at end of October.',\n",
       " 'I am living with family members who are unable to continue paying their mortgage and who must sell their house before they can buy another which will lead to a period of displacement over an undefined period of time.',\n",
       " \"Mom's house occasionally, couch surfing between places\",\n",
       " 'I’m currently living with a friend and looking for employment.',\n",
       " 'Family friends apartment',\n",
       " '520 Harlow Home Towne Studios',\n",
       " 'I live at 410 Garfield and my dependent is living at Dusk 2 Drawn',\n",
       " 'My daughter and I are currently couch surfing in my friends living room',\n",
       " 'Transitional housing Green Haus through Shared housing group in Dallas tx',\n",
       " \"Family member's home\",\n",
       " 'I am currently living with a family member who is unable to continue paying their mortgage and who will need to sell their home before they buy another one, leading to displacement over an undefined period of time.',\n",
       " 'Staying at a friends in one bedroom with my kids in Medford. Left lane county due to a domestic violence.',\n",
       " 'Emergency Housing with St Vinny’s',\n",
       " 'couch surfing and living in a trailer in Deer Island',\n",
       " 'We are currently living with family and I am fighting dhs to get custody of my kids',\n",
       " 'My daughter and I are currently living on my friends couch.',\n",
       " \"Tyler's Parwnts\",\n",
       " \"I'm currently living with my aunt in a trailer on her property.\",\n",
       " 'We are living with family and I am fighting dhs for custody of my children',\n",
       " 'I live in a shelter at 410 Garfield and my dependent is living in Dusk2Drawn',\n",
       " 'Staying in a room with all my kids at a friends in Medford. Left because of domestic violence. Would like to come home to lane county',\n",
       " 'My daughter and I are couch surfing at my friends house',\n",
       " 'Staying with family and fight dhs for my children back',\n",
       " '1293 jackson st Eugene or',\n",
       " 'Family members rv',\n",
       " 'My daughter and I have been homeless for 3 years now, lucky we have been able to crash on my friends couch',\n",
       " 'Currently living with a friend and looking for employment.',\n",
       " 'Old travel trailer in a park',\n",
       " 'We are staying with family and I am fighting dhs for custody of my children',\n",
       " 'living in car',\n",
       " 'I am living in a shelter at 410 Garfield and my dependent is at Dusk2Dawn',\n",
       " 'couch surfing, living in a trailer in Deer Island',\n",
       " '1190 ^th Eugene Or',\n",
       " 'Staying with family and fight dhs for custody of my children',\n",
       " \"Family member's rv\",\n",
       " 'couch surfing and living in trailer',\n",
       " 'staying with family member',\n",
       " 'I live in a shelter at 410 Garfield and my dependent is living at Dusk2Dawn',\n",
       " 'Living with a family friend in a spare bedroom',\n",
       " 'We are reliving with family and I am fighting dhs to get my kids back',\n",
       " 'Hotel then will be with my son.',\n",
       " 'couch surfing, living in trailer',\n",
       " 'My daughter and I are currently homeless, we are lucky enough to be able to stay on my friends couch',\n",
       " 'Living with family and I am fighting dhs to get my kids back',\n",
       " 'I am living in a shelter at 410 Garfield while my dependent is living at Dusk2Dawn',\n",
       " 'treatment',\n",
       " 'couch surfing and living in trailer on friends property',\n",
       " 'Living with friend',\n",
       " 'I am currently living at 410 Garfield while my dependent is living at Dusk2Dawn',\n",
       " 'In our truck with 3 small dogs 2 of them are service dogs and 1 cat who is fixed same with dogs all fixed',\n",
       " 'family members rv',\n",
       " '3330 kinsrowe avenue apt 226 Eugene oregon 97401',\n",
       " 'I am currently living in a shelter at 410 Garfield while my dependent is at Dusk2Dawn',\n",
       " 'Living with family and fighting dhs for custody of my kids',\n",
       " 'I am currently living at 410 Garfield while my dependent is at Dusk2Dawn',\n",
       " 'living in a friends trailer',\n",
       " 'I live on my moms couch',\n",
       " \"We are homeless for 3 months a year and live in a friend's home for the other 9 months in Florence, Or.\",\n",
       " 'I am currenty living in a shelter at 410 Garfield while my dependent living in Dusk2Dawn',\n",
       " 'In our van',\n",
       " 'As of the 21st of this month I am homeless. Living on the streets. Finding places that seem safe enough for me to wait out the night. Last night I slept down by the river.',\n",
       " 'I have lived in my van since december and stayed with friends.',\n",
       " 'couchsurfing and living in trailer',\n",
       " '1293 jackson st euegne or',\n",
       " \"I'm currently living in my vehicle which doesn't run & is parked on private property. I am sometimes able to sleep on a friends couch when I can come up with appropriate transportation.\",\n",
       " 'couch surfing, living in friend rv',\n",
       " 'Living in the back of our truck.',\n",
       " 'Living with family and I am currently fighting dhs to get my kids back',\n",
       " 'staying with a friend',\n",
       " 'couch surfing and living in friends rv',\n",
       " 'I live in an oxford recovery house',\n",
       " \"I'm currently sleeping in my vehicle that doesn't run , & I sometimes can stay on a friends couch.\",\n",
       " \"We are homeless for 3 months a year and live in a friend's home for 9 months in Florence, Or\",\n",
       " 'friends rv',\n",
       " '1293 jackson st eugene or',\n",
       " 'I have been in my car and with friends since december 2021',\n",
       " 'Couch surfing, stating in a tent',\n",
       " 'Hotel now then will be at my sons',\n",
       " 'living in friends rv',\n",
       " 'Staying with sister',\n",
       " 'family member rv',\n",
       " \"I'm currently sleeping in my broken down vehicle, & sometimes I can sleep on my friends couch.\",\n",
       " '560 n Danebo ave apt 4 Eugene or 97402',\n",
       " 'i have been living in my van since december in between staying with friends',\n",
       " \"We are homeless for 3 months a year and live in a friend's home for 9 months\",\n",
       " 'Staying at 969 HWY 99N in Eugene, ShelterCare COVID Emergency Shelter',\n",
       " 'We are living in our Truck',\n",
       " '3119 Braeman Village',\n",
       " 'living in friends RV',\n",
       " '560 N Danebo ave apt 4 Eugene or 97402',\n",
       " '1293 jackson st',\n",
       " 'Car, hotel',\n",
       " 'i have been living in my car since december in between staying with friends',\n",
       " \"We are homeless for 3 months a year and live in a friend's home for 9 months.\",\n",
       " 'SVdP Vet LIFT Grant and per diem housing for homeless veterans',\n",
       " \"I'm currently sleeping in my broken down vehicle & sometimes on my friends couch.\",\n",
       " 'Van on the street',\n",
       " 'Staying at ShelterCare COVID Emergency Shelter at 96 HWY 99N in Eugene.',\n",
       " 'couch surfing with friends',\n",
       " 'Sisters house',\n",
       " 'I have been living in my van and with friends since december',\n",
       " 'wf',\n",
       " \"I'm Currently Living in my vehicle which is undrivable. I also at times stay the night on my friends couch.\",\n",
       " 'Couch surfing/sleep in car',\n",
       " 'Couch surfing,and staying in a tent with my doggy',\n",
       " 'on the streets were ever a safe place it may be',\n",
       " 'Hotel now with son soon',\n",
       " 'With family members not under lease',\n",
       " \"I'm currently sleeping in my vehicle, & staying on my friends couch.\",\n",
       " 'Car hotel',\n",
       " 'Springfield Oregon',\n",
       " 'got a termination notice for the end of this week.',\n",
       " 'I am currently staying with my parents. Staying here is temporary.',\n",
       " '379 Springfield Oregon. Step-dads',\n",
       " 'Staying at Bridges on Broadway, COVID Emergency Shelter in Eugene.',\n",
       " 'living in SVDP housing; received a termination letter 7/15/22.',\n",
       " 'I`m sleeping on a couch at my sisters house.',\n",
       " 'I am currently staying with my parents. This is temporary.',\n",
       " 'Living in a camper',\n",
       " 'Staying at Bridges on Broadway in Eugene, COVID Emergency Shelter',\n",
       " 'Westmoreland Safe Spot Community, Conestoga Hut',\n",
       " 'Hotel and soon my son',\n",
       " 'living room of ex spouse.',\n",
       " 'staying with sister',\n",
       " \"Sister's apt when I can, sporadic hotels paid for by friends and family, or crashing on people's couches. I'm fleeing an abusive living environment\",\n",
       " 'I’m a trailer home in Walton on a friends property',\n",
       " \"Sister's apt when available, or sporadic motel 6 stays paid for by friends and family, or crashing on friend's couches when available.\",\n",
       " 'I am bouncing around between friends.  A couple days here, ccouple days theres',\n",
       " 'Family member',\n",
       " 'Hotel now and with my son soon.',\n",
       " '94426 Horton Rd Blachly, Oregon',\n",
       " 'Myself',\n",
       " \"I don't have a home. I'm currently residing in a nursing facility however that is time-limited.\",\n",
       " '310 Pitney Lane Junction City, Oregon 97448',\n",
       " 'Westmoreland Safe Spot Community',\n",
       " 'STAYING WITH MY ADULT DAUGHTER.',\n",
       " 'Hotel now and my son soon',\n",
       " \"I live in my daughter's home, renting a small room. This is a temporary situation, as she has asked me to leave.\",\n",
       " \"My landlord had me move out to make repairs, but are not making them. I began requesting May 2, moved out so they could repair, on June 26. Their failure to appear to actually be fixing it, leaves me in a homeless situation, couch surfing and living out of my truck. This is a contracted apartment at Redwood Apartments, with my section 8 voucher, where I have lived for 7 years. I never intended to move, but circumstances are looking bleak. I have always paid on time and followed the rules! I was employed until mid March, couldn't replace work yet, due to mold and water intrusion situation which started in May, until I could resolve that habitability issue. I desire to replace the stability I had previously experienced.\",\n",
       " 'Staying in and out of my storage unit',\n",
       " '94426 Horton Rd, Blachly OR',\n",
       " 'parks',\n",
       " 'friends/couch surfing',\n",
       " 'Hotel, car',\n",
       " '310 Pitney Lane, Junction City, Oregon 97448',\n",
       " 'noah is living with his grandma petra in prineville OR,hunter and finn are sleeping at there grandma tammys house in springfield, I sleep in my car most nights. i shower and some nights sleep at tammys home . but there is only room  for hunter and finn.during covid i got really sick and almost died my childeren went to visit there grandpa in vegas. after i got better i drove to vegas and the last hour of the 16 hour drive i became very tired fell asleep. i hit a pile of dirt and my car flew 200 feet when my car touched the ground it broke my back when igot home to attend my moms funeral i couldnt get in my house i was evicted with no notice and everything i owned was thrown away despite contacting the apartment owners. since then i have not been able to get a home and my boys and i have had to live seperated places. we are all tired and just want are family back together. theses last two have been the worst two years of my life.  I just want to have a stable home again so my boys and I can have there mom and this mom can sleep at night not worried and feeling like such a failure. I also lost my section 8 because i was suppose to respond to a letter that was sent . but due to covid there was no way i could have gotten any help or asked for a hearing because the housing office was closed to the public because of covid. It was so unfair and all of this happend during the no eviction stage of covid.',\n",
       " 'We are at Bridges of broadway',\n",
       " 'Oxford house',\n",
       " 'I currently live with my adult daughter, and she has asked me to leave.',\n",
       " 'park',\n",
       " 'transtional living',\n",
       " 'Hotel car',\n",
       " '310 Pitney Lane, Junction City Oregon 97448. Will be homeless as of August 1, 2022.',\n",
       " 'My son and I are currently staying with my parents. This is temporary.',\n",
       " '94426 Horton Rd Blachly OR',\n",
       " '310 Pitney Lane, Junction City, Oregon 97448. Will be homeless as of August 1, 2022.',\n",
       " 'With family off lease',\n",
       " 'I live with my adult daughter, and she has asked me to leave.',\n",
       " 'friends carport / couchsurfing',\n",
       " 'transitional',\n",
       " 'Staying at Care Givers home',\n",
       " 'tranistional',\n",
       " 'Bridges of broadway',\n",
       " \"At a friend's house\",\n",
       " 'I am living in a tent',\n",
       " 'Living with Care Giver',\n",
       " 'In my mini van',\n",
       " 'Car and hotel',\n",
       " 'On my daughters couch',\n",
       " 'Old Motorhome sitting on street',\n",
       " 'My child and I are moving out of our the apartment we share with another family, at the address listed on this application, in three days. We will be staying temporarily with friends in Eugene after that, starting 7/29',\n",
       " 'Kim Campbell  I stay at the guesthouse motel it is getting tore down soon and I will be back In my car tell I find somewhere',\n",
       " '94426 Horton Rd OR',\n",
       " 'Living in 5th wheel on moms property',\n",
       " 'Old Motorhome on side of the street',\n",
       " 'Conestoga hut camper',\n",
       " \"3 different places and in car\\n4719 calumet way Eugene Oregon 97404\\n209 S 51st place\\nSpringfield Oregon 97478\\n157 SE Pete's Ave \\nMyrtle creek Oregon 97457\",\n",
       " 'I stay at the guesthouse motel  it is getting tore down soon I only have my car',\n",
       " 'Conestoga Hut/CSS',\n",
       " 'Westmoreland Safe Spot Community, Community Supported Shelters',\n",
       " 'Living in 5th wheel',\n",
       " 'living in SVDP apartment, received termination notice on 7/15/22.',\n",
       " 'Living in truck',\n",
       " 'At a family members home',\n",
       " 'In a motel room nite inn',\n",
       " 'i have been homeless for almost 2 years because of covid . i just want to have ahome so my boys and i can be together. i sleep in my car. the boys stay with realatives.',\n",
       " 'Veronica and her son are chronically homeless',\n",
       " \"I stay at 3 different places and in my car\\n4719 calumet way \\nEugene Oregon \\n97404\\n209 S 51st place\\nSpringfield Oregon \\n97478\\n157 SE Pete's Ave \\nP O Box 1531\\nMyrtle creek Oregon \\n97457\",\n",
       " 'in RV in parkinglots... getting kicked out every night from place to place.',\n",
       " '438 Fillmore Ave',\n",
       " 'Veronica and her son are chronically homeless, staying on the street over three years.',\n",
       " 'tent',\n",
       " 'Living in Truck',\n",
       " 'at a shelter',\n",
       " \"3 different places \\n4719 calumet way \\nEugene \\n209 S 51st place \\nSpringfield \\n157 SE Pete's Ave \\nMyrtle creek\",\n",
       " 'Living at motel nite inn',\n",
       " 'We’re in an Oxford Sober living home',\n",
       " 'combination of staying with family and in car',\n",
       " 'Me and my three kids are living with my mom.',\n",
       " 'Veronica and her son are chronically homeless, living on the street for over 3 years',\n",
       " 'Living in a family members house',\n",
       " 'living at daughters house currently',\n",
       " 'intermittently with family and in car',\n",
       " 'couch surfing,',\n",
       " 'living in car and couch surfing and sometimes in a tent when safe.',\n",
       " 'Transitional',\n",
       " 'Living in an Oxford sober living home',\n",
       " ...]"
      ]
     },
     "execution_count": 70,
     "metadata": {},
     "output_type": "execute_result"
    }
   ],
   "source": [
    "list(aqh.loc[(aqh.Preference=='P7') & (aqh.Answer=='Yes'), 'Response'].unique())"
   ]
  },
  {
   "cell_type": "code",
   "execution_count": 114,
   "id": "4eae26ed",
   "metadata": {},
   "outputs": [],
   "source": [
    "p7 = reorganizeP7()"
   ]
  },
  {
   "cell_type": "code",
   "execution_count": 104,
   "id": "d81c4f20",
   "metadata": {},
   "outputs": [
    {
     "data": {
      "text/plain": [
       "array(['I am.', 'Teen challenge', 'Homeless', 'Shelly hatfield',\n",
       "       'Kevyn Smith', \"A woman's house in a bedroom but wants us gone.\",\n",
       "       'no', \"Both living in a woman's house and wants us gone\", 'yes',\n",
       "       \"Both living in a bedroom in a woman's house\", 'I am unhoused.',\n",
       "       \"Both of us are living in a small bedroom in a woman's house and wants us gone\",\n",
       "       \"Both living in a bedroom in a woman's house.\",\n",
       "       'Leaving washington didnt plan very well. i ported my voucher now i am homeless as of 8/29/22',\n",
       "       'Unhoused on 8/20/2022',\n",
       "       'got a termination notice for the end of this week.', 'Myself',\n",
       "       'Conestoga', 'yes the whole household', 'Skylar Bursell',\n",
       "       'Mario land', 'Homeless for over a year',\n",
       "       'Homeless living near mario land',\n",
       "       'We are homeless as of July 25th', 'Yes homeless as of July 25th',\n",
       "       \"I don't live anywhere\", 'For over a year both of us', 'EM',\n",
       "       'self', 'Self', 'my ar', 'SELF', 'HOmeless',\n",
       "       'Self and pregnant due September 5 2022', 'HOMELESS', 'homeless',\n",
       "       'WE', 'myself', 'email', 'eldery disable man',\n",
       "       'Eldery disable man', 'elderly disabled mam',\n",
       "       'elderly disable man', 'Myselffsir', 'Yes I am homeless',\n",
       "       'Doubling up', 'not sure - taking it day by day', 'self.',\n",
       "       'Homeless living house to house or at religious organizations nights a time',\n",
       "       'Gail Smith and Paul Raymondo', '7 years',\n",
       "       'Rent is 910 Make $1093', 'as of 08.20.2022', 'as of 08/20/2022',\n",
       "       'fam', 'Milton-Freewater', 'Fam', 'no place to go', '410',\n",
       "       'Shekter',\n",
       "       'House is in probate and I recently had a heart attack I need reliable housing.',\n",
       "       '(541) 954-3152', 'Staying with Gina Plantz 60/40 Homeless',\n",
       "       'Gina Plantz 60/40  Homeless', 'Homeless 60/40', '60/40 Homeless',\n",
       "       'I am homeless but i am working',\n",
       "       'I am homeless, and need housing',\n",
       "       'I am homeless and need housing',\n",
       "       'I am homeless and need housing.',\n",
       "       'Im homeless and using thiaddress for my mail.',\n",
       "       'im homeless and using this address for my mail.',\n",
       "       'Im homeless and using this address for my mail.',\n",
       "       'Im homelss and using this address for my mail.',\n",
       "       'im homeless and using this as my mailing address',\n",
       "       'Im homeless nd using this address for my mail.',\n",
       "       'Im homeless nd usiNg this address for my mail.', 'Maria Pulgarin',\n",
       "       'Laci Pope', 'David Wayne  Dowell', 'Living 8n mu mobiim',\n",
       "       'Pregnant 6 months fleeing domestic violence',\n",
       "       'Also pregnant 6 months fleeing domestic violence',\n",
       "       'weve been living all of the above',\n",
       "       'we’ve been living all of the above', 'misc', 'with', 'TH', 'th',\n",
       "       'Elijah Cramer-Acocella', 'Outpatient',\n",
       "       'Homeless pregnant with my 4 year old fleeing seriousl dv',\n",
       "       'At rusk', 'At risk',\n",
       "       'I live in a community for the homeless its through outreach resources.',\n",
       "       'As t risk', 'At tisk'], dtype=object)"
      ]
     },
     "execution_count": 104,
     "metadata": {},
     "output_type": "execute_result"
    }
   ],
   "source": [
    "p7.loc[p7.P7SCat == \"unspecified location\", \"Response\"].unique()"
   ]
  },
  {
   "cell_type": "code",
   "execution_count": 115,
   "id": "714b2016",
   "metadata": {},
   "outputs": [],
   "source": [
    "hlcnt = p7['P7BCat'].value_counts().rename_axis('homeless_living').reset_index(name='counts')"
   ]
  },
  {
   "cell_type": "code",
   "execution_count": 116,
   "id": "67fb4dde",
   "metadata": {},
   "outputs": [],
   "source": [
    "hlcnt.to_csv(path+'\\\\output\\\\homeless_living_count.csv', index=False)"
   ]
  },
  {
   "cell_type": "code",
   "execution_count": 99,
   "id": "4035cb71",
   "metadata": {},
   "outputs": [
    {
     "data": {
      "text/plain": [
       "array(['SVDP Shelter', 'Emergency shelter', 'Eugene Mission', 'shelter',\n",
       "       'Community Supported Shelters', 'Project Roomkey',\n",
       "       'Everyone Village', 'FEMA housing'], dtype=object)"
      ]
     },
     "execution_count": 99,
     "metadata": {},
     "output_type": "execute_result"
    }
   ],
   "source": [
    "p7.loc[p7.P7BCat == \"Shelter\", \"P7SCat\"].unique()"
   ]
  },
  {
   "cell_type": "code",
   "execution_count": 100,
   "id": "76db446c",
   "metadata": {},
   "outputs": [
    {
     "data": {
      "text/html": [
       "<div>\n",
       "<style scoped>\n",
       "    .dataframe tbody tr th:only-of-type {\n",
       "        vertical-align: middle;\n",
       "    }\n",
       "\n",
       "    .dataframe tbody tr th {\n",
       "        vertical-align: top;\n",
       "    }\n",
       "\n",
       "    .dataframe thead th {\n",
       "        text-align: right;\n",
       "    }\n",
       "</style>\n",
       "<table border=\"1\" class=\"dataframe\">\n",
       "  <thead>\n",
       "    <tr style=\"text-align: right;\">\n",
       "      <th></th>\n",
       "      <th>shelter</th>\n",
       "      <th>counts</th>\n",
       "    </tr>\n",
       "  </thead>\n",
       "  <tbody>\n",
       "    <tr>\n",
       "      <th>0</th>\n",
       "      <td>SVDP Shelter</td>\n",
       "      <td>1457</td>\n",
       "    </tr>\n",
       "    <tr>\n",
       "      <th>1</th>\n",
       "      <td>shelter</td>\n",
       "      <td>487</td>\n",
       "    </tr>\n",
       "    <tr>\n",
       "      <th>2</th>\n",
       "      <td>Eugene Mission</td>\n",
       "      <td>264</td>\n",
       "    </tr>\n",
       "    <tr>\n",
       "      <th>3</th>\n",
       "      <td>Community Supported Shelters</td>\n",
       "      <td>252</td>\n",
       "    </tr>\n",
       "    <tr>\n",
       "      <th>4</th>\n",
       "      <td>Emergency shelter</td>\n",
       "      <td>207</td>\n",
       "    </tr>\n",
       "    <tr>\n",
       "      <th>5</th>\n",
       "      <td>Project Roomkey</td>\n",
       "      <td>107</td>\n",
       "    </tr>\n",
       "    <tr>\n",
       "      <th>6</th>\n",
       "      <td>Everyone Village</td>\n",
       "      <td>75</td>\n",
       "    </tr>\n",
       "    <tr>\n",
       "      <th>7</th>\n",
       "      <td>FEMA housing</td>\n",
       "      <td>31</td>\n",
       "    </tr>\n",
       "  </tbody>\n",
       "</table>\n",
       "</div>"
      ],
      "text/plain": [
       "                        shelter  counts\n",
       "0                  SVDP Shelter    1457\n",
       "1                       shelter     487\n",
       "2                Eugene Mission     264\n",
       "3  Community Supported Shelters     252\n",
       "4             Emergency shelter     207\n",
       "5               Project Roomkey     107\n",
       "6              Everyone Village      75\n",
       "7                  FEMA housing      31"
      ]
     },
     "execution_count": 100,
     "metadata": {},
     "output_type": "execute_result"
    }
   ],
   "source": [
    "p7[p7.P7BCat == \"Shelter\"][\"P7SCat\"].value_counts().rename_axis('shelter').reset_index(name='counts')"
   ]
  },
  {
   "cell_type": "code",
   "execution_count": 106,
   "id": "20c467ec",
   "metadata": {},
   "outputs": [
    {
     "data": {
      "text/html": [
       "<div>\n",
       "<style scoped>\n",
       "    .dataframe tbody tr th:only-of-type {\n",
       "        vertical-align: middle;\n",
       "    }\n",
       "\n",
       "    .dataframe tbody tr th {\n",
       "        vertical-align: top;\n",
       "    }\n",
       "\n",
       "    .dataframe thead th {\n",
       "        text-align: right;\n",
       "    }\n",
       "</style>\n",
       "<table border=\"1\" class=\"dataframe\">\n",
       "  <thead>\n",
       "    <tr style=\"text-align: right;\">\n",
       "      <th></th>\n",
       "      <th>community_member</th>\n",
       "      <th>counts</th>\n",
       "    </tr>\n",
       "  </thead>\n",
       "  <tbody>\n",
       "    <tr>\n",
       "      <th>0</th>\n",
       "      <td>family/friends'</td>\n",
       "      <td>3832</td>\n",
       "    </tr>\n",
       "    <tr>\n",
       "      <th>1</th>\n",
       "      <td>couch surfing</td>\n",
       "      <td>915</td>\n",
       "    </tr>\n",
       "  </tbody>\n",
       "</table>\n",
       "</div>"
      ],
      "text/plain": [
       "  community_member  counts\n",
       "0  family/friends'    3832\n",
       "1    couch surfing     915"
      ]
     },
     "execution_count": 106,
     "metadata": {},
     "output_type": "execute_result"
    }
   ],
   "source": [
    "p7[p7.P7BCat == \"Community Members'\"][\"P7SCat\"].value_counts().rename_axis('community_member').reset_index(name='counts')"
   ]
  },
  {
   "cell_type": "code",
   "execution_count": 117,
   "id": "789c764b",
   "metadata": {},
   "outputs": [],
   "source": [
    "p8 = reorganizeP8()"
   ]
  },
  {
   "cell_type": "code",
   "execution_count": 6,
   "id": "8123ebfa",
   "metadata": {},
   "outputs": [
    {
     "data": {
      "text/plain": [
       "array(['Chris', '07/26/2022', 'No', 'Diedra', 'Viola', 'diedra',\n",
       "       'Shirley', 'linz', 'anc', 'Dpn', 'Maclain', 'Tasherra', 'Choice',\n",
       "       'Nicole0110', 'din', 'Sleeping in my truckerpinan',\n",
       "       'Section 8 HCV 2022 Waitlist', 'PH 1 bdrm Riverview', 'carol',\n",
       "       'Living in my mini van', 'dpm'], dtype=object)"
      ]
     },
     "execution_count": 6,
     "metadata": {},
     "output_type": "execute_result"
    }
   ],
   "source": [
    "p8.loc[p8.P8SCat == \"unknown\", \"Response\"].unique()"
   ]
  },
  {
   "cell_type": "code",
   "execution_count": 118,
   "id": "d3ce22b0",
   "metadata": {},
   "outputs": [],
   "source": [
    "wh_cnt = p8['P8BCat'].value_counts().rename_axis('who_helped').reset_index(name='counts')"
   ]
  },
  {
   "cell_type": "code",
   "execution_count": 119,
   "id": "108303c0",
   "metadata": {},
   "outputs": [],
   "source": [
    "wh_cnt.to_csv(path+'\\\\output\\\\who_helped.csv', index=False)"
   ]
  },
  {
   "cell_type": "code",
   "execution_count": 8,
   "id": "6ef3e3da",
   "metadata": {},
   "outputs": [
    {
     "data": {
      "text/plain": [
       "array(['Catholic Community Services', 'ShelterCare',\n",
       "       'Catholic Charities of Oregon', 'St. Vincent de Paul',\n",
       "       'Eugene Public Library', 'Lane Community College'], dtype=object)"
      ]
     },
     "execution_count": 8,
     "metadata": {},
     "output_type": "execute_result"
    }
   ],
   "source": [
    "p8.loc[p8.P8BCat == \"Community Organization\", \"P8SCat\"].unique()"
   ]
  },
  {
   "cell_type": "code",
   "execution_count": 120,
   "id": "b353885c",
   "metadata": {},
   "outputs": [],
   "source": [
    "p9 = reorganizeP9()"
   ]
  },
  {
   "cell_type": "code",
   "execution_count": 63,
   "id": "3c404737",
   "metadata": {},
   "outputs": [
    {
     "data": {
      "text/plain": [
       "array(['No', 'na', 'lane', 'no', 'My group home', 'none', 'ACH', 'RSC',\n",
       "       'Na', 'N/a', 'Wayne Martin', 'Not sure', 'Shirley', 'Etc', 'Leann',\n",
       "       'Jennings', 'Hannah spomer',\n",
       "       'Staff assisting to find housing told me about it.', 'RAC', 'dis',\n",
       "       'David', 'YH Staff', 'Yes', 'downtown', 'Kim singler', 'DevNW',\n",
       "       'david', 'eldery man', 'Not applicable', 'From the form.', 'no.',\n",
       "       'people', '*', 'EDD', 'gaia', '>', '.', 'E', 'Luci',\n",
       "       'westown on 8th mgr', '/', 'Healthy families lady named Hayley',\n",
       "       'Scot', 'Enfermera', 'john stewrd', 'barn', 'TREESACAUDELL',\n",
       "       'None', 'Customer', 'OREM', 'Housing', 'Just by chance', 'Ema',\n",
       "       'Davina Prakash', 'Samuel Baratta', 'Mary Wagner', 'SHA',\n",
       "       'India Stanley', 'w',\n",
       "       'Lady told me when she heard how desperate I am to get closer.',\n",
       "       'Opening announcement Notification', 'HA', 'Heather Rogers', 'Mim',\n",
       "       'Famt', 'Sissi Decroos', 'Gloria', ',', 'Full Access',\n",
       "       'Service station', 'RAB Member', 'Joanie Miles', 'Mike', 'yes',\n",
       "       'Meeting', 'fr', 'f'], dtype=object)"
      ]
     },
     "execution_count": 63,
     "metadata": {},
     "output_type": "execute_result"
    }
   ],
   "source": [
    "p9.loc[p9.P9SCat == \"unknown\", \"Response\"].unique()"
   ]
  },
  {
   "cell_type": "code",
   "execution_count": 55,
   "id": "f8216aa4",
   "metadata": {},
   "outputs": [
    {
     "data": {
      "text/html": [
       "<div>\n",
       "<style scoped>\n",
       "    .dataframe tbody tr th:only-of-type {\n",
       "        vertical-align: middle;\n",
       "    }\n",
       "\n",
       "    .dataframe tbody tr th {\n",
       "        vertical-align: top;\n",
       "    }\n",
       "\n",
       "    .dataframe thead th {\n",
       "        text-align: right;\n",
       "    }\n",
       "</style>\n",
       "<table border=\"1\" class=\"dataframe\">\n",
       "  <thead>\n",
       "    <tr style=\"text-align: right;\">\n",
       "      <th></th>\n",
       "      <th>how_heard</th>\n",
       "      <th>counts</th>\n",
       "    </tr>\n",
       "  </thead>\n",
       "  <tbody>\n",
       "    <tr>\n",
       "      <th>0</th>\n",
       "      <td>family and friends</td>\n",
       "      <td>5061</td>\n",
       "    </tr>\n",
       "    <tr>\n",
       "      <th>1</th>\n",
       "      <td>human services</td>\n",
       "      <td>3436</td>\n",
       "    </tr>\n",
       "    <tr>\n",
       "      <th>2</th>\n",
       "      <td>Email</td>\n",
       "      <td>3297</td>\n",
       "    </tr>\n",
       "    <tr>\n",
       "      <th>3</th>\n",
       "      <td>Homes For Good</td>\n",
       "      <td>1923</td>\n",
       "    </tr>\n",
       "    <tr>\n",
       "      <th>4</th>\n",
       "      <td>Facebook</td>\n",
       "      <td>1558</td>\n",
       "    </tr>\n",
       "    <tr>\n",
       "      <th>5</th>\n",
       "      <td>website</td>\n",
       "      <td>1186</td>\n",
       "    </tr>\n",
       "    <tr>\n",
       "      <th>6</th>\n",
       "      <td>St. Vincent de Paul</td>\n",
       "      <td>1110</td>\n",
       "    </tr>\n",
       "    <tr>\n",
       "      <th>7</th>\n",
       "      <td>text message</td>\n",
       "      <td>612</td>\n",
       "    </tr>\n",
       "    <tr>\n",
       "      <th>8</th>\n",
       "      <td>Laurel Hill Center</td>\n",
       "      <td>597</td>\n",
       "    </tr>\n",
       "    <tr>\n",
       "      <th>9</th>\n",
       "      <td>Willamette Family</td>\n",
       "      <td>561</td>\n",
       "    </tr>\n",
       "  </tbody>\n",
       "</table>\n",
       "</div>"
      ],
      "text/plain": [
       "             how_heard  counts\n",
       "0   family and friends    5061\n",
       "1       human services    3436\n",
       "2                Email    3297\n",
       "3       Homes For Good    1923\n",
       "4             Facebook    1558\n",
       "5              website    1186\n",
       "6  St. Vincent de Paul    1110\n",
       "7         text message     612\n",
       "8   Laurel Hill Center     597\n",
       "9    Willamette Family     561"
      ]
     },
     "execution_count": 55,
     "metadata": {},
     "output_type": "execute_result"
    }
   ],
   "source": [
    "p9['P9SCat'].value_counts().rename_axis('how_heard').reset_index(name='counts').head(10)"
   ]
  },
  {
   "cell_type": "code",
   "execution_count": 121,
   "id": "90ebfff2",
   "metadata": {},
   "outputs": [],
   "source": [
    "hh_cnt = p9['P9BCat'].value_counts().rename_axis('how_heard').reset_index(name='counts')"
   ]
  },
  {
   "cell_type": "code",
   "execution_count": 122,
   "id": "aa64a60f",
   "metadata": {},
   "outputs": [],
   "source": [
    "hh_cnt.to_csv(path+'\\\\output\\\\how_heard.csv', index=False)"
   ]
  },
  {
   "cell_type": "code",
   "execution_count": 57,
   "id": "1c2f4cd4",
   "metadata": {},
   "outputs": [
    {
     "data": {
      "text/plain": [
       "array(['Family / Friend', 'Friend', 'Sister', 'Family', 'mom', 'friends',\n",
       "       'family', 'Friends', 'Mom', 'friend', 'Through my daughter',\n",
       "       'Family / Friends', 'my mom', 'Mother', 'family friend',\n",
       "       'Family/friend', 'family/friends', 'My daughter', 'Family member',\n",
       "       'father', 'My roommate told me about it', 'My kids',\n",
       "       'Church friend', 'from friends', 'brother', 'family and friend',\n",
       "       'Family friend', 'family/Friend', 'Heard from friend.',\n",
       "       'Family and Friends', 'Friends/Famiily', 'Familial',\n",
       "       'Church friends', 'From a friend', \"From Athena's daughter, Erin.\",\n",
       "       'A friend told me about it', 'Causin', 'Friend from church',\n",
       "       'Freind', 'daughter', 'from a friend', 'Friend, Carla Barnes',\n",
       "       'Family and friends', 'My ex-wife', 'Neighbor', 'Ex-wife',\n",
       "       \"Athena's daughter Ariel\", 'Family/Friend', 'My Daughter',\n",
       "       \"Athena's daughter, Ariel.\", 'A Friend', 'Childs Mother',\n",
       "       'A friend', 'FAMILY', 'a friend in recovery.', 'My sister.',\n",
       "       'Friend - Direction Services', 'A family member recommended this',\n",
       "       'My daughter told me', 'MY COUSIN', 'Family members',\n",
       "       'Family member who lives in Hayden Bridge said to apply for these homes.',\n",
       "       'Family recommended', 'A close friend', 'Family Friend',\n",
       "       'Friend told me', 'Friends and mother', 'daughter in-law',\n",
       "       'My mother', 'friends/family', 'By my aunt', 'Cousin', 'a friend',\n",
       "       'A family member', 'Daughter', 'daugther', 'A friend told me',\n",
       "       'FRIEND', 'Familly  / friend', 'Family reference', 'sister',\n",
       "       'Family Member', 'Tamala Bemis my sister', 'Tamala Bemis sister',\n",
       "       'family member', 'neighbor', 'Husband', 'Willematte Family',\n",
       "       'My aunt and mother', 'sister-in-law', 'Friend/family', 'My aunt',\n",
       "       \"I found out about you guy's through a family friend.\",\n",
       "       'Through a family friend.', 'Through a family member',\n",
       "       'A friend told me about it.', 'A family friend',\n",
       "       'I learned about this from a family member', 'Through a friend',\n",
       "       'My mom!', 'My mom', 'Family, my sister.', 'I heard from a friend',\n",
       "       'Son', 'Cynthia Nagao, friend', 'family/friend', 'mother',\n",
       "       'Through a friend.', 'My family', 'From a family', 'My sister',\n",
       "       'Sister-in-law', 'Sister-in-Law', 'My son',\n",
       "       'A friend of my daughter.',\n",
       "       'a friend told me about it and wanted to help',\n",
       "       'Friend refered me', 'Learned from a friend', 'a family member',\n",
       "       'a family member.', 'Family/Friends', 'My cousin, Victoria',\n",
       "       'From a family member',\n",
       "       'My sister mentioned to me about the program and in good time because I am hopi my to move back to Oregon within the coming month.',\n",
       "       'My cousin Victoria', 'From a friend.',\n",
       "       'My sister told me about it.',\n",
       "       'My mom lives in Eugene and sent me the information to apply for low-income housing.',\n",
       "       'My mom gave me the information to apply.',\n",
       "       'My mother lives in Eugene and gave me the information to apply.',\n",
       "       'My mother sent me information to apply.', 'Friend\\\\Family',\n",
       "       'aunt', 'his mom', \"My Son's Girlfriend\", 'My Sons Girlfriend',\n",
       "       \"son's girlfriend\", 'A friend of mine', 'A friend told me.',\n",
       "       'A friend of mine.', 'Friend sent to me', 'My ex Wife.',\n",
       "       'My ex wife.', 'My ex wife', 'my ex wife', 'Ex wife', 'ex wife',\n",
       "       'Relative from this state',\n",
       "       'I ran into a friend at the downtown transit station last week and she told me about it',\n",
       "       'My Aunt', 'A friend told her', 'a friend told her',\n",
       "       'Friends/ Maintenance', 'From his mom', 'From his Mom',\n",
       "       'sister through job connection', 'sister and job connection',\n",
       "       'Sister and job connections', 'MOM', 'sister and job connections',\n",
       "       'sister with job connections', 'My cousin told me.', 'A friend.',\n",
       "       'girlfriend told him', 'My mom told me', 'Friend told him',\n",
       "       'Acquaintance', 'Friend referred her',\n",
       "       'Resident Liaison - Willakenzie Gardens', 'Sister told her',\n",
       "       'Friend suggestion', 'A family friend suggestion',\n",
       "       'I heard about this through a friend’s suggestion',\n",
       "       'Family friend suggestion', 'A friend suggestion',\n",
       "       'Friend and family', 'Friends and family', 'elderly family member',\n",
       "       'friemd', 'My daughter in law',\n",
       "       'Communication with another relative.', 'Family/friends',\n",
       "       'my friend', 'Mya daughter', 'relative',\n",
       "       'auld and family services', 'My friend who lives there.',\n",
       "       'Family friends', 'a friend.', 'friend.', 'daughter told her',\n",
       "       'Friend told me about it', 'family first center', 'Family member.',\n",
       "       'My mother sent me the information to apply.',\n",
       "       'My mother sent me the information to apply, We need stable low income housing.',\n",
       "       'My mom knows our situation and sent me information to apply.',\n",
       "       'My mother know i need lows income housing and she sent me the information to apply.',\n",
       "       'My mother knows we need low income housing and sent me the information to apply.',\n",
       "       'My mother sent the  information to apply.', 'My friend told me',\n",
       "       'Family (mother)', 'My aunt let me know.', 'My aunt let me know',\n",
       "       'My aunt told me', 'An aquaintence told me', 'aquaintance',\n",
       "       'My neighbor', 'From Firend', 'Through Friend', 'Through friend',\n",
       "       'Son-in-law', 'grandson told her', 'son-in-law', 'My mom told me.',\n",
       "       'My sons grandma', 'My family told me about it', 'My mom.',\n",
       "       'My friend kenzie.', 'My mother in law told me about you',\n",
       "       'My neighbor arnold', 'Living with family', 'my cousin mom',\n",
       "       'Friend in Oregon', 'Friend from Oregon', 'my best friend',\n",
       "       'A friend of my grandmothers.', 'Ex-Wife', 'Mother told me',\n",
       "       'From my mother', \"Boyfriend's Mother\", 'my mother',\n",
       "       'I found out from a friend.', 'Family /friend',\n",
       "       'Client’s family member told me about it.', 'From sister', 'Dad',\n",
       "       'A couple of my friends mentioned it to me',\n",
       "       'I heard from my mother Renee Howard', 'sister told him',\n",
       "       'close friend', 'My sister in law', 'From my daughter', 'Family.',\n",
       "       'Friend.', 'sister and p.o.', 'Threw a friend', 'Friend of mine',\n",
       "       'Family friend.', 'Children and Family Development',\n",
       "       'Children and Family Developement', 'my gma', 'my grandma',\n",
       "       'Family support connections', 'Family told me',\n",
       "       'Mother of my child', 'familiy/friend',\n",
       "       'My friend who lives there', 'My friend who lives in eugene',\n",
       "       'My friend in Eugene', 'Friend of mine told me',\n",
       "       'Friend in Eugene', 'my friend in Eugene', 'friend in Eugene',\n",
       "       'Friend/neighbor', 'Friend Jamie Williams', 'FRiend', 'Frend',\n",
       "       'Through Family', 'a friend forwarded the info to me',\n",
       "       'Sister in law', 'Liane Wilson', 'Sister, Friend', 'Sister,Friend',\n",
       "       'center for family dev', 'Through mom', 'brother told him',\n",
       "       'Friend Maria', 'Family/friend.',\n",
       "       'My friend in Eugene who is also on housing',\n",
       "       'My friends mom knew about it', 'Friend referred me',\n",
       "       'Friend referral', 'son', 'duaghter', 'Carmen Chavez/Friend',\n",
       "       'Friend/Carmen Chavez', 'roommate', 'Roommate', 'room mate',\n",
       "       'family first', 'Friend Joanie Miles', 'friend Joanie Miles',\n",
       "       'Relative', 'Friends family', 'FRIENDS', 'My Niece', 'my niece',\n",
       "       'my Niece', 'niece', 'Friends/Neighbors', 'froiend', 'Sibling',\n",
       "       'Firend', 'My aunt Janaye Udy', 'family member told me'],\n",
       "      dtype=object)"
      ]
     },
     "execution_count": 57,
     "metadata": {},
     "output_type": "execute_result"
    }
   ],
   "source": [
    "p9.loc[p9.P9SCat == \"family and friends\", \"Response\"].unique()"
   ]
  },
  {
   "cell_type": "code",
   "execution_count": 49,
   "id": "bbd6928b",
   "metadata": {},
   "outputs": [
    {
     "data": {
      "text/html": [
       "<div>\n",
       "<style scoped>\n",
       "    .dataframe tbody tr th:only-of-type {\n",
       "        vertical-align: middle;\n",
       "    }\n",
       "\n",
       "    .dataframe tbody tr th {\n",
       "        vertical-align: top;\n",
       "    }\n",
       "\n",
       "    .dataframe thead th {\n",
       "        text-align: right;\n",
       "    }\n",
       "</style>\n",
       "<table border=\"1\" class=\"dataframe\">\n",
       "  <thead>\n",
       "    <tr style=\"text-align: right;\">\n",
       "      <th></th>\n",
       "      <th>QuestionID</th>\n",
       "      <th>KeyApplication</th>\n",
       "      <th>Question</th>\n",
       "      <th>Preference</th>\n",
       "      <th>Answer</th>\n",
       "      <th>Response</th>\n",
       "      <th>TSModified</th>\n",
       "      <th>TSCreated</th>\n",
       "      <th>P9SCat</th>\n",
       "      <th>P9BCat</th>\n",
       "      <th>P9Cat</th>\n",
       "    </tr>\n",
       "  </thead>\n",
       "  <tbody>\n",
       "    <tr>\n",
       "      <th>1775</th>\n",
       "      <td>2084</td>\n",
       "      <td>5419943</td>\n",
       "      <td>How did you hear about our wait list opening? ...</td>\n",
       "      <td>P9</td>\n",
       "      <td>Yes</td>\n",
       "      <td>First place family center</td>\n",
       "      <td>2022-07-26 12:30:27</td>\n",
       "      <td>2022-07-26 12:30:27</td>\n",
       "      <td>family and friends</td>\n",
       "      <td>Community Member</td>\n",
       "      <td>Multiple Channels</td>\n",
       "    </tr>\n",
       "  </tbody>\n",
       "</table>\n",
       "</div>"
      ],
      "text/plain": [
       "      QuestionID  KeyApplication  \\\n",
       "1775        2084         5419943   \n",
       "\n",
       "                                               Question Preference Answer  \\\n",
       "1775  How did you hear about our wait list opening? ...         P9    Yes   \n",
       "\n",
       "                       Response           TSModified            TSCreated  \\\n",
       "1775  First place family center  2022-07-26 12:30:27  2022-07-26 12:30:27   \n",
       "\n",
       "                  P9SCat            P9BCat              P9Cat  \n",
       "1775  family and friends  Community Member  Multiple Channels  "
      ]
     },
     "execution_count": 49,
     "metadata": {},
     "output_type": "execute_result"
    }
   ],
   "source": [
    "p9[p9.Response == \"First place family center\"]"
   ]
  },
  {
   "cell_type": "code",
   "execution_count": 64,
   "id": "33ad32bc",
   "metadata": {},
   "outputs": [
    {
     "data": {
      "text/plain": [
       "array(['St. Vincent de Paul', 'Shelter an counsoler',\n",
       "       'i always check the lists im in need of a home', 'SVDP',\n",
       "       'Catholic Community Services, during an intake apt',\n",
       "       'I always check the lists been trying to get in',\n",
       "       'First place family center', 'catholic community office',\n",
       "       'I always check the lists i need a home', 'St, Vincent de Paul',\n",
       "       'Case Manager at St. Vincent de Paul - Alicia Clarkson',\n",
       "       'Catholic community services', 'ShelterCare, St. Vincent de Paul',\n",
       "       'work, catholic community services', 'ShelterCare', 'Head Start',\n",
       "       'CCS', 'The Guest House', 'Public library.',\n",
       "       'Center for Family development, friend, St Vincent de Paul',\n",
       "       'St Vincent Depaul', 'Non-profit agency', 'Amber',\n",
       "       'SVdP of Lane County case managers', 'SVDP Housing Case Manager',\n",
       "       'St. Vincent De Paul', 'Springfield Eugene Tenant Association',\n",
       "       'SVDP Case Manager', 'Shelter care skills assistant Micheal',\n",
       "       'svdp Case Manager', 'SVDP Case manager',\n",
       "       'Library - Downtown Eugene, OR', 'Alison Pfaff',\n",
       "       'Shelter care skills assistant', 'Catholic Community Services',\n",
       "       'Catholic community Services', 'Case Manager/SVdP',\n",
       "       'SVDP casemanager', 'Trisha Aspiranti', 'Catholic Charities',\n",
       "       'Trisha Aspiranti Rep Payee',\n",
       "       'My therapist, email from homes for good and friends',\n",
       "       'Trisha Aspiranti my rep payee', 'Catholic  Charities',\n",
       "       'Downtown Eugene, OR Library', 'SVDP First Place Family',\n",
       "       'Trisha Aspiranti my Rep Payee', 'SVDP case manager',\n",
       "       'sheltercare', 'Alison Pfaff (sheltercare)', 'Case Manager/SVDP',\n",
       "       'Downtown Eugene, Oregon Library', 'Catholic Charities Charities',\n",
       "       'St. Vincent DePaul', 'Headstart', 'SVDP Case Worker',\n",
       "       'My mom woke me up out my sleep and sent the link',\n",
       "       'svdp first place family', 'Headstart teacher',\n",
       "       \"Homes for good\\nSt Vincent de Paul\\nI'm on coordinated Entry list\",\n",
       "       \"Homes for good\\nSt Vincent de Paul\\nI'm on coordinated Entry waitlist\",\n",
       "       'Looking for housing waitlists for me and baby',\n",
       "       'called homes for good screening and was told all the lists were opening up.',\n",
       "       'Mother who works at Catholic Community Services in Springfield, Oregon',\n",
       "       'mother at catholic community services in springfield oregon',\n",
       "       'Nest, Eugene Mission , Hope and safety',\n",
       "       'Nest, Eugene Mission, Hope n safety',\n",
       "       'mother at catholic community services in springfield, oregon',\n",
       "       'my therapist, emails from homes for good and facebook',\n",
       "       'mother at catholic community services',\n",
       "       'my therapist, email from homes for good', 'St Vincent',\n",
       "       'catholic community services', 'St. Vincent', 'St  Vincent',\n",
       "       'Homes for Good employee Amber Garrett',\n",
       "       'Homes for Good Employee Amber Garrett',\n",
       "       'Homes for good website and Head Start',\n",
       "       'I was on the waiting list for the waiting list. So I got an email.',\n",
       "       'I was on the wait list to get on the wait list. So I got an email.',\n",
       "       'I was on the wait list to get on the wait list. \\n\\n\\n\\n\\nI was on the list to get on the wait list. So I got an email.',\n",
       "       'Homeless Center',\n",
       "       'I was on the list to get on the list. So I got an email.',\n",
       "       'Homeless Shelter', 'Shelter', 'svdp case manager',\n",
       "       'Flyer given by shelter', 'Cathlico community food bank',\n",
       "       'Flyer from shelter', 'svdp case worker', 'Trish Aspiranti',\n",
       "       'Flyer at shelter', 'Love project', 'Trish aspiranti', 'Svdp',\n",
       "       'A flyer on my door and my mom pointed out the lists are opening up.',\n",
       "       'Catholic community rood bank', 'Catholic community food bank',\n",
       "       'Other agencies',\n",
       "       'I googled the section 8 waitlist, because I am about to lose my home due to rent increase.',\n",
       "       'Catholic food bank', 'SVDP.',\n",
       "       'Called homes for good housing before the lists opened',\n",
       "       'Options, first place family center, and Head Start.',\n",
       "       \"Former client of St Vincent de Paul's First Place Family Center and Night Shelter with my daughter. Constantly scan the waitlists.\",\n",
       "       'St Vincent de Paul First Place Family Center and Night Shelter',\n",
       "       \"I've been looking into Section 8 housing for a while, cause I've not been able to work very well cause of a rare chronic condition I have and been living off of covid rental relief. I've been threatened to be evicted a couple of times because of this. I decided to check out the website for the first time in a while and saw that the waitlists were opening. I've also seen this advertised at Catholic Community Services.\",\n",
       "       'Other', 'Other agency', 'agency', 'Other Agencies advertised',\n",
       "       'Catholic community service', 'Catholic Community Service',\n",
       "       'Staff at Sheltercare', 'Sheltercare Staff', 'Sheltercare',\n",
       "       'through my St. Vincent de Paul, Vet LIFT case manager Theresa Olsen 541-501-9619',\n",
       "       'Second chance class', 'At the Mission & St Vinnie',\n",
       "       'Eugene Mission & St Vinnies', 'Catholic Comm Services',\n",
       "       'Headstart text.', 'St Vinnys',\n",
       "       \"I've been waiting for lists to open.\",\n",
       "       'through housing coordinator Amber',\n",
       "       'I just happened to be on the Homes for Good website and saw that the waitlists were opening',\n",
       "       'Dana', 'Ccs', 'Word of mouth from SVdP.',\n",
       "       'Flyer at Dawn to dawn for workshop with SVdP case managers',\n",
       "       'Svdp Case Manager', 'Through safe sleep site.',\n",
       "       'Dawn to Dawn/SVdP of Lane County', 'Safe sleep site',\n",
       "       'SVDp Case Manager', 'Safe sleep site.', 'safe sleep site',\n",
       "       'Svdp First place family', 'Svdp first place family',\n",
       "       'Friend/Abigail Sinclair', 'Friend/Abby Sinclair', 'LCC',\n",
       "       'St Vinnies', 'Homes for Good Amber Garrett',\n",
       "       'Homes for Good. I have been on waitlists for years',\n",
       "       'Myself,I check daily for waitlists to open.',\n",
       "       'Case Manager at SVdP - Alicia Clarkson',\n",
       "       'SVdP Case Manager - Alicia Clarkson',\n",
       "       'Shelter Care and White Bird Clinic',\n",
       "       'Shelter Care and White Bird NEST',\n",
       "       'Jeff at Square One Villages (staff)', 'Agency',\n",
       "       'Sheltercare staff', 'sheltercare staff', 'SVdP Staff',\n",
       "       'SVDP advocate', 'SVdP Youth house',\n",
       "       'Notified by ShelterCare staff.', 'Notified by ShelterCare staff',\n",
       "       'craigslist and downtown and library', 'craiglist and library',\n",
       "       'library and downtown', 'Library',\n",
       "       'First Place Family center told me about it',\n",
       "       'referred by Elisa at work source / referred by catholic community services Melodi',\n",
       "       'St. Vincent de Paul Vet LIFT case manager, Theresa Olsen',\n",
       "       'Therapist, case manager, waitlist check, and homes for good.',\n",
       "       'Case Mgr. at SVdP - Alicia Clarkson',\n",
       "       'SVdP Case Mgr. - Alicia Clarkson',\n",
       "       'SVdP Case Mgr. Alicia Clarkson', 'St Vincent de Paul',\n",
       "       'St Vincent de Paul walk in assessment', 'St Vincent de paul',\n",
       "       'St vincent', 'St Vincent de Paul walk in assesment',\n",
       "       'St Vincent De Paul and Emails',\n",
       "       'St Vincent de Paul walk in assesment and email',\n",
       "       'St Vincent de Paul and email',\n",
       "       'St Vincent De Paul Walk In assesment and emails',\n",
       "       'ST Vincent De Paul walk in assessment and email',\n",
       "       'St Vincent De Paul walk in assessment and email',\n",
       "       'St Vincent de Paul walk-in assessment and email',\n",
       "       'I periodically Google for open section 8 waiting lists and today I just happened to stumble upon this site and the openings.',\n",
       "       'Shelter Care', 'Shelter care', 'SVdP of Lane County',\n",
       "       'ShelterCare Staff', 'Sam Lyft program st.vennies',\n",
       "       'St. Vennies worker', 'St vennies worker',\n",
       "       'Homes for good\\nSt Vincent de Paul coordinated entry', 'SETA',\n",
       "       'Notified by ShelterCare Staff', 'shelter', 'First Place',\n",
       "       '1st place', 'The shelter', 'Svdp case worker',\n",
       "       'Family from headstart',\n",
       "       'My son is in headstart kaleb fuller. I prefer the 4bedroom if it’s available',\n",
       "       'the guest house', \"St. Vinnie's\", 'Resident Meeting',\n",
       "       'SVdP of Lane county', 'Catrina A', 'MAT program', 'St. Vinneys',\n",
       "       'St Vinney', 'St Vinneys', 'Shelter house', 'St. Vinent de Paul',\n",
       "       'People running my shelter.', 'from admin of safe sleep site',\n",
       "       'admin of site where i sleep', 'Spencer McCoy',\n",
       "       'my skills trainer with sheltercare',\n",
       "       'Text from the waitlist. My case manager helped me get the text notification set up.',\n",
       "       'Text message from the notification lists and also being advised by WIC and SNAP offices',\n",
       "       'From my current property manager, Amber', 'Second chance program',\n",
       "       'The second chance program', 'Amber - OHOP',\n",
       "       \"I actually browse through your guys's homes for good website and seeing that the waitlist was open on the 26th to the 9th of August. So I jumped right on it and filled out my paper that I need to fill out and to get on the waiting list. Hallelujah!\",\n",
       "       'ShelterCare staff', 'Amber- OHOP', 'Amber OHOP',\n",
       "       'St. Vincent DePaul waitlist person',\n",
       "       'Family works at catholic community services', 'SVPD', 'svdp',\n",
       "       'Sheltercare Medical Recuperation', 'St Vincent De paul',\n",
       "       'St. vincent depaul told me about you when i turned in other housing applications',\n",
       "       'St. Vincent DePaul on hwy 99', 'St. Vincent Depaul on Chad DR.',\n",
       "       'St. vincent depaul on Chad Dr.', 'st. vincent depaul on Chad Dr',\n",
       "       'I asked the lady at the Catholic community center.', 'OHOP Amber',\n",
       "       'The teachers at Village head start',\n",
       "       'SVDP referred me to Homes for Good. I spoke with Jo when I called.',\n",
       "       '\"how did you hear about our waiting list\" options are \"yes\" and \"no\" but a herd from this waiting list via my fiancé',\n",
       "       'I lived in a townhouse in Springfield on R st in my early 20’s. Around 2003. Back then it was called HACSA. It helped me through a very rough time as a single mom. We live in Saint Vincent housing right now in Junction City. We were financially affected by Covid and are constantly having a hard time with rent. They were going to evict us if we didn’t have all the back rent money by August 1st. We sold a lot of our belongings, returned bottles and used some of Eltons student loan money. We got caught up but very unsure of how we will continue to be able to pay $750 a month. Elton has around a year and a half left of school. He is getting his degree in Accounting with a minor in Economics. Once he finds a job we will be able to afford more but right now we are struggling. With inflation the price of food has gone up so we run out of food stamps 3 weeks into the month. I’m not sure if you have records of me when I rented the place on R st. If you do I was always on time and I got my deposit back from cleaning the townhouse and taking good care of our home. I didn’t think I would be struggling again like I am. I am a stay at home mom. Cook 3 meals a day and keep my apartment very clean. My 13 yr old has ADHD and requires a lot of help with school work. Between her and our 2 yr old I haven’t been able to work and Elton has so much school work that he studies around 6-8 a day. He is very dedicated and I’m very proud of him. When I lived on R st my rent was 30% of my income which wasn’t much but it really helped me get through without being massively stressed like I am now. I have never appreciated anything more than what HACSA did for me at that time. I have ADHD and suffer from anxiety and depression. But most of my anxiety and depression comes from stressing out about money. I have to take blood pressure medicine which I’m having a really hard time with the side effects. I really hope it is possible to find a new home. I would like to be in the area that Abbie Lane is or one of the places near Coburg rd. The 2 places near Winco and Costco would be great too. I was going through my files and stumbled upon old HACSA paperwork and thought to look it up to see if any waiting lists are open and am very excited that this website allowed me to get on one. Even the thought of it helped my stress level tonight. I have felt so sick lately with the thought of us possibly being homeless. Even hope helps a little. I wish this form let me select more than one location but I am happy to at least be on one.',\n",
       "       'st vincent depaul on Chad dr', 'Centro', 'saint vincent de paul',\n",
       "       'Centro Latinx', 'centro latino',\n",
       "       'St Vincent De Paul, Senior and Disability Services referrals.',\n",
       "       'SVDP, SDS referrals', 'SVDP, SDS, referrals',\n",
       "       'Heard from Centro Latino Americano', 'Centro Latino Americano',\n",
       "       'Centro Latino', 'CLA', 'Food Box Community Sharing',\n",
       "       'Community Sharing Food Box Program', 'child school', 'others',\n",
       "       'other', 'Electrónico', 'Amber ohop',\n",
       "       'I was on emailing list  from Homesforgood website.', 'SC staff',\n",
       "       'SC Staff', 'the second chance program',\n",
       "       'From my friend Misty Barkhimer', 'My friend Misty Barkhimer',\n",
       "       'My friend misty barkhimer',\n",
       "       'I was on the list to get on the list. so I got an Email.',\n",
       "       'I just happened to be on the Homes for Good website and saw that the waitlists were opening up.',\n",
       "       'been watching homes4good ever since I got on the Section 8 voucher waitlist. I have my voucher now!',\n",
       "       'catholic church', 'from the Catholic Church and Mary wagner',\n",
       "       'Looked online to see if waitlists were open.', 'Head start',\n",
       "       'Case manager through saint Vincent depauls',\n",
       "       'St. Vincent de Paul LIFT', 'Food box', 'Foodbox',\n",
       "       \"Flyer at St Vinnie's\", 'Krysta at White Bird',\n",
       "       'ST VINCENT DEPAUL', \"flyer at St. Vinnie's\",\n",
       "       'Emails and lift program through St Vincent de Paul',\n",
       "       'St Vincent dePaul', 'St Vincent depaul', 'st vincent depaul',\n",
       "       'St Vincent DePaul', 'St Vincent De Paul', 'SvDP',\n",
       "       'HFG WAITLISTS Open',\n",
       "       'Catholic Community Services - Elissa Williams',\n",
       "       '410 Garfield Safe Sleep',\n",
       "       'Call from OHP let me know about the waitlists being open',\n",
       "       'Saint Vincent De Paul',\n",
       "       'Call from OHP let these applicants know about the waitlists being open',\n",
       "       'Searching online and catholic community',\n",
       "       'Call from OHP let us know about the waitlists being open',\n",
       "       'Catholic community', 'SVdP', 'Catholic Community services',\n",
       "       'catholic community service', 'Catholic Community',\n",
       "       'Dawn Rogers of SVDP and Lesa Wheeler of the VA', 'CCS-Eugene',\n",
       "       'Email from Catholic Community Services', 'Many places',\n",
       "       'test, family and friends',\n",
       "       'My therapist and Saint Vincent  De Paul',\n",
       "       'My therapist and Saint Vincent De Paul', 'Katy Alvarado.  CCS',\n",
       "       'Katy Alvarado  CCS', 'Katy Alvarado CCS',\n",
       "       \"Shelter Care R.E.D'S Program coordinator. \\nAs well as The HOMES FOR GOOD website !\",\n",
       "       'svdp connections', 'St Vincent had documents', 'svdp connetions',\n",
       "       'Svdp connections', 'CCO',\n",
       "       'Catholic Charities of OR/Louis Diaz Medina', 'amber OHOP',\n",
       "       'amber ohop', 'From misty barkhimer', 'Misty barkhimer',\n",
       "       'St. Vincent de Paul.', \"St Vinnie's\", \"St.Vinnie's\",\n",
       "       'Love Project', 'The Love Project',\n",
       "       \"St. Vincent's rapid rehousing worker\",\n",
       "       'Catholic Charities/Louis Diaz Medina', 'ShelterCare employee',\n",
       "       'through the grapevice',\n",
       "       'Shelter Care R.E.D.S Program coordinator David Madan and Royanna',\n",
       "       'Shelter Care program coordinator David Madan and Royanna',\n",
       "       'Second Chances', 'church', 'st vincent', 'Schaun',\n",
       "       'Catholic Charities of Oregon/Louis Diaz Medina', 'Schaun cox',\n",
       "       'Scghaun cox'], dtype=object)"
      ]
     },
     "execution_count": 64,
     "metadata": {},
     "output_type": "execute_result"
    }
   ],
   "source": [
    "p9.loc[p9.P9BCat == \"Community Organization\", \"Response\"].unique()"
   ]
  },
  {
   "cell_type": "code",
   "execution_count": 123,
   "id": "893614a8",
   "metadata": {},
   "outputs": [],
   "source": [
    "hhc_cnt = p9['P9Cat'].value_counts().rename_axis('how_heard').reset_index(name='counts')"
   ]
  },
  {
   "cell_type": "code",
   "execution_count": 124,
   "id": "0d18dbbe",
   "metadata": {},
   "outputs": [],
   "source": [
    "hhc_cnt.to_csv(path+'\\\\output\\\\how_heard_count.csv', index=False)"
   ]
  },
  {
   "cell_type": "code",
   "execution_count": 65,
   "id": "11fa4d94",
   "metadata": {},
   "outputs": [
    {
     "data": {
      "text/plain": [
       "array(['My current roommate told me about it',\n",
       "       'My current roommate told me', 'My roommate told me about it',\n",
       "       'My family coach told me about it and I need it so bad with all the kids I have',\n",
       "       'Heard from friend.',\n",
       "       'One of my case managers told me about the waiting list opening today. Kim was here at DHS to help fill out this paperwork so i might be able to get into my own place. I still have infection in my body and may have to have more of my foot amputated and need my own place to rest and heal.',\n",
       "       'Word of mouth', 'My mental Health councilor and sister told me.',\n",
       "       'word of mouth', 'A friend told me about it',\n",
       "       'One of my case workers at Senior & Disability Services told me to apply.',\n",
       "       'Our landlord told us about it',\n",
       "       'I heard from you through my therapy with José Mora Santana',\n",
       "       'WE heard about the program through a work source housing specialist Gretchen Stupke',\n",
       "       'My daughter told me',\n",
       "       'Family member who lives in Hayden Bridge said to apply for these homes.',\n",
       "       'Word of mouth.',\n",
       "       'I heard about the wait list from Senior and Disable Services',\n",
       "       'Friend told me', 'My advocate told me to apply',\n",
       "       'A friend told me',\n",
       "       \"Visiting aforementioned elderly dad and met a very nice woman @ the hotel where I'm staying for my two day visit. Happened to meet her the evening before this list opened. Felt like it was a sign. She informed me it may be helpful that we are both veterans.\",\n",
       "       'I heard about homes for good from a girlfriend about five day ago.',\n",
       "       'Friend, word of mouth', 'Word of Mouth',\n",
       "       'I knew about homes 4 good but nothing has been available for the last couple of years. and also my sister told me that it is time to apply. She does not generally live in Oregon but is visiting the area for a few weeks.',\n",
       "       'I was in homes for good talking to the receptionist and mentioned it.',\n",
       "       'A friend told me about it.',\n",
       "       'A friend who told me to find help so i dont kill myself working two jobs anymore',\n",
       "       'mouth', 'Word o mouth',\n",
       "       'Assistant manager said that we are bad tenants',\n",
       "       'I heard from a friend',\n",
       "       'Looking glass told me. Aswell as my case manger at looking glass new roads.',\n",
       "       'Neighbor, word of mouth', 'Boss told him about our event.',\n",
       "       'Staff assisting to find housing told me about it.',\n",
       "       'Grew up in a Homes for Good housing and was told about the wait list by a family member.',\n",
       "       'a friend told me about it and wanted to help',\n",
       "       'Has had help from helping hands in the past and was told of this set reminders and alarms',\n",
       "       'Heard from a friend word of mouth', 'I heard from my RCO agent.',\n",
       "       'Word of mouth from SVdP.',\n",
       "       'I heard about this opportunity through my navigator',\n",
       "       'Sister told me. And have me an information packet.',\n",
       "       'Heard about it from volunteering at Meals on Wheels',\n",
       "       'My sister told me about it.', 'Jola Luxs my pa told me about it',\n",
       "       'Ali Sanchez my case worker told me.',\n",
       "       'I heard it through my counselor.', 'A friend told me.',\n",
       "       'my therapist told me',\n",
       "       'I ran into a friend at the downtown transit station last week and she told me about it',\n",
       "       'Word of mouh', 'A friend told her', 'a friend told her',\n",
       "       'My therapist told me about it.', 'My cousin told me.',\n",
       "       'girlfriend told him', 'My mom told me', 'Friend told him',\n",
       "       'First Place Family center told me about it',\n",
       "       'My fiend Jodi told me about it', 'Sister told her',\n",
       "       'Homes for Good told me when i inquired about moving to another place that is safer for me and fits my demographic of elderly and disabled',\n",
       "       'Word of kouth',\n",
       "       'A lot of people were talking about it and I saw them and they gave me direction on what to do and were to go if I ran into any problems.',\n",
       "       'I heard about this through a friend’s suggestion',\n",
       "       'It said waitlist are open until Aug 9th',\n",
       "       'My therapist told me about it', 'daughter told her',\n",
       "       'Friend told me about it', 'Word of mouth\\nThrough the grapevine',\n",
       "       'Resident Meeting',\n",
       "       'I heard about the wait thru a counselor at Serenity Lane. My graduation date is August 12th. Will be returning to car living and staying with friends here and there aka couch surfing.',\n",
       "       'My friend told me', 'My aunt told me', 'An aquaintence told me',\n",
       "       'grandson told her', 'My mom told me.',\n",
       "       'My family told me about it', 'My mother in law told me about you',\n",
       "       'My daughter Michele heard about it through her living quarters.  Cornerstone PrairieView Apts.',\n",
       "       'Mother told me', 'Client’s family member told me about it.',\n",
       "       'St. vincent depaul told me about you when i turned in other housing applications',\n",
       "       'My homeless advocate from looking glass told me because my rental assistance is about to expire',\n",
       "       'Heard from Centro Latino Americano',\n",
       "       'I heard from my mother Renee Howard', 'sister told him',\n",
       "       \"Heard through contacting women's space asking assistance relocating during domestic violence situation.\",\n",
       "       'Linda Ague our Families volunteer advocate told us about house for good',\n",
       "       'by a family advocate of us told us about the program',\n",
       "       'Linda Ague our families volunteer advocate told us about the homes for good',\n",
       "       'Family told me',\n",
       "       'Been following homes4good since I applied for my Section 8 voucher; they told me about global waitlist opening up. Also, I have my voucher now!',\n",
       "       'Friend of mine told me',\n",
       "       'Relief Nursery of Eugene, Oregon gave me a copied hand out and suggested apply, before closing of new waitlist process. Said I am eligible, and it would help my family.',\n",
       "       'brother told him', 'My daughter told me the list was open.',\n",
       "       'Lady told me when she heard how desperate I am to get closer.',\n",
       "       'My mother sought out a way to get my housing in Oregon. My friend Joe Givens in Eugene also told me about the waiting list as it my choice to be my home state for the rest of my life',\n",
       "       'Woman told me about when I said how desperate I am to get closer to my dad.',\n",
       "       'Woman heard me stressing about needing to move closer.',\n",
       "       'Woman overheard me fretting about needing to get closer to my elderly father.',\n",
       "       'Woman overheard me fretting about needing to get closer to my elderly father',\n",
       "       'Woman overheard me fretting about needing to get closer to my elderly.',\n",
       "       'Florence HFG tenant told her about applications being open',\n",
       "       'Son told her that the waitlist opened from his job or someone he knew.',\n",
       "       'Meeting', 'My aunt told me about this wait list being opened.',\n",
       "       'out reach told us about the lists', 'family member told me'],\n",
       "      dtype=object)"
      ]
     },
     "execution_count": 65,
     "metadata": {},
     "output_type": "execute_result"
    }
   ],
   "source": [
    "p9.loc[p9.P9Cat == \"Word of Mouth\", \"Response\"].unique()"
   ]
  },
  {
   "cell_type": "code",
   "execution_count": 67,
   "id": "a58dbcea",
   "metadata": {},
   "outputs": [
    {
     "data": {
      "text/html": [
       "<div>\n",
       "<style scoped>\n",
       "    .dataframe tbody tr th:only-of-type {\n",
       "        vertical-align: middle;\n",
       "    }\n",
       "\n",
       "    .dataframe tbody tr th {\n",
       "        vertical-align: top;\n",
       "    }\n",
       "\n",
       "    .dataframe thead th {\n",
       "        text-align: right;\n",
       "    }\n",
       "</style>\n",
       "<table border=\"1\" class=\"dataframe\">\n",
       "  <thead>\n",
       "    <tr style=\"text-align: right;\">\n",
       "      <th></th>\n",
       "      <th>QuestionID</th>\n",
       "      <th>KeyApplication</th>\n",
       "      <th>Question</th>\n",
       "      <th>Preference</th>\n",
       "      <th>Answer</th>\n",
       "      <th>Response</th>\n",
       "      <th>TSModified</th>\n",
       "      <th>TSCreated</th>\n",
       "    </tr>\n",
       "  </thead>\n",
       "  <tbody>\n",
       "    <tr>\n",
       "      <th>6238</th>\n",
       "      <td>2083</td>\n",
       "      <td>5421657</td>\n",
       "      <td>Did someone help you complete this application...</td>\n",
       "      <td>P8</td>\n",
       "      <td>No</td>\n",
       "      <td>no</td>\n",
       "      <td>2022-07-26 13:07:16</td>\n",
       "      <td>2022-07-26 13:07:16</td>\n",
       "    </tr>\n",
       "    <tr>\n",
       "      <th>6422</th>\n",
       "      <td>2083</td>\n",
       "      <td>5421720</td>\n",
       "      <td>Did someone help you complete this application...</td>\n",
       "      <td>P8</td>\n",
       "      <td>No</td>\n",
       "      <td>no</td>\n",
       "      <td>2022-07-26 13:08:45</td>\n",
       "      <td>2022-07-26 13:08:45</td>\n",
       "    </tr>\n",
       "    <tr>\n",
       "      <th>7194</th>\n",
       "      <td>2083</td>\n",
       "      <td>5422008</td>\n",
       "      <td>Did someone help you complete this application...</td>\n",
       "      <td>P8</td>\n",
       "      <td>No</td>\n",
       "      <td>NaN</td>\n",
       "      <td>2022-07-26 13:15:50</td>\n",
       "      <td>2022-07-26 13:15:50</td>\n",
       "    </tr>\n",
       "    <tr>\n",
       "      <th>10402</th>\n",
       "      <td>2083</td>\n",
       "      <td>5423297</td>\n",
       "      <td>Did someone help you complete this application...</td>\n",
       "      <td>P8</td>\n",
       "      <td>No</td>\n",
       "      <td>no</td>\n",
       "      <td>2022-07-26 13:57:49</td>\n",
       "      <td>2022-07-26 13:57:49</td>\n",
       "    </tr>\n",
       "    <tr>\n",
       "      <th>10590</th>\n",
       "      <td>2083</td>\n",
       "      <td>5423367</td>\n",
       "      <td>Did someone help you complete this application...</td>\n",
       "      <td>P8</td>\n",
       "      <td>No</td>\n",
       "      <td>no</td>\n",
       "      <td>2022-07-26 13:59:57</td>\n",
       "      <td>2022-07-26 13:59:57</td>\n",
       "    </tr>\n",
       "    <tr>\n",
       "      <th>...</th>\n",
       "      <td>...</td>\n",
       "      <td>...</td>\n",
       "      <td>...</td>\n",
       "      <td>...</td>\n",
       "      <td>...</td>\n",
       "      <td>...</td>\n",
       "      <td>...</td>\n",
       "      <td>...</td>\n",
       "    </tr>\n",
       "    <tr>\n",
       "      <th>77386</th>\n",
       "      <td>2083</td>\n",
       "      <td>5467743</td>\n",
       "      <td>Did someone help you complete this application...</td>\n",
       "      <td>P8</td>\n",
       "      <td>No</td>\n",
       "      <td>no</td>\n",
       "      <td>2022-08-06 17:06:09</td>\n",
       "      <td>2022-08-06 17:06:09</td>\n",
       "    </tr>\n",
       "    <tr>\n",
       "      <th>79826</th>\n",
       "      <td>2083</td>\n",
       "      <td>5469486</td>\n",
       "      <td>Did someone help you complete this application...</td>\n",
       "      <td>P8</td>\n",
       "      <td>No</td>\n",
       "      <td>no</td>\n",
       "      <td>2022-08-07 19:11:50</td>\n",
       "      <td>2022-08-07 19:11:50</td>\n",
       "    </tr>\n",
       "    <tr>\n",
       "      <th>81294</th>\n",
       "      <td>2083</td>\n",
       "      <td>5470510</td>\n",
       "      <td>Did someone help you complete this application...</td>\n",
       "      <td>P8</td>\n",
       "      <td>No</td>\n",
       "      <td>no</td>\n",
       "      <td>2022-08-08 11:16:36</td>\n",
       "      <td>2022-08-08 11:16:36</td>\n",
       "    </tr>\n",
       "    <tr>\n",
       "      <th>85942</th>\n",
       "      <td>2083</td>\n",
       "      <td>5472729</td>\n",
       "      <td>Did someone help you complete this application...</td>\n",
       "      <td>P8</td>\n",
       "      <td>Yes</td>\n",
       "      <td>lindsay weiss</td>\n",
       "      <td>2022-08-08 17:06:49</td>\n",
       "      <td>2022-08-08 17:06:49</td>\n",
       "    </tr>\n",
       "    <tr>\n",
       "      <th>102086</th>\n",
       "      <td>2083</td>\n",
       "      <td>5480844</td>\n",
       "      <td>Did someone help you complete this application...</td>\n",
       "      <td>P8</td>\n",
       "      <td>Yes</td>\n",
       "      <td>staff</td>\n",
       "      <td>2022-08-09 18:49:21</td>\n",
       "      <td>2022-08-09 18:49:21</td>\n",
       "    </tr>\n",
       "  </tbody>\n",
       "</table>\n",
       "<p>126 rows × 8 columns</p>\n",
       "</div>"
      ],
      "text/plain": [
       "        QuestionID  KeyApplication  \\\n",
       "6238          2083         5421657   \n",
       "6422          2083         5421720   \n",
       "7194          2083         5422008   \n",
       "10402         2083         5423297   \n",
       "10590         2083         5423367   \n",
       "...            ...             ...   \n",
       "77386         2083         5467743   \n",
       "79826         2083         5469486   \n",
       "81294         2083         5470510   \n",
       "85942         2083         5472729   \n",
       "102086        2083         5480844   \n",
       "\n",
       "                                                 Question Preference Answer  \\\n",
       "6238    Did someone help you complete this application...         P8     No   \n",
       "6422    Did someone help you complete this application...         P8     No   \n",
       "7194    Did someone help you complete this application...         P8     No   \n",
       "10402   Did someone help you complete this application...         P8     No   \n",
       "10590   Did someone help you complete this application...         P8     No   \n",
       "...                                                   ...        ...    ...   \n",
       "77386   Did someone help you complete this application...         P8     No   \n",
       "79826   Did someone help you complete this application...         P8     No   \n",
       "81294   Did someone help you complete this application...         P8     No   \n",
       "85942   Did someone help you complete this application...         P8    Yes   \n",
       "102086  Did someone help you complete this application...         P8    Yes   \n",
       "\n",
       "             Response           TSModified            TSCreated  \n",
       "6238               no  2022-07-26 13:07:16  2022-07-26 13:07:16  \n",
       "6422               no  2022-07-26 13:08:45  2022-07-26 13:08:45  \n",
       "7194              NaN  2022-07-26 13:15:50  2022-07-26 13:15:50  \n",
       "10402              no  2022-07-26 13:57:49  2022-07-26 13:57:49  \n",
       "10590              no  2022-07-26 13:59:57  2022-07-26 13:59:57  \n",
       "...               ...                  ...                  ...  \n",
       "77386              no  2022-08-06 17:06:09  2022-08-06 17:06:09  \n",
       "79826              no  2022-08-07 19:11:50  2022-08-07 19:11:50  \n",
       "81294              no  2022-08-08 11:16:36  2022-08-08 11:16:36  \n",
       "85942   lindsay weiss  2022-08-08 17:06:49  2022-08-08 17:06:49  \n",
       "102086          staff  2022-08-09 18:49:21  2022-08-09 18:49:21  \n",
       "\n",
       "[126 rows x 8 columns]"
      ]
     },
     "execution_count": 67,
     "metadata": {},
     "output_type": "execute_result"
    }
   ],
   "source": [
    "aqh[(aqh.KeyApplication.isin(aqh[aqh.Response == 'no'].KeyApplication.unique())) & (aqh.Preference=='P8')]"
   ]
  },
  {
   "cell_type": "code",
   "execution_count": 33,
   "id": "d5a5ba42",
   "metadata": {},
   "outputs": [
    {
     "data": {
      "text/plain": [
       "array(['Unknown ', 'Community Member', 'Senior Disability Service Staff',\n",
       "       'Homes for Good Staff', 'Connected Lane County Staff ',\n",
       "       'Sponsors Inc Staff', 'Lane County Staff Member',\n",
       "       'Catholic Community Services Staff', 'ODHS Staff',\n",
       "       'Sheltercare Staff', 'Laurel Hill Center Staff',\n",
       "       'Lane Community College Staff ', 'Serenity Lane Staff',\n",
       "       'HIV Alliance Staff ', 'Emergence Staff',\n",
       "       'Pearl Buck Center Staff', 'Options Staff ',\n",
       "       'Smart Living Learning and Earning with Autism Staff'],\n",
       "      dtype=object)"
      ]
     },
     "execution_count": 33,
     "metadata": {},
     "output_type": "execute_result"
    }
   ],
   "source": [
    "who['Detailed Name'].unique()"
   ]
  },
  {
   "cell_type": "code",
   "execution_count": 101,
   "id": "5c2c759e",
   "metadata": {},
   "outputs": [],
   "source": [
    "p8 = reorganizeP8()"
   ]
  },
  {
   "cell_type": "code",
   "execution_count": 102,
   "id": "e5714477",
   "metadata": {},
   "outputs": [
    {
     "data": {
      "text/html": [
       "<div>\n",
       "<style scoped>\n",
       "    .dataframe tbody tr th:only-of-type {\n",
       "        vertical-align: middle;\n",
       "    }\n",
       "\n",
       "    .dataframe tbody tr th {\n",
       "        vertical-align: top;\n",
       "    }\n",
       "\n",
       "    .dataframe thead th {\n",
       "        text-align: right;\n",
       "    }\n",
       "</style>\n",
       "<table border=\"1\" class=\"dataframe\">\n",
       "  <thead>\n",
       "    <tr style=\"text-align: right;\">\n",
       "      <th></th>\n",
       "      <th>who_helped</th>\n",
       "      <th>counts</th>\n",
       "    </tr>\n",
       "  </thead>\n",
       "  <tbody>\n",
       "    <tr>\n",
       "      <th>0</th>\n",
       "      <td>Community Organization</td>\n",
       "      <td>3999</td>\n",
       "    </tr>\n",
       "    <tr>\n",
       "      <th>1</th>\n",
       "      <td>Homes For Good</td>\n",
       "      <td>3151</td>\n",
       "    </tr>\n",
       "    <tr>\n",
       "      <th>2</th>\n",
       "      <td>Community Member</td>\n",
       "      <td>1657</td>\n",
       "    </tr>\n",
       "    <tr>\n",
       "      <th>3</th>\n",
       "      <td>Human Services Profession</td>\n",
       "      <td>1482</td>\n",
       "    </tr>\n",
       "    <tr>\n",
       "      <th>4</th>\n",
       "      <td>Housing Specialist</td>\n",
       "      <td>549</td>\n",
       "    </tr>\n",
       "    <tr>\n",
       "      <th>5</th>\n",
       "      <td>Unknown</td>\n",
       "      <td>55</td>\n",
       "    </tr>\n",
       "  </tbody>\n",
       "</table>\n",
       "</div>"
      ],
      "text/plain": [
       "                  who_helped  counts\n",
       "0     Community Organization    3999\n",
       "1             Homes For Good    3151\n",
       "2           Community Member    1657\n",
       "3  Human Services Profession    1482\n",
       "4         Housing Specialist     549\n",
       "5                    Unknown      55"
      ]
     },
     "execution_count": 102,
     "metadata": {},
     "output_type": "execute_result"
    }
   ],
   "source": [
    "p8['P8BCat'].value_counts().rename_axis('who_helped').reset_index(name='counts')"
   ]
  },
  {
   "cell_type": "code",
   "execution_count": 103,
   "id": "957ba142",
   "metadata": {
    "scrolled": true
   },
   "outputs": [
    {
     "data": {
      "text/plain": [
       "['07/26/2022',\n",
       " 'CLaire Hutton ecobeanfabric@yahoo.com 541-972-9288',\n",
       " 'Choice',\n",
       " 'Chris',\n",
       " 'Claire Hutton \\necobeanfabric@yahoo.com\\n541-972-9288',\n",
       " 'Claire Hutton  ecobeanfabric@yahoo.com 541-972-9288',\n",
       " 'Claire Hutton ecobeanfabric@yahoo.com',\n",
       " 'Claire Hutton ecobeanfabric@yahoo.com  541-972-9288',\n",
       " 'Claire Hutton ecobeanfabric@yahoo.com 541-972-9288',\n",
       " 'Claire Hutton.  ecobeanfabric@yahoo.com. 541-972-9288',\n",
       " 'Claire Hutton. ecobeanfabric@yahoo.com    541-972-9288',\n",
       " 'Claire Hutton. ecobeanfabric@yahoo.com   541-972-9288',\n",
       " 'Diedra',\n",
       " 'Dpn',\n",
       " 'Living in my mini van',\n",
       " 'Maclain',\n",
       " 'Nicole0110',\n",
       " 'No',\n",
       " 'PH 1 bdrm Riverview',\n",
       " 'Section 8 HCV 2022 Waitlist',\n",
       " 'Shirley',\n",
       " 'Sleeping in my truckerpinan',\n",
       " 'Tasherra',\n",
       " 'Viola',\n",
       " 'anc',\n",
       " 'carol',\n",
       " 'diedra',\n",
       " 'din',\n",
       " 'dpm',\n",
       " 'linz']"
      ]
     },
     "execution_count": 103,
     "metadata": {},
     "output_type": "execute_result"
    }
   ],
   "source": [
    "sorted(list(p8.loc[p8.P8BCat == \"Unknown\", \"Response\"].unique()))"
   ]
  },
  {
   "cell_type": "code",
   "execution_count": 3,
   "id": "57c2fefa",
   "metadata": {},
   "outputs": [],
   "source": [
    "import matplotlib.pyplot as plt"
   ]
  },
  {
   "cell_type": "code",
   "execution_count": 4,
   "id": "01ba015e",
   "metadata": {},
   "outputs": [],
   "source": [
    "inpath = r'T:\\DCProjects\\Support\\Lane\\HfG\\DataFromThem'"
   ]
  },
  {
   "cell_type": "code",
   "execution_count": 5,
   "id": "064ca684",
   "metadata": {},
   "outputs": [],
   "source": [
    "# oa - online applications\n",
    "oa = pd.read_csv(inpath + '\\\\OnlineApplications.csv')"
   ]
  },
  {
   "cell_type": "code",
   "execution_count": 26,
   "id": "75f0687b",
   "metadata": {},
   "outputs": [
    {
     "data": {
      "text/plain": [
       "Index(['KeyApplication', 'AgencyID', 'WLNumber', 'WLName', 'Language',\n",
       "       'NameFirst', 'NameMiddle', 'NameLast', 'MailAddress1', 'MailAddress2',\n",
       "       'MailCity', 'MailState', 'MailZIP', 'MailZIP4', 'LegalAddress1',\n",
       "       'LegalAddress2', 'LegalCity', 'LegalState', 'LegalZIP', 'LegalZIP4',\n",
       "       'Phone', 'MobilePhone', 'OtherContact', 'OtherType', 'SSN', 'DOB',\n",
       "       'EmancipatedMinor', 'Sex', 'Disabled', 'Race', 'Ethnicity',\n",
       "       'HouseholdSize', 'HouseholdMinors', 'IncomeAnnual', 'IncomeChecking',\n",
       "       'IncomeSavings', 'IncomeInvestments', 'IncomeRealEstate', 'IncomeOther',\n",
       "       'AssetsChecking', 'AssetsSavings', 'AssetsInvestments',\n",
       "       'AssetsRealEstate', 'AssetsOther', 'QuestionIDs', 'OptOut92006',\n",
       "       'PreviousAgencyID', 'TSModified', 'TSCreated', 'ApplicationTS',\n",
       "       'eAgree', 'AddressValidation', 'LotteryNumber', 'Citizenship',\n",
       "       'OptOutSSN', 'AccountEmail'],\n",
       "      dtype='object')"
      ]
     },
     "execution_count": 26,
     "metadata": {},
     "output_type": "execute_result"
    }
   ],
   "source": [
    "oa.columns"
   ]
  },
  {
   "cell_type": "code",
   "execution_count": 32,
   "id": "03c65236",
   "metadata": {},
   "outputs": [],
   "source": [
    "oa['Age'] = oa['DOB'].apply(lambda x: calculate_age(x))"
   ]
  },
  {
   "cell_type": "code",
   "execution_count": 214,
   "id": "0efc25da",
   "metadata": {},
   "outputs": [
    {
     "data": {
      "image/png": "[encoded data removed]",
      "text/plain": [
       "<Figure size 432x288 with 1 Axes>"
      ]
     },
     "metadata": {
      "needs_background": "light"
     },
     "output_type": "display_data"
    }
   ],
   "source": [
    "plt.hist(oa.loc[(oa.IncomeAnnual != 0) & (oa.IncomeAnnual < 80000), 'IncomeAnnual']);"
   ]
  },
  {
   "cell_type": "code",
   "execution_count": 221,
   "id": "1b4c6f62",
   "metadata": {},
   "outputs": [
    {
     "data": {
      "image/png": "[encoded data removed]",
      "text/plain": [
       "<Figure size 432x288 with 1 Axes>"
      ]
     },
     "metadata": {
      "needs_background": "light"
     },
     "output_type": "display_data"
    }
   ],
   "source": [
    "plt.hist(x=oa['HouseholdSize']);"
   ]
  },
  {
   "cell_type": "code",
   "execution_count": 229,
   "id": "f77de8a2",
   "metadata": {},
   "outputs": [
    {
     "data": {
      "text/plain": [
       "44"
      ]
     },
     "execution_count": 229,
     "metadata": {},
     "output_type": "execute_result"
    }
   ],
   "source": [
    "len(oa.LegalState.value_counts().index)"
   ]
  },
  {
   "cell_type": "code",
   "execution_count": 226,
   "id": "f46fa471",
   "metadata": {},
   "outputs": [
    {
     "data": {
      "text/plain": [
       "97402    7181\n",
       "97401    3493\n",
       "97477    3416\n",
       "97478    1782\n",
       "97404    1608\n",
       "         ... \n",
       "97462       1\n",
       "85225       1\n",
       "44052       1\n",
       "30014       1\n",
       "7104        1\n",
       "Name: LegalZIP, Length: 548, dtype: int64"
      ]
     },
     "execution_count": 226,
     "metadata": {},
     "output_type": "execute_result"
    }
   ],
   "source": [
    "oa.LegalZIP.value_counts()"
   ]
  },
  {
   "cell_type": "code",
   "execution_count": 225,
   "id": "ee64ad69",
   "metadata": {},
   "outputs": [
    {
     "data": {
      "text/plain": [
       "0    16426\n",
       "1     4624\n",
       "2     2868\n",
       "3     1261\n",
       "4      336\n",
       "5      163\n",
       "6       22\n",
       "7        9\n",
       "8        5\n",
       "9        4\n",
       "Name: HouseholdMinors, dtype: int64"
      ]
     },
     "execution_count": 225,
     "metadata": {},
     "output_type": "execute_result"
    }
   ],
   "source": [
    "oa.HouseholdMinors.value_counts()"
   ]
  },
  {
   "cell_type": "code",
   "execution_count": 224,
   "id": "32219771",
   "metadata": {},
   "outputs": [
    {
     "data": {
      "text/plain": [
       "0    25710\n",
       "1        8\n",
       "Name: EmancipatedMinor, dtype: int64"
      ]
     },
     "execution_count": 224,
     "metadata": {},
     "output_type": "execute_result"
    }
   ],
   "source": [
    "oa.EmancipatedMinor.value_counts()"
   ]
  },
  {
   "cell_type": "code",
   "execution_count": 215,
   "id": "2f340d20",
   "metadata": {},
   "outputs": [
    {
     "data": {
      "image/png": "[encoded data removed]",
      "text/plain": [
       "<Figure size 432x288 with 1 Axes>"
      ]
     },
     "metadata": {
      "needs_background": "light"
     },
     "output_type": "display_data"
    }
   ],
   "source": [
    "plt.hist(x=oa['Age']);"
   ]
  },
  {
   "cell_type": "code",
   "execution_count": 199,
   "id": "eed2b9ab",
   "metadata": {},
   "outputs": [
    {
     "data": {
      "text/plain": [
       "35    760\n",
       "38    740\n",
       "28    684\n",
       "36    667\n",
       "33    656\n",
       "     ... \n",
       "88      7\n",
       "87      6\n",
       "85      4\n",
       "94      3\n",
       "93      1\n",
       "Name: Age, Length: 73, dtype: int64"
      ]
     },
     "execution_count": 199,
     "metadata": {},
     "output_type": "execute_result"
    }
   ],
   "source": [
    "oa['Age'].value_counts()"
   ]
  },
  {
   "cell_type": "code",
   "execution_count": 197,
   "id": "5bcb5dd6",
   "metadata": {},
   "outputs": [
    {
     "data": {
      "text/plain": [
       "eng    25683\n",
       "spa       35\n",
       "Name: Language, dtype: int64"
      ]
     },
     "execution_count": 197,
     "metadata": {},
     "output_type": "execute_result"
    }
   ],
   "source": [
    "oa['Language'].value_counts()"
   ]
  },
  {
   "cell_type": "code",
   "execution_count": 159,
   "id": "38c8c614",
   "metadata": {
    "scrolled": true
   },
   "outputs": [
    {
     "data": {
      "text/plain": [
       "(25718, 56)"
      ]
     },
     "execution_count": 159,
     "metadata": {},
     "output_type": "execute_result"
    }
   ],
   "source": [
    "oa.shape"
   ]
  },
  {
   "cell_type": "code",
   "execution_count": 158,
   "id": "d56fd6ea",
   "metadata": {},
   "outputs": [
    {
     "data": {
      "text/plain": [
       "25718"
      ]
     },
     "execution_count": 158,
     "metadata": {},
     "output_type": "execute_result"
    }
   ],
   "source": [
    "len(oa.KeyApplication.unique())"
   ]
  },
  {
   "cell_type": "code",
   "execution_count": 37,
   "id": "09f76f3f",
   "metadata": {},
   "outputs": [
    {
     "data": {
      "text/html": [
       "<div>\n",
       "<style scoped>\n",
       "    .dataframe tbody tr th:only-of-type {\n",
       "        vertical-align: middle;\n",
       "    }\n",
       "\n",
       "    .dataframe tbody tr th {\n",
       "        vertical-align: top;\n",
       "    }\n",
       "\n",
       "    .dataframe thead th {\n",
       "        text-align: right;\n",
       "    }\n",
       "</style>\n",
       "<table border=\"1\" class=\"dataframe\">\n",
       "  <thead>\n",
       "    <tr style=\"text-align: right;\">\n",
       "      <th></th>\n",
       "      <th>LegalAddress1</th>\n",
       "      <th>LegalAddress2</th>\n",
       "      <th>LegalCity</th>\n",
       "      <th>LegalState</th>\n",
       "      <th>LegalZIP</th>\n",
       "      <th>LegalZIP4</th>\n",
       "    </tr>\n",
       "  </thead>\n",
       "  <tbody>\n",
       "    <tr>\n",
       "      <th>0</th>\n",
       "      <td>1071 FAIRFIELD AVE</td>\n",
       "      <td>APT 100</td>\n",
       "      <td>EUGENE</td>\n",
       "      <td>OR</td>\n",
       "      <td>97402</td>\n",
       "      <td>2063.0</td>\n",
       "    </tr>\n",
       "  </tbody>\n",
       "</table>\n",
       "</div>"
      ],
      "text/plain": [
       "        LegalAddress1 LegalAddress2 LegalCity LegalState  LegalZIP  LegalZIP4\n",
       "0  1071 FAIRFIELD AVE       APT 100    EUGENE         OR     97402     2063.0"
      ]
     },
     "execution_count": 37,
     "metadata": {},
     "output_type": "execute_result"
    }
   ],
   "source": [
    "oa.loc[oa.KeyApplication==5419013, ['LegalAddress1','LegalAddress2', 'LegalCity', 'LegalState', 'LegalZIP', 'LegalZIP4']]"
   ]
  },
  {
   "cell_type": "code",
   "execution_count": 36,
   "id": "f753b39d",
   "metadata": {},
   "outputs": [
    {
     "data": {
      "text/html": [
       "<div>\n",
       "<style scoped>\n",
       "    .dataframe tbody tr th:only-of-type {\n",
       "        vertical-align: middle;\n",
       "    }\n",
       "\n",
       "    .dataframe tbody tr th {\n",
       "        vertical-align: top;\n",
       "    }\n",
       "\n",
       "    .dataframe thead th {\n",
       "        text-align: right;\n",
       "    }\n",
       "</style>\n",
       "<table border=\"1\" class=\"dataframe\">\n",
       "  <thead>\n",
       "    <tr style=\"text-align: right;\">\n",
       "      <th></th>\n",
       "      <th>HouseholdSize</th>\n",
       "      <th>HouseholdMinors</th>\n",
       "      <th>PreviousAgencyID</th>\n",
       "      <th>Citizenship</th>\n",
       "    </tr>\n",
       "  </thead>\n",
       "  <tbody>\n",
       "    <tr>\n",
       "      <th>0</th>\n",
       "      <td>3</td>\n",
       "      <td>1</td>\n",
       "      <td>NaN</td>\n",
       "      <td>EC</td>\n",
       "    </tr>\n",
       "  </tbody>\n",
       "</table>\n",
       "</div>"
      ],
      "text/plain": [
       "   HouseholdSize  HouseholdMinors  PreviousAgencyID Citizenship\n",
       "0              3                1               NaN          EC"
      ]
     },
     "execution_count": 36,
     "metadata": {},
     "output_type": "execute_result"
    }
   ],
   "source": [
    "oa.loc[oa.KeyApplication==5419013, ['HouseholdSize', 'HouseholdMinors', 'PreviousAgencyID', 'Citizenship']]"
   ]
  },
  {
   "cell_type": "code",
   "execution_count": 8,
   "id": "0a4b5967",
   "metadata": {},
   "outputs": [
    {
     "data": {
      "text/plain": [
       "['ApplicantIncome.csv',\n",
       " 'ApplicationContacts.csv',\n",
       " 'ApplicationMembers.csv',\n",
       " 'ApplicationQuestionHistory.csv',\n",
       " 'Codes added via KEY LCOG WaitlistConnect2022_Draft_D20221201 (003).xlsx',\n",
       " 'Dashboard visual with RA Added.pptx',\n",
       " 'HowDidYouHear.xlsx',\n",
       " 'OnlineApplications.csv']"
      ]
     },
     "execution_count": 8,
     "metadata": {},
     "output_type": "execute_result"
    }
   ],
   "source": [
    "os.listdir(inpath)"
   ]
  },
  {
   "cell_type": "code",
   "execution_count": 9,
   "id": "f0d0fec1",
   "metadata": {},
   "outputs": [],
   "source": [
    "# applicant income\n",
    "ai = pd.read_csv(inpath + '\\\\ApplicantIncome.csv')"
   ]
  },
  {
   "cell_type": "code",
   "execution_count": 27,
   "id": "a69cab56",
   "metadata": {},
   "outputs": [
    {
     "data": {
      "text/html": [
       "<div>\n",
       "<style scoped>\n",
       "    .dataframe tbody tr th:only-of-type {\n",
       "        vertical-align: middle;\n",
       "    }\n",
       "\n",
       "    .dataframe tbody tr th {\n",
       "        vertical-align: top;\n",
       "    }\n",
       "\n",
       "    .dataframe thead th {\n",
       "        text-align: right;\n",
       "    }\n",
       "</style>\n",
       "<table border=\"1\" class=\"dataframe\">\n",
       "  <thead>\n",
       "    <tr style=\"text-align: right;\">\n",
       "      <th></th>\n",
       "      <th>KeyIncome</th>\n",
       "      <th>Amount</th>\n",
       "      <th>HowOften</th>\n",
       "    </tr>\n",
       "  </thead>\n",
       "  <tbody>\n",
       "    <tr>\n",
       "      <th>0</th>\n",
       "      <td>6471877</td>\n",
       "      <td>3500.0</td>\n",
       "      <td>Monthly</td>\n",
       "    </tr>\n",
       "  </tbody>\n",
       "</table>\n",
       "</div>"
      ],
      "text/plain": [
       "   KeyIncome  Amount HowOften\n",
       "0    6471877  3500.0  Monthly"
      ]
     },
     "execution_count": 27,
     "metadata": {},
     "output_type": "execute_result"
    }
   ],
   "source": [
    "ai.loc[ai.KeyApplication==5419013, ['KeyIncome', 'Amount', 'HowOften']]"
   ]
  },
  {
   "cell_type": "code",
   "execution_count": 28,
   "id": "d85a149d",
   "metadata": {},
   "outputs": [
    {
     "data": {
      "text/plain": [
       "42000"
      ]
     },
     "execution_count": 28,
     "metadata": {},
     "output_type": "execute_result"
    }
   ],
   "source": [
    "3500*12"
   ]
  },
  {
   "cell_type": "code",
   "execution_count": 10,
   "id": "2e89375a",
   "metadata": {},
   "outputs": [],
   "source": [
    "# application contacts\n",
    "ac = pd.read_csv(inpath + '\\\\ApplicationContacts.csv')"
   ]
  },
  {
   "cell_type": "code",
   "execution_count": 238,
   "id": "54a7d155",
   "metadata": {},
   "outputs": [
    {
     "data": {
      "text/html": [
       "<div>\n",
       "<style scoped>\n",
       "    .dataframe tbody tr th:only-of-type {\n",
       "        vertical-align: middle;\n",
       "    }\n",
       "\n",
       "    .dataframe tbody tr th {\n",
       "        vertical-align: top;\n",
       "    }\n",
       "\n",
       "    .dataframe thead th {\n",
       "        text-align: right;\n",
       "    }\n",
       "</style>\n",
       "<table border=\"1\" class=\"dataframe\">\n",
       "  <thead>\n",
       "    <tr style=\"text-align: right;\">\n",
       "      <th></th>\n",
       "      <th>KeyContact</th>\n",
       "      <th>KeyApplication</th>\n",
       "      <th>Name</th>\n",
       "      <th>StreetAddress</th>\n",
       "      <th>City</th>\n",
       "      <th>State</th>\n",
       "      <th>ZIP</th>\n",
       "      <th>PhoneNumber</th>\n",
       "      <th>CellNumber</th>\n",
       "      <th>Email</th>\n",
       "      <th>...</th>\n",
       "      <th>ReasonTermination</th>\n",
       "      <th>ReasonEviction</th>\n",
       "      <th>ReasonLatePayment</th>\n",
       "      <th>ReasonRecertification</th>\n",
       "      <th>ReasonChangeInLeaseTerms</th>\n",
       "      <th>ReasonChangeInHouseRules</th>\n",
       "      <th>ReasonOther</th>\n",
       "      <th>ReasonOtherDetail</th>\n",
       "      <th>TSModified</th>\n",
       "      <th>TSCreated</th>\n",
       "    </tr>\n",
       "  </thead>\n",
       "  <tbody>\n",
       "    <tr>\n",
       "      <th>0</th>\n",
       "      <td>786912</td>\n",
       "      <td>5419064</td>\n",
       "      <td>Carol Post</td>\n",
       "      <td>1367 Brookhaven Circle</td>\n",
       "      <td>Toccoa</td>\n",
       "      <td>GA</td>\n",
       "      <td>30577</td>\n",
       "      <td>(706) 779-3359</td>\n",
       "      <td>NaN</td>\n",
       "      <td>cpost@bellsouth.net</td>\n",
       "      <td>...</td>\n",
       "      <td>0</td>\n",
       "      <td>0</td>\n",
       "      <td>0</td>\n",
       "      <td>0</td>\n",
       "      <td>0</td>\n",
       "      <td>0</td>\n",
       "      <td>0</td>\n",
       "      <td>NaN</td>\n",
       "      <td>2022-07-26 12:10:03</td>\n",
       "      <td>2022-07-26 12:10:03</td>\n",
       "    </tr>\n",
       "    <tr>\n",
       "      <th>1</th>\n",
       "      <td>786916</td>\n",
       "      <td>5419158</td>\n",
       "      <td>GIANNA N SANDERS</td>\n",
       "      <td>1642 Water St</td>\n",
       "      <td>Springfield</td>\n",
       "      <td>OR</td>\n",
       "      <td>97477</td>\n",
       "      <td>(541) 228-2001</td>\n",
       "      <td>NaN</td>\n",
       "      <td>hellsangel459335@msn.com</td>\n",
       "      <td>...</td>\n",
       "      <td>0</td>\n",
       "      <td>0</td>\n",
       "      <td>0</td>\n",
       "      <td>0</td>\n",
       "      <td>0</td>\n",
       "      <td>0</td>\n",
       "      <td>1</td>\n",
       "      <td>For any help or if you cannot reach me</td>\n",
       "      <td>2022-07-26 12:13:15</td>\n",
       "      <td>2022-07-26 12:13:15</td>\n",
       "    </tr>\n",
       "    <tr>\n",
       "      <th>2</th>\n",
       "      <td>786917</td>\n",
       "      <td>5419159</td>\n",
       "      <td>Carl Davis</td>\n",
       "      <td>318 Grizzly Ave</td>\n",
       "      <td>Eugene</td>\n",
       "      <td>OR</td>\n",
       "      <td>97404</td>\n",
       "      <td>(503) 741-9768</td>\n",
       "      <td>(503) 741-9768</td>\n",
       "      <td>cdavisii@gmail.com</td>\n",
       "      <td>...</td>\n",
       "      <td>0</td>\n",
       "      <td>0</td>\n",
       "      <td>0</td>\n",
       "      <td>0</td>\n",
       "      <td>0</td>\n",
       "      <td>0</td>\n",
       "      <td>0</td>\n",
       "      <td>NaN</td>\n",
       "      <td>2022-07-26 12:13:17</td>\n",
       "      <td>2022-07-26 12:13:17</td>\n",
       "    </tr>\n",
       "  </tbody>\n",
       "</table>\n",
       "<p>3 rows × 23 columns</p>\n",
       "</div>"
      ],
      "text/plain": [
       "   KeyContact  KeyApplication              Name           StreetAddress  \\\n",
       "0      786912         5419064        Carol Post  1367 Brookhaven Circle   \n",
       "1      786916         5419158  GIANNA N SANDERS           1642 Water St   \n",
       "2      786917         5419159        Carl Davis         318 Grizzly Ave   \n",
       "\n",
       "          City State    ZIP     PhoneNumber      CellNumber  \\\n",
       "0       Toccoa    GA  30577  (706) 779-3359             NaN   \n",
       "1  Springfield    OR  97477  (541) 228-2001             NaN   \n",
       "2       Eugene    OR  97404  (503) 741-9768  (503) 741-9768   \n",
       "\n",
       "                      Email  ... ReasonTermination  ReasonEviction  \\\n",
       "0       cpost@bellsouth.net  ...                 0               0   \n",
       "1  hellsangel459335@msn.com  ...                 0               0   \n",
       "2        cdavisii@gmail.com  ...                 0               0   \n",
       "\n",
       "   ReasonLatePayment  ReasonRecertification  ReasonChangeInLeaseTerms  \\\n",
       "0                  0                      0                         0   \n",
       "1                  0                      0                         0   \n",
       "2                  0                      0                         0   \n",
       "\n",
       "   ReasonChangeInHouseRules  ReasonOther  \\\n",
       "0                         0            0   \n",
       "1                         0            1   \n",
       "2                         0            0   \n",
       "\n",
       "                        ReasonOtherDetail           TSModified  \\\n",
       "0                                     NaN  2022-07-26 12:10:03   \n",
       "1  For any help or if you cannot reach me  2022-07-26 12:13:15   \n",
       "2                                     NaN  2022-07-26 12:13:17   \n",
       "\n",
       "             TSCreated  \n",
       "0  2022-07-26 12:10:03  \n",
       "1  2022-07-26 12:13:15  \n",
       "2  2022-07-26 12:13:17  \n",
       "\n",
       "[3 rows x 23 columns]"
      ]
     },
     "execution_count": 238,
     "metadata": {},
     "output_type": "execute_result"
    }
   ],
   "source": [
    "ac.head(3)"
   ]
  },
  {
   "cell_type": "code",
   "execution_count": 17,
   "id": "bf2423d9",
   "metadata": {},
   "outputs": [
    {
     "data": {
      "text/plain": [
       "Index(['KeyContact', 'KeyApplication', 'Name', 'StreetAddress', 'City',\n",
       "       'State', 'ZIP', 'PhoneNumber', 'CellNumber', 'Email', 'Relationship',\n",
       "       'ReasonEmergency', 'ReasonUnableToContact', 'ReasonTermination',\n",
       "       'ReasonEviction', 'ReasonLatePayment', 'ReasonRecertification',\n",
       "       'ReasonChangeInLeaseTerms', 'ReasonChangeInHouseRules', 'ReasonOther',\n",
       "       'ReasonOtherDetail', 'TSModified', 'TSCreated'],\n",
       "      dtype='object')"
      ]
     },
     "execution_count": 17,
     "metadata": {},
     "output_type": "execute_result"
    }
   ],
   "source": [
    "ac.columns"
   ]
  },
  {
   "cell_type": "code",
   "execution_count": 30,
   "id": "e67b965d",
   "metadata": {},
   "outputs": [
    {
     "data": {
      "text/plain": [
       "Series([], Name: Name, dtype: object)"
      ]
     },
     "execution_count": 30,
     "metadata": {},
     "output_type": "execute_result"
    }
   ],
   "source": [
    "ac.loc[ac.KeyApplication==5419013, 'Name']"
   ]
  },
  {
   "cell_type": "code",
   "execution_count": 11,
   "id": "43a66d80",
   "metadata": {},
   "outputs": [],
   "source": [
    "# application members\n",
    "am = pd.read_csv(inpath + '\\\\ApplicationMembers.csv')"
   ]
  },
  {
   "cell_type": "code",
   "execution_count": 19,
   "id": "82cae643",
   "metadata": {},
   "outputs": [
    {
     "data": {
      "text/plain": [
       "Index(['KeyMember', 'KeyApplication', 'NameLast', 'NameMiddle', 'NameFirst',\n",
       "       'SSN', 'DOB', 'Sex', 'Disabled', 'Relationship', 'Citizenship', 'Race',\n",
       "       'Ethnicity'],\n",
       "      dtype='object')"
      ]
     },
     "execution_count": 19,
     "metadata": {},
     "output_type": "execute_result"
    }
   ],
   "source": [
    "am.columns"
   ]
  },
  {
   "cell_type": "code",
   "execution_count": 189,
   "id": "5b968fcd",
   "metadata": {},
   "outputs": [],
   "source": [
    "am['Age'] = am['DOB'].apply(lambda x: calculate_age(x))"
   ]
  },
  {
   "cell_type": "code",
   "execution_count": 192,
   "id": "d5e68cea",
   "metadata": {},
   "outputs": [
    {
     "data": {
      "text/plain": [
       "1     1299\n",
       "4     1276\n",
       "2     1258\n",
       "3     1122\n",
       "6     1119\n",
       "      ... \n",
       "88       9\n",
       "87       6\n",
       "85       4\n",
       "94       3\n",
       "93       1\n",
       "Name: Age, Length: 91, dtype: int64"
      ]
     },
     "execution_count": 192,
     "metadata": {},
     "output_type": "execute_result"
    }
   ],
   "source": [
    "am['Age'].value_counts()"
   ]
  },
  {
   "cell_type": "code",
   "execution_count": 218,
   "id": "320f389e",
   "metadata": {},
   "outputs": [
    {
     "data": {
      "image/png": "[encoded data removed]",
      "text/plain": [
       "<Figure size 432x288 with 1 Axes>"
      ]
     },
     "metadata": {
      "needs_background": "light"
     },
     "output_type": "display_data"
    }
   ],
   "source": [
    "plt.hist(x=am['Age']);"
   ]
  },
  {
   "cell_type": "code",
   "execution_count": 193,
   "id": "94552ba8",
   "metadata": {
    "scrolled": true
   },
   "outputs": [
    {
     "data": {
      "text/plain": [
       "F    29022\n",
       "M    20355\n",
       "Name: Sex, dtype: int64"
      ]
     },
     "execution_count": 193,
     "metadata": {},
     "output_type": "execute_result"
    }
   ],
   "source": [
    "am['Sex'].value_counts()"
   ]
  },
  {
   "cell_type": "code",
   "execution_count": 194,
   "id": "34986f58",
   "metadata": {},
   "outputs": [
    {
     "data": {
      "text/plain": [
       "0    34796\n",
       "1    14581\n",
       "Name: Disabled, dtype: int64"
      ]
     },
     "execution_count": 194,
     "metadata": {},
     "output_type": "execute_result"
    }
   ],
   "source": [
    "am['Disabled'].value_counts()"
   ]
  },
  {
   "cell_type": "code",
   "execution_count": 195,
   "id": "0fe9de1e",
   "metadata": {},
   "outputs": [
    {
     "data": {
      "text/plain": [
       "1            36615\n",
       "2             3140\n",
       "6             2807\n",
       "3             1462\n",
       "1,3            991\n",
       "             ...  \n",
       "1,4g,6           1\n",
       "3,1,2            1\n",
       "1,2,4b           1\n",
       "1,2,3,5,6        1\n",
       "4,1,2,6          1\n",
       "Name: Race, Length: 131, dtype: int64"
      ]
     },
     "execution_count": 195,
     "metadata": {},
     "output_type": "execute_result"
    }
   ],
   "source": [
    "am['Race'].value_counts()"
   ]
  },
  {
   "cell_type": "code",
   "execution_count": 196,
   "id": "274bd4f3",
   "metadata": {},
   "outputs": [
    {
     "data": {
      "text/plain": [
       "0    42013\n",
       "1     7364\n",
       "Name: Ethnicity, dtype: int64"
      ]
     },
     "execution_count": 196,
     "metadata": {},
     "output_type": "execute_result"
    }
   ],
   "source": [
    "am['Ethnicity'].value_counts()"
   ]
  },
  {
   "cell_type": "code",
   "execution_count": 185,
   "id": "1d96352f",
   "metadata": {},
   "outputs": [
    {
     "data": {
      "text/plain": [
       "datetime.datetime(1988, 12, 4, 0, 0)"
      ]
     },
     "execution_count": 185,
     "metadata": {},
     "output_type": "execute_result"
    }
   ],
   "source": [
    "datetime.strptime(am.DOB.values[0], '%Y-%m-%d')"
   ]
  },
  {
   "cell_type": "code",
   "execution_count": 141,
   "id": "c85c9515",
   "metadata": {},
   "outputs": [
    {
     "data": {
      "text/plain": [
       "array(['EC', 'EN', 'IN', 'PV', 'IC', 'ND', nan], dtype=object)"
      ]
     },
     "execution_count": 141,
     "metadata": {},
     "output_type": "execute_result"
    }
   ],
   "source": [
    "am.Citizenship.unique()"
   ]
  },
  {
   "cell_type": "code",
   "execution_count": 33,
   "id": "df81af13",
   "metadata": {},
   "outputs": [],
   "source": [
    "# application question history\n",
    "aqh = pd.read_csv(inpath + '\\\\ApplicationQuestionHistory.csv')"
   ]
  },
  {
   "cell_type": "code",
   "execution_count": 21,
   "id": "c938e5f8",
   "metadata": {},
   "outputs": [
    {
     "data": {
      "text/plain": [
       "Index(['QuestionID', 'KeyApplication', 'Question', 'Preference', 'Answer',\n",
       "       'Response', 'TSModified', 'TSCreated'],\n",
       "      dtype='object')"
      ]
     },
     "execution_count": 21,
     "metadata": {},
     "output_type": "execute_result"
    }
   ],
   "source": [
    "aqh.columns"
   ]
  },
  {
   "cell_type": "code",
   "execution_count": 161,
   "id": "196e8b7d",
   "metadata": {},
   "outputs": [
    {
     "data": {
      "text/plain": [
       "25718"
      ]
     },
     "execution_count": 161,
     "metadata": {},
     "output_type": "execute_result"
    }
   ],
   "source": [
    "len(aqh.KeyApplication.unique())"
   ]
  },
  {
   "cell_type": "code",
   "execution_count": 34,
   "id": "7ded0b1d",
   "metadata": {},
   "outputs": [],
   "source": [
    "howheard = aqh[aqh.Preference=='P9']"
   ]
  },
  {
   "cell_type": "code",
   "execution_count": 175,
   "id": "68ca9564",
   "metadata": {},
   "outputs": [
    {
     "data": {
      "text/plain": [
       "array(['Yes', 'No'], dtype=object)"
      ]
     },
     "execution_count": 175,
     "metadata": {},
     "output_type": "execute_result"
    }
   ],
   "source": [
    "howheard.Answer.unique()"
   ]
  },
  {
   "cell_type": "code",
   "execution_count": 37,
   "id": "56d00e3f",
   "metadata": {},
   "outputs": [],
   "source": [
    "howheard.loc[:,'Response'] = howheard.copy()['Response'].str.capitalize()"
   ]
  },
  {
   "cell_type": "code",
   "execution_count": 38,
   "id": "4b21bc91",
   "metadata": {},
   "outputs": [
    {
     "data": {
      "text/plain": [
       "Email                                      2757\n",
       "Friend                                     2306\n",
       "Facebook                                   1148\n",
       "Family                                     1092\n",
       "Case manager                                800\n",
       "                                           ... \n",
       "Ive been receving emails                      1\n",
       "I got a message alert sent to my phone.       1\n",
       "Sibling                                       1\n",
       "Willamette families                           1\n",
       "Beth johnson                                  1\n",
       "Name: Response, Length: 2958, dtype: int64"
      ]
     },
     "execution_count": 38,
     "metadata": {},
     "output_type": "execute_result"
    }
   ],
   "source": [
    "howheard.Response.value_counts()"
   ]
  },
  {
   "cell_type": "code",
   "execution_count": 172,
   "id": "bca60544",
   "metadata": {},
   "outputs": [],
   "source": [
    "hhout = howheard.Response.value_counts().rename_axis('how').reset_index(name='counts')"
   ]
  },
  {
   "cell_type": "code",
   "execution_count": 173,
   "id": "2d507836",
   "metadata": {},
   "outputs": [],
   "source": [
    "hhout.to_csv(r'T:\\DCProjects\\Support\\Lane\\HfG\\how_heard.csv', index=False)"
   ]
  },
  {
   "cell_type": "code",
   "execution_count": 146,
   "id": "da493d1d",
   "metadata": {},
   "outputs": [
    {
     "data": {
      "text/plain": [
       "array(['P5', 'P7', 'P8', 'P9'], dtype=object)"
      ]
     },
     "execution_count": 146,
     "metadata": {},
     "output_type": "execute_result"
    }
   ],
   "source": [
    "aqh.Preference.unique()"
   ]
  },
  {
   "cell_type": "code",
   "execution_count": 72,
   "id": "ad4030de",
   "metadata": {},
   "outputs": [],
   "source": [
    "out = df[df.P8BCat == \"Unknown\"][\"Response\"].value_counts().rename_axis('name').reset_index(name='counts')"
   ]
  },
  {
   "cell_type": "code",
   "execution_count": 73,
   "id": "b62f1f9a",
   "metadata": {},
   "outputs": [],
   "source": [
    "out.to_csv(r'T:\\DCProjects\\Support\\Lane\\HfG\\who_helped_others.csv', index=False)"
   ]
  },
  {
   "cell_type": "code",
   "execution_count": 13,
   "id": "bd5939f2",
   "metadata": {},
   "outputs": [],
   "source": [
    "# how did you hear\n",
    "hh = pd.read_excel(inpath + '\\\\HowDidYouHear.xlsx')"
   ]
  },
  {
   "cell_type": "code",
   "execution_count": 157,
   "id": "1eb1af69",
   "metadata": {},
   "outputs": [
    {
     "data": {
      "text/plain": [
       "Lane County                                     14\n",
       "Homes for Good                                  13\n",
       "State of Oregon                                  5\n",
       "Looking Glass                                    2\n",
       "St. Vincent de Paul                              2\n",
       "                                                ..\n",
       "Cornerstone Community Housing                    1\n",
       "Family/Friends                                   1\n",
       "TV News                                          1\n",
       "Veterans Administration (VA)                     1\n",
       "Springfield Eugene Tenant Association (SETA)     1\n",
       "Name: ValueToConvertTo, Length: 95, dtype: int64"
      ]
     },
     "execution_count": 157,
     "metadata": {},
     "output_type": "execute_result"
    }
   ],
   "source": [
    "hh.ValueToConvertTo.value_counts()"
   ]
  }
 ],
 "metadata": {
  "kernelspec": {
   "display_name": "Python 3",
   "language": "python",
   "name": "python3"
  },
  "language_info": {
   "codemirror_mode": {
    "name": "ipython",
    "version": 3
   },
   "file_extension": ".py",
   "mimetype": "text/x-python",
   "name": "python",
   "nbconvert_exporter": "python",
   "pygments_lexer": "ipython3",
   "version": "3.8.8"
  }
 },
 "nbformat": 4,
 "nbformat_minor": 5
}
