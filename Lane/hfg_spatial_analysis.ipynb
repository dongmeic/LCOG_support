{
 "cells": [
  {
   "cell_type": "code",
   "execution_count": 2,
   "id": "21dc0c94",
   "metadata": {},
   "outputs": [],
   "source": [
    "%load_ext autoreload\n",
    "%autoreload 2"
   ]
  },
  {
   "cell_type": "code",
   "execution_count": 3,
   "id": "e5fd8390",
   "metadata": {},
   "outputs": [],
   "source": [
    "from hfgtools import *"
   ]
  },
  {
   "cell_type": "code",
   "execution_count": 4,
   "id": "4cb38622",
   "metadata": {},
   "outputs": [],
   "source": [
    "bgtest = gpd.read_file(path+'\\\\Homes_for_Good\\\\Homes_for_Good.gdb', layer='bg_example')"
   ]
  },
  {
   "cell_type": "code",
   "execution_count": 7,
   "id": "8a544c82",
   "metadata": {},
   "outputs": [],
   "source": [
    "testdf = bgtest.Address.value_counts().rename_axis('address').reset_index(name='counts')"
   ]
  },
  {
   "cell_type": "code",
   "execution_count": 8,
   "id": "31d90c65",
   "metadata": {},
   "outputs": [
    {
     "data": {
      "text/plain": [
       "1480"
      ]
     },
     "execution_count": 8,
     "metadata": {},
     "output_type": "execute_result"
    }
   ],
   "source": [
    "testdf.counts.sum()"
   ]
  },
  {
   "cell_type": "code",
   "execution_count": 3,
   "id": "46fb83e6",
   "metadata": {},
   "outputs": [],
   "source": [
    "state = gpd.read_file(r'T:\\DCProjects\\Data\\Census\\Shp\\cb_2020_us_state_500k\\cb_2020_us_state_500k.shp')"
   ]
  },
  {
   "cell_type": "code",
   "execution_count": 4,
   "id": "d983b349",
   "metadata": {},
   "outputs": [],
   "source": [
    "counties = gpd.read_file(path+'\\\\Homes_for_Good\\\\Homes_for_Good.gdb', layer='Oregon_Counties')"
   ]
  },
  {
   "cell_type": "code",
   "execution_count": 5,
   "id": "62a5ebd7",
   "metadata": {},
   "outputs": [],
   "source": [
    "eugspr = gpd.read_file(r'T:\\DCProjects\\Support\\Lane\\HfG\\Homes_for_Good\\Homes_for_Good.gdb',\n",
    "                      layer='BG_TitleVI_EugSpr')"
   ]
  },
  {
   "cell_type": "code",
   "execution_count": 6,
   "id": "5f887ebe",
   "metadata": {},
   "outputs": [],
   "source": [
    "oa_gdf = gpd.read_file(path+'\\\\output\\\\online_application.shp')"
   ]
  },
  {
   "cell_type": "code",
   "execution_count": 7,
   "id": "573f784e",
   "metadata": {},
   "outputs": [],
   "source": [
    "am_gdf = gpd.read_file(path+'\\\\output\\\\application_members.shp')"
   ]
  },
  {
   "cell_type": "code",
   "execution_count": 8,
   "id": "44b23bb5",
   "metadata": {},
   "outputs": [
    {
     "data": {
      "text/plain": [
       "(47804, 40)"
      ]
     },
     "execution_count": 8,
     "metadata": {},
     "output_type": "execute_result"
    }
   ],
   "source": [
    "am_gdf.shape"
   ]
  },
  {
   "cell_type": "code",
   "execution_count": 9,
   "id": "52025621",
   "metadata": {},
   "outputs": [],
   "source": [
    "amu_gdf = am_gdf.drop_duplicates(subset=['ID'])"
   ]
  },
  {
   "cell_type": "code",
   "execution_count": 10,
   "id": "836a2513",
   "metadata": {},
   "outputs": [
    {
     "data": {
      "text/plain": [
       "(11354, 40)"
      ]
     },
     "execution_count": 10,
     "metadata": {},
     "output_type": "execute_result"
    }
   ],
   "source": [
    "amu_gdf.shape"
   ]
  },
  {
   "cell_type": "code",
   "execution_count": 11,
   "id": "4fd04637",
   "metadata": {},
   "outputs": [
    {
     "data": {
      "text/plain": [
       "Index(['STATEFP', 'STATENS', 'AFFGEOID', 'GEOID', 'STUSPS', 'NAME', 'LSAD',\n",
       "       'ALAND', 'AWATER', 'geometry'],\n",
       "      dtype='object')"
      ]
     },
     "execution_count": 11,
     "metadata": {},
     "output_type": "execute_result"
    }
   ],
   "source": [
    "state.columns"
   ]
  },
  {
   "cell_type": "code",
   "execution_count": 12,
   "id": "bf561208",
   "metadata": {},
   "outputs": [],
   "source": [
    "polygons=[state, counties, zip_shp, eugspr]"
   ]
  },
  {
   "cell_type": "code",
   "execution_count": 13,
   "id": "bca348f8",
   "metadata": {},
   "outputs": [],
   "source": [
    "idcols=['STUSPS', 'GEOID', 'ZipCode', 'BlkGrp20']"
   ]
  },
  {
   "cell_type": "code",
   "execution_count": 14,
   "id": "853540bd",
   "metadata": {},
   "outputs": [],
   "source": [
    "shpnms=['state', 'county', 'zipcode', 'bg']"
   ]
  },
  {
   "cell_type": "code",
   "execution_count": 25,
   "id": "6d016327",
   "metadata": {},
   "outputs": [],
   "source": [
    "for i in range(4):\n",
    "    polygon = polygons[i]\n",
    "    idcol = idcols[i]\n",
    "    out = combine_counts_pip(pntlist=[oa_gdf, amu_gdf], \n",
    "                                  polygon=polygon, \n",
    "                                  idcol=idcol, \n",
    "                                  cntnmlist=['OACNT', 'AMCNT'])\n",
    "    newpath = path+f'\\\\output\\\\{shpnms[i]}'\n",
    "    if not os.path.exists(newpath):\n",
    "        os.makedirs(newpath)\n",
    "    if idcol in ['STUSPS', 'GEOID']:\n",
    "        out[[idcol, 'NAME', 'OACNT', 'AMCNT', 'geometry']].to_file(newpath+f'\\\\{shpnms[i]}_counts.shp')\n",
    "    else:\n",
    "        out[[x for x in out.columns if len(x)<=10]].to_file(newpath+f'\\\\{shpnms[i]}_counts.shp')   "
   ]
  }
 ],
 "metadata": {
  "kernelspec": {
   "display_name": "Python 3",
   "language": "python",
   "name": "python3"
  },
  "language_info": {
   "codemirror_mode": {
    "name": "ipython",
    "version": 3
   },
   "file_extension": ".py",
   "mimetype": "text/x-python",
   "name": "python",
   "nbconvert_exporter": "python",
   "pygments_lexer": "ipython3",
   "version": "3.8.8"
  }
 },
 "nbformat": 4,
 "nbformat_minor": 5
}
