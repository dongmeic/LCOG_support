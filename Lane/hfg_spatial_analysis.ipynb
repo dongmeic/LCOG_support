{
 "cells": [
  {
   "cell_type": "code",
   "execution_count": 1,
   "id": "e4be59ae",
   "metadata": {},
   "outputs": [],
   "source": [
    "%load_ext autoreload\n",
    "%autoreload 2"
   ]
  },
  {
   "cell_type": "code",
   "execution_count": 46,
   "id": "d58eb196",
   "metadata": {},
   "outputs": [],
   "source": [
    "from hfgtools import *"
   ]
  },
  {
   "cell_type": "code",
   "execution_count": 3,
   "id": "efbecccd",
   "metadata": {},
   "outputs": [],
   "source": [
    "counties = gpd.read_file(path+'\\\\Homes_for_Good\\\\Homes_for_Good.gdb', layer='Oregon_Counties')"
   ]
  },
  {
   "cell_type": "code",
   "execution_count": 67,
   "id": "00099f31",
   "metadata": {},
   "outputs": [],
   "source": [
    "oa_gdf = gpd.read_file(path+'\\\\output\\\\online_application.shp')"
   ]
  },
  {
   "cell_type": "code",
   "execution_count": 6,
   "id": "0b8c46aa",
   "metadata": {},
   "outputs": [
    {
     "data": {
      "text/plain": [
       "(36, 15)"
      ]
     },
     "execution_count": 6,
     "metadata": {},
     "output_type": "execute_result"
    }
   ],
   "source": [
    "counties.shape"
   ]
  },
  {
   "cell_type": "code",
   "execution_count": 7,
   "id": "30ee4b05",
   "metadata": {},
   "outputs": [
    {
     "data": {
      "text/plain": [
       "36"
      ]
     },
     "execution_count": 7,
     "metadata": {},
     "output_type": "execute_result"
    }
   ],
   "source": [
    "len(counties.GEOID.unique())"
   ]
  },
  {
   "cell_type": "code",
   "execution_count": 68,
   "id": "6442e70c",
   "metadata": {},
   "outputs": [],
   "source": [
    "pip_df = get_pip(points=oa_gdf, polygon=counties, idcol='GEOID')"
   ]
  },
  {
   "cell_type": "code",
   "execution_count": 61,
   "id": "c89fd12a",
   "metadata": {},
   "outputs": [
    {
     "data": {
      "text/html": [
       "<div>\n",
       "<style scoped>\n",
       "    .dataframe tbody tr th:only-of-type {\n",
       "        vertical-align: middle;\n",
       "    }\n",
       "\n",
       "    .dataframe tbody tr th {\n",
       "        vertical-align: top;\n",
       "    }\n",
       "\n",
       "    .dataframe thead th {\n",
       "        text-align: right;\n",
       "    }\n",
       "</style>\n",
       "<table border=\"1\" class=\"dataframe\">\n",
       "  <thead>\n",
       "    <tr style=\"text-align: right;\">\n",
       "      <th></th>\n",
       "      <th>Address</th>\n",
       "      <th>Longitude</th>\n",
       "      <th>Latitude</th>\n",
       "      <th>Location</th>\n",
       "      <th>GEOID</th>\n",
       "    </tr>\n",
       "  </thead>\n",
       "  <tbody>\n",
       "    <tr>\n",
       "      <th>0</th>\n",
       "      <td>1112 Sw Hurbert St 3, Newport, OR 97365</td>\n",
       "      <td>-124.0549907</td>\n",
       "      <td>44.6312174</td>\n",
       "      <td>1112 SW Hurbert St APT 3, Newport, OR 97365, USA</td>\n",
       "      <td>41041</td>\n",
       "    </tr>\n",
       "    <tr>\n",
       "      <th>1</th>\n",
       "      <td>120 Sw Greenwood Way , Waldport, OR 97394</td>\n",
       "      <td>-124.0637819</td>\n",
       "      <td>44.42108</td>\n",
       "      <td>120 SW Greenwood Way, Waldport, OR 97394, USA</td>\n",
       "      <td>41041</td>\n",
       "    </tr>\n",
       "    <tr>\n",
       "      <th>2</th>\n",
       "      <td>2416 N Chinook Ln , Otis, OR 97368</td>\n",
       "      <td>-123.9084197</td>\n",
       "      <td>45.0046926</td>\n",
       "      <td>2416 N Chinook Ln, Otis, OR 97368, USA</td>\n",
       "      <td>41041</td>\n",
       "    </tr>\n",
       "    <tr>\n",
       "      <th>3</th>\n",
       "      <td>2897 Ne 47Th St F06, Lincoln City, OR 97367</td>\n",
       "      <td>-123.9983121</td>\n",
       "      <td>45.0005757</td>\n",
       "      <td>2897 NE 47th St f06, Lincoln City, OR 97367, USA</td>\n",
       "      <td>41041</td>\n",
       "    </tr>\n",
       "    <tr>\n",
       "      <th>4</th>\n",
       "      <td>1014 Ne Highway 101 # 216, Lincoln City, OR 97367</td>\n",
       "      <td>-124.0133368</td>\n",
       "      <td>44.9728463</td>\n",
       "      <td>1014 NE Hwy 101 #216, Lincoln City, OR 97367, USA</td>\n",
       "      <td>41041</td>\n",
       "    </tr>\n",
       "  </tbody>\n",
       "</table>\n",
       "</div>"
      ],
      "text/plain": [
       "                                             Address     Longitude  \\\n",
       "0            1112 Sw Hurbert St 3, Newport, OR 97365  -124.0549907   \n",
       "1          120 Sw Greenwood Way , Waldport, OR 97394  -124.0637819   \n",
       "2                 2416 N Chinook Ln , Otis, OR 97368  -123.9084197   \n",
       "3        2897 Ne 47Th St F06, Lincoln City, OR 97367  -123.9983121   \n",
       "4  1014 Ne Highway 101 # 216, Lincoln City, OR 97367  -124.0133368   \n",
       "\n",
       "     Latitude                                           Location  GEOID  \n",
       "0  44.6312174   1112 SW Hurbert St APT 3, Newport, OR 97365, USA  41041  \n",
       "1    44.42108      120 SW Greenwood Way, Waldport, OR 97394, USA  41041  \n",
       "2  45.0046926             2416 N Chinook Ln, Otis, OR 97368, USA  41041  \n",
       "3  45.0005757   2897 NE 47th St f06, Lincoln City, OR 97367, USA  41041  \n",
       "4  44.9728463  1014 NE Hwy 101 #216, Lincoln City, OR 97367, USA  41041  "
      ]
     },
     "execution_count": 61,
     "metadata": {},
     "output_type": "execute_result"
    }
   ],
   "source": [
    "pip_df.head()"
   ]
  },
  {
   "cell_type": "code",
   "execution_count": 69,
   "id": "14472c30",
   "metadata": {},
   "outputs": [],
   "source": [
    "cnt = pip_df.GEOID.value_counts().rename_axis('county').reset_index(name='counts')"
   ]
  },
  {
   "cell_type": "code",
   "execution_count": 70,
   "id": "b5ff1c77",
   "metadata": {},
   "outputs": [
    {
     "data": {
      "text/html": [
       "<div>\n",
       "<style scoped>\n",
       "    .dataframe tbody tr th:only-of-type {\n",
       "        vertical-align: middle;\n",
       "    }\n",
       "\n",
       "    .dataframe tbody tr th {\n",
       "        vertical-align: top;\n",
       "    }\n",
       "\n",
       "    .dataframe thead th {\n",
       "        text-align: right;\n",
       "    }\n",
       "</style>\n",
       "<table border=\"1\" class=\"dataframe\">\n",
       "  <thead>\n",
       "    <tr style=\"text-align: right;\">\n",
       "      <th></th>\n",
       "      <th>county</th>\n",
       "      <th>counts</th>\n",
       "    </tr>\n",
       "  </thead>\n",
       "  <tbody>\n",
       "    <tr>\n",
       "      <th>0</th>\n",
       "      <td>41039</td>\n",
       "      <td>21754</td>\n",
       "    </tr>\n",
       "    <tr>\n",
       "      <th>1</th>\n",
       "      <td>41047</td>\n",
       "      <td>205</td>\n",
       "    </tr>\n",
       "    <tr>\n",
       "      <th>2</th>\n",
       "      <td>41019</td>\n",
       "      <td>205</td>\n",
       "    </tr>\n",
       "    <tr>\n",
       "      <th>3</th>\n",
       "      <td>41051</td>\n",
       "      <td>197</td>\n",
       "    </tr>\n",
       "    <tr>\n",
       "      <th>4</th>\n",
       "      <td>41043</td>\n",
       "      <td>159</td>\n",
       "    </tr>\n",
       "  </tbody>\n",
       "</table>\n",
       "</div>"
      ],
      "text/plain": [
       "  county  counts\n",
       "0  41039   21754\n",
       "1  41047     205\n",
       "2  41019     205\n",
       "3  41051     197\n",
       "4  41043     159"
      ]
     },
     "execution_count": 70,
     "metadata": {},
     "output_type": "execute_result"
    }
   ],
   "source": [
    "cnt.head()"
   ]
  },
  {
   "cell_type": "code",
   "execution_count": 71,
   "id": "262229dc",
   "metadata": {},
   "outputs": [],
   "source": [
    "cnt.to_csv(path+'\\\\output\\\\county_address_count.csv', index=False)"
   ]
  },
  {
   "cell_type": "code",
   "execution_count": 22,
   "id": "78287a33",
   "metadata": {},
   "outputs": [
    {
     "data": {
      "text/plain": [
       "(39, 3)"
      ]
     },
     "execution_count": 22,
     "metadata": {},
     "output_type": "execute_result"
    }
   ],
   "source": [
    "zip_shp.shape"
   ]
  },
  {
   "cell_type": "code",
   "execution_count": 24,
   "id": "ee69da5e",
   "metadata": {},
   "outputs": [
    {
     "data": {
      "text/plain": [
       "39"
      ]
     },
     "execution_count": 24,
     "metadata": {},
     "output_type": "execute_result"
    }
   ],
   "source": [
    "len(zip_shp.ZipCode.unique())"
   ]
  },
  {
   "cell_type": "code",
   "execution_count": 72,
   "id": "6dc3fc92",
   "metadata": {},
   "outputs": [],
   "source": [
    "zip_df = get_pip(points=oa_gdf, polygon=zip_shp, idcol='ZipCode')"
   ]
  },
  {
   "cell_type": "code",
   "execution_count": 73,
   "id": "64798fd0",
   "metadata": {},
   "outputs": [],
   "source": [
    "zipcnt = zip_df.ZipCode.value_counts().rename_axis('zipcode').reset_index(name='counts')"
   ]
  },
  {
   "cell_type": "code",
   "execution_count": 74,
   "id": "57bcb85b",
   "metadata": {},
   "outputs": [],
   "source": [
    "zipcnt.to_csv(path + '\\\\output\\\\zipcode_count.csv', index=False)"
   ]
  },
  {
   "cell_type": "code",
   "execution_count": null,
   "id": "6ba078ae",
   "metadata": {},
   "outputs": [],
   "source": []
  }
 ],
 "metadata": {
  "kernelspec": {
   "display_name": "Python 3",
   "language": "python",
   "name": "python3"
  },
  "language_info": {
   "codemirror_mode": {
    "name": "ipython",
    "version": 3
   },
   "file_extension": ".py",
   "mimetype": "text/x-python",
   "name": "python",
   "nbconvert_exporter": "python",
   "pygments_lexer": "ipython3",
   "version": "3.8.8"
  }
 },
 "nbformat": 4,
 "nbformat_minor": 5
}
