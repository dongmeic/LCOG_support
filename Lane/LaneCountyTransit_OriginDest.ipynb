{
 "cells": [
  {
   "cell_type": "code",
   "execution_count": 1,
   "id": "64ae79c5",
   "metadata": {},
   "outputs": [],
   "source": [
    "import requests\n",
    "from sqlalchemy import create_engine\n",
    "import pandas as pd\n",
    "import geopandas as gpd\n",
    "import os"
   ]
  },
  {
   "cell_type": "code",
   "execution_count": null,
   "id": "31d37daa",
   "metadata": {},
   "outputs": [],
   "source": [
    "engine = create_engine(   \n",
    "\"mssql+pyodbc:///?odbc_connect=\"\n",
    "\"Driver%3D%7BODBC+Driver+17+for+SQL+Server%7D%3B\"\n",
    "\"Server%3Drliddb.int.lcog.org%2C5433%3B\"\n",
    "\"Database%3DRLIDGeo%3B\"\n",
    "\"Trusted_Connection%3Dyes%3B\"\n",
    "\"ApplicationIntent%3DReadWrite%3B\"\n",
    "\"WSID%3Dclwrk4087.int.lcog.org%3B\")\n",
    "\n",
    "zip_sql = '''\n",
    "SELECT \n",
    "zipcode AS ZipCode,\n",
    "mailcity AS City,\n",
    "Shape.STAsBinary() AS geometry\n",
    "FROM dbo.ZIPCode;\n",
    "'''"
   ]
  },
  {
   "cell_type": "code",
   "execution_count": 2,
   "id": "87a47332",
   "metadata": {},
   "outputs": [],
   "source": [
    "inpath = r'T:\\DCProjects\\Support\\Lane\\TransitSurvey'"
   ]
  },
  {
   "cell_type": "code",
   "execution_count": 6,
   "id": "16861e5e",
   "metadata": {},
   "outputs": [],
   "source": [
    "dat = pd.read_excel(os.path.join(inpath, 'RAW DATA Transit Planning for Rural Lane County.xlsx'), \n",
    "                    sheet_name = 'OriginDestination', header=None)"
   ]
  },
  {
   "cell_type": "code",
   "execution_count": 8,
   "id": "7452fa08",
   "metadata": {},
   "outputs": [],
   "source": [
    "dat.columns = ['Origin', 'Destination']"
   ]
  },
  {
   "cell_type": "code",
   "execution_count": null,
   "id": "a93ef460",
   "metadata": {},
   "outputs": [],
   "source": []
  }
 ],
 "metadata": {
  "kernelspec": {
   "display_name": "Python 3",
   "language": "python",
   "name": "python3"
  },
  "language_info": {
   "codemirror_mode": {
    "name": "ipython",
    "version": 3
   },
   "file_extension": ".py",
   "mimetype": "text/x-python",
   "name": "python",
   "nbconvert_exporter": "python",
   "pygments_lexer": "ipython3",
   "version": "3.8.8"
  }
 },
 "nbformat": 4,
 "nbformat_minor": 5
}
