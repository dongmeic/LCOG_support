{
 "cells": [
  {
   "cell_type": "code",
   "execution_count": 1,
   "id": "ea0717b5",
   "metadata": {},
   "outputs": [],
   "source": [
    "from hfgtools import *"
   ]
  },
  {
   "cell_type": "code",
   "execution_count": 186,
   "id": "5bcc663c",
   "metadata": {},
   "outputs": [],
   "source": [
    "from datetime import datetime, date"
   ]
  },
  {
   "cell_type": "code",
   "execution_count": 201,
   "id": "9375097e",
   "metadata": {},
   "outputs": [],
   "source": [
    "import matplotlib.pyplot as plt"
   ]
  },
  {
   "cell_type": "code",
   "execution_count": 2,
   "id": "01ba015e",
   "metadata": {},
   "outputs": [],
   "source": [
    "inpath = r'T:\\DCProjects\\Support\\Lane\\HfG\\DataFromThem'"
   ]
  },
  {
   "cell_type": "code",
   "execution_count": 3,
   "id": "064ca684",
   "metadata": {},
   "outputs": [],
   "source": [
    "# oa - online applications\n",
    "oa = pd.read_csv(inpath + '\\\\OnlineApplications.csv')"
   ]
  },
  {
   "cell_type": "code",
   "execution_count": 5,
   "id": "75f0687b",
   "metadata": {},
   "outputs": [
    {
     "data": {
      "text/plain": [
       "Index(['KeyApplication', 'AgencyID', 'WLNumber', 'WLName', 'Language',\n",
       "       'NameFirst', 'NameMiddle', 'NameLast', 'MailAddress1', 'MailAddress2',\n",
       "       'MailCity', 'MailState', 'MailZIP', 'MailZIP4', 'LegalAddress1',\n",
       "       'LegalAddress2', 'LegalCity', 'LegalState', 'LegalZIP', 'LegalZIP4',\n",
       "       'Phone', 'MobilePhone', 'OtherContact', 'OtherType', 'SSN', 'DOB',\n",
       "       'EmancipatedMinor', 'Sex', 'Disabled', 'Race', 'Ethnicity',\n",
       "       'HouseholdSize', 'HouseholdMinors', 'IncomeAnnual', 'IncomeChecking',\n",
       "       'IncomeSavings', 'IncomeInvestments', 'IncomeRealEstate', 'IncomeOther',\n",
       "       'AssetsChecking', 'AssetsSavings', 'AssetsInvestments',\n",
       "       'AssetsRealEstate', 'AssetsOther', 'QuestionIDs', 'OptOut92006',\n",
       "       'PreviousAgencyID', 'TSModified', 'TSCreated', 'ApplicationTS',\n",
       "       'eAgree', 'AddressValidation', 'LotteryNumber', 'Citizenship',\n",
       "       'OptOutSSN', 'AccountEmail'],\n",
       "      dtype='object')"
      ]
     },
     "execution_count": 5,
     "metadata": {},
     "output_type": "execute_result"
    }
   ],
   "source": [
    "oa.columns"
   ]
  },
  {
   "cell_type": "code",
   "execution_count": 198,
   "id": "be762396",
   "metadata": {},
   "outputs": [],
   "source": [
    "oa['Age'] = oa['DOB'].apply(lambda x: calculate_age(x))"
   ]
  },
  {
   "cell_type": "code",
   "execution_count": 203,
   "id": "97e00ddf",
   "metadata": {},
   "outputs": [
    {
     "data": {
      "image/png": "[encoded data removed]",
      "text/plain": [
       "<Figure size 432x288 with 1 Axes>"
      ]
     },
     "metadata": {
      "needs_background": "light"
     },
     "output_type": "display_data"
    }
   ],
   "source": [
    "plt.hist(x=oa['Age'], bins='auto', color='#0504aa',\n",
    "                            alpha=0.7, rwidth=0.85);"
   ]
  },
  {
   "cell_type": "code",
   "execution_count": 199,
   "id": "d8653120",
   "metadata": {},
   "outputs": [
    {
     "data": {
      "text/plain": [
       "35    760\n",
       "38    740\n",
       "28    684\n",
       "36    667\n",
       "33    656\n",
       "     ... \n",
       "88      7\n",
       "87      6\n",
       "85      4\n",
       "94      3\n",
       "93      1\n",
       "Name: Age, Length: 73, dtype: int64"
      ]
     },
     "execution_count": 199,
     "metadata": {},
     "output_type": "execute_result"
    }
   ],
   "source": [
    "oa['Age'].value_counts()"
   ]
  },
  {
   "cell_type": "code",
   "execution_count": 197,
   "id": "c203c24a",
   "metadata": {},
   "outputs": [
    {
     "data": {
      "text/plain": [
       "eng    25683\n",
       "spa       35\n",
       "Name: Language, dtype: int64"
      ]
     },
     "execution_count": 197,
     "metadata": {},
     "output_type": "execute_result"
    }
   ],
   "source": [
    "oa['Language'].value_counts()"
   ]
  },
  {
   "cell_type": "code",
   "execution_count": 159,
   "id": "f4b84605",
   "metadata": {
    "scrolled": true
   },
   "outputs": [
    {
     "data": {
      "text/plain": [
       "(25718, 56)"
      ]
     },
     "execution_count": 159,
     "metadata": {},
     "output_type": "execute_result"
    }
   ],
   "source": [
    "oa.shape"
   ]
  },
  {
   "cell_type": "code",
   "execution_count": 158,
   "id": "84d85309",
   "metadata": {},
   "outputs": [
    {
     "data": {
      "text/plain": [
       "25718"
      ]
     },
     "execution_count": 158,
     "metadata": {},
     "output_type": "execute_result"
    }
   ],
   "source": [
    "len(oa.KeyApplication.unique())"
   ]
  },
  {
   "cell_type": "code",
   "execution_count": 37,
   "id": "09f76f3f",
   "metadata": {},
   "outputs": [
    {
     "data": {
      "text/html": [
       "<div>\n",
       "<style scoped>\n",
       "    .dataframe tbody tr th:only-of-type {\n",
       "        vertical-align: middle;\n",
       "    }\n",
       "\n",
       "    .dataframe tbody tr th {\n",
       "        vertical-align: top;\n",
       "    }\n",
       "\n",
       "    .dataframe thead th {\n",
       "        text-align: right;\n",
       "    }\n",
       "</style>\n",
       "<table border=\"1\" class=\"dataframe\">\n",
       "  <thead>\n",
       "    <tr style=\"text-align: right;\">\n",
       "      <th></th>\n",
       "      <th>LegalAddress1</th>\n",
       "      <th>LegalAddress2</th>\n",
       "      <th>LegalCity</th>\n",
       "      <th>LegalState</th>\n",
       "      <th>LegalZIP</th>\n",
       "      <th>LegalZIP4</th>\n",
       "    </tr>\n",
       "  </thead>\n",
       "  <tbody>\n",
       "    <tr>\n",
       "      <th>0</th>\n",
       "      <td>1071 FAIRFIELD AVE</td>\n",
       "      <td>APT 100</td>\n",
       "      <td>EUGENE</td>\n",
       "      <td>OR</td>\n",
       "      <td>97402</td>\n",
       "      <td>2063.0</td>\n",
       "    </tr>\n",
       "  </tbody>\n",
       "</table>\n",
       "</div>"
      ],
      "text/plain": [
       "        LegalAddress1 LegalAddress2 LegalCity LegalState  LegalZIP  LegalZIP4\n",
       "0  1071 FAIRFIELD AVE       APT 100    EUGENE         OR     97402     2063.0"
      ]
     },
     "execution_count": 37,
     "metadata": {},
     "output_type": "execute_result"
    }
   ],
   "source": [
    "oa.loc[oa.KeyApplication==5419013, ['LegalAddress1','LegalAddress2', 'LegalCity', 'LegalState', 'LegalZIP', 'LegalZIP4']]"
   ]
  },
  {
   "cell_type": "code",
   "execution_count": 36,
   "id": "f753b39d",
   "metadata": {},
   "outputs": [
    {
     "data": {
      "text/html": [
       "<div>\n",
       "<style scoped>\n",
       "    .dataframe tbody tr th:only-of-type {\n",
       "        vertical-align: middle;\n",
       "    }\n",
       "\n",
       "    .dataframe tbody tr th {\n",
       "        vertical-align: top;\n",
       "    }\n",
       "\n",
       "    .dataframe thead th {\n",
       "        text-align: right;\n",
       "    }\n",
       "</style>\n",
       "<table border=\"1\" class=\"dataframe\">\n",
       "  <thead>\n",
       "    <tr style=\"text-align: right;\">\n",
       "      <th></th>\n",
       "      <th>HouseholdSize</th>\n",
       "      <th>HouseholdMinors</th>\n",
       "      <th>PreviousAgencyID</th>\n",
       "      <th>Citizenship</th>\n",
       "    </tr>\n",
       "  </thead>\n",
       "  <tbody>\n",
       "    <tr>\n",
       "      <th>0</th>\n",
       "      <td>3</td>\n",
       "      <td>1</td>\n",
       "      <td>NaN</td>\n",
       "      <td>EC</td>\n",
       "    </tr>\n",
       "  </tbody>\n",
       "</table>\n",
       "</div>"
      ],
      "text/plain": [
       "   HouseholdSize  HouseholdMinors  PreviousAgencyID Citizenship\n",
       "0              3                1               NaN          EC"
      ]
     },
     "execution_count": 36,
     "metadata": {},
     "output_type": "execute_result"
    }
   ],
   "source": [
    "oa.loc[oa.KeyApplication==5419013, ['HouseholdSize', 'HouseholdMinors', 'PreviousAgencyID', 'Citizenship']]"
   ]
  },
  {
   "cell_type": "code",
   "execution_count": 8,
   "id": "0a4b5967",
   "metadata": {},
   "outputs": [
    {
     "data": {
      "text/plain": [
       "['ApplicantIncome.csv',\n",
       " 'ApplicationContacts.csv',\n",
       " 'ApplicationMembers.csv',\n",
       " 'ApplicationQuestionHistory.csv',\n",
       " 'Codes added via KEY LCOG WaitlistConnect2022_Draft_D20221201 (003).xlsx',\n",
       " 'Dashboard visual with RA Added.pptx',\n",
       " 'HowDidYouHear.xlsx',\n",
       " 'OnlineApplications.csv']"
      ]
     },
     "execution_count": 8,
     "metadata": {},
     "output_type": "execute_result"
    }
   ],
   "source": [
    "os.listdir(inpath)"
   ]
  },
  {
   "cell_type": "code",
   "execution_count": 9,
   "id": "f0d0fec1",
   "metadata": {},
   "outputs": [],
   "source": [
    "# applicant income\n",
    "ai = pd.read_csv(inpath + '\\\\ApplicantIncome.csv')"
   ]
  },
  {
   "cell_type": "code",
   "execution_count": 27,
   "id": "a69cab56",
   "metadata": {},
   "outputs": [
    {
     "data": {
      "text/html": [
       "<div>\n",
       "<style scoped>\n",
       "    .dataframe tbody tr th:only-of-type {\n",
       "        vertical-align: middle;\n",
       "    }\n",
       "\n",
       "    .dataframe tbody tr th {\n",
       "        vertical-align: top;\n",
       "    }\n",
       "\n",
       "    .dataframe thead th {\n",
       "        text-align: right;\n",
       "    }\n",
       "</style>\n",
       "<table border=\"1\" class=\"dataframe\">\n",
       "  <thead>\n",
       "    <tr style=\"text-align: right;\">\n",
       "      <th></th>\n",
       "      <th>KeyIncome</th>\n",
       "      <th>Amount</th>\n",
       "      <th>HowOften</th>\n",
       "    </tr>\n",
       "  </thead>\n",
       "  <tbody>\n",
       "    <tr>\n",
       "      <th>0</th>\n",
       "      <td>6471877</td>\n",
       "      <td>3500.0</td>\n",
       "      <td>Monthly</td>\n",
       "    </tr>\n",
       "  </tbody>\n",
       "</table>\n",
       "</div>"
      ],
      "text/plain": [
       "   KeyIncome  Amount HowOften\n",
       "0    6471877  3500.0  Monthly"
      ]
     },
     "execution_count": 27,
     "metadata": {},
     "output_type": "execute_result"
    }
   ],
   "source": [
    "ai.loc[ai.KeyApplication==5419013, ['KeyIncome', 'Amount', 'HowOften']]"
   ]
  },
  {
   "cell_type": "code",
   "execution_count": 28,
   "id": "d85a149d",
   "metadata": {},
   "outputs": [
    {
     "data": {
      "text/plain": [
       "42000"
      ]
     },
     "execution_count": 28,
     "metadata": {},
     "output_type": "execute_result"
    }
   ],
   "source": [
    "3500*12"
   ]
  },
  {
   "cell_type": "code",
   "execution_count": 10,
   "id": "2e89375a",
   "metadata": {},
   "outputs": [],
   "source": [
    "# application contacts\n",
    "ac = pd.read_csv(inpath + '\\\\ApplicationContacts.csv')"
   ]
  },
  {
   "cell_type": "code",
   "execution_count": 17,
   "id": "bf2423d9",
   "metadata": {},
   "outputs": [
    {
     "data": {
      "text/plain": [
       "Index(['KeyContact', 'KeyApplication', 'Name', 'StreetAddress', 'City',\n",
       "       'State', 'ZIP', 'PhoneNumber', 'CellNumber', 'Email', 'Relationship',\n",
       "       'ReasonEmergency', 'ReasonUnableToContact', 'ReasonTermination',\n",
       "       'ReasonEviction', 'ReasonLatePayment', 'ReasonRecertification',\n",
       "       'ReasonChangeInLeaseTerms', 'ReasonChangeInHouseRules', 'ReasonOther',\n",
       "       'ReasonOtherDetail', 'TSModified', 'TSCreated'],\n",
       "      dtype='object')"
      ]
     },
     "execution_count": 17,
     "metadata": {},
     "output_type": "execute_result"
    }
   ],
   "source": [
    "ac.columns"
   ]
  },
  {
   "cell_type": "code",
   "execution_count": 30,
   "id": "e67b965d",
   "metadata": {},
   "outputs": [
    {
     "data": {
      "text/plain": [
       "Series([], Name: Name, dtype: object)"
      ]
     },
     "execution_count": 30,
     "metadata": {},
     "output_type": "execute_result"
    }
   ],
   "source": [
    "ac.loc[ac.KeyApplication==5419013, 'Name']"
   ]
  },
  {
   "cell_type": "code",
   "execution_count": 11,
   "id": "43a66d80",
   "metadata": {},
   "outputs": [],
   "source": [
    "# application members\n",
    "am = pd.read_csv(inpath + '\\\\ApplicationMembers.csv')"
   ]
  },
  {
   "cell_type": "code",
   "execution_count": 19,
   "id": "82cae643",
   "metadata": {},
   "outputs": [
    {
     "data": {
      "text/plain": [
       "Index(['KeyMember', 'KeyApplication', 'NameLast', 'NameMiddle', 'NameFirst',\n",
       "       'SSN', 'DOB', 'Sex', 'Disabled', 'Relationship', 'Citizenship', 'Race',\n",
       "       'Ethnicity'],\n",
       "      dtype='object')"
      ]
     },
     "execution_count": 19,
     "metadata": {},
     "output_type": "execute_result"
    }
   ],
   "source": [
    "am.columns"
   ]
  },
  {
   "cell_type": "code",
   "execution_count": 187,
   "id": "6c4e48b9",
   "metadata": {},
   "outputs": [],
   "source": [
    "def calculate_age(dob):\n",
    "    born = datetime.strptime(dob, '%Y-%m-%d')\n",
    "    today = date.today()\n",
    "    return today.year - born.year - ((today.month, today.day) < (born.month, born.day))"
   ]
  },
  {
   "cell_type": "code",
   "execution_count": 189,
   "id": "bc0af410",
   "metadata": {},
   "outputs": [],
   "source": [
    "am['Age'] = am['DOB'].apply(lambda x: calculate_age(x))"
   ]
  },
  {
   "cell_type": "code",
   "execution_count": 192,
   "id": "d28ebadd",
   "metadata": {},
   "outputs": [
    {
     "data": {
      "text/plain": [
       "1     1299\n",
       "4     1276\n",
       "2     1258\n",
       "3     1122\n",
       "6     1119\n",
       "      ... \n",
       "88       9\n",
       "87       6\n",
       "85       4\n",
       "94       3\n",
       "93       1\n",
       "Name: Age, Length: 91, dtype: int64"
      ]
     },
     "execution_count": 192,
     "metadata": {},
     "output_type": "execute_result"
    }
   ],
   "source": [
    "am['Age'].value_counts()"
   ]
  },
  {
   "cell_type": "code",
   "execution_count": 193,
   "id": "cb0bb096",
   "metadata": {
    "scrolled": true
   },
   "outputs": [
    {
     "data": {
      "text/plain": [
       "F    29022\n",
       "M    20355\n",
       "Name: Sex, dtype: int64"
      ]
     },
     "execution_count": 193,
     "metadata": {},
     "output_type": "execute_result"
    }
   ],
   "source": [
    "am['Sex'].value_counts()"
   ]
  },
  {
   "cell_type": "code",
   "execution_count": 194,
   "id": "5f7ea059",
   "metadata": {},
   "outputs": [
    {
     "data": {
      "text/plain": [
       "0    34796\n",
       "1    14581\n",
       "Name: Disabled, dtype: int64"
      ]
     },
     "execution_count": 194,
     "metadata": {},
     "output_type": "execute_result"
    }
   ],
   "source": [
    "am['Disabled'].value_counts()"
   ]
  },
  {
   "cell_type": "code",
   "execution_count": 195,
   "id": "0f2fbd54",
   "metadata": {},
   "outputs": [
    {
     "data": {
      "text/plain": [
       "1            36615\n",
       "2             3140\n",
       "6             2807\n",
       "3             1462\n",
       "1,3            991\n",
       "             ...  \n",
       "1,4g,6           1\n",
       "3,1,2            1\n",
       "1,2,4b           1\n",
       "1,2,3,5,6        1\n",
       "4,1,2,6          1\n",
       "Name: Race, Length: 131, dtype: int64"
      ]
     },
     "execution_count": 195,
     "metadata": {},
     "output_type": "execute_result"
    }
   ],
   "source": [
    "am['Race'].value_counts()"
   ]
  },
  {
   "cell_type": "code",
   "execution_count": 196,
   "id": "0bcbc8f6",
   "metadata": {},
   "outputs": [
    {
     "data": {
      "text/plain": [
       "0    42013\n",
       "1     7364\n",
       "Name: Ethnicity, dtype: int64"
      ]
     },
     "execution_count": 196,
     "metadata": {},
     "output_type": "execute_result"
    }
   ],
   "source": [
    "am['Ethnicity'].value_counts()"
   ]
  },
  {
   "cell_type": "code",
   "execution_count": 185,
   "id": "1a2f8975",
   "metadata": {},
   "outputs": [
    {
     "data": {
      "text/plain": [
       "datetime.datetime(1988, 12, 4, 0, 0)"
      ]
     },
     "execution_count": 185,
     "metadata": {},
     "output_type": "execute_result"
    }
   ],
   "source": [
    "datetime.strptime(am.DOB.values[0], '%Y-%m-%d')"
   ]
  },
  {
   "cell_type": "code",
   "execution_count": 141,
   "id": "c85c9515",
   "metadata": {},
   "outputs": [
    {
     "data": {
      "text/plain": [
       "array(['EC', 'EN', 'IN', 'PV', 'IC', 'ND', nan], dtype=object)"
      ]
     },
     "execution_count": 141,
     "metadata": {},
     "output_type": "execute_result"
    }
   ],
   "source": [
    "am.Citizenship.unique()"
   ]
  },
  {
   "cell_type": "code",
   "execution_count": 12,
   "id": "df81af13",
   "metadata": {},
   "outputs": [],
   "source": [
    "# application question history\n",
    "aqh = pd.read_csv(inpath + '\\\\ApplicationQuestionHistory.csv')"
   ]
  },
  {
   "cell_type": "code",
   "execution_count": 21,
   "id": "c938e5f8",
   "metadata": {},
   "outputs": [
    {
     "data": {
      "text/plain": [
       "Index(['QuestionID', 'KeyApplication', 'Question', 'Preference', 'Answer',\n",
       "       'Response', 'TSModified', 'TSCreated'],\n",
       "      dtype='object')"
      ]
     },
     "execution_count": 21,
     "metadata": {},
     "output_type": "execute_result"
    }
   ],
   "source": [
    "aqh.columns"
   ]
  },
  {
   "cell_type": "code",
   "execution_count": 161,
   "id": "2ccc28e6",
   "metadata": {},
   "outputs": [
    {
     "data": {
      "text/plain": [
       "25718"
      ]
     },
     "execution_count": 161,
     "metadata": {},
     "output_type": "execute_result"
    }
   ],
   "source": [
    "len(aqh.KeyApplication.unique())"
   ]
  },
  {
   "cell_type": "code",
   "execution_count": 169,
   "id": "c4c36db8",
   "metadata": {},
   "outputs": [],
   "source": [
    "howheard = aqh[aqh.Preference=='P9']"
   ]
  },
  {
   "cell_type": "code",
   "execution_count": 175,
   "id": "93667eb8",
   "metadata": {},
   "outputs": [
    {
     "data": {
      "text/plain": [
       "array(['Yes', 'No'], dtype=object)"
      ]
     },
     "execution_count": 175,
     "metadata": {},
     "output_type": "execute_result"
    }
   ],
   "source": [
    "howheard.Answer.unique()"
   ]
  },
  {
   "cell_type": "code",
   "execution_count": 170,
   "id": "90f388cb",
   "metadata": {},
   "outputs": [
    {
     "name": "stderr",
     "output_type": "stream",
     "text": [
      "<ipython-input-170-e7b5185181ea>:1: SettingWithCopyWarning: \n",
      "A value is trying to be set on a copy of a slice from a DataFrame.\n",
      "Try using .loc[row_indexer,col_indexer] = value instead\n",
      "\n",
      "See the caveats in the documentation: https://pandas.pydata.org/pandas-docs/stable/user_guide/indexing.html#returning-a-view-versus-a-copy\n",
      "  howheard['Response'] = howheard['Response'].str.capitalize()\n"
     ]
    }
   ],
   "source": [
    "howheard['Response'] = howheard['Response'].str.capitalize()"
   ]
  },
  {
   "cell_type": "code",
   "execution_count": 171,
   "id": "9d9aff5c",
   "metadata": {},
   "outputs": [
    {
     "data": {
      "text/plain": [
       "Email                                                                   2757\n",
       "Friend                                                                  2306\n",
       "Facebook                                                                1148\n",
       "Family                                                                  1092\n",
       "Case manager                                                             800\n",
       "                                                                        ... \n",
       "One of my case managers at senior & disability services let me know.       1\n",
       "Phone call.                                                                1\n",
       "St vincent had documents                                                   1\n",
       "Email / boss at allies, llc                                                1\n",
       "I check the homes for good website often                                   1\n",
       "Name: Response, Length: 2958, dtype: int64"
      ]
     },
     "execution_count": 171,
     "metadata": {},
     "output_type": "execute_result"
    }
   ],
   "source": [
    "howheard.Response.value_counts()"
   ]
  },
  {
   "cell_type": "code",
   "execution_count": 172,
   "id": "a3fda129",
   "metadata": {},
   "outputs": [],
   "source": [
    "hhout = howheard.Response.value_counts().rename_axis('how').reset_index(name='counts')"
   ]
  },
  {
   "cell_type": "code",
   "execution_count": 173,
   "id": "56643ad7",
   "metadata": {},
   "outputs": [],
   "source": [
    "hhout.to_csv(r'T:\\DCProjects\\Support\\Lane\\HfG\\how_heard.csv', index=False)"
   ]
  },
  {
   "cell_type": "code",
   "execution_count": 146,
   "id": "10468a57",
   "metadata": {},
   "outputs": [
    {
     "data": {
      "text/plain": [
       "array(['P5', 'P7', 'P8', 'P9'], dtype=object)"
      ]
     },
     "execution_count": 146,
     "metadata": {},
     "output_type": "execute_result"
    }
   ],
   "source": [
    "aqh.Preference.unique()"
   ]
  },
  {
   "cell_type": "code",
   "execution_count": 143,
   "id": "408c3fa8",
   "metadata": {},
   "outputs": [
    {
     "data": {
      "text/plain": [
       "array(['Do you require a wheelchair accessible unit? This question is for data purposes only.',\n",
       "       'Are you or anyone in your household currently homeless?  This includes currently living in a car, on the street, in an emergency shelter, transitional housing, or currently living in a friend or family members home, or couch surfing? If yes, where are you currently living?',\n",
       "       'Did someone help you complete this application? If yes, then who?',\n",
       "       'How did you hear about our wait list opening?  Please fill in the following box with an answer (Ex. Text message, email, Facebook, RegisterGuard, family/friend, etc.)'],\n",
       "      dtype=object)"
      ]
     },
     "execution_count": 143,
     "metadata": {},
     "output_type": "execute_result"
    }
   ],
   "source": [
    "aqh.Question.unique()"
   ]
  },
  {
   "cell_type": "code",
   "execution_count": 92,
   "id": "d521cb6c",
   "metadata": {},
   "outputs": [],
   "source": [
    "df = aqh[(aqh.Preference=='P8') & (aqh.Answer=='Yes')]"
   ]
  },
  {
   "cell_type": "code",
   "execution_count": 43,
   "id": "613a13e4",
   "metadata": {},
   "outputs": [],
   "source": [
    "agencies = list(aqh.loc[(aqh.Preference=='P8') & (aqh.Answer=='Yes'), 'Response'].unique())"
   ]
  },
  {
   "cell_type": "code",
   "execution_count": 134,
   "id": "e4d2965e",
   "metadata": {},
   "outputs": [],
   "source": [
    "df.loc[df.Response=='Kat', 'Response'] = 'Kat '"
   ]
  },
  {
   "cell_type": "code",
   "execution_count": 152,
   "id": "33a4b854",
   "metadata": {},
   "outputs": [
    {
     "name": "stderr",
     "output_type": "stream",
     "text": [
      "C:\\Users\\clid1852\\AppData\\Anaconda3\\envs\\geoenv\\lib\\site-packages\\pandas\\core\\indexing.py:1676: SettingWithCopyWarning: \n",
      "A value is trying to be set on a copy of a slice from a DataFrame.\n",
      "Try using .loc[row_indexer,col_indexer] = value instead\n",
      "\n",
      "See the caveats in the documentation: https://pandas.pydata.org/pandas-docs/stable/user_guide/indexing.html#returning-a-view-versus-a-copy\n",
      "  self._setitem_single_column(ilocs[0], value, pi)\n"
     ]
    }
   ],
   "source": [
    "df.loc[:, 'ResCat'] = df['Response'].apply(lambda x: categorize_response(x))"
   ]
  },
  {
   "cell_type": "code",
   "execution_count": 178,
   "id": "51cafada",
   "metadata": {},
   "outputs": [
    {
     "data": {
      "text/html": [
       "<div>\n",
       "<style scoped>\n",
       "    .dataframe tbody tr th:only-of-type {\n",
       "        vertical-align: middle;\n",
       "    }\n",
       "\n",
       "    .dataframe tbody tr th {\n",
       "        vertical-align: top;\n",
       "    }\n",
       "\n",
       "    .dataframe thead th {\n",
       "        text-align: right;\n",
       "    }\n",
       "</style>\n",
       "<table border=\"1\" class=\"dataframe\">\n",
       "  <thead>\n",
       "    <tr style=\"text-align: right;\">\n",
       "      <th></th>\n",
       "      <th>who_helped</th>\n",
       "      <th>counts</th>\n",
       "    </tr>\n",
       "  </thead>\n",
       "  <tbody>\n",
       "    <tr>\n",
       "      <th>0</th>\n",
       "      <td>Homes For Good</td>\n",
       "      <td>2846</td>\n",
       "    </tr>\n",
       "    <tr>\n",
       "      <th>1</th>\n",
       "      <td>family</td>\n",
       "      <td>1505</td>\n",
       "    </tr>\n",
       "    <tr>\n",
       "      <th>2</th>\n",
       "      <td>others</td>\n",
       "      <td>1135</td>\n",
       "    </tr>\n",
       "    <tr>\n",
       "      <th>3</th>\n",
       "      <td>St. Vincent de Paul</td>\n",
       "      <td>1071</td>\n",
       "    </tr>\n",
       "    <tr>\n",
       "      <th>4</th>\n",
       "      <td>case manager</td>\n",
       "      <td>680</td>\n",
       "    </tr>\n",
       "    <tr>\n",
       "      <th>5</th>\n",
       "      <td>Housing Navigator</td>\n",
       "      <td>524</td>\n",
       "    </tr>\n",
       "    <tr>\n",
       "      <th>6</th>\n",
       "      <td>support staff</td>\n",
       "      <td>298</td>\n",
       "    </tr>\n",
       "    <tr>\n",
       "      <th>7</th>\n",
       "      <td>case worker</td>\n",
       "      <td>274</td>\n",
       "    </tr>\n",
       "    <tr>\n",
       "      <th>8</th>\n",
       "      <td>Laurel Hill Center</td>\n",
       "      <td>267</td>\n",
       "    </tr>\n",
       "    <tr>\n",
       "      <th>9</th>\n",
       "      <td>Lane County</td>\n",
       "      <td>267</td>\n",
       "    </tr>\n",
       "    <tr>\n",
       "      <th>10</th>\n",
       "      <td>ShelterCare</td>\n",
       "      <td>248</td>\n",
       "    </tr>\n",
       "    <tr>\n",
       "      <th>11</th>\n",
       "      <td>White Bird Clinic</td>\n",
       "      <td>173</td>\n",
       "    </tr>\n",
       "    <tr>\n",
       "      <th>12</th>\n",
       "      <td>SNAP Training &amp; Employment Program</td>\n",
       "      <td>143</td>\n",
       "    </tr>\n",
       "    <tr>\n",
       "      <th>13</th>\n",
       "      <td>ODHS</td>\n",
       "      <td>143</td>\n",
       "    </tr>\n",
       "    <tr>\n",
       "      <th>14</th>\n",
       "      <td>peer support specialist</td>\n",
       "      <td>140</td>\n",
       "    </tr>\n",
       "    <tr>\n",
       "      <th>15</th>\n",
       "      <td>friend</td>\n",
       "      <td>128</td>\n",
       "    </tr>\n",
       "    <tr>\n",
       "      <th>16</th>\n",
       "      <td>Catholic Charities of Oregon</td>\n",
       "      <td>127</td>\n",
       "    </tr>\n",
       "    <tr>\n",
       "      <th>17</th>\n",
       "      <td>Lane County Rural Street Outreach team</td>\n",
       "      <td>117</td>\n",
       "    </tr>\n",
       "    <tr>\n",
       "      <th>18</th>\n",
       "      <td>Oregon Health Authority</td>\n",
       "      <td>72</td>\n",
       "    </tr>\n",
       "    <tr>\n",
       "      <th>19</th>\n",
       "      <td>Sponsors, Inc</td>\n",
       "      <td>71</td>\n",
       "    </tr>\n",
       "    <tr>\n",
       "      <th>20</th>\n",
       "      <td>Lane County Dovetail Program</td>\n",
       "      <td>69</td>\n",
       "    </tr>\n",
       "    <tr>\n",
       "      <th>21</th>\n",
       "      <td>Relief Nursery</td>\n",
       "      <td>67</td>\n",
       "    </tr>\n",
       "    <tr>\n",
       "      <th>22</th>\n",
       "      <td>Willamette Family</td>\n",
       "      <td>38</td>\n",
       "    </tr>\n",
       "    <tr>\n",
       "      <th>23</th>\n",
       "      <td>HIV Alliance</td>\n",
       "      <td>38</td>\n",
       "    </tr>\n",
       "    <tr>\n",
       "      <th>24</th>\n",
       "      <td>housing specialist</td>\n",
       "      <td>34</td>\n",
       "    </tr>\n",
       "    <tr>\n",
       "      <th>25</th>\n",
       "      <td>Licensed Clinical Social Worker</td>\n",
       "      <td>33</td>\n",
       "    </tr>\n",
       "    <tr>\n",
       "      <th>26</th>\n",
       "      <td>SLLEA</td>\n",
       "      <td>32</td>\n",
       "    </tr>\n",
       "    <tr>\n",
       "      <th>27</th>\n",
       "      <td>Worksource Oregon</td>\n",
       "      <td>28</td>\n",
       "    </tr>\n",
       "    <tr>\n",
       "      <th>28</th>\n",
       "      <td>Sunshine Care Environments</td>\n",
       "      <td>27</td>\n",
       "    </tr>\n",
       "    <tr>\n",
       "      <th>29</th>\n",
       "      <td>Black Thistle Street Aid</td>\n",
       "      <td>26</td>\n",
       "    </tr>\n",
       "  </tbody>\n",
       "</table>\n",
       "</div>"
      ],
      "text/plain": [
       "                                who_helped  counts\n",
       "0                           Homes For Good    2846\n",
       "1                                   family    1505\n",
       "2                                   others    1135\n",
       "3                      St. Vincent de Paul    1071\n",
       "4                             case manager     680\n",
       "5                        Housing Navigator     524\n",
       "6                            support staff     298\n",
       "7                              case worker     274\n",
       "8                       Laurel Hill Center     267\n",
       "9                              Lane County     267\n",
       "10                             ShelterCare     248\n",
       "11                       White Bird Clinic     173\n",
       "12      SNAP Training & Employment Program     143\n",
       "13                                    ODHS     143\n",
       "14                 peer support specialist     140\n",
       "15                                  friend     128\n",
       "16            Catholic Charities of Oregon     127\n",
       "17  Lane County Rural Street Outreach team     117\n",
       "18                 Oregon Health Authority      72\n",
       "19                           Sponsors, Inc      71\n",
       "20            Lane County Dovetail Program      69\n",
       "21                          Relief Nursery      67\n",
       "22                       Willamette Family      38\n",
       "23                            HIV Alliance      38\n",
       "24                      housing specialist      34\n",
       "25         Licensed Clinical Social Worker      33\n",
       "26                                   SLLEA      32\n",
       "27                       Worksource Oregon      28\n",
       "28              Sunshine Care Environments      27\n",
       "29                Black Thistle Street Aid      26"
      ]
     },
     "execution_count": 178,
     "metadata": {},
     "output_type": "execute_result"
    }
   ],
   "source": [
    "df['ResCat'].value_counts().rename_axis('who_helped').reset_index(name='counts').head(30)"
   ]
  },
  {
   "cell_type": "code",
   "execution_count": 153,
   "id": "8265b890",
   "metadata": {},
   "outputs": [],
   "source": [
    "out = df[df.ResCat == \"others\"][\"Response\"].value_counts().rename_axis('name').reset_index(name='counts')"
   ]
  },
  {
   "cell_type": "code",
   "execution_count": 154,
   "id": "3d0650ba",
   "metadata": {},
   "outputs": [],
   "source": [
    "out.to_csv(r'T:\\DCProjects\\Support\\Lane\\HfG\\who_helped_others.csv', index=False)"
   ]
  },
  {
   "cell_type": "code",
   "execution_count": 138,
   "id": "85d437c2",
   "metadata": {
    "scrolled": false
   },
   "outputs": [
    {
     "data": {
      "text/plain": [
       "['07/26/2022',\n",
       " 'Abby Olivera-Ruiz',\n",
       " 'Aisha McCoy',\n",
       " 'Albert Nash',\n",
       " 'Alec Lively',\n",
       " 'Alissa Moosbrugger',\n",
       " 'Alvin Bradford',\n",
       " 'Amanda',\n",
       " 'Amanda Cowan',\n",
       " 'Amanda Laufer',\n",
       " 'Amanda Newman',\n",
       " 'Amanda cowan',\n",
       " 'Amelia Jans, CSWA - therapist',\n",
       " 'Amie Holland',\n",
       " 'Anabel Sanchez',\n",
       " 'Angel Shaffer',\n",
       " 'Angela Miller',\n",
       " 'Angelica Talamante',\n",
       " 'Anika Greene',\n",
       " 'Anita Allen',\n",
       " 'April Morales',\n",
       " 'Ashely',\n",
       " 'Ashley',\n",
       " 'Ashley D',\n",
       " 'Becky McNichols',\n",
       " 'Belinda McClain',\n",
       " 'Bobbi Bullock',\n",
       " 'Brandy Teel',\n",
       " 'Brenda',\n",
       " 'Brenda Heth',\n",
       " 'Brittany Cartwright',\n",
       " 'Brittany Carwright',\n",
       " 'CC',\n",
       " 'Carl Davis',\n",
       " 'Cassidy Cockle',\n",
       " 'Cathleen Reyes',\n",
       " 'Catrina A',\n",
       " 'Catrina a',\n",
       " 'Centro Latino pop up - Beatriz',\n",
       " 'Chad Estrella',\n",
       " 'Charles Clark',\n",
       " 'Choice',\n",
       " 'Chris',\n",
       " 'Christi Champ',\n",
       " 'Christine a counselor at  Serenity Lane',\n",
       " 'Christy Waltz',\n",
       " 'Chrystal Carreras',\n",
       " 'Councilor Loraine moyer',\n",
       " 'Councilor Lorane Moyer',\n",
       " 'Counselor',\n",
       " 'Courtney McCloskey - Resident  Services Specialist',\n",
       " 'DSP Tammie Coltrane',\n",
       " 'DULCIE HARDY',\n",
       " 'Dad',\n",
       " 'Dana',\n",
       " 'Danyell Rejcek',\n",
       " 'David Warmbier',\n",
       " 'Deborah L',\n",
       " 'Deborah Leos',\n",
       " 'Deborah Leos. I have no knowledge of Computers/Electronics',\n",
       " 'Deborah l',\n",
       " 'Diana Gross',\n",
       " 'Diedra',\n",
       " 'Direct Support Professional,  Massimo Halterman',\n",
       " 'Dpn',\n",
       " 'Elizabeth Lehmann',\n",
       " 'Elizabethann Andros',\n",
       " 'Email',\n",
       " 'Employee Anna C.',\n",
       " 'Faith Runion',\n",
       " 'Franklin Crandall',\n",
       " 'Gail Lewis',\n",
       " 'Gail Reynolds',\n",
       " 'Gary Robert    he did fill up yesterday',\n",
       " 'Georgie Race',\n",
       " 'Gienia Baines sds',\n",
       " 'Gina Armijo',\n",
       " 'Gina Plantz',\n",
       " 'Gloria Estrada',\n",
       " 'Heather Freitas',\n",
       " 'Heather Rogers community member',\n",
       " 'Hilda Estrada',\n",
       " 'Housing Coordinator',\n",
       " \"James Barnum, I'm typing this right now\",\n",
       " 'James Smith',\n",
       " 'Jamie Lusk',\n",
       " 'Jasmine',\n",
       " 'Jean Kent',\n",
       " 'Jeff Koeppel',\n",
       " 'Jennifer Banning',\n",
       " 'Jennifer Meyer',\n",
       " 'Jennifer Taylor',\n",
       " 'Jenny Rogers',\n",
       " 'Jesse schneider',\n",
       " 'Jessica McHenry',\n",
       " 'Jimmya Racimo',\n",
       " 'Jo, at the phone number provided for help 541 682 2550',\n",
       " 'Joy wilcox',\n",
       " 'Judi  Lamb',\n",
       " 'Judi Lamb',\n",
       " 'Julianne Morreale from The Alliance for Community Wellness',\n",
       " 'KAREN MOORE',\n",
       " 'Karin Perry',\n",
       " 'Kathleen Rawlins',\n",
       " 'Katrina Natura',\n",
       " 'Kayla Walters',\n",
       " 'Kiah Franzoni',\n",
       " 'Kim Thorn',\n",
       " 'Kimberly Cook',\n",
       " 'Kip Burrus',\n",
       " 'L Pope',\n",
       " 'Lauren Stapleton',\n",
       " 'Laurie Vaale',\n",
       " 'Leticia  from CCS',\n",
       " 'Leticia Simmons',\n",
       " 'Linda Ague',\n",
       " 'Linda Clausen',\n",
       " 'Lisa Netzner',\n",
       " 'Living in my mini van',\n",
       " 'Loraine Taylor (counselor)',\n",
       " 'Lorane Moyer my councilor',\n",
       " 'Lori snyder',\n",
       " 'Lorian Stapleton',\n",
       " 'Maclain',\n",
       " 'Mandy Schommer',\n",
       " 'Mandy Schommer, therapist',\n",
       " 'Mandy Schommer, therapist.',\n",
       " 'Marco Liberata',\n",
       " 'Margarita Chernova',\n",
       " 'Margy Mitchell',\n",
       " 'Markel Lowe',\n",
       " 'Marsha Bezona',\n",
       " 'Mary Gross',\n",
       " 'Matthew Van Dyke',\n",
       " 'Meg Chiappisi Outreach Worker 458-221-3299',\n",
       " 'Megan',\n",
       " 'Megan Swan, PSS',\n",
       " 'Megan Walker - 458-217-4686',\n",
       " 'Melinda Hilton my dsp worker',\n",
       " 'Melinda Meyer',\n",
       " 'Melinda Meyer, PA',\n",
       " 'Melissa Carino',\n",
       " 'Melissas Swick',\n",
       " 'Melrose Mask',\n",
       " 'Michael Myers',\n",
       " 'Michelle Sario',\n",
       " 'Mike Myers',\n",
       " 'Millie Simmons',\n",
       " 'Misty Barkhimer',\n",
       " 'Misty barkhimer',\n",
       " 'Monica Braunschweiger',\n",
       " 'My councilor Lorane Moyer',\n",
       " 'My councilor lorane moyer',\n",
       " 'My councilor, Loraine Moyer',\n",
       " 'My counselor',\n",
       " 'My representative payee',\n",
       " 'Nancy Colfer',\n",
       " 'Nancy Forrest, Case Mangager, Dwayne Woods Village',\n",
       " 'Natasha DeSantis PA',\n",
       " 'Nicole0110',\n",
       " 'No',\n",
       " 'Olga Raiskin',\n",
       " 'Olivia Goodheart',\n",
       " 'Olivia Goodheart, 541-731-7472',\n",
       " 'Other adult on application',\n",
       " 'PA Melinda Meyer',\n",
       " 'PH 1 bdrm Riverview',\n",
       " 'PSS',\n",
       " 'Pamela L Guffey',\n",
       " 'Pamela Lynn Guffey',\n",
       " 'Pamela Nevin',\n",
       " 'Patricia Grady',\n",
       " 'Patricia grady',\n",
       " 'Peers support',\n",
       " 'Pennie Jennings',\n",
       " 'Pennie jennings',\n",
       " 'Per support',\n",
       " 'Rachael Canavello, PA',\n",
       " 'Rachel Zellar',\n",
       " 'Rachel Zeller',\n",
       " 'Ramona Houston',\n",
       " 'Randy Layton',\n",
       " 'Raquel Diaz, office manager',\n",
       " 'Rebecca Moore',\n",
       " 'Rebecka Kelleher',\n",
       " 'Rebekah Godell',\n",
       " 'Relative',\n",
       " 'Representative',\n",
       " 'Representative on phone',\n",
       " 'Resident Service Coordinator - Lani Spring 458-210-8101',\n",
       " 'Rhianna NesSmith',\n",
       " 'Savannah and Ian mcbride',\n",
       " 'Schaun Cox',\n",
       " 'Sean Gorda',\n",
       " 'Sean Grosse',\n",
       " 'Section 8 HCV 2022 Waitlist',\n",
       " 'Selena Gonalez',\n",
       " 'Selena Gonzalez',\n",
       " 'Selena Gonzalez-Flores',\n",
       " 'Shakeria sabb',\n",
       " 'Shannon Cramer',\n",
       " 'Shanta Kanath',\n",
       " 'Sharon Anitok 208-794-1994',\n",
       " 'Shavaun Manibusan',\n",
       " 'Shay Limbaugh',\n",
       " 'Shelly Meyer',\n",
       " 'Sheri Kendall',\n",
       " 'Shirley',\n",
       " 'Shirley Eastman',\n",
       " 'ShirleyEastman',\n",
       " 'Shonna Bowman',\n",
       " 'Sleeping in my truckerpinan',\n",
       " 'Social worker',\n",
       " 'Spencer McCoy',\n",
       " 'Stacy Ivey',\n",
       " 'Susan Pepper-Reed',\n",
       " 'Suzanne Murphy',\n",
       " 'TARA SMITH',\n",
       " 'TREESA CAUDELL',\n",
       " 'Tami Dalton, PSS',\n",
       " 'Tami affeld',\n",
       " 'Tammi Affeld',\n",
       " 'Tammis affeld',\n",
       " 'Tammy affeld',\n",
       " 'Tania Romero',\n",
       " 'Tasherra',\n",
       " 'Teia Brady',\n",
       " 'Therapist - Amelia Jans',\n",
       " 'Theresa Bishop',\n",
       " 'Theresa Burchell',\n",
       " 'Thuy Detering',\n",
       " 'Tina hogin',\n",
       " 'Tina ostovar',\n",
       " 'Tonja Haywood',\n",
       " 'Tonya White',\n",
       " 'Treesa caudell',\n",
       " 'Trina King DSP workers 541-285-5930',\n",
       " 'Troy Krusenstjerna',\n",
       " 'Tyler Carlton',\n",
       " 'VA Social Worker Trina Gomez trinadad.gomez@va.gov',\n",
       " 'Viola',\n",
       " 'Viola Dean',\n",
       " 'Wakan',\n",
       " 'Wemmy Ayannubi',\n",
       " 'Wemmy Ayannuby',\n",
       " 'Yes Lauren Moyer',\n",
       " 'amanda newman',\n",
       " 'anc',\n",
       " 'april morton',\n",
       " 'carol',\n",
       " 'cc',\n",
       " 'ccc',\n",
       " 'centro latino pop up - Beatriz',\n",
       " 'centro latino pop up - beatriz',\n",
       " 'crystal rulli 4582393151',\n",
       " 'crystal rulli 5412465136',\n",
       " 'diedra',\n",
       " 'din',\n",
       " 'dpm',\n",
       " 'housing services',\n",
       " 'james l. hill',\n",
       " 'jeff koeppel',\n",
       " 'joy',\n",
       " 'joy wilcox',\n",
       " 'lauren stapleton',\n",
       " 'linz',\n",
       " 'lizzy cyrus',\n",
       " 'melinda hilton my dsp worker',\n",
       " 'molly Rogan',\n",
       " 'molly rogan',\n",
       " 'options counseling',\n",
       " 'peran al yacoby',\n",
       " 'schaun Cox',\n",
       " 'tara smith',\n",
       " 'teia brady']"
      ]
     },
     "execution_count": 138,
     "metadata": {},
     "output_type": "execute_result"
    }
   ],
   "source": [
    "sorted(list(df.loc[df.ResCat == \"others\", \"Response\"].unique()))"
   ]
  },
  {
   "cell_type": "code",
   "execution_count": 151,
   "id": "9b4b378a",
   "metadata": {},
   "outputs": [],
   "source": [
    "def categorize_response(x):\n",
    "    #print(x)\n",
    "    wf = re.search(\"WILLAMETTE fAMILY|WF|wam fam|wamfam|fam\", x, re.IGNORECASE)\n",
    "    lh = re.search(\"Legacy Health\", x, re.IGNORECASE)\n",
    "    em = re.search(\"julie hansen|eugene mission\", x, re.IGNORECASE)\n",
    "    family = re.search(\"mom|daughter|son|father|mother|sister|brother|family|niece|wife|parent|cousin|step child|spouse|daugheter|daighter|daugter|husband|uncle|aunt|legal guardian|Dad\", x, re.IGNORECASE)\n",
    "    friend = re.search(\"girlfriend|friend|Frend|coworker|Roommate|neighbor\", x, re.IGNORECASE)\n",
    "    manager = re.search(\"Case Manager|Caser manager|cm|Case Mgr|case manger|NCM|Case Management|Case Managment|Case  Manager|casemanager|Case Mnager\", x, re.IGNORECASE)\n",
    "    hfg = re.search(\"HFG|Homes For Good|Home4Good|homes fro Good|Home for Good|flyer|541-682-2550|Resident Services|Cappy|Sarah Stanley|Kat |JJ|Laci Pope|Dustin|Johanna|L. Pope|Waitlist connect|Duncan|Melissa Hartman|Maclain Barney|don\", x, re.IGNORECASE)\n",
    "    btsa = re.search(\"Black Thistle street aid|Bridgette\", x, re.IGNORECASE)\n",
    "    rn = re.search(\"Relief Nursery\", x, re.IGNORECASE)\n",
    "    csi = re.search(\"ColumbiaCare\", x, re.IGNORECASE)\n",
    "    ccs = re.search(\"Catholic community services\", x, re.IGNORECASE)\n",
    "    sc = re.search(\"ShelterCare|Ruby Renfro|SC Staff\", x, re.IGNORECASE)\n",
    "    sce = re.search(\"Sunshine Care Environments\", x, re.IGNORECASE)\n",
    "    lcsw = re.search('LCSW', x, re.IGNORECASE)\n",
    "    lc = re.search(\"Lane COunty\", x, re.IGNORECASE)\n",
    "    step = re.search(\"STEP|Gretchen Stupke|Lindsay|Gretchen Stupke\", x, re.IGNORECASE)\n",
    "    cw = re.search(\"Case Worker|caseworker\", x, re.IGNORECASE)\n",
    "    cs = re.search(\"Community Share|Community Sharing\", x, re.IGNORECASE)\n",
    "    lcbh = re.search(\"LCBH|Lane County Behavioral Health\", x, re.IGNORECASE)\n",
    "    lcdp = re.search(\"Dovetail\", x, re.IGNORECASE)\n",
    "    cg = re.search(\"caregiver\", x, re.IGNORECASE)\n",
    "    cfnc =  re.search(\"Coast Fork Nursing Center\", x, re.IGNORECASE)\n",
    "    svdp = re.search(\"SVDP|St. Vincent de paul|Vikki Perpinan|Melissa Swick|Sarah Koski|Jeff Wolfe|Amber Fitch|Vikki  Perpinan|Vikki M Perpinan|VikkiPerpinan\", x, re.IGNORECASE)\n",
    "    oslp = re.search(\"Oregon Supported Living Program\", x, re.IGNORECASE)\n",
    "    lila = re.search(\"Independent Living|LILA\", x, re.IGNORECASE)\n",
    "    an = re.search(\"Advocates Northwest\", x, re.IGNORECASE)\n",
    "    wbc = re.search(\"White Bird|David Joseph|Whitebird\", x, re.IGNORECASE)\n",
    "    cht = re.search(\"Claire Hutton\", x, re.IGNORECASE)\n",
    "    ps = re.search(\"Peer Support\", x, re.IGNORECASE)\n",
    "    lhc = re.search(\"Laurel Hill Center\", x, re.IGNORECASE)\n",
    "    s = re.search(\"staff\", x, re.IGNORECASE)\n",
    "    hs = re.search(\"Housing Specialist\", x, re.IGNORECASE)\n",
    "    a =  re.search(\"advocate\", x, re.IGNORECASE)\n",
    "    slmh = re.search(\"South Lane Mental Health\", x, re.IGNORECASE)\n",
    "    gsih = re.search(\"G Street Integrated Health\", x, re.IGNORECASE)\n",
    "    cch = re.search(\"Cornerstone Community Housing\", x, re.IGNORECASE)\n",
    "    cri = re.search(\"USCRI\", x, re.IGNORECASE)\n",
    "    hiva = re.search(\"HIV Alliance|Ali Sanchez\", x, re.IGNORECASE)\n",
    "    ohop = re.search(\"OHOP\", x, re.IGNORECASE)\n",
    "    naacp = re.search(\"NAACP\", x, re.IGNORECASE)\n",
    "    hn = re.search(\"Navigator\", x, re.IGNORECASE)\n",
    "    css = re.search(\"CSS|Community Supported Shelters|Destinee Thompson\", x, re.IGNORECASE)\n",
    "    odhs = re.search(\"HS\", x, re.IGNORECASE)\n",
    "    sllea = re.search(\"SLLEA\", x, re.IGNORECASE)\n",
    "    sds = re.search(\"Senior and Disabled Services\", x, re.IGNORECASE)\n",
    "    rcsa = re.search(\"Redwood Cove Senior Apartments|Del Norte Senior Center\", x, re.IGNORECASE)\n",
    "    ta = re.search(\"Trisha Aspiranti|Trish Aspiranti|Trisha Aspiranti|Trisha Aspirnanti\", x, re.IGNORECASE)\n",
    "    epl = re.search(\"library\", x, re.IGNORECASE)\n",
    "    allc = re.search(\"Allies LLC\", x, re.IGNORECASE)\n",
    "    hsa = re.search(\"Hope for safety alliance\", x, re.IGNORECASE)\n",
    "    aer = re.search(\"Avanti ElderCare Resources\", x, re.IGNORECASE)\n",
    "    ch = re.search(\"Community Health\", x, re.IGNORECASE)\n",
    "    lqp = re.search(\"La-Quan Pope|LaQuan Pope\", x, re.IGNORECASE)\n",
    "    mhi = re.search(\"Mainstreamhousing Inc.|Heath Stark\", x, re.IGNORECASE)\n",
    "    ws = re.search(\"Worksource|work source|worksouce\", x, re.IGNORECASE)\n",
    "    si = re.search(\"Sponsors Inc|sPONSORS|megan oniel|Meghan Oneill|Megan O'Neill|Megan Oniell|Megan Oneill\", x, re.IGNORECASE)\n",
    "    cco = re.search(\"Louis Diaz Medina|Sonja Hyslip|Disaster Case Manager\", x, re.IGNORECASE)\n",
    "    rs = re.search(\"Rural Street|rural outreach\", x, re.IGNORECASE)\n",
    "    dc = re.search(\"Daisy CHAIN\", x, re.IGNORECASE)\n",
    "    sv = re.search(\"opportunity village\", x, re.IGNORECASE)\n",
    "    hhc = re.search(\"Helping Hands\", x, re.IGNORECASE)\n",
    "    if family:\n",
    "        res = 'family'\n",
    "    elif em:\n",
    "        res = 'Eugene Mission'\n",
    "    elif lh:\n",
    "        res = 'Legacy Health'\n",
    "    elif wf:\n",
    "        res = 'Willamette Family'\n",
    "    elif dc:\n",
    "        res = 'Daisy C.H.A.I.N.'\n",
    "    elif sv: \n",
    "        res = 'SquareOne Villages'\n",
    "    elif hhc:\n",
    "        res = 'Helping Hands Coalition'\n",
    "    elif cco:\n",
    "        res = 'Catholic Charities of Oregon'\n",
    "    elif rs:\n",
    "        res = 'Lane County Rural Street Outreach team'\n",
    "    elif ws:\n",
    "        res = 'Worksource Oregon'\n",
    "    elif si:\n",
    "        res = 'Sponsors, Inc'\n",
    "    elif mhi:\n",
    "        res = 'Mainstream Housing, Inc'\n",
    "    elif lqp:\n",
    "        res = 'La-Quan Pope'\n",
    "    elif aer:\n",
    "        res = 'Avanti ElderCare Resources'\n",
    "    elif ch:\n",
    "        res = 'Community Health'\n",
    "    elif cht:\n",
    "        res = 'Claire Hutton'\n",
    "    elif ta:\n",
    "        res = 'Trisha Aspiranti'\n",
    "    elif hsa:\n",
    "        res = 'Hope & Safety Alliance'\n",
    "    elif allc:\n",
    "        res = 'Allies LLC'\n",
    "    elif epl:\n",
    "        res = 'Eugene Public Library'\n",
    "    elif rn:\n",
    "        res = 'Relief Nursery'\n",
    "    elif hfg:\n",
    "        res = 'Homes For Good'\n",
    "    elif sce:\n",
    "        res = 'Sunshine Care Environments'\n",
    "    elif csi:\n",
    "        res = 'ColumbiaCare Services'\n",
    "    elif ccs:\n",
    "        res = 'Catholic Community Services'\n",
    "    elif sc:\n",
    "        res = 'ShelterCare'\n",
    "    elif lcsw:\n",
    "        res = 'Licensed Clinical Social Worker'\n",
    "    elif lc:\n",
    "        res = 'Lane County'\n",
    "    elif cw:\n",
    "        res = 'case worker'\n",
    "    elif lcbh:\n",
    "        res = 'Lane County Behavioral Health'\n",
    "    elif lcdp:\n",
    "        res = 'Lane County Dovetail Program'\n",
    "    elif cg:\n",
    "        res = 'casegiver'\n",
    "    elif cfnc:\n",
    "        res = 'Coast Fork Nursing Center'\n",
    "    elif svdp:\n",
    "        res = 'St. Vincent de Paul'\n",
    "    elif oslp:\n",
    "        res = 'Oregon Supported Living Program'\n",
    "    elif lila:\n",
    "        res = 'Lane Independent Living Alliance'\n",
    "    elif an:\n",
    "        res = 'Advocates Northwest'\n",
    "    elif wbc:\n",
    "        res = 'White Bird Clinic'\n",
    "    elif cs:\n",
    "        res = 'Community Share'\n",
    "    elif ch:\n",
    "        res = 'Claire Hutton'\n",
    "    elif ps:\n",
    "        res = 'peer support specialist'\n",
    "    elif lhc:\n",
    "        res = 'Laurel Hill Center'\n",
    "    elif slmh:\n",
    "        res = 'South Lane Mental Health'\n",
    "    elif gsih:\n",
    "        res = 'G Street Integrated Health'\n",
    "    elif s:\n",
    "        res = 'support staff'\n",
    "    elif hs:\n",
    "        res = 'housing specialist'\n",
    "    elif cch:\n",
    "        res = 'Cornerstone Community Housing'\n",
    "    elif cri:\n",
    "        res = 'USCRI'\n",
    "    elif hiva:\n",
    "        res = 'HIV Alliance'\n",
    "    elif ohop:\n",
    "        res = 'Oregon Health Authority'\n",
    "    elif naacp:\n",
    "        res = 'NAACP'\n",
    "    elif hn:\n",
    "        res = 'Housing Navigator'\n",
    "    elif css:\n",
    "        res = 'Community Supported Shelters'\n",
    "    elif btsa:\n",
    "        res = 'Black Thistle Street Aid'\n",
    "    elif rcsa:\n",
    "        res = 'Redwood Cove Senior Apartments'\n",
    "    elif odhs:\n",
    "        res = 'ODHS'\n",
    "    elif sllea:\n",
    "        res = 'SLLEA'\n",
    "    elif sds:\n",
    "        res = 'LCOG SDS'   \n",
    "    elif a:\n",
    "        res = 'advocate'\n",
    "    elif friend:\n",
    "        res = 'friend'\n",
    "    elif step:\n",
    "        res = 'SNAP Training & Employment Program'\n",
    "    elif manager:\n",
    "        res = 'case manager'\n",
    "    else:\n",
    "        res = 'others'\n",
    "    return res"
   ]
  },
  {
   "cell_type": "code",
   "execution_count": 66,
   "id": "c2e9a77e",
   "metadata": {},
   "outputs": [
    {
     "name": "stdout",
     "output_type": "stream",
     "text": [
      "['Chris', 'Lindsay Weiss Lane County', 'Shay Limbaugh', 'Claire Hutton \\necobeanfabric@yahoo.com\\n541-972-9288', 'Gail Reynolds', 'Carla Avila from Relief Nursery', 'Stacy Ivey', 'WILLAMETTE fAMILY', 'Claire Hutton ecobeanfabric@yahoo.com  541-972-9288', 'Case Manager', 'Stefanie- Homes For Good', 'Randy Layton', 'Stefanie @ Homes For Good', 'Peer support at WF', 'Claire Hutton.  ecobeanfabric@yahoo.com. 541-972-9288', 'Employee for ColumbiaCare services. Inc.', 'case manager', 'Margarita Chernova', 'Employee for ColumbiaCare Services Inc.', 'Homes For Good', 'Claire Hutton. ecobeanfabric@yahoo.com   541-972-9288', 'Shavaun Manibusan', 'Dee/case mgr LCBH', 'Case manager', 'Leticia Simmons \\nCatholic community services', 'Andrew Ahrens - Lane County Dovetail Program Case Worker', 'Mary Hunter-caregiver', 'Holly Brunton-Sneden/Sunshine Care Environments.', 'Employee for ColumbiaCare Services Inc', 'Claire Hutton. ecobeanfabric@yahoo.com    541-972-9288', 'Laurel Hill Center Housing', 'Employee for ColumbiaCare services inc.', 'Yuki Kumashiro, Housing Specialist, ShelterCare', 'Holly Brunon-Sneden/Sunshine Care Environments', 'Marlena Gann Advocate', 'Homes for Good', 'Claire Hutton  ecobeanfabric@yahoo.com 541-972-9288', 'Laurel Hill Center  Housing', 'Shannon Baimbridge - Housing Specialist, Homes for Good Housing Agency', 'Homes for Good Staff Member', 'Holly Brunton-Sneden/Sunshine Care Environments', 'Janette Stringer, LCSW', 'Peer support WF', 'Claire Hutton ecobeanfabric@yahoo.com 541-972-9288', 'Yuki Kumashiro, ShelterCare, Housing Specialist', 'Chelsea Brown, Social Services Director at Coast Fork Nursing Center', 'Kat LaFerle, Housing Specialist', 'Chelsea Brown Social Services Director at Coast Fork Nursing Center', 'My friend Kimberly Thorn', 'Sarah Stanley', '07/26/2022', 'Dee Case Mgr', 'Homes for Good Staff', 'Marcus my case worker through ShelterCare (541-514-9151)', 'friend', 'Becky McNichols', 'Shannon Baimbridge - Housing Specialist Homes for Good Housing Agency', 'My counselor', 'Sean Gorda', 'CLaire Hutton ecobeanfabric@yahoo.com 541-972-9288', 'Lindsay Weiss, Lane COunty', 'Yes Lauren Moyer', 'Shannon Baimbridge - Housing Specialist - Homes for Good Housing Agency', 'YES, MOM-CARETAKER-DSW', 'wam fam', 'Kat LaFerle', 'khiara wildman(peer support)', 'HILLARY HOGAN SVDP CASE WORKER', 'Sean Gorda Lane County', 'Shannon Baimbridge - Housing Specialist Homes for Good', 'Housing Navigator', 'Danyell Rejcek; Service Navigator CSS Team 3', 'friend, Haley', 'Claire Hutton ecobeanfabric@yahoo.com', 'HILLARY HOGAN SVDP CASEWORKER', 'Shakeria sabb', 'cm', 'Dee CM', 'Shannon Baimbridge - Homes for Good Housing Specialist', 'No', 'Housing navigator', 'Anika Greene', 'Shannon Baimbridge - Homes for Good', 'Housing navigator.', 'Carla Barnes from Community Share in Cottage Grove Oregon', 'Rachael Canavello, PA', 'Homes for good', 'homes for good staff', 'Housing Specialist', 'staff', 'Kimberly Cook', 'Shelly Meyer', 'Dustin F', 'molly Rogan', 'ODHS - Matthew Van Dyk', 'Ex girlfriend', 'Athena and Shelby (HS)', 'Chris Estrada - Peer Support Specialist - 541-735-4848', 'Tonja Haywood', 'Dawn Rogers: Vet LIFT Case Manager', 'DCM Louis Diaz Medina', 'molly rogan', 'Don Rep.', 'my support staff', 'legal guardian', 'Chris Estrada – Peer Support Specialist – Lane County Behavioral Health – 541-735-4848', 'My Case worker Marcus. (541-514-9151)', 'Jasmine', 'Kayla Walters', 'Amber Fitch of SVdP of Lane County (case manager)', 'HFG', 'SVDP Staff', 'Dovetail- H&HS Lane county', 'SVDP Housing Case Manager', 'Melissa Hartman w/ HFG', 'Dovetail- H&HS', 'Don', 'Amanda cowan', 'My staff, Amanda Cox', 'housing navigator', 'SVDP Case Manager', 'Olivia Goodheart', 'Caregiver, Amanda Cox', 'Dovetail-H&HS', 'Caregiver,  Amanda', 'ShelterCare', 'SVDP Housing case manager', 'Hfg', 'Caregiver. AMANDA', 'Melissa Hartman w/HFG', 'joy wilcox', 'Dustin F - Homes For Good', 'Shelby (HS)', 'Caregiver, Amanda', 'Duncan at Homes for Good', 'Niece Hope', 'Johanna Jimenez - HFG', 'case manger', 'Andrew Ahrens - Caseworker with Dovetail Program', 'Johanna J. - HFG', 'Laurel Hill Center', 'Amber Fitch/SVdP of Lane County', 'SVDP casemanager', 'My case worker Marcus his number is 541-514-9151', 'Trisha Aspiranti Rep Payee', 'SVDP housing case manager', 'JJ - HFG', 'My parents', 'my support staff - I have support staff to help me with communication, shopping, money mgmt, transportation and daily living needs.', 'Krista Densberger- Support Provider with SLLEA', 'Trisha Aspiranti', 'Trisha Aspiranti my rep payee', 'Linda Ague', 'Kat LaFerle - Housing Specialist', 'Suzanne Murphy', 'Disaster Case Manager', 'Jennifer Meyer', 'Dustin', 'Laurel Hill Center-Housing', 'Dustin F. - Homes For Good', 'scott lemons - lila', 'Trisha Aspiranti my Rep Payee', 'Housing Specialist - Kat LaFerle', 'Scott Lemons- Lila', 'Laurel Hill Center-Attn: Housing', 'SVDP case manager', 'Daisy Rodriguez. Case Worker at SVDP', 'Senior and Disabled Services', 'dustin', 'Scott Lemons-Lila', 'Jennifer Banning', 'Scott Lemons _Lila', 'shelterCare', 'james l. hill', 'Sherry - Case Manager', 'jj - hfg', 'Danyell Rejcek', 'Counselor', 'Tiffany Beteta/ SVDP', 'South Lane Mental Health', 'Chrystal Carreras', 'Disaster Case Manager-Louis Diaz Medina', 'Tiffany Beteta/SVDP', 'Georgie Race', 'Case Management at South Lane Mental Health', 'steve barnum, peer support', 'Maclain Barney', 'Case Management at South Lane Mental Health -Robert Lee', 'Stefanie @ Homes for good', 'Case Management through South Lane Mental Health -Robert Lee', 'Dustin......Homes for Good', 'jj- hfg', 'SVDP Case Worker', 'Johanna -HFG', 'Johanna - HFG', 'Disaster Case Manager Louis Diaz Medina', 'SVDP Case worker', 'JJ- hFG', 'Shannon Baimbridge - Homes for Good, Housing Specialist', 'My case Manager', 'Dustin........Homes for Good', 'Cappy Paquin', 'Dustin.....homes fro Good', 'Melissa Carino', 'Sahlea Tubbeh, Case worker, Lane County Health and Human Services', 'Dustin.....Homes for Good', 'Oregon Supported Living Program', 'Viola Dean', 'Navigator at eugene mission', 'HOme4GoodStaff', 'Pamela Nevin - SLLEA Supported Living', 'Home4Good Staff', 'Cornerstone Community Housing-Guinevere Garcia 541.683.1751 ext 110', 'Duncan at HFG', 'wamfam', 'Pamela Nevin- SLLEA Supported Living', 'Duncan @ HFG', 'Dustin F waitlist connect assistant at Eugene public library.', 'Cappy', 'hfg - jj', 'My girlfriend amber fitts', 'Cherie White , Independent Living Specialist, Lane Independent Living Alliance', 'Peer support.', 'Dawn Rogers: Case manager', 'Pamela Nevin', 'Tania Romero', 'jj', 'Amber Garrett Homes for Good', 'Cornerstone community housing-Guinevere Garcia 541.683.1751', 'Cherie White, Independent Living Specialist, Lane Independent Living Alliance', 'Carly Rose, case manager with Lane County Behavioral Health', 'Homes for Good employee Amber Garrett', 'JJ', 'Caseworker', 'Diedra', 'Cherie White, Independent Living Specialist, LILA', 'Homes for Good Employee Amber Garrett', 'Viola', 'diedra', 'Mellinda Poor, Service Navigator, Community Supported Shelters', 'Peer support', 'Stefanie @ homes For Good', 'Library staff', 'Tony, friend.', 'Peer Support', 'Pennie Jennings', 'Library Staff', 'casemanager', 'Don and Dustin', 'Heatherly Stankey, Niece', 'DF and Don', 'Vanessa, my caseworker/parent navigator from Relief Nursery', 'Rebecca Moore', 'Lisha Denis- Service Coordinator -Del Norte Senior Center/Redwood Cove Senior Apartments', 'Pennie jennings', 'Home For Good', 'don / dustin', 'svdp case manager', 'Lisha Denis -Service Coordinator Redwood Cove Senior Apartments/Del Norte Senior Center', 'case manager at Lane County Behavioral Health', 'Duncan  @ HFG', 'Lisha Denis, Service Coordinator Redwood Cove Senior Apartments', 'don/dustin', \"Someone at homes for good I don't know their name.\", 'support staff', 'svdp case worker', 'Trish Aspiranti', 'Faith Runion', 'Ray at the White Bird NEST program -541-342-1295', 'Nina Vallin, Case Manager at SVdP', 'Svdp', 'Savannah Krieger, SquareOne Villages Housing Navigator', 'Nina Vallin at St. Vincent de paul', 'Guinevere Garcia-Cornerstone Community Housing', 'Nina Vallin - SVDP', 'Renee Turner with Allies LLC', 'Trisha Aspirnanti', 'The assistance number on the flyer (541-682-2550)', 'The number On the flyer(541-682-2550).', 'Nina Vallin - SVDP.', 'Stefanie @ Home For Good', 'My wife.', 'Parent', 'PSW from Advocates Northwest', 'Theresa Olsen, SVdP Vet LIFT case manager', 'Advocates Northwest PSW', 'Advocates Northwest', 'wf', 'Stephanie Dahl', 'My councilor, Loraine Moyer', 'Selena Gonzalez', 'Lorane Moyer my councilor', 'My cousin Laura Darling', 'Kim Thorn', 'Hope for safety alliance', 'Selena Gonalez', 'Duncan Welsh', 'Thuy Detering', 'Laurie Vaale', 'Michelle Sario', 'Judi Lamb', 'Chris Estrada – Lane County Behavioral Health - Peer Support Specialist - 541-735-4848', 'case manager with Lane County Behavioral Health', 'Amanda Buchanan, Oak program for housing (Alliance) case manager', 'Amanda Buchanan, housing navigator from the Alliance', 'Amanda Buchanan, housing navigator/case manager at the Alliance Oak program', 'Kepler Smith, Housing Specialist with ShelterCare Short Term Housing', 'Caregiver', 'Shirley Eastman', 'Theresa Bishop', 'Gina Armijo', 'Tyler Carlton', 'Case Worker', 'Cynthia Nagao, friend', 'Peers support', 'Kris Jaxon - Care Manager at Avanti ElderCare Resources', 'JJ HFG', 'hfg', 'St. Vincent de Paul, Vet LIFT case manager Theresa Olsen 541-501-9619', 'Lisa Netzner', 'Cynthia Nagao, friend.', 'Cynthia Nagoa, friend', 'Cynthia Nagao, Friend', 'Millie Simmons', 'Relief Nursery ISRS provider', 'Charles Clark', 'Sahlea Tubbeh, Case Worker', 'Sahlea Tubbeh, case worker', 'Relief Nursery ISRS', 'ISRS provider Relief Nursery', 'Sahlea Tubbeh, Case worker', 'Cathleen Reyes', 'Chris Estrada - Peer Support Specialist - Lane County Behavioral Health - 541-735-4848', 'Jodi Hecht - Care Manager at G Street Integrated Health', 'Jodi Hecht - Care Manager at G Street Integrated Health.', 'Community Health Worker', 'Advocate from Full Access', 'Advocate With Full Access', 'Katrina Natura', 'Carla Barnes from Community Sharing in Cottage Grove Oregon.', 'La-Quan Pope', 'LaQuan Pope', 'Lane County Rural Outreach Team', 'Lane County Rural Outreach', 'Stefanie @ homes for Good', 'Vikki M Perpinan', 'Vikki Perpinan', 'Property Manager at Mainstreamhousing Inc.', 'Mary Melissa Cobb, LILA', 'Melissa Swick-case manager', 'Theresa Burchell - Lane county rural outreach', 'Duncan @ Homes for Good', 'Melissa Swick', 'Case manager at White Bird Clinic', 'Melissa swick', 'Jodi Hecht - Care Manager, G Street Integrated Health', 'Jodi Hecht - G Street Integrated Health.', 'Relief Nursery', 'HOme4Good Staff', 'Per support', 'peer support', 'Samantha Williams, FSU Case Manager, ShelterCare', 'Olga Raiskin', 'Kathleen Rawlins', 'Navigator Worker', 'megan oniel', 'Joy Wilcox- housing assistant at sponsors', 'Lindsey Weiss Step Human support animal', 'Markel Lowe', 'Lindsay Weiss', 'Pamela Lynn Guffey', 'Worksource', 'Raquel Diaz, office manager', 'Kai Batalona - Case Worker', 'Lindsey Weiss step Programme', 'Amber Smith, OHOP advocate', 'Lindsey Weiss Step Programme', 'Lindsey Weiss Step Programme specialist', 'WorkSource', 'Siria Ochoa, RN, NCM', 'Lane County Rural Street Outreach Team', 'SVDP', 'Friend', 'Debra Thornton (niece)', 'Rachel Zellar', 'Dana', 'Judi Lamb (Niece, POA and Authorized Representative)', 'Judi  Lamb', 'Shirley', 'Amie Holland', 'My cousin, Victoria', 'Megan oniel', 'Gloria Estrada @ Homes for Good', 'Gloria Estrada', 'Work source Case Worker', 'Work Source Case Worker', 'Andrew Ahrens - Lane County caseworker', 'Work Source Case Worker.', 'Kai Batalona - Navigator', 'Work source Caseworker.', 'linz', 'Stefanie @ Homes for Good', 'Jeff Wolfe-Housing Navigator @ SVdP', 'Nicci Schaefer-Limbach, Case manager at Peace Health', 'Brenda Heth', 'Leticia from Catholic Community Services', 'worksouce lane', 'SVDP-Housing case manager', 'SVDP-housing case manager', 'Work Source case Worker.', 'Jeff Wolfe-Housing Navigator @ SVdP.', 'Work Source', 'Nicci Schaefer-Limbach Case manager at Peace Health', 'Amber Fitch', 'Svdp case worker', 'Work Source Navigator', 'Sean Gorda at Lane County', 'White Bird NEST', 'work source lane', 'Cassidy Cockle, Case Manager at the White Bird Clinic', 'Lane country Rural street outreach', 'Amber Fitch/SVdP of Lane county', 'Liz Tacha with Homes for Good', 'Julianne Morreale from The Alliance for Community Wellness', 'Liz Tacha at Homes for Good', 'Elizabeth Lehmann', 'nicci Schaefer-Limbach, Case manager at Peace Health', 'Relief Nursery IsRS', 'nicci Schaefer-Limbach case manager at peace health', 'case manager at Peace health', 'My cousin Victoria', 'Relief Nursery ISRs', 'Megan Swan, PSS', 'White Bird Nest', 'Cassidy Cockle, Case Manager at White Bird Clinic', 'white bird nest', 'Cassidy Cockle - Case Manager at the White Bird Clinic', 'don', 'Cassidy Cockle, White Bird Clinic', 'Cassidy Cockle, case manager at White Bird Clinic', 'Melissa Rondon at White Bird Medical', 'Cassidy Cockle, case manager at the White Bird Clinic', 'Holly Brunton-Sneden/Sunshine care Environments', 'Councilor Loraine moyer', 'My councilor Lorane Moyer', 'Councilor Lorane Moyer', 'My councilor lorane moyer', 'Frend', 'SVDP case amanager', 'ssvdp case worker', 'melinda hilton my dsp worker', 'a neighbor', 'Melinda Hilton my dsp worker', 'My cousin', 'nicci Schaefer-Limbach, Case manager', 'Frances Tyler, my caregiver', 'case manager at Peace Health', 'Usha Davis, LCSW', 'anc', 'usha davis lcsw', 'case manager peace health', 'Spouse', 'vikki Perpinan', 'Cm', 'Legacy Health System - resource specialist, care management', \"Frances Tyler, Tim's caregiver\", \"Frances Tyler, Tim's Caregiver\", 'Megan Walker - Lane Co H&HS Program (458) 217-4686', 'Lisa Chin - Legacy Health System - Resource Specialist, Care Management', 'Lisa Chin - Legacy Health - Resource Specialist, Care management', 'Megan Walker - Lane Co H&HS Dovetail Program (458) 217-4686', 'Dpn', 'Ali Sanchez an outreach worker at HIV Alliance.', 'Megan Walker - Lane Co H&HS Dovetail Program 458-217-4686', 'Ali Sanchez outreach worker at HIV Alliance', 'Megan Walker - Lane co H&HS Dovetail Program 458-217-4686', 'Ali Sanchez outreach worker', 'Ali Sanchez-Outreach Worker', 'Megan walker - Lane Co H&HS Dovetail Program 458-217-4686', 'Ali Sanchez-outreach worker', 'Leticia  from CCS', 'options counseling', 'Leticia Simmons', 'done', 'Logan Amaral - Case Manager, Laurel Hill Center', 'Karin Perry', 'Angel Shaffer', 'Aleya Bryant caregiver', 'Yes, my neighbor Bobby Durham', 'Amanda Cowan', 'Albert Nash', 'Bobbi Bullock', 'Angel Shaffer niece', 'Loraine Taylor (counselor)', 'David Warmbier', 'Lane County Rural Street Outreach', 'Jamie Lusk', 'Lane County Rural Outreach team', 'My ex-wife', 'Social Worker: Catherine Davila. Clinical case manager for the Intercultural Counseling Center at Catholic Charities of Oregon.', 'Ramona Houston', 'Case manager, Peace Health', 'Megan Walker- Lane Co H&HS Dovetail Program 458-217-4686', 'Wakan', 'Case manager at Peace health', 'Case Manger', 'Megan Walker - 458-217-4686', 'Lane Country Rural Street Outreach', 'Case manager at Peace Health', 'Jo, at the phone number provided for help 541 682 2550', 'Linet Armstrong, ShelterCare', 'Johanna Jimenez', 'David Warmbier LCSW', 'Theresa Burchell- Lane County Rural Outreach Community Service Worker', 'Maclain', 'april morton', 'TARA SMITH', 'tara smith', 'Ali Sanchez-case worker', 'Peace health case manager', 'David Warmbier, LCSW', 'Ali Sanchez-Case Worker', 'case manager at peace health', 'peace health case manager', 'case manager at peacehealth', 'Johanna Jimenez  - HFG', 'Sheltercare', 'Jeff Wolfe, Housing Navigator at SVdP.', 'Sheltercare staff', 'sheltercare', 'Aisha McCoy, Homes for Good', 'sheltercare staff', 'shelter care staff', 'Jeff Wolfe', 'Secure residential treatment facility staff', 'YH Staff', 'SVdP Youth house', 'Cynthia Nagao, Friends of the Children', 'Johanna J - HFG', 'Alvin Bradford', 'HFG Staff', 'JJ hFG', 'HFG JJ', 'HFG STAFF', 'Tasherra', 'Kepler Smith, Housing Specialist with ShelterCare short term housing', 'Case manager, Nicci Schaefer-Limbach', 'Johanna Jimenez HFG', 'Aisha McCoy. Homes for Good', 'My friend Jodi filled this out. Because she is more patient than I am', 'Siria Ochoa, RN , NCM', 'parent Michelle Cahill', 'St. Vincent de Paul Vet LIFT case manager, Theresa Olsen', 'Lane Co H&HS Dovetail Program', 'Gloria @ Homes for Good', 'Relief Nursery Navigator', 'Lane County H&HS Dovetail Program', 'Someone from the site at the NAACP on  July 29th 2022 told me to fill out the application.', 'Linda Clausen', 'Rhianna NesSmith', 'David warmbier, LCSW', 'David warmbier LCSW', 'Jesse schneider', 'Tina hogin', 'My friend Pamela Burns', 'Belinda McClain', 'Joy wilcox', 'Rebecka Kelleher', 'Tonya White', 'case manager with LCBH', 'case manager with Lane county Behavioral Health', 'case manager with Lane county behavioral health', 'case manager with Lane County Behavioral health', 'Franklin Crandall', 'JJ _ HFG', 'ShirleyEastman', 'ShelterCare staff', 'HFG JJ - and SIster', 'ShelterCare Staff', 'Gail Lewis, Housing Navigator  LCOG', 'Gretchen Stupke STEP', 'Gretchen Stupke, STEP', 'Lindsay Weiss.', 'Case Manager, Sherri Ford-Mackey', 'Wemmy Ayannubi', 'Wemmy Ayannuby', 'Angelica Talamante', 'Theresa Burchell- Lane County Rural Street Outreach', 'Theresa Burchell- Lane County Rural Street Outreac', 'melissa Swick', 'CASE  Manager', 'Amber Garrett Homes for Good Employee', 'Devyn, Daisy CHAIN worker', 'Devyn, Daisy CHAIN', 'Devyn, Daisy CHAIN doula', 'Devyn, doula with Daisy CHAIN', 'Devyn, doula through Daisy CHAIN', 'Trina King DSP workers 541-285-5930', 'Lane County Rural Street Outreach team', 'Brenda', 'crystal rulli 5412465136', 'Shannon Baimbridge - Homes For Good', 'Direct Support Professional,  Massimo Halterman', 'sds housing navigator', 'Duncan@HGF', 'jj hfg', 'Relief nursery', 'homes for good', 'relief nursery', 'Brandi Scheib - Homes for Good RSS', 'Heath Stark / Property Manager Shelter Site', 'Shonna Bowman', 'Heath Stark, Property Manager', 'Heath Stark Property manager', 'Carl Davis', 'Jodi Hecht, Care Manager at G Street Integrated Health.', 'Pamela L Guffey', 'Luci Ramos from White Bird Nest', 'Luci from White Bird', 'Marin Grey, Case Manager', 'Marin Grey, case manager.', 'Mel Rondon', 'Bridgette--an outreach worker with Black Thistle Street Aid', 'Bridgette Butler, outreach worker for Black Thistle street aid.', 'Bridgette Butler, outreach worker for Black thistle Street Aid.', 'Christy Waltz', 'Bridgette Butler, outreach worker for Black Thistle Street Aid', 'Bridgette Butler, outreach worker for Black Thistle Street Aid.', 'Bridgette, outreach worker with Black Thistle Street Aid', 'Monica Braunschweiger', 'Candice King My friend', 'Gretchen Stupke', 'gretchen Stupke', 'Courtney McCloskey- Homes For Good Housing Agency', 'gretchen stupke', 'SDS, Housing Navigator.', 'Vikki  Perpinan', 'gaia- catholic community services', 'gaia catholic community services', 'Courtney McCloskey-Homes for Good Housing Agency- BoB', 'Courtney McCloskey - Resident Services Specialist', 'Vet LIFT Case Manager Dawn Rogers', 'Courtney McCloskey- Resident Services Specialist', 'Don B.', 'My case manager, Carly Rose.', 'Kepler Smith, Housing Specialist with ShelterCare Short Term Housing.', 'Email', 'svdp Case Worker', 'Sarah Koski', 'Courtney McCloskey-Resident Services Specialist', 'svdp Case worker', 'Catrina A', 'Vet LIFT Case manager Dawn Rogers', 'Melrose Mask', 'Elizabethann Andros', 'Anabel Sanchez', 'Jimmya Racimo', 'Guinevere Cornerstone community housing', 'PA Melinda Meyer', 'Melinda Meyer', 'Melinda Meyer, PA', 'VikkiPerpinan', 'Robyn Matsumoto, case worker at HIV Alliance', 'Robyn Matsumoto, case worker', 'Representative on phone', 'Representative', 'Renee Turner (DSP) with Allies LLC', 'Renee Turner DSP with Allies LLC', 'Duncan @ HFg', 'Renee Turner DSP at Allies LLC', 'donb', 'Sheltercare Staff', 'sds, Housing Navigator, Gienia Baines', 'Choice', 'Case worker, Julianne Morreale', 'caseworker, Julianne Morreale', 'Social worker', 'Bridgette', 'Marsha Bezona', 'Relative', 'Ian. McBride  opportunity village supervisor', 'Rick Chilton, Helping Hands of Florence', 'WF Peer Support', 'Dustin Flores', 'Amanda Newman', 'Rebekah Godell', 'amanda newman', 'Resident Service Coordinator - Lani Spring 458-210-8101', 'Waitlist connect staff', 'Spencer McCoy', 'Spouse- Michele Haga', 'Michele Haga- Spouse', 'Case manager Crystal Bruce -541-735-9420', 'spouse michele haga', 'case manager, Peace health', 'Jj and Duncan - HFG', 'Jodi Hecht, Care Manger at G Street Integrated Health.', 'Yes, Jodi Hecht at G Street Integrated Health.', 'Angela Miller', 'daugheter', 'Guinevere Garcia- Cornerstone Community Housing', 'Nicole0110', 'Gail Lewis', 'lizzy cyrus', 'Chad Estrella', 'Resident Services Specialist - Courtney McCloskey', 'Johanna J.', 'Gary Robert    he did fill up yesterday', 'Case Management', 'Case Managment', 'Amy Holovnia, USCRI, 703-244-8785', 'Alec Lively', 'daighter', 'Nicole Lambert, support staff', 'Lori snyder', 'Case worker  & Rep Payee Jennifer Fletcher contact info 541-968-4334 email mycloud71@me.com', 'Case worker & Rep Payee Jennifer Fletcher contact information 541-968-4334 or email mycloud71@me.com', 'Johanna J.  HFG', 'fam', 'Ali Sanchez-HIV Alliance', 'housing services', 'Sheri Kendall', 'Tina ostovar', 'Kepler Smith, Housing Specialist with ShelterCare ShortTerm Housing', 'Kepler Smith, Housing Specialist at ShelterCare Short Term Housing.', 'Dustin Kingsbury', 'Amber - OHOP', 'Brittany Cartwright', 'Brittany Carwright', 'Heath Stark property manager', 'disaster case manager', 'Linet Armstrong ShelterCare 5415130267', 'Amber-OHOP', 'Amber OHOP', 'Ian McBride runs opportunity village at 111N. Garfeild Eugene,97402', 'Jeff Wolfe`', 'Ian McBride opportunity village 111 n. Garfeild eugene', 'Roger Brocksmith - friend', 'James Smith', 'Uncle & Aunt', 'Nancy Colfer', 'April Morales', 'The adviser from the NAACP recommended me to fill out the application on line and gave me a Waitlistcheck booklet and had some different  booklet and there were some suggestions in the booklet.', 'Christine a counselor at  Serenity Lane', 'The NAACP representor at the sight gave me the waitlistcheck booklet and had somethings marked down in the booklet that helped me fill out the applications for the waitlist.', 'My representative payee', 'Lindsay Weis', 'Lindsay', 'lindsay weiss', 'Hilda Estrada', 'din', 'ShelterCare, Yuki Kumashiro, Housing Specialist', 'Case Manager at White Bird Clinic', 'caseworker', 'Ruby Renfro SVDP', 'Case Manager, White Bird Clinic', 'Ruby Renfro', 'David Joseph - White Bird Clinic', 'Richard Graymer from White Bird Clinic NEST outreach program', 'Shannon at Sheltercare Medical Recuperation', 'Richard Graymer White Bird Clinic NEST outreach team.', 'David Joseph - White Bird', 'The woman (Maggie?) I got on the phone when I called Homes for Good for help. She aided me in the beginning of the application.', 'SH DCM', 'David Joseph', 'David Joseph - CM', 'David Joseph - Case Manager', 'Richard Graymer White Bird Clinic NEST program', 'David Joseph - Whit Bird', 'Richard Graymer White Bird Clinic NEST outreach', 'Dustin HFG', 'Cassidy Cockle', 'Richard Graymer White Bird Clinic NEST outreach team', 'DCM Sh', 'Dustin - HFG', 'Samantha Williams, FSU case manager @ ShelterCare', 'Mandy Schommer, therapist.', 'lindsays weiss', 'Kiah Franzoni', 'lindsay weis', 'lindsay', 'joy', 'PSS', 'Amelia Jans, CSWA - therapist', 'Dust HFG', 'Therapist - Amelia Jans', 'Lauren Stapleton - Sponsors Inc Resource Coordinator', 'Melissas Swick', 'Sponsors Inc Resource Coordinator - Lauren Stapleton', 'Lauren Stapleton - Sponsors Inc Resource coordinator', 'Vet LIFT Case manager Dawn rogers', 'Lauren Stapleton - Sponsors inc Resource Coordinator', 'Lauren Stapleton - Sponsors inc Resource coordinator', 'Sponsors', 'Lauren Stapleton - Sponsors inc', 'Lauren Stapleton - Resource Coordinator - Sponsors inc', 'Megan Oneill', 'Housing Coordinator', 'DCM SH', 'Case Managers', 'Meghan Oneill', 'Troy Krusenstjerna', 'sponsors', 'Case manager at Options Counseling', 'Ali Sanchez Case Worker', 'Ali Sanchez- Case worker', 'OHOP Amber', 'Treesa caudell', 'TREESA CAUDELL', 'My advocate', 'Waitlist Connect:  USER markdennis PW BlueRiver1025!!', 'Theresa Burchell', 'Sleeping in my truckerpinan', 'Theresa Burchell- Lane County Rural Street Outreach Worker', 'Anita Allen', 'Homes for Good staff', 'Centro Latino pop up - Beatriz', 'Case  Manager', 'centro latino pop up - Beatriz', 'centro latino pop up - beatriz', 'Selena Gonzalez-Flores', 'Hfg staff', 'hfg staff', 'hfg staff frankie', 'Emily Yates - HFG', 'Aisha McCoy Homes for Good', 'Emily Yates – HFG', 'Aisha McCoy', 'Jeff Koeppel', 'jeff koeppel', 'frankie hfg staff', 'ODHS- OREM', 'Meg Chiappisi Outreach Worker 458-221-3299', 'ODHS OREM', 'My step-child.', 'Annamarie McDonald', 'Bridgette Butler', 'Christi Champ', 'Liz at Homes for Good', 'ODHS OREm', 'My step child.', 'Olivia Goodheart, Case Manager', 'VA Social Worker Trina Gomez trinadad.gomez@va.gov', 'Gloria Estrada @ Home for Good', 'Siria Ochoa, NR, NCM', 'Amber with ohop', 'Gienia Baines sds', 'Catrina a', 'sds Housing Navigator/Gienia Baines', 'oa staff', 'Dustin kingsbury', 'Nicole Lambert, DSP with Oregon Supported Living Program. My caregiver.', \"Megan O'Neill\", 'Megan Oniell', 'Megan', 'Sebastian McBennett (friend)', 'SC Staff', 'Savannah Krieger, Housing Navigator', 'Gina Plantz', 'Mandy Schommer, therapist', 'Patricia Grady', 'Misty Barkhimer', 'Margy Mitchell', \"James Barnum, I'm typing this right now\", 'Rachel Zeller', 'Friend and former neighbor Sarah Owen', 'Teia Brady', 'My ex husband', 'My ex husband and my friend', 'my ex husband and my friend', 'ex husband and friend', 'ex husband and Friend', 'my coworker', 'peran al yacoby', 'crystal rulli 4582393151', 'Jenny Rogers', 'Marco Liberata', 'michele haga spouse', 'Michele Haga spouse', 'Patricia Grady, friend', 'Heather Freitas', 'SDS/Housing Navigator/Gienia Baines', 'Tammie Coltrane from Oregon Supported Living Program', 'Marin Grey, Case manager', 'Navigator', 'case manager Lane County Behavioral Health', 'Laci Pope', 'DSP Tammie Coltrane', 'Johanna HFG', 'Heath Stark Mainstreamhousing', 'Section 8 HCV 2022 Waitlist', 'Amanda Laufer', 'Johanna J>', 'PH 1 bdrm Riverview', 'Disaster Case Manager - Louis Diaz Medina', 'Mel Rondon at White Bird Medical', 'Louis Diaz Medina-Disaster Case Manager', 'Amanda', 'Louis Diaz Medina - Disaster Case Manager', 'Dustin  - HFG', 'Disaster Case Manger - Louis Diaz Medina', 'Caser manager', 'johanna j', 'Laci pope', 'JJ hfg', 'johanna j. hfg', 'johanna j hfg', 'Tammie Coltrane-support staff', 'Amanda Buchanan, Housing Navigator/Case worker with Alliance', 'laci pope', 'Lauryn Rieken - ShelterCare', 'Alli Schwartz, Homes for Good Employee', 'Melissa Hartman w/HFP', 'Alli Schwartz, Homes for Good', 'Kat', 'stAFF', 'Johanna J HFG', 'CASE manager', 'STAFF', 'Dhs', 'johanna j.', 'Ali Sanchez- HIV Alliance', 'Alissa Moosbrugger', 'Laci POpe', 'Cappy/Nat', 'RRC staff sponsors', 'H&HS', 'RRC sponsors staff', 'Dovetail', 'Community Health Worker - Orchid Health Fern Ridge', 'RCC sponsors staff', 'Courtney McCloskey - Resident  Services Specialist', 'Amanda Buchanan, housing navigator/case worker from the Alliance', 'Amanda Buchanan, housing navigator/case worker at the Alliance', 'L. Pope', 'L Pope', 'Amanda Buchanan, housing navigator/case worker for the Alliance', 'OHOP Housing Coordinator', 'l. pope', 'Deborah Leos. I have no knowledge of Computers/Electronics', 'Deborah Leos', 'carol', 'Louis Diaz Medina/Disaster Case Manager', 'Matthew Van Dyke', 'Peer Support Everyone Village', 'Shanta Kanath', 'Kip Burrus', 'Heather Rogers community member', 'Jessica McHenry', 'Savannah and Ian mcbride', 'Michael Myers', 'Tammi Affeld', 'Cousin', 'Jennifer Taylor', 'Amber ohop', 'Mike Myers', 'Tammis affeld', 'Tammy affeld', 'Tami affeld', 'Other adult on application', 'A friend', 'sPONSORS', 'SPONSORS', 'Living in my mini van', 'Dad', 'Tonya White, daugter', 'Gloria from homes for good', 'Susan Pepper-Reed', 'Andrew Ahrens - caseworker', 'Sean Grosse', 'Lorian Stapleton', 'Lisa m Bryant   Sponsors The Way Home Lead Navigator', 'JOhanna J>', 'lauren stapleton', 'Lauren Stapleton', 'Catholic Charities of OR/Louis Diaz Medina', 'DULCIE HARDY', 'amber ohop', 'Matt Salazar at Homes for Good', 'My ex girlfriend, misty barkhimer', 'Matt Salazar at Homes for Good.', 'Misty barkhimer', 'Nancy Forrest, Case Mangager, Dwayne Woods Village', 'Nancy Forrest, Case Manager, Dwayne Woods Village', 'White Bird', 'JOhanna J.', 'Ashley D', 'Friends', 'Jean Kent', 'dpm', 'Whitebird', 'WHite Bird', 'Duncan', 'Samantha Williams, FSU Case manager, ShelterCare', 'ShelterCare case manager Samantha Williams', 'Brandy Teel', 'Patricia Grady, girlfriend', 'Case Manager, Nancy Forrest, Dwayne Woods Village', 'Abby Olivera-Ruiz', 'FSU case manager', 'KAREN MOORE', 'Terry Morton, friend', 'KAREN MOORE MOM', 'cappy', 'Housing Specialist Kat LaFerle', 'Diana Gross', 'Catholic Charities/Louis Diaz Medina', 'Donnie', 'donnie', 'Current Roommate', 'Sharon Anitok 208-794-1994', 'Nancy Forrest, Case Manager, Dwayne Woods Village.', 'Roommate', 'case manager Melinda Meyer', 'My friend', 'Nancy Forrest, Case Manager, Dwyane Woods Village', 'johannaj', 'Melodi Daniel at Catholic Community Services', 'JOhannaj', 'vIKKI pERPINAN', 'Catholic Community Services', 'Dawn Rogers Vet LIFT Case Manager', 'Natasha DeSantis PA', 'my friend Tammie', 'My friend Tammie', 'julie hansen eugene mission administrator', 'friend Tammie', 'Mandy Schommer', 'Friend Tammie', 'julie hansen', 'Deborah L', 'Ashley', 'Howard Mitchell, Case Manager', 'Courtney McCloskey - Resident Services Services', 'Ashely', 'my navigator KAI \\nhe answered my questions for clarification', 'Johanna J', 'Disability advocate', 'case manager melinda meyer', 'Mike & HFG', 'Devon Orr case manager 541-735-1618', 'Mike and HFG', 'kai my navigator', 'case  manager', 'Olivia Goodheart, 541-731-7472', 'Vet LIFT Case manager Dawn Riogers', 'Nancy Forrest, Case Manager, Carry It Forward', 'Johanna. J', 'Case Mnager', 'Nancy Forrest, Case Manager, Carry it Forward', 'Advocate', 'My Niece', 'case manager Melinda', 'JJ.', 'Nancy Forrest, Case manager, Carry It Forward', 'Shannon Cramer', 'Duncan HFG', 'ShelterCare, Housing Specialist, Yuki Kumashiro', 'My niece', 'Deborah l', 'niece', 'Employee Anna C.', 'hfg - beatriz', 'Patricia grady', 'Tami Dalton, PSS', 'Mary Gross', 'Duncan hfg', 'ccc', 'CC', 'cc', 'duncan @ HFG', 'Schaun Cox', 'Melissa Hartman', 'Catholic Charities of Oregon/Louis Diaz Medina', 'teia brady', 'Yuki Kumashiro, ShelterCare', 'Melissa hartman', 'svdp case worker hillary hogan 5412285392', 'Duncan@HFG', 'schaun Cox', 'Nancy Forrest, Case Manager, DWV', 'ShelterCare, Yuki Kumashiro', 'Nancy Forrest, CM, Dwayne Woods Village', 'Sarah Owen Earls/ Friend and long term mentor']\n"
     ]
    }
   ],
   "source": [
    "filtered_list = [item for item in agencies if not any(pattern in item for pattern in patterns + capitalized_patterns)] #re.search(pattern, item, re.IGNORECASE)\n",
    "print(filtered_list)"
   ]
  },
  {
   "cell_type": "code",
   "execution_count": 13,
   "id": "bd5939f2",
   "metadata": {},
   "outputs": [],
   "source": [
    "# how did you hear\n",
    "hh = pd.read_excel(inpath + '\\\\HowDidYouHear.xlsx')"
   ]
  },
  {
   "cell_type": "code",
   "execution_count": 157,
   "id": "1eb1af69",
   "metadata": {},
   "outputs": [
    {
     "data": {
      "text/plain": [
       "Lane County                                     14\n",
       "Homes for Good                                  13\n",
       "State of Oregon                                  5\n",
       "Looking Glass                                    2\n",
       "St. Vincent de Paul                              2\n",
       "                                                ..\n",
       "Cornerstone Community Housing                    1\n",
       "Family/Friends                                   1\n",
       "TV News                                          1\n",
       "Veterans Administration (VA)                     1\n",
       "Springfield Eugene Tenant Association (SETA)     1\n",
       "Name: ValueToConvertTo, Length: 95, dtype: int64"
      ]
     },
     "execution_count": 157,
     "metadata": {},
     "output_type": "execute_result"
    }
   ],
   "source": [
    "hh.ValueToConvertTo.value_counts()"
   ]
  }
 ],
 "metadata": {
  "kernelspec": {
   "display_name": "Python 3",
   "language": "python",
   "name": "python3"
  },
  "language_info": {
   "codemirror_mode": {
    "name": "ipython",
    "version": 3
   },
   "file_extension": ".py",
   "mimetype": "text/x-python",
   "name": "python",
   "nbconvert_exporter": "python",
   "pygments_lexer": "ipython3",
   "version": "3.8.8"
  }
 },
 "nbformat": 4,
 "nbformat_minor": 5
}
