{
 "cells": [
  {
   "cell_type": "code",
   "execution_count": 1,
   "id": "0f4e1d66",
   "metadata": {},
   "outputs": [],
   "source": [
    "import requests\n",
    "from sqlalchemy import create_engine\n",
    "import pandas as pd\n",
    "import geopandas as gpd\n",
    "import os"
   ]
  },
  {
   "cell_type": "code",
   "execution_count": 2,
   "id": "3b2c8310",
   "metadata": {},
   "outputs": [],
   "source": [
    "def get_ip():\n",
    "    response = requests.get('https://api64.ipify.org?format=json').json()\n",
    "    return response[\"ip\"]\n",
    "\n",
    "\n",
    "def get_location():\n",
    "    ip_address = get_ip()\n",
    "    response = requests.get(f'https://ipapi.co/{ip_address}/json/').json()\n",
    "    location_data = {\n",
    "        \"ip\": ip_address,\n",
    "        \"city\": response.get(\"city\"),\n",
    "        \"region\": response.get(\"region\"),\n",
    "        \"country\": response.get(\"country_name\")\n",
    "    }\n",
    "    return location_data"
   ]
  },
  {
   "cell_type": "code",
   "execution_count": 3,
   "id": "0c22d564",
   "metadata": {},
   "outputs": [
    {
     "name": "stdout",
     "output_type": "stream",
     "text": [
      "{'ip': '208.85.234.131', 'city': 'Springfield', 'region': 'Oregon', 'country': 'United States'}\n"
     ]
    }
   ],
   "source": [
    "print(get_location())"
   ]
  },
  {
   "cell_type": "code",
   "execution_count": 21,
   "id": "90258ace",
   "metadata": {},
   "outputs": [],
   "source": [
    "def get_zip(x):\n",
    "    response = requests.get(f'https://ipapi.co/{x}/json/').json()\n",
    "    res = response.get('postal')\n",
    "    if type(res) is str:\n",
    "        return int(res)\n",
    "    else:\n",
    "        return None"
   ]
  },
  {
   "cell_type": "code",
   "execution_count": 4,
   "id": "5c5bda23",
   "metadata": {},
   "outputs": [],
   "source": [
    "ip_address = get_ip()"
   ]
  },
  {
   "cell_type": "code",
   "execution_count": 18,
   "id": "f666c835",
   "metadata": {},
   "outputs": [],
   "source": [
    "ip_address = '73.240.110.67'"
   ]
  },
  {
   "cell_type": "code",
   "execution_count": 19,
   "id": "e3fe67fe",
   "metadata": {},
   "outputs": [],
   "source": [
    "response = requests.get(f'https://ipapi.co/{ip_address}/json/').json()"
   ]
  },
  {
   "cell_type": "code",
   "execution_count": 44,
   "id": "8dffa2cf",
   "metadata": {},
   "outputs": [
    {
     "data": {
      "text/plain": [
       "True"
      ]
     },
     "execution_count": 44,
     "metadata": {},
     "output_type": "execute_result"
    }
   ],
   "source": [
    "type(response.get('postal')) is str"
   ]
  },
  {
   "cell_type": "code",
   "execution_count": 2,
   "id": "5271d438",
   "metadata": {},
   "outputs": [],
   "source": [
    "path = r'T:\\DCProjects\\Support\\Lane'"
   ]
  },
  {
   "cell_type": "code",
   "execution_count": 3,
   "id": "f5cdbbcd",
   "metadata": {},
   "outputs": [],
   "source": [
    "dat = pd.read_csv(os.path.join(path, 'TransitPlanningforRuralLaneCounty.csv'))"
   ]
  },
  {
   "cell_type": "code",
   "execution_count": 4,
   "id": "992fbecc",
   "metadata": {},
   "outputs": [
    {
     "data": {
      "text/plain": [
       "Index(['RespondentID', 'CollectorID', 'StartDate', 'EndDate', 'IPAddress',\n",
       "       'ZipCode', 'Area'],\n",
       "      dtype='object')"
      ]
     },
     "execution_count": 4,
     "metadata": {},
     "output_type": "execute_result"
    }
   ],
   "source": [
    "dat.columns"
   ]
  },
  {
   "cell_type": "code",
   "execution_count": 78,
   "id": "6223f0e0",
   "metadata": {},
   "outputs": [],
   "source": [
    "dat.loc[:, 'ZipRev'] = dat.copy()['IPAddress'].apply(lambda x: get_zip(x))"
   ]
  },
  {
   "cell_type": "code",
   "execution_count": 32,
   "id": "bee531cb",
   "metadata": {},
   "outputs": [],
   "source": [
    "def revZipCode(x, y):\n",
    "    if x == y:\n",
    "        res = 0\n",
    "    else:\n",
    "        res = 1\n",
    "    return res"
   ]
  },
  {
   "cell_type": "code",
   "execution_count": 34,
   "id": "9895d452",
   "metadata": {},
   "outputs": [
    {
     "data": {
      "text/plain": [
       "Index(['RespondentID', 'CollectorID', 'StartDate', 'EndDate', 'IPAddress',\n",
       "       'ZipCode', 'Area', 'ZipRev'],\n",
       "      dtype='object')"
      ]
     },
     "execution_count": 34,
     "metadata": {},
     "output_type": "execute_result"
    }
   ],
   "source": [
    "dat.columns"
   ]
  },
  {
   "cell_type": "code",
   "execution_count": 48,
   "id": "1c8840d1",
   "metadata": {},
   "outputs": [],
   "source": [
    "dat.loc[:, 'Diff'] = dat.copy()[['ZipCode', 'ZipRev']].apply(lambda row: revZipCode(row.ZipCode, row.ZipRev), axis=1)"
   ]
  },
  {
   "cell_type": "code",
   "execution_count": 38,
   "id": "ff8c50ca",
   "metadata": {},
   "outputs": [
    {
     "data": {
      "text/plain": [
       "(194, 9)"
      ]
     },
     "execution_count": 38,
     "metadata": {},
     "output_type": "execute_result"
    }
   ],
   "source": [
    "dat.shape"
   ]
  },
  {
   "cell_type": "code",
   "execution_count": 4,
   "id": "ec2ad0a3",
   "metadata": {},
   "outputs": [],
   "source": [
    "excluded = [114239498080, 114240368347, 114240387977, 114241348088]"
   ]
  },
  {
   "cell_type": "code",
   "execution_count": 19,
   "id": "8af704f6",
   "metadata": {},
   "outputs": [],
   "source": [
    "excludedIP = ['208.85.234.131', '71.94.234.141', '73.15.153.115', '73.240.110.67']"
   ]
  },
  {
   "cell_type": "code",
   "execution_count": 22,
   "id": "0ee68686",
   "metadata": {},
   "outputs": [
    {
     "data": {
      "text/plain": [
       "[97477, 97440, 94501, 97401]"
      ]
     },
     "execution_count": 22,
     "metadata": {},
     "output_type": "execute_result"
    }
   ],
   "source": [
    "list(map(lambda x: get_zip(x), excludedIP))"
   ]
  },
  {
   "cell_type": "code",
   "execution_count": 5,
   "id": "23235857",
   "metadata": {},
   "outputs": [
    {
     "data": {
      "text/plain": [
       "False"
      ]
     },
     "execution_count": 5,
     "metadata": {},
     "output_type": "execute_result"
    }
   ],
   "source": [
    "114239498080 in dat.RespondentID.unique()"
   ]
  },
  {
   "cell_type": "code",
   "execution_count": 18,
   "id": "5e914542",
   "metadata": {},
   "outputs": [
    {
     "data": {
      "text/plain": [
       "[]"
      ]
     },
     "execution_count": 18,
     "metadata": {},
     "output_type": "execute_result"
    }
   ],
   "source": [
    "[rid for rid in excluded if rid in dat.RespondentID.unique()] "
   ]
  },
  {
   "cell_type": "code",
   "execution_count": 6,
   "id": "5da23fbb",
   "metadata": {},
   "outputs": [],
   "source": [
    "df = dat[['RespondentID', 'ZipCode']].groupby(['ZipCode']).agg('count').reset_index()"
   ]
  },
  {
   "cell_type": "code",
   "execution_count": 7,
   "id": "c77a0705",
   "metadata": {},
   "outputs": [],
   "source": [
    "df['ZipCode'] = df['ZipCode'].apply(str)"
   ]
  },
  {
   "cell_type": "code",
   "execution_count": 8,
   "id": "7d8f5241",
   "metadata": {},
   "outputs": [],
   "source": [
    "engine = create_engine(   \n",
    "\"mssql+pyodbc:///?odbc_connect=\"\n",
    "\"Driver%3D%7BODBC+Driver+17+for+SQL+Server%7D%3B\"\n",
    "\"Server%3Drliddb.int.lcog.org%2C5433%3B\"\n",
    "\"Database%3DRLIDGeo%3B\"\n",
    "\"Trusted_Connection%3Dyes%3B\"\n",
    "\"ApplicationIntent%3DReadWrite%3B\"\n",
    "\"WSID%3Dclwrk4087.int.lcog.org%3B\")\n",
    "\n",
    "zip_sql = '''\n",
    "SELECT \n",
    "zipcode AS ZipCode,\n",
    "mailcity AS City,\n",
    "Shape.STAsBinary() AS geometry\n",
    "FROM dbo.ZIPCode;\n",
    "'''"
   ]
  },
  {
   "cell_type": "code",
   "execution_count": 9,
   "id": "8946d7ad",
   "metadata": {},
   "outputs": [],
   "source": [
    "def readZipCode():\n",
    "    ZipCode = gpd.GeoDataFrame.from_postgis(zip_sql, engine, geom_col='geometry')\n",
    "    ZipCode.crs = \"EPSG:2914\"\n",
    "    return ZipCode"
   ]
  },
  {
   "cell_type": "code",
   "execution_count": 10,
   "id": "c607b2e6",
   "metadata": {},
   "outputs": [],
   "source": [
    "zip_shp = readZipCode()"
   ]
  },
  {
   "cell_type": "code",
   "execution_count": 11,
   "id": "64477a96",
   "metadata": {},
   "outputs": [],
   "source": [
    "data = zip_shp.merge(df, on='ZipCode', how='left')"
   ]
  },
  {
   "cell_type": "code",
   "execution_count": 12,
   "id": "43d7deab",
   "metadata": {},
   "outputs": [],
   "source": [
    "data.rename(columns={\"RespondentID\": \"IDcount\"}, inplace=True)"
   ]
  },
  {
   "cell_type": "code",
   "execution_count": 13,
   "id": "65d0deb7",
   "metadata": {},
   "outputs": [],
   "source": [
    "data.loc[data.IDcount.isnull(), 'IDcount'] = 0"
   ]
  },
  {
   "cell_type": "code",
   "execution_count": 14,
   "id": "72e5e67f",
   "metadata": {},
   "outputs": [],
   "source": [
    "data.to_file(os.path.join(path, 'Survey_Count.shp'))"
   ]
  },
  {
   "cell_type": "code",
   "execution_count": 15,
   "id": "6e7e2c45",
   "metadata": {},
   "outputs": [
    {
     "data": {
      "text/plain": [
       "['97467']"
      ]
     },
     "execution_count": 15,
     "metadata": {},
     "output_type": "execute_result"
    }
   ],
   "source": [
    "[zipc for zipc in df.ZipCode.unique() if zipc not in zip_shp.ZipCode.unique()]"
   ]
  },
  {
   "cell_type": "code",
   "execution_count": 17,
   "id": "73f781bd",
   "metadata": {},
   "outputs": [
    {
     "data": {
      "text/plain": [
       "['97324',\n",
       " '97390',\n",
       " '97431',\n",
       " '97434',\n",
       " '97446',\n",
       " '97451',\n",
       " '97452',\n",
       " '97454',\n",
       " '97455',\n",
       " '97456',\n",
       " '97461',\n",
       " '97480',\n",
       " '97492',\n",
       " '97493',\n",
       " '97438']"
      ]
     },
     "execution_count": 17,
     "metadata": {},
     "output_type": "execute_result"
    }
   ],
   "source": [
    "[zipc for zipc in zip_shp.ZipCode.unique() if zipc not in df.ZipCode.unique()]"
   ]
  },
  {
   "cell_type": "code",
   "execution_count": 24,
   "id": "67789008",
   "metadata": {},
   "outputs": [
    {
     "data": {
      "text/plain": [
       "['97440', '94501']"
      ]
     },
     "execution_count": 24,
     "metadata": {},
     "output_type": "execute_result"
    }
   ],
   "source": [
    "[zipc for zipc in ['97477', '97440', '94501', '97401'] if zipc not in zip_shp.ZipCode.unique()]"
   ]
  },
  {
   "cell_type": "code",
   "execution_count": 18,
   "id": "a244c011",
   "metadata": {},
   "outputs": [
    {
     "data": {
      "text/html": [
       "<div>\n",
       "<style scoped>\n",
       "    .dataframe tbody tr th:only-of-type {\n",
       "        vertical-align: middle;\n",
       "    }\n",
       "\n",
       "    .dataframe tbody tr th {\n",
       "        vertical-align: top;\n",
       "    }\n",
       "\n",
       "    .dataframe thead th {\n",
       "        text-align: right;\n",
       "    }\n",
       "</style>\n",
       "<table border=\"1\" class=\"dataframe\">\n",
       "  <thead>\n",
       "    <tr style=\"text-align: right;\">\n",
       "      <th></th>\n",
       "      <th>ZipCode</th>\n",
       "      <th>City</th>\n",
       "      <th>geometry</th>\n",
       "      <th>IDcount</th>\n",
       "    </tr>\n",
       "  </thead>\n",
       "  <tbody>\n",
       "    <tr>\n",
       "      <th>0</th>\n",
       "      <td>97324</td>\n",
       "      <td>Alsea</td>\n",
       "      <td>POLYGON ((4080351.085 968607.066, 4079414.210 ...</td>\n",
       "      <td>0.0</td>\n",
       "    </tr>\n",
       "    <tr>\n",
       "      <th>1</th>\n",
       "      <td>97390</td>\n",
       "      <td>Tidewater</td>\n",
       "      <td>POLYGON ((4034530.460 971416.316, 4034424.585 ...</td>\n",
       "      <td>0.0</td>\n",
       "    </tr>\n",
       "    <tr>\n",
       "      <th>2</th>\n",
       "      <td>97401</td>\n",
       "      <td>Eugene</td>\n",
       "      <td>POLYGON ((4250897.121 879922.502, 4250954.413 ...</td>\n",
       "      <td>15.0</td>\n",
       "    </tr>\n",
       "    <tr>\n",
       "      <th>3</th>\n",
       "      <td>97402</td>\n",
       "      <td>Eugene</td>\n",
       "      <td>POLYGON ((4215595.835 913587.191, 4210310.585 ...</td>\n",
       "      <td>11.0</td>\n",
       "    </tr>\n",
       "    <tr>\n",
       "      <th>4</th>\n",
       "      <td>97403</td>\n",
       "      <td>Eugene</td>\n",
       "      <td>POLYGON ((4243940.960 878874.691, 4243643.210 ...</td>\n",
       "      <td>2.0</td>\n",
       "    </tr>\n",
       "    <tr>\n",
       "      <th>5</th>\n",
       "      <td>97404</td>\n",
       "      <td>Eugene</td>\n",
       "      <td>POLYGON ((4232869.585 911578.566, 4232818.335 ...</td>\n",
       "      <td>5.0</td>\n",
       "    </tr>\n",
       "    <tr>\n",
       "      <th>6</th>\n",
       "      <td>97405</td>\n",
       "      <td>Eugene</td>\n",
       "      <td>POLYGON ((4225032.634 876260.298, 4222884.056 ...</td>\n",
       "      <td>11.0</td>\n",
       "    </tr>\n",
       "    <tr>\n",
       "      <th>7</th>\n",
       "      <td>97412</td>\n",
       "      <td>Blachly</td>\n",
       "      <td>POLYGON ((4108370.585 904688.128, 4117618.460 ...</td>\n",
       "      <td>1.0</td>\n",
       "    </tr>\n",
       "    <tr>\n",
       "      <th>8</th>\n",
       "      <td>97419</td>\n",
       "      <td>Cheshire</td>\n",
       "      <td>POLYGON ((4146113.585 943843.316, 4143751.960 ...</td>\n",
       "      <td>1.0</td>\n",
       "    </tr>\n",
       "    <tr>\n",
       "      <th>9</th>\n",
       "      <td>97424</td>\n",
       "      <td>Cottage Grove</td>\n",
       "      <td>POLYGON ((4228670.585 808120.816, 4224575.835 ...</td>\n",
       "      <td>4.0</td>\n",
       "    </tr>\n",
       "    <tr>\n",
       "      <th>10</th>\n",
       "      <td>97426</td>\n",
       "      <td>Creswell</td>\n",
       "      <td>POLYGON ((4258595.482 812981.373, 4259026.908 ...</td>\n",
       "      <td>2.0</td>\n",
       "    </tr>\n",
       "    <tr>\n",
       "      <th>11</th>\n",
       "      <td>97430</td>\n",
       "      <td>Deadwood</td>\n",
       "      <td>POLYGON ((4096181.710 908949.816, 4096181.710 ...</td>\n",
       "      <td>1.0</td>\n",
       "    </tr>\n",
       "    <tr>\n",
       "      <th>12</th>\n",
       "      <td>97431</td>\n",
       "      <td>Dexter</td>\n",
       "      <td>POLYGON ((4331167.460 801166.066, 4322235.335 ...</td>\n",
       "      <td>0.0</td>\n",
       "    </tr>\n",
       "    <tr>\n",
       "      <th>13</th>\n",
       "      <td>97434</td>\n",
       "      <td>Dorena</td>\n",
       "      <td>POLYGON ((4310285.809 782549.846, 4309920.835 ...</td>\n",
       "      <td>0.0</td>\n",
       "    </tr>\n",
       "    <tr>\n",
       "      <th>14</th>\n",
       "      <td>97437</td>\n",
       "      <td>Elmira</td>\n",
       "      <td>POLYGON ((4165662.211 911303.608, 4165953.877 ...</td>\n",
       "      <td>3.0</td>\n",
       "    </tr>\n",
       "    <tr>\n",
       "      <th>15</th>\n",
       "      <td>97439</td>\n",
       "      <td>Florence</td>\n",
       "      <td>POLYGON ((3972998.380 938841.193, 3972927.102 ...</td>\n",
       "      <td>49.0</td>\n",
       "    </tr>\n",
       "    <tr>\n",
       "      <th>16</th>\n",
       "      <td>97446</td>\n",
       "      <td>Harrisburg</td>\n",
       "      <td>MULTIPOLYGON (((4220661.960 960471.316, 422064...</td>\n",
       "      <td>0.0</td>\n",
       "    </tr>\n",
       "    <tr>\n",
       "      <th>17</th>\n",
       "      <td>97448</td>\n",
       "      <td>Junction City</td>\n",
       "      <td>POLYGON ((4177380.082 966426.033, 4174657.300 ...</td>\n",
       "      <td>3.0</td>\n",
       "    </tr>\n",
       "    <tr>\n",
       "      <th>18</th>\n",
       "      <td>97451</td>\n",
       "      <td>Lorane</td>\n",
       "      <td>POLYGON ((4197963.835 802849.753, 4197663.835 ...</td>\n",
       "      <td>0.0</td>\n",
       "    </tr>\n",
       "    <tr>\n",
       "      <th>19</th>\n",
       "      <td>97452</td>\n",
       "      <td>Lowell</td>\n",
       "      <td>POLYGON ((4379406.144 795209.047, 4378996.756 ...</td>\n",
       "      <td>0.0</td>\n",
       "    </tr>\n",
       "    <tr>\n",
       "      <th>20</th>\n",
       "      <td>97453</td>\n",
       "      <td>Mapleton</td>\n",
       "      <td>POLYGON ((4055702.960 879386.753, 4050245.210 ...</td>\n",
       "      <td>4.0</td>\n",
       "    </tr>\n",
       "    <tr>\n",
       "      <th>21</th>\n",
       "      <td>97454</td>\n",
       "      <td>Marcola</td>\n",
       "      <td>POLYGON ((4331638.835 962431.316, 4331563.210 ...</td>\n",
       "      <td>0.0</td>\n",
       "    </tr>\n",
       "    <tr>\n",
       "      <th>22</th>\n",
       "      <td>97455</td>\n",
       "      <td>Pleasant Hill</td>\n",
       "      <td>POLYGON ((4280616.210 866382.691, 4280291.835 ...</td>\n",
       "      <td>0.0</td>\n",
       "    </tr>\n",
       "    <tr>\n",
       "      <th>23</th>\n",
       "      <td>97456</td>\n",
       "      <td>Monroe</td>\n",
       "      <td>POLYGON ((4190563.016 965977.753, 4189289.083 ...</td>\n",
       "      <td>0.0</td>\n",
       "    </tr>\n",
       "    <tr>\n",
       "      <th>24</th>\n",
       "      <td>97461</td>\n",
       "      <td>Noti</td>\n",
       "      <td>POLYGON ((4152715.710 916149.878, 4140199.335 ...</td>\n",
       "      <td>0.0</td>\n",
       "    </tr>\n",
       "    <tr>\n",
       "      <th>25</th>\n",
       "      <td>97463</td>\n",
       "      <td>Oakridge</td>\n",
       "      <td>POLYGON ((4453078.439 850806.476, 4451501.500 ...</td>\n",
       "      <td>47.0</td>\n",
       "    </tr>\n",
       "    <tr>\n",
       "      <th>26</th>\n",
       "      <td>97477</td>\n",
       "      <td>Springfield</td>\n",
       "      <td>POLYGON ((4258335.460 887630.628, 4257522.210 ...</td>\n",
       "      <td>4.0</td>\n",
       "    </tr>\n",
       "    <tr>\n",
       "      <th>27</th>\n",
       "      <td>97478</td>\n",
       "      <td>Springfield</td>\n",
       "      <td>POLYGON ((4362783.031 878615.774, 4363222.835 ...</td>\n",
       "      <td>8.0</td>\n",
       "    </tr>\n",
       "    <tr>\n",
       "      <th>28</th>\n",
       "      <td>97480</td>\n",
       "      <td>Swisshome</td>\n",
       "      <td>POLYGON ((4054793.335 932372.878, 4058204.460 ...</td>\n",
       "      <td>0.0</td>\n",
       "    </tr>\n",
       "    <tr>\n",
       "      <th>29</th>\n",
       "      <td>97487</td>\n",
       "      <td>Veneta</td>\n",
       "      <td>POLYGON ((4188564.210 886215.566, 4188995.960 ...</td>\n",
       "      <td>3.0</td>\n",
       "    </tr>\n",
       "    <tr>\n",
       "      <th>30</th>\n",
       "      <td>97488</td>\n",
       "      <td>Vida</td>\n",
       "      <td>POLYGON ((4393319.710 941057.753, 4393137.085 ...</td>\n",
       "      <td>3.0</td>\n",
       "    </tr>\n",
       "    <tr>\n",
       "      <th>31</th>\n",
       "      <td>97490</td>\n",
       "      <td>Walton</td>\n",
       "      <td>POLYGON ((4117618.460 906278.191, 4108370.585 ...</td>\n",
       "      <td>1.0</td>\n",
       "    </tr>\n",
       "    <tr>\n",
       "      <th>32</th>\n",
       "      <td>97492</td>\n",
       "      <td>Westfir</td>\n",
       "      <td>POLYGON ((4403521.271 774264.604, 4396228.500 ...</td>\n",
       "      <td>0.0</td>\n",
       "    </tr>\n",
       "    <tr>\n",
       "      <th>33</th>\n",
       "      <td>97493</td>\n",
       "      <td>Westlake</td>\n",
       "      <td>POLYGON ((3961866.036 821532.957, 3961922.625 ...</td>\n",
       "      <td>0.0</td>\n",
       "    </tr>\n",
       "    <tr>\n",
       "      <th>34</th>\n",
       "      <td>97498</td>\n",
       "      <td>Yachats</td>\n",
       "      <td>POLYGON ((4024775.460 935101.816, 4023183.585 ...</td>\n",
       "      <td>2.0</td>\n",
       "    </tr>\n",
       "    <tr>\n",
       "      <th>35</th>\n",
       "      <td>97408</td>\n",
       "      <td>Eugene</td>\n",
       "      <td>POLYGON ((4252887.078 896270.986, 4252917.170 ...</td>\n",
       "      <td>2.0</td>\n",
       "    </tr>\n",
       "    <tr>\n",
       "      <th>36</th>\n",
       "      <td>97413</td>\n",
       "      <td>Blue River</td>\n",
       "      <td>POLYGON ((4527943.210 947939.941, 4526723.710 ...</td>\n",
       "      <td>5.0</td>\n",
       "    </tr>\n",
       "    <tr>\n",
       "      <th>37</th>\n",
       "      <td>97438</td>\n",
       "      <td>Fall Creek</td>\n",
       "      <td>POLYGON ((4377602.138 886801.440, 4374216.021 ...</td>\n",
       "      <td>0.0</td>\n",
       "    </tr>\n",
       "    <tr>\n",
       "      <th>38</th>\n",
       "      <td>97489</td>\n",
       "      <td>Leaburg</td>\n",
       "      <td>POLYGON ((4385940.069 883974.364, 4385785.835 ...</td>\n",
       "      <td>1.0</td>\n",
       "    </tr>\n",
       "  </tbody>\n",
       "</table>\n",
       "</div>"
      ],
      "text/plain": [
       "   ZipCode           City                                           geometry  \\\n",
       "0    97324          Alsea  POLYGON ((4080351.085 968607.066, 4079414.210 ...   \n",
       "1    97390      Tidewater  POLYGON ((4034530.460 971416.316, 4034424.585 ...   \n",
       "2    97401         Eugene  POLYGON ((4250897.121 879922.502, 4250954.413 ...   \n",
       "3    97402         Eugene  POLYGON ((4215595.835 913587.191, 4210310.585 ...   \n",
       "4    97403         Eugene  POLYGON ((4243940.960 878874.691, 4243643.210 ...   \n",
       "5    97404         Eugene  POLYGON ((4232869.585 911578.566, 4232818.335 ...   \n",
       "6    97405         Eugene  POLYGON ((4225032.634 876260.298, 4222884.056 ...   \n",
       "7    97412        Blachly  POLYGON ((4108370.585 904688.128, 4117618.460 ...   \n",
       "8    97419       Cheshire  POLYGON ((4146113.585 943843.316, 4143751.960 ...   \n",
       "9    97424  Cottage Grove  POLYGON ((4228670.585 808120.816, 4224575.835 ...   \n",
       "10   97426       Creswell  POLYGON ((4258595.482 812981.373, 4259026.908 ...   \n",
       "11   97430       Deadwood  POLYGON ((4096181.710 908949.816, 4096181.710 ...   \n",
       "12   97431         Dexter  POLYGON ((4331167.460 801166.066, 4322235.335 ...   \n",
       "13   97434         Dorena  POLYGON ((4310285.809 782549.846, 4309920.835 ...   \n",
       "14   97437         Elmira  POLYGON ((4165662.211 911303.608, 4165953.877 ...   \n",
       "15   97439       Florence  POLYGON ((3972998.380 938841.193, 3972927.102 ...   \n",
       "16   97446     Harrisburg  MULTIPOLYGON (((4220661.960 960471.316, 422064...   \n",
       "17   97448  Junction City  POLYGON ((4177380.082 966426.033, 4174657.300 ...   \n",
       "18   97451         Lorane  POLYGON ((4197963.835 802849.753, 4197663.835 ...   \n",
       "19   97452         Lowell  POLYGON ((4379406.144 795209.047, 4378996.756 ...   \n",
       "20   97453       Mapleton  POLYGON ((4055702.960 879386.753, 4050245.210 ...   \n",
       "21   97454        Marcola  POLYGON ((4331638.835 962431.316, 4331563.210 ...   \n",
       "22   97455  Pleasant Hill  POLYGON ((4280616.210 866382.691, 4280291.835 ...   \n",
       "23   97456         Monroe  POLYGON ((4190563.016 965977.753, 4189289.083 ...   \n",
       "24   97461           Noti  POLYGON ((4152715.710 916149.878, 4140199.335 ...   \n",
       "25   97463       Oakridge  POLYGON ((4453078.439 850806.476, 4451501.500 ...   \n",
       "26   97477    Springfield  POLYGON ((4258335.460 887630.628, 4257522.210 ...   \n",
       "27   97478    Springfield  POLYGON ((4362783.031 878615.774, 4363222.835 ...   \n",
       "28   97480      Swisshome  POLYGON ((4054793.335 932372.878, 4058204.460 ...   \n",
       "29   97487         Veneta  POLYGON ((4188564.210 886215.566, 4188995.960 ...   \n",
       "30   97488           Vida  POLYGON ((4393319.710 941057.753, 4393137.085 ...   \n",
       "31   97490         Walton  POLYGON ((4117618.460 906278.191, 4108370.585 ...   \n",
       "32   97492        Westfir  POLYGON ((4403521.271 774264.604, 4396228.500 ...   \n",
       "33   97493       Westlake  POLYGON ((3961866.036 821532.957, 3961922.625 ...   \n",
       "34   97498        Yachats  POLYGON ((4024775.460 935101.816, 4023183.585 ...   \n",
       "35   97408         Eugene  POLYGON ((4252887.078 896270.986, 4252917.170 ...   \n",
       "36   97413     Blue River  POLYGON ((4527943.210 947939.941, 4526723.710 ...   \n",
       "37   97438     Fall Creek  POLYGON ((4377602.138 886801.440, 4374216.021 ...   \n",
       "38   97489        Leaburg  POLYGON ((4385940.069 883974.364, 4385785.835 ...   \n",
       "\n",
       "    IDcount  \n",
       "0       0.0  \n",
       "1       0.0  \n",
       "2      15.0  \n",
       "3      11.0  \n",
       "4       2.0  \n",
       "5       5.0  \n",
       "6      11.0  \n",
       "7       1.0  \n",
       "8       1.0  \n",
       "9       4.0  \n",
       "10      2.0  \n",
       "11      1.0  \n",
       "12      0.0  \n",
       "13      0.0  \n",
       "14      3.0  \n",
       "15     49.0  \n",
       "16      0.0  \n",
       "17      3.0  \n",
       "18      0.0  \n",
       "19      0.0  \n",
       "20      4.0  \n",
       "21      0.0  \n",
       "22      0.0  \n",
       "23      0.0  \n",
       "24      0.0  \n",
       "25     47.0  \n",
       "26      4.0  \n",
       "27      8.0  \n",
       "28      0.0  \n",
       "29      3.0  \n",
       "30      3.0  \n",
       "31      1.0  \n",
       "32      0.0  \n",
       "33      0.0  \n",
       "34      2.0  \n",
       "35      2.0  \n",
       "36      5.0  \n",
       "37      0.0  \n",
       "38      1.0  "
      ]
     },
     "execution_count": 18,
     "metadata": {},
     "output_type": "execute_result"
    }
   ],
   "source": [
    "data"
   ]
  }
 ],
 "metadata": {
  "kernelspec": {
   "display_name": "Python 3",
   "language": "python",
   "name": "python3"
  },
  "language_info": {
   "codemirror_mode": {
    "name": "ipython",
    "version": 3
   },
   "file_extension": ".py",
   "mimetype": "text/x-python",
   "name": "python",
   "nbconvert_exporter": "python",
   "pygments_lexer": "ipython3",
   "version": "3.8.8"
  }
 },
 "nbformat": 4,
 "nbformat_minor": 5
}
