{
 "cells": [
  {
   "cell_type": "code",
   "execution_count": 1,
   "id": "d044d611",
   "metadata": {},
   "outputs": [],
   "source": [
    "%load_ext autoreload\n",
    "%autoreload 2"
   ]
  },
  {
   "cell_type": "code",
   "execution_count": 2,
   "id": "371533ee",
   "metadata": {},
   "outputs": [],
   "source": [
    "from hfgtools import *"
   ]
  },
  {
   "cell_type": "code",
   "execution_count": 22,
   "id": "e588e72c",
   "metadata": {},
   "outputs": [],
   "source": [
    "mpo = gpd.read_file(r'T:\\Tableau\\tableauTitleVI\\Datasources\\MPO_BG_TitleVI.shp')"
   ]
  },
  {
   "cell_type": "code",
   "execution_count": 6,
   "id": "f5e04cde",
   "metadata": {},
   "outputs": [],
   "source": [
    "am_gdf = gpd.read_file(path+'\\\\output\\\\application_members.shp')"
   ]
  },
  {
   "cell_type": "code",
   "execution_count": 7,
   "id": "c642c4d1",
   "metadata": {},
   "outputs": [],
   "source": [
    "amu_gdf = am_gdf.drop_duplicates(subset=['ID'])"
   ]
  },
  {
   "cell_type": "code",
   "execution_count": 8,
   "id": "9a705c6c",
   "metadata": {},
   "outputs": [
    {
     "data": {
      "text/plain": [
       "Index(['KeyMember', 'KeyID', 'NameLast', 'NameMiddle', 'NameFirst', 'SSN',\n",
       "       'DOB', 'Sex', 'Disabled', 'Relatship', 'Citizship', 'Race', 'Ethnicity',\n",
       "       'Age', 'ID', 'RaceNotes', 'MultiRace', 'White', 'African', 'IndianAlsk',\n",
       "       'Asian', 'HawaiianOr', 'RaceOther', 'Race2', 'CitizNotes', 'EthniNotes',\n",
       "       'AgeNotes', 'DisaNotes', 'Language', 'HHSize', 'IncAnnual', 'MailAdr1',\n",
       "       'MailAdr2', 'MailCity', 'MailState', 'MailZIP', 'MailZIP4', 'LegalAdr1',\n",
       "       'LegalAdr2', 'LegalCity', 'LegalState', 'LegalZIP', 'LegalZIP4',\n",
       "       'Address', 'geometry'],\n",
       "      dtype='object')"
      ]
     },
     "execution_count": 8,
     "metadata": {},
     "output_type": "execute_result"
    }
   ],
   "source": [
    "amu_gdf.columns"
   ]
  },
  {
   "cell_type": "code",
   "execution_count": 9,
   "id": "468804dc",
   "metadata": {},
   "outputs": [
    {
     "data": {
      "text/html": [
       "<div>\n",
       "<style scoped>\n",
       "    .dataframe tbody tr th:only-of-type {\n",
       "        vertical-align: middle;\n",
       "    }\n",
       "\n",
       "    .dataframe tbody tr th {\n",
       "        vertical-align: top;\n",
       "    }\n",
       "\n",
       "    .dataframe thead th {\n",
       "        text-align: right;\n",
       "    }\n",
       "</style>\n",
       "<table border=\"1\" class=\"dataframe\">\n",
       "  <thead>\n",
       "    <tr style=\"text-align: right;\">\n",
       "      <th></th>\n",
       "      <th>Citizship</th>\n",
       "      <th>Counts</th>\n",
       "    </tr>\n",
       "  </thead>\n",
       "  <tbody>\n",
       "    <tr>\n",
       "      <th>0</th>\n",
       "      <td>Eligible Citizen</td>\n",
       "      <td>11019</td>\n",
       "    </tr>\n",
       "    <tr>\n",
       "      <th>1</th>\n",
       "      <td>Eligible Non-Citizen</td>\n",
       "      <td>222</td>\n",
       "    </tr>\n",
       "    <tr>\n",
       "      <th>2</th>\n",
       "      <td>Ineligible Noncitizen</td>\n",
       "      <td>57</td>\n",
       "    </tr>\n",
       "    <tr>\n",
       "      <th>3</th>\n",
       "      <td>Pending Verification</td>\n",
       "      <td>31</td>\n",
       "    </tr>\n",
       "    <tr>\n",
       "      <th>4</th>\n",
       "      <td>Ineligible Child of head of household</td>\n",
       "      <td>3</td>\n",
       "    </tr>\n",
       "    <tr>\n",
       "      <th>5</th>\n",
       "      <td>No Documentation Submitted</td>\n",
       "      <td>3</td>\n",
       "    </tr>\n",
       "  </tbody>\n",
       "</table>\n",
       "</div>"
      ],
      "text/plain": [
       "                               Citizship  Counts\n",
       "0                       Eligible Citizen   11019\n",
       "1                   Eligible Non-Citizen     222\n",
       "2                  Ineligible Noncitizen      57\n",
       "3                   Pending Verification      31\n",
       "4  Ineligible Child of head of household       3\n",
       "5             No Documentation Submitted       3"
      ]
     },
     "execution_count": 9,
     "metadata": {},
     "output_type": "execute_result"
    }
   ],
   "source": [
    "amu_gdf.CitizNotes.value_counts().rename_axis('Citizship').reset_index(name='Counts')"
   ]
  },
  {
   "cell_type": "code",
   "execution_count": 11,
   "id": "2e3fcb10",
   "metadata": {},
   "outputs": [],
   "source": [
    "amu_gdf['Foreigner'] = np.where(amu_gdf['CitizNotes'] == 'Eligible Citizen', 0, 1)"
   ]
  },
  {
   "cell_type": "code",
   "execution_count": 12,
   "id": "80df1a38",
   "metadata": {},
   "outputs": [],
   "source": [
    "amu_gdf['Elderly'] = np.where(amu_gdf['Age'] > 65, 1, 0)"
   ]
  },
  {
   "cell_type": "code",
   "execution_count": 13,
   "id": "38010386",
   "metadata": {},
   "outputs": [],
   "source": [
    "amu_gdf['Minor'] = np.where(amu_gdf['Age'] < 18, 1, 0)"
   ]
  },
  {
   "cell_type": "code",
   "execution_count": 15,
   "id": "2d06bd66",
   "metadata": {},
   "outputs": [],
   "source": [
    "amu_gdf['Female'] = np.where(amu_gdf['Sex'] == 'F', 1, 0)"
   ]
  },
  {
   "cell_type": "code",
   "execution_count": 16,
   "id": "ec1f7be6",
   "metadata": {},
   "outputs": [],
   "source": [
    "amu_gdf['Poverty'] = amu_gdf[['HHSize', 'IncAnnual']].apply(lambda row: poverty(x=row.HHSize, y=row.IncAnnual), axis=1)"
   ]
  },
  {
   "cell_type": "code",
   "execution_count": 18,
   "id": "cb1147e6",
   "metadata": {},
   "outputs": [],
   "source": [
    "amu_gdf['Poverty'] = np.where(amu_gdf['Poverty'] == 'Below poverty level', 1, 0)"
   ]
  },
  {
   "cell_type": "code",
   "execution_count": 27,
   "id": "b1775483",
   "metadata": {},
   "outputs": [],
   "source": [
    "oa_gdf = gpd.read_file(path+'\\\\output\\\\online_application.shp')"
   ]
  },
  {
   "cell_type": "code",
   "execution_count": 29,
   "id": "d3134eeb",
   "metadata": {},
   "outputs": [],
   "source": [
    "out = combine_counts_pip(pntlist=[amu_gdf[amu_gdf.Elderly==1], \n",
    "                                  amu_gdf[amu_gdf.Disabled==1],\n",
    "                                  amu_gdf[amu_gdf.Poverty==1],\n",
    "                                  amu_gdf[amu_gdf.White==0],\n",
    "                                  amu_gdf[amu_gdf.Minor==1],\n",
    "                                  amu_gdf[amu_gdf.Female==1],\n",
    "                                  amu_gdf[amu_gdf.Foreigner==1],\n",
    "                                  amu_gdf,\n",
    "                                  oa_gdf],\n",
    "                                  polygon=mpo, \n",
    "                                  idcol='BlkGrp20', \n",
    "                                  cntnmlist=['ElderlyCNT', \n",
    "                                             'DisableCNT',\n",
    "                                             'PovertyCNT', \n",
    "                                             'PoColorCNT',\n",
    "                                             'MinorsCNT', \n",
    "                                             'FemaleCNT',\n",
    "                                             'ForeignCNT',\n",
    "                                             'AMCNT',\n",
    "                                             'OACNT'],k=9)"
   ]
  },
  {
   "cell_type": "code",
   "execution_count": 30,
   "id": "29b949ba",
   "metadata": {},
   "outputs": [
    {
     "data": {
      "text/plain": [
       "Index(['BlkGrp20', 'PctInside', 'TotalPOP', 'PopEld', 'PctElderly', 'PctDisab',\n",
       "       'PopNInst5', 'PopNI5Disa', 'HHPop', 'GQPop', 'TotalDU', 'Occupancy',\n",
       "       'HH', 'HHPoor', 'PctPoor', 'PctMinor', 'PopMinor', 'PopWrkF16',\n",
       "       'PopWFUnEmp', 'PctUnEmp', 'HHsize', 'PopGE5', 'Pop5yrLEP', 'PctLEP',\n",
       "       'RenterHHs', 'OwnHHNoCar', 'RntHHNoCar', 'PctHH0car', 'HH0car',\n",
       "       'PctRentHH', 'Elderly', 'Disabled', 'Poor', 'Minority', 'UnEmp', 'LEP',\n",
       "       'HHzerocar', 'Renter', 'ComofConce', 'UGB', 'geometry', 'ElderlyCNT',\n",
       "       'DisableCNT', 'PovertyCNT', 'PoColorCNT', 'MinorsCNT', 'FemaleCNT',\n",
       "       'ForeignCNT', 'AMCNT', 'OACNT'],\n",
       "      dtype='object')"
      ]
     },
     "execution_count": 30,
     "metadata": {},
     "output_type": "execute_result"
    }
   ],
   "source": [
    "out.columns"
   ]
  },
  {
   "cell_type": "code",
   "execution_count": 33,
   "id": "a34c0a57",
   "metadata": {},
   "outputs": [
    {
     "data": {
      "text/html": [
       "<div>\n",
       "<style scoped>\n",
       "    .dataframe tbody tr th:only-of-type {\n",
       "        vertical-align: middle;\n",
       "    }\n",
       "\n",
       "    .dataframe tbody tr th {\n",
       "        vertical-align: top;\n",
       "    }\n",
       "\n",
       "    .dataframe thead th {\n",
       "        text-align: right;\n",
       "    }\n",
       "</style>\n",
       "<table border=\"1\" class=\"dataframe\">\n",
       "  <thead>\n",
       "    <tr style=\"text-align: right;\">\n",
       "      <th></th>\n",
       "      <th>ElderlyCNT</th>\n",
       "      <th>DisableCNT</th>\n",
       "      <th>PovertyCNT</th>\n",
       "      <th>PoColorCNT</th>\n",
       "      <th>MinorsCNT</th>\n",
       "      <th>FemaleCNT</th>\n",
       "      <th>ForeignCNT</th>\n",
       "      <th>AMCNT</th>\n",
       "      <th>OACNT</th>\n",
       "    </tr>\n",
       "  </thead>\n",
       "  <tbody>\n",
       "    <tr>\n",
       "      <th>186</th>\n",
       "      <td>1.0</td>\n",
       "      <td>8.0</td>\n",
       "      <td>8.0</td>\n",
       "      <td>8.0</td>\n",
       "      <td>8.0</td>\n",
       "      <td>18.0</td>\n",
       "      <td>NaN</td>\n",
       "      <td>28.0</td>\n",
       "      <td>76.0</td>\n",
       "    </tr>\n",
       "    <tr>\n",
       "      <th>188</th>\n",
       "      <td>1.0</td>\n",
       "      <td>14.0</td>\n",
       "      <td>15.0</td>\n",
       "      <td>1.0</td>\n",
       "      <td>5.0</td>\n",
       "      <td>17.0</td>\n",
       "      <td>NaN</td>\n",
       "      <td>28.0</td>\n",
       "      <td>47.0</td>\n",
       "    </tr>\n",
       "    <tr>\n",
       "      <th>189</th>\n",
       "      <td>1.0</td>\n",
       "      <td>16.0</td>\n",
       "      <td>60.0</td>\n",
       "      <td>18.0</td>\n",
       "      <td>35.0</td>\n",
       "      <td>42.0</td>\n",
       "      <td>NaN</td>\n",
       "      <td>84.0</td>\n",
       "      <td>210.0</td>\n",
       "    </tr>\n",
       "  </tbody>\n",
       "</table>\n",
       "</div>"
      ],
      "text/plain": [
       "     ElderlyCNT  DisableCNT  PovertyCNT  PoColorCNT  MinorsCNT  FemaleCNT  \\\n",
       "186         1.0         8.0         8.0         8.0        8.0       18.0   \n",
       "188         1.0        14.0        15.0         1.0        5.0       17.0   \n",
       "189         1.0        16.0        60.0        18.0       35.0       42.0   \n",
       "\n",
       "     ForeignCNT  AMCNT  OACNT  \n",
       "186         NaN   28.0   76.0  \n",
       "188         NaN   28.0   47.0  \n",
       "189         NaN   84.0  210.0  "
      ]
     },
     "execution_count": 33,
     "metadata": {},
     "output_type": "execute_result"
    }
   ],
   "source": [
    "out[out.AMCNT>20][['ElderlyCNT', 'DisableCNT','PovertyCNT', 'PoColorCNT',\n",
    "                   'MinorsCNT','FemaleCNT','ForeignCNT', 'AMCNT','OACNT']].tail(3)"
   ]
  },
  {
   "cell_type": "code",
   "execution_count": 36,
   "id": "277dc56e",
   "metadata": {},
   "outputs": [],
   "source": [
    "import matplotlib.pyplot as plt"
   ]
  },
  {
   "cell_type": "code",
   "execution_count": 37,
   "id": "b4cdf208",
   "metadata": {},
   "outputs": [
    {
     "data": {
      "image/png": "[encoded data removed]",
      "text/plain": [
       "<Figure size 432x288 with 1 Axes>"
      ]
     },
     "metadata": {
      "needs_background": "light"
     },
     "output_type": "display_data"
    }
   ],
   "source": [
    "out.plot(x='PovertyCNT', y='AMCNT', kind = 'scatter');\n",
    "plt.show() "
   ]
  },
  {
   "cell_type": "code",
   "execution_count": 38,
   "id": "8f1a8c30",
   "metadata": {},
   "outputs": [
    {
     "data": {
      "text/html": [
       "<div>\n",
       "<style scoped>\n",
       "    .dataframe tbody tr th:only-of-type {\n",
       "        vertical-align: middle;\n",
       "    }\n",
       "\n",
       "    .dataframe tbody tr th {\n",
       "        vertical-align: top;\n",
       "    }\n",
       "\n",
       "    .dataframe thead th {\n",
       "        text-align: right;\n",
       "    }\n",
       "</style>\n",
       "<table border=\"1\" class=\"dataframe\">\n",
       "  <thead>\n",
       "    <tr style=\"text-align: right;\">\n",
       "      <th></th>\n",
       "      <th>PovertyCNT</th>\n",
       "      <th>AMCNT</th>\n",
       "    </tr>\n",
       "  </thead>\n",
       "  <tbody>\n",
       "    <tr>\n",
       "      <th>PovertyCNT</th>\n",
       "      <td>1.000000</td>\n",
       "      <td>0.972989</td>\n",
       "    </tr>\n",
       "    <tr>\n",
       "      <th>AMCNT</th>\n",
       "      <td>0.972989</td>\n",
       "      <td>1.000000</td>\n",
       "    </tr>\n",
       "  </tbody>\n",
       "</table>\n",
       "</div>"
      ],
      "text/plain": [
       "            PovertyCNT     AMCNT\n",
       "PovertyCNT    1.000000  0.972989\n",
       "AMCNT         0.972989  1.000000"
      ]
     },
     "execution_count": 38,
     "metadata": {},
     "output_type": "execute_result"
    }
   ],
   "source": [
    "out[['PovertyCNT', 'AMCNT']].corr()"
   ]
  },
  {
   "cell_type": "code",
   "execution_count": 39,
   "id": "9a5348b4",
   "metadata": {},
   "outputs": [],
   "source": [
    "newpath = path+'\\\\output\\\\bg'"
   ]
  },
  {
   "cell_type": "code",
   "execution_count": 40,
   "id": "3a20ef8c",
   "metadata": {},
   "outputs": [],
   "source": [
    "out[[x for x in out.columns if len(x)<=10]].to_file(newpath+f'\\\\bg_counts_all.shp')  "
   ]
  }
 ],
 "metadata": {
  "kernelspec": {
   "display_name": "Python 3",
   "language": "python",
   "name": "python3"
  },
  "language_info": {
   "codemirror_mode": {
    "name": "ipython",
    "version": 3
   },
   "file_extension": ".py",
   "mimetype": "text/x-python",
   "name": "python",
   "nbconvert_exporter": "python",
   "pygments_lexer": "ipython3",
   "version": "3.8.8"
  }
 },
 "nbformat": 4,
 "nbformat_minor": 5
}
