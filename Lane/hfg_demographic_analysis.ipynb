{
 "cells": [
  {
   "cell_type": "code",
   "execution_count": 1,
   "id": "57d9cf96",
   "metadata": {},
   "outputs": [],
   "source": [
    "%load_ext autoreload\n",
    "%autoreload 2"
   ]
  },
  {
   "cell_type": "code",
   "execution_count": 47,
   "id": "efff9077",
   "metadata": {},
   "outputs": [],
   "source": [
    "from hfgtools import *"
   ]
  },
  {
   "cell_type": "code",
   "execution_count": 33,
   "id": "e382eae4",
   "metadata": {},
   "outputs": [
    {
     "data": {
      "text/plain": [
       "Index(['KeyApplication', 'AgencyID', 'WLNumber', 'WLName', 'Language',\n",
       "       'NameFirst', 'NameMiddle', 'NameLast', 'MailAddress1', 'MailAddress2',\n",
       "       'MailCity', 'MailState', 'MailZIP', 'MailZIP4', 'LegalAddress1',\n",
       "       'LegalAddress2', 'LegalCity', 'LegalState', 'LegalZIP', 'LegalZIP4',\n",
       "       'Phone', 'MobilePhone', 'OtherContact', 'OtherType', 'SSN', 'DOB',\n",
       "       'EmancipatedMinor', 'Sex', 'Disabled', 'Race', 'Ethnicity',\n",
       "       'HouseholdSize', 'HouseholdMinors', 'IncomeAnnual', 'IncomeChecking',\n",
       "       'IncomeSavings', 'IncomeInvestments', 'IncomeRealEstate', 'IncomeOther',\n",
       "       'AssetsChecking', 'AssetsSavings', 'AssetsInvestments',\n",
       "       'AssetsRealEstate', 'AssetsOther', 'QuestionIDs', 'OptOut92006',\n",
       "       'PreviousAgencyID', 'TSModified', 'TSCreated', 'ApplicationTS',\n",
       "       'eAgree', 'AddressValidation', 'LotteryNumber', 'Citizenship',\n",
       "       'OptOutSSN', 'AccountEmail', 'Age', 'ID', 'Address'],\n",
       "      dtype='object')"
      ]
     },
     "execution_count": 33,
     "metadata": {},
     "output_type": "execute_result"
    }
   ],
   "source": [
    "oa.columns"
   ]
  },
  {
   "cell_type": "code",
   "execution_count": 48,
   "id": "848e8b09",
   "metadata": {},
   "outputs": [],
   "source": [
    "oa_df, oa_gdf = get_oa_gdf(df=oa, export=True)"
   ]
  },
  {
   "cell_type": "code",
   "execution_count": 49,
   "id": "0ae1ab1b",
   "metadata": {},
   "outputs": [],
   "source": [
    "am_df, am_gdf = get_am_gdf(oa=oa, am=am, export=True)"
   ]
  },
  {
   "cell_type": "code",
   "execution_count": 15,
   "id": "dc3c5ca3",
   "metadata": {},
   "outputs": [],
   "source": [
    "amdf = reorganize_am(am)"
   ]
  },
  {
   "cell_type": "code",
   "execution_count": 51,
   "id": "459fd27a",
   "metadata": {},
   "outputs": [],
   "source": [
    "amdf = pd.read_csv(path + '\\\\output\\\\application_members.csv')"
   ]
  },
  {
   "cell_type": "code",
   "execution_count": 6,
   "id": "6aae096a",
   "metadata": {},
   "outputs": [
    {
     "data": {
      "text/plain": [
       "(49377, 39)"
      ]
     },
     "execution_count": 6,
     "metadata": {},
     "output_type": "execute_result"
    }
   ],
   "source": [
    "amdf.shape"
   ]
  },
  {
   "cell_type": "code",
   "execution_count": 7,
   "id": "902494c8",
   "metadata": {},
   "outputs": [],
   "source": [
    "amu = amdf.drop_duplicates(subset=['ID'])"
   ]
  },
  {
   "cell_type": "code",
   "execution_count": 8,
   "id": "09c091c1",
   "metadata": {},
   "outputs": [
    {
     "data": {
      "text/html": [
       "<div>\n",
       "<style scoped>\n",
       "    .dataframe tbody tr th:only-of-type {\n",
       "        vertical-align: middle;\n",
       "    }\n",
       "\n",
       "    .dataframe tbody tr th {\n",
       "        vertical-align: top;\n",
       "    }\n",
       "\n",
       "    .dataframe thead th {\n",
       "        text-align: right;\n",
       "    }\n",
       "</style>\n",
       "<table border=\"1\" class=\"dataframe\">\n",
       "  <thead>\n",
       "    <tr style=\"text-align: right;\">\n",
       "      <th></th>\n",
       "      <th>diabled</th>\n",
       "      <th>counts</th>\n",
       "    </tr>\n",
       "  </thead>\n",
       "  <tbody>\n",
       "    <tr>\n",
       "      <th>0</th>\n",
       "      <td>0</td>\n",
       "      <td>8360</td>\n",
       "    </tr>\n",
       "    <tr>\n",
       "      <th>1</th>\n",
       "      <td>1</td>\n",
       "      <td>3338</td>\n",
       "    </tr>\n",
       "  </tbody>\n",
       "</table>\n",
       "</div>"
      ],
      "text/plain": [
       "   diabled  counts\n",
       "0        0    8360\n",
       "1        1    3338"
      ]
     },
     "execution_count": 8,
     "metadata": {},
     "output_type": "execute_result"
    }
   ],
   "source": [
    "amu.Disabled.value_counts().rename_axis('diabled').reset_index(name='counts')"
   ]
  },
  {
   "cell_type": "code",
   "execution_count": 9,
   "id": "3e4a0b26",
   "metadata": {},
   "outputs": [
    {
     "data": {
      "text/plain": [
       "(11698, 39)"
      ]
     },
     "execution_count": 9,
     "metadata": {},
     "output_type": "execute_result"
    }
   ],
   "source": [
    "amu.shape"
   ]
  },
  {
   "cell_type": "code",
   "execution_count": 53,
   "id": "6d815614",
   "metadata": {},
   "outputs": [],
   "source": [
    "idcount = amdf.ID.value_counts().rename_axis('id').reset_index(name='counts')"
   ]
  },
  {
   "cell_type": "code",
   "execution_count": 55,
   "id": "c7cf98cb",
   "metadata": {},
   "outputs": [
    {
     "data": {
      "text/plain": [
       "0.5063680656466365"
      ]
     },
     "execution_count": 55,
     "metadata": {},
     "output_type": "execute_result"
    }
   ],
   "source": [
    "len(idcount[idcount.counts==1].id.values)/idcount.shape[0]"
   ]
  },
  {
   "cell_type": "code",
   "execution_count": 10,
   "id": "b7ff28fe",
   "metadata": {},
   "outputs": [
    {
     "data": {
      "text/plain": [
       "53"
      ]
     },
     "execution_count": 10,
     "metadata": {},
     "output_type": "execute_result"
    }
   ],
   "source": [
    "len(amdf.loc[amdf.ID == 'Preston-J-Decarlo-36-573991014', 'KeyApplication'].unique())"
   ]
  },
  {
   "cell_type": "code",
   "execution_count": 11,
   "id": "895c84bf",
   "metadata": {},
   "outputs": [
    {
     "data": {
      "text/plain": [
       "0.32843221063429645"
      ]
     },
     "execution_count": 11,
     "metadata": {},
     "output_type": "execute_result"
    }
   ],
   "source": [
    "amu[amu.Age < 18].shape[0]/amu.shape[0]"
   ]
  },
  {
   "cell_type": "code",
   "execution_count": 12,
   "id": "40164dbb",
   "metadata": {},
   "outputs": [
    {
     "data": {
      "text/plain": [
       "0.2853479227218328"
      ]
     },
     "execution_count": 12,
     "metadata": {},
     "output_type": "execute_result"
    }
   ],
   "source": [
    "amu[amu.Disabled == 1].shape[0]/amu.shape[0]"
   ]
  },
  {
   "cell_type": "code",
   "execution_count": 24,
   "id": "92be4411",
   "metadata": {
    "scrolled": true
   },
   "outputs": [
    {
     "data": {
      "text/html": [
       "<div>\n",
       "<style scoped>\n",
       "    .dataframe tbody tr th:only-of-type {\n",
       "        vertical-align: middle;\n",
       "    }\n",
       "\n",
       "    .dataframe tbody tr th {\n",
       "        vertical-align: top;\n",
       "    }\n",
       "\n",
       "    .dataframe thead th {\n",
       "        text-align: right;\n",
       "    }\n",
       "</style>\n",
       "<table border=\"1\" class=\"dataframe\">\n",
       "  <thead>\n",
       "    <tr style=\"text-align: right;\">\n",
       "      <th></th>\n",
       "      <th>citizenship</th>\n",
       "      <th>counts</th>\n",
       "    </tr>\n",
       "  </thead>\n",
       "  <tbody>\n",
       "    <tr>\n",
       "      <th>0</th>\n",
       "      <td>Eligible Citizen</td>\n",
       "      <td>11378</td>\n",
       "    </tr>\n",
       "    <tr>\n",
       "      <th>1</th>\n",
       "      <td>Eligible Non-Citizen</td>\n",
       "      <td>223</td>\n",
       "    </tr>\n",
       "    <tr>\n",
       "      <th>2</th>\n",
       "      <td>Ineligible Noncitizen</td>\n",
       "      <td>57</td>\n",
       "    </tr>\n",
       "    <tr>\n",
       "      <th>3</th>\n",
       "      <td>Pending Verification</td>\n",
       "      <td>31</td>\n",
       "    </tr>\n",
       "    <tr>\n",
       "      <th>4</th>\n",
       "      <td>No Documentation Submitted</td>\n",
       "      <td>3</td>\n",
       "    </tr>\n",
       "    <tr>\n",
       "      <th>5</th>\n",
       "      <td>Ineligible Child of head of household</td>\n",
       "      <td>3</td>\n",
       "    </tr>\n",
       "  </tbody>\n",
       "</table>\n",
       "</div>"
      ],
      "text/plain": [
       "                             citizenship  counts\n",
       "0                       Eligible Citizen   11378\n",
       "1                   Eligible Non-Citizen     223\n",
       "2                  Ineligible Noncitizen      57\n",
       "3                   Pending Verification      31\n",
       "4             No Documentation Submitted       3\n",
       "5  Ineligible Child of head of household       3"
      ]
     },
     "execution_count": 24,
     "metadata": {},
     "output_type": "execute_result"
    }
   ],
   "source": [
    "amu.CitizNotes.value_counts().rename_axis('citizenship').reset_index(name='counts')"
   ]
  },
  {
   "cell_type": "code",
   "execution_count": 25,
   "id": "6b7bd0a5",
   "metadata": {},
   "outputs": [
    {
     "data": {
      "text/plain": [
       "0.02735510343648484"
      ]
     },
     "execution_count": 25,
     "metadata": {},
     "output_type": "execute_result"
    }
   ],
   "source": [
    "1 - 11378/amu.shape[0]"
   ]
  },
  {
   "cell_type": "code",
   "execution_count": 26,
   "id": "ad3ed14a",
   "metadata": {},
   "outputs": [
    {
     "data": {
      "text/html": [
       "<div>\n",
       "<style scoped>\n",
       "    .dataframe tbody tr th:only-of-type {\n",
       "        vertical-align: middle;\n",
       "    }\n",
       "\n",
       "    .dataframe tbody tr th {\n",
       "        vertical-align: top;\n",
       "    }\n",
       "\n",
       "    .dataframe thead th {\n",
       "        text-align: right;\n",
       "    }\n",
       "</style>\n",
       "<table border=\"1\" class=\"dataframe\">\n",
       "  <thead>\n",
       "    <tr style=\"text-align: right;\">\n",
       "      <th></th>\n",
       "      <th>race</th>\n",
       "      <th>counts</th>\n",
       "    </tr>\n",
       "  </thead>\n",
       "  <tbody>\n",
       "    <tr>\n",
       "      <th>0</th>\n",
       "      <td>White</td>\n",
       "      <td>8243</td>\n",
       "    </tr>\n",
       "    <tr>\n",
       "      <th>1</th>\n",
       "      <td>Black/African American</td>\n",
       "      <td>1053</td>\n",
       "    </tr>\n",
       "    <tr>\n",
       "      <th>2</th>\n",
       "      <td>Other</td>\n",
       "      <td>753</td>\n",
       "    </tr>\n",
       "    <tr>\n",
       "      <th>3</th>\n",
       "      <td>American Indian/Alaska Native</td>\n",
       "      <td>337</td>\n",
       "    </tr>\n",
       "    <tr>\n",
       "      <th>4</th>\n",
       "      <td>White,American Indian/Alaska Native</td>\n",
       "      <td>197</td>\n",
       "    </tr>\n",
       "    <tr>\n",
       "      <th>...</th>\n",
       "      <td>...</td>\n",
       "      <td>...</td>\n",
       "    </tr>\n",
       "    <tr>\n",
       "      <th>85</th>\n",
       "      <td>White,Black/African American,Asian,American In...</td>\n",
       "      <td>1</td>\n",
       "    </tr>\n",
       "    <tr>\n",
       "      <th>86</th>\n",
       "      <td>Black/African American,Other,White</td>\n",
       "      <td>1</td>\n",
       "    </tr>\n",
       "    <tr>\n",
       "      <th>87</th>\n",
       "      <td>American Indian/Alaska Native,Native Hawaiian/...</td>\n",
       "      <td>1</td>\n",
       "    </tr>\n",
       "    <tr>\n",
       "      <th>88</th>\n",
       "      <td>Native Hawaiian/Other Pacific Islander,White,B...</td>\n",
       "      <td>1</td>\n",
       "    </tr>\n",
       "    <tr>\n",
       "      <th>89</th>\n",
       "      <td>Asian,American Indian/Alaska Native,White</td>\n",
       "      <td>1</td>\n",
       "    </tr>\n",
       "  </tbody>\n",
       "</table>\n",
       "<p>90 rows × 2 columns</p>\n",
       "</div>"
      ],
      "text/plain": [
       "                                                 race  counts\n",
       "0                                               White    8243\n",
       "1                              Black/African American    1053\n",
       "2                                               Other     753\n",
       "3                       American Indian/Alaska Native     337\n",
       "4                 White,American Indian/Alaska Native     197\n",
       "..                                                ...     ...\n",
       "85  White,Black/African American,Asian,American In...       1\n",
       "86                 Black/African American,Other,White       1\n",
       "87  American Indian/Alaska Native,Native Hawaiian/...       1\n",
       "88  Native Hawaiian/Other Pacific Islander,White,B...       1\n",
       "89          Asian,American Indian/Alaska Native,White       1\n",
       "\n",
       "[90 rows x 2 columns]"
      ]
     },
     "execution_count": 26,
     "metadata": {},
     "output_type": "execute_result"
    }
   ],
   "source": [
    "amu.RaceNotes.value_counts().rename_axis('race').reset_index(name='counts')"
   ]
  },
  {
   "cell_type": "code",
   "execution_count": 27,
   "id": "57be2ee7",
   "metadata": {},
   "outputs": [
    {
     "data": {
      "text/plain": [
       "0.2953496324157976"
      ]
     },
     "execution_count": 27,
     "metadata": {},
     "output_type": "execute_result"
    }
   ],
   "source": [
    "1 - 8243/amu.shape[0]"
   ]
  },
  {
   "cell_type": "code",
   "execution_count": 28,
   "id": "49b4ba60",
   "metadata": {},
   "outputs": [
    {
     "data": {
      "text/plain": [
       "0.30477568740955135"
      ]
     },
     "execution_count": 28,
     "metadata": {},
     "output_type": "execute_result"
    }
   ],
   "source": [
    "1053/(amu.shape[0]-8243)"
   ]
  },
  {
   "cell_type": "code",
   "execution_count": 30,
   "id": "2a22340a",
   "metadata": {
    "scrolled": true
   },
   "outputs": [
    {
     "data": {
      "text/html": [
       "<div>\n",
       "<style scoped>\n",
       "    .dataframe tbody tr th:only-of-type {\n",
       "        vertical-align: middle;\n",
       "    }\n",
       "\n",
       "    .dataframe tbody tr th {\n",
       "        vertical-align: top;\n",
       "    }\n",
       "\n",
       "    .dataframe thead th {\n",
       "        text-align: right;\n",
       "    }\n",
       "</style>\n",
       "<table border=\"1\" class=\"dataframe\">\n",
       "  <thead>\n",
       "    <tr style=\"text-align: right;\">\n",
       "      <th></th>\n",
       "      <th>ethnicity</th>\n",
       "      <th>counts</th>\n",
       "    </tr>\n",
       "  </thead>\n",
       "  <tbody>\n",
       "    <tr>\n",
       "      <th>0</th>\n",
       "      <td>Not Hispanic or Latino</td>\n",
       "      <td>9807</td>\n",
       "    </tr>\n",
       "    <tr>\n",
       "      <th>1</th>\n",
       "      <td>Hispanic or Latino</td>\n",
       "      <td>1891</td>\n",
       "    </tr>\n",
       "  </tbody>\n",
       "</table>\n",
       "</div>"
      ],
      "text/plain": [
       "                ethnicity  counts\n",
       "0  Not Hispanic or Latino    9807\n",
       "1      Hispanic or Latino    1891"
      ]
     },
     "execution_count": 30,
     "metadata": {},
     "output_type": "execute_result"
    }
   ],
   "source": [
    "amu.EthniNotes.value_counts().rename_axis('ethnicity').reset_index(name='counts')"
   ]
  },
  {
   "cell_type": "code",
   "execution_count": 31,
   "id": "9c6426d6",
   "metadata": {},
   "outputs": [
    {
     "data": {
      "text/plain": [
       "0.16165156436997777"
      ]
     },
     "execution_count": 31,
     "metadata": {},
     "output_type": "execute_result"
    }
   ],
   "source": [
    "amu[amu.Ethnicity == 1].shape[0]/amu.shape[0]"
   ]
  },
  {
   "cell_type": "code",
   "execution_count": 32,
   "id": "9e9fc042",
   "metadata": {},
   "outputs": [
    {
     "data": {
      "text/html": [
       "<div>\n",
       "<style scoped>\n",
       "    .dataframe tbody tr th:only-of-type {\n",
       "        vertical-align: middle;\n",
       "    }\n",
       "\n",
       "    .dataframe tbody tr th {\n",
       "        vertical-align: top;\n",
       "    }\n",
       "\n",
       "    .dataframe thead th {\n",
       "        text-align: right;\n",
       "    }\n",
       "</style>\n",
       "<table border=\"1\" class=\"dataframe\">\n",
       "  <thead>\n",
       "    <tr style=\"text-align: right;\">\n",
       "      <th></th>\n",
       "      <th>age</th>\n",
       "      <th>counts</th>\n",
       "    </tr>\n",
       "  </thead>\n",
       "  <tbody>\n",
       "    <tr>\n",
       "      <th>0</th>\n",
       "      <td>1</td>\n",
       "      <td>288</td>\n",
       "    </tr>\n",
       "    <tr>\n",
       "      <th>1</th>\n",
       "      <td>4</td>\n",
       "      <td>272</td>\n",
       "    </tr>\n",
       "    <tr>\n",
       "      <th>2</th>\n",
       "      <td>2</td>\n",
       "      <td>268</td>\n",
       "    </tr>\n",
       "    <tr>\n",
       "      <th>3</th>\n",
       "      <td>3</td>\n",
       "      <td>256</td>\n",
       "    </tr>\n",
       "    <tr>\n",
       "      <th>4</th>\n",
       "      <td>8</td>\n",
       "      <td>255</td>\n",
       "    </tr>\n",
       "    <tr>\n",
       "      <th>...</th>\n",
       "      <td>...</td>\n",
       "      <td>...</td>\n",
       "    </tr>\n",
       "    <tr>\n",
       "      <th>86</th>\n",
       "      <td>88</td>\n",
       "      <td>2</td>\n",
       "    </tr>\n",
       "    <tr>\n",
       "      <th>87</th>\n",
       "      <td>94</td>\n",
       "      <td>2</td>\n",
       "    </tr>\n",
       "    <tr>\n",
       "      <th>88</th>\n",
       "      <td>93</td>\n",
       "      <td>1</td>\n",
       "    </tr>\n",
       "    <tr>\n",
       "      <th>89</th>\n",
       "      <td>85</td>\n",
       "      <td>1</td>\n",
       "    </tr>\n",
       "    <tr>\n",
       "      <th>90</th>\n",
       "      <td>87</td>\n",
       "      <td>1</td>\n",
       "    </tr>\n",
       "  </tbody>\n",
       "</table>\n",
       "<p>91 rows × 2 columns</p>\n",
       "</div>"
      ],
      "text/plain": [
       "    age  counts\n",
       "0     1     288\n",
       "1     4     272\n",
       "2     2     268\n",
       "3     3     256\n",
       "4     8     255\n",
       "..  ...     ...\n",
       "86   88       2\n",
       "87   94       2\n",
       "88   93       1\n",
       "89   85       1\n",
       "90   87       1\n",
       "\n",
       "[91 rows x 2 columns]"
      ]
     },
     "execution_count": 32,
     "metadata": {},
     "output_type": "execute_result"
    }
   ],
   "source": [
    "amu.Age.value_counts().rename_axis('age').reset_index(name='counts')"
   ]
  },
  {
   "cell_type": "code",
   "execution_count": 21,
   "id": "b1521fb9",
   "metadata": {},
   "outputs": [],
   "source": [
    "oadf = reorganize_oa(oa)"
   ]
  },
  {
   "cell_type": "code",
   "execution_count": 56,
   "id": "e3559b8b",
   "metadata": {},
   "outputs": [
    {
     "data": {
      "text/plain": [
       "Index(['KeyApplication', 'AgencyID', 'WLNumber', 'WLName', 'Language',\n",
       "       'NameFirst', 'NameMiddle', 'NameLast', 'MailAddress1', 'MailAddress2',\n",
       "       'MailCity', 'MailState', 'MailZIP', 'MailZIP4', 'LegalAddress1',\n",
       "       'LegalAddress2', 'LegalCity', 'LegalState', 'LegalZIP', 'LegalZIP4',\n",
       "       'Phone', 'MobilePhone', 'OtherContact', 'OtherType', 'SSN', 'DOB',\n",
       "       'EmancipatedMinor', 'Sex', 'Disabled', 'Race', 'Ethnicity',\n",
       "       'HouseholdSize', 'HouseholdMinors', 'IncomeAnnual', 'IncomeChecking',\n",
       "       'IncomeSavings', 'IncomeInvestments', 'IncomeRealEstate', 'IncomeOther',\n",
       "       'AssetsChecking', 'AssetsSavings', 'AssetsInvestments',\n",
       "       'AssetsRealEstate', 'AssetsOther', 'QuestionIDs', 'OptOut92006',\n",
       "       'PreviousAgencyID', 'TSModified', 'TSCreated', 'ApplicationTS',\n",
       "       'eAgree', 'AddressValidation', 'LotteryNumber', 'Citizenship',\n",
       "       'OptOutSSN', 'AccountEmail', 'Age', 'ID', 'Address'],\n",
       "      dtype='object')"
      ]
     },
     "execution_count": 56,
     "metadata": {},
     "output_type": "execute_result"
    }
   ],
   "source": [
    "oadf.columns"
   ]
  },
  {
   "cell_type": "code",
   "execution_count": 24,
   "id": "9deeaba7",
   "metadata": {},
   "outputs": [
    {
     "data": {
      "text/plain": [
       "<AxesSubplot:>"
      ]
     },
     "execution_count": 24,
     "metadata": {},
     "output_type": "execute_result"
    },
    {
     "data": {
      "image/png": "[encoded data removed]",
      "text/plain": [
       "<Figure size 432x288 with 1 Axes>"
      ]
     },
     "metadata": {
      "needs_background": "light"
     },
     "output_type": "display_data"
    }
   ],
   "source": [
    "oadf.IncomeAnnual.hist()"
   ]
  },
  {
   "cell_type": "code",
   "execution_count": 42,
   "id": "ff1f9952",
   "metadata": {},
   "outputs": [
    {
     "data": {
      "text/plain": [
       "(25718, 59)"
      ]
     },
     "execution_count": 42,
     "metadata": {},
     "output_type": "execute_result"
    }
   ],
   "source": [
    "oadf.shape"
   ]
  },
  {
   "cell_type": "code",
   "execution_count": 6,
   "id": "bec7f3ed",
   "metadata": {},
   "outputs": [
    {
     "data": {
      "text/plain": [
       "Index(['KeyMember', 'KeyApplication', 'NameLast', 'NameMiddle', 'NameFirst',\n",
       "       'SSN', 'DOB', 'Sex', 'Disabled', 'Relationship', 'Citizenship', 'Race',\n",
       "       'Ethnicity', 'Age', 'ID', 'RaceNotes', 'MultiRace', 'White', 'African',\n",
       "       'IndianAlsk', 'Asian', 'HawaiianOr', 'RaceOther', 'CitizNotes',\n",
       "       'EthniNotes'],\n",
       "      dtype='object')"
      ]
     },
     "execution_count": 6,
     "metadata": {},
     "output_type": "execute_result"
    }
   ],
   "source": [
    "amdf.columns"
   ]
  },
  {
   "cell_type": "code",
   "execution_count": 21,
   "id": "6dca0f64",
   "metadata": {},
   "outputs": [],
   "source": [
    "statecnt = oadf.LegalState.value_counts().rename_axis('STUSPS').reset_index(name='counts')"
   ]
  },
  {
   "cell_type": "code",
   "execution_count": 15,
   "id": "8c1e4617",
   "metadata": {},
   "outputs": [
    {
     "data": {
      "text/html": [
       "<div>\n",
       "<style scoped>\n",
       "    .dataframe tbody tr th:only-of-type {\n",
       "        vertical-align: middle;\n",
       "    }\n",
       "\n",
       "    .dataframe tbody tr th {\n",
       "        vertical-align: top;\n",
       "    }\n",
       "\n",
       "    .dataframe thead th {\n",
       "        text-align: right;\n",
       "    }\n",
       "</style>\n",
       "<table border=\"1\" class=\"dataframe\">\n",
       "  <thead>\n",
       "    <tr style=\"text-align: right;\">\n",
       "      <th></th>\n",
       "      <th>state</th>\n",
       "      <th>counts</th>\n",
       "    </tr>\n",
       "  </thead>\n",
       "  <tbody>\n",
       "    <tr>\n",
       "      <th>0</th>\n",
       "      <td>OR</td>\n",
       "      <td>10650</td>\n",
       "    </tr>\n",
       "    <tr>\n",
       "      <th>1</th>\n",
       "      <td>CA</td>\n",
       "      <td>330</td>\n",
       "    </tr>\n",
       "    <tr>\n",
       "      <th>2</th>\n",
       "      <td>WA</td>\n",
       "      <td>112</td>\n",
       "    </tr>\n",
       "    <tr>\n",
       "      <th>3</th>\n",
       "      <td>IL</td>\n",
       "      <td>89</td>\n",
       "    </tr>\n",
       "    <tr>\n",
       "      <th>4</th>\n",
       "      <td>TX</td>\n",
       "      <td>47</td>\n",
       "    </tr>\n",
       "  </tbody>\n",
       "</table>\n",
       "</div>"
      ],
      "text/plain": [
       "  state  counts\n",
       "0    OR   10650\n",
       "1    CA     330\n",
       "2    WA     112\n",
       "3    IL      89\n",
       "4    TX      47"
      ]
     },
     "execution_count": 15,
     "metadata": {},
     "output_type": "execute_result"
    }
   ],
   "source": [
    "statecnt.head()"
   ]
  },
  {
   "cell_type": "code",
   "execution_count": 22,
   "id": "07e3455c",
   "metadata": {},
   "outputs": [
    {
     "data": {
      "text/plain": [
       "25718"
      ]
     },
     "execution_count": 22,
     "metadata": {},
     "output_type": "execute_result"
    }
   ],
   "source": [
    "statecnt.counts.sum()"
   ]
  },
  {
   "cell_type": "code",
   "execution_count": 23,
   "id": "8eff631d",
   "metadata": {},
   "outputs": [],
   "source": [
    "statecnt.to_csv(path+'\\\\output\\\\state_count.csv', index=False)"
   ]
  },
  {
   "cell_type": "code",
   "execution_count": 54,
   "id": "6e4b503f",
   "metadata": {},
   "outputs": [
    {
     "data": {
      "text/plain": [
       "True"
      ]
     },
     "execution_count": 54,
     "metadata": {},
     "output_type": "execute_result"
    }
   ],
   "source": [
    "len(oadf.KeyApplication.unique()) == len(amdf.KeyApplication.unique())"
   ]
  },
  {
   "cell_type": "code",
   "execution_count": 55,
   "id": "68a95b10",
   "metadata": {},
   "outputs": [
    {
     "data": {
      "text/plain": [
       "array(['Dayna-E-Mitchell-64-573110017', 'Preston-J-Decarlo-36-573991014'],\n",
       "      dtype=object)"
      ]
     },
     "execution_count": 55,
     "metadata": {},
     "output_type": "execute_result"
    }
   ],
   "source": [
    "oadf.loc[oadf.KeyApplication.isin(amdf.loc[amdf.ID == 'Preston-J-Decarlo-36-573991014', 'KeyApplication'].unique()), 'ID'].unique()"
   ]
  },
  {
   "cell_type": "code",
   "execution_count": 51,
   "id": "e1bed324",
   "metadata": {},
   "outputs": [
    {
     "data": {
      "text/plain": [
       "26"
      ]
     },
     "execution_count": 51,
     "metadata": {},
     "output_type": "execute_result"
    }
   ],
   "source": [
    "len(oadf.loc[oadf.ID == 'Preston-J-Decarlo-36-573991014', 'KeyApplication'].unique())"
   ]
  },
  {
   "cell_type": "code",
   "execution_count": 43,
   "id": "814d6bf0",
   "metadata": {},
   "outputs": [],
   "source": [
    "idcnt = oadf.ID.value_counts().rename_axis('id').reset_index(name='counts')"
   ]
  },
  {
   "cell_type": "code",
   "execution_count": 35,
   "id": "c2952371",
   "metadata": {},
   "outputs": [],
   "source": [
    "idcnt.to_csv(path + '\\\\output\\\\id_count.csv', index=False)"
   ]
  },
  {
   "cell_type": "code",
   "execution_count": 44,
   "id": "ba843eb5",
   "metadata": {},
   "outputs": [
    {
     "data": {
      "text/html": [
       "<div>\n",
       "<style scoped>\n",
       "    .dataframe tbody tr th:only-of-type {\n",
       "        vertical-align: middle;\n",
       "    }\n",
       "\n",
       "    .dataframe tbody tr th {\n",
       "        vertical-align: top;\n",
       "    }\n",
       "\n",
       "    .dataframe thead th {\n",
       "        text-align: right;\n",
       "    }\n",
       "</style>\n",
       "<table border=\"1\" class=\"dataframe\">\n",
       "  <thead>\n",
       "    <tr style=\"text-align: right;\">\n",
       "      <th></th>\n",
       "      <th>id</th>\n",
       "      <th>counts</th>\n",
       "    </tr>\n",
       "  </thead>\n",
       "  <tbody>\n",
       "    <tr>\n",
       "      <th>35</th>\n",
       "      <td>Preston-J-Decarlo-36-573991014</td>\n",
       "      <td>26</td>\n",
       "    </tr>\n",
       "  </tbody>\n",
       "</table>\n",
       "</div>"
      ],
      "text/plain": [
       "                                id  counts\n",
       "35  Preston-J-Decarlo-36-573991014      26"
      ]
     },
     "execution_count": 44,
     "metadata": {},
     "output_type": "execute_result"
    }
   ],
   "source": [
    "idcnt[idcnt.id=='Preston-J-Decarlo-36-573991014']"
   ]
  },
  {
   "cell_type": "code",
   "execution_count": 45,
   "id": "021b1c0e",
   "metadata": {},
   "outputs": [],
   "source": [
    "adrcnt = oadf.Address.value_counts().rename_axis('address').reset_index(name='counts')"
   ]
  },
  {
   "cell_type": "code",
   "execution_count": 47,
   "id": "bf6dbe5b",
   "metadata": {},
   "outputs": [
    {
     "data": {
      "text/html": [
       "<div>\n",
       "<style scoped>\n",
       "    .dataframe tbody tr th:only-of-type {\n",
       "        vertical-align: middle;\n",
       "    }\n",
       "\n",
       "    .dataframe tbody tr th {\n",
       "        vertical-align: top;\n",
       "    }\n",
       "\n",
       "    .dataframe thead th {\n",
       "        text-align: right;\n",
       "    }\n",
       "</style>\n",
       "<table border=\"1\" class=\"dataframe\">\n",
       "  <thead>\n",
       "    <tr style=\"text-align: right;\">\n",
       "      <th></th>\n",
       "      <th>address</th>\n",
       "      <th>counts</th>\n",
       "    </tr>\n",
       "  </thead>\n",
       "  <tbody>\n",
       "    <tr>\n",
       "      <th>0</th>\n",
       "      <td>410 Garfield , Eugene, OR 97402</td>\n",
       "      <td>327</td>\n",
       "    </tr>\n",
       "    <tr>\n",
       "      <th>1</th>\n",
       "      <td>341 E 12Th Ave 573-99-1014, Eugene, OR 97401</td>\n",
       "      <td>317</td>\n",
       "    </tr>\n",
       "    <tr>\n",
       "      <th>2</th>\n",
       "      <td>687 Cheshire Ave , Eugene, OR 97402</td>\n",
       "      <td>221</td>\n",
       "    </tr>\n",
       "    <tr>\n",
       "      <th>3</th>\n",
       "      <td>1542 W 1St Ave , Eugene, OR 97402</td>\n",
       "      <td>208</td>\n",
       "    </tr>\n",
       "    <tr>\n",
       "      <th>4</th>\n",
       "      <td>717 Highway 99 N. T-9, B-4, Eugene, OR 97402</td>\n",
       "      <td>190</td>\n",
       "    </tr>\n",
       "  </tbody>\n",
       "</table>\n",
       "</div>"
      ],
      "text/plain": [
       "                                        address  counts\n",
       "0               410 Garfield , Eugene, OR 97402     327\n",
       "1  341 E 12Th Ave 573-99-1014, Eugene, OR 97401     317\n",
       "2           687 Cheshire Ave , Eugene, OR 97402     221\n",
       "3             1542 W 1St Ave , Eugene, OR 97402     208\n",
       "4  717 Highway 99 N. T-9, B-4, Eugene, OR 97402     190"
      ]
     },
     "execution_count": 47,
     "metadata": {},
     "output_type": "execute_result"
    }
   ],
   "source": [
    "adrcnt.head()"
   ]
  },
  {
   "cell_type": "code",
   "execution_count": 41,
   "id": "f48a880a",
   "metadata": {},
   "outputs": [
    {
     "name": "stdout",
     "output_type": "stream",
     "text": [
      "                                id  counts\n",
      "35  Preston-J-Decarlo-36-573991014      26\n"
     ]
    }
   ],
   "source": [
    "for x in idcnt.id.values:\n",
    "    if '573991014' in x:\n",
    "        print(idcnt[idcnt.id == x])"
   ]
  },
  {
   "cell_type": "code",
   "execution_count": 37,
   "id": "da25a5aa",
   "metadata": {},
   "outputs": [
    {
     "data": {
      "text/plain": [
       "array([45, 39, 34, 33, 32, 31, 30, 29, 28, 27, 26, 25, 24, 23, 22, 21, 20,\n",
       "       19, 18, 17, 16, 15, 14, 13, 12, 11, 10,  9,  8,  7,  6,  5,  4,  3,\n",
       "        2,  1], dtype=int64)"
      ]
     },
     "execution_count": 37,
     "metadata": {},
     "output_type": "execute_result"
    }
   ],
   "source": [
    "idcnt.counts.unique()"
   ]
  },
  {
   "cell_type": "code",
   "execution_count": 62,
   "id": "40ce95ef",
   "metadata": {},
   "outputs": [
    {
     "data": {
      "text/plain": [
       "0.5101477512583211"
      ]
     },
     "execution_count": 62,
     "metadata": {},
     "output_type": "execute_result"
    }
   ],
   "source": [
    "idcnt[idcnt.counts>1].shape[0]/idcnt.shape[0]"
   ]
  },
  {
   "cell_type": "code",
   "execution_count": 27,
   "id": "5c46911a",
   "metadata": {},
   "outputs": [],
   "source": [
    "legalAdr = pd.read_csv(path + '\\\\output\\\\legal_address.csv')"
   ]
  },
  {
   "cell_type": "code",
   "execution_count": 47,
   "id": "abbbddde",
   "metadata": {},
   "outputs": [],
   "source": [
    "mailAdr = pd.read_csv(path + '\\\\output\\\\mail_address.csv')"
   ]
  },
  {
   "cell_type": "code",
   "execution_count": 46,
   "id": "c1d4d322",
   "metadata": {},
   "outputs": [
    {
     "data": {
      "text/html": [
       "<div>\n",
       "<style scoped>\n",
       "    .dataframe tbody tr th:only-of-type {\n",
       "        vertical-align: middle;\n",
       "    }\n",
       "\n",
       "    .dataframe tbody tr th {\n",
       "        vertical-align: top;\n",
       "    }\n",
       "\n",
       "    .dataframe thead th {\n",
       "        text-align: right;\n",
       "    }\n",
       "</style>\n",
       "<table border=\"1\" class=\"dataframe\">\n",
       "  <thead>\n",
       "    <tr style=\"text-align: right;\">\n",
       "      <th></th>\n",
       "      <th>KeyApplication</th>\n",
       "      <th>LegalAddress1</th>\n",
       "      <th>LegalAddress2</th>\n",
       "      <th>LegalCity</th>\n",
       "      <th>LegalState</th>\n",
       "      <th>LegalZIP</th>\n",
       "      <th>Address</th>\n",
       "    </tr>\n",
       "  </thead>\n",
       "  <tbody>\n",
       "    <tr>\n",
       "      <th>0</th>\n",
       "      <td>5419013</td>\n",
       "      <td>1071 FAIRFIELD AVE</td>\n",
       "      <td>APT 100</td>\n",
       "      <td>EUGENE</td>\n",
       "      <td>OR</td>\n",
       "      <td>97402</td>\n",
       "      <td>1071 Fairfield Ave Apt 100, Eugene, OR 97402</td>\n",
       "    </tr>\n",
       "    <tr>\n",
       "      <th>1</th>\n",
       "      <td>5419021</td>\n",
       "      <td>4060 W AMAZON DR</td>\n",
       "      <td># 180</td>\n",
       "      <td>EUGENE</td>\n",
       "      <td>OR</td>\n",
       "      <td>97405</td>\n",
       "      <td>4060 W Amazon Dr # 180, Eugene, OR 97405</td>\n",
       "    </tr>\n",
       "    <tr>\n",
       "      <th>2</th>\n",
       "      <td>5419022</td>\n",
       "      <td>15360 SE STARK ST</td>\n",
       "      <td>NaN</td>\n",
       "      <td>PORTLAND</td>\n",
       "      <td>OR</td>\n",
       "      <td>97233</td>\n",
       "      <td>15360 Se Stark St , Portland, OR 97233</td>\n",
       "    </tr>\n",
       "    <tr>\n",
       "      <th>3</th>\n",
       "      <td>5419024</td>\n",
       "      <td>2390 OAK ST APT 4</td>\n",
       "      <td>NaN</td>\n",
       "      <td>FLORENCE</td>\n",
       "      <td>OR</td>\n",
       "      <td>97439</td>\n",
       "      <td>2390 Oak St Apt 4 , Florence, OR 97439</td>\n",
       "    </tr>\n",
       "    <tr>\n",
       "      <th>4</th>\n",
       "      <td>5419040</td>\n",
       "      <td>1071 FAIRFIELD AVE</td>\n",
       "      <td>APT 100</td>\n",
       "      <td>EUGENE</td>\n",
       "      <td>OR</td>\n",
       "      <td>97402</td>\n",
       "      <td>1071 Fairfield Ave Apt 100, Eugene, OR 97402</td>\n",
       "    </tr>\n",
       "  </tbody>\n",
       "</table>\n",
       "</div>"
      ],
      "text/plain": [
       "   KeyApplication       LegalAddress1 LegalAddress2 LegalCity LegalState  \\\n",
       "0         5419013  1071 FAIRFIELD AVE       APT 100    EUGENE         OR   \n",
       "1         5419021    4060 W AMAZON DR         # 180    EUGENE         OR   \n",
       "2         5419022   15360 SE STARK ST           NaN  PORTLAND         OR   \n",
       "3         5419024   2390 OAK ST APT 4           NaN  FLORENCE         OR   \n",
       "4         5419040  1071 FAIRFIELD AVE       APT 100    EUGENE         OR   \n",
       "\n",
       "   LegalZIP                                       Address  \n",
       "0     97402  1071 Fairfield Ave Apt 100, Eugene, OR 97402  \n",
       "1     97405      4060 W Amazon Dr # 180, Eugene, OR 97405  \n",
       "2     97233        15360 Se Stark St , Portland, OR 97233  \n",
       "3     97439        2390 Oak St Apt 4 , Florence, OR 97439  \n",
       "4     97402  1071 Fairfield Ave Apt 100, Eugene, OR 97402  "
      ]
     },
     "execution_count": 46,
     "metadata": {},
     "output_type": "execute_result"
    }
   ],
   "source": [
    "legalAdr.head()"
   ]
  },
  {
   "cell_type": "code",
   "execution_count": 48,
   "id": "4f7c0e59",
   "metadata": {},
   "outputs": [
    {
     "data": {
      "text/html": [
       "<div>\n",
       "<style scoped>\n",
       "    .dataframe tbody tr th:only-of-type {\n",
       "        vertical-align: middle;\n",
       "    }\n",
       "\n",
       "    .dataframe tbody tr th {\n",
       "        vertical-align: top;\n",
       "    }\n",
       "\n",
       "    .dataframe thead th {\n",
       "        text-align: right;\n",
       "    }\n",
       "</style>\n",
       "<table border=\"1\" class=\"dataframe\">\n",
       "  <thead>\n",
       "    <tr style=\"text-align: right;\">\n",
       "      <th></th>\n",
       "      <th>KeyApplication</th>\n",
       "      <th>MailAddress1</th>\n",
       "      <th>MailAddress2</th>\n",
       "      <th>MailCity</th>\n",
       "      <th>MailState</th>\n",
       "      <th>MailZIP</th>\n",
       "      <th>Address</th>\n",
       "    </tr>\n",
       "  </thead>\n",
       "  <tbody>\n",
       "    <tr>\n",
       "      <th>0</th>\n",
       "      <td>5421430</td>\n",
       "      <td>3340 ALDER ST</td>\n",
       "      <td>NaN</td>\n",
       "      <td>EUGENE</td>\n",
       "      <td>OR</td>\n",
       "      <td>97405.0</td>\n",
       "      <td>3340 Alder St , Eugene, OR 97405</td>\n",
       "    </tr>\n",
       "    <tr>\n",
       "      <th>1</th>\n",
       "      <td>5421816</td>\n",
       "      <td>3340 ALDER ST</td>\n",
       "      <td>NaN</td>\n",
       "      <td>EUGENE</td>\n",
       "      <td>OR</td>\n",
       "      <td>97405.0</td>\n",
       "      <td>3340 Alder St , Eugene, OR 97405</td>\n",
       "    </tr>\n",
       "    <tr>\n",
       "      <th>2</th>\n",
       "      <td>5423643</td>\n",
       "      <td>3944 JASPER RD</td>\n",
       "      <td>NaN</td>\n",
       "      <td>SPRINGFIELD</td>\n",
       "      <td>OR</td>\n",
       "      <td>97478.0</td>\n",
       "      <td>3944 Jasper Rd , Springfield, OR 97478</td>\n",
       "    </tr>\n",
       "    <tr>\n",
       "      <th>3</th>\n",
       "      <td>5423801</td>\n",
       "      <td>3944 JASPER RD</td>\n",
       "      <td>NaN</td>\n",
       "      <td>SPRINGFIELD</td>\n",
       "      <td>OR</td>\n",
       "      <td>97478.0</td>\n",
       "      <td>3944 Jasper Rd , Springfield, OR 97478</td>\n",
       "    </tr>\n",
       "    <tr>\n",
       "      <th>4</th>\n",
       "      <td>5431570</td>\n",
       "      <td>3302 SE 122ND AVE</td>\n",
       "      <td>APT 2</td>\n",
       "      <td>PORTLAND</td>\n",
       "      <td>OR</td>\n",
       "      <td>97236.0</td>\n",
       "      <td>3302 Se 122Nd Ave Apt 2, Portland, OR 97236</td>\n",
       "    </tr>\n",
       "  </tbody>\n",
       "</table>\n",
       "</div>"
      ],
      "text/plain": [
       "   KeyApplication       MailAddress1 MailAddress2     MailCity MailState  \\\n",
       "0         5421430      3340 ALDER ST          NaN       EUGENE        OR   \n",
       "1         5421816      3340 ALDER ST          NaN       EUGENE        OR   \n",
       "2         5423643     3944 JASPER RD          NaN  SPRINGFIELD        OR   \n",
       "3         5423801     3944 JASPER RD          NaN  SPRINGFIELD        OR   \n",
       "4         5431570  3302 SE 122ND AVE        APT 2     PORTLAND        OR   \n",
       "\n",
       "   MailZIP                                      Address  \n",
       "0  97405.0             3340 Alder St , Eugene, OR 97405  \n",
       "1  97405.0             3340 Alder St , Eugene, OR 97405  \n",
       "2  97478.0       3944 Jasper Rd , Springfield, OR 97478  \n",
       "3  97478.0       3944 Jasper Rd , Springfield, OR 97478  \n",
       "4  97236.0  3302 Se 122Nd Ave Apt 2, Portland, OR 97236  "
      ]
     },
     "execution_count": 48,
     "metadata": {},
     "output_type": "execute_result"
    }
   ],
   "source": [
    "mailAdr.head()"
   ]
  },
  {
   "cell_type": "code",
   "execution_count": 30,
   "id": "c872de48",
   "metadata": {},
   "outputs": [
    {
     "data": {
      "text/plain": [
       "array(['2574 Sorrel Way , Eugene, OR 97401'], dtype=object)"
      ]
     },
     "execution_count": 30,
     "metadata": {},
     "output_type": "execute_result"
    }
   ],
   "source": [
    "legalAdr.loc[legalAdr.KeyApplication.isin(oa.loc[oa.ID==idcnt.loc[0,:].values[0], 'KeyApplication'].values), 'Address'].unique()"
   ]
  },
  {
   "cell_type": "code",
   "execution_count": 26,
   "id": "deb7b185",
   "metadata": {},
   "outputs": [
    {
     "data": {
      "text/plain": [
       "45"
      ]
     },
     "execution_count": 26,
     "metadata": {},
     "output_type": "execute_result"
    }
   ],
   "source": [
    "oa.loc[oa.ID==idcnt.loc[0,:].values[0], 'KeyApplication'].values"
   ]
  },
  {
   "cell_type": "code",
   "execution_count": 34,
   "id": "c4a9b9ce",
   "metadata": {},
   "outputs": [
    {
     "data": {
      "text/plain": [
       "24700"
      ]
     },
     "execution_count": 34,
     "metadata": {},
     "output_type": "execute_result"
    }
   ],
   "source": [
    "len(legalAdr.KeyApplication.unique())"
   ]
  },
  {
   "cell_type": "code",
   "execution_count": 31,
   "id": "ae0aa6a6",
   "metadata": {},
   "outputs": [
    {
     "data": {
      "text/plain": [
       "4379"
      ]
     },
     "execution_count": 31,
     "metadata": {},
     "output_type": "execute_result"
    }
   ],
   "source": [
    "4347+32"
   ]
  },
  {
   "cell_type": "code",
   "execution_count": 22,
   "id": "99df2334",
   "metadata": {
    "scrolled": true
   },
   "outputs": [
    {
     "data": {
      "text/plain": [
       "0.7109920441630134"
      ]
     },
     "execution_count": 22,
     "metadata": {},
     "output_type": "execute_result"
    }
   ],
   "source": [
    "(4347+32)/6159"
   ]
  },
  {
   "cell_type": "code",
   "execution_count": 61,
   "id": "3f930b5e",
   "metadata": {},
   "outputs": [
    {
     "data": {
      "text/plain": [
       "0.9604168286803018"
      ]
     },
     "execution_count": 61,
     "metadata": {},
     "output_type": "execute_result"
    }
   ],
   "source": [
    "24700/(len(oa.KeyApplication.unique()))"
   ]
  },
  {
   "cell_type": "code",
   "execution_count": 57,
   "id": "9e6ba23e",
   "metadata": {},
   "outputs": [],
   "source": [
    "a_w_adr = list(legalAdr.loc[legalAdr.Address.isin(loc.Address.values), 'KeyApplication'].unique()) + list(mailAdr.loc[mailAdr.Address.isin(loc.Address.values), 'KeyApplication'].unique())"
   ]
  },
  {
   "cell_type": "code",
   "execution_count": 60,
   "id": "ecee6102",
   "metadata": {},
   "outputs": [
    {
     "data": {
      "text/plain": [
       "0.9616610933976203"
      ]
     },
     "execution_count": 60,
     "metadata": {},
     "output_type": "execute_result"
    }
   ],
   "source": [
    "len(a_w_adr)/(len(oa.KeyApplication.unique()))"
   ]
  },
  {
   "cell_type": "code",
   "execution_count": 65,
   "id": "81fe94d1",
   "metadata": {},
   "outputs": [
    {
     "data": {
      "text/plain": [
       "25718"
      ]
     },
     "execution_count": 65,
     "metadata": {},
     "output_type": "execute_result"
    }
   ],
   "source": [
    "len(aqh.loc[aqh.Preference=='P7', 'KeyApplication'].unique())"
   ]
  },
  {
   "cell_type": "code",
   "execution_count": 66,
   "id": "8fb9263c",
   "metadata": {},
   "outputs": [
    {
     "data": {
      "text/plain": [
       "array(['Makayla-K-Elliott-24-611064570'], dtype=object)"
      ]
     },
     "execution_count": 66,
     "metadata": {},
     "output_type": "execute_result"
    }
   ],
   "source": [
    "oa.loc[oa.KeyApplication.isin(mailAdr.loc[mailAdr.Address == '3340 Alder St , Eugene, OR 97405', 'KeyApplication'].values), 'ID'].unique()"
   ]
  },
  {
   "cell_type": "code",
   "execution_count": 123,
   "id": "1da76d41",
   "metadata": {},
   "outputs": [],
   "source": [
    "adr2check=legalAdr.loc[legalAdr.KeyApplication.isin(am.loc[am.ID=='Preston-J-Decarlo-36-573991014', 'KeyApplication'].values), 'Address'].unique()"
   ]
  },
  {
   "cell_type": "code",
   "execution_count": 126,
   "id": "044f4130",
   "metadata": {},
   "outputs": [
    {
     "data": {
      "text/plain": [
       "array(['341 E 12Th Ave , Eugene, OR 97401',\n",
       "       '341 E 12Th Ave 573-99-1014, Eugene, OR 97401'], dtype=object)"
      ]
     },
     "execution_count": 126,
     "metadata": {},
     "output_type": "execute_result"
    }
   ],
   "source": [
    "adr2check"
   ]
  },
  {
   "cell_type": "code",
   "execution_count": 125,
   "id": "57887cac",
   "metadata": {},
   "outputs": [
    {
     "data": {
      "text/plain": [
       "47            341 E 12th Ave, Eugene, OR 97401, USA\n",
       "1134    341 E 12th Ave #1014, Eugene, OR 97401, USA\n",
       "Name: Location, dtype: object"
      ]
     },
     "execution_count": 125,
     "metadata": {},
     "output_type": "execute_result"
    }
   ],
   "source": [
    "loc.loc[loc.Address.isin(adr2check), 'Location']"
   ]
  },
  {
   "cell_type": "code",
   "execution_count": 127,
   "id": "c93593f2",
   "metadata": {},
   "outputs": [],
   "source": [
    "ID2check = []"
   ]
  },
  {
   "cell_type": "code",
   "execution_count": 130,
   "id": "4b61316d",
   "metadata": {},
   "outputs": [
    {
     "data": {
      "text/plain": [
       "'Ashley-D-Sullivan-36-556954053'"
      ]
     },
     "execution_count": 130,
     "metadata": {},
     "output_type": "execute_result"
    }
   ],
   "source": [
    "ID2check[1]"
   ]
  },
  {
   "cell_type": "code",
   "execution_count": 196,
   "id": "e15da629",
   "metadata": {},
   "outputs": [
    {
     "name": "stdout",
     "output_type": "stream",
     "text": [
      "address to check is ['311 Sweet Lane , Cottage Grove, OR 97424', '2515 Frontier Dr Apt, Eugene, OR 97401', '2515 Frontier Dr Apt 17, Eugene, OR 97401'] and google found ['311 Sweet Ln, Cottage Grove, OR 97424, USA', '2515 Frontier Dr #17, Eugene, OR 97401, USA', '2515 Frontier Dr, Eugene, OR 97401, USA']\n",
      "\n",
      "\n",
      "address to check is ['311 Sweet Lane , Cottage Grove, OR 97424', '2515 Frontier Dr Apt 17, Eugene, OR 97401', '2515 Frontier Dr Apt, Eugene, OR 97401'] and google found ['311 Sweet Ln, Cottage Grove, OR 97424, USA', '2515 Frontier Dr #17, Eugene, OR 97401, USA', '2515 Frontier Dr, Eugene, OR 97401, USA']\n",
      "\n",
      "\n",
      "address to check is ['311 Sweet Lane , Cottage Grove, OR 97424', '2515 Frontier Dr Apt 17, Eugene, OR 97401', '2515 Frontier Dr Apt, Eugene, OR 97401'] and google found ['311 Sweet Ln, Cottage Grove, OR 97424, USA', '2515 Frontier Dr #17, Eugene, OR 97401, USA', '2515 Frontier Dr, Eugene, OR 97401, USA']\n",
      "\n",
      "\n",
      "address to check is ['448 W. 12Th 3, Eugene, OR 97408', '448 W. 12Th 3, Eugene, OR 97401', '448 W 12Th Ave Apt 3, Eugene, OR 97401'] and google found ['448 W 12th Ave #3, Eugene, OR 97401, USA', '448 W 12th Ave #3, Eugene, OR 97401, USA', '448 W 12th Ave #3, Eugene, OR 97401, USA']\n",
      "\n",
      "\n"
     ]
    }
   ],
   "source": [
    "for ID in amu.ID.values:\n",
    "    adr2check=legalAdr.loc[legalAdr.KeyApplication.isin(am.loc[am.ID==ID, 'KeyApplication'].values), 'Address'].unique()\n",
    "    if len(adr2check) > 2:\n",
    "        #ID2check.append(ID)\n",
    "        ggadr = list(loc.loc[loc.Address.isin(adr2check), 'Location'].values)\n",
    "        #if ggadr[0] == ggadr[1]:\n",
    "        print(f\"address to check is {list(adr2check)} and google found {ggadr}\")\n",
    "        print(\"\\n\")"
   ]
  },
  {
   "cell_type": "code",
   "execution_count": 129,
   "id": "477f4f7d",
   "metadata": {},
   "outputs": [
    {
     "data": {
      "text/plain": [
       "127"
      ]
     },
     "execution_count": 129,
     "metadata": {},
     "output_type": "execute_result"
    }
   ],
   "source": [
    "len(ID2check)"
   ]
  },
  {
   "cell_type": "code",
   "execution_count": 133,
   "id": "6743db1f",
   "metadata": {},
   "outputs": [
    {
     "data": {
      "text/plain": [
       "['1880 Cleveland St APT 1, Eugene, OR 97405, USA']"
      ]
     },
     "execution_count": 133,
     "metadata": {},
     "output_type": "execute_result"
    }
   ],
   "source": [
    "list(loc.loc[loc.Address.isin(['1880 Cleveland St Apt 1, Eugene, OR 97405']), 'Location'].values)"
   ]
  },
  {
   "cell_type": "code",
   "execution_count": null,
   "id": "1140ebd7",
   "metadata": {},
   "outputs": [],
   "source": [
    "['4175 Wagner St 432, Eugene, OR 97402', '4175 Wagoner St Apt G432, Eugene, OR 97402']"
   ]
  },
  {
   "cell_type": "code",
   "execution_count": 68,
   "id": "85205481",
   "metadata": {},
   "outputs": [],
   "source": [
    "homeless=aqh.loc[(aqh.Preference=='P7') & (aqh.Answer=='Yes'), 'KeyApplication'].values"
   ]
  },
  {
   "cell_type": "code",
   "execution_count": 70,
   "id": "068a6a2d",
   "metadata": {},
   "outputs": [
    {
     "data": {
      "text/plain": [
       "746"
      ]
     },
     "execution_count": 70,
     "metadata": {},
     "output_type": "execute_result"
    }
   ],
   "source": [
    "len(aqh.loc[(aqh.Preference=='P5') & (aqh.Answer=='Yes') & (aqh.KeyApplication.isin(homeless)), 'KeyApplication'].unique())"
   ]
  }
 ],
 "metadata": {
  "kernelspec": {
   "display_name": "Python 3",
   "language": "python",
   "name": "python3"
  },
  "language_info": {
   "codemirror_mode": {
    "name": "ipython",
    "version": 3
   },
   "file_extension": ".py",
   "mimetype": "text/x-python",
   "name": "python",
   "nbconvert_exporter": "python",
   "pygments_lexer": "ipython3",
   "version": "3.8.8"
  }
 },
 "nbformat": 4,
 "nbformat_minor": 5
}
