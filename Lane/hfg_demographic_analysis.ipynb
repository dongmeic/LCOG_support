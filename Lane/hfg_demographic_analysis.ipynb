{
 "cells": [
  {
   "cell_type": "code",
   "execution_count": 1,
   "id": "be880195",
   "metadata": {},
   "outputs": [],
   "source": [
    "%load_ext autoreload\n",
    "%autoreload 2"
   ]
  },
  {
   "cell_type": "code",
   "execution_count": 320,
   "id": "08dba629",
   "metadata": {},
   "outputs": [],
   "source": [
    "from hfgtools import *"
   ]
  },
  {
   "cell_type": "code",
   "execution_count": 321,
   "id": "d678b72e",
   "metadata": {},
   "outputs": [],
   "source": [
    "am, am_gdf = get_am_gdf(oa=oa, am=am)"
   ]
  },
  {
   "cell_type": "code",
   "execution_count": 318,
   "id": "7c75ad68",
   "metadata": {},
   "outputs": [
    {
     "data": {
      "text/plain": [
       "Index(['KeyMember', 'KeyApplication', 'NameLast', 'NameMiddle', 'NameFirst',\n",
       "       'SSN', 'DOB', 'Sex', 'Disabled', 'Relationship', 'Citizenship', 'Race',\n",
       "       'Ethnicity', 'Age', 'ID', 'Language', 'Address', 'Longitude',\n",
       "       'Latitude', 'Location', 'geometry'],\n",
       "      dtype='object')"
      ]
     },
     "execution_count": 318,
     "metadata": {},
     "output_type": "execute_result"
    }
   ],
   "source": [
    "am_gdf.columns"
   ]
  },
  {
   "cell_type": "code",
   "execution_count": 226,
   "id": "1e9b5b71",
   "metadata": {},
   "outputs": [],
   "source": [
    "am = reorganize_am(am)"
   ]
  },
  {
   "cell_type": "code",
   "execution_count": 178,
   "id": "6b8ac3d6",
   "metadata": {
    "scrolled": false
   },
   "outputs": [
    {
     "data": {
      "text/plain": [
       "Index(['KeyMember', 'KeyApplication', 'NameLast', 'NameMiddle', 'NameFirst',\n",
       "       'SSN', 'DOB', 'Sex', 'Disabled', 'Relationship', 'Citizenship', 'Race',\n",
       "       'Ethnicity', 'Age', 'ID'],\n",
       "      dtype='object')"
      ]
     },
     "execution_count": 178,
     "metadata": {},
     "output_type": "execute_result"
    }
   ],
   "source": [
    "am.columns"
   ]
  },
  {
   "cell_type": "code",
   "execution_count": 179,
   "id": "10c35f83",
   "metadata": {},
   "outputs": [
    {
     "data": {
      "text/plain": [
       "11698"
      ]
     },
     "execution_count": 179,
     "metadata": {},
     "output_type": "execute_result"
    }
   ],
   "source": [
    "len(am.ID.unique())"
   ]
  },
  {
   "cell_type": "code",
   "execution_count": 306,
   "id": "c7406c26",
   "metadata": {},
   "outputs": [],
   "source": [
    "oa, oa_gdf = get_oa_gdf(oa)"
   ]
  },
  {
   "cell_type": "code",
   "execution_count": 309,
   "id": "61b31291",
   "metadata": {},
   "outputs": [],
   "source": [
    "test = am.merge(oa_gdf[['KeyApplication', 'Language', 'Address', 'Longitude', 'Latitude', 'Location']], on = 'KeyApplication')"
   ]
  },
  {
   "cell_type": "code",
   "execution_count": 310,
   "id": "7dae9f81",
   "metadata": {},
   "outputs": [
    {
     "data": {
      "text/html": [
       "<div>\n",
       "<style scoped>\n",
       "    .dataframe tbody tr th:only-of-type {\n",
       "        vertical-align: middle;\n",
       "    }\n",
       "\n",
       "    .dataframe tbody tr th {\n",
       "        vertical-align: top;\n",
       "    }\n",
       "\n",
       "    .dataframe thead th {\n",
       "        text-align: right;\n",
       "    }\n",
       "</style>\n",
       "<table border=\"1\" class=\"dataframe\">\n",
       "  <thead>\n",
       "    <tr style=\"text-align: right;\">\n",
       "      <th></th>\n",
       "      <th>KeyMember</th>\n",
       "      <th>KeyApplication</th>\n",
       "      <th>NameLast</th>\n",
       "      <th>NameMiddle</th>\n",
       "      <th>NameFirst</th>\n",
       "      <th>SSN</th>\n",
       "      <th>DOB</th>\n",
       "      <th>Sex</th>\n",
       "      <th>Disabled</th>\n",
       "      <th>Relationship</th>\n",
       "      <th>Citizenship</th>\n",
       "      <th>Race</th>\n",
       "      <th>Ethnicity</th>\n",
       "      <th>Language</th>\n",
       "      <th>Address</th>\n",
       "      <th>Longitude</th>\n",
       "      <th>Latitude</th>\n",
       "      <th>Location</th>\n",
       "    </tr>\n",
       "  </thead>\n",
       "  <tbody>\n",
       "    <tr>\n",
       "      <th>0</th>\n",
       "      <td>12189309</td>\n",
       "      <td>5419013</td>\n",
       "      <td>Link</td>\n",
       "      <td>R</td>\n",
       "      <td>Jennifer</td>\n",
       "      <td>600981093.0</td>\n",
       "      <td>1988-12-04</td>\n",
       "      <td>F</td>\n",
       "      <td>0</td>\n",
       "      <td>H</td>\n",
       "      <td>EC</td>\n",
       "      <td>1</td>\n",
       "      <td>0</td>\n",
       "      <td>eng</td>\n",
       "      <td>1071 Fairfield Ave Apt 100, Eugene, OR 97402</td>\n",
       "      <td>-123.1473081</td>\n",
       "      <td>44.0721588</td>\n",
       "      <td>1071 Fairfield Ave #100, Eugene, OR 97402, USA</td>\n",
       "    </tr>\n",
       "    <tr>\n",
       "      <th>1</th>\n",
       "      <td>12189310</td>\n",
       "      <td>5419013</td>\n",
       "      <td>Parris</td>\n",
       "      <td>NaN</td>\n",
       "      <td>Michael</td>\n",
       "      <td>613268586.0</td>\n",
       "      <td>1989-01-09</td>\n",
       "      <td>M</td>\n",
       "      <td>0</td>\n",
       "      <td>K</td>\n",
       "      <td>EC</td>\n",
       "      <td>1</td>\n",
       "      <td>0</td>\n",
       "      <td>eng</td>\n",
       "      <td>1071 Fairfield Ave Apt 100, Eugene, OR 97402</td>\n",
       "      <td>-123.1473081</td>\n",
       "      <td>44.0721588</td>\n",
       "      <td>1071 Fairfield Ave #100, Eugene, OR 97402, USA</td>\n",
       "    </tr>\n",
       "    <tr>\n",
       "      <th>2</th>\n",
       "      <td>12189311</td>\n",
       "      <td>5419013</td>\n",
       "      <td>Parris</td>\n",
       "      <td>T</td>\n",
       "      <td>Elliott</td>\n",
       "      <td>661994320.0</td>\n",
       "      <td>2019-08-03</td>\n",
       "      <td>M</td>\n",
       "      <td>0</td>\n",
       "      <td>D</td>\n",
       "      <td>EC</td>\n",
       "      <td>1</td>\n",
       "      <td>0</td>\n",
       "      <td>eng</td>\n",
       "      <td>1071 Fairfield Ave Apt 100, Eugene, OR 97402</td>\n",
       "      <td>-123.1473081</td>\n",
       "      <td>44.0721588</td>\n",
       "      <td>1071 Fairfield Ave #100, Eugene, OR 97402, USA</td>\n",
       "    </tr>\n",
       "    <tr>\n",
       "      <th>3</th>\n",
       "      <td>12189320</td>\n",
       "      <td>5419021</td>\n",
       "      <td>Adair</td>\n",
       "      <td>NaN</td>\n",
       "      <td>Robert</td>\n",
       "      <td>536393627.0</td>\n",
       "      <td>1998-01-27</td>\n",
       "      <td>M</td>\n",
       "      <td>0</td>\n",
       "      <td>H</td>\n",
       "      <td>EC</td>\n",
       "      <td>1</td>\n",
       "      <td>1</td>\n",
       "      <td>eng</td>\n",
       "      <td>4060 W Amazon Dr # 180, Eugene, OR 97405</td>\n",
       "      <td>-123.0774893</td>\n",
       "      <td>44.0110251</td>\n",
       "      <td>4060 W Amazon Dr #180, Eugene, OR 97405, USA</td>\n",
       "    </tr>\n",
       "    <tr>\n",
       "      <th>4</th>\n",
       "      <td>12189321</td>\n",
       "      <td>5419021</td>\n",
       "      <td>Hall</td>\n",
       "      <td>NaN</td>\n",
       "      <td>Bethany</td>\n",
       "      <td>543518836.0</td>\n",
       "      <td>1997-09-22</td>\n",
       "      <td>F</td>\n",
       "      <td>0</td>\n",
       "      <td>S</td>\n",
       "      <td>EC</td>\n",
       "      <td>1</td>\n",
       "      <td>0</td>\n",
       "      <td>eng</td>\n",
       "      <td>4060 W Amazon Dr # 180, Eugene, OR 97405</td>\n",
       "      <td>-123.0774893</td>\n",
       "      <td>44.0110251</td>\n",
       "      <td>4060 W Amazon Dr #180, Eugene, OR 97405, USA</td>\n",
       "    </tr>\n",
       "  </tbody>\n",
       "</table>\n",
       "</div>"
      ],
      "text/plain": [
       "   KeyMember  KeyApplication NameLast NameMiddle NameFirst          SSN  \\\n",
       "0   12189309         5419013     Link          R  Jennifer  600981093.0   \n",
       "1   12189310         5419013   Parris        NaN   Michael  613268586.0   \n",
       "2   12189311         5419013   Parris          T   Elliott  661994320.0   \n",
       "3   12189320         5419021    Adair        NaN    Robert  536393627.0   \n",
       "4   12189321         5419021     Hall        NaN   Bethany  543518836.0   \n",
       "\n",
       "          DOB Sex  Disabled Relationship Citizenship Race  Ethnicity Language  \\\n",
       "0  1988-12-04   F         0            H          EC    1          0      eng   \n",
       "1  1989-01-09   M         0            K          EC    1          0      eng   \n",
       "2  2019-08-03   M         0            D          EC    1          0      eng   \n",
       "3  1998-01-27   M         0            H          EC    1          1      eng   \n",
       "4  1997-09-22   F         0            S          EC    1          0      eng   \n",
       "\n",
       "                                        Address     Longitude    Latitude  \\\n",
       "0  1071 Fairfield Ave Apt 100, Eugene, OR 97402  -123.1473081  44.0721588   \n",
       "1  1071 Fairfield Ave Apt 100, Eugene, OR 97402  -123.1473081  44.0721588   \n",
       "2  1071 Fairfield Ave Apt 100, Eugene, OR 97402  -123.1473081  44.0721588   \n",
       "3      4060 W Amazon Dr # 180, Eugene, OR 97405  -123.0774893  44.0110251   \n",
       "4      4060 W Amazon Dr # 180, Eugene, OR 97405  -123.0774893  44.0110251   \n",
       "\n",
       "                                         Location  \n",
       "0  1071 Fairfield Ave #100, Eugene, OR 97402, USA  \n",
       "1  1071 Fairfield Ave #100, Eugene, OR 97402, USA  \n",
       "2  1071 Fairfield Ave #100, Eugene, OR 97402, USA  \n",
       "3    4060 W Amazon Dr #180, Eugene, OR 97405, USA  \n",
       "4    4060 W Amazon Dr #180, Eugene, OR 97405, USA  "
      ]
     },
     "execution_count": 310,
     "metadata": {},
     "output_type": "execute_result"
    }
   ],
   "source": [
    "test.head()"
   ]
  },
  {
   "cell_type": "code",
   "execution_count": 261,
   "id": "e9619f8b",
   "metadata": {},
   "outputs": [
    {
     "data": {
      "text/plain": [
       "(25718, 59)"
      ]
     },
     "execution_count": 261,
     "metadata": {},
     "output_type": "execute_result"
    }
   ],
   "source": [
    "oa.shape"
   ]
  },
  {
   "cell_type": "code",
   "execution_count": 262,
   "id": "c2fbd262",
   "metadata": {},
   "outputs": [
    {
     "data": {
      "text/plain": [
       "25718"
      ]
     },
     "execution_count": 262,
     "metadata": {},
     "output_type": "execute_result"
    }
   ],
   "source": [
    "len(oa.KeyApplication.unique())"
   ]
  },
  {
   "cell_type": "code",
   "execution_count": 180,
   "id": "e5f534b2",
   "metadata": {},
   "outputs": [
    {
     "data": {
      "text/plain": [
       "6159"
      ]
     },
     "execution_count": 180,
     "metadata": {},
     "output_type": "execute_result"
    }
   ],
   "source": [
    "len(oa.ID.unique())"
   ]
  },
  {
   "cell_type": "code",
   "execution_count": 20,
   "id": "6c07fb7a",
   "metadata": {},
   "outputs": [
    {
     "data": {
      "text/html": [
       "<div>\n",
       "<style scoped>\n",
       "    .dataframe tbody tr th:only-of-type {\n",
       "        vertical-align: middle;\n",
       "    }\n",
       "\n",
       "    .dataframe tbody tr th {\n",
       "        vertical-align: top;\n",
       "    }\n",
       "\n",
       "    .dataframe thead th {\n",
       "        text-align: right;\n",
       "    }\n",
       "</style>\n",
       "<table border=\"1\" class=\"dataframe\">\n",
       "  <thead>\n",
       "    <tr style=\"text-align: right;\">\n",
       "      <th></th>\n",
       "      <th>KeyMember</th>\n",
       "      <th>KeyApplication</th>\n",
       "      <th>NameLast</th>\n",
       "      <th>NameMiddle</th>\n",
       "      <th>NameFirst</th>\n",
       "      <th>SSN</th>\n",
       "      <th>DOB</th>\n",
       "      <th>Sex</th>\n",
       "      <th>Disabled</th>\n",
       "      <th>Relationship</th>\n",
       "      <th>Citizenship</th>\n",
       "      <th>Race</th>\n",
       "      <th>Ethnicity</th>\n",
       "      <th>Age</th>\n",
       "      <th>ID</th>\n",
       "    </tr>\n",
       "  </thead>\n",
       "  <tbody>\n",
       "    <tr>\n",
       "      <th>3</th>\n",
       "      <td>12189320</td>\n",
       "      <td>5419021</td>\n",
       "      <td>Adair</td>\n",
       "      <td></td>\n",
       "      <td>Robert</td>\n",
       "      <td>536393627.0</td>\n",
       "      <td>1998-01-27</td>\n",
       "      <td>M</td>\n",
       "      <td>0</td>\n",
       "      <td>H</td>\n",
       "      <td>EC</td>\n",
       "      <td>1</td>\n",
       "      <td>1</td>\n",
       "      <td>25</td>\n",
       "      <td>Robert--Adair-25-536393627</td>\n",
       "    </tr>\n",
       "    <tr>\n",
       "      <th>4</th>\n",
       "      <td>12189321</td>\n",
       "      <td>5419021</td>\n",
       "      <td>Hall</td>\n",
       "      <td></td>\n",
       "      <td>Bethany</td>\n",
       "      <td>543518836.0</td>\n",
       "      <td>1997-09-22</td>\n",
       "      <td>F</td>\n",
       "      <td>0</td>\n",
       "      <td>S</td>\n",
       "      <td>EC</td>\n",
       "      <td>1</td>\n",
       "      <td>0</td>\n",
       "      <td>25</td>\n",
       "      <td>Bethany--Hall-25-543518836</td>\n",
       "    </tr>\n",
       "    <tr>\n",
       "      <th>5</th>\n",
       "      <td>12189322</td>\n",
       "      <td>5419021</td>\n",
       "      <td>Adair</td>\n",
       "      <td></td>\n",
       "      <td>Octavia</td>\n",
       "      <td>6971116.0</td>\n",
       "      <td>2020-02-04</td>\n",
       "      <td>F</td>\n",
       "      <td>0</td>\n",
       "      <td>Y</td>\n",
       "      <td>EC</td>\n",
       "      <td>1</td>\n",
       "      <td>1</td>\n",
       "      <td>3</td>\n",
       "      <td>Octavia--Adair-3-6971116</td>\n",
       "    </tr>\n",
       "  </tbody>\n",
       "</table>\n",
       "</div>"
      ],
      "text/plain": [
       "   KeyMember  KeyApplication NameLast NameMiddle NameFirst          SSN  \\\n",
       "3   12189320         5419021    Adair               Robert  536393627.0   \n",
       "4   12189321         5419021     Hall              Bethany  543518836.0   \n",
       "5   12189322         5419021    Adair              Octavia    6971116.0   \n",
       "\n",
       "          DOB Sex  Disabled Relationship Citizenship Race  Ethnicity  Age  \\\n",
       "3  1998-01-27   M         0            H          EC    1          1   25   \n",
       "4  1997-09-22   F         0            S          EC    1          0   25   \n",
       "5  2020-02-04   F         0            Y          EC    1          1    3   \n",
       "\n",
       "                           ID  \n",
       "3  Robert--Adair-25-536393627  \n",
       "4  Bethany--Hall-25-543518836  \n",
       "5    Octavia--Adair-3-6971116  "
      ]
     },
     "execution_count": 20,
     "metadata": {},
     "output_type": "execute_result"
    }
   ],
   "source": [
    "am.loc[am.KeyApplication==oa.KeyApplication.unique()[1],]"
   ]
  },
  {
   "cell_type": "code",
   "execution_count": 99,
   "id": "94f7cdb4",
   "metadata": {},
   "outputs": [
    {
     "data": {
      "text/html": [
       "<div>\n",
       "<style scoped>\n",
       "    .dataframe tbody tr th:only-of-type {\n",
       "        vertical-align: middle;\n",
       "    }\n",
       "\n",
       "    .dataframe tbody tr th {\n",
       "        vertical-align: top;\n",
       "    }\n",
       "\n",
       "    .dataframe thead th {\n",
       "        text-align: right;\n",
       "    }\n",
       "</style>\n",
       "<table border=\"1\" class=\"dataframe\">\n",
       "  <thead>\n",
       "    <tr style=\"text-align: right;\">\n",
       "      <th></th>\n",
       "      <th>diabled</th>\n",
       "      <th>counts</th>\n",
       "    </tr>\n",
       "  </thead>\n",
       "  <tbody>\n",
       "    <tr>\n",
       "      <th>0</th>\n",
       "      <td>0</td>\n",
       "      <td>34796</td>\n",
       "    </tr>\n",
       "    <tr>\n",
       "      <th>1</th>\n",
       "      <td>1</td>\n",
       "      <td>14581</td>\n",
       "    </tr>\n",
       "  </tbody>\n",
       "</table>\n",
       "</div>"
      ],
      "text/plain": [
       "   diabled  counts\n",
       "0        0   34796\n",
       "1        1   14581"
      ]
     },
     "execution_count": 99,
     "metadata": {},
     "output_type": "execute_result"
    }
   ],
   "source": [
    "am.Disabled.value_counts().rename_axis('diabled').reset_index(name='counts')"
   ]
  },
  {
   "cell_type": "code",
   "execution_count": 111,
   "id": "f2c54d68",
   "metadata": {},
   "outputs": [
    {
     "data": {
      "text/plain": [
       "11698"
      ]
     },
     "execution_count": 111,
     "metadata": {},
     "output_type": "execute_result"
    }
   ],
   "source": [
    "len(am.ID.unique())"
   ]
  },
  {
   "cell_type": "code",
   "execution_count": 109,
   "id": "d7138922",
   "metadata": {},
   "outputs": [],
   "source": [
    "amu = am.drop_duplicates(subset=['ID'])"
   ]
  },
  {
   "cell_type": "code",
   "execution_count": 110,
   "id": "2f2353ee",
   "metadata": {},
   "outputs": [
    {
     "data": {
      "text/plain": [
       "(11698, 15)"
      ]
     },
     "execution_count": 110,
     "metadata": {},
     "output_type": "execute_result"
    }
   ],
   "source": [
    "amu.shape"
   ]
  },
  {
   "cell_type": "code",
   "execution_count": 105,
   "id": "81316c80",
   "metadata": {},
   "outputs": [
    {
     "data": {
      "text/html": [
       "<div>\n",
       "<style scoped>\n",
       "    .dataframe tbody tr th:only-of-type {\n",
       "        vertical-align: middle;\n",
       "    }\n",
       "\n",
       "    .dataframe tbody tr th {\n",
       "        vertical-align: top;\n",
       "    }\n",
       "\n",
       "    .dataframe thead th {\n",
       "        text-align: right;\n",
       "    }\n",
       "</style>\n",
       "<table border=\"1\" class=\"dataframe\">\n",
       "  <thead>\n",
       "    <tr style=\"text-align: right;\">\n",
       "      <th></th>\n",
       "      <th>id</th>\n",
       "      <th>counts</th>\n",
       "    </tr>\n",
       "  </thead>\n",
       "  <tbody>\n",
       "    <tr>\n",
       "      <th>0</th>\n",
       "      <td>Preston-J-Decarlo-36-573991014</td>\n",
       "      <td>53</td>\n",
       "    </tr>\n",
       "    <tr>\n",
       "      <th>1</th>\n",
       "      <td>Tyesha-R-Brady-19-540674261</td>\n",
       "      <td>45</td>\n",
       "    </tr>\n",
       "    <tr>\n",
       "      <th>2</th>\n",
       "      <td>Ngoc--Crawford-77-557295080</td>\n",
       "      <td>45</td>\n",
       "    </tr>\n",
       "    <tr>\n",
       "      <th>3</th>\n",
       "      <td>Dayna-E-Mitchell-64-573110017</td>\n",
       "      <td>44</td>\n",
       "    </tr>\n",
       "    <tr>\n",
       "      <th>4</th>\n",
       "      <td>Devin-A-Brady-28-541456919</td>\n",
       "      <td>42</td>\n",
       "    </tr>\n",
       "    <tr>\n",
       "      <th>...</th>\n",
       "      <td>...</td>\n",
       "      <td>...</td>\n",
       "    </tr>\n",
       "    <tr>\n",
       "      <th>11693</th>\n",
       "      <td>Dustin-T-Hill-37-429771305</td>\n",
       "      <td>1</td>\n",
       "    </tr>\n",
       "    <tr>\n",
       "      <th>11694</th>\n",
       "      <td>anthony--youngblood-41-371907067</td>\n",
       "      <td>1</td>\n",
       "    </tr>\n",
       "    <tr>\n",
       "      <th>11695</th>\n",
       "      <td>Brett-E-Lemas-62-558117910</td>\n",
       "      <td>1</td>\n",
       "    </tr>\n",
       "    <tr>\n",
       "      <th>11696</th>\n",
       "      <td>Kristie-M-Jones-33-542338146</td>\n",
       "      <td>1</td>\n",
       "    </tr>\n",
       "    <tr>\n",
       "      <th>11697</th>\n",
       "      <td>Julia-m-Taylor-41-353784252</td>\n",
       "      <td>1</td>\n",
       "    </tr>\n",
       "  </tbody>\n",
       "</table>\n",
       "<p>11698 rows × 2 columns</p>\n",
       "</div>"
      ],
      "text/plain": [
       "                                     id  counts\n",
       "0        Preston-J-Decarlo-36-573991014      53\n",
       "1           Tyesha-R-Brady-19-540674261      45\n",
       "2           Ngoc--Crawford-77-557295080      45\n",
       "3         Dayna-E-Mitchell-64-573110017      44\n",
       "4            Devin-A-Brady-28-541456919      42\n",
       "...                                 ...     ...\n",
       "11693        Dustin-T-Hill-37-429771305       1\n",
       "11694  anthony--youngblood-41-371907067       1\n",
       "11695        Brett-E-Lemas-62-558117910       1\n",
       "11696      Kristie-M-Jones-33-542338146       1\n",
       "11697       Julia-m-Taylor-41-353784252       1\n",
       "\n",
       "[11698 rows x 2 columns]"
      ]
     },
     "execution_count": 105,
     "metadata": {},
     "output_type": "execute_result"
    }
   ],
   "source": [
    "am.ID.value_counts().rename_axis('id').reset_index(name='counts')"
   ]
  },
  {
   "cell_type": "code",
   "execution_count": 100,
   "id": "37c3ef4c",
   "metadata": {
    "scrolled": true
   },
   "outputs": [
    {
     "data": {
      "text/plain": [
       "0.29529943090912775"
      ]
     },
     "execution_count": 100,
     "metadata": {},
     "output_type": "execute_result"
    }
   ],
   "source": [
    "14581/am.shape[0]"
   ]
  },
  {
   "cell_type": "code",
   "execution_count": 112,
   "id": "d9ea8537",
   "metadata": {},
   "outputs": [
    {
     "data": {
      "text/plain": [
       "0.3287741494272525"
      ]
     },
     "execution_count": 112,
     "metadata": {},
     "output_type": "execute_result"
    }
   ],
   "source": [
    "amu[amu.Age < 18].shape[0]/amu.shape[0]"
   ]
  },
  {
   "cell_type": "code",
   "execution_count": 119,
   "id": "68ac8141",
   "metadata": {},
   "outputs": [
    {
     "data": {
      "text/plain": [
       "0.2853479227218328"
      ]
     },
     "execution_count": 119,
     "metadata": {},
     "output_type": "execute_result"
    }
   ],
   "source": [
    "amu[amu.Disabled == 1].shape[0]/amu.shape[0]"
   ]
  },
  {
   "cell_type": "code",
   "execution_count": 113,
   "id": "87efe6ff",
   "metadata": {
    "scrolled": true
   },
   "outputs": [
    {
     "data": {
      "text/html": [
       "<div>\n",
       "<style scoped>\n",
       "    .dataframe tbody tr th:only-of-type {\n",
       "        vertical-align: middle;\n",
       "    }\n",
       "\n",
       "    .dataframe tbody tr th {\n",
       "        vertical-align: top;\n",
       "    }\n",
       "\n",
       "    .dataframe thead th {\n",
       "        text-align: right;\n",
       "    }\n",
       "</style>\n",
       "<table border=\"1\" class=\"dataframe\">\n",
       "  <thead>\n",
       "    <tr style=\"text-align: right;\">\n",
       "      <th></th>\n",
       "      <th>citizenship</th>\n",
       "      <th>counts</th>\n",
       "    </tr>\n",
       "  </thead>\n",
       "  <tbody>\n",
       "    <tr>\n",
       "      <th>0</th>\n",
       "      <td>EC</td>\n",
       "      <td>11378</td>\n",
       "    </tr>\n",
       "    <tr>\n",
       "      <th>1</th>\n",
       "      <td>EN</td>\n",
       "      <td>223</td>\n",
       "    </tr>\n",
       "    <tr>\n",
       "      <th>2</th>\n",
       "      <td>IN</td>\n",
       "      <td>57</td>\n",
       "    </tr>\n",
       "    <tr>\n",
       "      <th>3</th>\n",
       "      <td>PV</td>\n",
       "      <td>31</td>\n",
       "    </tr>\n",
       "    <tr>\n",
       "      <th>4</th>\n",
       "      <td>ND</td>\n",
       "      <td>3</td>\n",
       "    </tr>\n",
       "    <tr>\n",
       "      <th>5</th>\n",
       "      <td>IC</td>\n",
       "      <td>3</td>\n",
       "    </tr>\n",
       "  </tbody>\n",
       "</table>\n",
       "</div>"
      ],
      "text/plain": [
       "  citizenship  counts\n",
       "0          EC   11378\n",
       "1          EN     223\n",
       "2          IN      57\n",
       "3          PV      31\n",
       "4          ND       3\n",
       "5          IC       3"
      ]
     },
     "execution_count": 113,
     "metadata": {},
     "output_type": "execute_result"
    }
   ],
   "source": [
    "amu.Citizenship.value_counts().rename_axis('citizenship').reset_index(name='counts')"
   ]
  },
  {
   "cell_type": "code",
   "execution_count": 114,
   "id": "a90310d7",
   "metadata": {},
   "outputs": [
    {
     "data": {
      "text/plain": [
       "0.02735510343648484"
      ]
     },
     "execution_count": 114,
     "metadata": {},
     "output_type": "execute_result"
    }
   ],
   "source": [
    "1 - 11378/amu.shape[0]"
   ]
  },
  {
   "cell_type": "code",
   "execution_count": 181,
   "id": "5a5e9cd9",
   "metadata": {},
   "outputs": [
    {
     "data": {
      "text/html": [
       "<div>\n",
       "<style scoped>\n",
       "    .dataframe tbody tr th:only-of-type {\n",
       "        vertical-align: middle;\n",
       "    }\n",
       "\n",
       "    .dataframe tbody tr th {\n",
       "        vertical-align: top;\n",
       "    }\n",
       "\n",
       "    .dataframe thead th {\n",
       "        text-align: right;\n",
       "    }\n",
       "</style>\n",
       "<table border=\"1\" class=\"dataframe\">\n",
       "  <thead>\n",
       "    <tr style=\"text-align: right;\">\n",
       "      <th></th>\n",
       "      <th>race</th>\n",
       "      <th>counts</th>\n",
       "    </tr>\n",
       "  </thead>\n",
       "  <tbody>\n",
       "    <tr>\n",
       "      <th>0</th>\n",
       "      <td>1</td>\n",
       "      <td>8243</td>\n",
       "    </tr>\n",
       "    <tr>\n",
       "      <th>1</th>\n",
       "      <td>2</td>\n",
       "      <td>1053</td>\n",
       "    </tr>\n",
       "    <tr>\n",
       "      <th>2</th>\n",
       "      <td>6</td>\n",
       "      <td>753</td>\n",
       "    </tr>\n",
       "    <tr>\n",
       "      <th>3</th>\n",
       "      <td>3</td>\n",
       "      <td>337</td>\n",
       "    </tr>\n",
       "    <tr>\n",
       "      <th>4</th>\n",
       "      <td>1, 3</td>\n",
       "      <td>197</td>\n",
       "    </tr>\n",
       "    <tr>\n",
       "      <th>...</th>\n",
       "      <td>...</td>\n",
       "      <td>...</td>\n",
       "    </tr>\n",
       "    <tr>\n",
       "      <th>85</th>\n",
       "      <td>5, 1, 2</td>\n",
       "      <td>1</td>\n",
       "    </tr>\n",
       "    <tr>\n",
       "      <th>86</th>\n",
       "      <td>3, 5, 6, 1</td>\n",
       "      <td>1</td>\n",
       "    </tr>\n",
       "    <tr>\n",
       "      <th>87</th>\n",
       "      <td>3, 2, 5</td>\n",
       "      <td>1</td>\n",
       "    </tr>\n",
       "    <tr>\n",
       "      <th>88</th>\n",
       "      <td>5, 6</td>\n",
       "      <td>1</td>\n",
       "    </tr>\n",
       "    <tr>\n",
       "      <th>89</th>\n",
       "      <td>1, 4, 2</td>\n",
       "      <td>1</td>\n",
       "    </tr>\n",
       "  </tbody>\n",
       "</table>\n",
       "<p>90 rows × 2 columns</p>\n",
       "</div>"
      ],
      "text/plain": [
       "          race  counts\n",
       "0            1    8243\n",
       "1            2    1053\n",
       "2            6     753\n",
       "3            3     337\n",
       "4         1, 3     197\n",
       "..         ...     ...\n",
       "85     5, 1, 2       1\n",
       "86  3, 5, 6, 1       1\n",
       "87     3, 2, 5       1\n",
       "88        5, 6       1\n",
       "89     1, 4, 2       1\n",
       "\n",
       "[90 rows x 2 columns]"
      ]
     },
     "execution_count": 181,
     "metadata": {},
     "output_type": "execute_result"
    }
   ],
   "source": [
    "amu.Race.value_counts().rename_axis('race').reset_index(name='counts')"
   ]
  },
  {
   "cell_type": "code",
   "execution_count": 118,
   "id": "47aeab0f",
   "metadata": {},
   "outputs": [
    {
     "data": {
      "text/plain": [
       "0.2953496324157976"
      ]
     },
     "execution_count": 118,
     "metadata": {},
     "output_type": "execute_result"
    }
   ],
   "source": [
    "1 - 8243/amu.shape[0]"
   ]
  },
  {
   "cell_type": "code",
   "execution_count": 116,
   "id": "f944a708",
   "metadata": {},
   "outputs": [
    {
     "data": {
      "text/plain": [
       "0.30477568740955135"
      ]
     },
     "execution_count": 116,
     "metadata": {},
     "output_type": "execute_result"
    }
   ],
   "source": [
    "1053/(amu.shape[0]-8243)"
   ]
  },
  {
   "cell_type": "code",
   "execution_count": 78,
   "id": "e88f1da7",
   "metadata": {
    "scrolled": true
   },
   "outputs": [
    {
     "data": {
      "text/html": [
       "<div>\n",
       "<style scoped>\n",
       "    .dataframe tbody tr th:only-of-type {\n",
       "        vertical-align: middle;\n",
       "    }\n",
       "\n",
       "    .dataframe tbody tr th {\n",
       "        vertical-align: top;\n",
       "    }\n",
       "\n",
       "    .dataframe thead th {\n",
       "        text-align: right;\n",
       "    }\n",
       "</style>\n",
       "<table border=\"1\" class=\"dataframe\">\n",
       "  <thead>\n",
       "    <tr style=\"text-align: right;\">\n",
       "      <th></th>\n",
       "      <th>ethnicity</th>\n",
       "      <th>counts</th>\n",
       "    </tr>\n",
       "  </thead>\n",
       "  <tbody>\n",
       "    <tr>\n",
       "      <th>0</th>\n",
       "      <td>0</td>\n",
       "      <td>42013</td>\n",
       "    </tr>\n",
       "    <tr>\n",
       "      <th>1</th>\n",
       "      <td>1</td>\n",
       "      <td>7364</td>\n",
       "    </tr>\n",
       "  </tbody>\n",
       "</table>\n",
       "</div>"
      ],
      "text/plain": [
       "   ethnicity  counts\n",
       "0          0   42013\n",
       "1          1    7364"
      ]
     },
     "execution_count": 78,
     "metadata": {},
     "output_type": "execute_result"
    }
   ],
   "source": [
    "am.Ethnicity.value_counts().rename_axis('ethnicity').reset_index(name='counts')"
   ]
  },
  {
   "cell_type": "code",
   "execution_count": 79,
   "id": "df8ffb70",
   "metadata": {},
   "outputs": [
    {
     "data": {
      "text/html": [
       "<div>\n",
       "<style scoped>\n",
       "    .dataframe tbody tr th:only-of-type {\n",
       "        vertical-align: middle;\n",
       "    }\n",
       "\n",
       "    .dataframe tbody tr th {\n",
       "        vertical-align: top;\n",
       "    }\n",
       "\n",
       "    .dataframe thead th {\n",
       "        text-align: right;\n",
       "    }\n",
       "</style>\n",
       "<table border=\"1\" class=\"dataframe\">\n",
       "  <thead>\n",
       "    <tr style=\"text-align: right;\">\n",
       "      <th></th>\n",
       "      <th>age</th>\n",
       "      <th>counts</th>\n",
       "    </tr>\n",
       "  </thead>\n",
       "  <tbody>\n",
       "    <tr>\n",
       "      <th>0</th>\n",
       "      <td>1</td>\n",
       "      <td>1296</td>\n",
       "    </tr>\n",
       "    <tr>\n",
       "      <th>1</th>\n",
       "      <td>2</td>\n",
       "      <td>1290</td>\n",
       "    </tr>\n",
       "    <tr>\n",
       "      <th>2</th>\n",
       "      <td>4</td>\n",
       "      <td>1219</td>\n",
       "    </tr>\n",
       "    <tr>\n",
       "      <th>3</th>\n",
       "      <td>6</td>\n",
       "      <td>1151</td>\n",
       "    </tr>\n",
       "    <tr>\n",
       "      <th>4</th>\n",
       "      <td>3</td>\n",
       "      <td>1141</td>\n",
       "    </tr>\n",
       "    <tr>\n",
       "      <th>...</th>\n",
       "      <td>...</td>\n",
       "      <td>...</td>\n",
       "    </tr>\n",
       "    <tr>\n",
       "      <th>86</th>\n",
       "      <td>88</td>\n",
       "      <td>9</td>\n",
       "    </tr>\n",
       "    <tr>\n",
       "      <th>87</th>\n",
       "      <td>87</td>\n",
       "      <td>6</td>\n",
       "    </tr>\n",
       "    <tr>\n",
       "      <th>88</th>\n",
       "      <td>85</td>\n",
       "      <td>4</td>\n",
       "    </tr>\n",
       "    <tr>\n",
       "      <th>89</th>\n",
       "      <td>94</td>\n",
       "      <td>3</td>\n",
       "    </tr>\n",
       "    <tr>\n",
       "      <th>90</th>\n",
       "      <td>93</td>\n",
       "      <td>1</td>\n",
       "    </tr>\n",
       "  </tbody>\n",
       "</table>\n",
       "<p>91 rows × 2 columns</p>\n",
       "</div>"
      ],
      "text/plain": [
       "    age  counts\n",
       "0     1    1296\n",
       "1     2    1290\n",
       "2     4    1219\n",
       "3     6    1151\n",
       "4     3    1141\n",
       "..  ...     ...\n",
       "86   88       9\n",
       "87   87       6\n",
       "88   85       4\n",
       "89   94       3\n",
       "90   93       1\n",
       "\n",
       "[91 rows x 2 columns]"
      ]
     },
     "execution_count": 79,
     "metadata": {},
     "output_type": "execute_result"
    }
   ],
   "source": [
    "am.Age.value_counts().rename_axis('age').reset_index(name='counts')"
   ]
  },
  {
   "cell_type": "code",
   "execution_count": 322,
   "id": "258536e4",
   "metadata": {},
   "outputs": [
    {
     "data": {
      "text/html": [
       "<div>\n",
       "<style scoped>\n",
       "    .dataframe tbody tr th:only-of-type {\n",
       "        vertical-align: middle;\n",
       "    }\n",
       "\n",
       "    .dataframe tbody tr th {\n",
       "        vertical-align: top;\n",
       "    }\n",
       "\n",
       "    .dataframe thead th {\n",
       "        text-align: right;\n",
       "    }\n",
       "</style>\n",
       "<table border=\"1\" class=\"dataframe\">\n",
       "  <thead>\n",
       "    <tr style=\"text-align: right;\">\n",
       "      <th></th>\n",
       "      <th>city</th>\n",
       "      <th>counts</th>\n",
       "    </tr>\n",
       "  </thead>\n",
       "  <tbody>\n",
       "    <tr>\n",
       "      <th>0</th>\n",
       "      <td>Eugene</td>\n",
       "      <td>14311</td>\n",
       "    </tr>\n",
       "    <tr>\n",
       "      <th>1</th>\n",
       "      <td>Springfield</td>\n",
       "      <td>5191</td>\n",
       "    </tr>\n",
       "    <tr>\n",
       "      <th>2</th>\n",
       "      <td>Cottage Grove</td>\n",
       "      <td>703</td>\n",
       "    </tr>\n",
       "    <tr>\n",
       "      <th>3</th>\n",
       "      <td>Junction City</td>\n",
       "      <td>513</td>\n",
       "    </tr>\n",
       "    <tr>\n",
       "      <th>4</th>\n",
       "      <td>Florence</td>\n",
       "      <td>439</td>\n",
       "    </tr>\n",
       "    <tr>\n",
       "      <th>...</th>\n",
       "      <td>...</td>\n",
       "      <td>...</td>\n",
       "    </tr>\n",
       "    <tr>\n",
       "      <th>405</th>\n",
       "      <td>Rialto</td>\n",
       "      <td>1</td>\n",
       "    </tr>\n",
       "    <tr>\n",
       "      <th>406</th>\n",
       "      <td>Tangent</td>\n",
       "      <td>1</td>\n",
       "    </tr>\n",
       "    <tr>\n",
       "      <th>407</th>\n",
       "      <td>Grenada</td>\n",
       "      <td>1</td>\n",
       "    </tr>\n",
       "    <tr>\n",
       "      <th>408</th>\n",
       "      <td>Lilburn</td>\n",
       "      <td>1</td>\n",
       "    </tr>\n",
       "    <tr>\n",
       "      <th>409</th>\n",
       "      <td>Sn Bernrdno</td>\n",
       "      <td>1</td>\n",
       "    </tr>\n",
       "  </tbody>\n",
       "</table>\n",
       "<p>410 rows × 2 columns</p>\n",
       "</div>"
      ],
      "text/plain": [
       "              city  counts\n",
       "0           Eugene   14311\n",
       "1      Springfield    5191\n",
       "2    Cottage Grove     703\n",
       "3    Junction City     513\n",
       "4         Florence     439\n",
       "..             ...     ...\n",
       "405         Rialto       1\n",
       "406        Tangent       1\n",
       "407        Grenada       1\n",
       "408        Lilburn       1\n",
       "409    Sn Bernrdno       1\n",
       "\n",
       "[410 rows x 2 columns]"
      ]
     },
     "execution_count": 322,
     "metadata": {},
     "output_type": "execute_result"
    }
   ],
   "source": [
    "oa.LegalCity.value_counts().rename_axis('city').reset_index(name='counts')"
   ]
  },
  {
   "cell_type": "code",
   "execution_count": 16,
   "id": "4a266f76",
   "metadata": {},
   "outputs": [],
   "source": [
    "idcnt = oa.ID.value_counts().rename_axis('id').reset_index(name='counts')"
   ]
  },
  {
   "cell_type": "code",
   "execution_count": 17,
   "id": "9596cf35",
   "metadata": {},
   "outputs": [],
   "source": [
    "idcnt.to_csv(path + '\\\\output\\\\id_count.csv', index=False)"
   ]
  },
  {
   "cell_type": "code",
   "execution_count": 18,
   "id": "f785b432",
   "metadata": {},
   "outputs": [
    {
     "data": {
      "text/plain": [
       "(6159, 2)"
      ]
     },
     "execution_count": 18,
     "metadata": {},
     "output_type": "execute_result"
    }
   ],
   "source": [
    "idcnt.shape"
   ]
  },
  {
   "cell_type": "code",
   "execution_count": 63,
   "id": "60e4c579",
   "metadata": {},
   "outputs": [
    {
     "data": {
      "text/plain": [
       "array([45, 39, 34, 33, 32, 31, 30, 29, 28, 27, 26, 25, 24, 23, 22, 21, 20,\n",
       "       19, 18, 17, 16, 15, 14, 13, 12, 11, 10,  9,  8,  7,  6,  5,  4,  3,\n",
       "        2,  1], dtype=int64)"
      ]
     },
     "execution_count": 63,
     "metadata": {},
     "output_type": "execute_result"
    }
   ],
   "source": [
    "idcnt.counts.unique()"
   ]
  },
  {
   "cell_type": "code",
   "execution_count": 62,
   "id": "50af9c54",
   "metadata": {},
   "outputs": [
    {
     "data": {
      "text/plain": [
       "0.5101477512583211"
      ]
     },
     "execution_count": 62,
     "metadata": {},
     "output_type": "execute_result"
    }
   ],
   "source": [
    "idcnt[idcnt.counts>1].shape[0]/idcnt.shape[0]"
   ]
  },
  {
   "cell_type": "code",
   "execution_count": 27,
   "id": "d5617884",
   "metadata": {},
   "outputs": [],
   "source": [
    "legalAdr = pd.read_csv(path + '\\\\output\\\\legal_address.csv')"
   ]
  },
  {
   "cell_type": "code",
   "execution_count": 47,
   "id": "5abc5b43",
   "metadata": {},
   "outputs": [],
   "source": [
    "mailAdr = pd.read_csv(path + '\\\\output\\\\mail_address.csv')"
   ]
  },
  {
   "cell_type": "code",
   "execution_count": 46,
   "id": "1ebf8143",
   "metadata": {},
   "outputs": [
    {
     "data": {
      "text/html": [
       "<div>\n",
       "<style scoped>\n",
       "    .dataframe tbody tr th:only-of-type {\n",
       "        vertical-align: middle;\n",
       "    }\n",
       "\n",
       "    .dataframe tbody tr th {\n",
       "        vertical-align: top;\n",
       "    }\n",
       "\n",
       "    .dataframe thead th {\n",
       "        text-align: right;\n",
       "    }\n",
       "</style>\n",
       "<table border=\"1\" class=\"dataframe\">\n",
       "  <thead>\n",
       "    <tr style=\"text-align: right;\">\n",
       "      <th></th>\n",
       "      <th>KeyApplication</th>\n",
       "      <th>LegalAddress1</th>\n",
       "      <th>LegalAddress2</th>\n",
       "      <th>LegalCity</th>\n",
       "      <th>LegalState</th>\n",
       "      <th>LegalZIP</th>\n",
       "      <th>Address</th>\n",
       "    </tr>\n",
       "  </thead>\n",
       "  <tbody>\n",
       "    <tr>\n",
       "      <th>0</th>\n",
       "      <td>5419013</td>\n",
       "      <td>1071 FAIRFIELD AVE</td>\n",
       "      <td>APT 100</td>\n",
       "      <td>EUGENE</td>\n",
       "      <td>OR</td>\n",
       "      <td>97402</td>\n",
       "      <td>1071 Fairfield Ave Apt 100, Eugene, OR 97402</td>\n",
       "    </tr>\n",
       "    <tr>\n",
       "      <th>1</th>\n",
       "      <td>5419021</td>\n",
       "      <td>4060 W AMAZON DR</td>\n",
       "      <td># 180</td>\n",
       "      <td>EUGENE</td>\n",
       "      <td>OR</td>\n",
       "      <td>97405</td>\n",
       "      <td>4060 W Amazon Dr # 180, Eugene, OR 97405</td>\n",
       "    </tr>\n",
       "    <tr>\n",
       "      <th>2</th>\n",
       "      <td>5419022</td>\n",
       "      <td>15360 SE STARK ST</td>\n",
       "      <td>NaN</td>\n",
       "      <td>PORTLAND</td>\n",
       "      <td>OR</td>\n",
       "      <td>97233</td>\n",
       "      <td>15360 Se Stark St , Portland, OR 97233</td>\n",
       "    </tr>\n",
       "    <tr>\n",
       "      <th>3</th>\n",
       "      <td>5419024</td>\n",
       "      <td>2390 OAK ST APT 4</td>\n",
       "      <td>NaN</td>\n",
       "      <td>FLORENCE</td>\n",
       "      <td>OR</td>\n",
       "      <td>97439</td>\n",
       "      <td>2390 Oak St Apt 4 , Florence, OR 97439</td>\n",
       "    </tr>\n",
       "    <tr>\n",
       "      <th>4</th>\n",
       "      <td>5419040</td>\n",
       "      <td>1071 FAIRFIELD AVE</td>\n",
       "      <td>APT 100</td>\n",
       "      <td>EUGENE</td>\n",
       "      <td>OR</td>\n",
       "      <td>97402</td>\n",
       "      <td>1071 Fairfield Ave Apt 100, Eugene, OR 97402</td>\n",
       "    </tr>\n",
       "  </tbody>\n",
       "</table>\n",
       "</div>"
      ],
      "text/plain": [
       "   KeyApplication       LegalAddress1 LegalAddress2 LegalCity LegalState  \\\n",
       "0         5419013  1071 FAIRFIELD AVE       APT 100    EUGENE         OR   \n",
       "1         5419021    4060 W AMAZON DR         # 180    EUGENE         OR   \n",
       "2         5419022   15360 SE STARK ST           NaN  PORTLAND         OR   \n",
       "3         5419024   2390 OAK ST APT 4           NaN  FLORENCE         OR   \n",
       "4         5419040  1071 FAIRFIELD AVE       APT 100    EUGENE         OR   \n",
       "\n",
       "   LegalZIP                                       Address  \n",
       "0     97402  1071 Fairfield Ave Apt 100, Eugene, OR 97402  \n",
       "1     97405      4060 W Amazon Dr # 180, Eugene, OR 97405  \n",
       "2     97233        15360 Se Stark St , Portland, OR 97233  \n",
       "3     97439        2390 Oak St Apt 4 , Florence, OR 97439  \n",
       "4     97402  1071 Fairfield Ave Apt 100, Eugene, OR 97402  "
      ]
     },
     "execution_count": 46,
     "metadata": {},
     "output_type": "execute_result"
    }
   ],
   "source": [
    "legalAdr.head()"
   ]
  },
  {
   "cell_type": "code",
   "execution_count": 48,
   "id": "ad7c86af",
   "metadata": {},
   "outputs": [
    {
     "data": {
      "text/html": [
       "<div>\n",
       "<style scoped>\n",
       "    .dataframe tbody tr th:only-of-type {\n",
       "        vertical-align: middle;\n",
       "    }\n",
       "\n",
       "    .dataframe tbody tr th {\n",
       "        vertical-align: top;\n",
       "    }\n",
       "\n",
       "    .dataframe thead th {\n",
       "        text-align: right;\n",
       "    }\n",
       "</style>\n",
       "<table border=\"1\" class=\"dataframe\">\n",
       "  <thead>\n",
       "    <tr style=\"text-align: right;\">\n",
       "      <th></th>\n",
       "      <th>KeyApplication</th>\n",
       "      <th>MailAddress1</th>\n",
       "      <th>MailAddress2</th>\n",
       "      <th>MailCity</th>\n",
       "      <th>MailState</th>\n",
       "      <th>MailZIP</th>\n",
       "      <th>Address</th>\n",
       "    </tr>\n",
       "  </thead>\n",
       "  <tbody>\n",
       "    <tr>\n",
       "      <th>0</th>\n",
       "      <td>5421430</td>\n",
       "      <td>3340 ALDER ST</td>\n",
       "      <td>NaN</td>\n",
       "      <td>EUGENE</td>\n",
       "      <td>OR</td>\n",
       "      <td>97405.0</td>\n",
       "      <td>3340 Alder St , Eugene, OR 97405</td>\n",
       "    </tr>\n",
       "    <tr>\n",
       "      <th>1</th>\n",
       "      <td>5421816</td>\n",
       "      <td>3340 ALDER ST</td>\n",
       "      <td>NaN</td>\n",
       "      <td>EUGENE</td>\n",
       "      <td>OR</td>\n",
       "      <td>97405.0</td>\n",
       "      <td>3340 Alder St , Eugene, OR 97405</td>\n",
       "    </tr>\n",
       "    <tr>\n",
       "      <th>2</th>\n",
       "      <td>5423643</td>\n",
       "      <td>3944 JASPER RD</td>\n",
       "      <td>NaN</td>\n",
       "      <td>SPRINGFIELD</td>\n",
       "      <td>OR</td>\n",
       "      <td>97478.0</td>\n",
       "      <td>3944 Jasper Rd , Springfield, OR 97478</td>\n",
       "    </tr>\n",
       "    <tr>\n",
       "      <th>3</th>\n",
       "      <td>5423801</td>\n",
       "      <td>3944 JASPER RD</td>\n",
       "      <td>NaN</td>\n",
       "      <td>SPRINGFIELD</td>\n",
       "      <td>OR</td>\n",
       "      <td>97478.0</td>\n",
       "      <td>3944 Jasper Rd , Springfield, OR 97478</td>\n",
       "    </tr>\n",
       "    <tr>\n",
       "      <th>4</th>\n",
       "      <td>5431570</td>\n",
       "      <td>3302 SE 122ND AVE</td>\n",
       "      <td>APT 2</td>\n",
       "      <td>PORTLAND</td>\n",
       "      <td>OR</td>\n",
       "      <td>97236.0</td>\n",
       "      <td>3302 Se 122Nd Ave Apt 2, Portland, OR 97236</td>\n",
       "    </tr>\n",
       "  </tbody>\n",
       "</table>\n",
       "</div>"
      ],
      "text/plain": [
       "   KeyApplication       MailAddress1 MailAddress2     MailCity MailState  \\\n",
       "0         5421430      3340 ALDER ST          NaN       EUGENE        OR   \n",
       "1         5421816      3340 ALDER ST          NaN       EUGENE        OR   \n",
       "2         5423643     3944 JASPER RD          NaN  SPRINGFIELD        OR   \n",
       "3         5423801     3944 JASPER RD          NaN  SPRINGFIELD        OR   \n",
       "4         5431570  3302 SE 122ND AVE        APT 2     PORTLAND        OR   \n",
       "\n",
       "   MailZIP                                      Address  \n",
       "0  97405.0             3340 Alder St , Eugene, OR 97405  \n",
       "1  97405.0             3340 Alder St , Eugene, OR 97405  \n",
       "2  97478.0       3944 Jasper Rd , Springfield, OR 97478  \n",
       "3  97478.0       3944 Jasper Rd , Springfield, OR 97478  \n",
       "4  97236.0  3302 Se 122Nd Ave Apt 2, Portland, OR 97236  "
      ]
     },
     "execution_count": 48,
     "metadata": {},
     "output_type": "execute_result"
    }
   ],
   "source": [
    "mailAdr.head()"
   ]
  },
  {
   "cell_type": "code",
   "execution_count": 30,
   "id": "cf6f65ad",
   "metadata": {},
   "outputs": [
    {
     "data": {
      "text/plain": [
       "array(['2574 Sorrel Way , Eugene, OR 97401'], dtype=object)"
      ]
     },
     "execution_count": 30,
     "metadata": {},
     "output_type": "execute_result"
    }
   ],
   "source": [
    "legalAdr.loc[legalAdr.KeyApplication.isin(oa.loc[oa.ID==idcnt.loc[0,:].values[0], 'KeyApplication'].values), 'Address'].unique()"
   ]
  },
  {
   "cell_type": "code",
   "execution_count": 26,
   "id": "8dba7aa9",
   "metadata": {},
   "outputs": [
    {
     "data": {
      "text/plain": [
       "45"
      ]
     },
     "execution_count": 26,
     "metadata": {},
     "output_type": "execute_result"
    }
   ],
   "source": [
    "oa.loc[oa.ID==idcnt.loc[0,:].values[0], 'KeyApplication'].values"
   ]
  },
  {
   "cell_type": "code",
   "execution_count": 34,
   "id": "64ee55ad",
   "metadata": {},
   "outputs": [
    {
     "data": {
      "text/plain": [
       "24700"
      ]
     },
     "execution_count": 34,
     "metadata": {},
     "output_type": "execute_result"
    }
   ],
   "source": [
    "len(legalAdr.KeyApplication.unique())"
   ]
  },
  {
   "cell_type": "code",
   "execution_count": 31,
   "id": "c6f13e38",
   "metadata": {},
   "outputs": [
    {
     "data": {
      "text/plain": [
       "4379"
      ]
     },
     "execution_count": 31,
     "metadata": {},
     "output_type": "execute_result"
    }
   ],
   "source": [
    "4347+32"
   ]
  },
  {
   "cell_type": "code",
   "execution_count": 22,
   "id": "eb65547e",
   "metadata": {
    "scrolled": true
   },
   "outputs": [
    {
     "data": {
      "text/plain": [
       "0.7109920441630134"
      ]
     },
     "execution_count": 22,
     "metadata": {},
     "output_type": "execute_result"
    }
   ],
   "source": [
    "(4347+32)/6159"
   ]
  },
  {
   "cell_type": "code",
   "execution_count": 61,
   "id": "db1cb72f",
   "metadata": {},
   "outputs": [
    {
     "data": {
      "text/plain": [
       "0.9604168286803018"
      ]
     },
     "execution_count": 61,
     "metadata": {},
     "output_type": "execute_result"
    }
   ],
   "source": [
    "24700/(len(oa.KeyApplication.unique()))"
   ]
  },
  {
   "cell_type": "code",
   "execution_count": 57,
   "id": "b646a0d6",
   "metadata": {},
   "outputs": [],
   "source": [
    "a_w_adr = list(legalAdr.loc[legalAdr.Address.isin(loc.Address.values), 'KeyApplication'].unique()) + list(mailAdr.loc[mailAdr.Address.isin(loc.Address.values), 'KeyApplication'].unique())"
   ]
  },
  {
   "cell_type": "code",
   "execution_count": 60,
   "id": "7157fd15",
   "metadata": {},
   "outputs": [
    {
     "data": {
      "text/plain": [
       "0.9616610933976203"
      ]
     },
     "execution_count": 60,
     "metadata": {},
     "output_type": "execute_result"
    }
   ],
   "source": [
    "len(a_w_adr)/(len(oa.KeyApplication.unique()))"
   ]
  },
  {
   "cell_type": "code",
   "execution_count": 65,
   "id": "65edbd1c",
   "metadata": {},
   "outputs": [
    {
     "data": {
      "text/plain": [
       "25718"
      ]
     },
     "execution_count": 65,
     "metadata": {},
     "output_type": "execute_result"
    }
   ],
   "source": [
    "len(aqh.loc[aqh.Preference=='P7', 'KeyApplication'].unique())"
   ]
  },
  {
   "cell_type": "code",
   "execution_count": 66,
   "id": "0b742732",
   "metadata": {},
   "outputs": [
    {
     "data": {
      "text/plain": [
       "array(['Makayla-K-Elliott-24-611064570'], dtype=object)"
      ]
     },
     "execution_count": 66,
     "metadata": {},
     "output_type": "execute_result"
    }
   ],
   "source": [
    "oa.loc[oa.KeyApplication.isin(mailAdr.loc[mailAdr.Address == '3340 Alder St , Eugene, OR 97405', 'KeyApplication'].values), 'ID'].unique()"
   ]
  },
  {
   "cell_type": "code",
   "execution_count": 123,
   "id": "24e35c9d",
   "metadata": {},
   "outputs": [],
   "source": [
    "adr2check=legalAdr.loc[legalAdr.KeyApplication.isin(am.loc[am.ID=='Preston-J-Decarlo-36-573991014', 'KeyApplication'].values), 'Address'].unique()"
   ]
  },
  {
   "cell_type": "code",
   "execution_count": 126,
   "id": "38e04f32",
   "metadata": {},
   "outputs": [
    {
     "data": {
      "text/plain": [
       "array(['341 E 12Th Ave , Eugene, OR 97401',\n",
       "       '341 E 12Th Ave 573-99-1014, Eugene, OR 97401'], dtype=object)"
      ]
     },
     "execution_count": 126,
     "metadata": {},
     "output_type": "execute_result"
    }
   ],
   "source": [
    "adr2check"
   ]
  },
  {
   "cell_type": "code",
   "execution_count": 125,
   "id": "a660ba37",
   "metadata": {},
   "outputs": [
    {
     "data": {
      "text/plain": [
       "47            341 E 12th Ave, Eugene, OR 97401, USA\n",
       "1134    341 E 12th Ave #1014, Eugene, OR 97401, USA\n",
       "Name: Location, dtype: object"
      ]
     },
     "execution_count": 125,
     "metadata": {},
     "output_type": "execute_result"
    }
   ],
   "source": [
    "loc.loc[loc.Address.isin(adr2check), 'Location']"
   ]
  },
  {
   "cell_type": "code",
   "execution_count": 127,
   "id": "551e1c04",
   "metadata": {},
   "outputs": [],
   "source": [
    "ID2check = []"
   ]
  },
  {
   "cell_type": "code",
   "execution_count": 130,
   "id": "4d95f97f",
   "metadata": {},
   "outputs": [
    {
     "data": {
      "text/plain": [
       "'Ashley-D-Sullivan-36-556954053'"
      ]
     },
     "execution_count": 130,
     "metadata": {},
     "output_type": "execute_result"
    }
   ],
   "source": [
    "ID2check[1]"
   ]
  },
  {
   "cell_type": "code",
   "execution_count": 196,
   "id": "9da90fab",
   "metadata": {},
   "outputs": [
    {
     "name": "stdout",
     "output_type": "stream",
     "text": [
      "address to check is ['311 Sweet Lane , Cottage Grove, OR 97424', '2515 Frontier Dr Apt, Eugene, OR 97401', '2515 Frontier Dr Apt 17, Eugene, OR 97401'] and google found ['311 Sweet Ln, Cottage Grove, OR 97424, USA', '2515 Frontier Dr #17, Eugene, OR 97401, USA', '2515 Frontier Dr, Eugene, OR 97401, USA']\n",
      "\n",
      "\n",
      "address to check is ['311 Sweet Lane , Cottage Grove, OR 97424', '2515 Frontier Dr Apt 17, Eugene, OR 97401', '2515 Frontier Dr Apt, Eugene, OR 97401'] and google found ['311 Sweet Ln, Cottage Grove, OR 97424, USA', '2515 Frontier Dr #17, Eugene, OR 97401, USA', '2515 Frontier Dr, Eugene, OR 97401, USA']\n",
      "\n",
      "\n",
      "address to check is ['311 Sweet Lane , Cottage Grove, OR 97424', '2515 Frontier Dr Apt 17, Eugene, OR 97401', '2515 Frontier Dr Apt, Eugene, OR 97401'] and google found ['311 Sweet Ln, Cottage Grove, OR 97424, USA', '2515 Frontier Dr #17, Eugene, OR 97401, USA', '2515 Frontier Dr, Eugene, OR 97401, USA']\n",
      "\n",
      "\n",
      "address to check is ['448 W. 12Th 3, Eugene, OR 97408', '448 W. 12Th 3, Eugene, OR 97401', '448 W 12Th Ave Apt 3, Eugene, OR 97401'] and google found ['448 W 12th Ave #3, Eugene, OR 97401, USA', '448 W 12th Ave #3, Eugene, OR 97401, USA', '448 W 12th Ave #3, Eugene, OR 97401, USA']\n",
      "\n",
      "\n"
     ]
    }
   ],
   "source": [
    "for ID in amu.ID.values:\n",
    "    adr2check=legalAdr.loc[legalAdr.KeyApplication.isin(am.loc[am.ID==ID, 'KeyApplication'].values), 'Address'].unique()\n",
    "    if len(adr2check) > 2:\n",
    "        #ID2check.append(ID)\n",
    "        ggadr = list(loc.loc[loc.Address.isin(adr2check), 'Location'].values)\n",
    "        #if ggadr[0] == ggadr[1]:\n",
    "        print(f\"address to check is {list(adr2check)} and google found {ggadr}\")\n",
    "        print(\"\\n\")"
   ]
  },
  {
   "cell_type": "code",
   "execution_count": 129,
   "id": "fcda5595",
   "metadata": {},
   "outputs": [
    {
     "data": {
      "text/plain": [
       "127"
      ]
     },
     "execution_count": 129,
     "metadata": {},
     "output_type": "execute_result"
    }
   ],
   "source": [
    "len(ID2check)"
   ]
  },
  {
   "cell_type": "code",
   "execution_count": 133,
   "id": "2a871b5f",
   "metadata": {},
   "outputs": [
    {
     "data": {
      "text/plain": [
       "['1880 Cleveland St APT 1, Eugene, OR 97405, USA']"
      ]
     },
     "execution_count": 133,
     "metadata": {},
     "output_type": "execute_result"
    }
   ],
   "source": [
    "list(loc.loc[loc.Address.isin(['1880 Cleveland St Apt 1, Eugene, OR 97405']), 'Location'].values)"
   ]
  },
  {
   "cell_type": "code",
   "execution_count": null,
   "id": "16ab960d",
   "metadata": {},
   "outputs": [],
   "source": [
    "['4175 Wagner St 432, Eugene, OR 97402', '4175 Wagoner St Apt G432, Eugene, OR 97402']"
   ]
  },
  {
   "cell_type": "code",
   "execution_count": 68,
   "id": "13fec7bd",
   "metadata": {},
   "outputs": [],
   "source": [
    "homeless=aqh.loc[(aqh.Preference=='P7') & (aqh.Answer=='Yes'), 'KeyApplication'].values"
   ]
  },
  {
   "cell_type": "code",
   "execution_count": 70,
   "id": "e7d49282",
   "metadata": {},
   "outputs": [
    {
     "data": {
      "text/plain": [
       "746"
      ]
     },
     "execution_count": 70,
     "metadata": {},
     "output_type": "execute_result"
    }
   ],
   "source": [
    "len(aqh.loc[(aqh.Preference=='P5') & (aqh.Answer=='Yes') & (aqh.KeyApplication.isin(homeless)), 'KeyApplication'].unique())"
   ]
  }
 ],
 "metadata": {
  "kernelspec": {
   "display_name": "Python 3",
   "language": "python",
   "name": "python3"
  },
  "language_info": {
   "codemirror_mode": {
    "name": "ipython",
    "version": 3
   },
   "file_extension": ".py",
   "mimetype": "text/x-python",
   "name": "python",
   "nbconvert_exporter": "python",
   "pygments_lexer": "ipython3",
   "version": "3.8.8"
  }
 },
 "nbformat": 4,
 "nbformat_minor": 5
}
