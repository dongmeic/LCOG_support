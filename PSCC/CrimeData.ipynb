{
 "cells": [
  {
   "cell_type": "code",
   "execution_count": 1,
   "id": "891fc567",
   "metadata": {},
   "outputs": [],
   "source": [
    "import pandas as pd\n",
    "from datetime import datetime\n",
    "import fiscalyear\n",
    "import xlsxwriter"
   ]
  },
  {
   "cell_type": "code",
   "execution_count": 2,
   "id": "467f1e13",
   "metadata": {},
   "outputs": [],
   "source": [
    "bySex=True"
   ]
  },
  {
   "cell_type": "code",
   "execution_count": 3,
   "id": "7a238565",
   "metadata": {},
   "outputs": [],
   "source": [
    "path = r'\\\\clsrv111.int.lcog.org\\lgs\\PSCC\\Crime'"
   ]
  },
  {
   "cell_type": "code",
   "execution_count": 4,
   "id": "957c2678",
   "metadata": {},
   "outputs": [],
   "source": [
    "data = pd.read_csv(path+'\\\\Intakes by crime type_Aug 31.csv')"
   ]
  },
  {
   "cell_type": "code",
   "execution_count": 5,
   "id": "0de5409d",
   "metadata": {
    "scrolled": true
   },
   "outputs": [
    {
     "data": {
      "text/html": [
       "<div>\n",
       "<style scoped>\n",
       "    .dataframe tbody tr th:only-of-type {\n",
       "        vertical-align: middle;\n",
       "    }\n",
       "\n",
       "    .dataframe tbody tr th {\n",
       "        vertical-align: top;\n",
       "    }\n",
       "\n",
       "    .dataframe thead th {\n",
       "        text-align: right;\n",
       "    }\n",
       "</style>\n",
       "<table border=\"1\" class=\"dataframe\">\n",
       "  <thead>\n",
       "    <tr style=\"text-align: right;\">\n",
       "      <th></th>\n",
       "      <th>Unnamed: 0</th>\n",
       "      <th>SID</th>\n",
       "      <th>sex</th>\n",
       "      <th>Date.of.Admission</th>\n",
       "      <th>Crime.Category</th>\n",
       "      <th>Sentence.Length</th>\n",
       "      <th>Date.Sentence.Begins</th>\n",
       "      <th>Length.of.Stay</th>\n",
       "      <th>Sentence.Number</th>\n",
       "    </tr>\n",
       "  </thead>\n",
       "  <tbody>\n",
       "    <tr>\n",
       "      <th>0</th>\n",
       "      <td>6333</td>\n",
       "      <td>22841186</td>\n",
       "      <td>M</td>\n",
       "      <td>6/1/2018</td>\n",
       "      <td>Driving</td>\n",
       "      <td>24.0</td>\n",
       "      <td>6/1/2018</td>\n",
       "      <td>11.934426</td>\n",
       "      <td>First Sentence</td>\n",
       "    </tr>\n",
       "    <tr>\n",
       "      <th>1</th>\n",
       "      <td>6334</td>\n",
       "      <td>18173068</td>\n",
       "      <td>M</td>\n",
       "      <td>6/2/2018</td>\n",
       "      <td>Drug</td>\n",
       "      <td>18.0</td>\n",
       "      <td>6/28/2018</td>\n",
       "      <td>9.770492</td>\n",
       "      <td>First Sentence</td>\n",
       "    </tr>\n",
       "    <tr>\n",
       "      <th>2</th>\n",
       "      <td>6335</td>\n",
       "      <td>12094477</td>\n",
       "      <td>M</td>\n",
       "      <td>6/4/2018</td>\n",
       "      <td>Drug</td>\n",
       "      <td>18.0</td>\n",
       "      <td>5/9/2018</td>\n",
       "      <td>10.098361</td>\n",
       "      <td>First Sentence</td>\n",
       "    </tr>\n",
       "  </tbody>\n",
       "</table>\n",
       "</div>"
      ],
      "text/plain": [
       "   Unnamed: 0       SID sex Date.of.Admission Crime.Category  Sentence.Length  \\\n",
       "0        6333  22841186   M          6/1/2018        Driving             24.0   \n",
       "1        6334  18173068   M          6/2/2018           Drug             18.0   \n",
       "2        6335  12094477   M          6/4/2018           Drug             18.0   \n",
       "\n",
       "  Date.Sentence.Begins  Length.of.Stay Sentence.Number  \n",
       "0             6/1/2018       11.934426  First Sentence  \n",
       "1            6/28/2018        9.770492  First Sentence  \n",
       "2             5/9/2018       10.098361  First Sentence  "
      ]
     },
     "execution_count": 5,
     "metadata": {},
     "output_type": "execute_result"
    }
   ],
   "source": [
    "data.head(3)"
   ]
  },
  {
   "cell_type": "code",
   "execution_count": 6,
   "id": "b4244413",
   "metadata": {},
   "outputs": [],
   "source": [
    "data.rename(columns = {'Unnamed: 0':'ID'}, inplace = True)"
   ]
  },
  {
   "cell_type": "code",
   "execution_count": 7,
   "id": "c614d6a3",
   "metadata": {},
   "outputs": [],
   "source": [
    "data.columns = list(map(lambda x: x.replace('.', ' '), data.columns))"
   ]
  },
  {
   "cell_type": "code",
   "execution_count": 8,
   "id": "9369c0c1",
   "metadata": {},
   "outputs": [],
   "source": [
    "def get_fiscal_year(datestring):\n",
    "    date = datetime.strptime(datestring, '%m/%d/%Y').date()\n",
    "    #initialize the current year\n",
    "    year_of_date=date.year\n",
    "    #initialize the current financial year start date\n",
    "    fiscal_year_start_date = datetime.strptime('7/1/'+str(year_of_date),'%m/%d/%Y').date()\n",
    "    if date < fiscal_year_start_date:\n",
    "            return 'July 1, '+ str(fiscal_year_start_date.year-1)+' – June 30, '+ str(fiscal_year_start_date.year)\n",
    "    else:\n",
    "            return 'July 1, '+ str(fiscal_year_start_date.year)+' – June 30, '+ str(fiscal_year_start_date.year+1)"
   ]
  },
  {
   "cell_type": "code",
   "execution_count": 9,
   "id": "24a3bd34",
   "metadata": {},
   "outputs": [],
   "source": [
    "data.loc[:, 'Time Period'] = data['Date of Admission'].apply(lambda x: get_fiscal_year(x))"
   ]
  },
  {
   "cell_type": "code",
   "execution_count": 10,
   "id": "1f267cd8",
   "metadata": {},
   "outputs": [],
   "source": [
    "if bySex:\n",
    "    df = data.groupby([\"Time Period\", \"Crime Category\", \"Sentence Number\", \"sex\"])['SID'].nunique().reset_index().rename(columns= {'SID':'Count'})\n",
    "    df.to_excel(path+'\\\\Crime_Counts_Sex.xlsx', index=False)\n",
    "    file = path+'\\\\Crime_Counts_Sex_Formatted.xlsx'\n",
    "else:\n",
    "    df = data.groupby([\"Time Period\", \"Crime Category\", \"Sentence Number\"])['SID'].nunique().reset_index().rename(columns= {'SID':'Count'})\n",
    "    df.to_excel(path+'\\\\Crime_Counts.xlsx', index=False)\n",
    "    file = path+'\\\\Crime_Counts_Formatted.xlsx'"
   ]
  },
  {
   "cell_type": "code",
   "execution_count": 11,
   "id": "65baf940",
   "metadata": {},
   "outputs": [],
   "source": [
    "def getStartCells(colnm='Time Period'):\n",
    "    startCells = [1]\n",
    "    for row in range(2,len(df)+1):\n",
    "        if (df.loc[row-1,colnm] != df.loc[row-2,colnm]):\n",
    "            startCells.append(row)\n",
    "    return startCells"
   ]
  },
  {
   "cell_type": "code",
   "execution_count": 12,
   "id": "a16e6d42",
   "metadata": {},
   "outputs": [],
   "source": [
    "def mergeFormat(startCells, colnm, colnb, merge_format):\n",
    "    lastRow = len(df)\n",
    "\n",
    "    for row in startCells:\n",
    "        try:\n",
    "            endRow = startCells[startCells.index(row)+1]-1\n",
    "            if row == endRow:\n",
    "                worksheet.write(row, colnb, df.loc[row-1, colnm], merge_format)\n",
    "            else:\n",
    "                worksheet.merge_range(row, colnb, endRow, colnb, df.loc[row-1, colnm], merge_format)\n",
    "        except IndexError:\n",
    "            if row == lastRow:\n",
    "                worksheet.write(row, colnb, df.loc[row-1, colnm], merge_format)\n",
    "            else:\n",
    "                worksheet.merge_range(row, colnb, lastRow, colnb, df.loc[row-1, colnm], merge_format)"
   ]
  },
  {
   "cell_type": "code",
   "execution_count": 13,
   "id": "d4786d44",
   "metadata": {},
   "outputs": [],
   "source": [
    "# Create the list where we'll capture the cells that appear for 1st time,\n",
    "# add the 1st row and we start checking from 2nd row until end of df\n",
    "\n",
    "writer = pd.ExcelWriter(file, engine='xlsxwriter')\n",
    "df.to_excel(writer, sheet_name='Counts', index=False)\n",
    "workbook = writer.book\n",
    "worksheet = writer.sheets['Counts']\n",
    "merge_format = workbook.add_format({'align': 'center', 'valign': 'vcenter', 'border': 1})\n",
    "\n",
    "mergeFormat(startCells=getStartCells(colnm='Time Period'), \n",
    "            colnm='Time Period', \n",
    "            colnb=0, \n",
    "            merge_format=merge_format)\n",
    "\n",
    "mergeFormat(startCells=getStartCells(colnm='Crime Category'), \n",
    "            colnm='Crime Category', \n",
    "            colnb=1, \n",
    "            merge_format=merge_format)\n",
    "writer.save()"
   ]
  }
 ],
 "metadata": {
  "kernelspec": {
   "display_name": "Python 3",
   "language": "python",
   "name": "python3"
  },
  "language_info": {
   "codemirror_mode": {
    "name": "ipython",
    "version": 3
   },
   "file_extension": ".py",
   "mimetype": "text/x-python",
   "name": "python",
   "nbconvert_exporter": "python",
   "pygments_lexer": "ipython3",
   "version": "3.8.8"
  }
 },
 "nbformat": 4,
 "nbformat_minor": 5
}
