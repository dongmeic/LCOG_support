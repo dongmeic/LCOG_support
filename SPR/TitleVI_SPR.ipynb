{
 "cells": [
  {
   "cell_type": "code",
   "execution_count": 1,
   "id": "5dbbe10c",
   "metadata": {},
   "outputs": [],
   "source": [
    "import geopandas as gpd"
   ]
  },
  {
   "cell_type": "code",
   "execution_count": 2,
   "id": "f82a7884",
   "metadata": {},
   "outputs": [],
   "source": [
    "titleVI = gpd.read_file(r'T:\\MPO\\Title VI & EJ\\2023_TitleVI_update\\Maps\\MPO_BG_TitleVI.shp')"
   ]
  },
  {
   "cell_type": "code",
   "execution_count": 3,
   "id": "4ba0f6e9",
   "metadata": {},
   "outputs": [],
   "source": [
    "filepath = r'T:\\DCProjects\\Support\\SPR\\BikeRacks\\SPR_BG_HH0Car_Poverty\\SPR_BG_HH0Car_Poverty'"
   ]
  },
  {
   "cell_type": "code",
   "execution_count": 4,
   "id": "7aa97113",
   "metadata": {},
   "outputs": [],
   "source": [
    "titleVI_SPR = gpd.read_file(filepath + '.shp')"
   ]
  },
  {
   "cell_type": "code",
   "execution_count": 5,
   "id": "a0d62b92",
   "metadata": {},
   "outputs": [
    {
     "data": {
      "text/plain": [
       "['410390001001', '410390021021', '410390021022', '410390021023']"
      ]
     },
     "execution_count": 5,
     "metadata": {},
     "output_type": "execute_result"
    }
   ],
   "source": [
    "[ID for ID in titleVI_SPR.BlkGrp10.values if ID not in titleVI.BlkGrp20.values]"
   ]
  },
  {
   "cell_type": "code",
   "execution_count": 6,
   "id": "8d84016a",
   "metadata": {},
   "outputs": [],
   "source": [
    "newlist = ['410390021031', '410390021032', '410390021041', '410390021042', \n",
    "           '410390020023', '410390002001', '410390002004', '410390001003']"
   ]
  },
  {
   "cell_type": "code",
   "execution_count": 7,
   "id": "32b0e293",
   "metadata": {},
   "outputs": [],
   "source": [
    "IDs = list(titleVI_SPR.BlkGrp10.values) + newlist"
   ]
  },
  {
   "cell_type": "code",
   "execution_count": 8,
   "id": "e5b26d4f",
   "metadata": {},
   "outputs": [],
   "source": [
    "titleVI_SPR.drop(columns = 'BlkGrp10', inplace=True)"
   ]
  },
  {
   "cell_type": "code",
   "execution_count": 9,
   "id": "09aeaaf2",
   "metadata": {},
   "outputs": [],
   "source": [
    "titleVI_SPR.drop(columns = ['Shape_Leng', 'Shape_Area'], inplace=True)"
   ]
  },
  {
   "cell_type": "code",
   "execution_count": 10,
   "id": "381bcb16",
   "metadata": {},
   "outputs": [],
   "source": [
    "cols = ['BlkGrp20'] + list(titleVI_SPR.columns)"
   ]
  },
  {
   "cell_type": "code",
   "execution_count": 11,
   "id": "00cd709b",
   "metadata": {},
   "outputs": [],
   "source": [
    "titleVI_SPR2 = titleVI[titleVI.BlkGrp20.isin(IDs)][cols]"
   ]
  },
  {
   "cell_type": "code",
   "execution_count": 12,
   "id": "24a96b50",
   "metadata": {},
   "outputs": [
    {
     "data": {
      "text/plain": [
       "<AxesSubplot:>"
      ]
     },
     "execution_count": 12,
     "metadata": {},
     "output_type": "execute_result"
    },
    {
     "data": {
      "image/png": "[encoded data removed]",
      "text/plain": [
       "<Figure size 432x288 with 1 Axes>"
      ]
     },
     "metadata": {
      "needs_background": "light"
     },
     "output_type": "display_data"
    }
   ],
   "source": [
    "titleVI_SPR2.plot()"
   ]
  },
  {
   "cell_type": "code",
   "execution_count": 13,
   "id": "73a81007",
   "metadata": {},
   "outputs": [
    {
     "data": {
      "text/plain": [
       "Index(['BlkGrp20', 'HHPoor', 'PctPoor', 'PctHH0car', 'HH0car', 'Poor',\n",
       "       'HHzerocar', 'geometry'],\n",
       "      dtype='object')"
      ]
     },
     "execution_count": 13,
     "metadata": {},
     "output_type": "execute_result"
    }
   ],
   "source": [
    "titleVI_SPR2.columns"
   ]
  },
  {
   "cell_type": "code",
   "execution_count": 14,
   "id": "133db2fe",
   "metadata": {},
   "outputs": [],
   "source": [
    "titleVI_SPR2['CombinedHH'] = titleVI_SPR2['HHPoor'] + titleVI_SPR2['HH0car']"
   ]
  },
  {
   "cell_type": "code",
   "execution_count": 15,
   "id": "e3f0a4a3",
   "metadata": {},
   "outputs": [],
   "source": [
    "titleVI_SPR2['CombinedPt'] = titleVI_SPR2['PctHH0car'] + titleVI_SPR2['PctPoor']"
   ]
  },
  {
   "cell_type": "code",
   "execution_count": 16,
   "id": "7f245851",
   "metadata": {},
   "outputs": [],
   "source": [
    "titleVI_SPR2.to_file(filepath+'2017_2021.shp')"
   ]
  }
 ],
 "metadata": {
  "kernelspec": {
   "display_name": "Python 3",
   "language": "python",
   "name": "python3"
  },
  "language_info": {
   "codemirror_mode": {
    "name": "ipython",
    "version": 3
   },
   "file_extension": ".py",
   "mimetype": "text/x-python",
   "name": "python",
   "nbconvert_exporter": "python",
   "pygments_lexer": "ipython3",
   "version": "3.8.8"
  }
 },
 "nbformat": 4,
 "nbformat_minor": 5
}
