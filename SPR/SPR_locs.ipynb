{
 "cells": [
  {
   "cell_type": "code",
   "execution_count": 1,
   "id": "5a2fa340",
   "metadata": {},
   "outputs": [],
   "source": [
    "from geopy.geocoders import Nominatim\n",
    "import pandas as pd\n",
    "import geopandas as gpd\n",
    "from geopandas import GeoDataFrame\n",
    "from shapely.geometry import Point\n",
    "import os"
   ]
  },
  {
   "cell_type": "code",
   "execution_count": 2,
   "id": "05957b57",
   "metadata": {},
   "outputs": [],
   "source": [
    "geolocator = Nominatim(user_agent=\"measurements\")"
   ]
  },
  {
   "cell_type": "code",
   "execution_count": 17,
   "id": "f1375299",
   "metadata": {},
   "outputs": [],
   "source": [
    "locs = [\"Plank Town Brewing Company\", \"PublicHouse\", \"Willamalane Adult Activity Center\", \"Dorris Ranch\", \"Heron Playground\",\n",
    "        \"University of Oregon\", \"999 Willamette St, Eugene, OR 97401\", \"South Eugene High School\", \"1061 W 2nd Ave, Eugene, OR 97402\",\n",
    "        \"101 S A St, Springfield, OR 97477\", \"Willamalane Park Swim Center\", \"Bob Keefer Center\", \"The Shoppes at Gateway\",\n",
    "        \"1025 G St, Springfield, OR 97477\", \"30 E St, Springfield, OR 97477\", \"625 West Centennial Blvd\", \n",
    "        \"3377 Riverbend Dr, Springfield, OR 97477\"]"
   ]
  },
  {
   "cell_type": "code",
   "execution_count": 4,
   "id": "ab4e529b",
   "metadata": {},
   "outputs": [],
   "source": [
    "def getCoordinates(place):\n",
    "    location = geolocator.geocode(place)\n",
    "    address, (latitude, longitude) = location\n",
    "    return [place, longitude, latitude] "
   ]
  },
  {
   "cell_type": "code",
   "execution_count": 16,
   "id": "62c927dd",
   "metadata": {},
   "outputs": [
    {
     "data": {
      "text/plain": [
       "['999 Willamette St, Eugene, OR 97401', -123.0923105069869, 44.0490291]"
      ]
     },
     "execution_count": 16,
     "metadata": {},
     "output_type": "execute_result"
    }
   ],
   "source": [
    "getCoordinates(\"999 Willamette St, Eugene, OR 97401\")"
   ]
  },
  {
   "cell_type": "code",
   "execution_count": 8,
   "id": "3d968923",
   "metadata": {},
   "outputs": [],
   "source": [
    "data = []"
   ]
  },
  {
   "cell_type": "code",
   "execution_count": 6,
   "id": "5e387216",
   "metadata": {},
   "outputs": [],
   "source": [
    "names = ['Plank Town', 'Public House', 'Willamalane Adult Activity Center', 'Dorris Ranch', 'Heron Park',\n",
    "        'University of Oregon', 'Downtown Eugene', 'South Eugene', 'Whiteaker', 'Springfield Chamber of Commerce', \n",
    "         'Willamalane Park Swim Center', 'Bob Keefer Center', 'Gateway Mall', 'Catholic Community Services',\n",
    "         'Bungalow Market', 'Centennial Center', 'PeaceHealth Riverbend']"
   ]
  },
  {
   "cell_type": "code",
   "execution_count": 18,
   "id": "e6447bad",
   "metadata": {},
   "outputs": [
    {
     "name": "stdout",
     "output_type": "stream",
     "text": [
      "Plank Town Brewing Company\n",
      "PublicHouse\n",
      "Willamalane Adult Activity Center\n",
      "Dorris Ranch\n",
      "Heron Playground\n",
      "University of Oregon\n",
      "999 Willamette St, Eugene, OR 97401\n",
      "South Eugene High School\n",
      "1061 W 2nd Ave, Eugene, OR 97402\n",
      "101 S A St, Springfield, OR 97477\n",
      "Willamalane Park Swim Center\n",
      "Bob Keefer Center\n",
      "The Shoppes at Gateway\n",
      "1025 G St, Springfield, OR 97477\n",
      "30 E St, Springfield, OR 97477\n",
      "625 West Centennial Blvd\n",
      "3377 Riverbend Dr, Springfield, OR 97477\n"
     ]
    }
   ],
   "source": [
    "for loc in locs:\n",
    "    print(loc)\n",
    "    ls = getCoordinates(loc)\n",
    "    ls.insert(0, names[locs.index(loc)])\n",
    "    data.append(ls)"
   ]
  },
  {
   "cell_type": "code",
   "execution_count": 20,
   "id": "428f8a62",
   "metadata": {},
   "outputs": [],
   "source": [
    "# Create the pandas DataFrame\n",
    "df = pd.DataFrame(data, columns = ['Name', 'Address', 'Longitude', 'Latitude'])"
   ]
  },
  {
   "cell_type": "code",
   "execution_count": 21,
   "id": "bf0bd917",
   "metadata": {},
   "outputs": [],
   "source": [
    "geometry = [Point(xy) for xy in zip(df.Longitude, df.Latitude)]\n",
    "gdf = GeoDataFrame(df, crs=\"EPSG:4326\", geometry=geometry)"
   ]
  },
  {
   "cell_type": "code",
   "execution_count": 23,
   "id": "810c44ce",
   "metadata": {},
   "outputs": [],
   "source": [
    "outpath = r'T:\\DCProjects\\Support\\SPR\\data'"
   ]
  },
  {
   "cell_type": "code",
   "execution_count": 24,
   "id": "feac5b70",
   "metadata": {},
   "outputs": [],
   "source": [
    "selected_facilities_o = gpd.read_file(r\"T:\\DCProjects\\Support\\SPR\\BikeShare\\BikeShare.gdb\", layer=\"selected_facilities\")"
   ]
  },
  {
   "cell_type": "code",
   "execution_count": 25,
   "id": "ad8b3aff",
   "metadata": {},
   "outputs": [
    {
     "data": {
      "text/plain": [
       "Index(['label', 'label_full', 'label_add', 'type', 'type_full', 'eug_amenity',\n",
       "       'school_district', 'address_geofeat_id', 'address_uuid', 'x_coordinate',\n",
       "       'y_coordinate', 'longitude', 'latitude', 'facility_geo_id', 'geometry'],\n",
       "      dtype='object')"
      ]
     },
     "execution_count": 25,
     "metadata": {},
     "output_type": "execute_result"
    }
   ],
   "source": [
    "selected_facilities_o.columns"
   ]
  },
  {
   "cell_type": "code",
   "execution_count": 26,
   "id": "fde9299b",
   "metadata": {},
   "outputs": [
    {
     "data": {
      "text/plain": [
       "array(['LTD Transit Sta', 'Park', 'Private School', 'High School',\n",
       "       'Middle School', 'Elementary Sch', 'City Hall'], dtype=object)"
      ]
     },
     "execution_count": 26,
     "metadata": {},
     "output_type": "execute_result"
    }
   ],
   "source": [
    "selected_facilities_o.type_full.unique()"
   ]
  },
  {
   "cell_type": "code",
   "execution_count": 27,
   "id": "e346ba99",
   "metadata": {},
   "outputs": [],
   "source": [
    "selected_facilities_s1 = selected_facilities_o[(selected_facilities_o.type_full.isin(['LTD Transit Sta','City Hall']))]"
   ]
  },
  {
   "cell_type": "code",
   "execution_count": 28,
   "id": "484168ee",
   "metadata": {},
   "outputs": [],
   "source": [
    "parks = ['Island Park', 'Dorris Ranch', 'Millrace Park', 'Willamalane Park', \n",
    "         'Meadow Park', 'Heron Park', 'Alton Baker Park', \n",
    "         'Amazon Park','Skinner Butte Park', 'Monroe Park']"
   ]
  },
  {
   "cell_type": "code",
   "execution_count": 29,
   "id": "8bf290a5",
   "metadata": {},
   "outputs": [],
   "source": [
    "selected_parks = [park for park in parks if park in selected_facilities_o.label_full.values]"
   ]
  },
  {
   "cell_type": "code",
   "execution_count": 30,
   "id": "2d253e73",
   "metadata": {},
   "outputs": [],
   "source": [
    "selected_facilities_s2 = selected_facilities_o[selected_facilities_o.label_full.isin(selected_parks)]"
   ]
  },
  {
   "cell_type": "code",
   "execution_count": 31,
   "id": "7dc95fc8",
   "metadata": {},
   "outputs": [],
   "source": [
    "selected_facilities_s = selected_facilities_s1.append(selected_facilities_s2)"
   ]
  },
  {
   "cell_type": "code",
   "execution_count": 32,
   "id": "386899da",
   "metadata": {},
   "outputs": [],
   "source": [
    "selected_facilities = selected_facilities_s[['label_full', 'longitude', 'latitude', 'geometry']]"
   ]
  },
  {
   "cell_type": "code",
   "execution_count": 33,
   "id": "a9fdc6e3",
   "metadata": {},
   "outputs": [
    {
     "name": "stderr",
     "output_type": "stream",
     "text": [
      "C:\\ProgramData\\Anaconda3\\envs\\geoenv\\lib\\site-packages\\pandas\\core\\frame.py:4441: SettingWithCopyWarning: \n",
      "A value is trying to be set on a copy of a slice from a DataFrame\n",
      "\n",
      "See the caveats in the documentation: https://pandas.pydata.org/pandas-docs/stable/user_guide/indexing.html#returning-a-view-versus-a-copy\n",
      "  return super().rename(\n"
     ]
    }
   ],
   "source": [
    "selected_facilities.rename(columns ={'label_full':'Name', 'longitude':'Longitude', 'latitude':'Latitude'}, inplace=True)"
   ]
  },
  {
   "cell_type": "code",
   "execution_count": 34,
   "id": "7fb789fd",
   "metadata": {},
   "outputs": [],
   "source": [
    "selected_facilities = selected_facilities.append(gdf[['Name', 'Longitude', 'Latitude', 'geometry']])"
   ]
  },
  {
   "cell_type": "code",
   "execution_count": 35,
   "id": "079970c5",
   "metadata": {},
   "outputs": [],
   "source": [
    "selected_facilities.to_file(os.path.join(outpath, 'points_of_interest.shp'))"
   ]
  }
 ],
 "metadata": {
  "kernelspec": {
   "display_name": "Python 3",
   "language": "python",
   "name": "python3"
  },
  "language_info": {
   "codemirror_mode": {
    "name": "ipython",
    "version": 3
   },
   "file_extension": ".py",
   "mimetype": "text/x-python",
   "name": "python",
   "nbconvert_exporter": "python",
   "pygments_lexer": "ipython3",
   "version": "3.8.8"
  }
 },
 "nbformat": 4,
 "nbformat_minor": 5
}
