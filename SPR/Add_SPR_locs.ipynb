{
 "cells": [
  {
   "cell_type": "code",
   "execution_count": 1,
   "id": "fdb4c817",
   "metadata": {},
   "outputs": [],
   "source": [
    "import pandas as pd\n",
    "import geopandas as gpd\n",
    "import os"
   ]
  },
  {
   "cell_type": "code",
   "execution_count": 2,
   "id": "15daf20f",
   "metadata": {},
   "outputs": [],
   "source": [
    "data = [['Clearwater Park', -122.958985, 44.0255687], ['Dorris Ranch', -123.0166442, 44.0264469]]"
   ]
  },
  {
   "cell_type": "code",
   "execution_count": 3,
   "id": "9b8ad49a",
   "metadata": {},
   "outputs": [],
   "source": [
    "df = pd.DataFrame(data, columns=['Name', 'Longitude', 'Latitude'])"
   ]
  },
  {
   "cell_type": "code",
   "execution_count": 4,
   "id": "2adb4869",
   "metadata": {},
   "outputs": [],
   "source": [
    "gdf = gpd.GeoDataFrame(df, crs=\"EPSG:4326\", geometry=gpd.points_from_xy(df.Longitude, df.Latitude))"
   ]
  },
  {
   "cell_type": "code",
   "execution_count": 5,
   "id": "5be6058b",
   "metadata": {},
   "outputs": [],
   "source": [
    "gdf = gdf.to_crs(epsg=2914)"
   ]
  },
  {
   "cell_type": "code",
   "execution_count": 6,
   "id": "ae51eecf",
   "metadata": {},
   "outputs": [],
   "source": [
    "path = r'T:\\DCProjects\\Support\\SPR\\data'"
   ]
  },
  {
   "cell_type": "code",
   "execution_count": 7,
   "id": "df3fd178",
   "metadata": {},
   "outputs": [],
   "source": [
    "# points = gpd.read_file(os.path.join(path, 'points_of_interest.shp'))\n",
    "# points = points.append(gdf, ignore_index=True)\n",
    "# points.head(3)"
   ]
  },
  {
   "cell_type": "code",
   "execution_count": 8,
   "id": "8d2f621c",
   "metadata": {},
   "outputs": [],
   "source": [
    "gdf.to_file(os.path.join(path, 'added_points.shp'))"
   ]
  }
 ],
 "metadata": {
  "kernelspec": {
   "display_name": "Python 3",
   "language": "python",
   "name": "python3"
  },
  "language_info": {
   "codemirror_mode": {
    "name": "ipython",
    "version": 3
   },
   "file_extension": ".py",
   "mimetype": "text/x-python",
   "name": "python",
   "nbconvert_exporter": "python",
   "pygments_lexer": "ipython3",
   "version": "3.8.8"
  }
 },
 "nbformat": 4,
 "nbformat_minor": 5
}
