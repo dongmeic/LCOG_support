{
 "cells": [
  {
   "cell_type": "code",
   "execution_count": 1,
   "id": "b426e807",
   "metadata": {},
   "outputs": [
    {
     "name": "stdout",
     "output_type": "stream",
     "text": [
      "Exported the map...\n"
     ]
    }
   ],
   "source": [
    "import arcpy\n",
    "\n",
    "outpath = r'G:\\projects\\UtilityDistricts\\eweb\\DrinkingWater\\IllegalCampCoordination\\Recieved'\n",
    "path = outpath + '\\\\IllegalCampNotification_pro'\n",
    "\n",
    "aprx = arcpy.mp.ArcGISProject(path + \"\\\\IllegalCampsMap.aprx\")\n",
    "\n",
    "lyt = aprx.listLayouts(\"Map*\")[0]\n",
    "\n",
    "mf = lyt.listElements(\"mapframe_element\", \"*\")[0]\n",
    "\n",
    "m = aprx.listMaps(\"Map\")[0]\n",
    "\n",
    "lyr = m.listLayers(\"Campsite\")[0]\n",
    "\n",
    "ex = mf.getLayerExtent(lyr, False, True)\n",
    "p = 500\n",
    "mf.camera.setExtent(arcpy.Extent(ex.XMin - p, ex.YMin - p, ex.XMax + p, ex.YMax + p))\n",
    "\n",
    "lyt.exportToJPEG(path + \"\\\\Map.jpg\")\n",
    "\n",
    "print(\"Exported the map...\")"
   ]
  }
 ],
 "metadata": {
  "kernelspec": {
   "display_name": "Python 3",
   "language": "python",
   "name": "python3"
  },
  "language_info": {
   "codemirror_mode": {
    "name": "ipython",
    "version": 3
   },
   "file_extension": ".py",
   "mimetype": "text/x-python",
   "name": "python",
   "nbconvert_exporter": "python",
   "pygments_lexer": "ipython3",
   "version": "3.9.11"
  }
 },
 "nbformat": 4,
 "nbformat_minor": 5
}
