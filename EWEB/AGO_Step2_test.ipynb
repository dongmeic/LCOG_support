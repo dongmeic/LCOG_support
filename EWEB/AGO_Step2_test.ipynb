{
 "cells": [
  {
   "cell_type": "code",
   "execution_count": 1,
   "id": "dd1e7780",
   "metadata": {},
   "outputs": [],
   "source": [
    "from arcgis.gis import GIS\n",
    "import arcpy\n",
    "from datetime import date\n",
    "import timeit\n",
    "import pandas as pd\n",
    "from itertools import groupby\n",
    "from operator import itemgetter"
   ]
  },
  {
   "cell_type": "code",
   "execution_count": 2,
   "id": "b5d9c453",
   "metadata": {},
   "outputs": [],
   "source": [
    "gis = GIS('home')"
   ]
  },
  {
   "cell_type": "code",
   "execution_count": 3,
   "id": "19e0fbe2",
   "metadata": {},
   "outputs": [],
   "source": [
    "search_result = gis.content.search(query=\"title:FERNSSummary_McKenzie_Joined\", item_type=\"Feature Layer\")"
   ]
  },
  {
   "cell_type": "code",
   "execution_count": 4,
   "id": "22f99fa5",
   "metadata": {},
   "outputs": [],
   "source": [
    "item = gis.content.get('5a6cd762152a48cc9be95b9ccf6272bd')"
   ]
  },
  {
   "cell_type": "code",
   "execution_count": 5,
   "id": "1a0a6029",
   "metadata": {},
   "outputs": [
    {
     "name": "stdout",
     "output_type": "stream",
     "text": [
      "https://services5.arcgis.com/9s1YtFmLS0YTl10F/arcgis/rest/services/FERNS_for_McKenzie_Catchments/FeatureServer/0\n"
     ]
    }
   ],
   "source": [
    "lyr = [lyr.url for lyr in item.layers if lyr.properties.name == 'FERNSSummary_McKenzie_Joined'][0]\n",
    "print(lyr)"
   ]
  },
  {
   "cell_type": "code",
   "execution_count": 6,
   "id": "c5dc2683",
   "metadata": {},
   "outputs": [],
   "source": [
    "path = r\"G:\\projects\\UtilityDistricts\\eweb\\DrinkingWater\\EPA319_NPS_grant\\ForestApplication\\ODF_FACTS_DB\\FERNS\\FERNS_Model\"\n",
    "wrkspace = path + \"\\\\FERNS_Workspace.gdb\""
   ]
  },
  {
   "cell_type": "code",
   "execution_count": 7,
   "id": "13a3de1c",
   "metadata": {},
   "outputs": [],
   "source": [
    "year = str(date.today().year)"
   ]
  },
  {
   "cell_type": "code",
   "execution_count": 8,
   "id": "c87bf452",
   "metadata": {},
   "outputs": [],
   "source": [
    "Expression=\"YEAR = '{0}'\".format(year)"
   ]
  },
  {
   "cell_type": "code",
   "execution_count": 9,
   "id": "bdd09879",
   "metadata": {},
   "outputs": [
    {
     "data": {
      "text/plain": [
       "\"YEAR = '2023'\""
      ]
     },
     "execution_count": 9,
     "metadata": {},
     "output_type": "execute_result"
    }
   ],
   "source": [
    "Expression"
   ]
  },
  {
   "cell_type": "code",
   "execution_count": 10,
   "id": "18666bb1",
   "metadata": {},
   "outputs": [],
   "source": [
    "desc = arcpy.Describe(lyr)"
   ]
  },
  {
   "cell_type": "code",
   "execution_count": 11,
   "id": "58f7a86b",
   "metadata": {},
   "outputs": [
    {
     "data": {
      "text/html": [
       "<style>table td#td0  {font-weight: bold}</style><table class=\"notebook\"><colgroup><col style=\"width:45%\"></col><col style=\"width:55%\"></col></colgroup><tr><td id = \"td0\" title=\"catalogPath\">catalogPath</td><td title=\"https://services5.arcgis.com/9s1YtFmLS0YTl10F/arcgis/rest/services/FERNS_for_McKenzie_Catchments/FeatureServer/0\">https://services5.arcgis.com/9s1YtFmLS0YTl10F/arcgis/rest/services/FERNS_for_McKenzie_Catchments/FeatureServer/0</td></tr><tr><td id = \"td0\" title=\"dataType\">dataType</td><td title=\"FeatureClass\">FeatureClass</td></tr><tr><td id = \"td0\" title=\"shapeType\">shapeType</td><td title=\"Polygon\">Polygon</td></tr><tr><td id = \"td0\" title=\"hasM\">hasM</td><td title=\"False\">False</td></tr><tr><td id = \"td0\" title=\"hasZ\">hasZ</td><td title=\"False\">False</td></tr></table><div class=\"title\"><i class=\"chevron-open\" onClick=\"event.preventDefault();document.getElementById('840EBEB1-B006-478F-9643-BA6A40AA17EE').style.display =   document.getElementById('840EBEB1-B006-478F-9643-BA6A40AA17EE').style.display == 'none' ? 'block' : 'none';this.classList.toggle('chevron-closed');\"></i>fields</div><div id=\"840EBEB1-B006-478F-9643-BA6A40AA17EE\"><style>table td#td0  {font-weight: bold}</style><table class=\"notebook\"><colgroup><col style=\"width:45%\"></col><col style=\"width:55%\"></col></colgroup><tr><td id = \"td0\" title=\"OBJECTID1\">OBJECTID1</td><td title=\"OID\">OID</td></tr><tr><td id = \"td0\" title=\"Basin_Name\">Basin_Name</td><td title=\"String\">String</td></tr><tr><td id = \"td0\" title=\"EWEB_ID\">EWEB_ID</td><td title=\"String\">String</td></tr><tr><td id = \"td0\" title=\"Subbasin_Acres\">Subbasin_Acres</td><td title=\"Double\">Double</td></tr><tr><td id = \"td0\" title=\"YEAR\">YEAR</td><td title=\"String\">String</td></tr><tr><td id = \"td0\" title=\"ActType\">ActType</td><td title=\"String\">String</td></tr><tr><td id = \"td0\" title=\"FREQUENCY\">FREQUENCY</td><td title=\"Integer\">Integer</td></tr><tr><td id = \"td0\" title=\"SUM_calc_acres\">SUM_calc_acres</td><td title=\"Double\">Double</td></tr><tr><td id = \"td0\" title=\"Activity_Acres_Percentage\">Activity_Acres_Percentage</td><td title=\"Double\">Double</td></tr><tr><td id = \"td0\" title=\"Shape__Area\">Shape__Area</td><td title=\"Double\">Double</td></tr><tr><td id = \"td0\" title=\"Shape__Length\">Shape__Length</td><td title=\"Double\">Double</td></tr><tr><td id = \"td0\" title=\"Shape\">Shape</td><td title=\"Geometry\">Geometry</td></tr></table></div><div class=\"title\"><i class=\"chevron-open\" onClick=\"event.preventDefault();document.getElementById('7251012F-21F5-4AE7-A735-8F42F3CF4B59').style.display =   document.getElementById('7251012F-21F5-4AE7-A735-8F42F3CF4B59').style.display == 'none' ? 'block' : 'none';this.classList.toggle('chevron-closed');\"></i>spatialReference</div><div id=\"7251012F-21F5-4AE7-A735-8F42F3CF4B59\"><style>table td#td0  {font-weight: bold}</style><table class=\"notebook\"><colgroup><col style=\"width:45%\"></col><col style=\"width:55%\"></col></colgroup><tr><td id = \"td0\" title=\"name (Projected Coordinate System)\">name (Projected Coordinate System)</td><td title=\"NAD_1983_HARN_StatePlane_Oregon_South_FIPS_3602_Feet_Intl\">NAD_1983_HARN_StatePlane_Oregon_South_FIPS_3602_Feet_Intl</td></tr><tr><td id = \"td0\" title=\"factoryCode (WKID)\">factoryCode (WKID)</td><td title=\"2914\">2914</td></tr><tr><td id = \"td0\" title=\"linearUnitName (Linear Unit)\">linearUnitName (Linear Unit)</td><td title=\"Foot\">Foot</td></tr></table><div class=\"subtitle\">spatialReference.GCS</div><style>table td#td0  {font-weight: bold}</style><table class=\"notebook\"><colgroup><col style=\"width:45%\"></col><col style=\"width:55%\"></col></colgroup><tr><td id = \"td0\" title=\"name (Geographic Coordinate System)\">name (Geographic Coordinate System)</td><td title=\"GCS_North_American_1983_HARN\">GCS_North_American_1983_HARN</td></tr><tr><td id = \"td0\" title=\"factoryCode (WKID)\">factoryCode (WKID)</td><td title=\"4152\">4152</td></tr><tr><td id = \"td0\" title=\"angularUnitName (Angular Unit)\">angularUnitName (Angular Unit)</td><td title=\"Degree\">Degree</td></tr><tr><td id = \"td0\" title=\"datumName (Datum)\">datumName (Datum)</td><td title=\"D_North_American_1983_HARN\">D_North_American_1983_HARN</td></tr></table></div><p class=\"gpresult\">For additional help,     see <a href=\"https://pro.arcgis.com/en/pro-app/latest/arcpy/functions/featureclass-properties.htm\" target=\"_blank\" >arcpy.Describe</a></p><br>"
      ],
      "text/plain": [
       "<geoprocessing describe data object at 0x1a2d98c7e30>"
      ]
     },
     "execution_count": 11,
     "metadata": {},
     "output_type": "execute_result"
    }
   ],
   "source": [
    "desc"
   ]
  },
  {
   "cell_type": "code",
   "execution_count": 12,
   "id": "a1e87f85",
   "metadata": {},
   "outputs": [],
   "source": [
    "def unique_values(table, field):  ##uses list comprehension\n",
    "    with arcpy.da.SearchCursor(table, [field]) as cursor:\n",
    "        return sorted({row[0] for row in cursor})"
   ]
  },
  {
   "cell_type": "code",
   "execution_count": 13,
   "id": "8008dd76",
   "metadata": {},
   "outputs": [
    {
     "name": "stdout",
     "output_type": "stream",
     "text": [
      "0.8151014000000032\n",
      "['2014', '2015', '2016', '2017', '2018', '2019', '2020', '2021', '2022', '2023']\n"
     ]
    }
   ],
   "source": [
    "try:\n",
    "    start = timeit.default_timer()\n",
    "    vals = unique_values(lyr,\"YEAR\")\n",
    "\n",
    "    stop = timeit.default_timer()\n",
    "    total_time = stop - start\n",
    "    print(total_time)\n",
    "    print(vals)\n",
    "\n",
    "except Exception as e:\n",
    "    print(\"Error: \" + e.args[0])"
   ]
  },
  {
   "cell_type": "code",
   "execution_count": 14,
   "id": "c5bcf716",
   "metadata": {},
   "outputs": [
    {
     "name": "stdout",
     "output_type": "stream",
     "text": [
      "OBJECTID1 is a type of OID with a length of 0\n",
      "Basin_Name is a type of String with a length of 10485758\n",
      "EWEB_ID is a type of String with a length of 10485758\n",
      "Subbasin_Acres is a type of Double with a length of 0\n",
      "YEAR is a type of String with a length of 10485758\n",
      "ActType is a type of String with a length of 10485758\n",
      "FREQUENCY is a type of Integer with a length of 0\n",
      "SUM_calc_acres is a type of Double with a length of 0\n",
      "Activity_Acres_Percentage is a type of Double with a length of 0\n",
      "Shape__Area is a type of Double with a length of 0\n",
      "Shape__Length is a type of Double with a length of 0\n",
      "Shape is a type of Geometry with a length of 0\n"
     ]
    }
   ],
   "source": [
    "fields = arcpy.ListFields(lyr)\n",
    "\n",
    "for field in fields:\n",
    "    print(f\"{field.name} is a type of {field.type} with a length of {field.length}\")"
   ]
  },
  {
   "cell_type": "code",
   "execution_count": 15,
   "id": "6c020bb1",
   "metadata": {},
   "outputs": [],
   "source": [
    "field_names = [field.name for field in fields]"
   ]
  },
  {
   "cell_type": "code",
   "execution_count": 16,
   "id": "17a5bf3d",
   "metadata": {},
   "outputs": [],
   "source": [
    "field_names.remove('OBJECTID1')"
   ]
  },
  {
   "cell_type": "code",
   "execution_count": 17,
   "id": "a3255866",
   "metadata": {},
   "outputs": [
    {
     "data": {
      "text/plain": [
       "['Basin_Name',\n",
       " 'EWEB_ID',\n",
       " 'Subbasin_Acres',\n",
       " 'YEAR',\n",
       " 'ActType',\n",
       " 'FREQUENCY',\n",
       " 'SUM_calc_acres',\n",
       " 'Activity_Acres_Percentage',\n",
       " 'Shape__Area',\n",
       " 'Shape__Length',\n",
       " 'Shape']"
      ]
     },
     "execution_count": 17,
     "metadata": {},
     "output_type": "execute_result"
    }
   ],
   "source": [
    "field_names"
   ]
  },
  {
   "cell_type": "code",
   "execution_count": 18,
   "id": "0d16a4e6",
   "metadata": {},
   "outputs": [],
   "source": [
    "AGO_FERNSSummary_McKenzie_Joined_2_, Count = arcpy.management.SelectLayerByAttribute(in_layer_or_view=lyr, \n",
    "                                                                                        selection_type=\"NEW_SELECTION\", \n",
    "                                                                                        where_clause=Expression, \n",
    "                                                                                        invert_where_clause=\"\")"
   ]
  },
  {
   "cell_type": "code",
   "execution_count": 19,
   "id": "38cba079",
   "metadata": {},
   "outputs": [
    {
     "name": "stdout",
     "output_type": "stream",
     "text": [
      "Year 2023 has 36 count!\n"
     ]
    }
   ],
   "source": [
    "print(f\"Year {year} has {Count} count!\")"
   ]
  },
  {
   "cell_type": "code",
   "execution_count": 22,
   "id": "90cf82a4",
   "metadata": {},
   "outputs": [],
   "source": [
    "arcpy.env.overwriteOutput = True"
   ]
  },
  {
   "cell_type": "code",
   "execution_count": 60,
   "id": "9e7cdfb2",
   "metadata": {},
   "outputs": [
    {
     "name": "stdout",
     "output_type": "stream",
     "text": [
      "329.43447989999913\n"
     ]
    }
   ],
   "source": [
    "start = timeit.default_timer()\n",
    "result = arcpy.management.FindIdentical(lyr, path+'\\\\duplicate_incidents.dbf', field_names)\n",
    "stop = timeit.default_timer()\n",
    "total_time = stop - start\n",
    "print(total_time)"
   ]
  },
  {
   "cell_type": "code",
   "execution_count": 61,
   "id": "45fc8843",
   "metadata": {},
   "outputs": [],
   "source": [
    "out_records = []   \n",
    "for row in arcpy.SearchCursor(result.getOutput(0), fields=\"IN_FID; FEAT_SEQ\"):\n",
    "    out_records.append([row.IN_FID, row.FEAT_SEQ])"
   ]
  },
  {
   "cell_type": "code",
   "execution_count": 62,
   "id": "064776e5",
   "metadata": {},
   "outputs": [],
   "source": [
    "out_records.sort(key = itemgetter(1))"
   ]
  },
  {
   "cell_type": "code",
   "execution_count": 63,
   "id": "66cb4143",
   "metadata": {},
   "outputs": [],
   "source": [
    "identicals_iter = groupby(out_records, itemgetter(1))"
   ]
  },
  {
   "cell_type": "code",
   "execution_count": 64,
   "id": "54294ccc",
   "metadata": {},
   "outputs": [],
   "source": [
    "identical_groups = [[item[0] for item in data] for (key, data) in identicals_iter]"
   ]
  },
  {
   "cell_type": "code",
   "execution_count": 65,
   "id": "891d9c55",
   "metadata": {},
   "outputs": [
    {
     "data": {
      "text/plain": [
       "1369"
      ]
     },
     "execution_count": 65,
     "metadata": {},
     "output_type": "execute_result"
    }
   ],
   "source": [
    "len([item for item in identical_groups if len(item) == 1])"
   ]
  },
  {
   "cell_type": "code",
   "execution_count": 66,
   "id": "6dba71ff",
   "metadata": {},
   "outputs": [
    {
     "data": {
      "text/plain": [
       "1387"
      ]
     },
     "execution_count": 66,
     "metadata": {},
     "output_type": "execute_result"
    }
   ],
   "source": [
    "len(identical_groups)"
   ]
  },
  {
   "cell_type": "code",
   "execution_count": 67,
   "id": "b993a320",
   "metadata": {},
   "outputs": [
    {
     "data": {
      "text/plain": [
       "[[4738, 4756],\n",
       " [4739, 4757],\n",
       " [4740, 4758],\n",
       " [4741, 4759],\n",
       " [4742, 4760],\n",
       " [4743, 4761],\n",
       " [4744, 4762],\n",
       " [4745, 4763],\n",
       " [4746, 4764],\n",
       " [4747, 4765],\n",
       " [4748, 4766],\n",
       " [4749, 4767],\n",
       " [4750, 4768],\n",
       " [4751, 4769],\n",
       " [4752, 4770],\n",
       " [4753, 4771],\n",
       " [4754, 4772],\n",
       " [4755, 4773]]"
      ]
     },
     "execution_count": 67,
     "metadata": {},
     "output_type": "execute_result"
    }
   ],
   "source": [
    "[item for item in identical_groups if len(item) > 1]"
   ]
  },
  {
   "cell_type": "code",
   "execution_count": 68,
   "id": "4d65aca6",
   "metadata": {},
   "outputs": [
    {
     "ename": "ExecuteError",
     "evalue": "ERROR 999999: Something unexpected caused the tool to fail. Contact Esri Technical Support (http://esriurl.com/support) to Report a Bug, and refer to the error help for potential solutions or workarounds.\nERROR: code:504, Your request has timed out., Proxy server got bad address from remote server (verify the server is running).\nFailed to execute (DeleteIdentical).\n",
     "output_type": "error",
     "traceback": [
      "\u001b[1;31m---------------------------------------------------------------------------\u001b[0m",
      "\u001b[1;31mExecuteError\u001b[0m                              Traceback (most recent call last)",
      "\u001b[1;32m<ipython-input-68-609d0d72aae9>\u001b[0m in \u001b[0;36m<module>\u001b[1;34m\u001b[0m\n\u001b[0;32m      1\u001b[0m \u001b[0mstart\u001b[0m \u001b[1;33m=\u001b[0m \u001b[0mtimeit\u001b[0m\u001b[1;33m.\u001b[0m\u001b[0mdefault_timer\u001b[0m\u001b[1;33m(\u001b[0m\u001b[1;33m)\u001b[0m\u001b[1;33m\u001b[0m\u001b[1;33m\u001b[0m\u001b[0m\n\u001b[1;32m----> 2\u001b[1;33m \u001b[0mres\u001b[0m \u001b[1;33m=\u001b[0m \u001b[0marcpy\u001b[0m\u001b[1;33m.\u001b[0m\u001b[0mmanagement\u001b[0m\u001b[1;33m.\u001b[0m\u001b[0mDeleteIdentical\u001b[0m\u001b[1;33m(\u001b[0m\u001b[0mlyr\u001b[0m\u001b[1;33m,\u001b[0m \u001b[0mfield_names\u001b[0m\u001b[1;33m)\u001b[0m\u001b[1;33m\u001b[0m\u001b[1;33m\u001b[0m\u001b[0m\n\u001b[0m\u001b[0;32m      3\u001b[0m \u001b[0mstop\u001b[0m \u001b[1;33m=\u001b[0m \u001b[0mtimeit\u001b[0m\u001b[1;33m.\u001b[0m\u001b[0mdefault_timer\u001b[0m\u001b[1;33m(\u001b[0m\u001b[1;33m)\u001b[0m\u001b[1;33m\u001b[0m\u001b[1;33m\u001b[0m\u001b[0m\n\u001b[0;32m      4\u001b[0m \u001b[0mtotal_time\u001b[0m \u001b[1;33m=\u001b[0m \u001b[0mstop\u001b[0m \u001b[1;33m-\u001b[0m \u001b[0mstart\u001b[0m\u001b[1;33m\u001b[0m\u001b[1;33m\u001b[0m\u001b[0m\n\u001b[0;32m      5\u001b[0m \u001b[0mprint\u001b[0m\u001b[1;33m(\u001b[0m\u001b[0mtotal_time\u001b[0m\u001b[1;33m)\u001b[0m\u001b[1;33m\u001b[0m\u001b[1;33m\u001b[0m\u001b[0m\n",
      "\u001b[1;32mC:\\Program Files\\ArcGIS\\Pro\\Resources\\ArcPy\\arcpy\\management.py\u001b[0m in \u001b[0;36mDeleteIdentical\u001b[1;34m(in_dataset, fields, xy_tolerance, z_tolerance)\u001b[0m\n\u001b[0;32m   7004\u001b[0m         \u001b[1;32mreturn\u001b[0m \u001b[0mretval\u001b[0m\u001b[1;33m\u001b[0m\u001b[1;33m\u001b[0m\u001b[0m\n\u001b[0;32m   7005\u001b[0m     \u001b[1;32mexcept\u001b[0m \u001b[0mException\u001b[0m \u001b[1;32mas\u001b[0m \u001b[0me\u001b[0m\u001b[1;33m:\u001b[0m\u001b[1;33m\u001b[0m\u001b[1;33m\u001b[0m\u001b[0m\n\u001b[1;32m-> 7006\u001b[1;33m         \u001b[1;32mraise\u001b[0m \u001b[0me\u001b[0m\u001b[1;33m\u001b[0m\u001b[1;33m\u001b[0m\u001b[0m\n\u001b[0m\u001b[0;32m   7007\u001b[0m \u001b[1;33m\u001b[0m\u001b[0m\n\u001b[0;32m   7008\u001b[0m \u001b[1;33m@\u001b[0m\u001b[0mgptooldoc\u001b[0m\u001b[1;33m(\u001b[0m\u001b[1;34m'ExportReportToPDF_management'\u001b[0m\u001b[1;33m,\u001b[0m \u001b[1;32mNone\u001b[0m\u001b[1;33m)\u001b[0m\u001b[1;33m\u001b[0m\u001b[1;33m\u001b[0m\u001b[0m\n",
      "\u001b[1;32mC:\\Program Files\\ArcGIS\\Pro\\Resources\\ArcPy\\arcpy\\management.py\u001b[0m in \u001b[0;36mDeleteIdentical\u001b[1;34m(in_dataset, fields, xy_tolerance, z_tolerance)\u001b[0m\n\u001b[0;32m   7001\u001b[0m     \u001b[1;32mfrom\u001b[0m \u001b[0marcpy\u001b[0m\u001b[1;33m.\u001b[0m\u001b[0marcobjects\u001b[0m\u001b[1;33m.\u001b[0m\u001b[0marcobjectconversion\u001b[0m \u001b[1;32mimport\u001b[0m \u001b[0mconvertArcObjectToPythonObject\u001b[0m\u001b[1;33m\u001b[0m\u001b[1;33m\u001b[0m\u001b[0m\n\u001b[0;32m   7002\u001b[0m     \u001b[1;32mtry\u001b[0m\u001b[1;33m:\u001b[0m\u001b[1;33m\u001b[0m\u001b[1;33m\u001b[0m\u001b[0m\n\u001b[1;32m-> 7003\u001b[1;33m         \u001b[0mretval\u001b[0m \u001b[1;33m=\u001b[0m \u001b[0mconvertArcObjectToPythonObject\u001b[0m\u001b[1;33m(\u001b[0m\u001b[0mgp\u001b[0m\u001b[1;33m.\u001b[0m\u001b[0mDeleteIdentical_management\u001b[0m\u001b[1;33m(\u001b[0m\u001b[1;33m*\u001b[0m\u001b[0mgp_fixargs\u001b[0m\u001b[1;33m(\u001b[0m\u001b[1;33m(\u001b[0m\u001b[0min_dataset\u001b[0m\u001b[1;33m,\u001b[0m \u001b[0mfields\u001b[0m\u001b[1;33m,\u001b[0m \u001b[0mxy_tolerance\u001b[0m\u001b[1;33m,\u001b[0m \u001b[0mz_tolerance\u001b[0m\u001b[1;33m)\u001b[0m\u001b[1;33m,\u001b[0m \u001b[1;32mTrue\u001b[0m\u001b[1;33m)\u001b[0m\u001b[1;33m)\u001b[0m\u001b[1;33m)\u001b[0m\u001b[1;33m\u001b[0m\u001b[1;33m\u001b[0m\u001b[0m\n\u001b[0m\u001b[0;32m   7004\u001b[0m         \u001b[1;32mreturn\u001b[0m \u001b[0mretval\u001b[0m\u001b[1;33m\u001b[0m\u001b[1;33m\u001b[0m\u001b[0m\n\u001b[0;32m   7005\u001b[0m     \u001b[1;32mexcept\u001b[0m \u001b[0mException\u001b[0m \u001b[1;32mas\u001b[0m \u001b[0me\u001b[0m\u001b[1;33m:\u001b[0m\u001b[1;33m\u001b[0m\u001b[1;33m\u001b[0m\u001b[0m\n",
      "\u001b[1;32mC:\\Program Files\\ArcGIS\\Pro\\Resources\\ArcPy\\arcpy\\geoprocessing\\_base.py\u001b[0m in \u001b[0;36m<lambda>\u001b[1;34m(*args)\u001b[0m\n\u001b[0;32m    510\u001b[0m         \u001b[0mval\u001b[0m \u001b[1;33m=\u001b[0m \u001b[0mgetattr\u001b[0m\u001b[1;33m(\u001b[0m\u001b[0mself\u001b[0m\u001b[1;33m.\u001b[0m\u001b[0m_gp\u001b[0m\u001b[1;33m,\u001b[0m \u001b[0mattr\u001b[0m\u001b[1;33m)\u001b[0m\u001b[1;33m\u001b[0m\u001b[1;33m\u001b[0m\u001b[0m\n\u001b[0;32m    511\u001b[0m         \u001b[1;32mif\u001b[0m \u001b[0mcallable\u001b[0m\u001b[1;33m(\u001b[0m\u001b[0mval\u001b[0m\u001b[1;33m)\u001b[0m\u001b[1;33m:\u001b[0m\u001b[1;33m\u001b[0m\u001b[1;33m\u001b[0m\u001b[0m\n\u001b[1;32m--> 512\u001b[1;33m             \u001b[1;32mreturn\u001b[0m \u001b[1;32mlambda\u001b[0m \u001b[1;33m*\u001b[0m\u001b[0margs\u001b[0m\u001b[1;33m:\u001b[0m \u001b[0mval\u001b[0m\u001b[1;33m(\u001b[0m\u001b[1;33m*\u001b[0m\u001b[0mgp_fixargs\u001b[0m\u001b[1;33m(\u001b[0m\u001b[0margs\u001b[0m\u001b[1;33m,\u001b[0m \u001b[1;32mTrue\u001b[0m\u001b[1;33m)\u001b[0m\u001b[1;33m)\u001b[0m\u001b[1;33m\u001b[0m\u001b[1;33m\u001b[0m\u001b[0m\n\u001b[0m\u001b[0;32m    513\u001b[0m         \u001b[1;32melse\u001b[0m\u001b[1;33m:\u001b[0m\u001b[1;33m\u001b[0m\u001b[1;33m\u001b[0m\u001b[0m\n\u001b[0;32m    514\u001b[0m             \u001b[1;32mreturn\u001b[0m \u001b[0mconvertArcObjectToPythonObject\u001b[0m\u001b[1;33m(\u001b[0m\u001b[0mval\u001b[0m\u001b[1;33m)\u001b[0m\u001b[1;33m\u001b[0m\u001b[1;33m\u001b[0m\u001b[0m\n",
      "\u001b[1;31mExecuteError\u001b[0m: ERROR 999999: Something unexpected caused the tool to fail. Contact Esri Technical Support (http://esriurl.com/support) to Report a Bug, and refer to the error help for potential solutions or workarounds.\nERROR: code:504, Your request has timed out., Proxy server got bad address from remote server (verify the server is running).\nFailed to execute (DeleteIdentical).\n"
     ]
    }
   ],
   "source": [
    "start = timeit.default_timer()\n",
    "res = arcpy.management.DeleteIdentical(lyr, field_names)\n",
    "stop = timeit.default_timer()\n",
    "total_time = stop - start\n",
    "print(total_time)"
   ]
  },
  {
   "cell_type": "code",
   "execution_count": 46,
   "id": "a88391fd",
   "metadata": {},
   "outputs": [
    {
     "data": {
      "text/plain": [
       "'2023'"
      ]
     },
     "execution_count": 46,
     "metadata": {},
     "output_type": "execute_result"
    }
   ],
   "source": [
    "year"
   ]
  },
  {
   "cell_type": "code",
   "execution_count": 51,
   "id": "b4c72766",
   "metadata": {},
   "outputs": [],
   "source": [
    "Expression=f\"YEAR <> '{year}'\""
   ]
  },
  {
   "cell_type": "code",
   "execution_count": 43,
   "id": "9ed2932a",
   "metadata": {},
   "outputs": [
    {
     "data": {
      "text/plain": [
       "'https://services5.arcgis.com/9s1YtFmLS0YTl10F/arcgis/rest/services/FERNS_for_McKenzie_Catchments/FeatureServer/0'"
      ]
     },
     "execution_count": 43,
     "metadata": {},
     "output_type": "execute_result"
    }
   ],
   "source": [
    "lyr"
   ]
  },
  {
   "cell_type": "code",
   "execution_count": 52,
   "id": "bbd6f9fd",
   "metadata": {},
   "outputs": [],
   "source": [
    "selected, count = arcpy.management.SelectLayerByAttribute(in_layer_or_view=lyr, \n",
    "                                                          selection_type=\"NEW_SELECTION\",\n",
    "                                                          where_clause=Expression, \n",
    "                                                          invert_where_clause=\"\")"
   ]
  },
  {
   "cell_type": "code",
   "execution_count": 54,
   "id": "829285d8",
   "metadata": {},
   "outputs": [],
   "source": [
    "FERNSSummary_McKenzie_Joined = path + \"\\\\FERNS_Final_Products.gdb\\\\FERNSSummary_McKenzie_Joined\""
   ]
  },
  {
   "cell_type": "code",
   "execution_count": 55,
   "id": "345b2e09",
   "metadata": {},
   "outputs": [],
   "source": [
    "Joined = arcpy.management.Append(inputs=[FERNSSummary_McKenzie_Joined],\n",
    "                                 target=selected,\n",
    "                                 schema_type=\"TEST\", \n",
    "                                 field_mapping=\"\", \n",
    "                                 subtype=\"\", \n",
    "                                 expression=\"\")[0]"
   ]
  }
 ],
 "metadata": {
  "kernelspec": {
   "display_name": "Python 3",
   "language": "python",
   "name": "python3"
  },
  "language_info": {
   "codemirror_mode": {
    "name": "ipython",
    "version": 3
   },
   "file_extension": ".py",
   "mimetype": "text/x-python",
   "name": "python",
   "nbconvert_exporter": "python",
   "pygments_lexer": "ipython3",
   "version": "3.9.11"
  }
 },
 "nbformat": 4,
 "nbformat_minor": 5
}
