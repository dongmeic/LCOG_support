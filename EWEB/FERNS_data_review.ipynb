{
 "cells": [
  {
   "cell_type": "code",
   "execution_count": 1,
   "id": "20075f53",
   "metadata": {},
   "outputs": [],
   "source": [
    "import geopandas as gpd"
   ]
  },
  {
   "cell_type": "code",
   "execution_count": 2,
   "id": "0adc20b0",
   "metadata": {
    "scrolled": true
   },
   "outputs": [],
   "source": [
    "import os, re\n",
    "from datetime import date, datetime, timedelta\n",
    "import pandas as pd\n",
    "import matplotlib.pyplot as plt\n",
    "import timeit"
   ]
  },
  {
   "cell_type": "code",
   "execution_count": 3,
   "id": "57f9f08c",
   "metadata": {},
   "outputs": [],
   "source": [
    "path = r'G:\\projects\\UtilityDistricts\\eweb\\DrinkingWater\\EPA319_NPS_grant\\ForestApplication\\ODF_FACTS_DB\\FERNS\\FERNS_Model'"
   ]
  },
  {
   "cell_type": "code",
   "execution_count": 4,
   "id": "6f1bbc03",
   "metadata": {},
   "outputs": [],
   "source": [
    "inpath = path + '\\\\FERNS_Model_Intermediate.gdb'"
   ]
  },
  {
   "cell_type": "code",
   "execution_count": 5,
   "id": "f5ff5f90",
   "metadata": {},
   "outputs": [],
   "source": [
    "FERNS = gpd.read_file(inpath, driver = 'FileGDB', layer = 'ReProjected')"
   ]
  },
  {
   "cell_type": "code",
   "execution_count": 6,
   "id": "3463a36c",
   "metadata": {},
   "outputs": [
    {
     "data": {
      "text/plain": [
       "Index(['NoapID', 'UnitID', 'NoapIdentifier', 'WorkArea', 'OperationName',\n",
       "       'OperatorName', 'UnitName', 'UnitArea', 'ActType', 'LandOwners',\n",
       "       'StartDate', 'EndDate', 'ActivityID', 'HighwayBuffer', 'SummaryLink',\n",
       "       'PDFLink', 'Shape_Length', 'Shape_Area', 'geometry'],\n",
       "      dtype='object')"
      ]
     },
     "execution_count": 6,
     "metadata": {},
     "output_type": "execute_result"
    }
   ],
   "source": [
    "FERNS.columns"
   ]
  },
  {
   "cell_type": "code",
   "execution_count": 7,
   "id": "91c5cb2f",
   "metadata": {},
   "outputs": [],
   "source": [
    "# selected activity types, first the types included on the dashboard, then the types used in Kyle's table\n",
    "# sel_actypes = ['Changing Land Use to a non-forest use', 'Clearcut/Overstory Removal', \n",
    "#                'Clearing for Homesites/Other development', 'Commercial Thinning/Selective Cutting',\n",
    "#               'Fertilizer Application', 'Herbicide Application (Unit)', 'Salvage', 'Precommercial Thinning',\n",
    "#               'Fungicide Application', 'Insecticide Application']\n",
    "sel_actypes = ['Herbicide Application (Unit)', 'Clearcut/Overstory Removal', 'Salvage']"
   ]
  },
  {
   "cell_type": "code",
   "execution_count": 8,
   "id": "12a5603a",
   "metadata": {},
   "outputs": [
    {
     "data": {
      "text/plain": [
       "True"
      ]
     },
     "execution_count": 8,
     "metadata": {},
     "output_type": "execute_result"
    }
   ],
   "source": [
    "# check if the spellings are all corrected\n",
    "all([acty in FERNS.ActType.unique() for acty in sel_actypes])"
   ]
  },
  {
   "cell_type": "code",
   "execution_count": 9,
   "id": "5fd0b40e",
   "metadata": {},
   "outputs": [
    {
     "data": {
      "text/plain": [
       "<Projected CRS: EPSG:2914>\n",
       "Name: NAD83(HARN) / Oregon South (ft)\n",
       "Axis Info [cartesian]:\n",
       "- X[east]: Easting (foot)\n",
       "- Y[north]: Northing (foot)\n",
       "Area of Use:\n",
       "- name: United States (USA) - Oregon - counties of Coos; Crook; Curry; Deschutes; Douglas; Harney; Jackson; Josephine; Klamath; Lake; Lane; Malheur.\n",
       "- bounds: (-124.6, 41.98, -116.9, 44.56)\n",
       "Coordinate Operation:\n",
       "- name: SPCS83 Oregon South zone (International feet)\n",
       "- method: Lambert Conic Conformal (2SP)\n",
       "Datum: NAD83 (High Accuracy Reference Network)\n",
       "- Ellipsoid: GRS 1980\n",
       "- Prime Meridian: Greenwich"
      ]
     },
     "execution_count": 9,
     "metadata": {},
     "output_type": "execute_result"
    }
   ],
   "source": [
    "# the original spatial reference\n",
    "FERNS.crs"
   ]
  },
  {
   "cell_type": "code",
   "execution_count": 10,
   "id": "0310c070",
   "metadata": {},
   "outputs": [],
   "source": [
    "McK_basins = gpd.read_file(path + '\\\\FERNS_Model_Input.gdb', driver = 'FileGDB', layer = 'McKenzie_Catchments_Input')"
   ]
  },
  {
   "cell_type": "code",
   "execution_count": 11,
   "id": "e878dbd3",
   "metadata": {},
   "outputs": [],
   "source": [
    "FERNS_s = FERNS[FERNS.ActType.isin(sel_actypes)]"
   ]
  },
  {
   "cell_type": "code",
   "execution_count": 12,
   "id": "aba6e550",
   "metadata": {},
   "outputs": [
    {
     "data": {
      "text/plain": [
       "Index(['Basin_Name', 'EWEB_ID', 'Shape_Length', 'Shape_Area', 'Subbasin_Acres',\n",
       "       'geometry'],\n",
       "      dtype='object')"
      ]
     },
     "execution_count": 12,
     "metadata": {},
     "output_type": "execute_result"
    }
   ],
   "source": [
    "McK_basins.columns"
   ]
  },
  {
   "cell_type": "code",
   "execution_count": 13,
   "id": "9e077ea1",
   "metadata": {},
   "outputs": [
    {
     "data": {
      "text/plain": [
       "True"
      ]
     },
     "execution_count": 13,
     "metadata": {},
     "output_type": "execute_result"
    }
   ],
   "source": [
    "# make sure there are not duplicated basin names\n",
    "len(McK_basins.Basin_Name.unique()) == McK_basins.shape[0]"
   ]
  },
  {
   "cell_type": "code",
   "execution_count": 14,
   "id": "f0a7bc54",
   "metadata": {},
   "outputs": [],
   "source": [
    "# tried intersect first but it works differently in geopandas; chose clip that matches with intersect in ArcGIS Pro\n",
    "FERNS_in_Mck_basins = pd.DataFrame()\n",
    "# select FERNS data within McKenzie catchments\n",
    "for basin in McK_basins.Basin_Name.unique():\n",
    "    #idx = McK_basins[McK_basins.Basin_Name == basin].index[0]\n",
    "    #intersected = FERNS_s[FERNS_s['geometry'].intersects(McK_basins['geometry'].values[idx])]\n",
    "    intersected = gpd.clip(FERNS_s, McK_basins[McK_basins.Basin_Name == basin])\n",
    "    intersected['Basin_Name'] = basin\n",
    "    FERNS_in_Mck_basins = FERNS_in_Mck_basins.append(intersected, ignore_index=True)"
   ]
  },
  {
   "cell_type": "code",
   "execution_count": 15,
   "id": "d0e1b4e0",
   "metadata": {},
   "outputs": [],
   "source": [
    "# convert square feet to acres\n",
    "FERNS_in_Mck_basins['acres'] = FERNS_in_Mck_basins.area / 43560"
   ]
  },
  {
   "cell_type": "code",
   "execution_count": 16,
   "id": "cc695583",
   "metadata": {},
   "outputs": [],
   "source": [
    "FERNS_in_Mck_basins['year'] = FERNS_in_Mck_basins.EndDate.apply(lambda x: x.split('-')[0])"
   ]
  },
  {
   "cell_type": "code",
   "execution_count": 17,
   "id": "c2a9ec26",
   "metadata": {},
   "outputs": [],
   "source": [
    "# report data to see the patterns and export data\n",
    "data_overview = FERNS_in_Mck_basins.groupby(['year', 'ActType']).agg({'acres': ['sum', 'mean', 'min', 'max']})\n",
    "data_overview_by_basin = FERNS_in_Mck_basins.groupby(['year', 'ActType', 'Basin_Name']).agg({'acres': 'sum'})"
   ]
  },
  {
   "cell_type": "code",
   "execution_count": 18,
   "id": "aab0b369",
   "metadata": {},
   "outputs": [],
   "source": [
    "data_overview.columns = list(map(lambda x: x[0] + '_' + x[1], list(data_overview.columns)))"
   ]
  },
  {
   "cell_type": "code",
   "execution_count": 19,
   "id": "2168402a",
   "metadata": {},
   "outputs": [],
   "source": [
    "data_overview_by_basin_reidx = data_overview_by_basin.reset_index()"
   ]
  },
  {
   "cell_type": "code",
   "execution_count": 27,
   "id": "84e8ae67",
   "metadata": {},
   "outputs": [
    {
     "data": {
      "text/html": [
       "<div>\n",
       "<style scoped>\n",
       "    .dataframe tbody tr th:only-of-type {\n",
       "        vertical-align: middle;\n",
       "    }\n",
       "\n",
       "    .dataframe tbody tr th {\n",
       "        vertical-align: top;\n",
       "    }\n",
       "\n",
       "    .dataframe thead th {\n",
       "        text-align: right;\n",
       "    }\n",
       "</style>\n",
       "<table border=\"1\" class=\"dataframe\">\n",
       "  <thead>\n",
       "    <tr style=\"text-align: right;\">\n",
       "      <th></th>\n",
       "      <th>year</th>\n",
       "      <th>ActType</th>\n",
       "      <th>Basin_Name</th>\n",
       "      <th>acres</th>\n",
       "    </tr>\n",
       "  </thead>\n",
       "  <tbody>\n",
       "    <tr>\n",
       "      <th>0</th>\n",
       "      <td>2014</td>\n",
       "      <td>Clearcut/Overstory Removal</td>\n",
       "      <td>Camp Creek</td>\n",
       "      <td>23.210036</td>\n",
       "    </tr>\n",
       "    <tr>\n",
       "      <th>1</th>\n",
       "      <td>2014</td>\n",
       "      <td>Clearcut/Overstory Removal</td>\n",
       "      <td>Gate Creek</td>\n",
       "      <td>16.123516</td>\n",
       "    </tr>\n",
       "    <tr>\n",
       "      <th>2</th>\n",
       "      <td>2014</td>\n",
       "      <td>Clearcut/Overstory Removal</td>\n",
       "      <td>Headwaters Mohawk River</td>\n",
       "      <td>55.728350</td>\n",
       "    </tr>\n",
       "  </tbody>\n",
       "</table>\n",
       "</div>"
      ],
      "text/plain": [
       "   year                     ActType               Basin_Name      acres\n",
       "0  2014  Clearcut/Overstory Removal               Camp Creek  23.210036\n",
       "1  2014  Clearcut/Overstory Removal               Gate Creek  16.123516\n",
       "2  2014  Clearcut/Overstory Removal  Headwaters Mohawk River  55.728350"
      ]
     },
     "execution_count": 27,
     "metadata": {},
     "output_type": "execute_result"
    }
   ],
   "source": [
    "data_overview_by_basin_reidx.head(3)"
   ]
  },
  {
   "cell_type": "code",
   "execution_count": 20,
   "id": "a8efc29b",
   "metadata": {},
   "outputs": [],
   "source": [
    "testdt = data_overview_by_basin.unstack('ActType').unstack('year').sort_index(axis=1, ascending=False)"
   ]
  },
  {
   "cell_type": "code",
   "execution_count": 22,
   "id": "4f898e5d",
   "metadata": {},
   "outputs": [],
   "source": [
    "testdt = testdt.sort_index(axis=0, ascending=True)"
   ]
  },
  {
   "cell_type": "code",
   "execution_count": 26,
   "id": "65b59365",
   "metadata": {},
   "outputs": [],
   "source": [
    "testdt.to_csv(path+'\\\\output\\\\FERNS_' + str(date.today()).replace('-', '') + '.csv', index=True)"
   ]
  },
  {
   "cell_type": "code",
   "execution_count": 24,
   "id": "20929cc3",
   "metadata": {},
   "outputs": [
    {
     "data": {
      "text/plain": [
       "array(['Shotcash Creek-Mohawk River', 'Camp Creek', 'Gate Creek',\n",
       "       'Headwaters Mohawk River', 'McKenzie_E110', 'Walterville Canal',\n",
       "       'Mill Creek', 'Blue River', 'McGowan Creek-Mohawk River',\n",
       "       'McKenzie_E020', 'Parsons Creek-Mohawk River', 'Quartz Creek',\n",
       "       'Cogswell Creek', 'Hatchery Creek', 'Marten Creek',\n",
       "       'McKenzie_E130', 'East Springfield_East',\n",
       "       'Boulder Creek - Walterville', 'Cedar Creek', 'Deer Creek_Vida',\n",
       "       'Elk Creek', 'Ennis Creek', 'Forest Creek', 'Haagen Creek',\n",
       "       'Johnson Creek', 'McKenzie  River', 'McKenzie Leaburg Lake',\n",
       "       'McKenzie/Honey Creek', 'McKenzie_E010', 'McKenzie_E150',\n",
       "       'McKenzie_E170', 'McKenzie_E180', 'Ritchie Creek',\n",
       "       'South Fork McKenzie', 'Taylor Creek_Walterville', 'Trout Creek',\n",
       "       'Boulder Creek', 'Deer Creek', 'East Springfield_West',\n",
       "       'Finn Creek', 'Goose Creek', 'Holden Creek', 'Horse Creek',\n",
       "       'Indian Creek', 'Lane Creek', 'Lost Creek', 'McKenzie_E040',\n",
       "       'McKenzie_E070', 'McKenzie_E080', 'McKenzie_E160', 'Potter Creek',\n",
       "       'Scott Creek', 'Osborn Creek', 'McKenzie_E060', 'McKenzie_E090',\n",
       "       'McKenzie_E140', 'McKenzie_E181', 'Taylor Creek', 'Toms Creek',\n",
       "       'McKenzie_E120', 'Bear Creek', 'Hackleman Creek', 'Upper McKenzie',\n",
       "       'Smith River', 'McKenzie_E030', 'Anderson Creek', 'Ollalie Creek',\n",
       "       'McKenzie/Keizer Slough', 'Mill Creek_02'], dtype=object)"
      ]
     },
     "execution_count": 24,
     "metadata": {},
     "output_type": "execute_result"
    }
   ],
   "source": [
    "data_overview_by_basin_reidx.Basin_Name.unique()"
   ]
  },
  {
   "cell_type": "code",
   "execution_count": 68,
   "id": "a9a6e7fc",
   "metadata": {},
   "outputs": [],
   "source": [
    "# this table includes all the same selected activity types to compare with dashboard data\n",
    "data_overview_by_basin_reidx.to_csv(path+'\\\\output\\\\data_overview_20230127.csv', index=False)"
   ]
  },
  {
   "cell_type": "code",
   "execution_count": 61,
   "id": "5ebaf4f8",
   "metadata": {},
   "outputs": [
    {
     "data": {
      "text/html": [
       "<div>\n",
       "<style scoped>\n",
       "    .dataframe tbody tr th:only-of-type {\n",
       "        vertical-align: middle;\n",
       "    }\n",
       "\n",
       "    .dataframe tbody tr th {\n",
       "        vertical-align: top;\n",
       "    }\n",
       "\n",
       "    .dataframe thead th {\n",
       "        text-align: right;\n",
       "    }\n",
       "</style>\n",
       "<table border=\"1\" class=\"dataframe\">\n",
       "  <thead>\n",
       "    <tr style=\"text-align: right;\">\n",
       "      <th></th>\n",
       "      <th>year</th>\n",
       "      <th>ActType</th>\n",
       "      <th>Basin_Name</th>\n",
       "      <th>acres</th>\n",
       "    </tr>\n",
       "  </thead>\n",
       "  <tbody>\n",
       "    <tr>\n",
       "      <th>124</th>\n",
       "      <td>2015</td>\n",
       "      <td>Herbicide Application (Unit)</td>\n",
       "      <td>Headwaters Mohawk River</td>\n",
       "      <td>1597.544012</td>\n",
       "    </tr>\n",
       "    <tr>\n",
       "      <th>291</th>\n",
       "      <td>2016</td>\n",
       "      <td>Herbicide Application (Unit)</td>\n",
       "      <td>Headwaters Mohawk River</td>\n",
       "      <td>2762.217643</td>\n",
       "    </tr>\n",
       "    <tr>\n",
       "      <th>461</th>\n",
       "      <td>2017</td>\n",
       "      <td>Herbicide Application (Unit)</td>\n",
       "      <td>Headwaters Mohawk River</td>\n",
       "      <td>1979.874062</td>\n",
       "    </tr>\n",
       "    <tr>\n",
       "      <th>626</th>\n",
       "      <td>2018</td>\n",
       "      <td>Herbicide Application (Unit)</td>\n",
       "      <td>Headwaters Mohawk River</td>\n",
       "      <td>1944.375489</td>\n",
       "    </tr>\n",
       "    <tr>\n",
       "      <th>788</th>\n",
       "      <td>2019</td>\n",
       "      <td>Herbicide Application (Unit)</td>\n",
       "      <td>Headwaters Mohawk River</td>\n",
       "      <td>1823.866433</td>\n",
       "    </tr>\n",
       "    <tr>\n",
       "      <th>957</th>\n",
       "      <td>2020</td>\n",
       "      <td>Herbicide Application (Unit)</td>\n",
       "      <td>Headwaters Mohawk River</td>\n",
       "      <td>1407.565212</td>\n",
       "    </tr>\n",
       "    <tr>\n",
       "      <th>1129</th>\n",
       "      <td>2021</td>\n",
       "      <td>Herbicide Application (Unit)</td>\n",
       "      <td>Headwaters Mohawk River</td>\n",
       "      <td>3346.722098</td>\n",
       "    </tr>\n",
       "    <tr>\n",
       "      <th>1285</th>\n",
       "      <td>2022</td>\n",
       "      <td>Herbicide Application (Unit)</td>\n",
       "      <td>Headwaters Mohawk River</td>\n",
       "      <td>8776.238982</td>\n",
       "    </tr>\n",
       "  </tbody>\n",
       "</table>\n",
       "</div>"
      ],
      "text/plain": [
       "      year                       ActType               Basin_Name        acres\n",
       "124   2015  Herbicide Application (Unit)  Headwaters Mohawk River  1597.544012\n",
       "291   2016  Herbicide Application (Unit)  Headwaters Mohawk River  2762.217643\n",
       "461   2017  Herbicide Application (Unit)  Headwaters Mohawk River  1979.874062\n",
       "626   2018  Herbicide Application (Unit)  Headwaters Mohawk River  1944.375489\n",
       "788   2019  Herbicide Application (Unit)  Headwaters Mohawk River  1823.866433\n",
       "957   2020  Herbicide Application (Unit)  Headwaters Mohawk River  1407.565212\n",
       "1129  2021  Herbicide Application (Unit)  Headwaters Mohawk River  3346.722098\n",
       "1285  2022  Herbicide Application (Unit)  Headwaters Mohawk River  8776.238982"
      ]
     },
     "execution_count": 61,
     "metadata": {},
     "output_type": "execute_result"
    }
   ],
   "source": [
    "# compare the numbers with the same process in ArcGIS Pro\n",
    "data_overview_by_basin_reidx[(data_overview_by_basin_reidx.ActType=='Herbicide Application (Unit)') & (data_overview_by_basin_reidx.Basin_Name == 'Headwaters Mohawk River')]"
   ]
  },
  {
   "cell_type": "code",
   "execution_count": 62,
   "id": "5f351779",
   "metadata": {},
   "outputs": [],
   "source": [
    "dt=data_overview[['acres_sum']].unstack('ActType')"
   ]
  },
  {
   "cell_type": "code",
   "execution_count": 63,
   "id": "e7d00810",
   "metadata": {},
   "outputs": [],
   "source": [
    "dt.columns = list(map(lambda x: x[1], list(dt.columns)))"
   ]
  },
  {
   "cell_type": "code",
   "execution_count": null,
   "id": "2f200214",
   "metadata": {},
   "outputs": [],
   "source": [
    "#dt = dt.reset_index()"
   ]
  },
  {
   "cell_type": "code",
   "execution_count": 64,
   "id": "462cb397",
   "metadata": {},
   "outputs": [
    {
     "data": {
      "text/html": [
       "<div>\n",
       "<style scoped>\n",
       "    .dataframe tbody tr th:only-of-type {\n",
       "        vertical-align: middle;\n",
       "    }\n",
       "\n",
       "    .dataframe tbody tr th {\n",
       "        vertical-align: top;\n",
       "    }\n",
       "\n",
       "    .dataframe thead th {\n",
       "        text-align: right;\n",
       "    }\n",
       "</style>\n",
       "<table border=\"1\" class=\"dataframe\">\n",
       "  <thead>\n",
       "    <tr style=\"text-align: right;\">\n",
       "      <th></th>\n",
       "      <th>Changing Land Use to a non-forest use</th>\n",
       "      <th>Clearcut/Overstory Removal</th>\n",
       "      <th>Clearing for Homesites/Other development</th>\n",
       "      <th>Commercial Thinning/Selective Cutting</th>\n",
       "      <th>Fertilizer Application</th>\n",
       "      <th>Herbicide Application (Unit)</th>\n",
       "      <th>Precommercial Thinning</th>\n",
       "      <th>Salvage</th>\n",
       "    </tr>\n",
       "    <tr>\n",
       "      <th>year</th>\n",
       "      <th></th>\n",
       "      <th></th>\n",
       "      <th></th>\n",
       "      <th></th>\n",
       "      <th></th>\n",
       "      <th></th>\n",
       "      <th></th>\n",
       "      <th></th>\n",
       "    </tr>\n",
       "  </thead>\n",
       "  <tbody>\n",
       "    <tr>\n",
       "      <th>2014</th>\n",
       "      <td>0.236073</td>\n",
       "      <td>136.031723</td>\n",
       "      <td>0.149426</td>\n",
       "      <td>106.909272</td>\n",
       "      <td>NaN</td>\n",
       "      <td>229.681021</td>\n",
       "      <td>208.555876</td>\n",
       "      <td>5.544501</td>\n",
       "    </tr>\n",
       "    <tr>\n",
       "      <th>2015</th>\n",
       "      <td>29.866320</td>\n",
       "      <td>4601.020331</td>\n",
       "      <td>0.814134</td>\n",
       "      <td>7027.079752</td>\n",
       "      <td>2354.957849</td>\n",
       "      <td>14462.709220</td>\n",
       "      <td>1015.482376</td>\n",
       "      <td>437.030709</td>\n",
       "    </tr>\n",
       "    <tr>\n",
       "      <th>2016</th>\n",
       "      <td>36.618890</td>\n",
       "      <td>6530.145370</td>\n",
       "      <td>1.991811</td>\n",
       "      <td>9777.607344</td>\n",
       "      <td>3901.648745</td>\n",
       "      <td>15008.831272</td>\n",
       "      <td>752.329668</td>\n",
       "      <td>2946.145995</td>\n",
       "    </tr>\n",
       "    <tr>\n",
       "      <th>2017</th>\n",
       "      <td>16.353894</td>\n",
       "      <td>4619.741716</td>\n",
       "      <td>39.973610</td>\n",
       "      <td>4734.690513</td>\n",
       "      <td>6805.054594</td>\n",
       "      <td>15442.077882</td>\n",
       "      <td>497.134204</td>\n",
       "      <td>822.952092</td>\n",
       "    </tr>\n",
       "    <tr>\n",
       "      <th>2018</th>\n",
       "      <td>13.390821</td>\n",
       "      <td>5454.737772</td>\n",
       "      <td>12.276279</td>\n",
       "      <td>6397.871547</td>\n",
       "      <td>6831.624491</td>\n",
       "      <td>13652.424131</td>\n",
       "      <td>1128.254733</td>\n",
       "      <td>750.964541</td>\n",
       "    </tr>\n",
       "    <tr>\n",
       "      <th>2019</th>\n",
       "      <td>11.321773</td>\n",
       "      <td>4385.317357</td>\n",
       "      <td>7.327209</td>\n",
       "      <td>4133.191226</td>\n",
       "      <td>11148.033775</td>\n",
       "      <td>13539.148723</td>\n",
       "      <td>999.790679</td>\n",
       "      <td>3167.645517</td>\n",
       "    </tr>\n",
       "    <tr>\n",
       "      <th>2020</th>\n",
       "      <td>0.490270</td>\n",
       "      <td>7363.204119</td>\n",
       "      <td>21.928048</td>\n",
       "      <td>5837.534524</td>\n",
       "      <td>NaN</td>\n",
       "      <td>11739.128405</td>\n",
       "      <td>597.462985</td>\n",
       "      <td>40005.038448</td>\n",
       "    </tr>\n",
       "    <tr>\n",
       "      <th>2021</th>\n",
       "      <td>NaN</td>\n",
       "      <td>5155.430916</td>\n",
       "      <td>8.889721</td>\n",
       "      <td>2301.640018</td>\n",
       "      <td>NaN</td>\n",
       "      <td>25429.702953</td>\n",
       "      <td>149.833193</td>\n",
       "      <td>16360.792705</td>\n",
       "    </tr>\n",
       "    <tr>\n",
       "      <th>2022</th>\n",
       "      <td>NaN</td>\n",
       "      <td>3699.697572</td>\n",
       "      <td>13.656418</td>\n",
       "      <td>3547.202597</td>\n",
       "      <td>NaN</td>\n",
       "      <td>68046.502313</td>\n",
       "      <td>2695.331342</td>\n",
       "      <td>4112.327843</td>\n",
       "    </tr>\n",
       "    <tr>\n",
       "      <th>2023</th>\n",
       "      <td>NaN</td>\n",
       "      <td>493.472158</td>\n",
       "      <td>0.509614</td>\n",
       "      <td>787.003066</td>\n",
       "      <td>NaN</td>\n",
       "      <td>37.464715</td>\n",
       "      <td>NaN</td>\n",
       "      <td>1946.549188</td>\n",
       "    </tr>\n",
       "  </tbody>\n",
       "</table>\n",
       "</div>"
      ],
      "text/plain": [
       "      Changing Land Use to a non-forest use  Clearcut/Overstory Removal  \\\n",
       "year                                                                      \n",
       "2014                               0.236073                  136.031723   \n",
       "2015                              29.866320                 4601.020331   \n",
       "2016                              36.618890                 6530.145370   \n",
       "2017                              16.353894                 4619.741716   \n",
       "2018                              13.390821                 5454.737772   \n",
       "2019                              11.321773                 4385.317357   \n",
       "2020                               0.490270                 7363.204119   \n",
       "2021                                    NaN                 5155.430916   \n",
       "2022                                    NaN                 3699.697572   \n",
       "2023                                    NaN                  493.472158   \n",
       "\n",
       "      Clearing for Homesites/Other development  \\\n",
       "year                                             \n",
       "2014                                  0.149426   \n",
       "2015                                  0.814134   \n",
       "2016                                  1.991811   \n",
       "2017                                 39.973610   \n",
       "2018                                 12.276279   \n",
       "2019                                  7.327209   \n",
       "2020                                 21.928048   \n",
       "2021                                  8.889721   \n",
       "2022                                 13.656418   \n",
       "2023                                  0.509614   \n",
       "\n",
       "      Commercial Thinning/Selective Cutting  Fertilizer Application  \\\n",
       "year                                                                  \n",
       "2014                             106.909272                     NaN   \n",
       "2015                            7027.079752             2354.957849   \n",
       "2016                            9777.607344             3901.648745   \n",
       "2017                            4734.690513             6805.054594   \n",
       "2018                            6397.871547             6831.624491   \n",
       "2019                            4133.191226            11148.033775   \n",
       "2020                            5837.534524                     NaN   \n",
       "2021                            2301.640018                     NaN   \n",
       "2022                            3547.202597                     NaN   \n",
       "2023                             787.003066                     NaN   \n",
       "\n",
       "      Herbicide Application (Unit)  Precommercial Thinning       Salvage  \n",
       "year                                                                      \n",
       "2014                    229.681021              208.555876      5.544501  \n",
       "2015                  14462.709220             1015.482376    437.030709  \n",
       "2016                  15008.831272              752.329668   2946.145995  \n",
       "2017                  15442.077882              497.134204    822.952092  \n",
       "2018                  13652.424131             1128.254733    750.964541  \n",
       "2019                  13539.148723              999.790679   3167.645517  \n",
       "2020                  11739.128405              597.462985  40005.038448  \n",
       "2021                  25429.702953              149.833193  16360.792705  \n",
       "2022                  68046.502313             2695.331342   4112.327843  \n",
       "2023                     37.464715                     NaN   1946.549188  "
      ]
     },
     "execution_count": 64,
     "metadata": {},
     "output_type": "execute_result"
    }
   ],
   "source": [
    "dt"
   ]
  },
  {
   "cell_type": "code",
   "execution_count": 65,
   "id": "bfdddbcb",
   "metadata": {},
   "outputs": [
    {
     "data": {
      "image/png": "[encoded data removed]",
      "text/plain": [
       "<Figure size 640x480 with 1 Axes>"
      ]
     },
     "metadata": {},
     "output_type": "display_data"
    }
   ],
   "source": [
    "dt.plot.bar(stacked=True);"
   ]
  },
  {
   "cell_type": "code",
   "execution_count": 66,
   "id": "4009cb29",
   "metadata": {},
   "outputs": [
    {
     "data": {
      "image/png": "[encoded data removed]",
      "text/plain": [
       "<Figure size 600x600 with 8 Axes>"
      ]
     },
     "metadata": {},
     "output_type": "display_data"
    }
   ],
   "source": [
    "dt.plot(subplots=True, figsize=(6, 6));"
   ]
  },
  {
   "cell_type": "code",
   "execution_count": 95,
   "id": "d13c987d",
   "metadata": {},
   "outputs": [
    {
     "name": "stderr",
     "output_type": "stream",
     "text": [
      "C:\\Users\\clid1852\\AppData\\Anaconda3\\envs\\geoenv\\lib\\site-packages\\geopandas\\geodataframe.py:1322: SettingWithCopyWarning: \n",
      "A value is trying to be set on a copy of a slice from a DataFrame.\n",
      "Try using .loc[row_indexer,col_indexer] = value instead\n",
      "\n",
      "See the caveats in the documentation: https://pandas.pydata.org/pandas-docs/stable/user_guide/indexing.html#returning-a-view-versus-a-copy\n",
      "  super(GeoDataFrame, self).__setitem__(key, value)\n"
     ]
    },
    {
     "name": "stdout",
     "output_type": "stream",
     "text": [
      "Processed data on 01092023\n",
      "Processed data on 01272023\n",
      "Processed data on 10142022\n",
      "Processed data on 11012022\n",
      "Processed data on 12072022\n",
      "296.60868670000036\n"
     ]
    }
   ],
   "source": [
    "# run to export the data from different download times to see whether historical data has been changed\n",
    "# it takes about five minutes\n",
    "start = timeit.default_timer()\n",
    "for geodb in geodbs:\n",
    "    FERNS = gpd.read_file(geodb, driver = 'FileGDB', layer = 'Ferns_Noaps_Polygons')\n",
    "    FERNS = FERNS.to_crs(epsg=2914)\n",
    "    FERNS_s = FERNS[FERNS.ActType.isin(['Herbicide Application (Unit)', 'Clearcut/Overstory Removal'])]\n",
    "    FERNS_s['year'] = FERNS_s.EndDate.apply(lambda x: x.split('-')[0])\n",
    "    FERNS_in_Mck_basins = pd.DataFrame()\n",
    "    for basin in McK_basins.Basin_Name.unique():\n",
    "        intersected = gpd.clip(FERNS_s, McK_basins[McK_basins.Basin_Name == basin])\n",
    "        intersected['Basin_Name'] = basin\n",
    "        FERNS_in_Mck_basins = FERNS_in_Mck_basins.append(intersected, ignore_index=True)\n",
    "    \n",
    "    dateinfo = geodb.split('_')[-1].split('.gdb')[0]\n",
    "    FERNS_in_Mck_basins['acres'] = ((FERNS_in_Mck_basins.area / 43560) + 0.5).astype(int)\n",
    "    data_overview_by_basin = FERNS_in_Mck_basins.groupby(['year', 'ActType', 'Basin_Name']).agg({'acres': 'sum'})\n",
    "    data_overview_by_basin_reidx = data_overview_by_basin.reset_index()\n",
    "    dt = data_overview_by_basin.unstack('ActType').unstack('year').sort_index(axis=1, ascending=False)\n",
    "    dt = dt.sort_index(axis=0, ascending=True)\n",
    "    dt.to_csv(path+'\\\\output\\\\data_overview_' + dateinfo + '.csv', index=True)\n",
    "    print(f\"Processed data on {dateinfo}\")\n",
    "stop = timeit.default_timer()\n",
    "print(stop - start)"
   ]
  }
 ],
 "metadata": {
  "kernelspec": {
   "display_name": "Python 3",
   "language": "python",
   "name": "python3"
  },
  "language_info": {
   "codemirror_mode": {
    "name": "ipython",
    "version": 3
   },
   "file_extension": ".py",
   "mimetype": "text/x-python",
   "name": "python",
   "nbconvert_exporter": "python",
   "pygments_lexer": "ipython3",
   "version": "3.8.8"
  }
 },
 "nbformat": 4,
 "nbformat_minor": 5
}
