{
 "cells": [
  {
   "cell_type": "code",
   "execution_count": 1,
   "id": "c150be19",
   "metadata": {},
   "outputs": [],
   "source": [
    "import geopandas as gpd\n",
    "import os\n",
    "import requests\n",
    "import zipfile\n",
    "import urllib.request\n",
    "from datetime import date"
   ]
  },
  {
   "cell_type": "code",
   "execution_count": 2,
   "id": "3e070da5",
   "metadata": {},
   "outputs": [],
   "source": [
    "inpath = r'G:\\projects\\UtilityDistricts\\eweb\\DrinkingWater\\EPA319_NPS_grant\\ForestApplication\\ODF_FACTS_DB\\FERNS\\FERNS_Model'"
   ]
  },
  {
   "cell_type": "code",
   "execution_count": 3,
   "id": "c82dbcc1",
   "metadata": {},
   "outputs": [],
   "source": [
    "subfolderlist = [x[0] for x in os.walk(inpath)]"
   ]
  },
  {
   "cell_type": "code",
   "execution_count": 4,
   "id": "ca2de72f",
   "metadata": {},
   "outputs": [
    {
     "data": {
      "text/plain": [
       "'G:\\\\projects\\\\UtilityDistricts\\\\eweb\\\\DrinkingWater\\\\EPA319_NPS_grant\\\\ForestApplication\\\\ODF_FACTS_DB\\\\FERNS\\\\FERNS_Model\\\\FernsNoapsPolygon_downloads\\\\Ferns_Noaps_Polygons_12072022.gdb'"
      ]
     },
     "execution_count": 4,
     "metadata": {},
     "output_type": "execute_result"
    }
   ],
   "source": [
    "#datapath = inpath + '\\\\FernsNoapsPolygon_downloads\\\\Ferns_Noaps_Polygons_'+ date.today().strftime(\"%m%d%Y\") + '.gdb'\n",
    "#datapath = inpath + '\\\\FernsNoapsPolygon_downloads\\\\Ferns_Noaps_Polygons_12072022.gdb'\n",
    "#datapath = [i for i in subfolderlist if \"Ferns_Noaps_Polygons\" in i][-1] # in case the date has changed\n",
    "datapath = max([i for i in subfolderlist if \"Ferns_Noaps_Polygons\" in i], key=os.path.getmtime)\n",
    "datapath"
   ]
  },
  {
   "cell_type": "code",
   "execution_count": 6,
   "id": "b01338da",
   "metadata": {},
   "outputs": [
    {
     "data": {
      "text/plain": [
       "'12072022'"
      ]
     },
     "execution_count": 6,
     "metadata": {},
     "output_type": "execute_result"
    }
   ],
   "source": [
    "datapath.split(\"Ferns_Noaps_Polygons_\")[1][0:8]"
   ]
  },
  {
   "cell_type": "code",
   "execution_count": 13,
   "id": "72f4484c",
   "metadata": {},
   "outputs": [],
   "source": [
    "def getData(url, dest_folder):\n",
    "    if not os.path.exists(dest_folder):\n",
    "        os.makedirs(dest_folder)\n",
    "    \n",
    "    filename = url.split('/')[-1].replace(\" \", \"_\")\n",
    "    file_path = os.path.join(dest_folder, filename)\n",
    "    \n",
    "    renamed_file = dest_folder + '\\\\Ferns_Noaps_Polygons_' + date.today().strftime(\"%m%d%Y\") + '.gdb'\n",
    "\n",
    "    if not os.path.exists(renamed_file):\n",
    "        r = requests.get(url, stream=True)\n",
    "        if r.ok:\n",
    "            urllib.request.urlretrieve(url, file_path)\n",
    "            print(\"Saving to\", os.path.abspath(file_path))\n",
    "    #         with open(file_path, 'wb') as f:\n",
    "    #             for chunk in r.iter_content(chunk_size=1024 * 8):\n",
    "    #                 if chunk:\n",
    "    #                     f.write(chunk)\n",
    "    #                     f.flush()\n",
    "    #                     os.fsync(f.fileno())\n",
    "        else:  # HTTP status code 4XX/5XX\n",
    "            print(\"Download failed: status code {}\\n{}\".format(r.status_code, r.text))\n",
    "\n",
    "        with zipfile.ZipFile(file_path, 'r') as zip_ref:\n",
    "            zip_ref.extractall(dest_folder)\n",
    "\n",
    "        extracted_file = dest_folder + '\\\\Ferns_Noaps_Polygons.gdb' \n",
    "        print(\"Extracting file to\", extracted_file)\n",
    "\n",
    "        os.renames(extracted_file, renamed_file)\n",
    "        print(\"Renaming file to\", renamed_file)"
   ]
  },
  {
   "cell_type": "code",
   "execution_count": 14,
   "id": "2d1748cf",
   "metadata": {},
   "outputs": [
    {
     "name": "stdout",
     "output_type": "stream",
     "text": [
      "Saving to G:\\projects\\UtilityDistricts\\eweb\\DrinkingWater\\EPA319_NPS_grant\\ForestApplication\\ODF_FACTS_DB\\FERNS\\FERNS_Model\\FernsNoapsPolygon_downloads\\FernsNoapsPolygons.Zip\n",
      "Extracting file to G:\\projects\\UtilityDistricts\\eweb\\DrinkingWater\\EPA319_NPS_grant\\ForestApplication\\ODF_FACTS_DB\\FERNS\\FERNS_Model//FernsNoapsPolygon_downloads\\Ferns_Noaps_Polygons.gdb\n",
      "Renaming file to G:\\projects\\UtilityDistricts\\eweb\\DrinkingWater\\EPA319_NPS_grant\\ForestApplication\\ODF_FACTS_DB\\FERNS\\FERNS_Model//FernsNoapsPolygon_downloads\\Ferns_Noaps_Polygons_12072022.gdb\n"
     ]
    }
   ],
   "source": [
    "getData(url = 'https://gisapps.odf.oregon.gov/data/FernsNoapsPolygons.Zip',\n",
    "        dest_folder = inpath + '\\\\FernsNoapsPolygon_downloads')"
   ]
  },
  {
   "cell_type": "code",
   "execution_count": 20,
   "id": "4d33f2ea",
   "metadata": {},
   "outputs": [],
   "source": [
    "data = gpd.read_file(datapath, layer = 'Ferns_Noaps_Polygons')"
   ]
  },
  {
   "cell_type": "code",
   "execution_count": 21,
   "id": "f15da166",
   "metadata": {},
   "outputs": [
    {
     "data": {
      "text/html": [
       "<div>\n",
       "<style scoped>\n",
       "    .dataframe tbody tr th:only-of-type {\n",
       "        vertical-align: middle;\n",
       "    }\n",
       "\n",
       "    .dataframe tbody tr th {\n",
       "        vertical-align: top;\n",
       "    }\n",
       "\n",
       "    .dataframe thead th {\n",
       "        text-align: right;\n",
       "    }\n",
       "</style>\n",
       "<table border=\"1\" class=\"dataframe\">\n",
       "  <thead>\n",
       "    <tr style=\"text-align: right;\">\n",
       "      <th></th>\n",
       "      <th>NoapID</th>\n",
       "      <th>UnitID</th>\n",
       "      <th>NoapIdentifier</th>\n",
       "      <th>WorkArea</th>\n",
       "      <th>OperationName</th>\n",
       "      <th>OperatorName</th>\n",
       "      <th>UnitName</th>\n",
       "      <th>UnitArea</th>\n",
       "      <th>ActType</th>\n",
       "      <th>LandOwners</th>\n",
       "      <th>StartDate</th>\n",
       "      <th>EndDate</th>\n",
       "      <th>ActivityID</th>\n",
       "      <th>HighwayBuffer</th>\n",
       "      <th>SummaryLink</th>\n",
       "      <th>PDFLink</th>\n",
       "      <th>Shape_Length</th>\n",
       "      <th>Shape_Area</th>\n",
       "      <th>geometry</th>\n",
       "    </tr>\n",
       "  </thead>\n",
       "  <tbody>\n",
       "    <tr>\n",
       "      <th>0</th>\n",
       "      <td>5072</td>\n",
       "      <td>96</td>\n",
       "      <td>2014-740-05072</td>\n",
       "      <td>7403</td>\n",
       "      <td>C4418 RD#3080</td>\n",
       "      <td>Brian Arriola</td>\n",
       "      <td>C4418 RD#3080</td>\n",
       "      <td>62.4</td>\n",
       "      <td>Felling Harvest Unit (No yarding/decking)</td>\n",
       "      <td>WY Coos Bay</td>\n",
       "      <td>2014-10-16T00:00:00+00:00</td>\n",
       "      <td>2015-12-31T00:00:00+00:00</td>\n",
       "      <td>180</td>\n",
       "      <td>None</td>\n",
       "      <td>https://ferns.odf.oregon.gov/E-Notification/no...</td>\n",
       "      <td>https://ferns.odf.oregon.gov/E-Notification/no...</td>\n",
       "      <td>4177.374093</td>\n",
       "      <td>479838.475327</td>\n",
       "      <td>MULTIPOLYGON (((-13786934.264 5385332.462, -13...</td>\n",
       "    </tr>\n",
       "    <tr>\n",
       "      <th>1</th>\n",
       "      <td>5072</td>\n",
       "      <td>96</td>\n",
       "      <td>2014-740-05072</td>\n",
       "      <td>7403</td>\n",
       "      <td>C4418 RD#3080</td>\n",
       "      <td>Tony  Holman</td>\n",
       "      <td>C4418 RD#3080</td>\n",
       "      <td>62.4</td>\n",
       "      <td>Clearcut/Overstory Removal</td>\n",
       "      <td>WY Coos Bay</td>\n",
       "      <td>2014-10-16T00:00:00+00:00</td>\n",
       "      <td>2015-12-31T00:00:00+00:00</td>\n",
       "      <td>115</td>\n",
       "      <td>None</td>\n",
       "      <td>https://ferns.odf.oregon.gov/E-Notification/no...</td>\n",
       "      <td>https://ferns.odf.oregon.gov/E-Notification/no...</td>\n",
       "      <td>4177.374093</td>\n",
       "      <td>479838.475327</td>\n",
       "      <td>MULTIPOLYGON (((-13786934.264 5385332.462, -13...</td>\n",
       "    </tr>\n",
       "    <tr>\n",
       "      <th>2</th>\n",
       "      <td>5008</td>\n",
       "      <td>8</td>\n",
       "      <td>2014-781-05008</td>\n",
       "      <td>7813</td>\n",
       "      <td>Over Bum</td>\n",
       "      <td>OTC Operations</td>\n",
       "      <td>Over Bum</td>\n",
       "      <td>109.4</td>\n",
       "      <td>Clearcut/Overstory Removal</td>\n",
       "      <td>Oxbow Timber 1, LLC</td>\n",
       "      <td>2014-10-06T00:00:00+00:00</td>\n",
       "      <td>2015-12-31T00:00:00+00:00</td>\n",
       "      <td>11</td>\n",
       "      <td>None</td>\n",
       "      <td>https://ferns.odf.oregon.gov/E-Notification/no...</td>\n",
       "      <td>https://ferns.odf.oregon.gov/E-Notification/no...</td>\n",
       "      <td>7849.219554</td>\n",
       "      <td>850556.909283</td>\n",
       "      <td>MULTIPOLYGON (((-13757495.321 5437100.573, -13...</td>\n",
       "    </tr>\n",
       "  </tbody>\n",
       "</table>\n",
       "</div>"
      ],
      "text/plain": [
       "   NoapID  UnitID  NoapIdentifier WorkArea  OperationName    OperatorName  \\\n",
       "0    5072      96  2014-740-05072     7403  C4418 RD#3080   Brian Arriola   \n",
       "1    5072      96  2014-740-05072     7403  C4418 RD#3080    Tony  Holman   \n",
       "2    5008       8  2014-781-05008     7813       Over Bum  OTC Operations   \n",
       "\n",
       "        UnitName  UnitArea                                    ActType  \\\n",
       "0  C4418 RD#3080      62.4  Felling Harvest Unit (No yarding/decking)   \n",
       "1  C4418 RD#3080      62.4                 Clearcut/Overstory Removal   \n",
       "2       Over Bum     109.4                 Clearcut/Overstory Removal   \n",
       "\n",
       "             LandOwners                  StartDate                    EndDate  \\\n",
       "0           WY Coos Bay  2014-10-16T00:00:00+00:00  2015-12-31T00:00:00+00:00   \n",
       "1           WY Coos Bay  2014-10-16T00:00:00+00:00  2015-12-31T00:00:00+00:00   \n",
       "2   Oxbow Timber 1, LLC  2014-10-06T00:00:00+00:00  2015-12-31T00:00:00+00:00   \n",
       "\n",
       "   ActivityID HighwayBuffer  \\\n",
       "0         180          None   \n",
       "1         115          None   \n",
       "2          11          None   \n",
       "\n",
       "                                         SummaryLink  \\\n",
       "0  https://ferns.odf.oregon.gov/E-Notification/no...   \n",
       "1  https://ferns.odf.oregon.gov/E-Notification/no...   \n",
       "2  https://ferns.odf.oregon.gov/E-Notification/no...   \n",
       "\n",
       "                                             PDFLink  Shape_Length  \\\n",
       "0  https://ferns.odf.oregon.gov/E-Notification/no...   4177.374093   \n",
       "1  https://ferns.odf.oregon.gov/E-Notification/no...   4177.374093   \n",
       "2  https://ferns.odf.oregon.gov/E-Notification/no...   7849.219554   \n",
       "\n",
       "      Shape_Area                                           geometry  \n",
       "0  479838.475327  MULTIPOLYGON (((-13786934.264 5385332.462, -13...  \n",
       "1  479838.475327  MULTIPOLYGON (((-13786934.264 5385332.462, -13...  \n",
       "2  850556.909283  MULTIPOLYGON (((-13757495.321 5437100.573, -13...  "
      ]
     },
     "execution_count": 21,
     "metadata": {},
     "output_type": "execute_result"
    }
   ],
   "source": [
    "data.head(3)"
   ]
  }
 ],
 "metadata": {
  "kernelspec": {
   "display_name": "Python 3 (ipykernel)",
   "language": "python",
   "name": "python3"
  },
  "language_info": {
   "codemirror_mode": {
    "name": "ipython",
    "version": 3
   },
   "file_extension": ".py",
   "mimetype": "text/x-python",
   "name": "python",
   "nbconvert_exporter": "python",
   "pygments_lexer": "ipython3",
   "version": "3.8.15"
  }
 },
 "nbformat": 4,
 "nbformat_minor": 5
}
