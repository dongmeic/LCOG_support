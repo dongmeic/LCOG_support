{
 "cells": [
  {
   "cell_type": "code",
   "execution_count": 1,
   "id": "df089e2e",
   "metadata": {},
   "outputs": [],
   "source": [
    "import arcpy, os\n",
    "from datetime import datetime, date\n",
    "from homeless import *\n",
    "import time\n",
    "from arcgis import GIS\n",
    "from arcgis.features import FeatureLayerCollection\n",
    "import pandas as pd\n",
    "gis = GIS('home')"
   ]
  },
  {
   "cell_type": "code",
   "execution_count": 2,
   "id": "3d501238",
   "metadata": {},
   "outputs": [],
   "source": [
    "arcpy.env.overwriteOutput = True\n",
    "outpath = r'G:\\projects\\UtilityDistricts\\eweb\\DrinkingWater\\IllegalCampCoordination\\Recieved'\n",
    "path = outpath + '\\\\IllegalCampNotification_pro'\n",
    "url = 'https://services5.arcgis.com/9s1YtFmLS0YTl10F/ArcGIS/rest/services/ZHomeless_Camp_Trash_Collector/FeatureServer'\n",
    "camp_site = url + '/0'"
   ]
  },
  {
   "cell_type": "code",
   "execution_count": 3,
   "id": "0e6a941c",
   "metadata": {},
   "outputs": [],
   "source": [
    "listdates1 = []\n",
    "cursor = arcpy.da.SearchCursor(camp_site, \"Date\")\n",
    "for row in cursor:\n",
    "    listdates1.append(row)\n",
    "\n",
    "listdates = [dt[0] for dt in listdates1 if dt[0] is not None]    \n",
    "maxdate = max(listdates)"
   ]
  },
  {
   "cell_type": "code",
   "execution_count": 4,
   "id": "6fae8c77",
   "metadata": {},
   "outputs": [
    {
     "data": {
      "text/plain": [
       "datetime.datetime(2023, 3, 6, 1, 16, 56, 716000)"
      ]
     },
     "execution_count": 4,
     "metadata": {},
     "output_type": "execute_result"
    }
   ],
   "source": [
    "maxdate"
   ]
  },
  {
   "cell_type": "code",
   "execution_count": 5,
   "id": "308e3605",
   "metadata": {},
   "outputs": [],
   "source": [
    "# check whether there is a need to report\n",
    "maxdatestr = str(maxdate)\n",
    "datestr = maxdatestr.split('.')[0].split(' ')[0]\n",
    "res = convert_date(datestr)\n",
    "Y = res[1]\n",
    "m = res[2]\n",
    "d = res[3]\n",
    "outfolder = os.path.join(outpath, Y, m+'_'+d)\n",
    "outfolder_yr = os.path.join(outpath, Y)\n",
    "filename = 'IllegalCampNotice_'+m+'_'+d+'_'+Y[2:4]+'.xlsx'\n",
    "file = os.path.join(outfolder, filename)"
   ]
  },
  {
   "cell_type": "code",
   "execution_count": 6,
   "id": "43380932",
   "metadata": {},
   "outputs": [],
   "source": [
    "flyrs = FeatureLayerCollection(url)\n",
    "fl = flyrs.layers[0]\n",
    "sdf = pd.DataFrame.spatial.from_layer(fl)\n",
    "sdf['datestr'] = sdf.Date.apply(lambda x: str(x).split(' ')[0])\n",
    "sdf_s = sdf[sdf.datestr == maxdatestr.split(' ')[0]]"
   ]
  },
  {
   "cell_type": "code",
   "execution_count": 32,
   "id": "be3da1ad",
   "metadata": {},
   "outputs": [],
   "source": [
    "df = convert_dtypes_arcgis(sdf_s)\n",
    "df.drop(columns='datestr', inplace=True)"
   ]
  },
  {
   "cell_type": "code",
   "execution_count": 33,
   "id": "19f1b68b",
   "metadata": {},
   "outputs": [],
   "source": [
    "df.loc[:, 'Comments'] = df.Comments.apply(lambda x: trim_field_value(x))"
   ]
  },
  {
   "cell_type": "code",
   "execution_count": 26,
   "id": "4ff34baa",
   "metadata": {},
   "outputs": [
    {
     "data": {
      "text/plain": [
       "275"
      ]
     },
     "execution_count": 26,
     "metadata": {},
     "output_type": "execute_result"
    }
   ],
   "source": [
    "len(df.Comments.values[0])"
   ]
  },
  {
   "cell_type": "code",
   "execution_count": 27,
   "id": "c98d2507",
   "metadata": {},
   "outputs": [
    {
     "data": {
      "text/plain": [
       "'Medium sized trailer full of garbage abandoned inside the gate to the Vida Transfer station and near the Leaburg Canal. An EWEB customer called to report the trailer on Sunday, EWEB PhySec department confirmed that EWEB does not own the property where the trailer is located.'"
      ]
     },
     "execution_count": 27,
     "metadata": {},
     "output_type": "execute_result"
    }
   ],
   "source": [
    "df.Comments.values[0][0:len(df.Comments.values[0])]"
   ]
  },
  {
   "cell_type": "code",
   "execution_count": 34,
   "id": "e60df7ee",
   "metadata": {},
   "outputs": [],
   "source": [
    "datacopy = df.spatial.to_featureclass(path + '\\\\MyProject4.gdb\\\\most_recent', overwrite=True)"
   ]
  },
  {
   "cell_type": "code",
   "execution_count": 30,
   "id": "278e186d",
   "metadata": {},
   "outputs": [],
   "source": [
    "def trim_field_value(x):\n",
    "    return x[0:len(x)]"
   ]
  },
  {
   "cell_type": "code",
   "execution_count": 3,
   "id": "e9db1e16",
   "metadata": {},
   "outputs": [],
   "source": [
    "import geopandas as gpd\n",
    "from homeless import *"
   ]
  },
  {
   "cell_type": "code",
   "execution_count": 5,
   "id": "7ad0b768",
   "metadata": {},
   "outputs": [],
   "source": [
    "outpath = r'\\\\clsrv111.int.lcog.org\\GIS\\projects\\UtilityDistricts\\eweb\\DrinkingWater\\IllegalCampCoordination\\Recieved'\n",
    "path = outpath + '\\\\IllegalCampNotification_pro'"
   ]
  },
  {
   "cell_type": "code",
   "execution_count": 6,
   "id": "5e34bc1d",
   "metadata": {},
   "outputs": [],
   "source": [
    "dt = gpd.read_file(path + '\\\\MyProject4.gdb', layer= 'most_recent')"
   ]
  },
  {
   "cell_type": "code",
   "execution_count": 11,
   "id": "c2f5f577",
   "metadata": {},
   "outputs": [
    {
     "data": {
      "text/plain": [
       "'2023-03-06'"
      ]
     },
     "execution_count": 11,
     "metadata": {},
     "output_type": "execute_result"
    }
   ],
   "source": [
    "dt.date.values[0].split('T')[0]"
   ]
  },
  {
   "cell_type": "code",
   "execution_count": 12,
   "id": "ecdc1fb8",
   "metadata": {},
   "outputs": [],
   "source": [
    "res = convert_date(dt.date.values[0].split('T')[0])"
   ]
  },
  {
   "cell_type": "code",
   "execution_count": 13,
   "id": "ce79d1a5",
   "metadata": {
    "scrolled": true
   },
   "outputs": [
    {
     "data": {
      "text/plain": [
       "('3/6/2023', '2023', '3', '6')"
      ]
     },
     "execution_count": 13,
     "metadata": {},
     "output_type": "execute_result"
    }
   ],
   "source": [
    "res"
   ]
  },
  {
   "cell_type": "code",
   "execution_count": 1,
   "id": "0a4854bf",
   "metadata": {},
   "outputs": [
    {
     "name": "stdout",
     "output_type": "stream",
     "text": [
      "Read data...\n",
      "Got file name...\n"
     ]
    }
   ],
   "source": [
    "import pandas as pd\n",
    "import geopandas as gpd\n",
    "import os\n",
    "import requests\n",
    "from bs4 import BeautifulSoup\n",
    "from homeless import *\n",
    "import openpyxl\n",
    "from win32com.client import Dispatch\n",
    "\n",
    "outpath = r'G:\\projects\\UtilityDistricts\\eweb\\DrinkingWater\\IllegalCampCoordination\\Recieved'\n",
    "path = outpath + '\\\\IllegalCampNotification_pro'\n",
    "\n",
    "dat = pd.read_excel(path+'\\\\most_recent.xlsx')\n",
    "cols2drop = ['OBJECTID', 'Join_Count', 'Unruly_inhabitants']\n",
    "dat = dat.drop(cols2drop, axis=1)\n",
    "dat.columns = list(map(lambda x: x.capitalize(), dat.columns))\n",
    "dat.rename(columns={'Ownname': 'Owner_name', 'Addr1': 'Owner_address'}, inplace=True)\n",
    "if 'Nearby_owner' in dat.columns:\n",
    "    k = 2\n",
    "    dat = dat[['Target_fid', 'Status', 'Comments', 'Date', 'Submitted_by','Dogs_present', 'Hazardous_materials_present', \n",
    "    'Biohazards_present','Size_of_encampment', 'Maptaxlot_hyphen', 'Owner_name', 'Owner_address', 'Nearby_owner', \n",
    "    'Nearby_owner_address', 'Ownercity', 'Ownerprvst', 'Ownerzip', 'Geocity_name', 'Ugb_name','Longitude', 'Latitude']]\n",
    "    taxlotcodes = pd.read_csv('mythical_taxlot_codes.csv')\n",
    "    for idx in range(0, dat.shape[0]):\n",
    "        taxlotcode = int(dat.loc[idx,'Maptaxlot_hyphen'][-2:])\n",
    "        if (str(dat.loc[idx, 'Owner_name']) == 'nan') & (taxlotcode in taxlotcodes.end_number.values):\n",
    "            dat.loc[idx, 'Owner_name'] = taxlotcodes.loc[taxlotcodes.end_number == taxlotcode, 'taxlot'].values[0].capitalize() + ' R/W'\n",
    "else:\n",
    "    k = 0\n",
    "\n",
    "dat.rename(columns={'Target_fid': 'Target_FID'}, inplace=True)\n",
    "\n",
    "#intakepath = r'G:\\projects\\UtilityDistricts\\eweb\\DrinkingWater\\RiparianEcosystemMarketplace\\market_area\\REM_area.gdb'\n",
    "shppath = path + '\\\\MyProject4.gdb'\n",
    "intake_areas = gpd.read_file(shppath, driver='FileGDB', layer='AboveIntake_Dissolve')\n",
    "points = gpd.read_file(shppath, driver='FileGDB', layer='HomelessCampSite_SpatialJoin')\n",
    "points = points.to_crs(epsg=2914)\n",
    "print(\"Read data...\")\n",
    "\n",
    "urlstart ='https://services5.arcgis.com/9s1YtFmLS0YTl10F/arcgis/rest/services/ZHomeless_Camp_Trash_Collector/FeatureServer/0/'\n",
    "urlend = '/attachments?f=html&token='\n",
    "\n",
    "datestr = points.Date.values[0].split('T')[0]\n",
    "res = convert_date(datestr)\n",
    "Y = res[1]\n",
    "m = res[2]\n",
    "d = res[3]\n",
    "outfolder = os.path.join(outpath, Y, m+'_'+d)\n",
    "filename = 'IllegalCampNotice_'+m+'_'+d+'_'+Y[2:4]+'.xlsx'\n",
    "file = os.path.join(outfolder, filename)\n",
    "print(\"Got file name...\")"
   ]
  },
  {
   "cell_type": "code",
   "execution_count": 3,
   "id": "b63e1656",
   "metadata": {},
   "outputs": [
    {
     "name": "stderr",
     "output_type": "stream",
     "text": [
      "C:\\Users\\clid1852\\AppData\\Anaconda3\\envs\\geoenv\\lib\\site-packages\\geopandas\\base.py:31: UserWarning: The indices of the two GeoSeries are different.\n",
      "  warn(\"The indices of the two GeoSeries are different.\")\n"
     ]
    },
    {
     "name": "stdout",
     "output_type": "stream",
     "text": [
      "Edited data...\n"
     ]
    }
   ],
   "source": [
    "for pID in points.index:\n",
    "    point = points[points.index==pID]\n",
    "    if all(intake_areas.contains(point)):\n",
    "        dat.loc[pID, 'Above_Intake'] = 'Yes'\n",
    "    else:\n",
    "        dat.loc[pID, 'Above_Intake'] = 'No'\n",
    "    FID = dat.loc[pID, 'Target_FID']\n",
    "    url= urlstart+str(FID)+urlend\n",
    "    resp=requests.get(url)\n",
    "    links = []\n",
    "    if resp.status_code==200:\n",
    "        soup=BeautifulSoup(resp.text,'html.parser')\n",
    "        for link in soup.findAll('a'):\n",
    "            links.append(link.get('href'))\n",
    "    else:\n",
    "        print(\"Error\")\n",
    "    attached = [link for link in links if 'attachments' in link]\n",
    "    if len(attached)==0:\n",
    "        dat.loc[pID, 'Photos'] = 'NA'\n",
    "    elif len(attached)==1:\n",
    "        dat.loc[pID, 'Photos'] = 'https://services5.arcgis.com' + attached[0]\n",
    "    else:\n",
    "        dat.loc[pID, 'Photos'] = '; '.join(['https://services5.arcgis.com' + s for s in attached])\n",
    "\n",
    "print(\"Edited data...\")"
   ]
  }
 ],
 "metadata": {
  "kernelspec": {
   "display_name": "Python 3",
   "language": "python",
   "name": "python3"
  },
  "language_info": {
   "codemirror_mode": {
    "name": "ipython",
    "version": 3
   },
   "file_extension": ".py",
   "mimetype": "text/x-python",
   "name": "python",
   "nbconvert_exporter": "python",
   "pygments_lexer": "ipython3",
   "version": "3.8.8"
  }
 },
 "nbformat": 4,
 "nbformat_minor": 5
}
