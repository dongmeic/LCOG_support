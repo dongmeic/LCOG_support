{
 "cells": [
  {
   "cell_type": "code",
   "execution_count": 1,
   "id": "f13fc00d",
   "metadata": {},
   "outputs": [],
   "source": [
    "import arcpy, os\n",
    "from datetime import datetime, date\n",
    "from homeless import *\n",
    "import time\n",
    "from arcgis import GIS\n",
    "from arcgis.features import FeatureLayerCollection\n",
    "import pandas as pd\n",
    "gis = GIS('home')"
   ]
  },
  {
   "cell_type": "code",
   "execution_count": 2,
   "id": "648ce78e",
   "metadata": {},
   "outputs": [],
   "source": [
    "arcpy.env.overwriteOutput = True\n",
    "outpath = r'G:\\projects\\UtilityDistricts\\eweb\\DrinkingWater\\IllegalCampCoordination\\Recieved'\n",
    "path = outpath + '\\\\IllegalCampNotification_pro'\n",
    "url = 'https://services5.arcgis.com/9s1YtFmLS0YTl10F/ArcGIS/rest/services/ZHomeless_Camp_Trash_Collector/FeatureServer'\n",
    "camp_site = url + '/0'"
   ]
  },
  {
   "cell_type": "code",
   "execution_count": 3,
   "id": "9ad33875",
   "metadata": {},
   "outputs": [],
   "source": [
    "listdates1 = []\n",
    "cursor = arcpy.da.SearchCursor(camp_site, \"Date\")\n",
    "for row in cursor:\n",
    "    listdates1.append(row)\n",
    "\n",
    "listdates = [dt[0] for dt in listdates1 if dt[0] is not None]    \n",
    "maxdate = max(listdates)"
   ]
  },
  {
   "cell_type": "code",
   "execution_count": 4,
   "id": "57550dff",
   "metadata": {},
   "outputs": [],
   "source": [
    "# check whether there is a need to report\n",
    "maxdatestr = str(maxdate)\n",
    "datestr = maxdatestr.split('.')[0].split(' ')[0]\n",
    "res = convert_date(datestr)\n",
    "Y = res[1]\n",
    "m = res[2]\n",
    "d = res[3]\n",
    "outfolder = os.path.join(outpath, Y, m+'_'+d)\n",
    "outfolder_yr = os.path.join(outpath, Y)\n",
    "filename = 'IllegalCampNotice_'+m+'_'+d+'_'+Y[2:4]+'.xlsx'\n",
    "file = os.path.join(outfolder, filename)"
   ]
  },
  {
   "cell_type": "code",
   "execution_count": 12,
   "id": "5247168e",
   "metadata": {},
   "outputs": [],
   "source": [
    "flyrs = FeatureLayerCollection(url)\n",
    "fl = flyrs.layers[0]\n",
    "sdf = pd.DataFrame.spatial.from_layer(fl)\n",
    "sdf['datestr'] = sdf.Date.apply(lambda x: str(x).split(' ')[0])\n",
    "sdf_s = sdf[sdf.datestr == maxdatestr.split(' ')[0]]"
   ]
  },
  {
   "cell_type": "code",
   "execution_count": 17,
   "id": "59c6f485",
   "metadata": {},
   "outputs": [
    {
     "data": {
      "text/html": [
       "<div>\n",
       "<style scoped>\n",
       "    .dataframe tbody tr th:only-of-type {\n",
       "        vertical-align: middle;\n",
       "    }\n",
       "\n",
       "    .dataframe tbody tr th {\n",
       "        vertical-align: top;\n",
       "    }\n",
       "\n",
       "    .dataframe thead th {\n",
       "        text-align: right;\n",
       "    }\n",
       "</style>\n",
       "<table border=\"1\" class=\"dataframe\">\n",
       "  <thead>\n",
       "    <tr style=\"text-align: right;\">\n",
       "      <th></th>\n",
       "      <th>OBJECTID</th>\n",
       "      <th>Status</th>\n",
       "      <th>Comments</th>\n",
       "      <th>Date</th>\n",
       "      <th>Submitted_by</th>\n",
       "      <th>Dogs_present</th>\n",
       "      <th>Unruly_inhabitants</th>\n",
       "      <th>Hazardous_materials_present</th>\n",
       "      <th>Biohazards_present</th>\n",
       "      <th>Size_of_encampment</th>\n",
       "      <th>GlobalID</th>\n",
       "      <th>SHAPE</th>\n",
       "      <th>datestr</th>\n",
       "    </tr>\n",
       "  </thead>\n",
       "  <tbody>\n",
       "    <tr>\n",
       "      <th>754</th>\n",
       "      <td>1840</td>\n",
       "      <td>Identified</td>\n",
       "      <td>Orange tent</td>\n",
       "      <td>2023-02-09 23:44:42.460000038</td>\n",
       "      <td>Mary Healy</td>\n",
       "      <td>Unknown</td>\n",
       "      <td>Unknown</td>\n",
       "      <td>Unknown</td>\n",
       "      <td>Unknown</td>\n",
       "      <td>Small</td>\n",
       "      <td>3ad21f3a-4f54-4b8c-a4ea-c5a18eb733de</td>\n",
       "      <td>{\"x\": 649473.0223097056, \"y\": 852448.923556432...</td>\n",
       "      <td>2023-02-09</td>\n",
       "    </tr>\n",
       "    <tr>\n",
       "      <th>755</th>\n",
       "      <td>1841</td>\n",
       "      <td>Identified</td>\n",
       "      <td>Black garbage bags; shopping cartphoto taken ...</td>\n",
       "      <td>2023-02-09 23:47:17.703000069</td>\n",
       "      <td>Mary Healy</td>\n",
       "      <td>Unknown</td>\n",
       "      <td>Unknown</td>\n",
       "      <td>Unknown</td>\n",
       "      <td>Unknown</td>\n",
       "      <td>Small</td>\n",
       "      <td>32847193-11fb-449e-b2fa-f04981e6832b</td>\n",
       "      <td>{\"x\": 650255.5662729591, \"y\": 852365.172572180...</td>\n",
       "      <td>2023-02-09</td>\n",
       "    </tr>\n",
       "    <tr>\n",
       "      <th>756</th>\n",
       "      <td>1842</td>\n",
       "      <td>Identified</td>\n",
       "      <td>On North side of Q St Fldwy. Bikes; shopping c...</td>\n",
       "      <td>2023-02-09 23:51:39.618999958</td>\n",
       "      <td>Mary Healy</td>\n",
       "      <td>Unknown</td>\n",
       "      <td>Unknown</td>\n",
       "      <td>Unknown</td>\n",
       "      <td>Unknown</td>\n",
       "      <td>Medium</td>\n",
       "      <td>dcd9e8ec-6cbc-4b73-80d9-cd2452de7457</td>\n",
       "      <td>{\"x\": 649967.2408136427, \"y\": 852477.553477689...</td>\n",
       "      <td>2023-02-09</td>\n",
       "    </tr>\n",
       "  </tbody>\n",
       "</table>\n",
       "</div>"
      ],
      "text/plain": [
       "     OBJECTID      Status                                           Comments  \\\n",
       "754      1840  Identified                                        Orange tent   \n",
       "755      1841  Identified   Black garbage bags; shopping cartphoto taken ...   \n",
       "756      1842  Identified  On North side of Q St Fldwy. Bikes; shopping c...   \n",
       "\n",
       "                             Date Submitted_by Dogs_present  \\\n",
       "754 2023-02-09 23:44:42.460000038  Mary Healy       Unknown   \n",
       "755 2023-02-09 23:47:17.703000069  Mary Healy       Unknown   \n",
       "756 2023-02-09 23:51:39.618999958  Mary Healy       Unknown   \n",
       "\n",
       "    Unruly_inhabitants Hazardous_materials_present Biohazards_present  \\\n",
       "754            Unknown                     Unknown            Unknown   \n",
       "755            Unknown                     Unknown            Unknown   \n",
       "756            Unknown                     Unknown            Unknown   \n",
       "\n",
       "    Size_of_encampment                              GlobalID  \\\n",
       "754              Small  3ad21f3a-4f54-4b8c-a4ea-c5a18eb733de   \n",
       "755              Small  32847193-11fb-449e-b2fa-f04981e6832b   \n",
       "756             Medium  dcd9e8ec-6cbc-4b73-80d9-cd2452de7457   \n",
       "\n",
       "                                                 SHAPE     datestr  \n",
       "754  {\"x\": 649473.0223097056, \"y\": 852448.923556432...  2023-02-09  \n",
       "755  {\"x\": 650255.5662729591, \"y\": 852365.172572180...  2023-02-09  \n",
       "756  {\"x\": 649967.2408136427, \"y\": 852477.553477689...  2023-02-09  "
      ]
     },
     "execution_count": 17,
     "metadata": {},
     "output_type": "execute_result"
    }
   ],
   "source": [
    "sdf_s.head(3)"
   ]
  },
  {
   "cell_type": "code",
   "execution_count": 14,
   "id": "0875c77e",
   "metadata": {},
   "outputs": [],
   "source": [
    "df = convert_dtypes_arcgis(sdf_s)\n",
    "df.drop(columns='datestr', inplace=True)"
   ]
  },
  {
   "cell_type": "code",
   "execution_count": 28,
   "id": "c800a4ce",
   "metadata": {},
   "outputs": [
    {
     "data": {
      "text/plain": [
       "1840"
      ]
     },
     "execution_count": 28,
     "metadata": {},
     "output_type": "execute_result"
    }
   ],
   "source": [
    "df.OBJECTID.values[0]"
   ]
  },
  {
   "cell_type": "code",
   "execution_count": 15,
   "id": "d228fa00",
   "metadata": {},
   "outputs": [
    {
     "name": "stdout",
     "output_type": "stream",
     "text": [
      "Most recent data saved at G:\\projects\\UtilityDistricts\\eweb\\DrinkingWater\\IllegalCampCoordination\\Recieved\\IllegalCampNotification_pro\\MyProject4.gdb\\most_recent\n"
     ]
    }
   ],
   "source": [
    "datacopy = df.spatial.to_featureclass(path + '\\\\MyProject4.gdb\\\\most_recent', overwrite=True)\n",
    "print(f'Most recent data saved at {datacopy}')"
   ]
  },
  {
   "cell_type": "code",
   "execution_count": 16,
   "id": "63072366",
   "metadata": {},
   "outputs": [],
   "source": [
    "sdeFile = path + \"\\\\RLIDDB.sde\"\n",
    "\n",
    "if os.path.exists(sdeFile):\n",
    "    os.remove(sdeFile)\n",
    "\n",
    "# connect to RLIDGeo to get taxlot data\n",
    "conn = arcpy.CreateDatabaseConnection_management(out_folder_path=path,\n",
    "                                          out_name=\"RLIDDB.sde\",\n",
    "                                          database_platform=\"SQL_SERVER\",\n",
    "                                          instance=\"rliddb.int.lcog.org,5433\",\n",
    "                                          account_authentication=\"OPERATING_SYSTEM_AUTH\",\n",
    "                                          database=\"RLIDGeo\")\n",
    "\n",
    "arcpy.env.workspace = conn.getOutput(0)\n",
    "fc = \"RLIDGeo.DBO.Taxlot\""
   ]
  },
  {
   "cell_type": "code",
   "execution_count": 20,
   "id": "1b61a3ae",
   "metadata": {},
   "outputs": [],
   "source": [
    "cs_fc = path + '\\\\MyProject4.gdb\\\\most_recent'"
   ]
  },
  {
   "cell_type": "code",
   "execution_count": 21,
   "id": "d450a3cc",
   "metadata": {},
   "outputs": [
    {
     "name": "stdout",
     "output_type": "stream",
     "text": [
      "Completed a spatial join with taxlot...\n"
     ]
    }
   ],
   "source": [
    "spatialJoin = path + '\\\\MyProject4.gdb\\\\HomelessCampSite_SpatialJoin'\n",
    "\n",
    "arcpy.analysis.SpatialJoin(cs_fc, fc, spatialJoin, \"JOIN_ONE_TO_ONE\", \"KEEP_ALL\",'Status \"Status\" true true false 50 Text 0 0,First,#,Homeless Camp Site,Status,0,50;Comments \"Comments\" true true false 500 Text 0 0,First,#,Homeless Camp Site,Comments,0,500;Date \"Date\" true true false 8 Date 0 0,First,#,Homeless Camp Site,Date,-1,-1;Submitted_by \"Submitted By\" true true false 50 Text 0 0,First,#,Homeless Camp Site,Submitted_by,0,50;Dogs_present \"Dogs present\" true true false 50 Text 0 0,First,#,Homeless Camp Site,Dogs_present,0,50;Unruly_inhabitants \"Unruly inhabitants\" true true false 50 Text 0 0,First,#,Homeless Camp Site,Unruly_inhabitants,0,50;Hazardous_materials_present \"Hazardous materials present\" true true false 50 Text 0 0,First,#,Homeless Camp Site,Hazardous_materials_present,0,50;Biohazards_present \"Biohazards present\" true true false 50 Text 0 0,First,#,Homeless Camp Site,Biohazards_present,0,50;Size_of_encampment \"Size of encampment\" true true false 50 Text 0 0,First,#,Homeless Camp Site,Size_of_encampment,0,50;GlobalID \"GlobalID\" false false true 38 GlobalID 0 0,First,#,Homeless Camp Site,GlobalID,-1,-1;maptaxlot_hyphen \"maptaxlot_hyphen\" true true false 17 Text 0 0,First,#,Lane County Taxlots,maptaxlot_hyphen,0,17;ownname \"ownname\" true true false 128 Text 0 0,First,#,Lane County Taxlots,ownname,0,128;addr1 \"addr1\" true true false 64 Text 0 0,First,#,Lane County Taxlots,addr1,0,64;ownercity \"ownercity\" true true false 40 Text 0 0,First,#,Lane County Taxlots,ownercity,0,40;ownerprvst \"ownerprvst\" true true false 30 Text 0 0,First,#,Lane County Taxlots,ownerprvst,0,30;ownerzip \"ownerzip\" true true false 10 Text 0 0,First,#,Lane County Taxlots,ownerzip,0,10;geocity_name \"geocity_name\" true true false 32 Text 0 0,First,#,Lane County Taxlots,geocity_name,0,32;ugb_name \"ugb_name\" true true false 32 Text 0 0,First,#,Lane County Taxlots,ugb_name,0,32;longitude \"longitude\" true true false 8 Double 8 38,First,#,Lane County Taxlots,longitude,-1,-1;latitude \"latitude\" true true false 8 Double 8 38,First,#,Lane County Taxlots,latitude,-1,-1', \"INTERSECT\", None, '')\n",
    "\n",
    "print('Completed a spatial join with taxlot...')"
   ]
  },
  {
   "cell_type": "code",
   "execution_count": 22,
   "id": "84b75179",
   "metadata": {},
   "outputs": [],
   "source": [
    "field_names = [f.name for f in arcpy.ListFields(spatialJoin)]\n",
    "newfields = [\"Nearby_owner\", \"Nearby_owner_address\"]"
   ]
  },
  {
   "cell_type": "code",
   "execution_count": 23,
   "id": "2d46b437",
   "metadata": {},
   "outputs": [],
   "source": [
    "missing_own = [row[0] is None for row in arcpy.da.SearchCursor(spatialJoin, \"ownname\")]"
   ]
  },
  {
   "cell_type": "code",
   "execution_count": 24,
   "id": "8c7c1047",
   "metadata": {},
   "outputs": [],
   "source": [
    "res = arcpy.GetCount_management(spatialJoin)"
   ]
  },
  {
   "cell_type": "code",
   "execution_count": 36,
   "id": "0ce13e4d",
   "metadata": {},
   "outputs": [
    {
     "name": "stdout",
     "output_type": "stream",
     "text": [
      "Owner name is missing in the 3 of 4 counts\n",
      "Updated nearby owner name and address...\n"
     ]
    }
   ],
   "source": [
    "if any(missing_own):\n",
    "    print(f\"Owner name is missing in the {sum(missing_own)} of {res[0]} counts\")\n",
    "    taxlots_w_ownernm = arcpy.management.SelectLayerByAttribute(fc, \"NEW_SELECTION\", \"ownname IS NOT NULL\", None)\n",
    "    for newfield in newfields:\n",
    "        if newfield not in field_names:\n",
    "            arcpy.management.AddField(spatialJoin, newfield, \"TEXT\", 255)\n",
    "            \n",
    "    with arcpy.da.UpdateCursor(spatialJoin, [\"ownname\", 'Nearby_owner', 'Nearby_owner_address', \"TARGET_FID\"]) as cursor:\n",
    "        i = 0\n",
    "        for row in cursor:\n",
    "            row[3] = df.OBJECTID.values[i]\n",
    "            i+=1\n",
    "            if row[0] is None:\n",
    "                selres2 = arcpy.management.SelectLayerByAttribute(spatialJoin, \"NEW_SELECTION\", \"ownname IS NULL\", None)\n",
    "                spatialJoin2 = path + '\\\\MyProject4.gdb\\\\CampSite_SpatialJoin'\n",
    "                arcpy.analysis.SpatialJoin(selres2, taxlots_w_ownernm, spatialJoin2, \"JOIN_ONE_TO_ONE\", \"KEEP_ALL\", 'Join_Count \"Join_Count\" true true false 4 Long 0 0,First,#,Camp Site,Join_Count,-1,-1;TARGET_FID \"TARGET_FID\" true true false 4 Long 0 0,First,#,Camp Site,TARGET_FID,-1,-1;Status \"Status\" true true false 50 Text 0 0,First,#,Camp Site,Status,0,50;Comments \"Comments\" true true false 500 Text 0 0,First,#,Camp Site,Comments,0,500;Date \"Date\" true true false 8 Date 0 0,First,#,Camp Site,Date,-1,-1;Submitted_by \"Submitted By\" true true false 50 Text 0 0,First,#,Camp Site,Submitted_by,0,50;Dogs_present \"Dogs present\" true true false 50 Text 0 0,First,#,Camp Site,Dogs_present,0,50;Unruly_inhabitants \"Unruly inhabitants\" true true false 50 Text 0 0,First,#,Camp Site,Unruly_inhabitants,0,50;Hazardous_materials_present \"Hazardous materials present\" true true false 50 Text 0 0,First,#,Camp Site,Hazardous_materials_present,0,50;Biohazards_present \"Biohazards present\" true true false 50 Text 0 0,First,#,Camp Site,Biohazards_present,0,50;Size_of_encampment \"Size of encampment\" true true false 50 Text 0 0,First,#,Camp Site,Size_of_encampment,0,50;maptaxlot_hyphen \"maptaxlot_hyphen\" true true false 17 Text 0 0,First,#,Camp Site,maptaxlot_hyphen,0,17;ownname \"ownname\" true true false 128 Text 0 0,First,#,Camp Site,ownname,0,128;addr1 \"addr1\" true true false 64 Text 0 0,First,#,Camp Site,addr1,0,64;ownercity \"ownercity\" true true false 40 Text 0 0,First,#,Camp Site,ownercity,0,40;ownerprvst \"ownerprvst\" true true false 30 Text 0 0,First,#,Camp Site,ownerprvst,0,30;ownerzip \"ownerzip\" true true false 10 Text 0 0,First,#,Camp Site,ownerzip,0,10;geocity_name \"geocity_name\" true true false 32 Text 0 0,First,#,Camp Site,geocity_name,0,32;ugb_name \"ugb_name\" true true false 32 Text 0 0,First,#,Camp Site,ugb_name,0,32;longitude \"longitude\" true true false 8 Double 0 0,First,#,Camp Site,longitude,-1,-1;latitude \"latitude\" true true false 8 Double 0 0,First,#,Camp Site,latitude,-1,-1;maptaxlot_hyphen_1 \"maptaxlot_hyphen\" true true false 17 Text 0 0,First,#,Taxlots,maptaxlot_hyphen,0,17;ownname_1 \"ownname\" true true false 128 Text 0 0,First,#,Taxlots,ownname,0,128;addr1_1 \"addr1\" true true false 64 Text 0 0,First,#,Taxlots,addr1,0,64;ownercity_1 \"ownercity\" true true false 40 Text 0 0,First,#,Taxlots,ownercity,0,40;ownerprvst_1 \"ownerprvst\" true true false 30 Text 0 0,First,#,Taxlots,ownerprvst,0,30;ownerzip_1 \"ownerzip\" true true false 10 Text 0 0,First,#,Taxlots,ownerzip,0,10;geocity_name_1 \"geocity_name\" true true false 32 Text 0 0,First,#,Taxlots,geocity_name,0,32;ugb_name_1 \"ugb_name\" true true false 32 Text 0 0,First,#,Taxlots,ugb_name,0,32;longitude_1 \"longitude\" true true false 8 Double 8 38,First,#,Taxlots,longitude,-1,-1;latitude_1 \"latitude\" true true false 8 Double 8 38,First,#,Taxlots,latitude,-1,-1', \"CLOSEST\", None, '')\n",
    "                values = [rowv for rowv in arcpy.da.SearchCursor(spatialJoin2, [\"ownname_1\", \"addr1_1\"])]\n",
    "                row[1] = values[0][0]\n",
    "                row[2] = values[0][1]\n",
    "            cursor.updateRow(row)\n",
    "    print(\"Updated nearby owner name and address...\")"
   ]
  },
  {
   "cell_type": "code",
   "execution_count": 37,
   "id": "bda944e8",
   "metadata": {},
   "outputs": [
    {
     "name": "stdout",
     "output_type": "stream",
     "text": [
      "Exported the join table...\n"
     ]
    }
   ],
   "source": [
    "arcpy.conversion.TableToExcel(spatialJoin, path+'\\\\most_recent.xlsx')\n",
    "print('Exported the join table...')"
   ]
  }
 ],
 "metadata": {
  "kernelspec": {
   "display_name": "Python 3",
   "language": "python",
   "name": "python3"
  },
  "language_info": {
   "codemirror_mode": {
    "name": "ipython",
    "version": 3
   },
   "file_extension": ".py",
   "mimetype": "text/x-python",
   "name": "python",
   "nbconvert_exporter": "python",
   "pygments_lexer": "ipython3",
   "version": "3.9.11"
  }
 },
 "nbformat": 4,
 "nbformat_minor": 5
}
