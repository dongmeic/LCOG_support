{
 "cells": [
  {
   "cell_type": "code",
   "execution_count": 1,
   "id": "d630ac59",
   "metadata": {},
   "outputs": [],
   "source": [
    "import arcpy, os\n",
    "from datetime import datetime, date\n",
    "from homeless import *\n",
    "import time\n",
    "from arcgis import GIS\n",
    "from arcgis.features import FeatureLayerCollection\n",
    "import pandas as pd\n",
    "gis = GIS('home')"
   ]
  },
  {
   "cell_type": "code",
   "execution_count": 2,
   "id": "a399975c",
   "metadata": {},
   "outputs": [],
   "source": [
    "arcpy.env.overwriteOutput = True\n",
    "outpath = r'G:\\projects\\UtilityDistricts\\eweb\\DrinkingWater\\IllegalCampCoordination\\Recieved'\n",
    "path = outpath + '\\\\IllegalCampNotification_pro'\n",
    "url = 'https://services5.arcgis.com/9s1YtFmLS0YTl10F/ArcGIS/rest/services/ZHomeless_Camp_Trash_Collector/FeatureServer'\n",
    "camp_site = url + '/0'"
   ]
  },
  {
   "cell_type": "code",
   "execution_count": 3,
   "id": "cfb7a5d2",
   "metadata": {},
   "outputs": [],
   "source": [
    "listdates1 = []\n",
    "cursor = arcpy.da.SearchCursor(camp_site, \"Date\")\n",
    "for row in cursor:\n",
    "    listdates1.append(row)\n",
    "\n",
    "listdates = [dt[0] for dt in listdates1 if dt[0] is not None]    \n",
    "maxdate = max(listdates)"
   ]
  },
  {
   "cell_type": "code",
   "execution_count": 4,
   "id": "07cf5c63",
   "metadata": {},
   "outputs": [],
   "source": [
    "# check whether there is a need to report\n",
    "maxdatestr = str(maxdate)\n",
    "datestr = maxdatestr.split('.')[0].split(' ')[0]\n",
    "res = convert_date(datestr)\n",
    "Y = res[1]\n",
    "m = res[2]\n",
    "d = res[3]\n",
    "outfolder = os.path.join(outpath, Y, m+'_'+d)\n",
    "outfolder_yr = os.path.join(outpath, Y)\n",
    "filename = 'IllegalCampNotice_'+m+'_'+d+'_'+Y[2:4]+'.xlsx'\n",
    "file = os.path.join(outfolder, filename)"
   ]
  },
  {
   "cell_type": "code",
   "execution_count": 5,
   "id": "d1ec9d87",
   "metadata": {},
   "outputs": [],
   "source": [
    "flyrs = FeatureLayerCollection(url)\n",
    "fl = flyrs.layers[0]\n",
    "sdf = pd.DataFrame.spatial.from_layer(fl)\n",
    "sdf['datestr'] = sdf.Date.apply(lambda x: str(x).split(' ')[0])\n",
    "sdf_s = sdf[sdf.datestr == maxdatestr.split(' ')[0]]"
   ]
  },
  {
   "cell_type": "code",
   "execution_count": 6,
   "id": "6dae8847",
   "metadata": {},
   "outputs": [
    {
     "data": {
      "text/html": [
       "<div>\n",
       "<style scoped>\n",
       "    .dataframe tbody tr th:only-of-type {\n",
       "        vertical-align: middle;\n",
       "    }\n",
       "\n",
       "    .dataframe tbody tr th {\n",
       "        vertical-align: top;\n",
       "    }\n",
       "\n",
       "    .dataframe thead th {\n",
       "        text-align: right;\n",
       "    }\n",
       "</style>\n",
       "<table border=\"1\" class=\"dataframe\">\n",
       "  <thead>\n",
       "    <tr style=\"text-align: right;\">\n",
       "      <th></th>\n",
       "      <th>OBJECTID</th>\n",
       "      <th>Status</th>\n",
       "      <th>Comments</th>\n",
       "      <th>Date</th>\n",
       "      <th>Submitted_by</th>\n",
       "      <th>Dogs_present</th>\n",
       "      <th>Unruly_inhabitants</th>\n",
       "      <th>Hazardous_materials_present</th>\n",
       "      <th>Biohazards_present</th>\n",
       "      <th>Size_of_encampment</th>\n",
       "      <th>GlobalID</th>\n",
       "      <th>SHAPE</th>\n",
       "      <th>datestr</th>\n",
       "    </tr>\n",
       "  </thead>\n",
       "  <tbody>\n",
       "    <tr>\n",
       "      <th>760</th>\n",
       "      <td>1846</td>\n",
       "      <td>Dump Site</td>\n",
       "      <td>Blue totes; shopping cart; litter</td>\n",
       "      <td>2023-03-09 18:38:51.247999907</td>\n",
       "      <td>Mary Healy</td>\n",
       "      <td>No</td>\n",
       "      <td>No</td>\n",
       "      <td>Unknown</td>\n",
       "      <td>Unknown</td>\n",
       "      <td>Small</td>\n",
       "      <td>449b1ad5-c04d-44ca-b327-c54a82861e37</td>\n",
       "      <td>{\"x\": 650265.6161417365, \"y\": 852499.560695543...</td>\n",
       "      <td>2023-03-09</td>\n",
       "    </tr>\n",
       "    <tr>\n",
       "      <th>761</th>\n",
       "      <td>1847</td>\n",
       "      <td>Dump Site</td>\n",
       "      <td>Shopping cart; litter</td>\n",
       "      <td>2023-03-09 18:40:56.773999929</td>\n",
       "      <td>Mary Healy</td>\n",
       "      <td>No</td>\n",
       "      <td>No</td>\n",
       "      <td>Unknown</td>\n",
       "      <td>Unknown</td>\n",
       "      <td>Small</td>\n",
       "      <td>c42a81a3-6ff3-4d3b-9d68-6f5d0d243de8</td>\n",
       "      <td>{\"x\": 650196.3638451397, \"y\": 852313.463582679...</td>\n",
       "      <td>2023-03-09</td>\n",
       "    </tr>\n",
       "  </tbody>\n",
       "</table>\n",
       "</div>"
      ],
      "text/plain": [
       "     OBJECTID     Status                           Comments  \\\n",
       "760      1846  Dump Site  Blue totes; shopping cart; litter   \n",
       "761      1847  Dump Site              Shopping cart; litter   \n",
       "\n",
       "                             Date Submitted_by Dogs_present  \\\n",
       "760 2023-03-09 18:38:51.247999907  Mary Healy            No   \n",
       "761 2023-03-09 18:40:56.773999929  Mary Healy            No   \n",
       "\n",
       "    Unruly_inhabitants Hazardous_materials_present Biohazards_present  \\\n",
       "760                 No                     Unknown            Unknown   \n",
       "761                 No                     Unknown            Unknown   \n",
       "\n",
       "    Size_of_encampment                              GlobalID  \\\n",
       "760              Small  449b1ad5-c04d-44ca-b327-c54a82861e37   \n",
       "761              Small  c42a81a3-6ff3-4d3b-9d68-6f5d0d243de8   \n",
       "\n",
       "                                                 SHAPE     datestr  \n",
       "760  {\"x\": 650265.6161417365, \"y\": 852499.560695543...  2023-03-09  \n",
       "761  {\"x\": 650196.3638451397, \"y\": 852313.463582679...  2023-03-09  "
      ]
     },
     "execution_count": 6,
     "metadata": {},
     "output_type": "execute_result"
    }
   ],
   "source": [
    "sdf_s.head(5)"
   ]
  },
  {
   "cell_type": "code",
   "execution_count": 7,
   "id": "3507fb7d",
   "metadata": {},
   "outputs": [],
   "source": [
    "df = convert_dtypes_arcgis(sdf_s)\n",
    "df.drop(columns='datestr', inplace=True)"
   ]
  },
  {
   "cell_type": "code",
   "execution_count": 8,
   "id": "bc463cc8",
   "metadata": {},
   "outputs": [],
   "source": [
    "df.loc[:, 'Comments'] = df.Comments.apply(lambda x: trim_field_value(x))"
   ]
  },
  {
   "cell_type": "code",
   "execution_count": 9,
   "id": "a5c69407",
   "metadata": {},
   "outputs": [
    {
     "name": "stdout",
     "output_type": "stream",
     "text": [
      "Most recent data saved at G:\\projects\\UtilityDistricts\\eweb\\DrinkingWater\\IllegalCampCoordination\\Recieved\\IllegalCampNotification_pro\\MyProject4.gdb\\most_recent\n"
     ]
    }
   ],
   "source": [
    "# this will take some seconds\n",
    "datacopy = df.spatial.to_featureclass(path + '\\\\MyProject4.gdb\\\\most_recent', overwrite=True)\n",
    "print(f'Most recent data saved at {datacopy}')"
   ]
  },
  {
   "cell_type": "code",
   "execution_count": 10,
   "id": "bc991b42",
   "metadata": {},
   "outputs": [],
   "source": [
    "# this might take a minute\n",
    "sdeFile = path + \"\\\\RLIDDB.sde\"\n",
    "\n",
    "if os.path.exists(sdeFile):\n",
    "    os.remove(sdeFile)\n",
    "\n",
    "# connect to RLIDGeo to get taxlot data\n",
    "conn = arcpy.CreateDatabaseConnection_management(out_folder_path=path,\n",
    "                                          out_name=\"RLIDDB.sde\",\n",
    "                                          database_platform=\"SQL_SERVER\",\n",
    "                                          instance=\"rliddb.int.lcog.org,5433\",\n",
    "                                          account_authentication=\"OPERATING_SYSTEM_AUTH\",\n",
    "                                          database=\"RLIDGeo\")\n",
    "\n",
    "arcpy.env.workspace = conn.getOutput(0)\n",
    "fc = \"RLIDGeo.DBO.Taxlot\""
   ]
  },
  {
   "cell_type": "code",
   "execution_count": 11,
   "id": "062f5559",
   "metadata": {},
   "outputs": [],
   "source": [
    "cs_fc = path + '\\\\MyProject4.gdb\\\\most_recent'"
   ]
  },
  {
   "cell_type": "code",
   "execution_count": 12,
   "id": "2fbdf1c2",
   "metadata": {},
   "outputs": [
    {
     "name": "stdout",
     "output_type": "stream",
     "text": [
      "Completed a spatial join with taxlot...\n"
     ]
    }
   ],
   "source": [
    "spatialJoin = path + '\\\\MyProject4.gdb\\\\HomelessCampSite_SpatialJoin'\n",
    "\n",
    "arcpy.analysis.SpatialJoin(cs_fc, fc, spatialJoin, \"JOIN_ONE_TO_ONE\", \"KEEP_ALL\",'Status \"Status\" true true false 50 Text 0 0,First,#,Homeless Camp Site,Status,0,50;Comments \"Comments\" true true false 500 Text 0 0,First,#,Homeless Camp Site,Comments,0,500;Date \"Date\" true true false 8 Date 0 0,First,#,Homeless Camp Site,Date,-1,-1;Submitted_by \"Submitted By\" true true false 50 Text 0 0,First,#,Homeless Camp Site,Submitted_by,0,50;Dogs_present \"Dogs present\" true true false 50 Text 0 0,First,#,Homeless Camp Site,Dogs_present,0,50;Unruly_inhabitants \"Unruly inhabitants\" true true false 50 Text 0 0,First,#,Homeless Camp Site,Unruly_inhabitants,0,50;Hazardous_materials_present \"Hazardous materials present\" true true false 50 Text 0 0,First,#,Homeless Camp Site,Hazardous_materials_present,0,50;Biohazards_present \"Biohazards present\" true true false 50 Text 0 0,First,#,Homeless Camp Site,Biohazards_present,0,50;Size_of_encampment \"Size of encampment\" true true false 50 Text 0 0,First,#,Homeless Camp Site,Size_of_encampment,0,50;GlobalID \"GlobalID\" false false true 38 GlobalID 0 0,First,#,Homeless Camp Site,GlobalID,-1,-1;maptaxlot_hyphen \"maptaxlot_hyphen\" true true false 17 Text 0 0,First,#,Lane County Taxlots,maptaxlot_hyphen,0,17;ownname \"ownname\" true true false 128 Text 0 0,First,#,Lane County Taxlots,ownname,0,128;addr1 \"addr1\" true true false 64 Text 0 0,First,#,Lane County Taxlots,addr1,0,64;ownercity \"ownercity\" true true false 40 Text 0 0,First,#,Lane County Taxlots,ownercity,0,40;ownerprvst \"ownerprvst\" true true false 30 Text 0 0,First,#,Lane County Taxlots,ownerprvst,0,30;ownerzip \"ownerzip\" true true false 10 Text 0 0,First,#,Lane County Taxlots,ownerzip,0,10;geocity_name \"geocity_name\" true true false 32 Text 0 0,First,#,Lane County Taxlots,geocity_name,0,32;ugb_name \"ugb_name\" true true false 32 Text 0 0,First,#,Lane County Taxlots,ugb_name,0,32;longitude \"longitude\" true true false 8 Double 8 38,First,#,Lane County Taxlots,longitude,-1,-1;latitude \"latitude\" true true false 8 Double 8 38,First,#,Lane County Taxlots,latitude,-1,-1', \"INTERSECT\", None, '')\n",
    "\n",
    "print('Completed a spatial join with taxlot...')"
   ]
  },
  {
   "cell_type": "code",
   "execution_count": 13,
   "id": "93bf39eb",
   "metadata": {},
   "outputs": [],
   "source": [
    "field_names = [f.name for f in arcpy.ListFields(spatialJoin)]\n",
    "newfields = [\"Nearby_owner\", \"Nearby_owner_address\"]"
   ]
  },
  {
   "cell_type": "code",
   "execution_count": 14,
   "id": "26e4c314",
   "metadata": {},
   "outputs": [],
   "source": [
    "missing_own = [row[0] is None for row in arcpy.da.SearchCursor(spatialJoin, \"ownname\")]"
   ]
  },
  {
   "cell_type": "code",
   "execution_count": 15,
   "id": "04e75fb5",
   "metadata": {},
   "outputs": [],
   "source": [
    "res = arcpy.GetCount_management(spatialJoin)"
   ]
  },
  {
   "cell_type": "code",
   "execution_count": 16,
   "id": "d57bc304",
   "metadata": {},
   "outputs": [
    {
     "name": "stdout",
     "output_type": "stream",
     "text": [
      "Owner name is missing in the 1 of 2 counts\n",
      "Updated nearby owner name and address...\n"
     ]
    }
   ],
   "source": [
    "if any(missing_own):\n",
    "    print(f\"Owner name is missing in the {sum(missing_own)} of {res[0]} counts\")\n",
    "    taxlots_w_ownernm = arcpy.management.SelectLayerByAttribute(fc, \"NEW_SELECTION\", \"ownname IS NOT NULL\", None)\n",
    "    for newfield in newfields:\n",
    "        if newfield not in field_names:\n",
    "            arcpy.management.AddField(spatialJoin, newfield, \"TEXT\", 255)\n",
    "            \n",
    "    with arcpy.da.UpdateCursor(spatialJoin, [\"ownname\", 'Nearby_owner', 'Nearby_owner_address', \"TARGET_FID\"]) as cursor:\n",
    "        i = 0\n",
    "        for row in cursor:\n",
    "            row[3] = df.OBJECTID.values[i]\n",
    "            i+=1\n",
    "            if row[0] is None:\n",
    "                selres2 = arcpy.management.SelectLayerByAttribute(spatialJoin, \"NEW_SELECTION\", \"ownname IS NULL\", None)\n",
    "                spatialJoin2 = path + '\\\\MyProject4.gdb\\\\CampSite_SpatialJoin'\n",
    "                arcpy.analysis.SpatialJoin(selres2, taxlots_w_ownernm, spatialJoin2, \"JOIN_ONE_TO_ONE\", \"KEEP_ALL\", 'Join_Count \"Join_Count\" true true false 4 Long 0 0,First,#,Camp Site,Join_Count,-1,-1;TARGET_FID \"TARGET_FID\" true true false 4 Long 0 0,First,#,Camp Site,TARGET_FID,-1,-1;Status \"Status\" true true false 50 Text 0 0,First,#,Camp Site,Status,0,50;Comments \"Comments\" true true false 500 Text 0 0,First,#,Camp Site,Comments,0,500;Date \"Date\" true true false 8 Date 0 0,First,#,Camp Site,Date,-1,-1;Submitted_by \"Submitted By\" true true false 50 Text 0 0,First,#,Camp Site,Submitted_by,0,50;Dogs_present \"Dogs present\" true true false 50 Text 0 0,First,#,Camp Site,Dogs_present,0,50;Unruly_inhabitants \"Unruly inhabitants\" true true false 50 Text 0 0,First,#,Camp Site,Unruly_inhabitants,0,50;Hazardous_materials_present \"Hazardous materials present\" true true false 50 Text 0 0,First,#,Camp Site,Hazardous_materials_present,0,50;Biohazards_present \"Biohazards present\" true true false 50 Text 0 0,First,#,Camp Site,Biohazards_present,0,50;Size_of_encampment \"Size of encampment\" true true false 50 Text 0 0,First,#,Camp Site,Size_of_encampment,0,50;maptaxlot_hyphen \"maptaxlot_hyphen\" true true false 17 Text 0 0,First,#,Camp Site,maptaxlot_hyphen,0,17;ownname \"ownname\" true true false 128 Text 0 0,First,#,Camp Site,ownname,0,128;addr1 \"addr1\" true true false 64 Text 0 0,First,#,Camp Site,addr1,0,64;ownercity \"ownercity\" true true false 40 Text 0 0,First,#,Camp Site,ownercity,0,40;ownerprvst \"ownerprvst\" true true false 30 Text 0 0,First,#,Camp Site,ownerprvst,0,30;ownerzip \"ownerzip\" true true false 10 Text 0 0,First,#,Camp Site,ownerzip,0,10;geocity_name \"geocity_name\" true true false 32 Text 0 0,First,#,Camp Site,geocity_name,0,32;ugb_name \"ugb_name\" true true false 32 Text 0 0,First,#,Camp Site,ugb_name,0,32;longitude \"longitude\" true true false 8 Double 0 0,First,#,Camp Site,longitude,-1,-1;latitude \"latitude\" true true false 8 Double 0 0,First,#,Camp Site,latitude,-1,-1;maptaxlot_hyphen_1 \"maptaxlot_hyphen\" true true false 17 Text 0 0,First,#,Taxlots,maptaxlot_hyphen,0,17;ownname_1 \"ownname\" true true false 128 Text 0 0,First,#,Taxlots,ownname,0,128;addr1_1 \"addr1\" true true false 64 Text 0 0,First,#,Taxlots,addr1,0,64;ownercity_1 \"ownercity\" true true false 40 Text 0 0,First,#,Taxlots,ownercity,0,40;ownerprvst_1 \"ownerprvst\" true true false 30 Text 0 0,First,#,Taxlots,ownerprvst,0,30;ownerzip_1 \"ownerzip\" true true false 10 Text 0 0,First,#,Taxlots,ownerzip,0,10;geocity_name_1 \"geocity_name\" true true false 32 Text 0 0,First,#,Taxlots,geocity_name,0,32;ugb_name_1 \"ugb_name\" true true false 32 Text 0 0,First,#,Taxlots,ugb_name,0,32;longitude_1 \"longitude\" true true false 8 Double 8 38,First,#,Taxlots,longitude,-1,-1;latitude_1 \"latitude\" true true false 8 Double 8 38,First,#,Taxlots,latitude,-1,-1', \"CLOSEST\", None, '')\n",
    "                values = [rowv for rowv in arcpy.da.SearchCursor(spatialJoin2, [\"ownname_1\", \"addr1_1\"])]\n",
    "                row[1] = values[0][0]\n",
    "                row[2] = values[0][1]\n",
    "            cursor.updateRow(row)\n",
    "    print(\"Updated nearby owner name and address...\")\n",
    "else:\n",
    "    with arcpy.da.UpdateCursor(spatialJoin, [\"TARGET_FID\"]) as cursor:\n",
    "        i = 0\n",
    "        for row in cursor:\n",
    "            row[0] = df.OBJECTID.values[i]\n",
    "            i+=1\n",
    "            cursor.updateRow(row)"
   ]
  },
  {
   "cell_type": "code",
   "execution_count": 17,
   "id": "8b0f6ab7",
   "metadata": {},
   "outputs": [],
   "source": [
    "dt = pd.DataFrame.spatial.from_featureclass(spatialJoin)"
   ]
  },
  {
   "cell_type": "code",
   "execution_count": 18,
   "id": "3a382b39",
   "metadata": {},
   "outputs": [
    {
     "data": {
      "text/html": [
       "<div>\n",
       "<style scoped>\n",
       "    .dataframe tbody tr th:only-of-type {\n",
       "        vertical-align: middle;\n",
       "    }\n",
       "\n",
       "    .dataframe tbody tr th {\n",
       "        vertical-align: top;\n",
       "    }\n",
       "\n",
       "    .dataframe thead th {\n",
       "        text-align: right;\n",
       "    }\n",
       "</style>\n",
       "<table border=\"1\" class=\"dataframe\">\n",
       "  <thead>\n",
       "    <tr style=\"text-align: right;\">\n",
       "      <th></th>\n",
       "      <th>OBJECTID</th>\n",
       "      <th>Join_Count</th>\n",
       "      <th>TARGET_FID</th>\n",
       "      <th>Status</th>\n",
       "      <th>Comments</th>\n",
       "      <th>Date</th>\n",
       "      <th>Submitted_by</th>\n",
       "      <th>Dogs_present</th>\n",
       "      <th>Unruly_inhabitants</th>\n",
       "      <th>Hazardous_materials_present</th>\n",
       "      <th>...</th>\n",
       "      <th>ownercity</th>\n",
       "      <th>ownerprvst</th>\n",
       "      <th>ownerzip</th>\n",
       "      <th>geocity_name</th>\n",
       "      <th>ugb_name</th>\n",
       "      <th>longitude</th>\n",
       "      <th>latitude</th>\n",
       "      <th>Nearby_owner</th>\n",
       "      <th>Nearby_owner_address</th>\n",
       "      <th>SHAPE</th>\n",
       "    </tr>\n",
       "  </thead>\n",
       "  <tbody>\n",
       "    <tr>\n",
       "      <th>0</th>\n",
       "      <td>1</td>\n",
       "      <td>1</td>\n",
       "      <td>1846</td>\n",
       "      <td>Dump Site</td>\n",
       "      <td>Blue totes; shopping cart; litter</td>\n",
       "      <td>2023-03-09 18:38:51.247999</td>\n",
       "      <td>Mary Healy</td>\n",
       "      <td>No</td>\n",
       "      <td>No</td>\n",
       "      <td>Unknown</td>\n",
       "      <td>...</td>\n",
       "      <td>None</td>\n",
       "      <td>None</td>\n",
       "      <td>None</td>\n",
       "      <td>Springfield</td>\n",
       "      <td>Springfield</td>\n",
       "      <td>-123.022511</td>\n",
       "      <td>44.060784</td>\n",
       "      <td>Lee Jacqueline A</td>\n",
       "      <td>1245 Queen Anne</td>\n",
       "      <td>{\"x\": 650265.6161417365, \"y\": 852499.560695543...</td>\n",
       "    </tr>\n",
       "    <tr>\n",
       "      <th>1</th>\n",
       "      <td>2</td>\n",
       "      <td>1</td>\n",
       "      <td>1847</td>\n",
       "      <td>Dump Site</td>\n",
       "      <td>Shopping cart; litter</td>\n",
       "      <td>2023-03-09 18:40:56.773999</td>\n",
       "      <td>Mary Healy</td>\n",
       "      <td>No</td>\n",
       "      <td>No</td>\n",
       "      <td>Unknown</td>\n",
       "      <td>...</td>\n",
       "      <td>Springfield</td>\n",
       "      <td>Oregon</td>\n",
       "      <td>97477</td>\n",
       "      <td>Springfield</td>\n",
       "      <td>Springfield</td>\n",
       "      <td>-123.019802</td>\n",
       "      <td>44.060500</td>\n",
       "      <td>None</td>\n",
       "      <td>None</td>\n",
       "      <td>{\"x\": 650196.3638451397, \"y\": 852313.463582679...</td>\n",
       "    </tr>\n",
       "  </tbody>\n",
       "</table>\n",
       "<p>2 rows × 25 columns</p>\n",
       "</div>"
      ],
      "text/plain": [
       "   OBJECTID  Join_Count  TARGET_FID     Status  \\\n",
       "0         1           1        1846  Dump Site   \n",
       "1         2           1        1847  Dump Site   \n",
       "\n",
       "                            Comments                       Date Submitted_by  \\\n",
       "0  Blue totes; shopping cart; litter 2023-03-09 18:38:51.247999  Mary Healy    \n",
       "1              Shopping cart; litter 2023-03-09 18:40:56.773999  Mary Healy    \n",
       "\n",
       "  Dogs_present Unruly_inhabitants Hazardous_materials_present  ...  \\\n",
       "0           No                 No                     Unknown  ...   \n",
       "1           No                 No                     Unknown  ...   \n",
       "\n",
       "     ownercity ownerprvst    ownerzip geocity_name     ugb_name   longitude  \\\n",
       "0         None       None        None  Springfield  Springfield -123.022511   \n",
       "1  Springfield     Oregon  97477       Springfield  Springfield -123.019802   \n",
       "\n",
       "    latitude      Nearby_owner Nearby_owner_address  \\\n",
       "0  44.060784  Lee Jacqueline A      1245 Queen Anne   \n",
       "1  44.060500              None                 None   \n",
       "\n",
       "                                               SHAPE  \n",
       "0  {\"x\": 650265.6161417365, \"y\": 852499.560695543...  \n",
       "1  {\"x\": 650196.3638451397, \"y\": 852313.463582679...  \n",
       "\n",
       "[2 rows x 25 columns]"
      ]
     },
     "execution_count": 18,
     "metadata": {},
     "output_type": "execute_result"
    }
   ],
   "source": [
    "dt"
   ]
  },
  {
   "cell_type": "code",
   "execution_count": 20,
   "id": "0d5c57d0",
   "metadata": {},
   "outputs": [
    {
     "name": "stdout",
     "output_type": "stream",
     "text": [
      "Exported the join table...\n"
     ]
    }
   ],
   "source": [
    "arcpy.conversion.TableToExcel(spatialJoin, path+'\\\\most_recent.xlsx')\n",
    "print('Exported the join table...')"
   ]
  }
 ],
 "metadata": {
  "kernelspec": {
   "display_name": "Python 3",
   "language": "python",
   "name": "python3"
  },
  "language_info": {
   "codemirror_mode": {
    "name": "ipython",
    "version": 3
   },
   "file_extension": ".py",
   "mimetype": "text/x-python",
   "name": "python",
   "nbconvert_exporter": "python",
   "pygments_lexer": "ipython3",
   "version": "3.9.11"
  }
 },
 "nbformat": 4,
 "nbformat_minor": 5
}
