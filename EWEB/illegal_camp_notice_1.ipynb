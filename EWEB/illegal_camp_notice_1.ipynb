{
 "cells": [
  {
   "cell_type": "code",
   "execution_count": 1,
   "id": "a60b4238",
   "metadata": {},
   "outputs": [],
   "source": [
    "import arcpy, os\n",
    "from datetime import datetime, date\n",
    "from homeless import *\n",
    "import time\n",
    "from arcgis import GIS\n",
    "from arcgis.features import FeatureLayerCollection\n",
    "import pandas as pd\n",
    "gis = GIS('home')"
   ]
  },
  {
   "cell_type": "code",
   "execution_count": 2,
   "id": "13e4fa5d",
   "metadata": {},
   "outputs": [],
   "source": [
    "arcpy.env.overwriteOutput = True\n",
    "outpath = r'G:\\projects\\UtilityDistricts\\eweb\\DrinkingWater\\IllegalCampCoordination\\Recieved'\n",
    "path = outpath + '\\\\IllegalCampNotification_pro'\n",
    "url = 'https://services5.arcgis.com/9s1YtFmLS0YTl10F/ArcGIS/rest/services/ZHomeless_Camp_Trash_Collector/FeatureServer'\n",
    "camp_site = url + '/0'"
   ]
  },
  {
   "cell_type": "code",
   "execution_count": 3,
   "id": "4ab836fb",
   "metadata": {},
   "outputs": [],
   "source": [
    "listdates1 = []\n",
    "cursor = arcpy.da.SearchCursor(camp_site, \"Date\")\n",
    "for row in cursor:\n",
    "    listdates1.append(row)\n",
    "\n",
    "listdates = [dt[0] for dt in listdates1 if dt[0] is not None]    \n",
    "maxdate = max(listdates)"
   ]
  },
  {
   "cell_type": "code",
   "execution_count": 4,
   "id": "0c1b1f34",
   "metadata": {},
   "outputs": [],
   "source": [
    "# check whether there is a need to report\n",
    "maxdatestr = str(maxdate)\n",
    "datestr = maxdatestr.split('.')[0].split(' ')[0]\n",
    "res = convert_date(datestr)\n",
    "Y = res[1]\n",
    "m = res[2]\n",
    "d = res[3]\n",
    "outfolder = os.path.join(outpath, Y, m+'_'+d)\n",
    "outfolder_yr = os.path.join(outpath, Y)\n",
    "filename = 'IllegalCampNotice_'+m+'_'+d+'_'+Y[2:4]+'.xlsx'\n",
    "file = os.path.join(outfolder, filename)"
   ]
  },
  {
   "cell_type": "code",
   "execution_count": 5,
   "id": "c08bab6d",
   "metadata": {},
   "outputs": [],
   "source": [
    "flyrs = FeatureLayerCollection(url)\n",
    "fl = flyrs.layers[0]\n",
    "sdf = pd.DataFrame.spatial.from_layer(fl)\n",
    "sdf['datestr'] = sdf.Date.apply(lambda x: str(x).split(' ')[0])\n",
    "sdf_s = sdf[sdf.datestr == maxdatestr.split(' ')[0]]"
   ]
  },
  {
   "cell_type": "code",
   "execution_count": 6,
   "id": "47d90020",
   "metadata": {},
   "outputs": [
    {
     "data": {
      "text/html": [
       "<div>\n",
       "<style scoped>\n",
       "    .dataframe tbody tr th:only-of-type {\n",
       "        vertical-align: middle;\n",
       "    }\n",
       "\n",
       "    .dataframe tbody tr th {\n",
       "        vertical-align: top;\n",
       "    }\n",
       "\n",
       "    .dataframe thead th {\n",
       "        text-align: right;\n",
       "    }\n",
       "</style>\n",
       "<table border=\"1\" class=\"dataframe\">\n",
       "  <thead>\n",
       "    <tr style=\"text-align: right;\">\n",
       "      <th></th>\n",
       "      <th>OBJECTID</th>\n",
       "      <th>Status</th>\n",
       "      <th>Comments</th>\n",
       "      <th>Date</th>\n",
       "      <th>Submitted_by</th>\n",
       "      <th>Dogs_present</th>\n",
       "      <th>Unruly_inhabitants</th>\n",
       "      <th>Hazardous_materials_present</th>\n",
       "      <th>Biohazards_present</th>\n",
       "      <th>Size_of_encampment</th>\n",
       "      <th>GlobalID</th>\n",
       "      <th>SHAPE</th>\n",
       "      <th>datestr</th>\n",
       "    </tr>\n",
       "  </thead>\n",
       "  <tbody>\n",
       "    <tr>\n",
       "      <th>759</th>\n",
       "      <td>1845</td>\n",
       "      <td>Dump Site</td>\n",
       "      <td>Medium sized trailer full of garbage abandoned...</td>\n",
       "      <td>2023-03-06 01:16:56.716000080</td>\n",
       "      <td>914 - EWEB Physical Security Officer</td>\n",
       "      <td>No</td>\n",
       "      <td>None</td>\n",
       "      <td>Unknown</td>\n",
       "      <td>Unknown</td>\n",
       "      <td>Large</td>\n",
       "      <td>d2e01b16-039d-481d-84f3-58f8d77ea9d7</td>\n",
       "      <td>{\"x\": 750516.1537398364, \"y\": 871381.257417727...</td>\n",
       "      <td>2023-03-06</td>\n",
       "    </tr>\n",
       "  </tbody>\n",
       "</table>\n",
       "</div>"
      ],
      "text/plain": [
       "     OBJECTID     Status                                           Comments  \\\n",
       "759      1845  Dump Site  Medium sized trailer full of garbage abandoned...   \n",
       "\n",
       "                             Date                          Submitted_by  \\\n",
       "759 2023-03-06 01:16:56.716000080  914 - EWEB Physical Security Officer   \n",
       "\n",
       "    Dogs_present Unruly_inhabitants Hazardous_materials_present  \\\n",
       "759           No               None                     Unknown   \n",
       "\n",
       "    Biohazards_present Size_of_encampment  \\\n",
       "759            Unknown              Large   \n",
       "\n",
       "                                 GlobalID  \\\n",
       "759  d2e01b16-039d-481d-84f3-58f8d77ea9d7   \n",
       "\n",
       "                                                 SHAPE     datestr  \n",
       "759  {\"x\": 750516.1537398364, \"y\": 871381.257417727...  2023-03-06  "
      ]
     },
     "execution_count": 6,
     "metadata": {},
     "output_type": "execute_result"
    }
   ],
   "source": [
    "sdf_s.head(3)"
   ]
  },
  {
   "cell_type": "code",
   "execution_count": 8,
   "id": "073757b5",
   "metadata": {},
   "outputs": [],
   "source": [
    "df = convert_dtypes_arcgis(sdf_s)\n",
    "df.drop(columns='datestr', inplace=True)"
   ]
  },
  {
   "cell_type": "code",
   "execution_count": 9,
   "id": "c17571a4",
   "metadata": {},
   "outputs": [
    {
     "data": {
      "text/plain": [
       "1845"
      ]
     },
     "execution_count": 9,
     "metadata": {},
     "output_type": "execute_result"
    }
   ],
   "source": [
    "df.OBJECTID.values[0]"
   ]
  },
  {
   "cell_type": "code",
   "execution_count": 19,
   "id": "18dfad39",
   "metadata": {},
   "outputs": [
    {
     "data": {
      "text/plain": [
       "275"
      ]
     },
     "execution_count": 19,
     "metadata": {},
     "output_type": "execute_result"
    }
   ],
   "source": [
    "len(df.Comments.values[0])"
   ]
  },
  {
   "cell_type": "code",
   "execution_count": 10,
   "id": "e28493fb",
   "metadata": {},
   "outputs": [
    {
     "name": "stderr",
     "output_type": "stream",
     "text": [
      "Could not insert the row because of error message: The row contains a bad value. [Field length exceeded. Field: comments. Value: Medium sized trailer full of garbage abandoned inside the gate to the Vida Transfer station and near the Leaburg Canal. An EWEB customer called to report the trailer on Sunday, EWEB PhySec department confirmed that EWEB does not own the property where the trailer is located.]. Recheck your data.\n"
     ]
    },
    {
     "name": "stdout",
     "output_type": "stream",
     "text": [
      "Most recent data saved at G:\\projects\\UtilityDistricts\\eweb\\DrinkingWater\\IllegalCampCoordination\\Recieved\\IllegalCampNotification_pro\\MyProject4.gdb\\most_recent\n"
     ]
    }
   ],
   "source": [
    "datacopy = df.spatial.to_featureclass(path + '\\\\MyProject4.gdb\\\\most_recent', overwrite=True)\n",
    "print(f'Most recent data saved at {datacopy}')"
   ]
  },
  {
   "cell_type": "code",
   "execution_count": 13,
   "id": "33a893c4",
   "metadata": {},
   "outputs": [],
   "source": [
    "sdeFile = path + \"\\\\RLIDDB.sde\"\n",
    "\n",
    "if os.path.exists(sdeFile):\n",
    "    os.remove(sdeFile)\n",
    "\n",
    "# connect to RLIDGeo to get taxlot data\n",
    "conn = arcpy.CreateDatabaseConnection_management(out_folder_path=path,\n",
    "                                          out_name=\"RLIDDB.sde\",\n",
    "                                          database_platform=\"SQL_SERVER\",\n",
    "                                          instance=\"rliddb.int.lcog.org,5433\",\n",
    "                                          account_authentication=\"OPERATING_SYSTEM_AUTH\",\n",
    "                                          database=\"RLIDGeo\")\n",
    "\n",
    "arcpy.env.workspace = conn.getOutput(0)\n",
    "fc = \"RLIDGeo.DBO.Taxlot\""
   ]
  },
  {
   "cell_type": "code",
   "execution_count": 20,
   "id": "c42d439a",
   "metadata": {},
   "outputs": [],
   "source": [
    "cs_fc = path + '\\\\MyProject4.gdb\\\\most_recent'"
   ]
  },
  {
   "cell_type": "code",
   "execution_count": 21,
   "id": "748e1ec0",
   "metadata": {},
   "outputs": [
    {
     "name": "stdout",
     "output_type": "stream",
     "text": [
      "Completed a spatial join with taxlot...\n"
     ]
    }
   ],
   "source": [
    "spatialJoin = path + '\\\\MyProject4.gdb\\\\HomelessCampSite_SpatialJoin'\n",
    "\n",
    "arcpy.analysis.SpatialJoin(cs_fc, fc, spatialJoin, \"JOIN_ONE_TO_ONE\", \"KEEP_ALL\",'Status \"Status\" true true false 50 Text 0 0,First,#,Homeless Camp Site,Status,0,50;Comments \"Comments\" true true false 500 Text 0 0,First,#,Homeless Camp Site,Comments,0,500;Date \"Date\" true true false 8 Date 0 0,First,#,Homeless Camp Site,Date,-1,-1;Submitted_by \"Submitted By\" true true false 50 Text 0 0,First,#,Homeless Camp Site,Submitted_by,0,50;Dogs_present \"Dogs present\" true true false 50 Text 0 0,First,#,Homeless Camp Site,Dogs_present,0,50;Unruly_inhabitants \"Unruly inhabitants\" true true false 50 Text 0 0,First,#,Homeless Camp Site,Unruly_inhabitants,0,50;Hazardous_materials_present \"Hazardous materials present\" true true false 50 Text 0 0,First,#,Homeless Camp Site,Hazardous_materials_present,0,50;Biohazards_present \"Biohazards present\" true true false 50 Text 0 0,First,#,Homeless Camp Site,Biohazards_present,0,50;Size_of_encampment \"Size of encampment\" true true false 50 Text 0 0,First,#,Homeless Camp Site,Size_of_encampment,0,50;GlobalID \"GlobalID\" false false true 38 GlobalID 0 0,First,#,Homeless Camp Site,GlobalID,-1,-1;maptaxlot_hyphen \"maptaxlot_hyphen\" true true false 17 Text 0 0,First,#,Lane County Taxlots,maptaxlot_hyphen,0,17;ownname \"ownname\" true true false 128 Text 0 0,First,#,Lane County Taxlots,ownname,0,128;addr1 \"addr1\" true true false 64 Text 0 0,First,#,Lane County Taxlots,addr1,0,64;ownercity \"ownercity\" true true false 40 Text 0 0,First,#,Lane County Taxlots,ownercity,0,40;ownerprvst \"ownerprvst\" true true false 30 Text 0 0,First,#,Lane County Taxlots,ownerprvst,0,30;ownerzip \"ownerzip\" true true false 10 Text 0 0,First,#,Lane County Taxlots,ownerzip,0,10;geocity_name \"geocity_name\" true true false 32 Text 0 0,First,#,Lane County Taxlots,geocity_name,0,32;ugb_name \"ugb_name\" true true false 32 Text 0 0,First,#,Lane County Taxlots,ugb_name,0,32;longitude \"longitude\" true true false 8 Double 8 38,First,#,Lane County Taxlots,longitude,-1,-1;latitude \"latitude\" true true false 8 Double 8 38,First,#,Lane County Taxlots,latitude,-1,-1', \"INTERSECT\", None, '')\n",
    "\n",
    "print('Completed a spatial join with taxlot...')"
   ]
  },
  {
   "cell_type": "code",
   "execution_count": 22,
   "id": "5d3a9851",
   "metadata": {},
   "outputs": [],
   "source": [
    "field_names = [f.name for f in arcpy.ListFields(spatialJoin)]\n",
    "newfields = [\"Nearby_owner\", \"Nearby_owner_address\"]"
   ]
  },
  {
   "cell_type": "code",
   "execution_count": 23,
   "id": "fb870ccf",
   "metadata": {},
   "outputs": [],
   "source": [
    "missing_own = [row[0] is None for row in arcpy.da.SearchCursor(spatialJoin, \"ownname\")]"
   ]
  },
  {
   "cell_type": "code",
   "execution_count": 24,
   "id": "b8b8a2e7",
   "metadata": {},
   "outputs": [],
   "source": [
    "res = arcpy.GetCount_management(spatialJoin)"
   ]
  },
  {
   "cell_type": "code",
   "execution_count": 25,
   "id": "2d2aba63",
   "metadata": {},
   "outputs": [],
   "source": [
    "if any(missing_own):\n",
    "    print(f\"Owner name is missing in the {sum(missing_own)} of {res[0]} counts\")\n",
    "    taxlots_w_ownernm = arcpy.management.SelectLayerByAttribute(fc, \"NEW_SELECTION\", \"ownname IS NOT NULL\", None)\n",
    "    for newfield in newfields:\n",
    "        if newfield not in field_names:\n",
    "            arcpy.management.AddField(spatialJoin, newfield, \"TEXT\", 255)\n",
    "            \n",
    "    with arcpy.da.UpdateCursor(spatialJoin, [\"ownname\", 'Nearby_owner', 'Nearby_owner_address', \"TARGET_FID\"]) as cursor:\n",
    "        i = 0\n",
    "        for row in cursor:\n",
    "            row[3] = df.OBJECTID.values[i]\n",
    "            i+=1\n",
    "            if row[0] is None:\n",
    "                selres2 = arcpy.management.SelectLayerByAttribute(spatialJoin, \"NEW_SELECTION\", \"ownname IS NULL\", None)\n",
    "                spatialJoin2 = path + '\\\\MyProject4.gdb\\\\CampSite_SpatialJoin'\n",
    "                arcpy.analysis.SpatialJoin(selres2, taxlots_w_ownernm, spatialJoin2, \"JOIN_ONE_TO_ONE\", \"KEEP_ALL\", 'Join_Count \"Join_Count\" true true false 4 Long 0 0,First,#,Camp Site,Join_Count,-1,-1;TARGET_FID \"TARGET_FID\" true true false 4 Long 0 0,First,#,Camp Site,TARGET_FID,-1,-1;Status \"Status\" true true false 50 Text 0 0,First,#,Camp Site,Status,0,50;Comments \"Comments\" true true false 500 Text 0 0,First,#,Camp Site,Comments,0,500;Date \"Date\" true true false 8 Date 0 0,First,#,Camp Site,Date,-1,-1;Submitted_by \"Submitted By\" true true false 50 Text 0 0,First,#,Camp Site,Submitted_by,0,50;Dogs_present \"Dogs present\" true true false 50 Text 0 0,First,#,Camp Site,Dogs_present,0,50;Unruly_inhabitants \"Unruly inhabitants\" true true false 50 Text 0 0,First,#,Camp Site,Unruly_inhabitants,0,50;Hazardous_materials_present \"Hazardous materials present\" true true false 50 Text 0 0,First,#,Camp Site,Hazardous_materials_present,0,50;Biohazards_present \"Biohazards present\" true true false 50 Text 0 0,First,#,Camp Site,Biohazards_present,0,50;Size_of_encampment \"Size of encampment\" true true false 50 Text 0 0,First,#,Camp Site,Size_of_encampment,0,50;maptaxlot_hyphen \"maptaxlot_hyphen\" true true false 17 Text 0 0,First,#,Camp Site,maptaxlot_hyphen,0,17;ownname \"ownname\" true true false 128 Text 0 0,First,#,Camp Site,ownname,0,128;addr1 \"addr1\" true true false 64 Text 0 0,First,#,Camp Site,addr1,0,64;ownercity \"ownercity\" true true false 40 Text 0 0,First,#,Camp Site,ownercity,0,40;ownerprvst \"ownerprvst\" true true false 30 Text 0 0,First,#,Camp Site,ownerprvst,0,30;ownerzip \"ownerzip\" true true false 10 Text 0 0,First,#,Camp Site,ownerzip,0,10;geocity_name \"geocity_name\" true true false 32 Text 0 0,First,#,Camp Site,geocity_name,0,32;ugb_name \"ugb_name\" true true false 32 Text 0 0,First,#,Camp Site,ugb_name,0,32;longitude \"longitude\" true true false 8 Double 0 0,First,#,Camp Site,longitude,-1,-1;latitude \"latitude\" true true false 8 Double 0 0,First,#,Camp Site,latitude,-1,-1;maptaxlot_hyphen_1 \"maptaxlot_hyphen\" true true false 17 Text 0 0,First,#,Taxlots,maptaxlot_hyphen,0,17;ownname_1 \"ownname\" true true false 128 Text 0 0,First,#,Taxlots,ownname,0,128;addr1_1 \"addr1\" true true false 64 Text 0 0,First,#,Taxlots,addr1,0,64;ownercity_1 \"ownercity\" true true false 40 Text 0 0,First,#,Taxlots,ownercity,0,40;ownerprvst_1 \"ownerprvst\" true true false 30 Text 0 0,First,#,Taxlots,ownerprvst,0,30;ownerzip_1 \"ownerzip\" true true false 10 Text 0 0,First,#,Taxlots,ownerzip,0,10;geocity_name_1 \"geocity_name\" true true false 32 Text 0 0,First,#,Taxlots,geocity_name,0,32;ugb_name_1 \"ugb_name\" true true false 32 Text 0 0,First,#,Taxlots,ugb_name,0,32;longitude_1 \"longitude\" true true false 8 Double 8 38,First,#,Taxlots,longitude,-1,-1;latitude_1 \"latitude\" true true false 8 Double 8 38,First,#,Taxlots,latitude,-1,-1', \"CLOSEST\", None, '')\n",
    "                values = [rowv for rowv in arcpy.da.SearchCursor(spatialJoin2, [\"ownname_1\", \"addr1_1\"])]\n",
    "                row[1] = values[0][0]\n",
    "                row[2] = values[0][1]\n",
    "            cursor.updateRow(row)\n",
    "    print(\"Updated nearby owner name and address...\")"
   ]
  },
  {
   "cell_type": "code",
   "execution_count": 26,
   "id": "3f40cd22",
   "metadata": {},
   "outputs": [
    {
     "name": "stdout",
     "output_type": "stream",
     "text": [
      "Exported the join table...\n"
     ]
    }
   ],
   "source": [
    "arcpy.conversion.TableToExcel(spatialJoin, path+'\\\\most_recent.xlsx')\n",
    "print('Exported the join table...')"
   ]
  }
 ],
 "metadata": {
  "kernelspec": {
   "display_name": "Python 3",
   "language": "python",
   "name": "python3"
  },
  "language_info": {
   "codemirror_mode": {
    "name": "ipython",
    "version": 3
   },
   "file_extension": ".py",
   "mimetype": "text/x-python",
   "name": "python",
   "nbconvert_exporter": "python",
   "pygments_lexer": "ipython3",
   "version": "3.9.11"
  }
 },
 "nbformat": 4,
 "nbformat_minor": 5
}
