{
 "cells": [
  {
   "cell_type": "code",
   "execution_count": 10,
   "id": "24c40043",
   "metadata": {},
   "outputs": [],
   "source": [
    "import pandas as pd\n",
    "import geopandas as gpd\n",
    "import os\n",
    "import requests\n",
    "from bs4 import BeautifulSoup\n",
    "from homeless import *\n",
    "import openpyxl\n",
    "from win32com.client import Dispatch\n",
    "import numpy as np"
   ]
  },
  {
   "cell_type": "code",
   "execution_count": 11,
   "id": "b32e60c2",
   "metadata": {},
   "outputs": [],
   "source": [
    "outpath = r'G:\\projects\\UtilityDistricts\\eweb\\DrinkingWater\\IllegalCampCoordination\\Recieved'\n",
    "path = outpath + '\\\\IllegalCampNotification_pro'\n",
    "\n",
    "dat = pd.read_excel(path+'\\\\most_recent.xlsx')\n",
    "cols2drop = ['OBJECTID', 'Join_Count', 'Unruly_inhabitants']\n",
    "dat = dat.drop(cols2drop, axis=1)\n",
    "d"
   ]
  },
  {
   "cell_type": "code",
   "execution_count": 13,
   "id": "a46fe43e",
   "metadata": {},
   "outputs": [],
   "source": [
    "dat = pd.read_excel(path+'\\\\most_recent.xlsx')\n",
    "cols2drop = ['OBJECTID', 'Join_Count', 'Unruly_inhabitants']\n",
    "dat = dat.drop(cols2drop, axis=1)\n",
    "dat.columns = list(map(lambda x: x.capitalize(), dat.columns))\n",
    "dat.rename(columns={'Ownname': 'Owner_name', 'Addr1': 'Owner_address'}, inplace=True)"
   ]
  },
  {
   "cell_type": "code",
   "execution_count": 20,
   "id": "62f4ab3d",
   "metadata": {},
   "outputs": [],
   "source": [
    "dat = dat[['Target_fid', 'Status', 'Comments', 'Date', 'Submitted_by','Dogs_present', 'Hazardous_materials_present', \n",
    "'Biohazards_present','Size_of_encampment', 'Maptaxlot_hyphen', 'Owner_name', 'Owner_address', 'Nearby_owner', \n",
    "'Nearby_owner_address', 'Ownercity', 'Ownerprvst', 'Ownerzip', 'Geocity_name', 'Ugb_name','Longitude', 'Latitude']]"
   ]
  },
  {
   "cell_type": "code",
   "execution_count": 21,
   "id": "a05ed23c",
   "metadata": {},
   "outputs": [],
   "source": [
    "dat.rename(columns={'Target_fid': 'Target_FID'}, inplace=True)"
   ]
  },
  {
   "cell_type": "code",
   "execution_count": 22,
   "id": "4eb82c1f",
   "metadata": {},
   "outputs": [
    {
     "name": "stdout",
     "output_type": "stream",
     "text": [
      "Read data...\n",
      "Got file name...\n"
     ]
    }
   ],
   "source": [
    "taxlotcodes = pd.read_csv('mythical_taxlot_codes.csv')\n",
    "for idx in range(0, dat.shape[0]):\n",
    "    taxlotcode = int(dat.loc[idx,'Maptaxlot_hyphen'][-2:])\n",
    "    if np.isnan(dat.loc[idx, 'Owner_name']) & (taxlotcode in taxlotcodes.end_number.values):\n",
    "        dat.loc[idx, 'Owner_name'] = 'Mythical lot number for ' + taxlotcodes.loc[taxlotcodes.end_number == taxlotcode, 'taxlot'].values[0]\n",
    "    \n",
    "intakepath = r'G:\\projects\\UtilityDistricts\\eweb\\DrinkingWater\\RiparianEcosystemMarketplace\\market_area\\REM_area.gdb'\n",
    "intake_areas = gpd.read_file(intakepath, driver='FileGDB', layer='AboveIntake')\n",
    "points = gpd.read_file(path + '\\\\MyProject4.gdb', driver='FileGDB', layer='HomelessCampSite_SpatialJoin')\n",
    "points = points.to_crs(epsg=2914)\n",
    "print(\"Read data...\")\n",
    "\n",
    "urlstart ='https://services5.arcgis.com/9s1YtFmLS0YTl10F/arcgis/rest/services/ZHomeless_Camp_Trash_Collector/FeatureServer/0/'\n",
    "urlend = '/attachments?f=html&token='\n",
    "\n",
    "datestr = points.Date.values[0].split('T')[0]\n",
    "res = convert_date(datestr)\n",
    "Y = res[1]\n",
    "m = res[2]\n",
    "d = res[3]\n",
    "outfolder = os.path.join(outpath, Y, m+'_'+d)\n",
    "filename = 'IllegalCampNotice_'+m+'_'+d+'_'+Y[2:4]+'.xlsx'\n",
    "file = os.path.join(outfolder, filename)\n",
    "print(\"Got file name...\")"
   ]
  },
  {
   "cell_type": "code",
   "execution_count": 23,
   "id": "6f760d85",
   "metadata": {},
   "outputs": [
    {
     "name": "stderr",
     "output_type": "stream",
     "text": [
      "C:\\Users\\clid1852\\AppData\\Anaconda3\\envs\\geoenv\\lib\\site-packages\\geopandas\\base.py:32: UserWarning: The indices of the two GeoSeries are different.\n",
      "  warn(\"The indices of the two GeoSeries are different.\")\n"
     ]
    },
    {
     "name": "stdout",
     "output_type": "stream",
     "text": [
      "Edited data...\n",
      "Exported data...\n"
     ]
    }
   ],
   "source": [
    "for pID in points.index:\n",
    "    point = points[points.index==pID]\n",
    "    if all(intake_areas.contains(point)):\n",
    "        dat.loc[pID, 'Above_Intake'] = 'Yes'\n",
    "    else:\n",
    "        dat.loc[pID, 'Above_Intake'] = 'No'\n",
    "    FID = dat.loc[pID, 'Target_FID']\n",
    "    url= urlstart+str(FID)+urlend\n",
    "    resp=requests.get(url)\n",
    "    links = []\n",
    "    if resp.status_code==200:\n",
    "        soup=BeautifulSoup(resp.text,'html.parser')\n",
    "        for link in soup.findAll('a'):\n",
    "            links.append(link.get('href'))\n",
    "    else:\n",
    "        print(\"Error\")\n",
    "    attached = [link for link in links if 'attachments' in link]\n",
    "    if len(attached)==0:\n",
    "        dat.loc[pID, 'Photos'] = 'NA'\n",
    "    elif len(attached)==1:\n",
    "        dat.loc[pID, 'Photos'] = 'https://services5.arcgis.com' + attached[0]\n",
    "    else:\n",
    "        dat.loc[pID, 'Photos'] = '; '.join(['https://services5.arcgis.com' + s for s in attached])\n",
    "\n",
    "print(\"Edited data...\")\n",
    "\n",
    "dat.loc[:, 'Date'] = dat.Date.astype(str)\n",
    "dat.to_excel(file, index=False)\n",
    "print(\"Exported data...\")\n"
   ]
  },
  {
   "cell_type": "code",
   "execution_count": 24,
   "id": "7a5c16e1",
   "metadata": {},
   "outputs": [
    {
     "name": "stdout",
     "output_type": "stream",
     "text": [
      "Checked photos...\n",
      "Autofitted columns...\n"
     ]
    }
   ],
   "source": [
    "dat = pd.read_excel(file)\n",
    "wb = openpyxl.load_workbook(file)\n",
    "ws = wb.active\n",
    "ws = removeFormatting(ws)\n",
    "for pID in points.index:\n",
    "    photovalue = dat.loc[pID, 'Photos']\n",
    "    if photovalue == 'NA':\n",
    "        print(f\"No photos at Point {dat.loc[pID, 'Target_FID']}\")\n",
    "    else:\n",
    "        ws.cell(row=2, column=21).value = 'Yes'\n",
    "        if ';' in photovalue: \n",
    "            urls = photovalue.split('; ')\n",
    "            for i in range(0, len(urls)):\n",
    "                ws.cell(row=2, column=22+i).value = '=HYPERLINK(\"{}\", \"{}\")'.format(urls[i],'Photo '+str(i+1))\n",
    "                ws.cell(row=2, column=22+i).style = \"Hyperlink\"\n",
    "        else:\n",
    "            ws.cell(row=2, column=22).value = '=HYPERLINK(\"{}\", \"{}\")'.format(photovalue,'Photo')\n",
    "            ws.cell(row=2, column=22).style = \"Hyperlink\"\n",
    "wb.save(file)\n",
    "print(\"Checked photos...\")\n",
    "excel = Dispatch('Excel.Application')\n",
    "wb = excel.Workbooks.Open(file)\n",
    "excel.Worksheets(1).Activate()\n",
    "excel.ActiveSheet.Columns.AutoFit()\n",
    "wb.Close(True)\n",
    "print(\"Autofitted columns...\")"
   ]
  },
  {
   "cell_type": "code",
   "execution_count": 5,
   "id": "70d607e4",
   "metadata": {},
   "outputs": [
    {
     "name": "stderr",
     "output_type": "stream",
     "text": [
      "C:\\Users\\clid1852\\AppData\\Anaconda3\\envs\\geoenv\\lib\\site-packages\\geopandas\\base.py:32: UserWarning: The indices of the two GeoSeries are different.\n",
      "  warn(\"The indices of the two GeoSeries are different.\")\n"
     ]
    },
    {
     "name": "stdout",
     "output_type": "stream",
     "text": [
      "Edited data...\n"
     ]
    },
    {
     "ename": "PermissionError",
     "evalue": "[Errno 13] Permission denied: 'G:\\\\projects\\\\UtilityDistricts\\\\eweb\\\\DrinkingWater\\\\IllegalCampCoordination\\\\Recieved\\\\2023\\\\1_26\\\\IllegalCampNotice_1_26_23.xlsx'",
     "output_type": "error",
     "traceback": [
      "\u001b[1;31m---------------------------------------------------------------------------\u001b[0m",
      "\u001b[1;31mPermissionError\u001b[0m                           Traceback (most recent call last)",
      "Cell \u001b[1;32mIn[5], line 28\u001b[0m\n\u001b[0;32m     25\u001b[0m \u001b[38;5;28mprint\u001b[39m(\u001b[38;5;124m\"\u001b[39m\u001b[38;5;124mEdited data...\u001b[39m\u001b[38;5;124m\"\u001b[39m)\n\u001b[0;32m     27\u001b[0m dat\u001b[38;5;241m.\u001b[39mloc[:, \u001b[38;5;124m'\u001b[39m\u001b[38;5;124mDate\u001b[39m\u001b[38;5;124m'\u001b[39m] \u001b[38;5;241m=\u001b[39m dat\u001b[38;5;241m.\u001b[39mDate\u001b[38;5;241m.\u001b[39mastype(\u001b[38;5;28mstr\u001b[39m)\n\u001b[1;32m---> 28\u001b[0m \u001b[43mdat\u001b[49m\u001b[38;5;241;43m.\u001b[39;49m\u001b[43mto_excel\u001b[49m\u001b[43m(\u001b[49m\u001b[43mfile\u001b[49m\u001b[43m,\u001b[49m\u001b[43m \u001b[49m\u001b[43mindex\u001b[49m\u001b[38;5;241;43m=\u001b[39;49m\u001b[38;5;28;43;01mFalse\u001b[39;49;00m\u001b[43m)\u001b[49m\n\u001b[0;32m     29\u001b[0m \u001b[38;5;28mprint\u001b[39m(\u001b[38;5;124m\"\u001b[39m\u001b[38;5;124mExported data...\u001b[39m\u001b[38;5;124m\"\u001b[39m)\n",
      "File \u001b[1;32m~\\AppData\\Anaconda3\\envs\\geoenv\\lib\\site-packages\\pandas\\core\\generic.py:2284\u001b[0m, in \u001b[0;36mNDFrame.to_excel\u001b[1;34m(self, excel_writer, sheet_name, na_rep, float_format, columns, header, index, index_label, startrow, startcol, engine, merge_cells, encoding, inf_rep, verbose, freeze_panes, storage_options)\u001b[0m\n\u001b[0;32m   2271\u001b[0m \u001b[38;5;28;01mfrom\u001b[39;00m \u001b[38;5;21;01mpandas\u001b[39;00m\u001b[38;5;21;01m.\u001b[39;00m\u001b[38;5;21;01mio\u001b[39;00m\u001b[38;5;21;01m.\u001b[39;00m\u001b[38;5;21;01mformats\u001b[39;00m\u001b[38;5;21;01m.\u001b[39;00m\u001b[38;5;21;01mexcel\u001b[39;00m \u001b[38;5;28;01mimport\u001b[39;00m ExcelFormatter\n\u001b[0;32m   2273\u001b[0m formatter \u001b[38;5;241m=\u001b[39m ExcelFormatter(\n\u001b[0;32m   2274\u001b[0m     df,\n\u001b[0;32m   2275\u001b[0m     na_rep\u001b[38;5;241m=\u001b[39mna_rep,\n\u001b[1;32m   (...)\u001b[0m\n\u001b[0;32m   2282\u001b[0m     inf_rep\u001b[38;5;241m=\u001b[39minf_rep,\n\u001b[0;32m   2283\u001b[0m )\n\u001b[1;32m-> 2284\u001b[0m \u001b[43mformatter\u001b[49m\u001b[38;5;241;43m.\u001b[39;49m\u001b[43mwrite\u001b[49m\u001b[43m(\u001b[49m\n\u001b[0;32m   2285\u001b[0m \u001b[43m    \u001b[49m\u001b[43mexcel_writer\u001b[49m\u001b[43m,\u001b[49m\n\u001b[0;32m   2286\u001b[0m \u001b[43m    \u001b[49m\u001b[43msheet_name\u001b[49m\u001b[38;5;241;43m=\u001b[39;49m\u001b[43msheet_name\u001b[49m\u001b[43m,\u001b[49m\n\u001b[0;32m   2287\u001b[0m \u001b[43m    \u001b[49m\u001b[43mstartrow\u001b[49m\u001b[38;5;241;43m=\u001b[39;49m\u001b[43mstartrow\u001b[49m\u001b[43m,\u001b[49m\n\u001b[0;32m   2288\u001b[0m \u001b[43m    \u001b[49m\u001b[43mstartcol\u001b[49m\u001b[38;5;241;43m=\u001b[39;49m\u001b[43mstartcol\u001b[49m\u001b[43m,\u001b[49m\n\u001b[0;32m   2289\u001b[0m \u001b[43m    \u001b[49m\u001b[43mfreeze_panes\u001b[49m\u001b[38;5;241;43m=\u001b[39;49m\u001b[43mfreeze_panes\u001b[49m\u001b[43m,\u001b[49m\n\u001b[0;32m   2290\u001b[0m \u001b[43m    \u001b[49m\u001b[43mengine\u001b[49m\u001b[38;5;241;43m=\u001b[39;49m\u001b[43mengine\u001b[49m\u001b[43m,\u001b[49m\n\u001b[0;32m   2291\u001b[0m \u001b[43m    \u001b[49m\u001b[43mstorage_options\u001b[49m\u001b[38;5;241;43m=\u001b[39;49m\u001b[43mstorage_options\u001b[49m\u001b[43m,\u001b[49m\n\u001b[0;32m   2292\u001b[0m \u001b[43m\u001b[49m\u001b[43m)\u001b[49m\n",
      "File \u001b[1;32m~\\AppData\\Anaconda3\\envs\\geoenv\\lib\\site-packages\\pandas\\io\\formats\\excel.py:834\u001b[0m, in \u001b[0;36mExcelFormatter.write\u001b[1;34m(self, writer, sheet_name, startrow, startcol, freeze_panes, engine, storage_options)\u001b[0m\n\u001b[0;32m    830\u001b[0m     need_save \u001b[38;5;241m=\u001b[39m \u001b[38;5;28;01mFalse\u001b[39;00m\n\u001b[0;32m    831\u001b[0m \u001b[38;5;28;01melse\u001b[39;00m:\n\u001b[0;32m    832\u001b[0m     \u001b[38;5;66;03m# error: Cannot instantiate abstract class 'ExcelWriter' with abstract\u001b[39;00m\n\u001b[0;32m    833\u001b[0m     \u001b[38;5;66;03m# attributes 'engine', 'save', 'supported_extensions' and 'write_cells'\u001b[39;00m\n\u001b[1;32m--> 834\u001b[0m     writer \u001b[38;5;241m=\u001b[39m \u001b[43mExcelWriter\u001b[49m\u001b[43m(\u001b[49m\u001b[43m  \u001b[49m\u001b[38;5;66;43;03m# type: ignore[abstract]\u001b[39;49;00m\n\u001b[0;32m    835\u001b[0m \u001b[43m        \u001b[49m\u001b[43mwriter\u001b[49m\u001b[43m,\u001b[49m\u001b[43m \u001b[49m\u001b[43mengine\u001b[49m\u001b[38;5;241;43m=\u001b[39;49m\u001b[43mengine\u001b[49m\u001b[43m,\u001b[49m\u001b[43m \u001b[49m\u001b[43mstorage_options\u001b[49m\u001b[38;5;241;43m=\u001b[39;49m\u001b[43mstorage_options\u001b[49m\n\u001b[0;32m    836\u001b[0m \u001b[43m    \u001b[49m\u001b[43m)\u001b[49m\n\u001b[0;32m    837\u001b[0m     need_save \u001b[38;5;241m=\u001b[39m \u001b[38;5;28;01mTrue\u001b[39;00m\n\u001b[0;32m    839\u001b[0m \u001b[38;5;28;01mtry\u001b[39;00m:\n",
      "File \u001b[1;32m~\\AppData\\Anaconda3\\envs\\geoenv\\lib\\site-packages\\pandas\\io\\excel\\_xlsxwriter.py:191\u001b[0m, in \u001b[0;36mXlsxWriter.__init__\u001b[1;34m(self, path, engine, date_format, datetime_format, mode, storage_options, if_sheet_exists, engine_kwargs, **kwargs)\u001b[0m\n\u001b[0;32m    188\u001b[0m \u001b[38;5;28;01mif\u001b[39;00m mode \u001b[38;5;241m==\u001b[39m \u001b[38;5;124m\"\u001b[39m\u001b[38;5;124ma\u001b[39m\u001b[38;5;124m\"\u001b[39m:\n\u001b[0;32m    189\u001b[0m     \u001b[38;5;28;01mraise\u001b[39;00m \u001b[38;5;167;01mValueError\u001b[39;00m(\u001b[38;5;124m\"\u001b[39m\u001b[38;5;124mAppend mode is not supported with xlsxwriter!\u001b[39m\u001b[38;5;124m\"\u001b[39m)\n\u001b[1;32m--> 191\u001b[0m \u001b[38;5;28;43msuper\u001b[39;49m\u001b[43m(\u001b[49m\u001b[43m)\u001b[49m\u001b[38;5;241;43m.\u001b[39;49m\u001b[38;5;21;43m__init__\u001b[39;49m\u001b[43m(\u001b[49m\n\u001b[0;32m    192\u001b[0m \u001b[43m    \u001b[49m\u001b[43mpath\u001b[49m\u001b[43m,\u001b[49m\n\u001b[0;32m    193\u001b[0m \u001b[43m    \u001b[49m\u001b[43mengine\u001b[49m\u001b[38;5;241;43m=\u001b[39;49m\u001b[43mengine\u001b[49m\u001b[43m,\u001b[49m\n\u001b[0;32m    194\u001b[0m \u001b[43m    \u001b[49m\u001b[43mdate_format\u001b[49m\u001b[38;5;241;43m=\u001b[39;49m\u001b[43mdate_format\u001b[49m\u001b[43m,\u001b[49m\n\u001b[0;32m    195\u001b[0m \u001b[43m    \u001b[49m\u001b[43mdatetime_format\u001b[49m\u001b[38;5;241;43m=\u001b[39;49m\u001b[43mdatetime_format\u001b[49m\u001b[43m,\u001b[49m\n\u001b[0;32m    196\u001b[0m \u001b[43m    \u001b[49m\u001b[43mmode\u001b[49m\u001b[38;5;241;43m=\u001b[39;49m\u001b[43mmode\u001b[49m\u001b[43m,\u001b[49m\n\u001b[0;32m    197\u001b[0m \u001b[43m    \u001b[49m\u001b[43mstorage_options\u001b[49m\u001b[38;5;241;43m=\u001b[39;49m\u001b[43mstorage_options\u001b[49m\u001b[43m,\u001b[49m\n\u001b[0;32m    198\u001b[0m \u001b[43m    \u001b[49m\u001b[43mif_sheet_exists\u001b[49m\u001b[38;5;241;43m=\u001b[39;49m\u001b[43mif_sheet_exists\u001b[49m\u001b[43m,\u001b[49m\n\u001b[0;32m    199\u001b[0m \u001b[43m    \u001b[49m\u001b[43mengine_kwargs\u001b[49m\u001b[38;5;241;43m=\u001b[39;49m\u001b[43mengine_kwargs\u001b[49m\u001b[43m,\u001b[49m\n\u001b[0;32m    200\u001b[0m \u001b[43m\u001b[49m\u001b[43m)\u001b[49m\n\u001b[0;32m    202\u001b[0m \u001b[38;5;28mself\u001b[39m\u001b[38;5;241m.\u001b[39mbook \u001b[38;5;241m=\u001b[39m Workbook(\u001b[38;5;28mself\u001b[39m\u001b[38;5;241m.\u001b[39mhandles\u001b[38;5;241m.\u001b[39mhandle, \u001b[38;5;241m*\u001b[39m\u001b[38;5;241m*\u001b[39mengine_kwargs)\n",
      "File \u001b[1;32m~\\AppData\\Anaconda3\\envs\\geoenv\\lib\\site-packages\\pandas\\io\\excel\\_base.py:925\u001b[0m, in \u001b[0;36mExcelWriter.__init__\u001b[1;34m(self, path, engine, date_format, datetime_format, mode, storage_options, if_sheet_exists, engine_kwargs, **kwargs)\u001b[0m\n\u001b[0;32m    923\u001b[0m \u001b[38;5;28mself\u001b[39m\u001b[38;5;241m.\u001b[39mhandles \u001b[38;5;241m=\u001b[39m IOHandles(cast(Buffer, path), compression\u001b[38;5;241m=\u001b[39m{\u001b[38;5;124m\"\u001b[39m\u001b[38;5;124mcopression\u001b[39m\u001b[38;5;124m\"\u001b[39m: \u001b[38;5;28;01mNone\u001b[39;00m})\n\u001b[0;32m    924\u001b[0m \u001b[38;5;28;01mif\u001b[39;00m \u001b[38;5;129;01mnot\u001b[39;00m \u001b[38;5;28misinstance\u001b[39m(path, ExcelWriter):\n\u001b[1;32m--> 925\u001b[0m     \u001b[38;5;28mself\u001b[39m\u001b[38;5;241m.\u001b[39mhandles \u001b[38;5;241m=\u001b[39m \u001b[43mget_handle\u001b[49m\u001b[43m(\u001b[49m\n\u001b[0;32m    926\u001b[0m \u001b[43m        \u001b[49m\u001b[43mpath\u001b[49m\u001b[43m,\u001b[49m\u001b[43m \u001b[49m\u001b[43mmode\u001b[49m\u001b[43m,\u001b[49m\u001b[43m \u001b[49m\u001b[43mstorage_options\u001b[49m\u001b[38;5;241;43m=\u001b[39;49m\u001b[43mstorage_options\u001b[49m\u001b[43m,\u001b[49m\u001b[43m \u001b[49m\u001b[43mis_text\u001b[49m\u001b[38;5;241;43m=\u001b[39;49m\u001b[38;5;28;43;01mFalse\u001b[39;49;00m\n\u001b[0;32m    927\u001b[0m \u001b[43m    \u001b[49m\u001b[43m)\u001b[49m\n\u001b[0;32m    928\u001b[0m \u001b[38;5;28mself\u001b[39m\u001b[38;5;241m.\u001b[39msheets: \u001b[38;5;28mdict\u001b[39m[\u001b[38;5;28mstr\u001b[39m, Any] \u001b[38;5;241m=\u001b[39m {}\n\u001b[0;32m    929\u001b[0m \u001b[38;5;28mself\u001b[39m\u001b[38;5;241m.\u001b[39mcur_sheet \u001b[38;5;241m=\u001b[39m \u001b[38;5;28;01mNone\u001b[39;00m\n",
      "File \u001b[1;32m~\\AppData\\Anaconda3\\envs\\geoenv\\lib\\site-packages\\pandas\\io\\common.py:711\u001b[0m, in \u001b[0;36mget_handle\u001b[1;34m(path_or_buf, mode, encoding, compression, memory_map, is_text, errors, storage_options)\u001b[0m\n\u001b[0;32m    702\u001b[0m         handle \u001b[38;5;241m=\u001b[39m \u001b[38;5;28mopen\u001b[39m(\n\u001b[0;32m    703\u001b[0m             handle,\n\u001b[0;32m    704\u001b[0m             ioargs\u001b[38;5;241m.\u001b[39mmode,\n\u001b[1;32m   (...)\u001b[0m\n\u001b[0;32m    707\u001b[0m             newline\u001b[38;5;241m=\u001b[39m\u001b[38;5;124m\"\u001b[39m\u001b[38;5;124m\"\u001b[39m,\n\u001b[0;32m    708\u001b[0m         )\n\u001b[0;32m    709\u001b[0m     \u001b[38;5;28;01melse\u001b[39;00m:\n\u001b[0;32m    710\u001b[0m         \u001b[38;5;66;03m# Binary mode\u001b[39;00m\n\u001b[1;32m--> 711\u001b[0m         handle \u001b[38;5;241m=\u001b[39m \u001b[38;5;28;43mopen\u001b[39;49m\u001b[43m(\u001b[49m\u001b[43mhandle\u001b[49m\u001b[43m,\u001b[49m\u001b[43m \u001b[49m\u001b[43mioargs\u001b[49m\u001b[38;5;241;43m.\u001b[39;49m\u001b[43mmode\u001b[49m\u001b[43m)\u001b[49m\n\u001b[0;32m    712\u001b[0m     handles\u001b[38;5;241m.\u001b[39mappend(handle)\n\u001b[0;32m    714\u001b[0m \u001b[38;5;66;03m# Convert BytesIO or file objects passed with an encoding\u001b[39;00m\n",
      "\u001b[1;31mPermissionError\u001b[0m: [Errno 13] Permission denied: 'G:\\\\projects\\\\UtilityDistricts\\\\eweb\\\\DrinkingWater\\\\IllegalCampCoordination\\\\Recieved\\\\2023\\\\1_26\\\\IllegalCampNotice_1_26_23.xlsx'"
     ]
    }
   ],
   "source": [
    "for pID in points.index:\n",
    "    point = points[points.index==pID]\n",
    "    if all(intake_areas.contains(point)):\n",
    "        dat.loc[pID, 'Above_Intake'] = 'Yes'\n",
    "    else:\n",
    "        dat.loc[pID, 'Above_Intake'] = 'No'\n",
    "    FID = dat.loc[pID, 'Target_FID']\n",
    "    url= urlstart+str(FID)+urlend\n",
    "    resp=requests.get(url)\n",
    "    links = []\n",
    "    if resp.status_code==200:\n",
    "        soup=BeautifulSoup(resp.text,'html.parser')\n",
    "        for link in soup.findAll('a'):\n",
    "            links.append(link.get('href'))\n",
    "    else:\n",
    "        print(\"Error\")\n",
    "    attached = [link for link in links if 'attachments' in link]\n",
    "    if len(attached)==0:\n",
    "        dat.loc[pID, 'Photos'] = 'NA'\n",
    "    elif len(attached)==1:\n",
    "        dat.loc[pID, 'Photos'] = 'https://services5.arcgis.com' + attached[0]\n",
    "    else:\n",
    "        dat.loc[pID, 'Photos'] = '; '.join(['https://services5.arcgis.com' + s for s in attached])\n",
    "\n",
    "print(\"Edited data...\")\n",
    "\n",
    "dat.loc[:, 'Date'] = dat.Date.astype(str)\n",
    "dat.to_excel(file, index=False)\n",
    "print(\"Exported data...\")"
   ]
  },
  {
   "cell_type": "code",
   "execution_count": 3,
   "id": "136863e1",
   "metadata": {},
   "outputs": [],
   "source": [
    "s = 'TARGET_FID'"
   ]
  },
  {
   "cell_type": "code",
   "execution_count": 9,
   "id": "ee419fb8",
   "metadata": {},
   "outputs": [],
   "source": [
    "dat.rename(columns={'Ownname': 'Own_name', 'Addr1': 'Owner_address'}, inplace=True)"
   ]
  },
  {
   "cell_type": "code",
   "execution_count": 8,
   "id": "51e8e4b9",
   "metadata": {},
   "outputs": [],
   "source": [
    "dat.columns = list(map(lambda x: x.capitalize(), dat.columns))"
   ]
  },
  {
   "cell_type": "code",
   "execution_count": 10,
   "id": "799f3194",
   "metadata": {},
   "outputs": [],
   "source": [
    "dat.rename(columns={'Ownname': 'Owner_name', 'Addr1': 'Owner_address'}, inplace=True)"
   ]
  },
  {
   "cell_type": "code",
   "execution_count": 22,
   "id": "5a77f228",
   "metadata": {},
   "outputs": [],
   "source": [
    "taxlotcodes = pd.read_csv('mythical_taxlot_codes.csv')"
   ]
  },
  {
   "cell_type": "code",
   "execution_count": 35,
   "id": "16489d29",
   "metadata": {},
   "outputs": [
    {
     "data": {
      "text/plain": [
       "0    True\n",
       "Name: Owner_name, dtype: bool"
      ]
     },
     "execution_count": 35,
     "metadata": {},
     "output_type": "execute_result"
    }
   ],
   "source": [
    "(dat.Owner_name.isnull()) & (int(dat.Maptaxlot_hyphen[0][-2:]) in taxlotcodes.end_number.values)"
   ]
  },
  {
   "cell_type": "code",
   "execution_count": 37,
   "id": "f4ce6860",
   "metadata": {},
   "outputs": [],
   "source": [
    "dat.columns = ['Target_fid', 'Status', 'Comments', 'Date', 'Submitted_by',\n",
    "       'Dogs_present', 'Hazardous_materials_present', 'Biohazards_present',\n",
    "       'Size_of_encampment', 'Maptaxlot_hyphen', 'Owner_name', 'Owner_address', \n",
    "               'Nearby_owner', 'Nearby_owner_address', \n",
    "       'Ownercity', 'Ownerprvst', 'Ownerzip', 'Geocity_name', 'Ugb_name',\n",
    "       'Longitude', 'Latitude']"
   ]
  },
  {
   "cell_type": "code",
   "execution_count": 38,
   "id": "7d8f0fc1",
   "metadata": {},
   "outputs": [],
   "source": [
    "idx = 0"
   ]
  },
  {
   "cell_type": "code",
   "execution_count": 45,
   "id": "26452862",
   "metadata": {},
   "outputs": [
    {
     "data": {
      "text/plain": [
       "'77'"
      ]
     },
     "execution_count": 45,
     "metadata": {},
     "output_type": "execute_result"
    }
   ],
   "source": [
    "dat.loc[idx,'Maptaxlot_hyphen'][-2:]"
   ]
  },
  {
   "cell_type": "code",
   "execution_count": 1,
   "id": "1fe38837",
   "metadata": {},
   "outputs": [
    {
     "name": "stderr",
     "output_type": "stream",
     "text": [
      "C:\\Users\\clid1852\\AppData\\Anaconda3\\envs\\geoenv\\lib\\site-packages\\geopandas\\_compat.py:106: UserWarning: The Shapely GEOS version (3.11.1-CAPI-1.17.1) is incompatible with the GEOS version PyGEOS was compiled with (3.9.1-CAPI-1.14.2). Conversions between both will be slow.\n",
      "  warnings.warn(\n"
     ]
    }
   ],
   "source": [
    "import geopandas as gpd"
   ]
  },
  {
   "cell_type": "code",
   "execution_count": 2,
   "id": "b780b716",
   "metadata": {},
   "outputs": [],
   "source": [
    "import pandas as pd"
   ]
  },
  {
   "cell_type": "code",
   "execution_count": 3,
   "id": "e64d4e07",
   "metadata": {},
   "outputs": [],
   "source": [
    "import requests\n",
    "from bs4 import BeautifulSoup"
   ]
  },
  {
   "cell_type": "code",
   "execution_count": 4,
   "id": "a5d41add",
   "metadata": {},
   "outputs": [],
   "source": [
    "import xlsxwriter"
   ]
  },
  {
   "cell_type": "code",
   "execution_count": 88,
   "id": "049227ad",
   "metadata": {},
   "outputs": [],
   "source": [
    "from win32com.client import Dispatch"
   ]
  },
  {
   "cell_type": "code",
   "execution_count": 5,
   "id": "ea3a1bcb",
   "metadata": {},
   "outputs": [],
   "source": [
    "path = r'G:\\projects\\UtilityDistricts\\eweb\\DrinkingWater\\IllegalCampCoordination\\Recieved\\IllegalCampNotification_pro'"
   ]
  },
  {
   "cell_type": "code",
   "execution_count": 3,
   "id": "b5c39f23",
   "metadata": {},
   "outputs": [],
   "source": [
    "dat = pd.read_excel(path+'\\\\most_recent.xlsx')"
   ]
  },
  {
   "cell_type": "code",
   "execution_count": 5,
   "id": "14afff12",
   "metadata": {},
   "outputs": [
    {
     "data": {
      "text/plain": [
       "Index(['OBJECTID', 'Join_Count', 'TARGET_FID', 'Status', 'Comments', 'Date',\n",
       "       'Submitted_by', 'Dogs_present', 'Unruly_inhabitants',\n",
       "       'Hazardous_materials_present', 'Biohazards_present',\n",
       "       'Size_of_encampment', 'maptaxlot_hyphen', 'ownname', 'addr1',\n",
       "       'ownercity', 'ownerprvst', 'ownerzip', 'geocity_name', 'ugb_name',\n",
       "       'longitude', 'latitude'],\n",
       "      dtype='object')"
      ]
     },
     "execution_count": 5,
     "metadata": {},
     "output_type": "execute_result"
    }
   ],
   "source": [
    "dat.columns"
   ]
  },
  {
   "cell_type": "code",
   "execution_count": 6,
   "id": "f760f48a",
   "metadata": {},
   "outputs": [],
   "source": [
    "cols2drop = ['OBJECTID', 'Join_Count', 'Unruly_inhabitants']"
   ]
  },
  {
   "cell_type": "code",
   "execution_count": 7,
   "id": "3b999abe",
   "metadata": {},
   "outputs": [],
   "source": [
    "dat = dat.drop(cols2drop, axis=1)"
   ]
  },
  {
   "cell_type": "code",
   "execution_count": 8,
   "id": "88af314b",
   "metadata": {},
   "outputs": [],
   "source": [
    "intakepath = r'G:\\projects\\UtilityDistricts\\eweb\\DrinkingWater\\RiparianEcosystemMarketplace\\market_area\\REM_area.gdb'"
   ]
  },
  {
   "cell_type": "code",
   "execution_count": 10,
   "id": "6b23bc58",
   "metadata": {},
   "outputs": [],
   "source": [
    "intake_areas = gpd.read_file(intakepath, driver='FileGDB', layer='AboveIntake')"
   ]
  },
  {
   "cell_type": "code",
   "execution_count": 11,
   "id": "77f981cd",
   "metadata": {},
   "outputs": [
    {
     "data": {
      "text/plain": [
       "<Projected CRS: EPSG:2914>\n",
       "Name: NAD83(HARN) / Oregon South (ft)\n",
       "Axis Info [cartesian]:\n",
       "- X[east]: Easting (foot)\n",
       "- Y[north]: Northing (foot)\n",
       "Area of Use:\n",
       "- name: United States (USA) - Oregon - counties of Coos; Crook; Curry; Deschutes; Douglas; Harney; Jackson; Josephine; Klamath; Lake; Lane; Malheur.\n",
       "- bounds: (-124.6, 41.98, -116.9, 44.56)\n",
       "Coordinate Operation:\n",
       "- name: SPCS83 Oregon South zone (International feet)\n",
       "- method: Lambert Conic Conformal (2SP)\n",
       "Datum: NAD83 (High Accuracy Reference Network)\n",
       "- Ellipsoid: GRS 1980\n",
       "- Prime Meridian: Greenwich"
      ]
     },
     "execution_count": 11,
     "metadata": {},
     "output_type": "execute_result"
    }
   ],
   "source": [
    "intake_areas.crs"
   ]
  },
  {
   "cell_type": "code",
   "execution_count": 12,
   "id": "e435180e",
   "metadata": {},
   "outputs": [],
   "source": [
    "point = gpd.read_file(path + '\\\\MyProject4.gdb', driver='FileGDB', layer='most_recent')"
   ]
  },
  {
   "cell_type": "code",
   "execution_count": 14,
   "id": "4aa1af9f",
   "metadata": {},
   "outputs": [],
   "source": [
    "point = point.to_crs(epsg=2914)"
   ]
  },
  {
   "cell_type": "code",
   "execution_count": 20,
   "id": "ff501978",
   "metadata": {},
   "outputs": [
    {
     "data": {
      "text/plain": [
       "Index(['TARGET_FID', 'Status', 'Comments', 'Date', 'Submitted_by',\n",
       "       'Dogs_present', 'Hazardous_materials_present', 'Biohazards_present',\n",
       "       'Size_of_encampment', 'maptaxlot_hyphen', 'ownname', 'addr1',\n",
       "       'ownercity', 'ownerprvst', 'ownerzip', 'geocity_name', 'ugb_name',\n",
       "       'longitude', 'latitude'],\n",
       "      dtype='object')"
      ]
     },
     "execution_count": 20,
     "metadata": {},
     "output_type": "execute_result"
    }
   ],
   "source": [
    "dat.loc[:, 'TARGET_FID'] = dat.loc[:, 'TARGET_FID'] + 1085"
   ]
  },
  {
   "cell_type": "code",
   "execution_count": 48,
   "id": "10898310",
   "metadata": {},
   "outputs": [
    {
     "data": {
      "text/html": [
       "<div>\n",
       "<style scoped>\n",
       "    .dataframe tbody tr th:only-of-type {\n",
       "        vertical-align: middle;\n",
       "    }\n",
       "\n",
       "    .dataframe tbody tr th {\n",
       "        vertical-align: top;\n",
       "    }\n",
       "\n",
       "    .dataframe thead th {\n",
       "        text-align: right;\n",
       "    }\n",
       "</style>\n",
       "<table border=\"1\" class=\"dataframe\">\n",
       "  <thead>\n",
       "    <tr style=\"text-align: right;\">\n",
       "      <th></th>\n",
       "      <th>Status</th>\n",
       "      <th>Comments</th>\n",
       "      <th>Date</th>\n",
       "      <th>Submitted_by</th>\n",
       "      <th>Dogs_present</th>\n",
       "      <th>Unruly_inhabitants</th>\n",
       "      <th>Hazardous_materials_present</th>\n",
       "      <th>Biohazards_present</th>\n",
       "      <th>Size_of_encampment</th>\n",
       "      <th>Date_str</th>\n",
       "      <th>geometry</th>\n",
       "    </tr>\n",
       "  </thead>\n",
       "  <tbody>\n",
       "    <tr>\n",
       "      <th>0</th>\n",
       "      <td>Occupied</td>\n",
       "      <td>Homeless camp</td>\n",
       "      <td>2023-01-18T22:52:35+00:00</td>\n",
       "      <td>Matthew Gilliam 541-556-1784</td>\n",
       "      <td>Unknown</td>\n",
       "      <td>None</td>\n",
       "      <td>Unknown</td>\n",
       "      <td>Unknown</td>\n",
       "      <td>Small</td>\n",
       "      <td>1/18/2023</td>\n",
       "      <td>POINT (4228098.619 897149.301)</td>\n",
       "    </tr>\n",
       "  </tbody>\n",
       "</table>\n",
       "</div>"
      ],
      "text/plain": [
       "     Status       Comments                       Date  \\\n",
       "0  Occupied  Homeless camp  2023-01-18T22:52:35+00:00   \n",
       "\n",
       "                   Submitted_by Dogs_present Unruly_inhabitants  \\\n",
       "0  Matthew Gilliam 541-556-1784      Unknown               None   \n",
       "\n",
       "  Hazardous_materials_present Biohazards_present Size_of_encampment  \\\n",
       "0                     Unknown            Unknown              Small   \n",
       "\n",
       "    Date_str                        geometry  \n",
       "0  1/18/2023  POINT (4228098.619 897149.301)  "
      ]
     },
     "execution_count": 48,
     "metadata": {},
     "output_type": "execute_result"
    }
   ],
   "source": [
    "point"
   ]
  },
  {
   "cell_type": "code",
   "execution_count": 61,
   "id": "70916761",
   "metadata": {},
   "outputs": [],
   "source": [
    "url='https://services5.arcgis.com/9s1YtFmLS0YTl10F/arcgis/rest/services/ZHomeless_Camp_Trash_Collector/FeatureServer/0/1831/attachments?f=html&token='"
   ]
  },
  {
   "cell_type": "code",
   "execution_count": 62,
   "id": "5ef11a55",
   "metadata": {},
   "outputs": [],
   "source": [
    "#open with GET method\n",
    "resp=requests.get(url)"
   ]
  },
  {
   "cell_type": "code",
   "execution_count": 64,
   "id": "33470284",
   "metadata": {},
   "outputs": [],
   "source": [
    "if resp.status_code==200:\n",
    "    soup=BeautifulSoup(resp.text,'html.parser')"
   ]
  },
  {
   "cell_type": "code",
   "execution_count": 66,
   "id": "4f3b029e",
   "metadata": {},
   "outputs": [],
   "source": [
    "links = []"
   ]
  },
  {
   "cell_type": "code",
   "execution_count": 67,
   "id": "533b203f",
   "metadata": {},
   "outputs": [],
   "source": [
    "for link in soup.findAll('a'):\n",
    "    links.append(link.get('href'))"
   ]
  },
  {
   "cell_type": "code",
   "execution_count": 69,
   "id": "6a357f3e",
   "metadata": {},
   "outputs": [],
   "source": [
    "attached = [link for link in links if 'attachments' in link]"
   ]
  },
  {
   "cell_type": "code",
   "execution_count": 74,
   "id": "d58dbc0f",
   "metadata": {},
   "outputs": [
    {
     "data": {
      "text/plain": [
       "list"
      ]
     },
     "execution_count": 74,
     "metadata": {},
     "output_type": "execute_result"
    }
   ],
   "source": [
    "type(attached)"
   ]
  },
  {
   "cell_type": "code",
   "execution_count": 78,
   "id": "2342f80f",
   "metadata": {},
   "outputs": [
    {
     "data": {
      "text/plain": [
       "'https://services5.arcgis.com/9s1YtFmLS0YTl10F/ArcGIS/rest/services/ZHomeless_Camp_Trash_Collector/FeatureServer/0/1831/attachments/559; https://services5.arcgis.com/9s1YtFmLS0YTl10F/ArcGIS/rest/services/ZHomeless_Camp_Trash_Collector/FeatureServer/0/1831/attachments/560; https://services5.arcgis.com/9s1YtFmLS0YTl10F/ArcGIS/rest/services/ZHomeless_Camp_Trash_Collector/FeatureServer/0/1831/attachments/561'"
      ]
     },
     "execution_count": 78,
     "metadata": {},
     "output_type": "execute_result"
    }
   ],
   "source": [
    "'; '.join(['https://services5.arcgis.com' + s for s in attached])"
   ]
  },
  {
   "cell_type": "code",
   "execution_count": 85,
   "id": "55f56fd8",
   "metadata": {},
   "outputs": [],
   "source": [
    "datestr = points.Date.values[0].split('T')[0]"
   ]
  },
  {
   "cell_type": "code",
   "execution_count": 86,
   "id": "3ea988c7",
   "metadata": {},
   "outputs": [],
   "source": [
    "def convert_date(datestr):\n",
    "    datestrlist = datestr.split('-')\n",
    "    Y = datestrlist[0]\n",
    "    m = str(int(datestrlist[1]))\n",
    "    d = str(int(datestrlist[2]))\n",
    "    res = m+'/'+d+'/'+Y\n",
    "    return res, Y, m, d"
   ]
  },
  {
   "cell_type": "code",
   "execution_count": 4,
   "id": "d0977d14",
   "metadata": {},
   "outputs": [],
   "source": [
    "gdat = gpd.read_file(path + '\\\\MyProject4.gdb', driver='FileGDB', layer='datacopy')"
   ]
  }
 ],
 "metadata": {
  "kernelspec": {
   "display_name": "Python 3 (ipykernel)",
   "language": "python",
   "name": "python3"
  },
  "language_info": {
   "codemirror_mode": {
    "name": "ipython",
    "version": 3
   },
   "file_extension": ".py",
   "mimetype": "text/x-python",
   "name": "python",
   "nbconvert_exporter": "python",
   "pygments_lexer": "ipython3",
   "version": "3.8.15"
  }
 },
 "nbformat": 4,
 "nbformat_minor": 5
}
