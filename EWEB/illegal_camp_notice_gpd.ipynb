{
 "cells": [
  {
   "cell_type": "code",
   "execution_count": 1,
   "id": "6abe3fdc",
   "metadata": {},
   "outputs": [
    {
     "name": "stderr",
     "output_type": "stream",
     "text": [
      "C:\\Users\\clid1852\\AppData\\Anaconda3\\envs\\geoenv\\lib\\site-packages\\geopandas\\_compat.py:106: UserWarning: The Shapely GEOS version (3.11.1-CAPI-1.17.1) is incompatible with the GEOS version PyGEOS was compiled with (3.9.1-CAPI-1.14.2). Conversions between both will be slow.\n",
      "  warnings.warn(\n"
     ]
    },
    {
     "name": "stdout",
     "output_type": "stream",
     "text": [
      "Read data...\n",
      "Got file name...\n"
     ]
    }
   ],
   "source": [
    "import pandas as pd\n",
    "import geopandas as gpd\n",
    "import os\n",
    "import requests\n",
    "from bs4 import BeautifulSoup\n",
    "from homeless import *\n",
    "import openpyxl\n",
    "from win32com.client import Dispatch\n",
    "\n",
    "outpath = r'G:\\projects\\UtilityDistricts\\eweb\\DrinkingWater\\IllegalCampCoordination\\Recieved'\n",
    "path = outpath + '\\\\IllegalCampNotification_pro'\n",
    "\n",
    "dat = pd.read_excel(path+'\\\\most_recent.xlsx')\n",
    "cols2drop = ['OBJECTID', 'Join_Count', 'Unruly_inhabitants']\n",
    "dat = dat.drop(cols2drop, axis=1)\n",
    "\n",
    "intakepath = r'G:\\projects\\UtilityDistricts\\eweb\\DrinkingWater\\RiparianEcosystemMarketplace\\market_area\\REM_area.gdb'\n",
    "intake_areas = gpd.read_file(intakepath, driver='FileGDB', layer='AboveIntake')\n",
    "points = gpd.read_file(path + '\\\\MyProject4.gdb', driver='FileGDB', layer='HomelessCampSite_SpatialJoin')\n",
    "points = points.to_crs(epsg=2914)\n",
    "print(\"Read data...\")\n",
    "\n",
    "urlstart ='https://services5.arcgis.com/9s1YtFmLS0YTl10F/arcgis/rest/services/ZHomeless_Camp_Trash_Collector/FeatureServer/0/'\n",
    "urlend = '/attachments?f=html&token='\n",
    "\n",
    "datestr = points.Date.values[0].split('T')[0]\n",
    "res = convert_date(datestr)\n",
    "Y = res[1]\n",
    "m = res[2]\n",
    "d = res[3]\n",
    "outfolder = os.path.join(outpath, Y, m+'_'+d)\n",
    "filename = 'IllegalCampNotice_'+m+'_'+d+'_'+Y[2:4]+'.xlsx'\n",
    "file = os.path.join(outfolder, filename)\n",
    "print(\"Got file name...\")"
   ]
  },
  {
   "cell_type": "code",
   "execution_count": 3,
   "id": "ea222cf8",
   "metadata": {},
   "outputs": [],
   "source": [
    "s = 'TARGET_FID'"
   ]
  },
  {
   "cell_type": "code",
   "execution_count": 9,
   "id": "3295b1ea",
   "metadata": {},
   "outputs": [],
   "source": [
    "dat.rename(columns={'Ownname': 'Own_name', 'Addr1': 'Owner_address'}, inplace=True)"
   ]
  },
  {
   "cell_type": "code",
   "execution_count": 8,
   "id": "badc6b62",
   "metadata": {},
   "outputs": [],
   "source": [
    "dat.columns = list(map(lambda x: x.capitalize(), dat.columns))"
   ]
  },
  {
   "cell_type": "code",
   "execution_count": 10,
   "id": "dc1b1388",
   "metadata": {},
   "outputs": [],
   "source": [
    "dat.rename(columns={'Ownname': 'Owner_name', 'Addr1': 'Owner_address'}, inplace=True)"
   ]
  },
  {
   "cell_type": "code",
   "execution_count": 22,
   "id": "0a57807f",
   "metadata": {},
   "outputs": [],
   "source": [
    "taxlotcodes = pd.read_csv('mythical_taxlot_codes.csv')"
   ]
  },
  {
   "cell_type": "code",
   "execution_count": 35,
   "id": "8bd6f523",
   "metadata": {},
   "outputs": [
    {
     "data": {
      "text/plain": [
       "0    True\n",
       "Name: Owner_name, dtype: bool"
      ]
     },
     "execution_count": 35,
     "metadata": {},
     "output_type": "execute_result"
    }
   ],
   "source": [
    "(dat.Owner_name.isnull()) & (int(dat.Maptaxlot_hyphen[0][-2:]) in taxlotcodes.end_number.values)"
   ]
  },
  {
   "cell_type": "code",
   "execution_count": 37,
   "id": "6662aa36",
   "metadata": {},
   "outputs": [],
   "source": [
    "dat.columns = ['Target_fid', 'Status', 'Comments', 'Date', 'Submitted_by',\n",
    "       'Dogs_present', 'Hazardous_materials_present', 'Biohazards_present',\n",
    "       'Size_of_encampment', 'Maptaxlot_hyphen', 'Owner_name', 'Owner_address', \n",
    "               'Nearby_owner', 'Nearby_owner_address', \n",
    "       'Ownercity', 'Ownerprvst', 'Ownerzip', 'Geocity_name', 'Ugb_name',\n",
    "       'Longitude', 'Latitude']"
   ]
  },
  {
   "cell_type": "code",
   "execution_count": 38,
   "id": "23916f62",
   "metadata": {},
   "outputs": [],
   "source": [
    "idx = 0"
   ]
  },
  {
   "cell_type": "code",
   "execution_count": 45,
   "id": "a5d7bd26",
   "metadata": {},
   "outputs": [
    {
     "data": {
      "text/plain": [
       "'77'"
      ]
     },
     "execution_count": 45,
     "metadata": {},
     "output_type": "execute_result"
    }
   ],
   "source": [
    "dat.loc[idx,'Maptaxlot_hyphen'][-2:]"
   ]
  },
  {
   "cell_type": "code",
   "execution_count": 1,
   "id": "1fe38837",
   "metadata": {},
   "outputs": [
    {
     "name": "stderr",
     "output_type": "stream",
     "text": [
      "C:\\Users\\clid1852\\AppData\\Anaconda3\\envs\\geoenv\\lib\\site-packages\\geopandas\\_compat.py:106: UserWarning: The Shapely GEOS version (3.11.1-CAPI-1.17.1) is incompatible with the GEOS version PyGEOS was compiled with (3.9.1-CAPI-1.14.2). Conversions between both will be slow.\n",
      "  warnings.warn(\n"
     ]
    }
   ],
   "source": [
    "import geopandas as gpd"
   ]
  },
  {
   "cell_type": "code",
   "execution_count": 2,
   "id": "b780b716",
   "metadata": {},
   "outputs": [],
   "source": [
    "import pandas as pd"
   ]
  },
  {
   "cell_type": "code",
   "execution_count": 3,
   "id": "e64d4e07",
   "metadata": {},
   "outputs": [],
   "source": [
    "import requests\n",
    "from bs4 import BeautifulSoup"
   ]
  },
  {
   "cell_type": "code",
   "execution_count": 4,
   "id": "a5d41add",
   "metadata": {},
   "outputs": [],
   "source": [
    "import xlsxwriter"
   ]
  },
  {
   "cell_type": "code",
   "execution_count": 88,
   "id": "049227ad",
   "metadata": {},
   "outputs": [],
   "source": [
    "from win32com.client import Dispatch"
   ]
  },
  {
   "cell_type": "code",
   "execution_count": 5,
   "id": "ea3a1bcb",
   "metadata": {},
   "outputs": [],
   "source": [
    "path = r'G:\\projects\\UtilityDistricts\\eweb\\DrinkingWater\\IllegalCampCoordination\\Recieved\\IllegalCampNotification_pro'"
   ]
  },
  {
   "cell_type": "code",
   "execution_count": 3,
   "id": "b5c39f23",
   "metadata": {},
   "outputs": [],
   "source": [
    "dat = pd.read_excel(path+'\\\\most_recent.xlsx')"
   ]
  },
  {
   "cell_type": "code",
   "execution_count": 5,
   "id": "14afff12",
   "metadata": {},
   "outputs": [
    {
     "data": {
      "text/plain": [
       "Index(['OBJECTID', 'Join_Count', 'TARGET_FID', 'Status', 'Comments', 'Date',\n",
       "       'Submitted_by', 'Dogs_present', 'Unruly_inhabitants',\n",
       "       'Hazardous_materials_present', 'Biohazards_present',\n",
       "       'Size_of_encampment', 'maptaxlot_hyphen', 'ownname', 'addr1',\n",
       "       'ownercity', 'ownerprvst', 'ownerzip', 'geocity_name', 'ugb_name',\n",
       "       'longitude', 'latitude'],\n",
       "      dtype='object')"
      ]
     },
     "execution_count": 5,
     "metadata": {},
     "output_type": "execute_result"
    }
   ],
   "source": [
    "dat.columns"
   ]
  },
  {
   "cell_type": "code",
   "execution_count": 6,
   "id": "f760f48a",
   "metadata": {},
   "outputs": [],
   "source": [
    "cols2drop = ['OBJECTID', 'Join_Count', 'Unruly_inhabitants']"
   ]
  },
  {
   "cell_type": "code",
   "execution_count": 7,
   "id": "3b999abe",
   "metadata": {},
   "outputs": [],
   "source": [
    "dat = dat.drop(cols2drop, axis=1)"
   ]
  },
  {
   "cell_type": "code",
   "execution_count": 8,
   "id": "88af314b",
   "metadata": {},
   "outputs": [],
   "source": [
    "intakepath = r'G:\\projects\\UtilityDistricts\\eweb\\DrinkingWater\\RiparianEcosystemMarketplace\\market_area\\REM_area.gdb'"
   ]
  },
  {
   "cell_type": "code",
   "execution_count": 10,
   "id": "6b23bc58",
   "metadata": {},
   "outputs": [],
   "source": [
    "intake_areas = gpd.read_file(intakepath, driver='FileGDB', layer='AboveIntake')"
   ]
  },
  {
   "cell_type": "code",
   "execution_count": 11,
   "id": "77f981cd",
   "metadata": {},
   "outputs": [
    {
     "data": {
      "text/plain": [
       "<Projected CRS: EPSG:2914>\n",
       "Name: NAD83(HARN) / Oregon South (ft)\n",
       "Axis Info [cartesian]:\n",
       "- X[east]: Easting (foot)\n",
       "- Y[north]: Northing (foot)\n",
       "Area of Use:\n",
       "- name: United States (USA) - Oregon - counties of Coos; Crook; Curry; Deschutes; Douglas; Harney; Jackson; Josephine; Klamath; Lake; Lane; Malheur.\n",
       "- bounds: (-124.6, 41.98, -116.9, 44.56)\n",
       "Coordinate Operation:\n",
       "- name: SPCS83 Oregon South zone (International feet)\n",
       "- method: Lambert Conic Conformal (2SP)\n",
       "Datum: NAD83 (High Accuracy Reference Network)\n",
       "- Ellipsoid: GRS 1980\n",
       "- Prime Meridian: Greenwich"
      ]
     },
     "execution_count": 11,
     "metadata": {},
     "output_type": "execute_result"
    }
   ],
   "source": [
    "intake_areas.crs"
   ]
  },
  {
   "cell_type": "code",
   "execution_count": 12,
   "id": "e435180e",
   "metadata": {},
   "outputs": [],
   "source": [
    "point = gpd.read_file(path + '\\\\MyProject4.gdb', driver='FileGDB', layer='most_recent')"
   ]
  },
  {
   "cell_type": "code",
   "execution_count": 14,
   "id": "4aa1af9f",
   "metadata": {},
   "outputs": [],
   "source": [
    "point = point.to_crs(epsg=2914)"
   ]
  },
  {
   "cell_type": "code",
   "execution_count": 20,
   "id": "ff501978",
   "metadata": {},
   "outputs": [
    {
     "data": {
      "text/plain": [
       "Index(['TARGET_FID', 'Status', 'Comments', 'Date', 'Submitted_by',\n",
       "       'Dogs_present', 'Hazardous_materials_present', 'Biohazards_present',\n",
       "       'Size_of_encampment', 'maptaxlot_hyphen', 'ownname', 'addr1',\n",
       "       'ownercity', 'ownerprvst', 'ownerzip', 'geocity_name', 'ugb_name',\n",
       "       'longitude', 'latitude'],\n",
       "      dtype='object')"
      ]
     },
     "execution_count": 20,
     "metadata": {},
     "output_type": "execute_result"
    }
   ],
   "source": [
    "dat.loc[:, 'TARGET_FID'] = dat.loc[:, 'TARGET_FID'] + 1085"
   ]
  },
  {
   "cell_type": "code",
   "execution_count": 48,
   "id": "10898310",
   "metadata": {},
   "outputs": [
    {
     "data": {
      "text/html": [
       "<div>\n",
       "<style scoped>\n",
       "    .dataframe tbody tr th:only-of-type {\n",
       "        vertical-align: middle;\n",
       "    }\n",
       "\n",
       "    .dataframe tbody tr th {\n",
       "        vertical-align: top;\n",
       "    }\n",
       "\n",
       "    .dataframe thead th {\n",
       "        text-align: right;\n",
       "    }\n",
       "</style>\n",
       "<table border=\"1\" class=\"dataframe\">\n",
       "  <thead>\n",
       "    <tr style=\"text-align: right;\">\n",
       "      <th></th>\n",
       "      <th>Status</th>\n",
       "      <th>Comments</th>\n",
       "      <th>Date</th>\n",
       "      <th>Submitted_by</th>\n",
       "      <th>Dogs_present</th>\n",
       "      <th>Unruly_inhabitants</th>\n",
       "      <th>Hazardous_materials_present</th>\n",
       "      <th>Biohazards_present</th>\n",
       "      <th>Size_of_encampment</th>\n",
       "      <th>Date_str</th>\n",
       "      <th>geometry</th>\n",
       "    </tr>\n",
       "  </thead>\n",
       "  <tbody>\n",
       "    <tr>\n",
       "      <th>0</th>\n",
       "      <td>Occupied</td>\n",
       "      <td>Homeless camp</td>\n",
       "      <td>2023-01-18T22:52:35+00:00</td>\n",
       "      <td>Matthew Gilliam 541-556-1784</td>\n",
       "      <td>Unknown</td>\n",
       "      <td>None</td>\n",
       "      <td>Unknown</td>\n",
       "      <td>Unknown</td>\n",
       "      <td>Small</td>\n",
       "      <td>1/18/2023</td>\n",
       "      <td>POINT (4228098.619 897149.301)</td>\n",
       "    </tr>\n",
       "  </tbody>\n",
       "</table>\n",
       "</div>"
      ],
      "text/plain": [
       "     Status       Comments                       Date  \\\n",
       "0  Occupied  Homeless camp  2023-01-18T22:52:35+00:00   \n",
       "\n",
       "                   Submitted_by Dogs_present Unruly_inhabitants  \\\n",
       "0  Matthew Gilliam 541-556-1784      Unknown               None   \n",
       "\n",
       "  Hazardous_materials_present Biohazards_present Size_of_encampment  \\\n",
       "0                     Unknown            Unknown              Small   \n",
       "\n",
       "    Date_str                        geometry  \n",
       "0  1/18/2023  POINT (4228098.619 897149.301)  "
      ]
     },
     "execution_count": 48,
     "metadata": {},
     "output_type": "execute_result"
    }
   ],
   "source": [
    "point"
   ]
  },
  {
   "cell_type": "code",
   "execution_count": 61,
   "id": "70916761",
   "metadata": {},
   "outputs": [],
   "source": [
    "url='https://services5.arcgis.com/9s1YtFmLS0YTl10F/arcgis/rest/services/ZHomeless_Camp_Trash_Collector/FeatureServer/0/1831/attachments?f=html&token='"
   ]
  },
  {
   "cell_type": "code",
   "execution_count": 62,
   "id": "5ef11a55",
   "metadata": {},
   "outputs": [],
   "source": [
    "#open with GET method\n",
    "resp=requests.get(url)"
   ]
  },
  {
   "cell_type": "code",
   "execution_count": 64,
   "id": "33470284",
   "metadata": {},
   "outputs": [],
   "source": [
    "if resp.status_code==200:\n",
    "    soup=BeautifulSoup(resp.text,'html.parser')"
   ]
  },
  {
   "cell_type": "code",
   "execution_count": 66,
   "id": "4f3b029e",
   "metadata": {},
   "outputs": [],
   "source": [
    "links = []"
   ]
  },
  {
   "cell_type": "code",
   "execution_count": 67,
   "id": "533b203f",
   "metadata": {},
   "outputs": [],
   "source": [
    "for link in soup.findAll('a'):\n",
    "    links.append(link.get('href'))"
   ]
  },
  {
   "cell_type": "code",
   "execution_count": 69,
   "id": "6a357f3e",
   "metadata": {},
   "outputs": [],
   "source": [
    "attached = [link for link in links if 'attachments' in link]"
   ]
  },
  {
   "cell_type": "code",
   "execution_count": 74,
   "id": "d58dbc0f",
   "metadata": {},
   "outputs": [
    {
     "data": {
      "text/plain": [
       "list"
      ]
     },
     "execution_count": 74,
     "metadata": {},
     "output_type": "execute_result"
    }
   ],
   "source": [
    "type(attached)"
   ]
  },
  {
   "cell_type": "code",
   "execution_count": 78,
   "id": "2342f80f",
   "metadata": {},
   "outputs": [
    {
     "data": {
      "text/plain": [
       "'https://services5.arcgis.com/9s1YtFmLS0YTl10F/ArcGIS/rest/services/ZHomeless_Camp_Trash_Collector/FeatureServer/0/1831/attachments/559; https://services5.arcgis.com/9s1YtFmLS0YTl10F/ArcGIS/rest/services/ZHomeless_Camp_Trash_Collector/FeatureServer/0/1831/attachments/560; https://services5.arcgis.com/9s1YtFmLS0YTl10F/ArcGIS/rest/services/ZHomeless_Camp_Trash_Collector/FeatureServer/0/1831/attachments/561'"
      ]
     },
     "execution_count": 78,
     "metadata": {},
     "output_type": "execute_result"
    }
   ],
   "source": [
    "'; '.join(['https://services5.arcgis.com' + s for s in attached])"
   ]
  },
  {
   "cell_type": "code",
   "execution_count": 85,
   "id": "55f56fd8",
   "metadata": {},
   "outputs": [],
   "source": [
    "datestr = points.Date.values[0].split('T')[0]"
   ]
  },
  {
   "cell_type": "code",
   "execution_count": 86,
   "id": "3ea988c7",
   "metadata": {},
   "outputs": [],
   "source": [
    "def convert_date(datestr):\n",
    "    datestrlist = datestr.split('-')\n",
    "    Y = datestrlist[0]\n",
    "    m = str(int(datestrlist[1]))\n",
    "    d = str(int(datestrlist[2]))\n",
    "    res = m+'/'+d+'/'+Y\n",
    "    return res, Y, m, d"
   ]
  },
  {
   "cell_type": "code",
   "execution_count": 4,
   "id": "d0977d14",
   "metadata": {},
   "outputs": [],
   "source": [
    "gdat = gpd.read_file(path + '\\\\MyProject4.gdb', driver='FileGDB', layer='datacopy')"
   ]
  }
 ],
 "metadata": {
  "kernelspec": {
   "display_name": "Python 3 (ipykernel)",
   "language": "python",
   "name": "python3"
  },
  "language_info": {
   "codemirror_mode": {
    "name": "ipython",
    "version": 3
   },
   "file_extension": ".py",
   "mimetype": "text/x-python",
   "name": "python",
   "nbconvert_exporter": "python",
   "pygments_lexer": "ipython3",
   "version": "3.8.15"
  }
 },
 "nbformat": 4,
 "nbformat_minor": 5
}
