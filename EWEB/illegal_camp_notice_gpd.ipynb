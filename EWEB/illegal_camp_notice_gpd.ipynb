{
 "cells": [
  {
   "cell_type": "code",
   "execution_count": 1,
   "id": "bee120fd",
   "metadata": {},
   "outputs": [
    {
     "name": "stderr",
     "output_type": "stream",
     "text": [
      "C:\\Users\\clid1852\\AppData\\Anaconda3\\envs\\geoenv\\lib\\site-packages\\geopandas\\_compat.py:106: UserWarning: The Shapely GEOS version (3.11.1-CAPI-1.17.1) is incompatible with the GEOS version PyGEOS was compiled with (3.9.1-CAPI-1.14.2). Conversions between both will be slow.\n",
      "  warnings.warn(\n"
     ]
    }
   ],
   "source": [
    "import geopandas as gpd"
   ]
  },
  {
   "cell_type": "code",
   "execution_count": 1,
   "id": "51e7a784",
   "metadata": {},
   "outputs": [],
   "source": [
    "import pandas as pd"
   ]
  },
  {
   "cell_type": "code",
   "execution_count": 2,
   "id": "cc6772de",
   "metadata": {},
   "outputs": [],
   "source": [
    "path = r'G:\\projects\\UtilityDistricts\\eweb\\DrinkingWater\\IllegalCampCoordination\\Recieved\\IllegalCampNotification_pro'"
   ]
  },
  {
   "cell_type": "code",
   "execution_count": 3,
   "id": "80def5c2",
   "metadata": {},
   "outputs": [],
   "source": [
    "dat = pd.read_excel(path+'\\\\most_recent.xlsx')"
   ]
  },
  {
   "cell_type": "code",
   "execution_count": 5,
   "id": "5e596c2e",
   "metadata": {},
   "outputs": [
    {
     "data": {
      "text/plain": [
       "Index(['OBJECTID', 'Join_Count', 'TARGET_FID', 'Status', 'Comments', 'Date',\n",
       "       'Submitted_by', 'Dogs_present', 'Unruly_inhabitants',\n",
       "       'Hazardous_materials_present', 'Biohazards_present',\n",
       "       'Size_of_encampment', 'maptaxlot_hyphen', 'ownname', 'addr1',\n",
       "       'ownercity', 'ownerprvst', 'ownerzip', 'geocity_name', 'ugb_name',\n",
       "       'longitude', 'latitude'],\n",
       "      dtype='object')"
      ]
     },
     "execution_count": 5,
     "metadata": {},
     "output_type": "execute_result"
    }
   ],
   "source": [
    "dat.columns"
   ]
  },
  {
   "cell_type": "code",
   "execution_count": null,
   "id": "16fa4852",
   "metadata": {},
   "outputs": [],
   "source": [
    "cols2drop = ['OBJECTID', 'Join_Count',]"
   ]
  },
  {
   "cell_type": "code",
   "execution_count": 4,
   "id": "a7164c90",
   "metadata": {},
   "outputs": [],
   "source": [
    "dat = gpd.read_file(path + '\\\\MyProject4.gdb', driver='FileGDB', layer='datacopy')"
   ]
  },
  {
   "cell_type": "code",
   "execution_count": 5,
   "id": "2b12bc6f",
   "metadata": {
    "scrolled": true
   },
   "outputs": [
    {
     "data": {
      "text/html": [
       "<div>\n",
       "<style scoped>\n",
       "    .dataframe tbody tr th:only-of-type {\n",
       "        vertical-align: middle;\n",
       "    }\n",
       "\n",
       "    .dataframe tbody tr th {\n",
       "        vertical-align: top;\n",
       "    }\n",
       "\n",
       "    .dataframe thead th {\n",
       "        text-align: right;\n",
       "    }\n",
       "</style>\n",
       "<table border=\"1\" class=\"dataframe\">\n",
       "  <thead>\n",
       "    <tr style=\"text-align: right;\">\n",
       "      <th></th>\n",
       "      <th>Status</th>\n",
       "      <th>Comments</th>\n",
       "      <th>Date</th>\n",
       "      <th>Submitted_by</th>\n",
       "      <th>Dogs_present</th>\n",
       "      <th>Unruly_inhabitants</th>\n",
       "      <th>Hazardous_materials_present</th>\n",
       "      <th>Biohazards_present</th>\n",
       "      <th>Size_of_encampment</th>\n",
       "      <th>Date_str</th>\n",
       "      <th>geometry</th>\n",
       "    </tr>\n",
       "  </thead>\n",
       "  <tbody>\n",
       "    <tr>\n",
       "      <th>0</th>\n",
       "      <td>Abandoned</td>\n",
       "      <td>Contcated group 5/18 and gave notice.</td>\n",
       "      <td>2016-05-18T15:36:59+00:00</td>\n",
       "      <td>Youngblood</td>\n",
       "      <td>No</td>\n",
       "      <td>No</td>\n",
       "      <td>None</td>\n",
       "      <td>None</td>\n",
       "      <td>Small</td>\n",
       "      <td>5/18/2016</td>\n",
       "      <td>POINT (648676.895 837520.043)</td>\n",
       "    </tr>\n",
       "    <tr>\n",
       "      <th>1</th>\n",
       "      <td>Cleaned-up</td>\n",
       "      <td>Cleaned up 5/18.</td>\n",
       "      <td>2016-05-18T15:38:19+00:00</td>\n",
       "      <td>Youngblood</td>\n",
       "      <td>No</td>\n",
       "      <td>No</td>\n",
       "      <td>No</td>\n",
       "      <td>No</td>\n",
       "      <td>Small</td>\n",
       "      <td>5/18/2016</td>\n",
       "      <td>POINT (648704.972 837641.883)</td>\n",
       "    </tr>\n",
       "    <tr>\n",
       "      <th>2</th>\n",
       "      <td>Occupied</td>\n",
       "      <td>Notified campers 5/18.</td>\n",
       "      <td>2016-05-18T15:39:57+00:00</td>\n",
       "      <td>Youngblood</td>\n",
       "      <td>No</td>\n",
       "      <td>None</td>\n",
       "      <td>None</td>\n",
       "      <td>None</td>\n",
       "      <td>Small</td>\n",
       "      <td>5/18/2016</td>\n",
       "      <td>POINT (648423.293 837925.831)</td>\n",
       "    </tr>\n",
       "  </tbody>\n",
       "</table>\n",
       "</div>"
      ],
      "text/plain": [
       "       Status                               Comments  \\\n",
       "0   Abandoned  Contcated group 5/18 and gave notice.   \n",
       "1  Cleaned-up                       Cleaned up 5/18.   \n",
       "2    Occupied                 Notified campers 5/18.   \n",
       "\n",
       "                        Date Submitted_by Dogs_present Unruly_inhabitants  \\\n",
       "0  2016-05-18T15:36:59+00:00   Youngblood           No                 No   \n",
       "1  2016-05-18T15:38:19+00:00   Youngblood           No                 No   \n",
       "2  2016-05-18T15:39:57+00:00   Youngblood           No               None   \n",
       "\n",
       "  Hazardous_materials_present Biohazards_present Size_of_encampment  \\\n",
       "0                        None               None              Small   \n",
       "1                          No                 No              Small   \n",
       "2                        None               None              Small   \n",
       "\n",
       "    Date_str                       geometry  \n",
       "0  5/18/2016  POINT (648676.895 837520.043)  \n",
       "1  5/18/2016  POINT (648704.972 837641.883)  \n",
       "2  5/18/2016  POINT (648423.293 837925.831)  "
      ]
     },
     "execution_count": 5,
     "metadata": {},
     "output_type": "execute_result"
    }
   ],
   "source": [
    "dat.head(3)"
   ]
  },
  {
   "cell_type": "code",
   "execution_count": 10,
   "id": "61e02ac1",
   "metadata": {},
   "outputs": [
    {
     "data": {
      "text/plain": [
       "str"
      ]
     },
     "execution_count": 10,
     "metadata": {},
     "output_type": "execute_result"
    }
   ],
   "source": [
    "type(dat.Date.values[0])"
   ]
  },
  {
   "cell_type": "code",
   "execution_count": null,
   "id": "579ddf4c",
   "metadata": {},
   "outputs": [],
   "source": []
  }
 ],
 "metadata": {
  "kernelspec": {
   "display_name": "Python 3 (ipykernel)",
   "language": "python",
   "name": "python3"
  },
  "language_info": {
   "codemirror_mode": {
    "name": "ipython",
    "version": 3
   },
   "file_extension": ".py",
   "mimetype": "text/x-python",
   "name": "python",
   "nbconvert_exporter": "python",
   "pygments_lexer": "ipython3",
   "version": "3.8.15"
  }
 },
 "nbformat": 4,
 "nbformat_minor": 5
}
