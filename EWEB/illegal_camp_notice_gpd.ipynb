{
 "cells": [
  {
   "cell_type": "code",
   "execution_count": 9,
   "id": "1e57c717",
   "metadata": {},
   "outputs": [
    {
     "name": "stderr",
     "output_type": "stream",
     "text": [
      "C:\\Users\\clid1852\\AppData\\Anaconda3\\envs\\geoenv\\lib\\site-packages\\geopandas\\_compat.py:106: UserWarning: The Shapely GEOS version (3.11.1-CAPI-1.17.1) is incompatible with the GEOS version PyGEOS was compiled with (3.9.1-CAPI-1.14.2). Conversions between both will be slow.\n",
      "  warnings.warn(\n"
     ]
    }
   ],
   "source": [
    "import geopandas as gpd"
   ]
  },
  {
   "cell_type": "code",
   "execution_count": 1,
   "id": "ee667454",
   "metadata": {},
   "outputs": [],
   "source": [
    "import pandas as pd"
   ]
  },
  {
   "cell_type": "code",
   "execution_count": 30,
   "id": "2066507e",
   "metadata": {},
   "outputs": [],
   "source": [
    "import requests\n",
    "from bs4 import BeautifulSoup"
   ]
  },
  {
   "cell_type": "code",
   "execution_count": 1,
   "id": "36e7bf20",
   "metadata": {},
   "outputs": [],
   "source": [
    "import xlsxwriter"
   ]
  },
  {
   "cell_type": "code",
   "execution_count": 2,
   "id": "b71d5a02",
   "metadata": {},
   "outputs": [],
   "source": [
    "path = r'G:\\projects\\UtilityDistricts\\eweb\\DrinkingWater\\IllegalCampCoordination\\Recieved\\IllegalCampNotification_pro'"
   ]
  },
  {
   "cell_type": "code",
   "execution_count": 3,
   "id": "1ce5f16b",
   "metadata": {},
   "outputs": [],
   "source": [
    "dat = pd.read_excel(path+'\\\\most_recent.xlsx')"
   ]
  },
  {
   "cell_type": "code",
   "execution_count": 5,
   "id": "90c2ce6f",
   "metadata": {},
   "outputs": [
    {
     "data": {
      "text/plain": [
       "Index(['OBJECTID', 'Join_Count', 'TARGET_FID', 'Status', 'Comments', 'Date',\n",
       "       'Submitted_by', 'Dogs_present', 'Unruly_inhabitants',\n",
       "       'Hazardous_materials_present', 'Biohazards_present',\n",
       "       'Size_of_encampment', 'maptaxlot_hyphen', 'ownname', 'addr1',\n",
       "       'ownercity', 'ownerprvst', 'ownerzip', 'geocity_name', 'ugb_name',\n",
       "       'longitude', 'latitude'],\n",
       "      dtype='object')"
      ]
     },
     "execution_count": 5,
     "metadata": {},
     "output_type": "execute_result"
    }
   ],
   "source": [
    "dat.columns"
   ]
  },
  {
   "cell_type": "code",
   "execution_count": 6,
   "id": "4a238b54",
   "metadata": {},
   "outputs": [],
   "source": [
    "cols2drop = ['OBJECTID', 'Join_Count', 'Unruly_inhabitants']"
   ]
  },
  {
   "cell_type": "code",
   "execution_count": 7,
   "id": "eb8ca088",
   "metadata": {},
   "outputs": [],
   "source": [
    "dat = dat.drop(cols2drop, axis=1)"
   ]
  },
  {
   "cell_type": "code",
   "execution_count": 8,
   "id": "e8a85fc1",
   "metadata": {},
   "outputs": [],
   "source": [
    "intakepath = r'G:\\projects\\UtilityDistricts\\eweb\\DrinkingWater\\RiparianEcosystemMarketplace\\market_area\\REM_area.gdb'"
   ]
  },
  {
   "cell_type": "code",
   "execution_count": 10,
   "id": "97925065",
   "metadata": {},
   "outputs": [],
   "source": [
    "intake_areas = gpd.read_file(intakepath, driver='FileGDB', layer='AboveIntake')"
   ]
  },
  {
   "cell_type": "code",
   "execution_count": 11,
   "id": "c238ce93",
   "metadata": {},
   "outputs": [
    {
     "data": {
      "text/plain": [
       "<Projected CRS: EPSG:2914>\n",
       "Name: NAD83(HARN) / Oregon South (ft)\n",
       "Axis Info [cartesian]:\n",
       "- X[east]: Easting (foot)\n",
       "- Y[north]: Northing (foot)\n",
       "Area of Use:\n",
       "- name: United States (USA) - Oregon - counties of Coos; Crook; Curry; Deschutes; Douglas; Harney; Jackson; Josephine; Klamath; Lake; Lane; Malheur.\n",
       "- bounds: (-124.6, 41.98, -116.9, 44.56)\n",
       "Coordinate Operation:\n",
       "- name: SPCS83 Oregon South zone (International feet)\n",
       "- method: Lambert Conic Conformal (2SP)\n",
       "Datum: NAD83 (High Accuracy Reference Network)\n",
       "- Ellipsoid: GRS 1980\n",
       "- Prime Meridian: Greenwich"
      ]
     },
     "execution_count": 11,
     "metadata": {},
     "output_type": "execute_result"
    }
   ],
   "source": [
    "intake_areas.crs"
   ]
  },
  {
   "cell_type": "code",
   "execution_count": 12,
   "id": "39f022a5",
   "metadata": {},
   "outputs": [],
   "source": [
    "point = gpd.read_file(path + '\\\\MyProject4.gdb', driver='FileGDB', layer='most_recent')"
   ]
  },
  {
   "cell_type": "code",
   "execution_count": 14,
   "id": "16c44f4f",
   "metadata": {},
   "outputs": [],
   "source": [
    "point = point.to_crs(epsg=2914)"
   ]
  },
  {
   "cell_type": "code",
   "execution_count": 20,
   "id": "fa454dda",
   "metadata": {},
   "outputs": [
    {
     "data": {
      "text/plain": [
       "Index(['TARGET_FID', 'Status', 'Comments', 'Date', 'Submitted_by',\n",
       "       'Dogs_present', 'Hazardous_materials_present', 'Biohazards_present',\n",
       "       'Size_of_encampment', 'maptaxlot_hyphen', 'ownname', 'addr1',\n",
       "       'ownercity', 'ownerprvst', 'ownerzip', 'geocity_name', 'ugb_name',\n",
       "       'longitude', 'latitude'],\n",
       "      dtype='object')"
      ]
     },
     "execution_count": 20,
     "metadata": {},
     "output_type": "execute_result"
    }
   ],
   "source": [
    "dat.loc[:, 'TARGET_FID'] = dat.loc[:, 'TARGET_FID'] + 1085"
   ]
  },
  {
   "cell_type": "code",
   "execution_count": 48,
   "id": "a508e12e",
   "metadata": {},
   "outputs": [
    {
     "data": {
      "text/html": [
       "<div>\n",
       "<style scoped>\n",
       "    .dataframe tbody tr th:only-of-type {\n",
       "        vertical-align: middle;\n",
       "    }\n",
       "\n",
       "    .dataframe tbody tr th {\n",
       "        vertical-align: top;\n",
       "    }\n",
       "\n",
       "    .dataframe thead th {\n",
       "        text-align: right;\n",
       "    }\n",
       "</style>\n",
       "<table border=\"1\" class=\"dataframe\">\n",
       "  <thead>\n",
       "    <tr style=\"text-align: right;\">\n",
       "      <th></th>\n",
       "      <th>Status</th>\n",
       "      <th>Comments</th>\n",
       "      <th>Date</th>\n",
       "      <th>Submitted_by</th>\n",
       "      <th>Dogs_present</th>\n",
       "      <th>Unruly_inhabitants</th>\n",
       "      <th>Hazardous_materials_present</th>\n",
       "      <th>Biohazards_present</th>\n",
       "      <th>Size_of_encampment</th>\n",
       "      <th>Date_str</th>\n",
       "      <th>geometry</th>\n",
       "    </tr>\n",
       "  </thead>\n",
       "  <tbody>\n",
       "    <tr>\n",
       "      <th>0</th>\n",
       "      <td>Occupied</td>\n",
       "      <td>Homeless camp</td>\n",
       "      <td>2023-01-18T22:52:35+00:00</td>\n",
       "      <td>Matthew Gilliam 541-556-1784</td>\n",
       "      <td>Unknown</td>\n",
       "      <td>None</td>\n",
       "      <td>Unknown</td>\n",
       "      <td>Unknown</td>\n",
       "      <td>Small</td>\n",
       "      <td>1/18/2023</td>\n",
       "      <td>POINT (4228098.619 897149.301)</td>\n",
       "    </tr>\n",
       "  </tbody>\n",
       "</table>\n",
       "</div>"
      ],
      "text/plain": [
       "     Status       Comments                       Date  \\\n",
       "0  Occupied  Homeless camp  2023-01-18T22:52:35+00:00   \n",
       "\n",
       "                   Submitted_by Dogs_present Unruly_inhabitants  \\\n",
       "0  Matthew Gilliam 541-556-1784      Unknown               None   \n",
       "\n",
       "  Hazardous_materials_present Biohazards_present Size_of_encampment  \\\n",
       "0                     Unknown            Unknown              Small   \n",
       "\n",
       "    Date_str                        geometry  \n",
       "0  1/18/2023  POINT (4228098.619 897149.301)  "
      ]
     },
     "execution_count": 48,
     "metadata": {},
     "output_type": "execute_result"
    }
   ],
   "source": [
    "point"
   ]
  },
  {
   "cell_type": "code",
   "execution_count": 61,
   "id": "ebc063b7",
   "metadata": {},
   "outputs": [],
   "source": [
    "url='https://services5.arcgis.com/9s1YtFmLS0YTl10F/arcgis/rest/services/ZHomeless_Camp_Trash_Collector/FeatureServer/0/1831/attachments?f=html&token='"
   ]
  },
  {
   "cell_type": "code",
   "execution_count": 62,
   "id": "b5c3494e",
   "metadata": {},
   "outputs": [],
   "source": [
    "#open with GET method\n",
    "resp=requests.get(url)"
   ]
  },
  {
   "cell_type": "code",
   "execution_count": 64,
   "id": "7bc40807",
   "metadata": {},
   "outputs": [],
   "source": [
    "if resp.status_code==200:\n",
    "    soup=BeautifulSoup(resp.text,'html.parser')"
   ]
  },
  {
   "cell_type": "code",
   "execution_count": 66,
   "id": "3490c5e8",
   "metadata": {},
   "outputs": [],
   "source": [
    "links = []"
   ]
  },
  {
   "cell_type": "code",
   "execution_count": 67,
   "id": "1f43458e",
   "metadata": {},
   "outputs": [],
   "source": [
    "for link in soup.findAll('a'):\n",
    "    links.append(link.get('href'))"
   ]
  },
  {
   "cell_type": "code",
   "execution_count": 69,
   "id": "16778c9c",
   "metadata": {},
   "outputs": [],
   "source": [
    "attached = [link for link in links if 'attachments' in link]"
   ]
  },
  {
   "cell_type": "code",
   "execution_count": 74,
   "id": "ddd98c8d",
   "metadata": {},
   "outputs": [
    {
     "data": {
      "text/plain": [
       "list"
      ]
     },
     "execution_count": 74,
     "metadata": {},
     "output_type": "execute_result"
    }
   ],
   "source": [
    "type(attached)"
   ]
  },
  {
   "cell_type": "code",
   "execution_count": 78,
   "id": "a127dc09",
   "metadata": {},
   "outputs": [
    {
     "data": {
      "text/plain": [
       "'https://services5.arcgis.com/9s1YtFmLS0YTl10F/ArcGIS/rest/services/ZHomeless_Camp_Trash_Collector/FeatureServer/0/1831/attachments/559; https://services5.arcgis.com/9s1YtFmLS0YTl10F/ArcGIS/rest/services/ZHomeless_Camp_Trash_Collector/FeatureServer/0/1831/attachments/560; https://services5.arcgis.com/9s1YtFmLS0YTl10F/ArcGIS/rest/services/ZHomeless_Camp_Trash_Collector/FeatureServer/0/1831/attachments/561'"
      ]
     },
     "execution_count": 78,
     "metadata": {},
     "output_type": "execute_result"
    }
   ],
   "source": [
    "'; '.join(['https://services5.arcgis.com' + s for s in attached])"
   ]
  },
  {
   "cell_type": "code",
   "execution_count": 85,
   "id": "d9ecbf48",
   "metadata": {},
   "outputs": [],
   "source": [
    "datestr = points.Date.values[0].split('T')[0]"
   ]
  },
  {
   "cell_type": "code",
   "execution_count": 86,
   "id": "b94c2b17",
   "metadata": {},
   "outputs": [],
   "source": [
    "def convert_date(datestr):\n",
    "    datestrlist = datestr.split('-')\n",
    "    Y = datestrlist[0]\n",
    "    m = str(int(datestrlist[1]))\n",
    "    d = str(int(datestrlist[2]))\n",
    "    res = m+'/'+d+'/'+Y\n",
    "    return res, Y, m, d"
   ]
  },
  {
   "cell_type": "code",
   "execution_count": 43,
   "id": "6a4e30a4",
   "metadata": {},
   "outputs": [
    {
     "data": {
      "text/plain": [
       "'https://services5.arcgis.com/9s1YtFmLS0YTl10F/ArcGIS/rest/services/ZHomeless_Camp_Trash_Collector/FeatureServer/0/1832/attachments/562'"
      ]
     },
     "execution_count": 43,
     "metadata": {},
     "output_type": "execute_result"
    }
   ],
   "source": [
    "'https://services5.arcgis.com' + [link for link in links if 'attachments' in link][0] "
   ]
  },
  {
   "cell_type": "code",
   "execution_count": 4,
   "id": "11f9c383",
   "metadata": {},
   "outputs": [],
   "source": [
    "gdat = gpd.read_file(path + '\\\\MyProject4.gdb', driver='FileGDB', layer='datacopy')"
   ]
  },
  {
   "cell_type": "code",
   "execution_count": 5,
   "id": "87ce1950",
   "metadata": {
    "scrolled": true
   },
   "outputs": [
    {
     "data": {
      "text/html": [
       "<div>\n",
       "<style scoped>\n",
       "    .dataframe tbody tr th:only-of-type {\n",
       "        vertical-align: middle;\n",
       "    }\n",
       "\n",
       "    .dataframe tbody tr th {\n",
       "        vertical-align: top;\n",
       "    }\n",
       "\n",
       "    .dataframe thead th {\n",
       "        text-align: right;\n",
       "    }\n",
       "</style>\n",
       "<table border=\"1\" class=\"dataframe\">\n",
       "  <thead>\n",
       "    <tr style=\"text-align: right;\">\n",
       "      <th></th>\n",
       "      <th>Status</th>\n",
       "      <th>Comments</th>\n",
       "      <th>Date</th>\n",
       "      <th>Submitted_by</th>\n",
       "      <th>Dogs_present</th>\n",
       "      <th>Unruly_inhabitants</th>\n",
       "      <th>Hazardous_materials_present</th>\n",
       "      <th>Biohazards_present</th>\n",
       "      <th>Size_of_encampment</th>\n",
       "      <th>Date_str</th>\n",
       "      <th>geometry</th>\n",
       "    </tr>\n",
       "  </thead>\n",
       "  <tbody>\n",
       "    <tr>\n",
       "      <th>0</th>\n",
       "      <td>Abandoned</td>\n",
       "      <td>Contcated group 5/18 and gave notice.</td>\n",
       "      <td>2016-05-18T15:36:59+00:00</td>\n",
       "      <td>Youngblood</td>\n",
       "      <td>No</td>\n",
       "      <td>No</td>\n",
       "      <td>None</td>\n",
       "      <td>None</td>\n",
       "      <td>Small</td>\n",
       "      <td>5/18/2016</td>\n",
       "      <td>POINT (648676.895 837520.043)</td>\n",
       "    </tr>\n",
       "    <tr>\n",
       "      <th>1</th>\n",
       "      <td>Cleaned-up</td>\n",
       "      <td>Cleaned up 5/18.</td>\n",
       "      <td>2016-05-18T15:38:19+00:00</td>\n",
       "      <td>Youngblood</td>\n",
       "      <td>No</td>\n",
       "      <td>No</td>\n",
       "      <td>No</td>\n",
       "      <td>No</td>\n",
       "      <td>Small</td>\n",
       "      <td>5/18/2016</td>\n",
       "      <td>POINT (648704.972 837641.883)</td>\n",
       "    </tr>\n",
       "    <tr>\n",
       "      <th>2</th>\n",
       "      <td>Occupied</td>\n",
       "      <td>Notified campers 5/18.</td>\n",
       "      <td>2016-05-18T15:39:57+00:00</td>\n",
       "      <td>Youngblood</td>\n",
       "      <td>No</td>\n",
       "      <td>None</td>\n",
       "      <td>None</td>\n",
       "      <td>None</td>\n",
       "      <td>Small</td>\n",
       "      <td>5/18/2016</td>\n",
       "      <td>POINT (648423.293 837925.831)</td>\n",
       "    </tr>\n",
       "  </tbody>\n",
       "</table>\n",
       "</div>"
      ],
      "text/plain": [
       "       Status                               Comments  \\\n",
       "0   Abandoned  Contcated group 5/18 and gave notice.   \n",
       "1  Cleaned-up                       Cleaned up 5/18.   \n",
       "2    Occupied                 Notified campers 5/18.   \n",
       "\n",
       "                        Date Submitted_by Dogs_present Unruly_inhabitants  \\\n",
       "0  2016-05-18T15:36:59+00:00   Youngblood           No                 No   \n",
       "1  2016-05-18T15:38:19+00:00   Youngblood           No                 No   \n",
       "2  2016-05-18T15:39:57+00:00   Youngblood           No               None   \n",
       "\n",
       "  Hazardous_materials_present Biohazards_present Size_of_encampment  \\\n",
       "0                        None               None              Small   \n",
       "1                          No                 No              Small   \n",
       "2                        None               None              Small   \n",
       "\n",
       "    Date_str                       geometry  \n",
       "0  5/18/2016  POINT (648676.895 837520.043)  \n",
       "1  5/18/2016  POINT (648704.972 837641.883)  \n",
       "2  5/18/2016  POINT (648423.293 837925.831)  "
      ]
     },
     "execution_count": 5,
     "metadata": {},
     "output_type": "execute_result"
    }
   ],
   "source": [
    "gdat.head(3)"
   ]
  },
  {
   "cell_type": "code",
   "execution_count": 10,
   "id": "ffde2814",
   "metadata": {},
   "outputs": [
    {
     "data": {
      "text/plain": [
       "str"
      ]
     },
     "execution_count": 10,
     "metadata": {},
     "output_type": "execute_result"
    }
   ],
   "source": [
    "type(dat.Date.values[0])"
   ]
  },
  {
   "cell_type": "code",
   "execution_count": null,
   "id": "cac5e8e0",
   "metadata": {},
   "outputs": [],
   "source": []
  }
 ],
 "metadata": {
  "kernelspec": {
   "display_name": "Python 3 (ipykernel)",
   "language": "python",
   "name": "python3"
  },
  "language_info": {
   "codemirror_mode": {
    "name": "ipython",
    "version": 3
   },
   "file_extension": ".py",
   "mimetype": "text/x-python",
   "name": "python",
   "nbconvert_exporter": "python",
   "pygments_lexer": "ipython3",
   "version": "3.8.15"
  }
 },
 "nbformat": 4,
 "nbformat_minor": 5
}
