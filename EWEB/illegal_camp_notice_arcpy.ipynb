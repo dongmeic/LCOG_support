{
 "cells": [
  {
   "cell_type": "code",
   "execution_count": 1,
   "id": "f0ba6b4e",
   "metadata": {},
   "outputs": [],
   "source": [
    "import arcpy, json, os, time\n",
    "from datetime import date, datetime"
   ]
  },
  {
   "cell_type": "code",
   "execution_count": 2,
   "id": "94ddb3cc",
   "metadata": {},
   "outputs": [],
   "source": [
    "from arcgis.gis import GIS\n",
    "from arcgis.features import FeatureLayerCollection, FeatureLayer"
   ]
  },
  {
   "cell_type": "code",
   "execution_count": 3,
   "id": "94b3981c",
   "metadata": {},
   "outputs": [],
   "source": [
    "arcpy.env.overwriteOutput = True"
   ]
  },
  {
   "cell_type": "code",
   "execution_count": 4,
   "id": "efe19211",
   "metadata": {},
   "outputs": [],
   "source": [
    "camp_site = 'https://services5.arcgis.com/9s1YtFmLS0YTl10F/ArcGIS/rest/services/ZHomeless_Camp_Trash_Collector/FeatureServer/0'"
   ]
  },
  {
   "cell_type": "code",
   "execution_count": 5,
   "id": "0eb107f2",
   "metadata": {},
   "outputs": [],
   "source": [
    "field_names = [f.name for f in arcpy.ListFields(camp_site)]"
   ]
  },
  {
   "cell_type": "code",
   "execution_count": 6,
   "id": "5b388504",
   "metadata": {},
   "outputs": [
    {
     "data": {
      "text/plain": [
       "['OBJECTID',\n",
       " 'Status',\n",
       " 'Comments',\n",
       " 'Date',\n",
       " 'Submitted_by',\n",
       " 'Dogs_present',\n",
       " 'Unruly_inhabitants',\n",
       " 'Hazardous_materials_present',\n",
       " 'Biohazards_present',\n",
       " 'Size_of_encampment',\n",
       " 'GlobalID',\n",
       " 'Shape']"
      ]
     },
     "execution_count": 6,
     "metadata": {},
     "output_type": "execute_result"
    }
   ],
   "source": [
    "field_names"
   ]
  },
  {
   "cell_type": "code",
   "execution_count": 213,
   "id": "4b9f3bed",
   "metadata": {},
   "outputs": [],
   "source": [
    "flayer = gis.content.search('ZHomeless_Camp_Trash_Collector')[2]"
   ]
  },
  {
   "cell_type": "code",
   "execution_count": 7,
   "id": "41ea7da6",
   "metadata": {},
   "outputs": [],
   "source": [
    "outpath = r'G:\\projects\\UtilityDistricts\\eweb\\DrinkingWater\\IllegalCampCoordination\\Recieved'"
   ]
  },
  {
   "cell_type": "code",
   "execution_count": 8,
   "id": "f01e9365",
   "metadata": {},
   "outputs": [],
   "source": [
    "path = outpath + '\\\\IllegalCampNotification_pro'"
   ]
  },
  {
   "cell_type": "code",
   "execution_count": 9,
   "id": "fff7e5bb",
   "metadata": {},
   "outputs": [],
   "source": [
    "sdeFile = path + \"\\\\RLIDDB.sde\""
   ]
  },
  {
   "cell_type": "code",
   "execution_count": 10,
   "id": "7a7b020d",
   "metadata": {},
   "outputs": [],
   "source": [
    "conn = arcpy.CreateDatabaseConnection_management(out_folder_path=path,\n",
    "                                          out_name=\"RLIDDB.sde\",\n",
    "                                          database_platform=\"SQL_SERVER\",\n",
    "                                          instance=\"rliddb.int.lcog.org,5433\",\n",
    "                                          account_authentication=\"OPERATING_SYSTEM_AUTH\",\n",
    "                                          database=\"RLIDGeo\")"
   ]
  },
  {
   "cell_type": "code",
   "execution_count": 41,
   "id": "c4521cee",
   "metadata": {},
   "outputs": [],
   "source": [
    "if os.path.exists(sdeFile):\n",
    "    os.remove(sdeFile)"
   ]
  },
  {
   "cell_type": "code",
   "execution_count": 11,
   "id": "06b770f5",
   "metadata": {},
   "outputs": [],
   "source": [
    "arcpy.env.workspace = conn.getOutput(0)"
   ]
  },
  {
   "cell_type": "code",
   "execution_count": 12,
   "id": "9abc233c",
   "metadata": {},
   "outputs": [],
   "source": [
    "fc = \"RLIDGeo.DBO.Taxlot\""
   ]
  },
  {
   "cell_type": "code",
   "execution_count": 13,
   "id": "0974df0b",
   "metadata": {},
   "outputs": [],
   "source": [
    "listdates1 = []"
   ]
  },
  {
   "cell_type": "code",
   "execution_count": 32,
   "id": "b2e32f90",
   "metadata": {},
   "outputs": [],
   "source": [
    "cursor = arcpy.da.SearchCursor(camp_site, \"Date\")"
   ]
  },
  {
   "cell_type": "code",
   "execution_count": 33,
   "id": "bd1f7387",
   "metadata": {},
   "outputs": [],
   "source": [
    "listdates2 = []"
   ]
  },
  {
   "cell_type": "code",
   "execution_count": 34,
   "id": "fc8ec480",
   "metadata": {},
   "outputs": [],
   "source": [
    "for _date, in cursor:\n",
    "    listdates2.append(_date)"
   ]
  },
  {
   "cell_type": "code",
   "execution_count": 35,
   "id": "7f71050e",
   "metadata": {},
   "outputs": [
    {
     "data": {
      "text/plain": [
       "datetime.datetime"
      ]
     },
     "execution_count": 35,
     "metadata": {},
     "output_type": "execute_result"
    }
   ],
   "source": [
    "type(listdates2[0])"
   ]
  },
  {
   "cell_type": "code",
   "execution_count": 17,
   "id": "961e2849",
   "metadata": {},
   "outputs": [
    {
     "data": {
      "text/plain": [
       "(datetime.datetime(2016, 5, 18, 15, 37),)"
      ]
     },
     "execution_count": 17,
     "metadata": {},
     "output_type": "execute_result"
    }
   ],
   "source": [
    "listdates1[0]"
   ]
  },
  {
   "cell_type": "code",
   "execution_count": 19,
   "id": "47143dc2",
   "metadata": {},
   "outputs": [],
   "source": [
    "listdates = [dt[0] for dt in listdates1 if dt[0] is not None]"
   ]
  },
  {
   "cell_type": "code",
   "execution_count": 37,
   "id": "e6be62d6",
   "metadata": {},
   "outputs": [],
   "source": [
    "listdates = [dt for dt in listdates2 if dt is not None]"
   ]
  },
  {
   "cell_type": "code",
   "execution_count": 38,
   "id": "9bf5f7bc",
   "metadata": {},
   "outputs": [],
   "source": [
    "maxdate = max(listdates)"
   ]
  },
  {
   "cell_type": "code",
   "execution_count": 39,
   "id": "46d6dc41",
   "metadata": {},
   "outputs": [
    {
     "data": {
      "text/plain": [
       "datetime.datetime(2023, 1, 26, 21, 3, 4, 892000)"
      ]
     },
     "execution_count": 39,
     "metadata": {},
     "output_type": "execute_result"
    }
   ],
   "source": [
    "maxdate"
   ]
  },
  {
   "cell_type": "code",
   "execution_count": 29,
   "id": "2eb6a323",
   "metadata": {},
   "outputs": [],
   "source": [
    "for row in arcpy.da.SearchCursor(camp_site, [\"OBJECTID\", \"Date\"]):\n",
    "    #print(row)\n",
    "    if row[1] == maxdate:\n",
    "        selres = arcpy.SelectLayerByAttribute_management(camp_site,\n",
    "                                                         \"NEW_SELECTION\", f\"OBJECTID = {row[0]}\")"
   ]
  },
  {
   "cell_type": "code",
   "execution_count": 42,
   "id": "87993b98",
   "metadata": {},
   "outputs": [],
   "source": [
    "for _date, in cursor:\n",
    "    if _date == maxdate:\n",
    "        selres = arcpy.SelectLayerByAttribute_management(camp_site,\n",
    "                                                         \"NEW_SELECTION\", f\"Date = '{_date}'\")"
   ]
  },
  {
   "cell_type": "code",
   "execution_count": 43,
   "id": "d5368b61",
   "metadata": {},
   "outputs": [
    {
     "data": {
      "text/html": [
       "<div class='gpresult'><h2>Messages</h2><div id='messages' data-messages='[\"Start Time: Friday, January 27, 2023 2:53:14 PM\",\"Succeeded at Friday, January 27, 2023 2:53:28 PM (Elapsed Time: 14.15 seconds)\"]' data-show='true'><div id = 'default' /></div></div>"
      ],
      "text/plain": [
       "<Result 'G:\\\\projects\\\\UtilityDistricts\\\\eweb\\\\DrinkingWater\\\\IllegalCampCoordination\\\\Recieved\\\\IllegalCampNotification_pro\\\\MyProject4.gdb\\\\most_recent2'>"
      ]
     },
     "execution_count": 43,
     "metadata": {},
     "output_type": "execute_result"
    }
   ],
   "source": [
    "arcpy.management.CopyFeatures(selres, path + '\\\\MyProject4.gdb\\\\most_recent')"
   ]
  },
  {
   "cell_type": "code",
   "execution_count": 60,
   "id": "e0541d04",
   "metadata": {},
   "outputs": [],
   "source": [
    "spatialJoin = path + '\\\\MyProject4.gdb\\\\CampSite_SpatialJoin'"
   ]
  },
  {
   "cell_type": "code",
   "execution_count": 59,
   "id": "6dcfac06",
   "metadata": {},
   "outputs": [
    {
     "name": "stdout",
     "output_type": "stream",
     "text": [
      "Owner name is missing in the 1 of 1 counts\n"
     ]
    }
   ],
   "source": [
    "missing_own = [row[0] is None for row in arcpy.da.SearchCursor(spatialJoin, \"ownname\") if row[0] is None]\n",
    "res = arcpy.GetCount_management(spatialJoin)\n",
    "if any(missing_own):\n",
    "    print(f\"Owner name is missing in the {sum(missing_own)} of {res[0]} counts\")"
   ]
  },
  {
   "cell_type": "code",
   "execution_count": 61,
   "id": "3c0e2a44",
   "metadata": {},
   "outputs": [],
   "source": [
    "values = [row for row in arcpy.da.SearchCursor(spatialJoin, [\"ownname\", \"addr1\"])]"
   ]
  },
  {
   "cell_type": "code",
   "execution_count": 62,
   "id": "e0e1dc4b",
   "metadata": {},
   "outputs": [
    {
     "data": {
      "text/plain": [
       "[(None, None)]"
      ]
     },
     "execution_count": 62,
     "metadata": {},
     "output_type": "execute_result"
    }
   ],
   "source": [
    "values"
   ]
  },
  {
   "cell_type": "code",
   "execution_count": 71,
   "id": "64ac0163",
   "metadata": {},
   "outputs": [],
   "source": [
    "maxdatestr = str(maxdate)"
   ]
  },
  {
   "cell_type": "code",
   "execution_count": 216,
   "id": "1f09b05d",
   "metadata": {},
   "outputs": [
    {
     "data": {
      "text/plain": [
       "'2023-01-18 22:52:35.515000'"
      ]
     },
     "execution_count": 216,
     "metadata": {},
     "output_type": "execute_result"
    }
   ],
   "source": [
    "maxdatestr"
   ]
  },
  {
   "cell_type": "code",
   "execution_count": 219,
   "id": "dd6d93ef",
   "metadata": {},
   "outputs": [],
   "source": [
    "datestr = maxdatestr.split('.')[0].split(' ')[0]"
   ]
  },
  {
   "cell_type": "code",
   "execution_count": 81,
   "id": "04729450",
   "metadata": {},
   "outputs": [],
   "source": [
    "timestrlist = maxdatestr.split(' ')[1].split(':')"
   ]
  },
  {
   "cell_type": "code",
   "execution_count": 82,
   "id": "411633ca",
   "metadata": {},
   "outputs": [],
   "source": [
    "h = timestrlist[0]\n",
    "m = timestrlist[1]\n",
    "s = timestrlist[2].split('.')[0]"
   ]
  },
  {
   "cell_type": "code",
   "execution_count": 83,
   "id": "ebd43041",
   "metadata": {},
   "outputs": [],
   "source": [
    "def convert_hour(str_h):\n",
    "    h = int(str_h)\n",
    "    if h >= 0 and h <= 11:\n",
    "        res = [str_h, 'AM']\n",
    "    elif h == 12:\n",
    "        res = [str_h, 'PM']\n",
    "    elif h > 12 and h <=23:\n",
    "        res = [str(h-12), 'PM']\n",
    "    return res"
   ]
  },
  {
   "cell_type": "code",
   "execution_count": 86,
   "id": "90814c39",
   "metadata": {},
   "outputs": [],
   "source": [
    "cvt_h = convert_hour(h)"
   ]
  },
  {
   "cell_type": "code",
   "execution_count": 222,
   "id": "7437903d",
   "metadata": {},
   "outputs": [],
   "source": [
    "def convert_date(datestr):\n",
    "    datestrlist = datestr.split('-')\n",
    "    Y = datestrlist[0]\n",
    "    m = str(int(datestrlist[1]))\n",
    "    d = str(int(datestrlist[2]))\n",
    "    res = m+'/'+d+'/'+Y\n",
    "    return res, Y, m, d"
   ]
  },
  {
   "cell_type": "code",
   "execution_count": 226,
   "id": "ae438cf1",
   "metadata": {},
   "outputs": [],
   "source": [
    "res = convert_date(datestr)"
   ]
  },
  {
   "cell_type": "code",
   "execution_count": 227,
   "id": "bdd43ff1",
   "metadata": {},
   "outputs": [],
   "source": [
    "Y = res[1]"
   ]
  },
  {
   "cell_type": "code",
   "execution_count": 228,
   "id": "b1c01b0e",
   "metadata": {},
   "outputs": [],
   "source": [
    "m = res[2]"
   ]
  },
  {
   "cell_type": "code",
   "execution_count": 229,
   "id": "7ab2d5aa",
   "metadata": {},
   "outputs": [],
   "source": [
    "d = res[3]"
   ]
  },
  {
   "cell_type": "code",
   "execution_count": 231,
   "id": "16f1a2bc",
   "metadata": {},
   "outputs": [
    {
     "data": {
      "text/plain": [
       "'18'"
      ]
     },
     "execution_count": 231,
     "metadata": {},
     "output_type": "execute_result"
    }
   ],
   "source": [
    "d"
   ]
  },
  {
   "cell_type": "code",
   "execution_count": 232,
   "id": "4272c406",
   "metadata": {},
   "outputs": [],
   "source": [
    "outfolder = os.path.join(outpath, Y, m+'_'+d)"
   ]
  },
  {
   "cell_type": "code",
   "execution_count": 235,
   "id": "419380e5",
   "metadata": {},
   "outputs": [
    {
     "name": "stdout",
     "output_type": "stream",
     "text": [
      "No need to report!\n"
     ]
    }
   ],
   "source": [
    "if os.path.exists(outfolder):\n",
    "    print('No need to report!')"
   ]
  },
  {
   "cell_type": "code",
   "execution_count": 223,
   "id": "718daddc",
   "metadata": {},
   "outputs": [
    {
     "data": {
      "text/plain": [
       "'1/18/2023'"
      ]
     },
     "execution_count": 223,
     "metadata": {},
     "output_type": "execute_result"
    }
   ],
   "source": [
    "convert_date(datestr)[0]"
   ]
  },
  {
   "cell_type": "code",
   "execution_count": 173,
   "id": "f2fa3acd",
   "metadata": {},
   "outputs": [],
   "source": [
    "def getDateStr(date):\n",
    "    def convert_hour(str_h):\n",
    "        h = int(str_h)\n",
    "        if h >= 0 and h <= 11:\n",
    "            res = [str_h, 'AM']\n",
    "        elif h == 12:\n",
    "            res = [str_h, 'PM']\n",
    "        elif h > 12 and h <=23:\n",
    "            res = [str(h-12), 'PM']\n",
    "        return res\n",
    "    \n",
    "    if date is None:\n",
    "        res = None\n",
    "    else:\n",
    "        strdate = str(date)\n",
    "        datestr = strdate.split(' ')[0]\n",
    "        res = convert_date(datestr)\n",
    "    return res"
   ]
  },
  {
   "cell_type": "code",
   "execution_count": 96,
   "id": "9af3f0c2",
   "metadata": {},
   "outputs": [],
   "source": [
    "maxdatestr_n = convert_date(datestr) + ' '  + cvt_h[0] + ':' + m + ':' + s + ' ' + cvt_h[1]"
   ]
  },
  {
   "cell_type": "code",
   "execution_count": 97,
   "id": "88a086cd",
   "metadata": {},
   "outputs": [
    {
     "data": {
      "text/plain": [
       "'1/18/2023 10:52:35 PM'"
      ]
     },
     "execution_count": 97,
     "metadata": {},
     "output_type": "execute_result"
    }
   ],
   "source": [
    "maxdatestr_n"
   ]
  },
  {
   "cell_type": "code",
   "execution_count": 137,
   "id": "2046e3b7",
   "metadata": {},
   "outputs": [
    {
     "data": {
      "text/plain": [
       "'1/18/2023 10:52:35 PM'"
      ]
     },
     "execution_count": 137,
     "metadata": {},
     "output_type": "execute_result"
    }
   ],
   "source": [
    "getDateStr(maxdate)"
   ]
  },
  {
   "cell_type": "code",
   "execution_count": 100,
   "id": "0b58fca7",
   "metadata": {},
   "outputs": [
    {
     "data": {
      "text/plain": [
       "\"Date = '1/18/2023 10:52:35 PM'\""
      ]
     },
     "execution_count": 100,
     "metadata": {},
     "output_type": "execute_result"
    }
   ],
   "source": [
    "f\"Date = '{maxdatestr_n}'\""
   ]
  },
  {
   "cell_type": "code",
   "execution_count": 5,
   "id": "aacc0736",
   "metadata": {},
   "outputs": [],
   "source": [
    "featureclass = path + '\\\\MyProject4.gdb\\\\datacopy'"
   ]
  },
  {
   "cell_type": "code",
   "execution_count": 17,
   "id": "d5980955",
   "metadata": {},
   "outputs": [
    {
     "data": {
      "text/plain": [
       "True"
      ]
     },
     "execution_count": 17,
     "metadata": {},
     "output_type": "execute_result"
    }
   ],
   "source": [
    "arcpy.Exists(featureclass)"
   ]
  },
  {
   "cell_type": "code",
   "execution_count": 31,
   "id": "6c936e34",
   "metadata": {},
   "outputs": [],
   "source": [
    "ti_m = os.path.getmtime(path + '\\\\MyProject4.gdb')\n",
    "m_ti = time.ctime(ti_m)\n",
    "t_obj = time.strptime(m_ti)\n",
    "T_stamp = time.strftime(\"%Y-%m-%d %H:%M:%S\", t_obj)\n",
    "todaystr = str(date.today())"
   ]
  },
  {
   "cell_type": "code",
   "execution_count": 32,
   "id": "0e47743d",
   "metadata": {},
   "outputs": [
    {
     "data": {
      "text/plain": [
       "True"
      ]
     },
     "execution_count": 32,
     "metadata": {},
     "output_type": "execute_result"
    }
   ],
   "source": [
    "T_stamp.split(' ')[0] == todaystr"
   ]
  },
  {
   "cell_type": "code",
   "execution_count": 129,
   "id": "9b8125af",
   "metadata": {},
   "outputs": [
    {
     "data": {
      "text/html": [
       "<div class='gpresult'><h2>Messages</h2><div id='messages' data-messages='[\"Start Time: Thursday, January 19, 2023 3:12:28 AM\",\"Succeeded at Thursday, January 19, 2023 3:23:42 AM (Elapsed Time: 11 minutes 13 seconds)\"]' data-show='true'><div id = 'default' /></div></div>"
      ],
      "text/plain": [
       "<Result 'G:\\\\projects\\\\UtilityDistricts\\\\eweb\\\\DrinkingWater\\\\IllegalCampCoordination\\\\Recieved\\\\IllegalCampNotification_pro\\\\MyProject4.gdb\\\\datacopy'>"
      ]
     },
     "execution_count": 129,
     "metadata": {},
     "output_type": "execute_result"
    }
   ],
   "source": [
    "arcpy.management.CopyFeatures(camp_site, featureclass)"
   ]
  },
  {
   "cell_type": "code",
   "execution_count": 134,
   "id": "5ccf698c",
   "metadata": {},
   "outputs": [
    {
     "data": {
      "text/html": [
       "<div class='gpresult'><h2>Messages</h2><div id='messages' data-messages='[\"Start Time: Thursday, January 19, 2023 3:39:03 AM\",\"Adding Date_str to datacopy...\",\"Succeeded at Thursday, January 19, 2023 3:39:06 AM (Elapsed Time: 3.15 seconds)\"]' data-show='true'><div id = 'default' /></div></div>"
      ],
      "text/plain": [
       "<Result 'G:\\\\projects\\\\UtilityDistricts\\\\eweb\\\\DrinkingWater\\\\IllegalCampCoordination\\\\Recieved\\\\IllegalCampNotification_pro\\\\MyProject4.gdb\\\\datacopy'>"
      ]
     },
     "execution_count": 134,
     "metadata": {},
     "output_type": "execute_result"
    }
   ],
   "source": [
    "arcpy.management.AddFields(path + '\\\\MyProject4.gdb\\\\datacopy', [['Date_str', \"TEXT\", 'datestr', 255, '1/18/2023 10:52:35 PM', '']])"
   ]
  },
  {
   "cell_type": "code",
   "execution_count": 171,
   "id": "c05ca5dd",
   "metadata": {},
   "outputs": [],
   "source": [
    "expression = \"getDateStr(!Date!)\"\n",
    "\n",
    "codeblock = \"\"\"\n",
    "def getDateStr(date):\n",
    "    def convert_date(datestr):\n",
    "        datestrlist = datestr.split('-')\n",
    "        Y = datestrlist[0]\n",
    "        m = str(int(datestrlist[1]))\n",
    "        d = str(int(datestrlist[2]))\n",
    "        res = m+'/'+d+'/'+Y\n",
    "        return res\n",
    "\n",
    "    if date is None:\n",
    "        res = None\n",
    "    else:\n",
    "        strdate = str(date)\n",
    "        datestr = strdate.split(' ')[0]\n",
    "        res = convert_date(datestr)\n",
    "    return res\"\"\""
   ]
  },
  {
   "cell_type": "code",
   "execution_count": 172,
   "id": "bf3ae6a8",
   "metadata": {},
   "outputs": [
    {
     "data": {
      "text/html": [
       "<div class='gpresult'><h2>Messages</h2><div id='messages' data-messages='[\"Start Time: Thursday, January 19, 2023 4:16:34 AM\",\"Succeeded at Thursday, January 19, 2023 4:16:35 AM (Elapsed Time: 0.97 seconds)\"]' data-show='true'><div id = 'default' /></div></div>"
      ],
      "text/plain": [
       "<Result 'G:\\\\projects\\\\UtilityDistricts\\\\eweb\\\\DrinkingWater\\\\IllegalCampCoordination\\\\Recieved\\\\IllegalCampNotification_pro\\\\MyProject4.gdb\\\\datacopy'>"
      ]
     },
     "execution_count": 172,
     "metadata": {},
     "output_type": "execute_result"
    }
   ],
   "source": [
    "arcpy.management.CalculateField(path + '\\\\MyProject4.gdb\\\\datacopy', 'Date_str',  expression, \"PYTHON3\", \n",
    "                                codeblock)"
   ]
  },
  {
   "cell_type": "code",
   "execution_count": 165,
   "id": "b0f7c4c2",
   "metadata": {},
   "outputs": [
    {
     "data": {
      "text/plain": [
       "'1/18/2023 10:52:35 PM'"
      ]
     },
     "execution_count": 165,
     "metadata": {},
     "output_type": "execute_result"
    }
   ],
   "source": [
    "maxdatestr_n"
   ]
  },
  {
   "cell_type": "code",
   "execution_count": 169,
   "id": "83a55e81",
   "metadata": {},
   "outputs": [
    {
     "data": {
      "text/plain": [
       "datetime.datetime(2023, 1, 18, 22, 52, 35, 515000)"
      ]
     },
     "execution_count": 169,
     "metadata": {},
     "output_type": "execute_result"
    }
   ],
   "source": [
    "maxdate"
   ]
  },
  {
   "cell_type": "code",
   "execution_count": 174,
   "id": "e60caa2f",
   "metadata": {},
   "outputs": [
    {
     "data": {
      "text/plain": [
       "'1/18/2023'"
      ]
     },
     "execution_count": 174,
     "metadata": {},
     "output_type": "execute_result"
    }
   ],
   "source": [
    "getDateStr(maxdate)"
   ]
  },
  {
   "cell_type": "code",
   "execution_count": 175,
   "id": "8f93fdf1",
   "metadata": {},
   "outputs": [],
   "source": [
    "selres = arcpy.SelectLayerByAttribute_management(path + '\\\\MyProject4.gdb\\\\datacopy',\n",
    "                                                 \"NEW_SELECTION\", f\"Date_str = '{getDateStr(maxdate)}'\")"
   ]
  },
  {
   "cell_type": "code",
   "execution_count": 176,
   "id": "61adf3f3",
   "metadata": {},
   "outputs": [
    {
     "name": "stdout",
     "output_type": "stream",
     "text": [
      "datacopy_Layer5\n"
     ]
    }
   ],
   "source": [
    "print(selres)"
   ]
  },
  {
   "cell_type": "code",
   "execution_count": 177,
   "id": "523aad0f",
   "metadata": {},
   "outputs": [
    {
     "data": {
      "text/html": [
       "<div class='gpresult'><h2>Messages</h2><div id='messages' data-messages='[\"Start Time: Thursday, January 19, 2023 4:17:54 AM\",\"Succeeded at Thursday, January 19, 2023 4:18:11 AM (Elapsed Time: 16.78 seconds)\"]' data-show='true'><div id = 'default' /></div></div>"
      ],
      "text/plain": [
       "<Result 'G:\\\\projects\\\\UtilityDistricts\\\\eweb\\\\DrinkingWater\\\\IllegalCampCoordination\\\\Recieved\\\\IllegalCampNotification_pro\\\\MyProject4.gdb\\\\most_recent'>"
      ]
     },
     "execution_count": 177,
     "metadata": {},
     "output_type": "execute_result"
    }
   ],
   "source": [
    "arcpy.management.CopyFeatures(selres, path + '\\\\MyProject4.gdb\\\\most_recent')"
   ]
  },
  {
   "cell_type": "code",
   "execution_count": 240,
   "id": "fa683f46",
   "metadata": {},
   "outputs": [
    {
     "data": {
      "text/html": [
       "<div class='gpresult'><h2>Messages</h2><div id='messages' data-messages='[\"Start Time: Tuesday, January 24, 2023 9:31:17 PM\",\"Succeeded at Tuesday, January 24, 2023 9:31:42 PM (Elapsed Time: 24.77 seconds)\"]' data-show='true'><div id = 'default' /></div></div>"
      ],
      "text/plain": [
       "<Result 'G:\\\\projects\\\\UtilityDistricts\\\\eweb\\\\DrinkingWater\\\\IllegalCampCoordination\\\\Recieved\\\\IllegalCampNotification_pro\\\\MyProject4.gdb\\\\HomelessCampSite_SpatialJoin14c'>"
      ]
     },
     "execution_count": 240,
     "metadata": {},
     "output_type": "execute_result"
    }
   ],
   "source": [
    "arcpy.analysis.SpatialJoin(selres, fc, path + '\\\\MyProject4.gdb\\\\HomelessCampSite_SpatialJoin14c', \"JOIN_ONE_TO_ONE\", \"KEEP_ALL\",'Status \"Status\" true true false 50 Text 0 0,First,#,Homeless Camp Site,Status,0,50;Comments \"Comments\" true true false 500 Text 0 0,First,#,Homeless Camp Site,Comments,0,500;Date \"Date\" true true false 8 Date 0 0,First,#,Homeless Camp Site,Date,-1,-1;Submitted_by \"Submitted By\" true true false 50 Text 0 0,First,#,Homeless Camp Site,Submitted_by,0,50;Dogs_present \"Dogs present\" true true false 50 Text 0 0,First,#,Homeless Camp Site,Dogs_present,0,50;Unruly_inhabitants \"Unruly inhabitants\" true true false 50 Text 0 0,First,#,Homeless Camp Site,Unruly_inhabitants,0,50;Hazardous_materials_present \"Hazardous materials present\" true true false 50 Text 0 0,First,#,Homeless Camp Site,Hazardous_materials_present,0,50;Biohazards_present \"Biohazards present\" true true false 50 Text 0 0,First,#,Homeless Camp Site,Biohazards_present,0,50;Size_of_encampment \"Size of encampment\" true true false 50 Text 0 0,First,#,Homeless Camp Site,Size_of_encampment,0,50;GlobalID \"GlobalID\" false false true 38 GlobalID 0 0,First,#,Homeless Camp Site,GlobalID,-1,-1;maptaxlot_hyphen \"maptaxlot_hyphen\" true true false 17 Text 0 0,First,#,Lane County Taxlots,maptaxlot_hyphen,0,17;ownname \"ownname\" true true false 128 Text 0 0,First,#,Lane County Taxlots,ownname,0,128;addr1 \"addr1\" true true false 64 Text 0 0,First,#,Lane County Taxlots,addr1,0,64;ownercity \"ownercity\" true true false 40 Text 0 0,First,#,Lane County Taxlots,ownercity,0,40;ownerprvst \"ownerprvst\" true true false 30 Text 0 0,First,#,Lane County Taxlots,ownerprvst,0,30;ownerzip \"ownerzip\" true true false 10 Text 0 0,First,#,Lane County Taxlots,ownerzip,0,10;geocity_name \"geocity_name\" true true false 32 Text 0 0,First,#,Lane County Taxlots,geocity_name,0,32;ugb_name \"ugb_name\" true true false 32 Text 0 0,First,#,Lane County Taxlots,ugb_name,0,32;longitude \"longitude\" true true false 8 Double 8 38,First,#,Lane County Taxlots,longitude,-1,-1;latitude \"latitude\" true true false 8 Double 8 38,First,#,Lane County Taxlots,latitude,-1,-1', \"INTERSECT\", None, '')"
   ]
  },
  {
   "cell_type": "code",
   "execution_count": 242,
   "id": "dffded0c",
   "metadata": {},
   "outputs": [
    {
     "data": {
      "text/html": [
       "<div class='gpresult'><h2>Messages</h2><div id='messages' data-messages='[\"Start Time: Tuesday, January 24, 2023 9:32:08 PM\",\"Succeeded at Tuesday, January 24, 2023 9:32:11 PM (Elapsed Time: 3.54 seconds)\"]' data-show='true'><div id = 'default' /></div></div>"
      ],
      "text/plain": [
       "<Result 'G:\\\\projects\\\\UtilityDistricts\\\\eweb\\\\DrinkingWater\\\\IllegalCampCoordination\\\\Recieved\\\\IllegalCampNotification_pro\\\\most_recent.xlsx'>"
      ]
     },
     "execution_count": 242,
     "metadata": {},
     "output_type": "execute_result"
    }
   ],
   "source": [
    "arcpy.conversion.TableToExcel(path + '\\\\MyProject4.gdb\\\\HomelessCampSite_SpatialJoin14c', path+'\\\\most_recent.xlsx')"
   ]
  }
 ],
 "metadata": {
  "kernelspec": {
   "display_name": "Python 3",
   "language": "python",
   "name": "python3"
  },
  "language_info": {
   "codemirror_mode": {
    "name": "ipython",
    "version": 3
   },
   "file_extension": ".py",
   "mimetype": "text/x-python",
   "name": "python",
   "nbconvert_exporter": "python",
   "pygments_lexer": "ipython3",
   "version": "3.9.11"
  }
 },
 "nbformat": 4,
 "nbformat_minor": 5
}
