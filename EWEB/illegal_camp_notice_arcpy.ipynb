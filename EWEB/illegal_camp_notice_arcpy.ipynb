{
 "cells": [
  {
   "cell_type": "code",
   "execution_count": 68,
   "id": "79a48920",
   "metadata": {
    "scrolled": true
   },
   "outputs": [
    {
     "name": "stdout",
     "output_type": "stream",
     "text": [
      "Making the report...\n",
      "Folder already exists but missing the file...\n",
      "Selected the most recent data...\n",
      "Completed a spatial join with taxlot...\n",
      "Owner name is missing in the 1 of 1 counts\n",
      "Updated nearby owner name and address...\n",
      "Exported the join table...\n"
     ]
    }
   ],
   "source": [
    "import arcpy, os\n",
    "from datetime import datetime, date\n",
    "from homeless import *\n",
    "import time\n",
    "\n",
    "arcpy.env.overwriteOutput = True\n",
    "\n",
    "outpath = r'G:\\projects\\UtilityDistricts\\eweb\\DrinkingWater\\IllegalCampCoordination\\Recieved'\n",
    "path = outpath + '\\\\IllegalCampNotification_pro'\n",
    "camp_site = 'https://services5.arcgis.com/9s1YtFmLS0YTl10F/ArcGIS/rest/services/ZHomeless_Camp_Trash_Collector/FeatureServer/0'\n",
    "\n",
    "# get the most recent date\n",
    "listdates1 = []\n",
    "cursor = arcpy.da.SearchCursor(camp_site, \"Date\")\n",
    "for row in cursor:\n",
    "    listdates1.append(row)\n",
    "\n",
    "listdates = [dt[0] for dt in listdates1 if dt[0] is not None]    \n",
    "maxdate = max(listdates)\n",
    "\n",
    "# check whether there is a need to report\n",
    "maxdatestr = str(maxdate)\n",
    "datestr = maxdatestr.split('.')[0].split(' ')[0]\n",
    "res = convert_date(datestr)\n",
    "Y = res[1]\n",
    "m = res[2]\n",
    "d = res[3]\n",
    "outfolder = os.path.join(outpath, Y, m+'_'+d)\n",
    "outfolder_yr = os.path.join(outpath, Y)\n",
    "filename = 'IllegalCampNotice_'+m+'_'+d+'_'+Y[2:4]+'.xlsx'\n",
    "file = os.path.join(outfolder, filename)\n",
    "\n",
    "if os.path.exists(outfolder) & os.path.exists(file):\n",
    "    print('No need to report!')\n",
    "    # get current date and time\n",
    "    current_datetime = datetime.now()\n",
    "    print(\"Current date & time : \", current_datetime)\n",
    "\n",
    "    # convert datetime obj to string\n",
    "    str_current_datetime = str(current_datetime)\n",
    "\n",
    "    # create a file object along with extension\n",
    "    file_name = str_current_datetime.split(' ')[0].replace('-', '') +\".txt\"\n",
    "    file = open(file_name, 'w')\n",
    "\n",
    "    print(\"File created : \", file.name)\n",
    "    file.close()\n",
    "    \n",
    "else:\n",
    "    print('Making the report...')\n",
    "    if not os.path.exists(outfolder_yr):\n",
    "        os.makedirs(outfolder_yr)\n",
    "        print('Created the new Year folder...')\n",
    "    elif not os.path.exists(outfolder):\n",
    "        os.makedirs(outfolder)\n",
    "        print('Created the new folder...')\n",
    "    else:\n",
    "        print('Folder already exists but missing the file...')\n",
    "    \n",
    "    for _date, in cursor:\n",
    "        if _date == maxdate:\n",
    "            selres = arcpy.SelectLayerByAttribute_management(camp_site,\n",
    "                                                             \"NEW_SELECTION\", f\"Date = '{_date}'\")\n",
    "            \n",
    "            \n",
    "    arcpy.management.CopyFeatures(selres, path + '\\\\MyProject4.gdb\\\\most_recent')\n",
    "    print('Selected the most recent data...')\n",
    "    \n",
    "    sdeFile = path + \"\\\\RLIDDB.sde\"\n",
    "\n",
    "    if os.path.exists(sdeFile):\n",
    "        os.remove(sdeFile)\n",
    "\n",
    "    # connect to RLIDGeo to get taxlot data\n",
    "    conn = arcpy.CreateDatabaseConnection_management(out_folder_path=path,\n",
    "                                              out_name=\"RLIDDB.sde\",\n",
    "                                              database_platform=\"SQL_SERVER\",\n",
    "                                              instance=\"rliddb.int.lcog.org,5433\",\n",
    "                                              account_authentication=\"OPERATING_SYSTEM_AUTH\",\n",
    "                                              database=\"RLIDGeo\")\n",
    "\n",
    "    arcpy.env.workspace = conn.getOutput(0)\n",
    "    fc = \"RLIDGeo.DBO.Taxlot\"\n",
    "    \n",
    "    spatialJoin = path + '\\\\MyProject4.gdb\\\\HomelessCampSite_SpatialJoin'\n",
    "    \n",
    "    arcpy.analysis.SpatialJoin(selres, fc, spatialJoin, \"JOIN_ONE_TO_ONE\", \"KEEP_ALL\",'Status \"Status\" true true false 50 Text 0 0,First,#,Homeless Camp Site,Status,0,50;Comments \"Comments\" true true false 500 Text 0 0,First,#,Homeless Camp Site,Comments,0,500;Date \"Date\" true true false 8 Date 0 0,First,#,Homeless Camp Site,Date,-1,-1;Submitted_by \"Submitted By\" true true false 50 Text 0 0,First,#,Homeless Camp Site,Submitted_by,0,50;Dogs_present \"Dogs present\" true true false 50 Text 0 0,First,#,Homeless Camp Site,Dogs_present,0,50;Unruly_inhabitants \"Unruly inhabitants\" true true false 50 Text 0 0,First,#,Homeless Camp Site,Unruly_inhabitants,0,50;Hazardous_materials_present \"Hazardous materials present\" true true false 50 Text 0 0,First,#,Homeless Camp Site,Hazardous_materials_present,0,50;Biohazards_present \"Biohazards present\" true true false 50 Text 0 0,First,#,Homeless Camp Site,Biohazards_present,0,50;Size_of_encampment \"Size of encampment\" true true false 50 Text 0 0,First,#,Homeless Camp Site,Size_of_encampment,0,50;GlobalID \"GlobalID\" false false true 38 GlobalID 0 0,First,#,Homeless Camp Site,GlobalID,-1,-1;maptaxlot_hyphen \"maptaxlot_hyphen\" true true false 17 Text 0 0,First,#,Lane County Taxlots,maptaxlot_hyphen,0,17;ownname \"ownname\" true true false 128 Text 0 0,First,#,Lane County Taxlots,ownname,0,128;addr1 \"addr1\" true true false 64 Text 0 0,First,#,Lane County Taxlots,addr1,0,64;ownercity \"ownercity\" true true false 40 Text 0 0,First,#,Lane County Taxlots,ownercity,0,40;ownerprvst \"ownerprvst\" true true false 30 Text 0 0,First,#,Lane County Taxlots,ownerprvst,0,30;ownerzip \"ownerzip\" true true false 10 Text 0 0,First,#,Lane County Taxlots,ownerzip,0,10;geocity_name \"geocity_name\" true true false 32 Text 0 0,First,#,Lane County Taxlots,geocity_name,0,32;ugb_name \"ugb_name\" true true false 32 Text 0 0,First,#,Lane County Taxlots,ugb_name,0,32;longitude \"longitude\" true true false 8 Double 8 38,First,#,Lane County Taxlots,longitude,-1,-1;latitude \"latitude\" true true false 8 Double 8 38,First,#,Lane County Taxlots,latitude,-1,-1', \"INTERSECT\", None, '')\n",
    "    \n",
    "    print('Completed a spatial join with taxlot...')\n",
    "    \n",
    "    field_names = [f.name for f in arcpy.ListFields(spatialJoin)]\n",
    "    newfields = [\"Nearby_owner\", \"Nearby_owner_address\"]\n",
    "    missing_own = [row[0] is None for row in arcpy.da.SearchCursor(spatialJoin, \"ownname\") if row[0] is None]\n",
    "    res = arcpy.GetCount_management(spatialJoin)\n",
    "    if any(missing_own):\n",
    "        print(f\"Owner name is missing in the {sum(missing_own)} of {res[0]} counts\")\n",
    "        for newfield in newfields:\n",
    "            if newfield not in field_names:\n",
    "                arcpy.management.AddField(spatialJoin, newfield, \"TEXT\", 255)\n",
    "    \n",
    "        with arcpy.da.UpdateCursor(spatialJoin, [\"ownname\", 'Nearby_owner', 'Nearby_owner_address']) as cursor:\n",
    "            if row[0] is None:\n",
    "                selres2 = arcpy.management.SelectLayerByAttribute(spatialJoin, \"NEW_SELECTION\", \"ownname IS NULL\", None)\n",
    "                taxlots_w_ownernm = arcpy.management.SelectLayerByAttribute(fc, \"NEW_SELECTION\", \"ownname IS NOT NULL\", None)\n",
    "                spatialJoin2 = path + '\\\\MyProject4.gdb\\\\CampSite_SpatialJoin'\n",
    "                arcpy.analysis.SpatialJoin(selres2, taxlots_w_ownernm, spatialJoin2, \"JOIN_ONE_TO_ONE\", \"KEEP_ALL\", 'Join_Count \"Join_Count\" true true false 4 Long 0 0,First,#,Camp Site,Join_Count,-1,-1;TARGET_FID \"TARGET_FID\" true true false 4 Long 0 0,First,#,Camp Site,TARGET_FID,-1,-1;Status \"Status\" true true false 50 Text 0 0,First,#,Camp Site,Status,0,50;Comments \"Comments\" true true false 500 Text 0 0,First,#,Camp Site,Comments,0,500;Date \"Date\" true true false 8 Date 0 0,First,#,Camp Site,Date,-1,-1;Submitted_by \"Submitted By\" true true false 50 Text 0 0,First,#,Camp Site,Submitted_by,0,50;Dogs_present \"Dogs present\" true true false 50 Text 0 0,First,#,Camp Site,Dogs_present,0,50;Unruly_inhabitants \"Unruly inhabitants\" true true false 50 Text 0 0,First,#,Camp Site,Unruly_inhabitants,0,50;Hazardous_materials_present \"Hazardous materials present\" true true false 50 Text 0 0,First,#,Camp Site,Hazardous_materials_present,0,50;Biohazards_present \"Biohazards present\" true true false 50 Text 0 0,First,#,Camp Site,Biohazards_present,0,50;Size_of_encampment \"Size of encampment\" true true false 50 Text 0 0,First,#,Camp Site,Size_of_encampment,0,50;maptaxlot_hyphen \"maptaxlot_hyphen\" true true false 17 Text 0 0,First,#,Camp Site,maptaxlot_hyphen,0,17;ownname \"ownname\" true true false 128 Text 0 0,First,#,Camp Site,ownname,0,128;addr1 \"addr1\" true true false 64 Text 0 0,First,#,Camp Site,addr1,0,64;ownercity \"ownercity\" true true false 40 Text 0 0,First,#,Camp Site,ownercity,0,40;ownerprvst \"ownerprvst\" true true false 30 Text 0 0,First,#,Camp Site,ownerprvst,0,30;ownerzip \"ownerzip\" true true false 10 Text 0 0,First,#,Camp Site,ownerzip,0,10;geocity_name \"geocity_name\" true true false 32 Text 0 0,First,#,Camp Site,geocity_name,0,32;ugb_name \"ugb_name\" true true false 32 Text 0 0,First,#,Camp Site,ugb_name,0,32;longitude \"longitude\" true true false 8 Double 0 0,First,#,Camp Site,longitude,-1,-1;latitude \"latitude\" true true false 8 Double 0 0,First,#,Camp Site,latitude,-1,-1;maptaxlot_hyphen_1 \"maptaxlot_hyphen\" true true false 17 Text 0 0,First,#,Taxlots,maptaxlot_hyphen,0,17;ownname_1 \"ownname\" true true false 128 Text 0 0,First,#,Taxlots,ownname,0,128;addr1_1 \"addr1\" true true false 64 Text 0 0,First,#,Taxlots,addr1,0,64;ownercity_1 \"ownercity\" true true false 40 Text 0 0,First,#,Taxlots,ownercity,0,40;ownerprvst_1 \"ownerprvst\" true true false 30 Text 0 0,First,#,Taxlots,ownerprvst,0,30;ownerzip_1 \"ownerzip\" true true false 10 Text 0 0,First,#,Taxlots,ownerzip,0,10;geocity_name_1 \"geocity_name\" true true false 32 Text 0 0,First,#,Taxlots,geocity_name,0,32;ugb_name_1 \"ugb_name\" true true false 32 Text 0 0,First,#,Taxlots,ugb_name,0,32;longitude_1 \"longitude\" true true false 8 Double 8 38,First,#,Taxlots,longitude,-1,-1;latitude_1 \"latitude\" true true false 8 Double 8 38,First,#,Taxlots,latitude,-1,-1', \"CLOSEST\", None, '')\n",
    "                values = [rowv for rowv in arcpy.da.SearchCursor(spatialJoin2, [\"ownname\", \"addr1\"])]\n",
    "                row[1] = values[0]\n",
    "                row[2] = values[1]\n",
    "                cursor.updateRow(row)\n",
    "            print(\"Updated nearby owner name and address...\")\n",
    "             \n",
    "    arcpy.conversion.TableToExcel(spatialJoin, path+'\\\\most_recent.xlsx')\n",
    "    \n",
    "    print('Exported the join table...')"
   ]
  },
  {
   "cell_type": "code",
   "execution_count": 67,
   "id": "9d52689b",
   "metadata": {},
   "outputs": [
    {
     "data": {
      "text/plain": [
       "['OBJECTID',\n",
       " 'Shape',\n",
       " 'Join_Count',\n",
       " 'TARGET_FID',\n",
       " 'Status',\n",
       " 'Comments',\n",
       " 'Date',\n",
       " 'Submitted_by',\n",
       " 'Dogs_present',\n",
       " 'Unruly_inhabitants',\n",
       " 'Hazardous_materials_present',\n",
       " 'Biohazards_present',\n",
       " 'Size_of_encampment',\n",
       " 'maptaxlot_hyphen',\n",
       " 'ownname',\n",
       " 'addr1',\n",
       " 'ownercity',\n",
       " 'ownerprvst',\n",
       " 'ownerzip',\n",
       " 'geocity_name',\n",
       " 'ugb_name',\n",
       " 'longitude',\n",
       " 'latitude',\n",
       " 'Nearby_owner',\n",
       " 'Nearby_owner_address']"
      ]
     },
     "execution_count": 67,
     "metadata": {},
     "output_type": "execute_result"
    }
   ],
   "source": [
    "[f.name for f in arcpy.ListFields(spatialJoin)]"
   ]
  },
  {
   "cell_type": "code",
   "execution_count": 1,
   "id": "261b0926",
   "metadata": {},
   "outputs": [],
   "source": [
    "import arcpy, json, os, time\n",
    "from datetime import date, datetime"
   ]
  },
  {
   "cell_type": "code",
   "execution_count": 2,
   "id": "7b3f3d3a",
   "metadata": {},
   "outputs": [],
   "source": [
    "from arcgis.gis import GIS\n",
    "from arcgis.features import FeatureLayerCollection, FeatureLayer"
   ]
  },
  {
   "cell_type": "code",
   "execution_count": 3,
   "id": "5388702b",
   "metadata": {},
   "outputs": [],
   "source": [
    "arcpy.env.overwriteOutput = True"
   ]
  },
  {
   "cell_type": "code",
   "execution_count": 4,
   "id": "715cb731",
   "metadata": {},
   "outputs": [],
   "source": [
    "camp_site = 'https://services5.arcgis.com/9s1YtFmLS0YTl10F/ArcGIS/rest/services/ZHomeless_Camp_Trash_Collector/FeatureServer/0'"
   ]
  },
  {
   "cell_type": "code",
   "execution_count": 5,
   "id": "c504e314",
   "metadata": {},
   "outputs": [],
   "source": [
    "field_names = [f.name for f in arcpy.ListFields(camp_site)]"
   ]
  },
  {
   "cell_type": "code",
   "execution_count": 6,
   "id": "0c021403",
   "metadata": {},
   "outputs": [
    {
     "data": {
      "text/plain": [
       "['OBJECTID',\n",
       " 'Status',\n",
       " 'Comments',\n",
       " 'Date',\n",
       " 'Submitted_by',\n",
       " 'Dogs_present',\n",
       " 'Unruly_inhabitants',\n",
       " 'Hazardous_materials_present',\n",
       " 'Biohazards_present',\n",
       " 'Size_of_encampment',\n",
       " 'GlobalID',\n",
       " 'Shape']"
      ]
     },
     "execution_count": 6,
     "metadata": {},
     "output_type": "execute_result"
    }
   ],
   "source": [
    "field_names"
   ]
  },
  {
   "cell_type": "code",
   "execution_count": 213,
   "id": "977baad1",
   "metadata": {},
   "outputs": [],
   "source": [
    "flayer = gis.content.search('ZHomeless_Camp_Trash_Collector')[2]"
   ]
  },
  {
   "cell_type": "code",
   "execution_count": 7,
   "id": "a57368f7",
   "metadata": {},
   "outputs": [],
   "source": [
    "outpath = r'G:\\projects\\UtilityDistricts\\eweb\\DrinkingWater\\IllegalCampCoordination\\Recieved'"
   ]
  },
  {
   "cell_type": "code",
   "execution_count": 8,
   "id": "b744142b",
   "metadata": {},
   "outputs": [],
   "source": [
    "path = outpath + '\\\\IllegalCampNotification_pro'"
   ]
  },
  {
   "cell_type": "code",
   "execution_count": 9,
   "id": "0ffa9b70",
   "metadata": {},
   "outputs": [],
   "source": [
    "sdeFile = path + \"\\\\RLIDDB.sde\""
   ]
  },
  {
   "cell_type": "code",
   "execution_count": 10,
   "id": "be8e5061",
   "metadata": {},
   "outputs": [],
   "source": [
    "conn = arcpy.CreateDatabaseConnection_management(out_folder_path=path,\n",
    "                                          out_name=\"RLIDDB.sde\",\n",
    "                                          database_platform=\"SQL_SERVER\",\n",
    "                                          instance=\"rliddb.int.lcog.org,5433\",\n",
    "                                          account_authentication=\"OPERATING_SYSTEM_AUTH\",\n",
    "                                          database=\"RLIDGeo\")"
   ]
  },
  {
   "cell_type": "code",
   "execution_count": 41,
   "id": "3b1d6388",
   "metadata": {},
   "outputs": [],
   "source": [
    "if os.path.exists(sdeFile):\n",
    "    os.remove(sdeFile)"
   ]
  },
  {
   "cell_type": "code",
   "execution_count": 11,
   "id": "29881155",
   "metadata": {},
   "outputs": [],
   "source": [
    "arcpy.env.workspace = conn.getOutput(0)"
   ]
  },
  {
   "cell_type": "code",
   "execution_count": 12,
   "id": "b90fcf3d",
   "metadata": {},
   "outputs": [],
   "source": [
    "fc = \"RLIDGeo.DBO.Taxlot\""
   ]
  },
  {
   "cell_type": "code",
   "execution_count": 13,
   "id": "f531ff3a",
   "metadata": {},
   "outputs": [],
   "source": [
    "listdates1 = []"
   ]
  },
  {
   "cell_type": "code",
   "execution_count": 32,
   "id": "99607d54",
   "metadata": {},
   "outputs": [],
   "source": [
    "cursor = arcpy.da.SearchCursor(camp_site, \"Date\")"
   ]
  },
  {
   "cell_type": "code",
   "execution_count": 33,
   "id": "21c383ee",
   "metadata": {},
   "outputs": [],
   "source": [
    "listdates2 = []"
   ]
  },
  {
   "cell_type": "code",
   "execution_count": 34,
   "id": "f7eb4538",
   "metadata": {},
   "outputs": [],
   "source": [
    "for _date, in cursor:\n",
    "    listdates2.append(_date)"
   ]
  },
  {
   "cell_type": "code",
   "execution_count": 35,
   "id": "c657c7cd",
   "metadata": {},
   "outputs": [
    {
     "data": {
      "text/plain": [
       "datetime.datetime"
      ]
     },
     "execution_count": 35,
     "metadata": {},
     "output_type": "execute_result"
    }
   ],
   "source": [
    "type(listdates2[0])"
   ]
  },
  {
   "cell_type": "code",
   "execution_count": 17,
   "id": "f275e8df",
   "metadata": {},
   "outputs": [
    {
     "data": {
      "text/plain": [
       "(datetime.datetime(2016, 5, 18, 15, 37),)"
      ]
     },
     "execution_count": 17,
     "metadata": {},
     "output_type": "execute_result"
    }
   ],
   "source": [
    "listdates1[0]"
   ]
  },
  {
   "cell_type": "code",
   "execution_count": 19,
   "id": "be444f55",
   "metadata": {},
   "outputs": [],
   "source": [
    "listdates = [dt[0] for dt in listdates1 if dt[0] is not None]"
   ]
  },
  {
   "cell_type": "code",
   "execution_count": 37,
   "id": "b0ea62e0",
   "metadata": {},
   "outputs": [],
   "source": [
    "listdates = [dt for dt in listdates2 if dt is not None]"
   ]
  },
  {
   "cell_type": "code",
   "execution_count": 38,
   "id": "c64577b5",
   "metadata": {},
   "outputs": [],
   "source": [
    "maxdate = max(listdates)"
   ]
  },
  {
   "cell_type": "code",
   "execution_count": 39,
   "id": "4f00b478",
   "metadata": {},
   "outputs": [
    {
     "data": {
      "text/plain": [
       "datetime.datetime(2023, 1, 26, 21, 3, 4, 892000)"
      ]
     },
     "execution_count": 39,
     "metadata": {},
     "output_type": "execute_result"
    }
   ],
   "source": [
    "maxdate"
   ]
  },
  {
   "cell_type": "code",
   "execution_count": 29,
   "id": "cea78f5e",
   "metadata": {},
   "outputs": [],
   "source": [
    "for row in arcpy.da.SearchCursor(camp_site, [\"OBJECTID\", \"Date\"]):\n",
    "    #print(row)\n",
    "    if row[1] == maxdate:\n",
    "        selres = arcpy.SelectLayerByAttribute_management(camp_site,\n",
    "                                                         \"NEW_SELECTION\", f\"OBJECTID = {row[0]}\")"
   ]
  },
  {
   "cell_type": "code",
   "execution_count": 42,
   "id": "d070ae9f",
   "metadata": {},
   "outputs": [],
   "source": [
    "for _date, in cursor:\n",
    "    if _date == maxdate:\n",
    "        selres = arcpy.SelectLayerByAttribute_management(camp_site,\n",
    "                                                         \"NEW_SELECTION\", f\"Date = '{_date}'\")"
   ]
  },
  {
   "cell_type": "code",
   "execution_count": 43,
   "id": "44ccb144",
   "metadata": {},
   "outputs": [
    {
     "data": {
      "text/html": [
       "<div class='gpresult'><h2>Messages</h2><div id='messages' data-messages='[\"Start Time: Friday, January 27, 2023 2:53:14 PM\",\"Succeeded at Friday, January 27, 2023 2:53:28 PM (Elapsed Time: 14.15 seconds)\"]' data-show='true'><div id = 'default' /></div></div>"
      ],
      "text/plain": [
       "<Result 'G:\\\\projects\\\\UtilityDistricts\\\\eweb\\\\DrinkingWater\\\\IllegalCampCoordination\\\\Recieved\\\\IllegalCampNotification_pro\\\\MyProject4.gdb\\\\most_recent2'>"
      ]
     },
     "execution_count": 43,
     "metadata": {},
     "output_type": "execute_result"
    }
   ],
   "source": [
    "arcpy.management.CopyFeatures(selres, path + '\\\\MyProject4.gdb\\\\most_recent')"
   ]
  },
  {
   "cell_type": "code",
   "execution_count": 60,
   "id": "7418454f",
   "metadata": {},
   "outputs": [],
   "source": [
    "spatialJoin = path + '\\\\MyProject4.gdb\\\\CampSite_SpatialJoin'"
   ]
  },
  {
   "cell_type": "code",
   "execution_count": 59,
   "id": "42f6c0ce",
   "metadata": {},
   "outputs": [
    {
     "name": "stdout",
     "output_type": "stream",
     "text": [
      "Owner name is missing in the 1 of 1 counts\n"
     ]
    }
   ],
   "source": [
    "missing_own = [row[0] is None for row in arcpy.da.SearchCursor(spatialJoin, \"ownname\") if row[0] is None]\n",
    "res = arcpy.GetCount_management(spatialJoin)\n",
    "if any(missing_own):\n",
    "    print(f\"Owner name is missing in the {sum(missing_own)} of {res[0]} counts\")"
   ]
  },
  {
   "cell_type": "code",
   "execution_count": 61,
   "id": "81245988",
   "metadata": {},
   "outputs": [],
   "source": [
    "values = [row for row in arcpy.da.SearchCursor(spatialJoin, [\"ownname\", \"addr1\"])]"
   ]
  },
  {
   "cell_type": "code",
   "execution_count": 62,
   "id": "3e9b176e",
   "metadata": {},
   "outputs": [
    {
     "data": {
      "text/plain": [
       "[(None, None)]"
      ]
     },
     "execution_count": 62,
     "metadata": {},
     "output_type": "execute_result"
    }
   ],
   "source": [
    "values"
   ]
  },
  {
   "cell_type": "code",
   "execution_count": 71,
   "id": "5b35b458",
   "metadata": {},
   "outputs": [],
   "source": [
    "maxdatestr = str(maxdate)"
   ]
  },
  {
   "cell_type": "code",
   "execution_count": 216,
   "id": "5318e43b",
   "metadata": {},
   "outputs": [
    {
     "data": {
      "text/plain": [
       "'2023-01-18 22:52:35.515000'"
      ]
     },
     "execution_count": 216,
     "metadata": {},
     "output_type": "execute_result"
    }
   ],
   "source": [
    "maxdatestr"
   ]
  },
  {
   "cell_type": "code",
   "execution_count": 219,
   "id": "caf1a7de",
   "metadata": {},
   "outputs": [],
   "source": [
    "datestr = maxdatestr.split('.')[0].split(' ')[0]"
   ]
  },
  {
   "cell_type": "code",
   "execution_count": 81,
   "id": "2ec8d2e5",
   "metadata": {},
   "outputs": [],
   "source": [
    "timestrlist = maxdatestr.split(' ')[1].split(':')"
   ]
  },
  {
   "cell_type": "code",
   "execution_count": 82,
   "id": "00d3d26f",
   "metadata": {},
   "outputs": [],
   "source": [
    "h = timestrlist[0]\n",
    "m = timestrlist[1]\n",
    "s = timestrlist[2].split('.')[0]"
   ]
  },
  {
   "cell_type": "code",
   "execution_count": 83,
   "id": "4db69bdd",
   "metadata": {},
   "outputs": [],
   "source": [
    "def convert_hour(str_h):\n",
    "    h = int(str_h)\n",
    "    if h >= 0 and h <= 11:\n",
    "        res = [str_h, 'AM']\n",
    "    elif h == 12:\n",
    "        res = [str_h, 'PM']\n",
    "    elif h > 12 and h <=23:\n",
    "        res = [str(h-12), 'PM']\n",
    "    return res"
   ]
  },
  {
   "cell_type": "code",
   "execution_count": 86,
   "id": "392dfeb8",
   "metadata": {},
   "outputs": [],
   "source": [
    "cvt_h = convert_hour(h)"
   ]
  },
  {
   "cell_type": "code",
   "execution_count": 222,
   "id": "7eff5326",
   "metadata": {},
   "outputs": [],
   "source": [
    "def convert_date(datestr):\n",
    "    datestrlist = datestr.split('-')\n",
    "    Y = datestrlist[0]\n",
    "    m = str(int(datestrlist[1]))\n",
    "    d = str(int(datestrlist[2]))\n",
    "    res = m+'/'+d+'/'+Y\n",
    "    return res, Y, m, d"
   ]
  },
  {
   "cell_type": "code",
   "execution_count": 226,
   "id": "033f0e11",
   "metadata": {},
   "outputs": [],
   "source": [
    "res = convert_date(datestr)"
   ]
  },
  {
   "cell_type": "code",
   "execution_count": 227,
   "id": "bb4e35cc",
   "metadata": {},
   "outputs": [],
   "source": [
    "Y = res[1]"
   ]
  },
  {
   "cell_type": "code",
   "execution_count": 228,
   "id": "36288cd4",
   "metadata": {},
   "outputs": [],
   "source": [
    "m = res[2]"
   ]
  },
  {
   "cell_type": "code",
   "execution_count": 229,
   "id": "75a05f8a",
   "metadata": {},
   "outputs": [],
   "source": [
    "d = res[3]"
   ]
  },
  {
   "cell_type": "code",
   "execution_count": 231,
   "id": "e14031f1",
   "metadata": {},
   "outputs": [
    {
     "data": {
      "text/plain": [
       "'18'"
      ]
     },
     "execution_count": 231,
     "metadata": {},
     "output_type": "execute_result"
    }
   ],
   "source": [
    "d"
   ]
  },
  {
   "cell_type": "code",
   "execution_count": 232,
   "id": "4088a87e",
   "metadata": {},
   "outputs": [],
   "source": [
    "outfolder = os.path.join(outpath, Y, m+'_'+d)"
   ]
  },
  {
   "cell_type": "code",
   "execution_count": 235,
   "id": "3f608b51",
   "metadata": {},
   "outputs": [
    {
     "name": "stdout",
     "output_type": "stream",
     "text": [
      "No need to report!\n"
     ]
    }
   ],
   "source": [
    "if os.path.exists(outfolder):\n",
    "    print('No need to report!')"
   ]
  },
  {
   "cell_type": "code",
   "execution_count": 223,
   "id": "83a9ca90",
   "metadata": {},
   "outputs": [
    {
     "data": {
      "text/plain": [
       "'1/18/2023'"
      ]
     },
     "execution_count": 223,
     "metadata": {},
     "output_type": "execute_result"
    }
   ],
   "source": [
    "convert_date(datestr)[0]"
   ]
  },
  {
   "cell_type": "code",
   "execution_count": 173,
   "id": "928c8f1d",
   "metadata": {},
   "outputs": [],
   "source": [
    "def getDateStr(date):\n",
    "    def convert_hour(str_h):\n",
    "        h = int(str_h)\n",
    "        if h >= 0 and h <= 11:\n",
    "            res = [str_h, 'AM']\n",
    "        elif h == 12:\n",
    "            res = [str_h, 'PM']\n",
    "        elif h > 12 and h <=23:\n",
    "            res = [str(h-12), 'PM']\n",
    "        return res\n",
    "    \n",
    "    if date is None:\n",
    "        res = None\n",
    "    else:\n",
    "        strdate = str(date)\n",
    "        datestr = strdate.split(' ')[0]\n",
    "        res = convert_date(datestr)\n",
    "    return res"
   ]
  },
  {
   "cell_type": "code",
   "execution_count": 96,
   "id": "820401a2",
   "metadata": {},
   "outputs": [],
   "source": [
    "maxdatestr_n = convert_date(datestr) + ' '  + cvt_h[0] + ':' + m + ':' + s + ' ' + cvt_h[1]"
   ]
  },
  {
   "cell_type": "code",
   "execution_count": 97,
   "id": "15205c4c",
   "metadata": {},
   "outputs": [
    {
     "data": {
      "text/plain": [
       "'1/18/2023 10:52:35 PM'"
      ]
     },
     "execution_count": 97,
     "metadata": {},
     "output_type": "execute_result"
    }
   ],
   "source": [
    "maxdatestr_n"
   ]
  },
  {
   "cell_type": "code",
   "execution_count": 137,
   "id": "cf3e5c0d",
   "metadata": {},
   "outputs": [
    {
     "data": {
      "text/plain": [
       "'1/18/2023 10:52:35 PM'"
      ]
     },
     "execution_count": 137,
     "metadata": {},
     "output_type": "execute_result"
    }
   ],
   "source": [
    "getDateStr(maxdate)"
   ]
  },
  {
   "cell_type": "code",
   "execution_count": 100,
   "id": "e42c3e05",
   "metadata": {},
   "outputs": [
    {
     "data": {
      "text/plain": [
       "\"Date = '1/18/2023 10:52:35 PM'\""
      ]
     },
     "execution_count": 100,
     "metadata": {},
     "output_type": "execute_result"
    }
   ],
   "source": [
    "f\"Date = '{maxdatestr_n}'\""
   ]
  },
  {
   "cell_type": "code",
   "execution_count": 5,
   "id": "970a2fa3",
   "metadata": {},
   "outputs": [],
   "source": [
    "featureclass = path + '\\\\MyProject4.gdb\\\\datacopy'"
   ]
  },
  {
   "cell_type": "code",
   "execution_count": 17,
   "id": "9c3c6ea9",
   "metadata": {},
   "outputs": [
    {
     "data": {
      "text/plain": [
       "True"
      ]
     },
     "execution_count": 17,
     "metadata": {},
     "output_type": "execute_result"
    }
   ],
   "source": [
    "arcpy.Exists(featureclass)"
   ]
  },
  {
   "cell_type": "code",
   "execution_count": 31,
   "id": "2d11568b",
   "metadata": {},
   "outputs": [],
   "source": [
    "ti_m = os.path.getmtime(path + '\\\\MyProject4.gdb')\n",
    "m_ti = time.ctime(ti_m)\n",
    "t_obj = time.strptime(m_ti)\n",
    "T_stamp = time.strftime(\"%Y-%m-%d %H:%M:%S\", t_obj)\n",
    "todaystr = str(date.today())"
   ]
  },
  {
   "cell_type": "code",
   "execution_count": 32,
   "id": "5c0d4cbe",
   "metadata": {},
   "outputs": [
    {
     "data": {
      "text/plain": [
       "True"
      ]
     },
     "execution_count": 32,
     "metadata": {},
     "output_type": "execute_result"
    }
   ],
   "source": [
    "T_stamp.split(' ')[0] == todaystr"
   ]
  },
  {
   "cell_type": "code",
   "execution_count": 129,
   "id": "6ddcafc6",
   "metadata": {},
   "outputs": [
    {
     "data": {
      "text/html": [
       "<div class='gpresult'><h2>Messages</h2><div id='messages' data-messages='[\"Start Time: Thursday, January 19, 2023 3:12:28 AM\",\"Succeeded at Thursday, January 19, 2023 3:23:42 AM (Elapsed Time: 11 minutes 13 seconds)\"]' data-show='true'><div id = 'default' /></div></div>"
      ],
      "text/plain": [
       "<Result 'G:\\\\projects\\\\UtilityDistricts\\\\eweb\\\\DrinkingWater\\\\IllegalCampCoordination\\\\Recieved\\\\IllegalCampNotification_pro\\\\MyProject4.gdb\\\\datacopy'>"
      ]
     },
     "execution_count": 129,
     "metadata": {},
     "output_type": "execute_result"
    }
   ],
   "source": [
    "arcpy.management.CopyFeatures(camp_site, featureclass)"
   ]
  },
  {
   "cell_type": "code",
   "execution_count": 134,
   "id": "4bc27933",
   "metadata": {},
   "outputs": [
    {
     "data": {
      "text/html": [
       "<div class='gpresult'><h2>Messages</h2><div id='messages' data-messages='[\"Start Time: Thursday, January 19, 2023 3:39:03 AM\",\"Adding Date_str to datacopy...\",\"Succeeded at Thursday, January 19, 2023 3:39:06 AM (Elapsed Time: 3.15 seconds)\"]' data-show='true'><div id = 'default' /></div></div>"
      ],
      "text/plain": [
       "<Result 'G:\\\\projects\\\\UtilityDistricts\\\\eweb\\\\DrinkingWater\\\\IllegalCampCoordination\\\\Recieved\\\\IllegalCampNotification_pro\\\\MyProject4.gdb\\\\datacopy'>"
      ]
     },
     "execution_count": 134,
     "metadata": {},
     "output_type": "execute_result"
    }
   ],
   "source": [
    "arcpy.management.AddFields(path + '\\\\MyProject4.gdb\\\\datacopy', [['Date_str', \"TEXT\", 'datestr', 255, '1/18/2023 10:52:35 PM', '']])"
   ]
  },
  {
   "cell_type": "code",
   "execution_count": 171,
   "id": "9739760e",
   "metadata": {},
   "outputs": [],
   "source": [
    "expression = \"getDateStr(!Date!)\"\n",
    "\n",
    "codeblock = \"\"\"\n",
    "def getDateStr(date):\n",
    "    def convert_date(datestr):\n",
    "        datestrlist = datestr.split('-')\n",
    "        Y = datestrlist[0]\n",
    "        m = str(int(datestrlist[1]))\n",
    "        d = str(int(datestrlist[2]))\n",
    "        res = m+'/'+d+'/'+Y\n",
    "        return res\n",
    "\n",
    "    if date is None:\n",
    "        res = None\n",
    "    else:\n",
    "        strdate = str(date)\n",
    "        datestr = strdate.split(' ')[0]\n",
    "        res = convert_date(datestr)\n",
    "    return res\"\"\""
   ]
  },
  {
   "cell_type": "code",
   "execution_count": 172,
   "id": "4eddc1f7",
   "metadata": {},
   "outputs": [
    {
     "data": {
      "text/html": [
       "<div class='gpresult'><h2>Messages</h2><div id='messages' data-messages='[\"Start Time: Thursday, January 19, 2023 4:16:34 AM\",\"Succeeded at Thursday, January 19, 2023 4:16:35 AM (Elapsed Time: 0.97 seconds)\"]' data-show='true'><div id = 'default' /></div></div>"
      ],
      "text/plain": [
       "<Result 'G:\\\\projects\\\\UtilityDistricts\\\\eweb\\\\DrinkingWater\\\\IllegalCampCoordination\\\\Recieved\\\\IllegalCampNotification_pro\\\\MyProject4.gdb\\\\datacopy'>"
      ]
     },
     "execution_count": 172,
     "metadata": {},
     "output_type": "execute_result"
    }
   ],
   "source": [
    "arcpy.management.CalculateField(path + '\\\\MyProject4.gdb\\\\datacopy', 'Date_str',  expression, \"PYTHON3\", \n",
    "                                codeblock)"
   ]
  },
  {
   "cell_type": "code",
   "execution_count": 165,
   "id": "12f7e9ae",
   "metadata": {},
   "outputs": [
    {
     "data": {
      "text/plain": [
       "'1/18/2023 10:52:35 PM'"
      ]
     },
     "execution_count": 165,
     "metadata": {},
     "output_type": "execute_result"
    }
   ],
   "source": [
    "maxdatestr_n"
   ]
  },
  {
   "cell_type": "code",
   "execution_count": 169,
   "id": "26a9c114",
   "metadata": {},
   "outputs": [
    {
     "data": {
      "text/plain": [
       "datetime.datetime(2023, 1, 18, 22, 52, 35, 515000)"
      ]
     },
     "execution_count": 169,
     "metadata": {},
     "output_type": "execute_result"
    }
   ],
   "source": [
    "maxdate"
   ]
  },
  {
   "cell_type": "code",
   "execution_count": 174,
   "id": "1e66b759",
   "metadata": {},
   "outputs": [
    {
     "data": {
      "text/plain": [
       "'1/18/2023'"
      ]
     },
     "execution_count": 174,
     "metadata": {},
     "output_type": "execute_result"
    }
   ],
   "source": [
    "getDateStr(maxdate)"
   ]
  },
  {
   "cell_type": "code",
   "execution_count": 175,
   "id": "5ad1634c",
   "metadata": {},
   "outputs": [],
   "source": [
    "selres = arcpy.SelectLayerByAttribute_management(path + '\\\\MyProject4.gdb\\\\datacopy',\n",
    "                                                 \"NEW_SELECTION\", f\"Date_str = '{getDateStr(maxdate)}'\")"
   ]
  },
  {
   "cell_type": "code",
   "execution_count": 176,
   "id": "15518e8d",
   "metadata": {},
   "outputs": [
    {
     "name": "stdout",
     "output_type": "stream",
     "text": [
      "datacopy_Layer5\n"
     ]
    }
   ],
   "source": [
    "print(selres)"
   ]
  },
  {
   "cell_type": "code",
   "execution_count": 177,
   "id": "5b1ea097",
   "metadata": {},
   "outputs": [
    {
     "data": {
      "text/html": [
       "<div class='gpresult'><h2>Messages</h2><div id='messages' data-messages='[\"Start Time: Thursday, January 19, 2023 4:17:54 AM\",\"Succeeded at Thursday, January 19, 2023 4:18:11 AM (Elapsed Time: 16.78 seconds)\"]' data-show='true'><div id = 'default' /></div></div>"
      ],
      "text/plain": [
       "<Result 'G:\\\\projects\\\\UtilityDistricts\\\\eweb\\\\DrinkingWater\\\\IllegalCampCoordination\\\\Recieved\\\\IllegalCampNotification_pro\\\\MyProject4.gdb\\\\most_recent'>"
      ]
     },
     "execution_count": 177,
     "metadata": {},
     "output_type": "execute_result"
    }
   ],
   "source": [
    "arcpy.management.CopyFeatures(selres, path + '\\\\MyProject4.gdb\\\\most_recent')"
   ]
  },
  {
   "cell_type": "code",
   "execution_count": 240,
   "id": "e38fb6a8",
   "metadata": {},
   "outputs": [
    {
     "data": {
      "text/html": [
       "<div class='gpresult'><h2>Messages</h2><div id='messages' data-messages='[\"Start Time: Tuesday, January 24, 2023 9:31:17 PM\",\"Succeeded at Tuesday, January 24, 2023 9:31:42 PM (Elapsed Time: 24.77 seconds)\"]' data-show='true'><div id = 'default' /></div></div>"
      ],
      "text/plain": [
       "<Result 'G:\\\\projects\\\\UtilityDistricts\\\\eweb\\\\DrinkingWater\\\\IllegalCampCoordination\\\\Recieved\\\\IllegalCampNotification_pro\\\\MyProject4.gdb\\\\HomelessCampSite_SpatialJoin14c'>"
      ]
     },
     "execution_count": 240,
     "metadata": {},
     "output_type": "execute_result"
    }
   ],
   "source": [
    "arcpy.analysis.SpatialJoin(selres, fc, path + '\\\\MyProject4.gdb\\\\HomelessCampSite_SpatialJoin14c', \"JOIN_ONE_TO_ONE\", \"KEEP_ALL\",'Status \"Status\" true true false 50 Text 0 0,First,#,Homeless Camp Site,Status,0,50;Comments \"Comments\" true true false 500 Text 0 0,First,#,Homeless Camp Site,Comments,0,500;Date \"Date\" true true false 8 Date 0 0,First,#,Homeless Camp Site,Date,-1,-1;Submitted_by \"Submitted By\" true true false 50 Text 0 0,First,#,Homeless Camp Site,Submitted_by,0,50;Dogs_present \"Dogs present\" true true false 50 Text 0 0,First,#,Homeless Camp Site,Dogs_present,0,50;Unruly_inhabitants \"Unruly inhabitants\" true true false 50 Text 0 0,First,#,Homeless Camp Site,Unruly_inhabitants,0,50;Hazardous_materials_present \"Hazardous materials present\" true true false 50 Text 0 0,First,#,Homeless Camp Site,Hazardous_materials_present,0,50;Biohazards_present \"Biohazards present\" true true false 50 Text 0 0,First,#,Homeless Camp Site,Biohazards_present,0,50;Size_of_encampment \"Size of encampment\" true true false 50 Text 0 0,First,#,Homeless Camp Site,Size_of_encampment,0,50;GlobalID \"GlobalID\" false false true 38 GlobalID 0 0,First,#,Homeless Camp Site,GlobalID,-1,-1;maptaxlot_hyphen \"maptaxlot_hyphen\" true true false 17 Text 0 0,First,#,Lane County Taxlots,maptaxlot_hyphen,0,17;ownname \"ownname\" true true false 128 Text 0 0,First,#,Lane County Taxlots,ownname,0,128;addr1 \"addr1\" true true false 64 Text 0 0,First,#,Lane County Taxlots,addr1,0,64;ownercity \"ownercity\" true true false 40 Text 0 0,First,#,Lane County Taxlots,ownercity,0,40;ownerprvst \"ownerprvst\" true true false 30 Text 0 0,First,#,Lane County Taxlots,ownerprvst,0,30;ownerzip \"ownerzip\" true true false 10 Text 0 0,First,#,Lane County Taxlots,ownerzip,0,10;geocity_name \"geocity_name\" true true false 32 Text 0 0,First,#,Lane County Taxlots,geocity_name,0,32;ugb_name \"ugb_name\" true true false 32 Text 0 0,First,#,Lane County Taxlots,ugb_name,0,32;longitude \"longitude\" true true false 8 Double 8 38,First,#,Lane County Taxlots,longitude,-1,-1;latitude \"latitude\" true true false 8 Double 8 38,First,#,Lane County Taxlots,latitude,-1,-1', \"INTERSECT\", None, '')"
   ]
  },
  {
   "cell_type": "code",
   "execution_count": 242,
   "id": "52c60bcd",
   "metadata": {},
   "outputs": [
    {
     "data": {
      "text/html": [
       "<div class='gpresult'><h2>Messages</h2><div id='messages' data-messages='[\"Start Time: Tuesday, January 24, 2023 9:32:08 PM\",\"Succeeded at Tuesday, January 24, 2023 9:32:11 PM (Elapsed Time: 3.54 seconds)\"]' data-show='true'><div id = 'default' /></div></div>"
      ],
      "text/plain": [
       "<Result 'G:\\\\projects\\\\UtilityDistricts\\\\eweb\\\\DrinkingWater\\\\IllegalCampCoordination\\\\Recieved\\\\IllegalCampNotification_pro\\\\most_recent.xlsx'>"
      ]
     },
     "execution_count": 242,
     "metadata": {},
     "output_type": "execute_result"
    }
   ],
   "source": [
    "arcpy.conversion.TableToExcel(path + '\\\\MyProject4.gdb\\\\HomelessCampSite_SpatialJoin14c', path+'\\\\most_recent.xlsx')"
   ]
  }
 ],
 "metadata": {
  "kernelspec": {
   "display_name": "Python 3",
   "language": "python",
   "name": "python3"
  },
  "language_info": {
   "codemirror_mode": {
    "name": "ipython",
    "version": 3
   },
   "file_extension": ".py",
   "mimetype": "text/x-python",
   "name": "python",
   "nbconvert_exporter": "python",
   "pygments_lexer": "ipython3",
   "version": "3.9.11"
  }
 },
 "nbformat": 4,
 "nbformat_minor": 5
}
