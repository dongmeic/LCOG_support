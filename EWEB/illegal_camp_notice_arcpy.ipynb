{
 "cells": [
  {
   "cell_type": "code",
   "execution_count": 160,
   "id": "477777bf",
   "metadata": {},
   "outputs": [],
   "source": [
    "import arcpy"
   ]
  },
  {
   "cell_type": "code",
   "execution_count": 185,
   "id": "1dd0b998",
   "metadata": {},
   "outputs": [],
   "source": [
    "from arcgis.gis import GIS"
   ]
  },
  {
   "cell_type": "code",
   "execution_count": 186,
   "id": "5049b655",
   "metadata": {},
   "outputs": [],
   "source": [
    "import json"
   ]
  },
  {
   "cell_type": "code",
   "execution_count": 196,
   "id": "20a69c86",
   "metadata": {},
   "outputs": [],
   "source": [
    "from arcgis.features import FeatureLayerCollection"
   ]
  },
  {
   "cell_type": "code",
   "execution_count": 201,
   "id": "669df4af",
   "metadata": {},
   "outputs": [],
   "source": [
    "from arcgis.features import FeatureLayer"
   ]
  },
  {
   "cell_type": "code",
   "execution_count": 10,
   "id": "d8ab80aa",
   "metadata": {},
   "outputs": [],
   "source": [
    "import os"
   ]
  },
  {
   "cell_type": "code",
   "execution_count": 114,
   "id": "1089d896",
   "metadata": {},
   "outputs": [],
   "source": [
    "arcpy.env.overwriteOutput = True"
   ]
  },
  {
   "cell_type": "code",
   "execution_count": 2,
   "id": "5eca72a0",
   "metadata": {},
   "outputs": [],
   "source": [
    "camp_site = 'https://services5.arcgis.com/9s1YtFmLS0YTl10F/ArcGIS/rest/services/ZHomeless_Camp_Trash_Collector/FeatureServer/0'"
   ]
  },
  {
   "cell_type": "code",
   "execution_count": 3,
   "id": "41749f26",
   "metadata": {},
   "outputs": [],
   "source": [
    "path = r'G:\\projects\\UtilityDistricts\\eweb\\DrinkingWater\\IllegalCampCoordination\\Recieved\\IllegalCampNotification_pro'"
   ]
  },
  {
   "cell_type": "code",
   "execution_count": 13,
   "id": "4e664d26",
   "metadata": {},
   "outputs": [],
   "source": [
    "sdeFile = path + \"\\\\RLIDDB.sde\""
   ]
  },
  {
   "cell_type": "code",
   "execution_count": 43,
   "id": "6ab53702",
   "metadata": {},
   "outputs": [],
   "source": [
    "conn = arcpy.CreateDatabaseConnection_management(out_folder_path=path,\n",
    "                                          out_name=\"RLIDDB.sde\",\n",
    "                                          database_platform=\"SQL_SERVER\",\n",
    "                                          instance=\"rliddb.int.lcog.org,5433\",\n",
    "                                          account_authentication=\"OPERATING_SYSTEM_AUTH\",\n",
    "                                          database=\"RLIDGeo\")"
   ]
  },
  {
   "cell_type": "code",
   "execution_count": 41,
   "id": "153b3bd7",
   "metadata": {},
   "outputs": [],
   "source": [
    "if os.path.exists(sdeFile):\n",
    "    os.remove(sdeFile)"
   ]
  },
  {
   "cell_type": "code",
   "execution_count": 44,
   "id": "25dad845",
   "metadata": {},
   "outputs": [],
   "source": [
    "arcpy.env.workspace = conn.getOutput(0)"
   ]
  },
  {
   "cell_type": "code",
   "execution_count": 205,
   "id": "02db3b83",
   "metadata": {},
   "outputs": [],
   "source": [
    "fc = \"RLIDGeo.DBO.Taxlot\""
   ]
  },
  {
   "cell_type": "code",
   "execution_count": 152,
   "id": "8ee1d607",
   "metadata": {},
   "outputs": [],
   "source": [
    "listdates1 = []"
   ]
  },
  {
   "cell_type": "code",
   "execution_count": 156,
   "id": "26568bd2",
   "metadata": {},
   "outputs": [],
   "source": [
    "cursor = arcpy.da.SearchCursor(camp_site, \"Date\")"
   ]
  },
  {
   "cell_type": "code",
   "execution_count": 157,
   "id": "57b215e5",
   "metadata": {},
   "outputs": [],
   "source": [
    "for row in cursor:\n",
    "    listdates1.append(row)"
   ]
  },
  {
   "cell_type": "code",
   "execution_count": 62,
   "id": "5551d4b9",
   "metadata": {},
   "outputs": [],
   "source": [
    "from datetime import datetime"
   ]
  },
  {
   "cell_type": "code",
   "execution_count": 158,
   "id": "31dfa3c6",
   "metadata": {},
   "outputs": [
    {
     "data": {
      "text/plain": [
       "datetime.datetime"
      ]
     },
     "execution_count": 158,
     "metadata": {},
     "output_type": "execute_result"
    }
   ],
   "source": [
    "type(listdates1[0][0])"
   ]
  },
  {
   "cell_type": "code",
   "execution_count": 159,
   "id": "86a6a9ba",
   "metadata": {},
   "outputs": [
    {
     "data": {
      "text/plain": [
       "[(datetime.datetime(2016, 5, 18, 15, 37),),\n",
       " (datetime.datetime(2016, 5, 18, 15, 38, 19, 867000),),\n",
       " (datetime.datetime(2016, 5, 18, 15, 39, 57, 341000),),\n",
       " (datetime.datetime(2016, 5, 16, 15, 42, 32, 964000),),\n",
       " (datetime.datetime(2016, 5, 16, 15, 43, 17, 842000),),\n",
       " (datetime.datetime(2016, 6, 2, 22, 45),),\n",
       " (datetime.datetime(2016, 6, 2, 22, 55, 14, 62000),),\n",
       " (datetime.datetime(2016, 6, 2, 23, 5, 52, 635000),),\n",
       " (datetime.datetime(2016, 6, 7, 23, 20),),\n",
       " (datetime.datetime(2016, 7, 9, 3, 16, 29, 449000),),\n",
       " (datetime.datetime(2016, 7, 19, 7, 0),),\n",
       " (datetime.datetime(2016, 7, 14, 19, 52, 29, 143000),),\n",
       " (datetime.datetime(2016, 7, 15, 15, 6, 19, 341000),),\n",
       " (datetime.datetime(2016, 7, 19, 21, 7, 1, 180001),),\n",
       " (datetime.datetime(2016, 7, 18, 21, 16, 14, 945000),),\n",
       " (datetime.datetime(2016, 7, 5, 21, 20, 18, 46001),),\n",
       " (datetime.datetime(2016, 7, 9, 21, 22, 44, 533000),),\n",
       " (datetime.datetime(2016, 7, 14, 21, 24, 46, 957001),),\n",
       " (datetime.datetime(2016, 7, 12, 21, 29, 29, 697000),),\n",
       " (datetime.datetime(2016, 7, 18, 19, 55, 22, 980000),),\n",
       " (datetime.datetime(2016, 7, 24, 16, 17, 23, 169000),),\n",
       " (datetime.datetime(2016, 7, 28, 18, 3, 47, 424001),),\n",
       " (datetime.datetime(2016, 7, 28, 18, 7, 28, 124000),),\n",
       " (datetime.datetime(2016, 7, 28, 18, 42, 43, 440000),),\n",
       " (datetime.datetime(2016, 7, 28, 19, 7, 32, 67000),),\n",
       " (datetime.datetime(2016, 7, 28, 19, 25, 11, 325000),),\n",
       " (datetime.datetime(2016, 8, 2, 7, 0),),\n",
       " (datetime.datetime(2016, 8, 2, 7, 0),),\n",
       " (datetime.datetime(2016, 8, 2, 7, 0),),\n",
       " (datetime.datetime(2016, 8, 9, 18, 59, 26, 372000),),\n",
       " (datetime.datetime(2016, 7, 23, 19, 48),),\n",
       " (datetime.datetime(2016, 7, 30, 19, 51, 5, 829000),),\n",
       " (datetime.datetime(2016, 8, 1, 19, 52, 46, 798000),),\n",
       " (datetime.datetime(2016, 8, 2, 19, 54, 40, 880000),),\n",
       " (datetime.datetime(2016, 8, 2, 19, 56, 36, 399000),),\n",
       " (datetime.datetime(2016, 8, 6, 19, 58, 45, 584000),),\n",
       " (datetime.datetime(2016, 8, 10, 20, 23, 12, 361000),),\n",
       " (datetime.datetime(2016, 8, 10, 20, 26, 34, 348000),),\n",
       " (datetime.datetime(2016, 8, 11, 17, 0),),\n",
       " (datetime.datetime(2016, 8, 2, 21, 5),),\n",
       " (datetime.datetime(2016, 8, 12, 15, 36, 47, 101000),),\n",
       " (datetime.datetime(2016, 8, 12, 20, 12, 31, 330000),),\n",
       " (datetime.datetime(2016, 8, 12, 20, 14, 51, 804000),),\n",
       " (datetime.datetime(2016, 8, 12, 20, 16, 1, 310000),),\n",
       " (datetime.datetime(2016, 8, 29, 18, 37, 4, 411000),),\n",
       " (datetime.datetime(2016, 8, 29, 18, 54, 57, 771000),),\n",
       " (datetime.datetime(2016, 8, 30, 14, 55, 52, 695000),),\n",
       " (datetime.datetime(2016, 8, 30, 14, 59, 20, 916000),),\n",
       " (datetime.datetime(2016, 8, 30, 15, 4, 10, 708000),),\n",
       " (datetime.datetime(2016, 8, 31, 23, 36),),\n",
       " (datetime.datetime(2016, 8, 31, 14, 51, 2, 865000),),\n",
       " (datetime.datetime(2016, 9, 2, 14, 34, 4, 865000),),\n",
       " (datetime.datetime(2016, 9, 2, 14, 44, 49, 197000),),\n",
       " (datetime.datetime(2016, 8, 31, 16, 51, 13, 91000),),\n",
       " (datetime.datetime(2016, 8, 31, 16, 53, 35, 95000),),\n",
       " (datetime.datetime(2016, 8, 31, 16, 55, 43, 554000),),\n",
       " (datetime.datetime(2016, 9, 4, 9, 32, 32, 95000),),\n",
       " (datetime.datetime(2016, 9, 4, 9, 39, 38, 850000),),\n",
       " (datetime.datetime(2016, 9, 8, 16, 18, 6, 823000),),\n",
       " (datetime.datetime(2016, 9, 8, 16, 32, 36, 508000),),\n",
       " (datetime.datetime(2016, 11, 27, 8, 0),),\n",
       " (datetime.datetime(2016, 9, 8, 17, 7, 4, 610000),),\n",
       " (datetime.datetime(2016, 9, 8, 17, 14, 17, 776000),),\n",
       " (datetime.datetime(2016, 9, 8, 17, 22, 30, 331001),),\n",
       " (datetime.datetime(2016, 9, 8, 17, 35, 4, 497000),),\n",
       " (datetime.datetime(2016, 9, 8, 17, 39, 30, 850001),),\n",
       " (datetime.datetime(2016, 9, 8, 17, 45, 24, 108000),),\n",
       " (datetime.datetime(2016, 9, 8, 17, 56, 33, 731001),),\n",
       " (datetime.datetime(2016, 9, 8, 18, 4, 41, 706000),),\n",
       " (datetime.datetime(2016, 9, 8, 18, 14, 27, 57000),),\n",
       " (datetime.datetime(2019, 1, 10, 8, 0),),\n",
       " (datetime.datetime(2016, 9, 15, 7, 0),),\n",
       " (datetime.datetime(2016, 9, 14, 4, 32, 48, 263000),),\n",
       " (datetime.datetime(2016, 9, 15, 16, 51, 51, 362000),),\n",
       " (datetime.datetime(2016, 9, 15, 18, 26, 1, 117000),),\n",
       " (datetime.datetime(2016, 9, 15, 19, 0, 48, 60000),),\n",
       " (datetime.datetime(2016, 9, 20, 16, 18, 22, 967000),),\n",
       " (datetime.datetime(2016, 9, 20, 16, 23, 21, 172001),),\n",
       " (datetime.datetime(2016, 11, 27, 8, 0),),\n",
       " (datetime.datetime(2016, 9, 20, 17, 13, 37, 175000),),\n",
       " (datetime.datetime(2016, 9, 20, 22, 40, 54, 944000),),\n",
       " (datetime.datetime(2016, 9, 20, 22, 43, 51, 23000),),\n",
       " (datetime.datetime(2016, 9, 20, 22, 46, 7, 790000),),\n",
       " (datetime.datetime(2016, 9, 21, 14, 9, 5, 802000),),\n",
       " (datetime.datetime(2016, 9, 21, 23, 10, 4, 973000),),\n",
       " (datetime.datetime(2016, 9, 21, 23, 12, 55, 859000),),\n",
       " (datetime.datetime(2016, 9, 21, 23, 18, 1, 214000),),\n",
       " (datetime.datetime(2016, 9, 25, 14, 48, 44, 324000),),\n",
       " (datetime.datetime(2016, 9, 23, 7, 0),),\n",
       " (datetime.datetime(2016, 9, 26, 20, 15, 40, 57000),),\n",
       " (datetime.datetime(2016, 9, 27, 22, 27, 33, 626000),),\n",
       " (datetime.datetime(2016, 9, 26, 7, 0),),\n",
       " (datetime.datetime(2016, 10, 1, 16, 46, 44, 431000),),\n",
       " (datetime.datetime(2016, 10, 1, 18, 29, 45, 252000),),\n",
       " (datetime.datetime(2016, 10, 1, 18, 54, 43, 356001),),\n",
       " (datetime.datetime(2016, 10, 6, 7, 0),),\n",
       " (datetime.datetime(2016, 10, 10, 15, 26, 23, 204000),),\n",
       " (datetime.datetime(2016, 10, 11, 18, 34, 33, 182000),),\n",
       " (datetime.datetime(2016, 10, 11, 19, 20, 5, 704000),),\n",
       " (datetime.datetime(2016, 10, 11, 19, 31, 19, 635000),),\n",
       " (datetime.datetime(2016, 10, 11, 19, 46, 26, 298000),),\n",
       " (datetime.datetime(2016, 10, 11, 19, 49, 42, 253001),),\n",
       " (datetime.datetime(2016, 10, 11, 20, 36, 22, 959000),),\n",
       " (datetime.datetime(2016, 10, 11, 20, 41, 37, 206000),),\n",
       " (datetime.datetime(2016, 10, 12, 13, 42, 52, 188000),),\n",
       " (datetime.datetime(2016, 10, 18, 7, 0),),\n",
       " (datetime.datetime(2016, 10, 19, 0, 12, 58, 979000),),\n",
       " (datetime.datetime(2016, 10, 19, 0, 21, 49, 980000),),\n",
       " (datetime.datetime(2016, 10, 19, 0, 25, 34, 319000),),\n",
       " (datetime.datetime(2016, 10, 19, 0, 37, 39, 692000),),\n",
       " (datetime.datetime(2016, 11, 27, 8, 0),),\n",
       " (datetime.datetime(2016, 11, 11, 8, 0),),\n",
       " (datetime.datetime(2016, 10, 19, 1, 2, 7, 484000),),\n",
       " (datetime.datetime(2016, 10, 19, 1, 12, 19, 298001),),\n",
       " (datetime.datetime(2016, 10, 27, 0, 47, 13, 52000),),\n",
       " (datetime.datetime(2016, 10, 27, 0, 49, 11, 923000),),\n",
       " (datetime.datetime(2016, 10, 27, 0, 50, 39, 544000),),\n",
       " (datetime.datetime(2016, 10, 25, 0, 51, 55, 132000),),\n",
       " (datetime.datetime(2016, 11, 1, 23, 40, 15, 589000),),\n",
       " (datetime.datetime(2016, 11, 2, 13, 45, 21, 147001),),\n",
       " (datetime.datetime(2016, 11, 2, 13, 49, 20, 809000),),\n",
       " (datetime.datetime(2016, 11, 6, 7, 0),),\n",
       " (datetime.datetime(2016, 11, 8, 3, 53, 0, 1),),\n",
       " (datetime.datetime(2016, 11, 10, 8, 0),),\n",
       " (datetime.datetime(2016, 11, 15, 17, 59, 54, 535000),),\n",
       " (datetime.datetime(2016, 11, 14, 8, 0),),\n",
       " (datetime.datetime(2016, 11, 16, 8, 0),),\n",
       " (datetime.datetime(2016, 11, 9, 23, 20, 4, 776000),),\n",
       " (datetime.datetime(2016, 11, 15, 23, 21, 30, 249000),),\n",
       " (datetime.datetime(2016, 11, 11, 23, 22, 37, 517000),),\n",
       " (datetime.datetime(2016, 11, 10, 23, 23, 46, 869001),),\n",
       " (datetime.datetime(2016, 11, 9, 23, 24, 53, 282000),),\n",
       " (datetime.datetime(2016, 11, 9, 23, 26, 13, 622000),),\n",
       " (datetime.datetime(2016, 11, 17, 23, 27, 57, 198000),),\n",
       " (datetime.datetime(2016, 11, 19, 15, 47, 7, 890000),),\n",
       " (datetime.datetime(2016, 11, 23, 0, 14, 43, 577000),),\n",
       " (datetime.datetime(2016, 11, 23, 0, 17, 35, 176000),),\n",
       " (datetime.datetime(2016, 11, 23, 0, 19, 2, 173000),),\n",
       " (datetime.datetime(2016, 11, 23, 8, 0),),\n",
       " (datetime.datetime(2017, 2, 28, 8, 0),),\n",
       " (datetime.datetime(2016, 12, 1, 8, 0),),\n",
       " (datetime.datetime(2018, 4, 12, 7, 0),),\n",
       " (datetime.datetime(2016, 12, 14, 8, 0),),\n",
       " (datetime.datetime(2016, 12, 19, 8, 0),),\n",
       " (datetime.datetime(2016, 12, 29, 8, 8, 54, 71000),),\n",
       " (datetime.datetime(2017, 1, 23, 8, 0),),\n",
       " (datetime.datetime(2017, 1, 24, 8, 0),),\n",
       " (datetime.datetime(2017, 1, 23, 8, 0),),\n",
       " (datetime.datetime(2017, 1, 27, 21, 28, 23, 633000),),\n",
       " (datetime.datetime(2017, 1, 27, 21, 30, 20, 916001),),\n",
       " (datetime.datetime(2017, 1, 27, 21, 41, 6, 608000),),\n",
       " (datetime.datetime(2017, 1, 27, 21, 49, 27, 479000),),\n",
       " (datetime.datetime(2017, 1, 28, 8, 0),),\n",
       " (datetime.datetime(2017, 1, 28, 8, 0),),\n",
       " (datetime.datetime(2017, 1, 27, 16, 7, 40, 729000),),\n",
       " (datetime.datetime(2017, 2, 6, 14, 36, 18, 338000),),\n",
       " (datetime.datetime(2017, 2, 6, 14, 45, 49, 834000),),\n",
       " (datetime.datetime(2017, 2, 14, 21, 58, 10),),\n",
       " (datetime.datetime(2017, 2, 14, 22, 33, 30, 430000),),\n",
       " (datetime.datetime(2017, 2, 14, 22, 42, 30, 198000),),\n",
       " (datetime.datetime(2017, 2, 15, 11, 50, 6, 427000),),\n",
       " (datetime.datetime(2017, 3, 4, 8, 0),),\n",
       " (datetime.datetime(2017, 3, 4, 8, 0),),\n",
       " (datetime.datetime(2017, 3, 4, 8, 0),),\n",
       " (datetime.datetime(2017, 3, 28, 17, 16, 20, 730000),),\n",
       " (datetime.datetime(2018, 4, 18, 7, 0),),\n",
       " (datetime.datetime(2018, 4, 18, 7, 0),),\n",
       " (datetime.datetime(2017, 4, 12, 15, 6, 51, 188000),),\n",
       " (datetime.datetime(2017, 4, 14, 20, 9, 51, 165000),),\n",
       " (datetime.datetime(2017, 4, 14, 20, 13, 6, 912000),),\n",
       " (datetime.datetime(2017, 4, 14, 20, 36, 26, 587001),),\n",
       " (datetime.datetime(2017, 4, 14, 22, 7, 7, 767000),),\n",
       " (datetime.datetime(2017, 4, 20, 17, 19, 10, 162000),),\n",
       " (datetime.datetime(2017, 4, 23, 0, 58, 11, 932000),),\n",
       " (datetime.datetime(2017, 4, 23, 1, 21, 48, 611000),),\n",
       " (datetime.datetime(2017, 4, 23, 1, 26, 12, 321000),),\n",
       " (datetime.datetime(2017, 4, 25, 15, 49, 29, 340000),),\n",
       " (datetime.datetime(2017, 4, 25, 7, 0),),\n",
       " (datetime.datetime(2017, 4, 20, 18, 6, 45, 765001),),\n",
       " (datetime.datetime(2017, 4, 20, 18, 8, 42, 984000),),\n",
       " (datetime.datetime(2017, 4, 28, 18, 46, 51, 62001),),\n",
       " (datetime.datetime(2017, 5, 1, 0, 32, 6, 759001),),\n",
       " (datetime.datetime(2017, 5, 5, 22, 20, 37, 812000),),\n",
       " (datetime.datetime(2017, 5, 9, 0, 43, 6, 780000),),\n",
       " (datetime.datetime(2017, 5, 9, 0, 55, 0, 503000),),\n",
       " (datetime.datetime(2017, 5, 8, 1, 1, 41, 875000),),\n",
       " (datetime.datetime(2017, 5, 20, 17, 9, 20, 184000),),\n",
       " (datetime.datetime(2017, 5, 20, 18, 10, 29, 322000),),\n",
       " (datetime.datetime(2017, 5, 22, 7, 0),),\n",
       " (datetime.datetime(2017, 5, 26, 21, 30, 23, 927000),),\n",
       " (datetime.datetime(2017, 5, 26, 21, 35, 19, 837000),),\n",
       " (datetime.datetime(2017, 5, 26, 21, 41, 20, 989000),),\n",
       " (datetime.datetime(2017, 6, 9, 7, 0),),\n",
       " (datetime.datetime(2017, 6, 9, 7, 0),),\n",
       " (datetime.datetime(2017, 6, 16, 7, 0),),\n",
       " (datetime.datetime(2017, 6, 20, 15, 33, 2, 724001),),\n",
       " (datetime.datetime(2017, 6, 20, 16, 2, 43, 863001),),\n",
       " (datetime.datetime(2017, 6, 20, 16, 14, 52, 103000),),\n",
       " (datetime.datetime(2017, 6, 20, 17, 40, 15, 678001),),\n",
       " (datetime.datetime(2018, 2, 16, 8, 0),),\n",
       " (datetime.datetime(2017, 6, 26, 6, 40, 44, 997000),),\n",
       " (datetime.datetime(2017, 7, 4, 15, 54, 37, 20000),),\n",
       " (datetime.datetime(2017, 7, 4, 16, 57, 42, 433000),),\n",
       " (datetime.datetime(2017, 7, 11, 17, 15, 7, 906000),),\n",
       " (datetime.datetime(2017, 7, 17, 6, 45, 5, 254000),),\n",
       " (datetime.datetime(2017, 7, 31, 7, 0),),\n",
       " (datetime.datetime(2017, 7, 20, 7, 0),),\n",
       " (datetime.datetime(2017, 8, 4, 22, 16, 42, 622000),),\n",
       " (datetime.datetime(2017, 8, 6, 19, 41, 10, 897000),),\n",
       " (datetime.datetime(2017, 8, 6, 20, 38, 10, 891000),),\n",
       " (datetime.datetime(2017, 8, 6, 22, 25, 44, 139000),),\n",
       " (datetime.datetime(2017, 8, 8, 16, 51, 52, 22000),),\n",
       " (datetime.datetime(2017, 8, 8, 17, 7, 20, 102000),),\n",
       " (datetime.datetime(2017, 8, 8, 17, 57, 34, 825000),),\n",
       " (datetime.datetime(2017, 8, 8, 18, 26, 31, 669000),),\n",
       " (datetime.datetime(2017, 8, 8, 18, 49, 47, 533000),),\n",
       " (datetime.datetime(2017, 8, 8, 19, 16, 12, 142000),),\n",
       " (datetime.datetime(2017, 8, 15, 23, 32, 59, 973000),),\n",
       " (datetime.datetime(2017, 8, 16, 20, 5, 28, 879000),),\n",
       " (datetime.datetime(2017, 8, 16, 20, 9, 10, 904001),),\n",
       " (datetime.datetime(2017, 8, 16, 20, 16, 13, 298000),),\n",
       " (datetime.datetime(2017, 8, 16, 20, 22, 44, 968000),),\n",
       " (datetime.datetime(2017, 8, 17, 22, 58, 56, 834000),),\n",
       " (datetime.datetime(2017, 9, 15, 7, 0),),\n",
       " (datetime.datetime(2017, 9, 15, 7, 0),),\n",
       " (datetime.datetime(2017, 9, 12, 7, 0),),\n",
       " (datetime.datetime(2017, 9, 18, 7, 0),),\n",
       " (datetime.datetime(2017, 9, 24, 20, 38, 32, 595000),),\n",
       " (datetime.datetime(2017, 9, 21, 7, 0),),\n",
       " (datetime.datetime(2017, 10, 4, 22, 16, 24, 162000),),\n",
       " (datetime.datetime(2017, 10, 4, 22, 19, 43, 590000),),\n",
       " (datetime.datetime(2017, 10, 4, 22, 21, 55, 175000),),\n",
       " (datetime.datetime(2017, 10, 4, 22, 24, 1, 575000),),\n",
       " (datetime.datetime(2017, 10, 4, 22, 25, 17, 465000),),\n",
       " (datetime.datetime(2017, 10, 5, 19, 25, 3, 247000),),\n",
       " (datetime.datetime(2017, 12, 11, 8, 0),),\n",
       " (datetime.datetime(2017, 10, 6, 7, 0),),\n",
       " (datetime.datetime(2017, 12, 11, 8, 0),),\n",
       " (datetime.datetime(2017, 10, 16, 17, 58, 48, 534000),),\n",
       " (datetime.datetime(2017, 10, 24, 1, 20, 14, 654000),),\n",
       " (datetime.datetime(2017, 10, 23, 7, 0),),\n",
       " (datetime.datetime(2017, 10, 23, 7, 0),),\n",
       " (datetime.datetime(2017, 10, 25, 16, 39, 25, 457001),),\n",
       " (datetime.datetime(2017, 10, 30, 21, 23),),\n",
       " (datetime.datetime(2017, 11, 14, 17, 32, 25, 466000),),\n",
       " (datetime.datetime(2017, 11, 14, 18, 41, 39, 153000),),\n",
       " (datetime.datetime(2017, 11, 14, 18, 53, 49, 389000),),\n",
       " (datetime.datetime(2017, 11, 14, 19, 36, 0, 610000),),\n",
       " (datetime.datetime(2017, 11, 14, 20, 29, 42, 308000),),\n",
       " (datetime.datetime(2017, 11, 14, 20, 32, 18, 234000),),\n",
       " (datetime.datetime(2017, 11, 18, 0, 0),),\n",
       " (datetime.datetime(2017, 12, 11, 8, 0),),\n",
       " (datetime.datetime(2017, 11, 18, 1, 23, 7, 547000),),\n",
       " (datetime.datetime(2017, 12, 11, 8, 0),),\n",
       " (datetime.datetime(2017, 12, 11, 8, 0),),\n",
       " (datetime.datetime(2017, 11, 26, 20, 11, 33, 848000),),\n",
       " (None,),\n",
       " (None,),\n",
       " (datetime.datetime(2017, 12, 1, 8, 0),),\n",
       " (datetime.datetime(2017, 12, 5, 21, 30, 12, 613000),),\n",
       " (datetime.datetime(2017, 12, 7, 2, 42, 15, 183000),),\n",
       " (datetime.datetime(2017, 12, 11, 8, 0),),\n",
       " (datetime.datetime(2017, 12, 11, 8, 0),),\n",
       " (datetime.datetime(2017, 12, 12, 17, 33, 19, 849000),),\n",
       " (datetime.datetime(2017, 12, 12, 17, 43, 3, 646000),),\n",
       " (datetime.datetime(2017, 12, 12, 18, 38, 47, 708000),),\n",
       " (datetime.datetime(2017, 12, 12, 19, 2, 29, 593000),),\n",
       " (datetime.datetime(2017, 12, 15, 18, 17, 40, 607000),),\n",
       " (datetime.datetime(2017, 12, 15, 18, 23, 6, 188000),),\n",
       " (datetime.datetime(2018, 1, 9, 8, 0),),\n",
       " (datetime.datetime(2018, 2, 16, 8, 0),),\n",
       " (datetime.datetime(2018, 1, 9, 18, 8, 14, 31000),),\n",
       " (datetime.datetime(2018, 1, 9, 20, 35, 58, 286001),),\n",
       " (datetime.datetime(2018, 2, 23, 8, 0),),\n",
       " (datetime.datetime(2018, 1, 26, 8, 0),),\n",
       " (datetime.datetime(2018, 1, 22, 20, 54, 52, 787000),),\n",
       " (datetime.datetime(2018, 2, 28, 8, 0),),\n",
       " (datetime.datetime(2018, 2, 4, 21, 26, 44, 169000),),\n",
       " (datetime.datetime(2018, 2, 4, 21, 46, 56, 687000),),\n",
       " (datetime.datetime(2018, 2, 5, 16, 37, 30, 93000),),\n",
       " (datetime.datetime(2018, 2, 28, 8, 0),),\n",
       " (datetime.datetime(2018, 2, 27, 21, 30),),\n",
       " (datetime.datetime(2018, 2, 27, 20, 30),),\n",
       " (datetime.datetime(2018, 3, 9, 8, 0),),\n",
       " (datetime.datetime(2018, 2, 27, 20, 45),),\n",
       " (datetime.datetime(2018, 3, 8, 18, 29, 4, 154001),),\n",
       " (datetime.datetime(2018, 3, 5, 20, 32, 28, 777000),),\n",
       " (datetime.datetime(2018, 3, 6, 20, 33, 47, 484000),),\n",
       " (datetime.datetime(2018, 3, 7, 20, 34, 47, 629000),),\n",
       " (datetime.datetime(2018, 3, 7, 20, 35, 49, 252000),),\n",
       " (datetime.datetime(2018, 3, 8, 20, 36, 58, 52000),),\n",
       " (datetime.datetime(2018, 3, 8, 20, 39, 1, 910000),),\n",
       " (datetime.datetime(2018, 3, 9, 20, 40, 34, 469000),),\n",
       " (datetime.datetime(2018, 3, 9, 20, 52, 46, 906000),),\n",
       " (datetime.datetime(2018, 3, 9, 20, 56, 9, 353000),),\n",
       " (datetime.datetime(2018, 3, 6, 21, 14, 42, 346000),),\n",
       " (datetime.datetime(2018, 3, 9, 8, 0),),\n",
       " (datetime.datetime(2018, 3, 9, 8, 0),),\n",
       " (datetime.datetime(2018, 3, 10, 15, 19, 23, 706000),),\n",
       " (datetime.datetime(2018, 3, 10, 15, 19, 50, 55001),),\n",
       " (datetime.datetime(2018, 3, 10, 15, 21, 2, 645000),),\n",
       " (datetime.datetime(2018, 3, 16, 15, 0, 30, 183000),),\n",
       " (datetime.datetime(2018, 3, 19, 19, 58, 53, 18000),),\n",
       " (datetime.datetime(2018, 3, 23, 7, 0),),\n",
       " (datetime.datetime(2018, 3, 22, 23, 19, 25, 614001),),\n",
       " (datetime.datetime(2018, 3, 26, 15, 9, 54, 268000),),\n",
       " (datetime.datetime(2018, 3, 24, 15, 12, 43, 952000),),\n",
       " (datetime.datetime(2018, 4, 6, 7, 0),),\n",
       " (datetime.datetime(2018, 3, 26, 7, 0),),\n",
       " (datetime.datetime(2018, 3, 27, 7, 0),),\n",
       " (datetime.datetime(2018, 3, 27, 7, 0),),\n",
       " (datetime.datetime(2018, 3, 28, 21, 23, 6, 943001),),\n",
       " (datetime.datetime(2018, 3, 28, 21, 24, 26, 790000),),\n",
       " (datetime.datetime(2018, 3, 28, 21, 25, 44, 159001),),\n",
       " (datetime.datetime(2018, 4, 3, 17, 37, 7, 59001),),\n",
       " (datetime.datetime(2018, 4, 2, 18, 7, 36, 644000),),\n",
       " (datetime.datetime(2018, 4, 3, 16, 26),),\n",
       " (datetime.datetime(2018, 4, 10, 7, 0),),\n",
       " (datetime.datetime(2018, 4, 10, 23, 49, 18, 800000),),\n",
       " (datetime.datetime(2018, 4, 10, 23, 56, 53, 762000),),\n",
       " (datetime.datetime(2018, 4, 18, 7, 0),),\n",
       " (datetime.datetime(2018, 4, 20, 7, 0),),\n",
       " (datetime.datetime(2018, 5, 3, 7, 0),),\n",
       " (datetime.datetime(2018, 4, 30, 7, 0),),\n",
       " (datetime.datetime(2018, 4, 23, 21, 11, 33, 430001),),\n",
       " (datetime.datetime(2018, 4, 25, 0, 1, 52, 958000),),\n",
       " (datetime.datetime(2018, 4, 27, 17, 34, 14, 258000),),\n",
       " (datetime.datetime(2018, 4, 27, 7, 0),),\n",
       " (None,),\n",
       " (datetime.datetime(2018, 5, 1, 17, 43, 41, 588000),),\n",
       " (datetime.datetime(2018, 5, 11, 7, 0),),\n",
       " (datetime.datetime(2018, 5, 15, 7, 0),),\n",
       " (datetime.datetime(2018, 5, 15, 3, 44, 45, 626001),),\n",
       " (datetime.datetime(2018, 5, 15, 3, 53, 33, 631000),),\n",
       " (datetime.datetime(2018, 5, 15, 3, 54, 54, 746001),),\n",
       " (datetime.datetime(2018, 5, 15, 3, 59, 15, 365000),),\n",
       " (datetime.datetime(2018, 5, 16, 19, 30),),\n",
       " (datetime.datetime(2018, 5, 31, 7, 0),),\n",
       " (datetime.datetime(2018, 6, 1, 7, 0),),\n",
       " (datetime.datetime(2018, 5, 30, 21, 2, 27, 913000),),\n",
       " (datetime.datetime(2018, 6, 6, 22, 29, 19, 675000),),\n",
       " (datetime.datetime(2018, 6, 5, 22, 2, 5, 206000),),\n",
       " (datetime.datetime(2018, 6, 5, 22, 3, 42, 786000),),\n",
       " (datetime.datetime(2018, 6, 18, 7, 0),),\n",
       " (datetime.datetime(2018, 6, 15, 4, 5, 59, 108001),),\n",
       " (datetime.datetime(2018, 6, 15, 4, 9, 41, 58000),),\n",
       " (datetime.datetime(2018, 6, 21, 7, 0),),\n",
       " (datetime.datetime(2018, 6, 21, 7, 0),),\n",
       " (datetime.datetime(2018, 6, 29, 7, 0),),\n",
       " (datetime.datetime(2018, 6, 29, 7, 0),),\n",
       " (datetime.datetime(2018, 7, 12, 7, 0),),\n",
       " (datetime.datetime(2018, 7, 12, 7, 0),),\n",
       " (datetime.datetime(2018, 7, 8, 21, 51, 28, 220000),),\n",
       " (datetime.datetime(2018, 7, 10, 20, 30),),\n",
       " (datetime.datetime(2018, 7, 10, 21, 0),),\n",
       " (datetime.datetime(2018, 8, 3, 7, 0),),\n",
       " (datetime.datetime(2018, 7, 25, 7, 0),),\n",
       " (datetime.datetime(2018, 7, 15, 16, 22, 5, 382000),),\n",
       " (datetime.datetime(2018, 7, 22, 22, 14, 56, 178000),),\n",
       " (None,),\n",
       " (datetime.datetime(2018, 7, 30, 7, 0),),\n",
       " (datetime.datetime(2018, 8, 1, 23, 21, 27, 886000),),\n",
       " (datetime.datetime(2018, 8, 3, 7, 0),),\n",
       " (datetime.datetime(2018, 8, 6, 20, 29, 30, 795000),),\n",
       " (datetime.datetime(2018, 8, 10, 7, 0),),\n",
       " (datetime.datetime(2018, 8, 7, 7, 0),),\n",
       " (datetime.datetime(2019, 1, 22, 8, 0),),\n",
       " (datetime.datetime(2018, 11, 1, 7, 0),),\n",
       " (datetime.datetime(2018, 8, 16, 7, 0),),\n",
       " (datetime.datetime(2018, 8, 10, 15, 0, 36, 648000),),\n",
       " (datetime.datetime(2018, 8, 10, 15, 2, 16, 417000),),\n",
       " (datetime.datetime(2018, 8, 10, 15, 5, 1, 427000),),\n",
       " (datetime.datetime(2018, 8, 10, 15, 8, 45, 934000),),\n",
       " (datetime.datetime(2019, 2, 14, 8, 0),),\n",
       " (datetime.datetime(2018, 8, 17, 7, 0),),\n",
       " (datetime.datetime(2018, 8, 20, 7, 0),),\n",
       " (datetime.datetime(2018, 8, 28, 7, 0),),\n",
       " (datetime.datetime(2018, 8, 24, 7, 0),),\n",
       " (datetime.datetime(2018, 8, 24, 7, 0),),\n",
       " (datetime.datetime(2018, 8, 24, 7, 0),),\n",
       " (datetime.datetime(2018, 9, 6, 7, 0),),\n",
       " (datetime.datetime(2018, 8, 23, 16, 25, 41, 595001),),\n",
       " (datetime.datetime(2018, 8, 28, 16, 26, 47, 331000),),\n",
       " (datetime.datetime(2018, 8, 21, 16, 28, 8, 885000),),\n",
       " (datetime.datetime(2018, 8, 29, 16, 34, 0, 114001),),\n",
       " (datetime.datetime(2018, 8, 21, 16, 35, 19, 850001),),\n",
       " (datetime.datetime(2018, 8, 23, 16, 36, 58, 130000),),\n",
       " (datetime.datetime(2018, 9, 10, 7, 0),),\n",
       " (datetime.datetime(2018, 9, 11, 7, 0),),\n",
       " (datetime.datetime(2018, 9, 12, 7, 0),),\n",
       " (datetime.datetime(2018, 9, 20, 7, 0),),\n",
       " (datetime.datetime(2018, 9, 20, 7, 0),),\n",
       " (datetime.datetime(2018, 9, 11, 19, 38, 56, 255000),),\n",
       " (datetime.datetime(2018, 9, 11, 20, 15, 14, 295000),),\n",
       " (datetime.datetime(2018, 9, 20, 7, 0),),\n",
       " (datetime.datetime(2018, 9, 26, 7, 0),),\n",
       " (datetime.datetime(2018, 10, 2, 22, 18, 23, 972000),),\n",
       " (datetime.datetime(2018, 10, 23, 7, 0),),\n",
       " (datetime.datetime(2018, 10, 27, 20, 52, 39, 710000),),\n",
       " (datetime.datetime(2018, 10, 27, 20, 53, 55, 456000),),\n",
       " (datetime.datetime(2018, 11, 3, 17, 28, 52, 865000),),\n",
       " (datetime.datetime(2018, 11, 14, 22, 0, 58, 692000),),\n",
       " (datetime.datetime(2018, 11, 20, 16, 0, 29, 675000),),\n",
       " (datetime.datetime(2018, 12, 3, 8, 0),),\n",
       " (datetime.datetime(2018, 12, 3, 0, 41, 38, 328000),),\n",
       " (datetime.datetime(2018, 12, 11, 17, 12, 32, 794000),),\n",
       " (datetime.datetime(2012, 12, 11, 8, 0),),\n",
       " (datetime.datetime(2019, 1, 2, 8, 0),),\n",
       " (datetime.datetime(2018, 12, 27, 17, 52, 16, 264000),),\n",
       " (datetime.datetime(2019, 1, 3, 8, 0),),\n",
       " (datetime.datetime(2019, 1, 7, 22, 37, 37, 496000),),\n",
       " (datetime.datetime(2019, 2, 21, 8, 0),),\n",
       " (datetime.datetime(2019, 1, 22, 8, 0),),\n",
       " (datetime.datetime(2019, 1, 22, 8, 0),),\n",
       " (datetime.datetime(2019, 2, 14, 8, 0),),\n",
       " (datetime.datetime(2019, 2, 14, 8, 0),),\n",
       " (datetime.datetime(2019, 2, 14, 8, 0),),\n",
       " (datetime.datetime(2019, 2, 14, 8, 0),),\n",
       " (datetime.datetime(2019, 2, 12, 21, 30, 29, 384001),),\n",
       " (datetime.datetime(2019, 2, 12, 22, 15, 54, 466000),),\n",
       " (datetime.datetime(2019, 2, 12, 22, 20, 32, 761000),),\n",
       " (datetime.datetime(2019, 2, 12, 22, 41, 34, 87000),),\n",
       " (datetime.datetime(2019, 2, 18, 8, 0),),\n",
       " (datetime.datetime(2019, 5, 10, 7, 0),),\n",
       " (datetime.datetime(2019, 3, 20, 16, 29, 45, 494001),),\n",
       " (datetime.datetime(2019, 3, 21, 16, 31, 43, 365000),),\n",
       " (datetime.datetime(2019, 6, 21, 7, 0),),\n",
       " (datetime.datetime(2019, 3, 26, 19, 4, 37, 532000),),\n",
       " (datetime.datetime(2019, 3, 26, 22, 8, 52, 514000),),\n",
       " (datetime.datetime(2019, 3, 27, 18, 23, 58, 454000),),\n",
       " (datetime.datetime(2019, 3, 27, 18, 35, 11, 713001),),\n",
       " (datetime.datetime(2019, 3, 27, 20, 50, 0, 660000),),\n",
       " (datetime.datetime(2019, 4, 17, 12, 37, 20, 473000),),\n",
       " (datetime.datetime(2019, 4, 17, 12, 43, 58, 102000),),\n",
       " (datetime.datetime(2019, 4, 22, 0, 14, 38, 849000),),\n",
       " (datetime.datetime(2019, 4, 26, 7, 0),),\n",
       " (datetime.datetime(2019, 4, 25, 16, 55, 36, 404000),),\n",
       " (datetime.datetime(2019, 4, 26, 7, 0),),\n",
       " (datetime.datetime(2019, 5, 16, 7, 0),),\n",
       " (datetime.datetime(2019, 5, 10, 18, 45, 52, 215000),),\n",
       " (datetime.datetime(2019, 5, 14, 15, 5, 24, 886000),),\n",
       " (datetime.datetime(2019, 5, 20, 21, 37, 29, 955001),),\n",
       " (datetime.datetime(2019, 5, 20, 21, 39, 53, 871001),),\n",
       " (datetime.datetime(2019, 5, 22, 7, 0),),\n",
       " (datetime.datetime(2019, 5, 28, 21, 54, 30, 182000),),\n",
       " (datetime.datetime(2019, 6, 1, 3, 5, 38, 684000),),\n",
       " (datetime.datetime(2019, 6, 4, 18, 45, 36, 832001),),\n",
       " (datetime.datetime(2019, 6, 6, 20, 50, 59, 250000),),\n",
       " (datetime.datetime(2019, 6, 19, 21, 0, 9, 9000),),\n",
       " (datetime.datetime(2019, 6, 20, 7, 0),),\n",
       " (datetime.datetime(2019, 6, 21, 7, 0),),\n",
       " (datetime.datetime(2019, 6, 21, 7, 0),),\n",
       " (datetime.datetime(2019, 6, 24, 20, 50, 42, 682000),),\n",
       " (datetime.datetime(2019, 6, 24, 7, 0),),\n",
       " (datetime.datetime(2019, 6, 21, 7, 0),),\n",
       " (datetime.datetime(2019, 6, 21, 7, 0),),\n",
       " (datetime.datetime(2019, 6, 26, 23, 44, 27, 481000),),\n",
       " (datetime.datetime(2019, 6, 26, 23, 45, 46, 43000),),\n",
       " (datetime.datetime(2019, 6, 28, 3, 40, 56, 46000),),\n",
       " (datetime.datetime(2019, 7, 1, 4, 14, 33, 211000),),\n",
       " (datetime.datetime(2019, 7, 3, 17, 56, 45, 277000),),\n",
       " (datetime.datetime(2019, 7, 3, 18, 15, 45, 633000),),\n",
       " (datetime.datetime(2019, 7, 6, 17, 35, 50, 551000),),\n",
       " (datetime.datetime(2019, 7, 10, 18, 5, 46, 841000),),\n",
       " (datetime.datetime(2019, 7, 17, 20, 56, 49, 268000),),\n",
       " (datetime.datetime(2019, 7, 17, 21, 55, 23, 405000),),\n",
       " (datetime.datetime(2019, 7, 18, 7, 0),),\n",
       " (datetime.datetime(2019, 7, 24, 21, 12, 53, 942000),),\n",
       " (datetime.datetime(2019, 7, 25, 7, 0),),\n",
       " (datetime.datetime(2019, 7, 30, 18, 48, 23, 297000),),\n",
       " (datetime.datetime(2019, 7, 31, 16, 25, 23, 486000),),\n",
       " (datetime.datetime(2019, 8, 7, 21, 50, 4, 563000),),\n",
       " (datetime.datetime(2019, 8, 8, 16, 16, 38, 494000),),\n",
       " (datetime.datetime(2019, 8, 8, 22, 30, 23, 300000),),\n",
       " (datetime.datetime(2019, 8, 9, 4, 2, 55, 743000),),\n",
       " (datetime.datetime(2019, 8, 9, 18, 59, 29, 862000),),\n",
       " (datetime.datetime(2019, 8, 9, 19, 9, 9, 863000),),\n",
       " (datetime.datetime(2019, 8, 12, 16, 41, 17, 22000),),\n",
       " (datetime.datetime(2019, 8, 13, 7, 0),),\n",
       " (datetime.datetime(2019, 8, 14, 17, 40),),\n",
       " (datetime.datetime(2019, 8, 14, 18, 35),),\n",
       " (datetime.datetime(2019, 8, 15, 19, 55, 6, 80000),),\n",
       " (datetime.datetime(2019, 8, 16, 14, 59, 15, 366000),),\n",
       " (datetime.datetime(2019, 8, 16, 17, 28, 59, 729000),),\n",
       " (datetime.datetime(2019, 8, 19, 20, 13, 32, 267000),),\n",
       " (datetime.datetime(2019, 8, 19, 20, 21, 43, 922000),),\n",
       " (datetime.datetime(2019, 8, 20, 22, 23, 53, 255000),),\n",
       " (datetime.datetime(2019, 8, 22, 19, 12, 53, 93001),),\n",
       " (datetime.datetime(2019, 8, 29, 21, 48, 41, 101000),),\n",
       " (datetime.datetime(2019, 8, 29, 22, 45, 35, 138000),),\n",
       " (datetime.datetime(2019, 8, 30, 20, 38, 58, 747000),),\n",
       " (datetime.datetime(2019, 8, 31, 17, 17, 59, 268000),),\n",
       " (datetime.datetime(2019, 8, 31, 17, 45, 51, 562000),),\n",
       " (datetime.datetime(2019, 8, 31, 17, 48, 54, 753000),),\n",
       " (datetime.datetime(2019, 9, 3, 16, 22, 30, 483000),),\n",
       " (datetime.datetime(2019, 9, 3, 17, 0, 1, 699001),),\n",
       " (datetime.datetime(2019, 9, 10, 19, 10),),\n",
       " (datetime.datetime(2019, 9, 12, 21, 13, 40, 173000),),\n",
       " (datetime.datetime(2019, 9, 12, 7, 0),),\n",
       " (datetime.datetime(2019, 9, 16, 18, 9, 27, 251000),),\n",
       " (datetime.datetime(2019, 9, 16, 18, 53, 33, 85000),),\n",
       " (datetime.datetime(2019, 9, 17, 21, 52, 49, 245000),),\n",
       " (datetime.datetime(2019, 9, 17, 22, 36, 16, 649000),),\n",
       " (datetime.datetime(2019, 9, 17, 22, 47, 25, 310000),),\n",
       " (datetime.datetime(2019, 9, 18, 14, 46, 5, 250000),),\n",
       " (datetime.datetime(2019, 12, 10, 8, 0),),\n",
       " (datetime.datetime(2019, 9, 19, 17, 5, 47, 42000),),\n",
       " (datetime.datetime(2019, 9, 19, 17, 29, 56, 729000),),\n",
       " (datetime.datetime(2019, 9, 19, 21, 6, 19, 406000),),\n",
       " (datetime.datetime(2019, 9, 19, 16, 35, 43, 492000),),\n",
       " (datetime.datetime(2019, 12, 10, 8, 0),),\n",
       " (datetime.datetime(2019, 9, 24, 19, 32, 57, 259001),),\n",
       " (datetime.datetime(2019, 9, 25, 16, 11, 33, 968000),),\n",
       " (datetime.datetime(2019, 9, 25, 17, 19, 24, 914000),),\n",
       " (datetime.datetime(2019, 9, 27, 19, 10, 56, 494000),),\n",
       " (datetime.datetime(2019, 9, 27, 19, 21, 39, 531000),),\n",
       " (datetime.datetime(2019, 10, 10, 22, 55, 38, 86000),),\n",
       " (datetime.datetime(2019, 10, 13, 16, 12, 45, 334000),),\n",
       " (datetime.datetime(2019, 10, 13, 20, 56, 33, 227000),),\n",
       " (datetime.datetime(2019, 10, 18, 23, 48, 16, 874000),),\n",
       " (datetime.datetime(2019, 10, 21, 7, 0),),\n",
       " (datetime.datetime(2019, 10, 24, 18, 0),),\n",
       " (datetime.datetime(2019, 10, 24, 21, 47, 29, 885000),),\n",
       " (datetime.datetime(2019, 12, 19, 8, 0),),\n",
       " (datetime.datetime(2019, 11, 14, 15, 50, 43, 779000),),\n",
       " (datetime.datetime(2019, 11, 18, 22, 43, 49, 540000),),\n",
       " (datetime.datetime(2019, 11, 19, 19, 34, 25, 62001),),\n",
       " (datetime.datetime(2019, 11, 21, 8, 0),),\n",
       " (datetime.datetime(2019, 12, 3, 21, 4, 12, 453000),),\n",
       " (datetime.datetime(2019, 12, 10, 0, 25, 3, 603000),),\n",
       " (datetime.datetime(2019, 12, 11, 21, 49, 10, 685000),),\n",
       " (datetime.datetime(2019, 12, 18, 8, 0),),\n",
       " (datetime.datetime(2019, 12, 26, 8, 0),),\n",
       " (datetime.datetime(2019, 12, 26, 8, 0),),\n",
       " (datetime.datetime(2019, 12, 26, 8, 0),),\n",
       " (datetime.datetime(2020, 1, 4, 22, 16, 46, 109000),),\n",
       " (datetime.datetime(2020, 1, 9, 20, 35, 7, 388000),),\n",
       " (datetime.datetime(2020, 1, 14, 21, 54, 19, 689000),),\n",
       " (datetime.datetime(2020, 1, 21, 18, 30),),\n",
       " (datetime.datetime(2020, 1, 23, 21, 47, 16, 824000),),\n",
       " (datetime.datetime(2020, 1, 25, 22, 51, 39, 318001),),\n",
       " (datetime.datetime(2020, 1, 27, 8, 0),),\n",
       " (datetime.datetime(2020, 1, 14, 21, 54, 19, 689000),),\n",
       " (datetime.datetime(2020, 1, 21, 18, 30),),\n",
       " (datetime.datetime(2020, 1, 23, 21, 47, 16, 824000),),\n",
       " (datetime.datetime(2020, 1, 25, 22, 51, 39, 318001),),\n",
       " (datetime.datetime(2020, 1, 27, 8, 0),),\n",
       " (datetime.datetime(2020, 1, 29, 21, 10, 45, 737000),),\n",
       " (datetime.datetime(2020, 1, 30, 18, 58, 21, 630000),),\n",
       " (datetime.datetime(2020, 2, 3, 8, 0),),\n",
       " (datetime.datetime(2020, 2, 3, 8, 0),),\n",
       " (datetime.datetime(2020, 1, 30, 8, 0),),\n",
       " (datetime.datetime(2020, 2, 4, 18, 32, 12, 975000),),\n",
       " (datetime.datetime(2020, 2, 7, 23, 9, 17, 837000),),\n",
       " (datetime.datetime(2020, 2, 8, 21, 43, 58, 998000),),\n",
       " (datetime.datetime(2020, 2, 10, 19, 42, 49, 836000),),\n",
       " (datetime.datetime(2020, 2, 10, 22, 22, 51, 603000),),\n",
       " (datetime.datetime(2020, 2, 22, 0, 29, 3, 228000),),\n",
       " (datetime.datetime(2020, 3, 6, 22, 59, 13, 272000),),\n",
       " (datetime.datetime(2020, 3, 6, 23, 9, 24, 566000),),\n",
       " (datetime.datetime(2020, 3, 9, 18, 30),),\n",
       " (datetime.datetime(2020, 3, 10, 21, 27, 48, 636000),),\n",
       " (datetime.datetime(2020, 3, 11, 21, 38, 59, 466000),),\n",
       " (datetime.datetime(2020, 3, 16, 20, 59, 39, 256000),),\n",
       " (datetime.datetime(2020, 3, 16, 21, 1, 15, 280000),),\n",
       " (datetime.datetime(2020, 3, 16, 21, 3, 37, 974000),),\n",
       " (datetime.datetime(2020, 3, 22, 20, 0),),\n",
       " (datetime.datetime(2020, 3, 22, 20, 30),),\n",
       " (datetime.datetime(2020, 3, 24, 22, 53, 9, 808000),),\n",
       " (datetime.datetime(2020, 4, 26, 14, 51, 23, 496001),),\n",
       " (datetime.datetime(2020, 5, 6, 7, 0),),\n",
       " (datetime.datetime(2020, 5, 6, 7, 0),),\n",
       " (datetime.datetime(2020, 5, 15, 7, 0),),\n",
       " (datetime.datetime(2020, 5, 21, 22, 57, 44, 504000),),\n",
       " (datetime.datetime(2020, 5, 27, 1, 55, 30, 655000),),\n",
       " (datetime.datetime(2020, 5, 29, 18, 12, 21, 876001),),\n",
       " (datetime.datetime(2020, 5, 29, 18, 14, 29, 48001),),\n",
       " (datetime.datetime(2020, 5, 29, 18, 16, 31, 273000),),\n",
       " (datetime.datetime(2020, 5, 29, 7, 0),),\n",
       " (datetime.datetime(2020, 6, 10, 3, 2, 16, 209000),),\n",
       " (datetime.datetime(2020, 6, 10, 3, 6, 50, 161001),),\n",
       " (datetime.datetime(2020, 6, 10, 3, 12, 36, 453000),),\n",
       " (datetime.datetime(2020, 6, 10, 3, 19, 20, 916000),),\n",
       " (datetime.datetime(2020, 6, 10, 3, 22, 6, 737000),),\n",
       " (datetime.datetime(2020, 6, 10, 3, 26, 25, 784000),),\n",
       " (datetime.datetime(2020, 6, 10, 3, 35, 57, 61000),),\n",
       " (datetime.datetime(2020, 6, 10, 3, 41, 58, 498000),),\n",
       " (datetime.datetime(2020, 6, 12, 20, 15, 31, 824000),),\n",
       " (datetime.datetime(2020, 6, 12, 20, 44, 6, 328000),),\n",
       " (datetime.datetime(2020, 6, 17, 23, 2, 34, 87000),),\n",
       " (datetime.datetime(2020, 6, 17, 7, 0),),\n",
       " (datetime.datetime(2020, 6, 23, 17, 24, 20, 269000),),\n",
       " (datetime.datetime(2020, 6, 23, 18, 8, 21, 813000),),\n",
       " (datetime.datetime(2020, 7, 1, 7, 0),),\n",
       " (datetime.datetime(2020, 7, 1, 7, 0),),\n",
       " (datetime.datetime(2020, 7, 8, 22, 16, 46, 530000),),\n",
       " (datetime.datetime(2020, 7, 8, 14, 8, 41, 189000),),\n",
       " (datetime.datetime(2020, 7, 15, 15, 56, 14, 201000),),\n",
       " (datetime.datetime(2020, 7, 15, 16, 15, 21, 213000),),\n",
       " (datetime.datetime(2020, 7, 10, 7, 0),),\n",
       " (datetime.datetime(2020, 8, 4, 21, 59, 53, 900000),),\n",
       " (datetime.datetime(2020, 8, 4, 20, 34, 10, 533000),),\n",
       " (datetime.datetime(2020, 8, 11, 15, 3, 53, 791001),),\n",
       " (datetime.datetime(2020, 8, 11, 18, 9, 48, 701000),),\n",
       " (datetime.datetime(2020, 8, 12, 21, 44, 48, 912000),),\n",
       " (datetime.datetime(2020, 8, 12, 7, 0),),\n",
       " (datetime.datetime(2020, 8, 18, 21, 46, 22, 850000),),\n",
       " (datetime.datetime(2020, 8, 25, 21, 51, 0, 193001),),\n",
       " (datetime.datetime(2020, 9, 1, 18, 5, 38, 135000),),\n",
       " (datetime.datetime(2020, 8, 26, 7, 0),),\n",
       " (datetime.datetime(2020, 10, 8, 5, 16, 3, 518000),),\n",
       " (datetime.datetime(2020, 10, 21, 15, 33, 49, 985000),),\n",
       " (datetime.datetime(2020, 10, 27, 19, 30, 9, 24000),),\n",
       " (datetime.datetime(2020, 10, 27, 19, 46, 13, 759000),),\n",
       " (datetime.datetime(2020, 10, 31, 1, 7, 16, 432000),),\n",
       " (datetime.datetime(2020, 11, 10, 8, 0),),\n",
       " (datetime.datetime(2020, 11, 10, 16, 41, 5, 597000),),\n",
       " (datetime.datetime(2020, 11, 18, 8, 0),),\n",
       " (datetime.datetime(2020, 12, 3, 21, 39, 43, 492000),),\n",
       " (datetime.datetime(2020, 12, 3, 21, 49, 0, 716000),),\n",
       " (datetime.datetime(2020, 12, 10, 17, 52, 52, 325000),),\n",
       " (datetime.datetime(2020, 12, 11, 20, 41, 50, 881000),),\n",
       " (datetime.datetime(2020, 12, 11, 20, 46, 2, 478000),),\n",
       " (datetime.datetime(2020, 12, 11, 20, 47, 26, 207000),),\n",
       " (datetime.datetime(2020, 12, 11, 20, 48, 29, 109000),),\n",
       " (datetime.datetime(2021, 1, 7, 20, 55, 28, 651000),),\n",
       " (datetime.datetime(2021, 1, 23, 15, 47, 15, 47000),),\n",
       " (datetime.datetime(2021, 1, 13, 21, 5, 59, 839000),),\n",
       " (datetime.datetime(2021, 1, 26, 21, 0, 58, 650000),),\n",
       " (datetime.datetime(2021, 2, 2, 8, 0),),\n",
       " (datetime.datetime(2021, 2, 2, 8, 0),),\n",
       " (None,),\n",
       " (None,),\n",
       " (datetime.datetime(2021, 2, 2, 8, 0),),\n",
       " (None,),\n",
       " (datetime.datetime(2021, 2, 2, 8, 0),),\n",
       " (datetime.datetime(2021, 2, 3, 8, 0),),\n",
       " (datetime.datetime(2021, 2, 1, 18, 41, 29, 778000),),\n",
       " (datetime.datetime(2021, 2, 5, 8, 0),),\n",
       " (datetime.datetime(2021, 2, 9, 8, 0),),\n",
       " (datetime.datetime(2021, 2, 9, 8, 0),),\n",
       " (None,),\n",
       " (datetime.datetime(2021, 2, 11, 17, 26, 28, 178000),),\n",
       " (datetime.datetime(2021, 3, 2, 17, 20, 4, 53001),),\n",
       " (datetime.datetime(2021, 2, 24, 8, 0),),\n",
       " (datetime.datetime(2021, 2, 10, 8, 0),),\n",
       " (None,),\n",
       " (datetime.datetime(2021, 2, 4, 8, 0),),\n",
       " (datetime.datetime(2021, 3, 15, 7, 38, 23, 152000),),\n",
       " (datetime.datetime(2021, 3, 16, 19, 50, 44, 323000),),\n",
       " (datetime.datetime(2021, 3, 17, 16, 50, 31, 294000),),\n",
       " (datetime.datetime(2021, 3, 18, 21, 13, 32, 926000),),\n",
       " (datetime.datetime(2021, 3, 26, 10, 18, 20, 863000),),\n",
       " (datetime.datetime(2021, 3, 26, 10, 23),),\n",
       " (datetime.datetime(2021, 3, 29, 18, 6, 15, 518000),),\n",
       " (datetime.datetime(2021, 4, 7, 21, 6, 8, 564000),),\n",
       " (datetime.datetime(2021, 4, 7, 22, 40, 33, 955000),),\n",
       " (datetime.datetime(2021, 4, 13, 18, 46, 53, 705001),),\n",
       " (datetime.datetime(2021, 4, 27, 15, 51, 19, 565000),),\n",
       " (datetime.datetime(2021, 4, 29, 17, 1, 33, 865000),),\n",
       " (datetime.datetime(2021, 5, 11, 4, 56, 9, 33001),),\n",
       " (datetime.datetime(2021, 5, 12, 16, 12, 37, 922001),),\n",
       " (datetime.datetime(2021, 5, 12, 18, 15, 44, 113000),),\n",
       " (datetime.datetime(2021, 5, 12, 18, 35, 10, 804000),),\n",
       " (datetime.datetime(2021, 5, 4, 15, 15),),\n",
       " (datetime.datetime(2021, 5, 22, 15, 29, 54, 572000),),\n",
       " (datetime.datetime(2021, 5, 24, 21, 20, 35, 559000),),\n",
       " (datetime.datetime(2021, 6, 8, 15, 20, 27, 460000),),\n",
       " (datetime.datetime(2021, 6, 8, 15, 41, 11, 15000),),\n",
       " (datetime.datetime(2021, 6, 8, 21, 26, 31, 112000),),\n",
       " (datetime.datetime(2021, 6, 8, 21, 34, 34, 623000),),\n",
       " (datetime.datetime(2021, 6, 9, 16, 40, 49, 94000),),\n",
       " (datetime.datetime(2021, 6, 16, 17, 2, 34, 87000),),\n",
       " (datetime.datetime(2021, 6, 16, 17, 46, 48, 293000),),\n",
       " (datetime.datetime(2021, 6, 16, 17, 51, 46, 642000),),\n",
       " (datetime.datetime(2021, 6, 24, 16, 55, 39, 691000),),\n",
       " (datetime.datetime(2021, 6, 28, 19, 34, 59, 1001),),\n",
       " (datetime.datetime(2021, 7, 8, 18, 0, 15, 992000),),\n",
       " (datetime.datetime(2021, 7, 8, 16, 45),),\n",
       " (datetime.datetime(2021, 8, 3, 22, 47, 54, 585000),),\n",
       " (datetime.datetime(2021, 8, 4, 18, 29, 5, 935000),),\n",
       " (datetime.datetime(2021, 8, 10, 7, 0),),\n",
       " (datetime.datetime(2021, 8, 10, 7, 0),),\n",
       " (datetime.datetime(2021, 8, 10, 7, 0),),\n",
       " (datetime.datetime(2021, 8, 10, 7, 0),),\n",
       " (datetime.datetime(2021, 8, 10, 7, 0),),\n",
       " (datetime.datetime(2021, 8, 18, 18, 53, 22, 70000),),\n",
       " (datetime.datetime(2021, 8, 18, 19, 32, 50, 726001),),\n",
       " (datetime.datetime(2021, 8, 30, 7, 0),),\n",
       " (datetime.datetime(2021, 8, 30, 7, 0),),\n",
       " (datetime.datetime(2021, 8, 30, 7, 0),),\n",
       " (datetime.datetime(2021, 8, 30, 23, 51),),\n",
       " (datetime.datetime(2021, 9, 9, 18, 26, 29, 20000),),\n",
       " (datetime.datetime(2021, 9, 9, 18, 45, 45, 850001),),\n",
       " (datetime.datetime(2021, 9, 9, 19, 35, 29, 354000),),\n",
       " (datetime.datetime(2021, 10, 5, 23, 2, 3, 464000),),\n",
       " (datetime.datetime(2021, 11, 19, 6, 26, 13, 129000),),\n",
       " (datetime.datetime(2021, 11, 22, 22, 49, 52, 814000),),\n",
       " (datetime.datetime(2021, 11, 22, 22, 52, 22, 437000),),\n",
       " (datetime.datetime(2021, 11, 29, 10, 37, 28, 738000),),\n",
       " (datetime.datetime(2021, 11, 29, 10, 39, 50, 794000),),\n",
       " (datetime.datetime(2021, 12, 3, 19, 10, 54, 139000),),\n",
       " (datetime.datetime(2021, 12, 7, 22, 44, 20, 408000),),\n",
       " (datetime.datetime(2021, 12, 20, 7, 53, 28, 508001),),\n",
       " (datetime.datetime(2021, 12, 22, 12, 12, 23, 528000),),\n",
       " (datetime.datetime(2021, 12, 23, 18, 0),),\n",
       " (datetime.datetime(2021, 12, 25, 19, 0),),\n",
       " (datetime.datetime(2021, 12, 31, 16, 43, 30, 522000),),\n",
       " (datetime.datetime(2022, 1, 25, 15, 30, 8, 107001),),\n",
       " (datetime.datetime(2022, 1, 27, 22, 12, 15, 352000),),\n",
       " (datetime.datetime(2022, 1, 27, 23, 3),),\n",
       " (datetime.datetime(2022, 2, 11, 19, 38, 18, 882000),),\n",
       " (datetime.datetime(2022, 2, 11, 19, 40, 5, 858000),),\n",
       " (datetime.datetime(2022, 2, 11, 19, 42, 39, 187000),),\n",
       " (datetime.datetime(2022, 3, 9, 15, 47, 23, 691000),),\n",
       " (datetime.datetime(2022, 3, 30, 17, 18, 1, 416000),),\n",
       " (datetime.datetime(2022, 4, 13, 20, 19, 52, 282000),),\n",
       " (None,),\n",
       " (datetime.datetime(2022, 5, 19, 18, 47, 53, 257000),),\n",
       " (datetime.datetime(2022, 6, 16, 18, 20, 20, 525000),),\n",
       " (datetime.datetime(2022, 6, 30, 16, 14, 27, 86001),),\n",
       " (None,),\n",
       " (datetime.datetime(2022, 7, 20, 16, 15, 46, 470000),),\n",
       " (datetime.datetime(2022, 7, 20, 18, 47, 13, 673000),),\n",
       " (datetime.datetime(2022, 8, 9, 19, 4, 1, 224000),),\n",
       " (datetime.datetime(2022, 8, 25, 17, 13, 20, 862000),),\n",
       " (datetime.datetime(2022, 8, 25, 18, 11, 10, 669000),),\n",
       " (datetime.datetime(2022, 8, 24, 18, 36, 35),),\n",
       " (datetime.datetime(2022, 8, 24, 18, 47, 31),),\n",
       " (datetime.datetime(2022, 8, 24, 18, 51, 41),),\n",
       " (datetime.datetime(2022, 9, 1, 13, 49, 18, 862000),),\n",
       " (datetime.datetime(2022, 9, 6, 11, 26, 34, 600000),),\n",
       " (datetime.datetime(2022, 9, 19, 17, 9, 12, 13000),),\n",
       " (datetime.datetime(2022, 9, 19, 19, 19, 39, 712001),),\n",
       " (datetime.datetime(2022, 9, 20, 21, 55, 20, 441000),),\n",
       " (datetime.datetime(2022, 10, 6, 15, 0),),\n",
       " (datetime.datetime(2022, 9, 28, 16, 15),),\n",
       " (datetime.datetime(2020, 10, 18, 16, 20, 45),),\n",
       " (datetime.datetime(2022, 11, 15, 17, 15),),\n",
       " (datetime.datetime(2022, 11, 27, 17, 31, 33, 53000),),\n",
       " (datetime.datetime(2022, 11, 27, 17, 34, 41, 130000),),\n",
       " (datetime.datetime(2022, 12, 1, 16, 59, 6, 314000),),\n",
       " (datetime.datetime(2022, 12, 26, 17, 42, 19, 679000),),\n",
       " (datetime.datetime(2023, 1, 12, 17, 20),),\n",
       " (datetime.datetime(2023, 1, 12, 19, 3, 56, 656000),),\n",
       " (datetime.datetime(2023, 1, 12, 17, 30),),\n",
       " (datetime.datetime(2023, 1, 14, 23, 55, 36, 861001),),\n",
       " (datetime.datetime(2023, 1, 18, 22, 52, 35, 515000),)]"
      ]
     },
     "execution_count": 159,
     "metadata": {},
     "output_type": "execute_result"
    }
   ],
   "source": [
    "listdates1"
   ]
  },
  {
   "cell_type": "code",
   "execution_count": 68,
   "id": "65872ecc",
   "metadata": {},
   "outputs": [],
   "source": [
    "listdates = [dt[0] for dt in listdates if dt[0] is not None]"
   ]
  },
  {
   "cell_type": "code",
   "execution_count": 69,
   "id": "e35b331f",
   "metadata": {},
   "outputs": [],
   "source": [
    "maxdate = max(listdates)"
   ]
  },
  {
   "cell_type": "code",
   "execution_count": 70,
   "id": "1cb2e339",
   "metadata": {},
   "outputs": [
    {
     "data": {
      "text/plain": [
       "datetime.datetime(2023, 1, 18, 22, 52, 35, 515000)"
      ]
     },
     "execution_count": 70,
     "metadata": {},
     "output_type": "execute_result"
    }
   ],
   "source": [
    "maxdate"
   ]
  },
  {
   "cell_type": "code",
   "execution_count": 71,
   "id": "b2716f46",
   "metadata": {},
   "outputs": [],
   "source": [
    "maxdatestr = str(maxdate)"
   ]
  },
  {
   "cell_type": "code",
   "execution_count": 102,
   "id": "57257983",
   "metadata": {},
   "outputs": [
    {
     "data": {
      "text/plain": [
       "'2023-01-18 22:52:35'"
      ]
     },
     "execution_count": 102,
     "metadata": {},
     "output_type": "execute_result"
    }
   ],
   "source": [
    "maxdatestr.split('.')[0]"
   ]
  },
  {
   "cell_type": "code",
   "execution_count": 81,
   "id": "c0bd1b7b",
   "metadata": {},
   "outputs": [],
   "source": [
    "timestrlist = maxdatestr.split(' ')[1].split(':')"
   ]
  },
  {
   "cell_type": "code",
   "execution_count": 82,
   "id": "89fd807f",
   "metadata": {},
   "outputs": [],
   "source": [
    "h = timestrlist[0]\n",
    "m = timestrlist[1]\n",
    "s = timestrlist[2].split('.')[0]"
   ]
  },
  {
   "cell_type": "code",
   "execution_count": 83,
   "id": "e97e1794",
   "metadata": {},
   "outputs": [],
   "source": [
    "def convert_hour(str_h):\n",
    "    h = int(str_h)\n",
    "    if h >= 0 and h <= 11:\n",
    "        res = [str_h, 'AM']\n",
    "    elif h == 12:\n",
    "        res = [str_h, 'PM']\n",
    "    elif h > 12 and h <=23:\n",
    "        res = [str(h-12), 'PM']\n",
    "    return res"
   ]
  },
  {
   "cell_type": "code",
   "execution_count": 86,
   "id": "39ee5272",
   "metadata": {},
   "outputs": [],
   "source": [
    "cvt_h = convert_hour(h)"
   ]
  },
  {
   "cell_type": "code",
   "execution_count": 94,
   "id": "12da5467",
   "metadata": {},
   "outputs": [],
   "source": [
    "def convert_date(datestr):\n",
    "    datestrlist = datestr.split('-')\n",
    "    Y = datestrlist[0]\n",
    "    m = str(int(datestrlist[1]))\n",
    "    d = str(int(datestrlist[2]))\n",
    "    res = m+'/'+d+'/'+Y\n",
    "    return res"
   ]
  },
  {
   "cell_type": "code",
   "execution_count": 95,
   "id": "8e97da2a",
   "metadata": {},
   "outputs": [
    {
     "data": {
      "text/plain": [
       "'1/18/2023'"
      ]
     },
     "execution_count": 95,
     "metadata": {},
     "output_type": "execute_result"
    }
   ],
   "source": [
    "convert_date(datestr)"
   ]
  },
  {
   "cell_type": "code",
   "execution_count": 173,
   "id": "29472a7d",
   "metadata": {},
   "outputs": [],
   "source": [
    "def getDateStr(date):\n",
    "    def convert_hour(str_h):\n",
    "        h = int(str_h)\n",
    "        if h >= 0 and h <= 11:\n",
    "            res = [str_h, 'AM']\n",
    "        elif h == 12:\n",
    "            res = [str_h, 'PM']\n",
    "        elif h > 12 and h <=23:\n",
    "            res = [str(h-12), 'PM']\n",
    "        return res\n",
    "    \n",
    "    if date is None:\n",
    "        res = None\n",
    "    else:\n",
    "        strdate = str(date)\n",
    "        datestr = strdate.split(' ')[0]\n",
    "        res = convert_date(datestr)\n",
    "    return res"
   ]
  },
  {
   "cell_type": "code",
   "execution_count": 96,
   "id": "7139e926",
   "metadata": {},
   "outputs": [],
   "source": [
    "maxdatestr_n = convert_date(datestr) + ' '  + cvt_h[0] + ':' + m + ':' + s + ' ' + cvt_h[1]"
   ]
  },
  {
   "cell_type": "code",
   "execution_count": 97,
   "id": "88fc317c",
   "metadata": {},
   "outputs": [
    {
     "data": {
      "text/plain": [
       "'1/18/2023 10:52:35 PM'"
      ]
     },
     "execution_count": 97,
     "metadata": {},
     "output_type": "execute_result"
    }
   ],
   "source": [
    "maxdatestr_n"
   ]
  },
  {
   "cell_type": "code",
   "execution_count": 137,
   "id": "7c143910",
   "metadata": {},
   "outputs": [
    {
     "data": {
      "text/plain": [
       "'1/18/2023 10:52:35 PM'"
      ]
     },
     "execution_count": 137,
     "metadata": {},
     "output_type": "execute_result"
    }
   ],
   "source": [
    "getDateStr(maxdate)"
   ]
  },
  {
   "cell_type": "code",
   "execution_count": null,
   "id": "de05ffc5",
   "metadata": {},
   "outputs": [],
   "source": [
    "Date = timestamp '2023-01-18 22:52:36'"
   ]
  },
  {
   "cell_type": "code",
   "execution_count": 100,
   "id": "fc419b9d",
   "metadata": {},
   "outputs": [
    {
     "data": {
      "text/plain": [
       "\"Date = '1/18/2023 10:52:35 PM'\""
      ]
     },
     "execution_count": 100,
     "metadata": {},
     "output_type": "execute_result"
    }
   ],
   "source": [
    "f\"Date = '{maxdatestr_n}'\""
   ]
  },
  {
   "cell_type": "code",
   "execution_count": 129,
   "id": "b1f58619",
   "metadata": {},
   "outputs": [
    {
     "data": {
      "text/html": [
       "<div class='gpresult'><h2>Messages</h2><div id='messages' data-messages='[\"Start Time: Thursday, January 19, 2023 3:12:28 AM\",\"Succeeded at Thursday, January 19, 2023 3:23:42 AM (Elapsed Time: 11 minutes 13 seconds)\"]' data-show='true'><div id = 'default' /></div></div>"
      ],
      "text/plain": [
       "<Result 'G:\\\\projects\\\\UtilityDistricts\\\\eweb\\\\DrinkingWater\\\\IllegalCampCoordination\\\\Recieved\\\\IllegalCampNotification_pro\\\\MyProject4.gdb\\\\datacopy'>"
      ]
     },
     "execution_count": 129,
     "metadata": {},
     "output_type": "execute_result"
    }
   ],
   "source": [
    "arcpy.management.CopyFeatures(camp_site, path + '\\\\MyProject4.gdb\\\\datacopy')"
   ]
  },
  {
   "cell_type": "code",
   "execution_count": 134,
   "id": "4b5ee554",
   "metadata": {},
   "outputs": [
    {
     "data": {
      "text/html": [
       "<div class='gpresult'><h2>Messages</h2><div id='messages' data-messages='[\"Start Time: Thursday, January 19, 2023 3:39:03 AM\",\"Adding Date_str to datacopy...\",\"Succeeded at Thursday, January 19, 2023 3:39:06 AM (Elapsed Time: 3.15 seconds)\"]' data-show='true'><div id = 'default' /></div></div>"
      ],
      "text/plain": [
       "<Result 'G:\\\\projects\\\\UtilityDistricts\\\\eweb\\\\DrinkingWater\\\\IllegalCampCoordination\\\\Recieved\\\\IllegalCampNotification_pro\\\\MyProject4.gdb\\\\datacopy'>"
      ]
     },
     "execution_count": 134,
     "metadata": {},
     "output_type": "execute_result"
    }
   ],
   "source": [
    "arcpy.management.AddFields(path + '\\\\MyProject4.gdb\\\\datacopy', [['Date_str', \"TEXT\", 'datestr', 255, '1/18/2023 10:52:35 PM', '']])"
   ]
  },
  {
   "cell_type": "code",
   "execution_count": 171,
   "id": "6594d0cb",
   "metadata": {},
   "outputs": [],
   "source": [
    "expression = \"getDateStr(!Date!)\"\n",
    "\n",
    "codeblock = \"\"\"\n",
    "def getDateStr(date):\n",
    "    def convert_date(datestr):\n",
    "        datestrlist = datestr.split('-')\n",
    "        Y = datestrlist[0]\n",
    "        m = str(int(datestrlist[1]))\n",
    "        d = str(int(datestrlist[2]))\n",
    "        res = m+'/'+d+'/'+Y\n",
    "        return res\n",
    "\n",
    "    if date is None:\n",
    "        res = None\n",
    "    else:\n",
    "        strdate = str(date)\n",
    "        datestr = strdate.split(' ')[0]\n",
    "        res = convert_date(datestr)\n",
    "    return res\"\"\""
   ]
  },
  {
   "cell_type": "code",
   "execution_count": 172,
   "id": "3377fdcd",
   "metadata": {},
   "outputs": [
    {
     "data": {
      "text/html": [
       "<div class='gpresult'><h2>Messages</h2><div id='messages' data-messages='[\"Start Time: Thursday, January 19, 2023 4:16:34 AM\",\"Succeeded at Thursday, January 19, 2023 4:16:35 AM (Elapsed Time: 0.97 seconds)\"]' data-show='true'><div id = 'default' /></div></div>"
      ],
      "text/plain": [
       "<Result 'G:\\\\projects\\\\UtilityDistricts\\\\eweb\\\\DrinkingWater\\\\IllegalCampCoordination\\\\Recieved\\\\IllegalCampNotification_pro\\\\MyProject4.gdb\\\\datacopy'>"
      ]
     },
     "execution_count": 172,
     "metadata": {},
     "output_type": "execute_result"
    }
   ],
   "source": [
    "arcpy.management.CalculateField(path + '\\\\MyProject4.gdb\\\\datacopy', 'Date_str',  expression, \"PYTHON3\", \n",
    "                                codeblock)"
   ]
  },
  {
   "cell_type": "code",
   "execution_count": 165,
   "id": "72fc5e1d",
   "metadata": {},
   "outputs": [
    {
     "data": {
      "text/plain": [
       "'1/18/2023 10:52:35 PM'"
      ]
     },
     "execution_count": 165,
     "metadata": {},
     "output_type": "execute_result"
    }
   ],
   "source": [
    "maxdatestr_n"
   ]
  },
  {
   "cell_type": "code",
   "execution_count": 169,
   "id": "70f43ded",
   "metadata": {},
   "outputs": [
    {
     "data": {
      "text/plain": [
       "datetime.datetime(2023, 1, 18, 22, 52, 35, 515000)"
      ]
     },
     "execution_count": 169,
     "metadata": {},
     "output_type": "execute_result"
    }
   ],
   "source": [
    "maxdate"
   ]
  },
  {
   "cell_type": "code",
   "execution_count": 174,
   "id": "aa92bccb",
   "metadata": {},
   "outputs": [
    {
     "data": {
      "text/plain": [
       "'1/18/2023'"
      ]
     },
     "execution_count": 174,
     "metadata": {},
     "output_type": "execute_result"
    }
   ],
   "source": [
    "getDateStr(maxdate)"
   ]
  },
  {
   "cell_type": "code",
   "execution_count": 175,
   "id": "9190549d",
   "metadata": {},
   "outputs": [],
   "source": [
    "selres = arcpy.SelectLayerByAttribute_management(path + '\\\\MyProject4.gdb\\\\datacopy',\n",
    "                                                 \"NEW_SELECTION\", f\"Date_str = '{getDateStr(maxdate)}'\")"
   ]
  },
  {
   "cell_type": "code",
   "execution_count": 125,
   "id": "2e6fa458",
   "metadata": {},
   "outputs": [],
   "source": [
    "selres = arcpy.SelectLayerByAttribute_management(camp_site, \"NEW_SELECTION\", \"Date = date '2023-01-18'\")"
   ]
  },
  {
   "cell_type": "code",
   "execution_count": 176,
   "id": "74f9534b",
   "metadata": {},
   "outputs": [
    {
     "name": "stdout",
     "output_type": "stream",
     "text": [
      "datacopy_Layer5\n"
     ]
    }
   ],
   "source": [
    "print(selres)"
   ]
  },
  {
   "cell_type": "code",
   "execution_count": 177,
   "id": "4d90578a",
   "metadata": {},
   "outputs": [
    {
     "data": {
      "text/html": [
       "<div class='gpresult'><h2>Messages</h2><div id='messages' data-messages='[\"Start Time: Thursday, January 19, 2023 4:17:54 AM\",\"Succeeded at Thursday, January 19, 2023 4:18:11 AM (Elapsed Time: 16.78 seconds)\"]' data-show='true'><div id = 'default' /></div></div>"
      ],
      "text/plain": [
       "<Result 'G:\\\\projects\\\\UtilityDistricts\\\\eweb\\\\DrinkingWater\\\\IllegalCampCoordination\\\\Recieved\\\\IllegalCampNotification_pro\\\\MyProject4.gdb\\\\most_recent'>"
      ]
     },
     "execution_count": 177,
     "metadata": {},
     "output_type": "execute_result"
    }
   ],
   "source": [
    "arcpy.management.CopyFeatures(selres, path + '\\\\MyProject4.gdb\\\\most_recent')"
   ]
  },
  {
   "cell_type": "code",
   "execution_count": 178,
   "id": "9456c7fc",
   "metadata": {},
   "outputs": [
    {
     "data": {
      "text/html": [
       "<div class='gpresult'><h2>Messages</h2><div id='messages' data-messages='[\"Start Time: Thursday, January 19, 2023 4:19:29 AM\",\"Succeeded at Thursday, January 19, 2023 4:19:50 AM (Elapsed Time: 21.52 seconds)\"]' data-show='true'><div id = 'default' /></div></div>"
      ],
      "text/plain": [
       "<Result 'G:\\\\projects\\\\UtilityDistricts\\\\eweb\\\\DrinkingWater\\\\IllegalCampCoordination\\\\Recieved\\\\IllegalCampNotification_pro\\\\MyProject4.gdb\\\\HomelessCampSite_SpatialJoin14c'>"
      ]
     },
     "execution_count": 178,
     "metadata": {},
     "output_type": "execute_result"
    }
   ],
   "source": [
    "arcpy.analysis.SpatialJoin(selres, fc, path + '\\\\MyProject4.gdb\\\\HomelessCampSite_SpatialJoin14c', \"JOIN_ONE_TO_ONE\", \"KEEP_ALL\")"
   ]
  },
  {
   "cell_type": "code",
   "execution_count": 182,
   "id": "4a04853b",
   "metadata": {},
   "outputs": [
    {
     "data": {
      "text/html": [
       "<div class='gpresult'><h2>Messages</h2><div id='messages' data-messages='[\"Start Time: Thursday, January 19, 2023 4:29:57 AM\",\"WARNING 000728: Field Unruly inhabitants does not exist within table\",\"Succeeded at Thursday, January 19, 2023 4:29:59 AM (Elapsed Time: 1.94 seconds)\"]' data-show='true'><div id = 'default' /></div></div>"
      ],
      "text/plain": [
       "<Result 'G:\\\\projects\\\\UtilityDistricts\\\\eweb\\\\DrinkingWater\\\\IllegalCampCoordination\\\\Recieved\\\\IllegalCampNotification_pro\\\\MyProject4.gdb\\\\HomelessCampSite_SpatialJoin14c'>"
      ]
     },
     "execution_count": 182,
     "metadata": {},
     "output_type": "execute_result"
    }
   ],
   "source": [
    "arcpy.DeleteField_management(path + '\\\\MyProject4.gdb\\\\HomelessCampSite_SpatialJoin14c', \n",
    "                             [\"Join_Count\", \"Unruly inhabitants\"])"
   ]
  },
  {
   "cell_type": "code",
   "execution_count": 183,
   "id": "f6db1ff2",
   "metadata": {},
   "outputs": [
    {
     "data": {
      "text/html": [
       "<div class='gpresult'><h2>Messages</h2><div id='messages' data-messages='[\"Start Time: Thursday, January 19, 2023 4:30:09 AM\",\"Succeeded at Thursday, January 19, 2023 4:30:16 AM (Elapsed Time: 7.53 seconds)\"]' data-show='true'><div id = 'default' /></div></div>"
      ],
      "text/plain": [
       "<Result 'G:\\\\projects\\\\UtilityDistricts\\\\eweb\\\\DrinkingWater\\\\IllegalCampCoordination\\\\Recieved\\\\IllegalCampNotification_pro\\\\most_recent.xlsx'>"
      ]
     },
     "execution_count": 183,
     "metadata": {},
     "output_type": "execute_result"
    }
   ],
   "source": [
    "arcpy.conversion.TableToExcel(path + '\\\\MyProject4.gdb\\\\HomelessCampSite_SpatialJoin14c', path+'\\\\most_recent.xlsx')"
   ]
  }
 ],
 "metadata": {
  "kernelspec": {
   "display_name": "Python 3",
   "language": "python",
   "name": "python3"
  },
  "language_info": {
   "codemirror_mode": {
    "name": "ipython",
    "version": 3
   },
   "file_extension": ".py",
   "mimetype": "text/x-python",
   "name": "python",
   "nbconvert_exporter": "python",
   "pygments_lexer": "ipython3",
   "version": "3.9.11"
  }
 },
 "nbformat": 4,
 "nbformat_minor": 5
}
