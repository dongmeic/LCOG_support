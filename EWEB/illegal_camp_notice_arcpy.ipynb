{
 "cells": [
  {
   "cell_type": "code",
   "execution_count": 14,
   "id": "9efba589",
   "metadata": {},
   "outputs": [],
   "source": [
    "import arcpy"
   ]
  },
  {
   "cell_type": "code",
   "execution_count": 185,
   "id": "668c9e29",
   "metadata": {},
   "outputs": [],
   "source": [
    "from arcgis.gis import GIS"
   ]
  },
  {
   "cell_type": "code",
   "execution_count": 186,
   "id": "b0a9c423",
   "metadata": {},
   "outputs": [],
   "source": [
    "import json"
   ]
  },
  {
   "cell_type": "code",
   "execution_count": 196,
   "id": "abc96c60",
   "metadata": {},
   "outputs": [],
   "source": [
    "from arcgis.features import FeatureLayerCollection"
   ]
  },
  {
   "cell_type": "code",
   "execution_count": 201,
   "id": "2f1d55fe",
   "metadata": {},
   "outputs": [],
   "source": [
    "from arcgis.features import FeatureLayer"
   ]
  },
  {
   "cell_type": "code",
   "execution_count": 7,
   "id": "b1ac5509",
   "metadata": {},
   "outputs": [],
   "source": [
    "import os"
   ]
  },
  {
   "cell_type": "code",
   "execution_count": 1,
   "id": "b21cce46",
   "metadata": {},
   "outputs": [],
   "source": [
    "import time"
   ]
  },
  {
   "cell_type": "code",
   "execution_count": 18,
   "id": "8bee21bb",
   "metadata": {},
   "outputs": [],
   "source": [
    "from datetime import date"
   ]
  },
  {
   "cell_type": "code",
   "execution_count": 30,
   "id": "98239483",
   "metadata": {},
   "outputs": [
    {
     "data": {
      "text/plain": [
       "'2023-01-25'"
      ]
     },
     "execution_count": 30,
     "metadata": {},
     "output_type": "execute_result"
    }
   ],
   "source": [
    "str(date.today())"
   ]
  },
  {
   "cell_type": "code",
   "execution_count": 114,
   "id": "1518726a",
   "metadata": {},
   "outputs": [],
   "source": [
    "arcpy.env.overwriteOutput = True"
   ]
  },
  {
   "cell_type": "code",
   "execution_count": 2,
   "id": "bcc21836",
   "metadata": {},
   "outputs": [],
   "source": [
    "camp_site = 'https://services5.arcgis.com/9s1YtFmLS0YTl10F/ArcGIS/rest/services/ZHomeless_Camp_Trash_Collector/FeatureServer/0'"
   ]
  },
  {
   "cell_type": "code",
   "execution_count": 213,
   "id": "e5acf290",
   "metadata": {},
   "outputs": [],
   "source": [
    "flayer = gis.content.search('ZHomeless_Camp_Trash_Collector')[2]"
   ]
  },
  {
   "cell_type": "code",
   "execution_count": 3,
   "id": "47f3e27f",
   "metadata": {},
   "outputs": [],
   "source": [
    "outpath = r'G:\\projects\\UtilityDistricts\\eweb\\DrinkingWater\\IllegalCampCoordination\\Recieved'"
   ]
  },
  {
   "cell_type": "code",
   "execution_count": 4,
   "id": "cc9ffec0",
   "metadata": {},
   "outputs": [],
   "source": [
    "path = outpath + '\\\\IllegalCampNotification_pro'"
   ]
  },
  {
   "cell_type": "code",
   "execution_count": 13,
   "id": "c3580602",
   "metadata": {},
   "outputs": [],
   "source": [
    "sdeFile = path + \"\\\\RLIDDB.sde\""
   ]
  },
  {
   "cell_type": "code",
   "execution_count": 43,
   "id": "a7a827fc",
   "metadata": {},
   "outputs": [],
   "source": [
    "conn = arcpy.CreateDatabaseConnection_management(out_folder_path=path,\n",
    "                                          out_name=\"RLIDDB.sde\",\n",
    "                                          database_platform=\"SQL_SERVER\",\n",
    "                                          instance=\"rliddb.int.lcog.org,5433\",\n",
    "                                          account_authentication=\"OPERATING_SYSTEM_AUTH\",\n",
    "                                          database=\"RLIDGeo\")"
   ]
  },
  {
   "cell_type": "code",
   "execution_count": 41,
   "id": "940ec0a0",
   "metadata": {},
   "outputs": [],
   "source": [
    "if os.path.exists(sdeFile):\n",
    "    os.remove(sdeFile)"
   ]
  },
  {
   "cell_type": "code",
   "execution_count": 44,
   "id": "3195451a",
   "metadata": {},
   "outputs": [],
   "source": [
    "arcpy.env.workspace = conn.getOutput(0)"
   ]
  },
  {
   "cell_type": "code",
   "execution_count": 205,
   "id": "0a18d2f5",
   "metadata": {},
   "outputs": [],
   "source": [
    "fc = \"RLIDGeo.DBO.Taxlot\""
   ]
  },
  {
   "cell_type": "code",
   "execution_count": 152,
   "id": "5d771aca",
   "metadata": {},
   "outputs": [],
   "source": [
    "listdates1 = []"
   ]
  },
  {
   "cell_type": "code",
   "execution_count": 156,
   "id": "9fa90d82",
   "metadata": {},
   "outputs": [],
   "source": [
    "cursor = arcpy.da.SearchCursor(camp_site, \"Date\")"
   ]
  },
  {
   "cell_type": "code",
   "execution_count": 157,
   "id": "dc36c964",
   "metadata": {},
   "outputs": [],
   "source": [
    "for row in cursor:\n",
    "    listdates1.append(row)"
   ]
  },
  {
   "cell_type": "code",
   "execution_count": 62,
   "id": "905dbb03",
   "metadata": {},
   "outputs": [],
   "source": [
    "from datetime import datetime"
   ]
  },
  {
   "cell_type": "code",
   "execution_count": 158,
   "id": "133c34ae",
   "metadata": {},
   "outputs": [
    {
     "data": {
      "text/plain": [
       "datetime.datetime"
      ]
     },
     "execution_count": 158,
     "metadata": {},
     "output_type": "execute_result"
    }
   ],
   "source": [
    "type(listdates1[0][0])"
   ]
  },
  {
   "cell_type": "code",
   "execution_count": 215,
   "id": "9a59e410",
   "metadata": {},
   "outputs": [
    {
     "data": {
      "text/plain": [
       "[(datetime.datetime(2016, 5, 18, 15, 38, 19, 867000),),\n",
       " (datetime.datetime(2016, 5, 18, 15, 39, 57, 341000),),\n",
       " (datetime.datetime(2016, 5, 16, 15, 42, 32, 964000),)]"
      ]
     },
     "execution_count": 215,
     "metadata": {},
     "output_type": "execute_result"
    }
   ],
   "source": [
    "listdates1[1:4]"
   ]
  },
  {
   "cell_type": "code",
   "execution_count": 68,
   "id": "75fbec57",
   "metadata": {},
   "outputs": [],
   "source": [
    "listdates = [dt[0] for dt in listdates1 if dt[0] is not None]"
   ]
  },
  {
   "cell_type": "code",
   "execution_count": 69,
   "id": "11079e44",
   "metadata": {},
   "outputs": [],
   "source": [
    "maxdate = max(listdates)"
   ]
  },
  {
   "cell_type": "code",
   "execution_count": 70,
   "id": "d39cd0d9",
   "metadata": {},
   "outputs": [
    {
     "data": {
      "text/plain": [
       "datetime.datetime(2023, 1, 18, 22, 52, 35, 515000)"
      ]
     },
     "execution_count": 70,
     "metadata": {},
     "output_type": "execute_result"
    }
   ],
   "source": [
    "maxdate"
   ]
  },
  {
   "cell_type": "code",
   "execution_count": 71,
   "id": "b075df7a",
   "metadata": {},
   "outputs": [],
   "source": [
    "maxdatestr = str(maxdate)"
   ]
  },
  {
   "cell_type": "code",
   "execution_count": 216,
   "id": "f2a9f7a2",
   "metadata": {},
   "outputs": [
    {
     "data": {
      "text/plain": [
       "'2023-01-18 22:52:35.515000'"
      ]
     },
     "execution_count": 216,
     "metadata": {},
     "output_type": "execute_result"
    }
   ],
   "source": [
    "maxdatestr"
   ]
  },
  {
   "cell_type": "code",
   "execution_count": 219,
   "id": "a2f2e676",
   "metadata": {},
   "outputs": [],
   "source": [
    "datestr = maxdatestr.split('.')[0].split(' ')[0]"
   ]
  },
  {
   "cell_type": "code",
   "execution_count": 81,
   "id": "4de5da58",
   "metadata": {},
   "outputs": [],
   "source": [
    "timestrlist = maxdatestr.split(' ')[1].split(':')"
   ]
  },
  {
   "cell_type": "code",
   "execution_count": 82,
   "id": "6ba182d7",
   "metadata": {},
   "outputs": [],
   "source": [
    "h = timestrlist[0]\n",
    "m = timestrlist[1]\n",
    "s = timestrlist[2].split('.')[0]"
   ]
  },
  {
   "cell_type": "code",
   "execution_count": 83,
   "id": "2b401517",
   "metadata": {},
   "outputs": [],
   "source": [
    "def convert_hour(str_h):\n",
    "    h = int(str_h)\n",
    "    if h >= 0 and h <= 11:\n",
    "        res = [str_h, 'AM']\n",
    "    elif h == 12:\n",
    "        res = [str_h, 'PM']\n",
    "    elif h > 12 and h <=23:\n",
    "        res = [str(h-12), 'PM']\n",
    "    return res"
   ]
  },
  {
   "cell_type": "code",
   "execution_count": 86,
   "id": "405b92df",
   "metadata": {},
   "outputs": [],
   "source": [
    "cvt_h = convert_hour(h)"
   ]
  },
  {
   "cell_type": "code",
   "execution_count": 222,
   "id": "142ce840",
   "metadata": {},
   "outputs": [],
   "source": [
    "def convert_date(datestr):\n",
    "    datestrlist = datestr.split('-')\n",
    "    Y = datestrlist[0]\n",
    "    m = str(int(datestrlist[1]))\n",
    "    d = str(int(datestrlist[2]))\n",
    "    res = m+'/'+d+'/'+Y\n",
    "    return res, Y, m, d"
   ]
  },
  {
   "cell_type": "code",
   "execution_count": 226,
   "id": "79f20d49",
   "metadata": {},
   "outputs": [],
   "source": [
    "res = convert_date(datestr)"
   ]
  },
  {
   "cell_type": "code",
   "execution_count": 227,
   "id": "ec0c43ce",
   "metadata": {},
   "outputs": [],
   "source": [
    "Y = res[1]"
   ]
  },
  {
   "cell_type": "code",
   "execution_count": 228,
   "id": "071d5cfa",
   "metadata": {},
   "outputs": [],
   "source": [
    "m = res[2]"
   ]
  },
  {
   "cell_type": "code",
   "execution_count": 229,
   "id": "9dd10c30",
   "metadata": {},
   "outputs": [],
   "source": [
    "d = res[3]"
   ]
  },
  {
   "cell_type": "code",
   "execution_count": 231,
   "id": "0a7087e7",
   "metadata": {},
   "outputs": [
    {
     "data": {
      "text/plain": [
       "'18'"
      ]
     },
     "execution_count": 231,
     "metadata": {},
     "output_type": "execute_result"
    }
   ],
   "source": [
    "d"
   ]
  },
  {
   "cell_type": "code",
   "execution_count": 232,
   "id": "143c42e2",
   "metadata": {},
   "outputs": [],
   "source": [
    "outfolder = os.path.join(outpath, Y, m+'_'+d)"
   ]
  },
  {
   "cell_type": "code",
   "execution_count": 235,
   "id": "b4aaa678",
   "metadata": {},
   "outputs": [
    {
     "name": "stdout",
     "output_type": "stream",
     "text": [
      "No need to report!\n"
     ]
    }
   ],
   "source": [
    "if os.path.exists(outfolder):\n",
    "    print('No need to report!')"
   ]
  },
  {
   "cell_type": "code",
   "execution_count": 223,
   "id": "784d23eb",
   "metadata": {},
   "outputs": [
    {
     "data": {
      "text/plain": [
       "'1/18/2023'"
      ]
     },
     "execution_count": 223,
     "metadata": {},
     "output_type": "execute_result"
    }
   ],
   "source": [
    "convert_date(datestr)[0]"
   ]
  },
  {
   "cell_type": "code",
   "execution_count": 173,
   "id": "ca9700a8",
   "metadata": {},
   "outputs": [],
   "source": [
    "def getDateStr(date):\n",
    "    def convert_hour(str_h):\n",
    "        h = int(str_h)\n",
    "        if h >= 0 and h <= 11:\n",
    "            res = [str_h, 'AM']\n",
    "        elif h == 12:\n",
    "            res = [str_h, 'PM']\n",
    "        elif h > 12 and h <=23:\n",
    "            res = [str(h-12), 'PM']\n",
    "        return res\n",
    "    \n",
    "    if date is None:\n",
    "        res = None\n",
    "    else:\n",
    "        strdate = str(date)\n",
    "        datestr = strdate.split(' ')[0]\n",
    "        res = convert_date(datestr)\n",
    "    return res"
   ]
  },
  {
   "cell_type": "code",
   "execution_count": 96,
   "id": "bea5bba8",
   "metadata": {},
   "outputs": [],
   "source": [
    "maxdatestr_n = convert_date(datestr) + ' '  + cvt_h[0] + ':' + m + ':' + s + ' ' + cvt_h[1]"
   ]
  },
  {
   "cell_type": "code",
   "execution_count": 97,
   "id": "1e5477d7",
   "metadata": {},
   "outputs": [
    {
     "data": {
      "text/plain": [
       "'1/18/2023 10:52:35 PM'"
      ]
     },
     "execution_count": 97,
     "metadata": {},
     "output_type": "execute_result"
    }
   ],
   "source": [
    "maxdatestr_n"
   ]
  },
  {
   "cell_type": "code",
   "execution_count": 137,
   "id": "6de80258",
   "metadata": {},
   "outputs": [
    {
     "data": {
      "text/plain": [
       "'1/18/2023 10:52:35 PM'"
      ]
     },
     "execution_count": 137,
     "metadata": {},
     "output_type": "execute_result"
    }
   ],
   "source": [
    "getDateStr(maxdate)"
   ]
  },
  {
   "cell_type": "code",
   "execution_count": 100,
   "id": "49b629e9",
   "metadata": {},
   "outputs": [
    {
     "data": {
      "text/plain": [
       "\"Date = '1/18/2023 10:52:35 PM'\""
      ]
     },
     "execution_count": 100,
     "metadata": {},
     "output_type": "execute_result"
    }
   ],
   "source": [
    "f\"Date = '{maxdatestr_n}'\""
   ]
  },
  {
   "cell_type": "code",
   "execution_count": 5,
   "id": "918cf098",
   "metadata": {},
   "outputs": [],
   "source": [
    "featureclass = path + '\\\\MyProject4.gdb\\\\datacopy'"
   ]
  },
  {
   "cell_type": "code",
   "execution_count": 17,
   "id": "c4e5d512",
   "metadata": {},
   "outputs": [
    {
     "data": {
      "text/plain": [
       "True"
      ]
     },
     "execution_count": 17,
     "metadata": {},
     "output_type": "execute_result"
    }
   ],
   "source": [
    "arcpy.Exists(featureclass)"
   ]
  },
  {
   "cell_type": "code",
   "execution_count": 31,
   "id": "ed42956a",
   "metadata": {},
   "outputs": [],
   "source": [
    "ti_m = os.path.getmtime(path + '\\\\MyProject4.gdb')\n",
    "m_ti = time.ctime(ti_m)\n",
    "t_obj = time.strptime(m_ti)\n",
    "T_stamp = time.strftime(\"%Y-%m-%d %H:%M:%S\", t_obj)\n",
    "todaystr = str(date.today())"
   ]
  },
  {
   "cell_type": "code",
   "execution_count": 32,
   "id": "a0b2e65e",
   "metadata": {},
   "outputs": [
    {
     "data": {
      "text/plain": [
       "True"
      ]
     },
     "execution_count": 32,
     "metadata": {},
     "output_type": "execute_result"
    }
   ],
   "source": [
    "T_stamp.split(' ')[0] == todaystr"
   ]
  },
  {
   "cell_type": "code",
   "execution_count": 129,
   "id": "327b79b4",
   "metadata": {},
   "outputs": [
    {
     "data": {
      "text/html": [
       "<div class='gpresult'><h2>Messages</h2><div id='messages' data-messages='[\"Start Time: Thursday, January 19, 2023 3:12:28 AM\",\"Succeeded at Thursday, January 19, 2023 3:23:42 AM (Elapsed Time: 11 minutes 13 seconds)\"]' data-show='true'><div id = 'default' /></div></div>"
      ],
      "text/plain": [
       "<Result 'G:\\\\projects\\\\UtilityDistricts\\\\eweb\\\\DrinkingWater\\\\IllegalCampCoordination\\\\Recieved\\\\IllegalCampNotification_pro\\\\MyProject4.gdb\\\\datacopy'>"
      ]
     },
     "execution_count": 129,
     "metadata": {},
     "output_type": "execute_result"
    }
   ],
   "source": [
    "arcpy.management.CopyFeatures(camp_site, featureclass)"
   ]
  },
  {
   "cell_type": "code",
   "execution_count": 134,
   "id": "26e3ac93",
   "metadata": {},
   "outputs": [
    {
     "data": {
      "text/html": [
       "<div class='gpresult'><h2>Messages</h2><div id='messages' data-messages='[\"Start Time: Thursday, January 19, 2023 3:39:03 AM\",\"Adding Date_str to datacopy...\",\"Succeeded at Thursday, January 19, 2023 3:39:06 AM (Elapsed Time: 3.15 seconds)\"]' data-show='true'><div id = 'default' /></div></div>"
      ],
      "text/plain": [
       "<Result 'G:\\\\projects\\\\UtilityDistricts\\\\eweb\\\\DrinkingWater\\\\IllegalCampCoordination\\\\Recieved\\\\IllegalCampNotification_pro\\\\MyProject4.gdb\\\\datacopy'>"
      ]
     },
     "execution_count": 134,
     "metadata": {},
     "output_type": "execute_result"
    }
   ],
   "source": [
    "arcpy.management.AddFields(path + '\\\\MyProject4.gdb\\\\datacopy', [['Date_str', \"TEXT\", 'datestr', 255, '1/18/2023 10:52:35 PM', '']])"
   ]
  },
  {
   "cell_type": "code",
   "execution_count": 171,
   "id": "8bf9de86",
   "metadata": {},
   "outputs": [],
   "source": [
    "expression = \"getDateStr(!Date!)\"\n",
    "\n",
    "codeblock = \"\"\"\n",
    "def getDateStr(date):\n",
    "    def convert_date(datestr):\n",
    "        datestrlist = datestr.split('-')\n",
    "        Y = datestrlist[0]\n",
    "        m = str(int(datestrlist[1]))\n",
    "        d = str(int(datestrlist[2]))\n",
    "        res = m+'/'+d+'/'+Y\n",
    "        return res\n",
    "\n",
    "    if date is None:\n",
    "        res = None\n",
    "    else:\n",
    "        strdate = str(date)\n",
    "        datestr = strdate.split(' ')[0]\n",
    "        res = convert_date(datestr)\n",
    "    return res\"\"\""
   ]
  },
  {
   "cell_type": "code",
   "execution_count": 172,
   "id": "31f69640",
   "metadata": {},
   "outputs": [
    {
     "data": {
      "text/html": [
       "<div class='gpresult'><h2>Messages</h2><div id='messages' data-messages='[\"Start Time: Thursday, January 19, 2023 4:16:34 AM\",\"Succeeded at Thursday, January 19, 2023 4:16:35 AM (Elapsed Time: 0.97 seconds)\"]' data-show='true'><div id = 'default' /></div></div>"
      ],
      "text/plain": [
       "<Result 'G:\\\\projects\\\\UtilityDistricts\\\\eweb\\\\DrinkingWater\\\\IllegalCampCoordination\\\\Recieved\\\\IllegalCampNotification_pro\\\\MyProject4.gdb\\\\datacopy'>"
      ]
     },
     "execution_count": 172,
     "metadata": {},
     "output_type": "execute_result"
    }
   ],
   "source": [
    "arcpy.management.CalculateField(path + '\\\\MyProject4.gdb\\\\datacopy', 'Date_str',  expression, \"PYTHON3\", \n",
    "                                codeblock)"
   ]
  },
  {
   "cell_type": "code",
   "execution_count": 165,
   "id": "e2a98432",
   "metadata": {},
   "outputs": [
    {
     "data": {
      "text/plain": [
       "'1/18/2023 10:52:35 PM'"
      ]
     },
     "execution_count": 165,
     "metadata": {},
     "output_type": "execute_result"
    }
   ],
   "source": [
    "maxdatestr_n"
   ]
  },
  {
   "cell_type": "code",
   "execution_count": 169,
   "id": "fbfb6690",
   "metadata": {},
   "outputs": [
    {
     "data": {
      "text/plain": [
       "datetime.datetime(2023, 1, 18, 22, 52, 35, 515000)"
      ]
     },
     "execution_count": 169,
     "metadata": {},
     "output_type": "execute_result"
    }
   ],
   "source": [
    "maxdate"
   ]
  },
  {
   "cell_type": "code",
   "execution_count": 174,
   "id": "1f09e6fc",
   "metadata": {},
   "outputs": [
    {
     "data": {
      "text/plain": [
       "'1/18/2023'"
      ]
     },
     "execution_count": 174,
     "metadata": {},
     "output_type": "execute_result"
    }
   ],
   "source": [
    "getDateStr(maxdate)"
   ]
  },
  {
   "cell_type": "code",
   "execution_count": 175,
   "id": "17b1446e",
   "metadata": {},
   "outputs": [],
   "source": [
    "selres = arcpy.SelectLayerByAttribute_management(path + '\\\\MyProject4.gdb\\\\datacopy',\n",
    "                                                 \"NEW_SELECTION\", f\"Date_str = '{getDateStr(maxdate)}'\")"
   ]
  },
  {
   "cell_type": "code",
   "execution_count": 176,
   "id": "c19b8c28",
   "metadata": {},
   "outputs": [
    {
     "name": "stdout",
     "output_type": "stream",
     "text": [
      "datacopy_Layer5\n"
     ]
    }
   ],
   "source": [
    "print(selres)"
   ]
  },
  {
   "cell_type": "code",
   "execution_count": 177,
   "id": "16f8c64c",
   "metadata": {},
   "outputs": [
    {
     "data": {
      "text/html": [
       "<div class='gpresult'><h2>Messages</h2><div id='messages' data-messages='[\"Start Time: Thursday, January 19, 2023 4:17:54 AM\",\"Succeeded at Thursday, January 19, 2023 4:18:11 AM (Elapsed Time: 16.78 seconds)\"]' data-show='true'><div id = 'default' /></div></div>"
      ],
      "text/plain": [
       "<Result 'G:\\\\projects\\\\UtilityDistricts\\\\eweb\\\\DrinkingWater\\\\IllegalCampCoordination\\\\Recieved\\\\IllegalCampNotification_pro\\\\MyProject4.gdb\\\\most_recent'>"
      ]
     },
     "execution_count": 177,
     "metadata": {},
     "output_type": "execute_result"
    }
   ],
   "source": [
    "arcpy.management.CopyFeatures(selres, path + '\\\\MyProject4.gdb\\\\most_recent')"
   ]
  },
  {
   "cell_type": "code",
   "execution_count": 240,
   "id": "762057be",
   "metadata": {},
   "outputs": [
    {
     "data": {
      "text/html": [
       "<div class='gpresult'><h2>Messages</h2><div id='messages' data-messages='[\"Start Time: Tuesday, January 24, 2023 9:31:17 PM\",\"Succeeded at Tuesday, January 24, 2023 9:31:42 PM (Elapsed Time: 24.77 seconds)\"]' data-show='true'><div id = 'default' /></div></div>"
      ],
      "text/plain": [
       "<Result 'G:\\\\projects\\\\UtilityDistricts\\\\eweb\\\\DrinkingWater\\\\IllegalCampCoordination\\\\Recieved\\\\IllegalCampNotification_pro\\\\MyProject4.gdb\\\\HomelessCampSite_SpatialJoin14c'>"
      ]
     },
     "execution_count": 240,
     "metadata": {},
     "output_type": "execute_result"
    }
   ],
   "source": [
    "arcpy.analysis.SpatialJoin(selres, fc, path + '\\\\MyProject4.gdb\\\\HomelessCampSite_SpatialJoin14c', \"JOIN_ONE_TO_ONE\", \"KEEP_ALL\",'Status \"Status\" true true false 50 Text 0 0,First,#,Homeless Camp Site,Status,0,50;Comments \"Comments\" true true false 500 Text 0 0,First,#,Homeless Camp Site,Comments,0,500;Date \"Date\" true true false 8 Date 0 0,First,#,Homeless Camp Site,Date,-1,-1;Submitted_by \"Submitted By\" true true false 50 Text 0 0,First,#,Homeless Camp Site,Submitted_by,0,50;Dogs_present \"Dogs present\" true true false 50 Text 0 0,First,#,Homeless Camp Site,Dogs_present,0,50;Unruly_inhabitants \"Unruly inhabitants\" true true false 50 Text 0 0,First,#,Homeless Camp Site,Unruly_inhabitants,0,50;Hazardous_materials_present \"Hazardous materials present\" true true false 50 Text 0 0,First,#,Homeless Camp Site,Hazardous_materials_present,0,50;Biohazards_present \"Biohazards present\" true true false 50 Text 0 0,First,#,Homeless Camp Site,Biohazards_present,0,50;Size_of_encampment \"Size of encampment\" true true false 50 Text 0 0,First,#,Homeless Camp Site,Size_of_encampment,0,50;GlobalID \"GlobalID\" false false true 38 GlobalID 0 0,First,#,Homeless Camp Site,GlobalID,-1,-1;maptaxlot_hyphen \"maptaxlot_hyphen\" true true false 17 Text 0 0,First,#,Lane County Taxlots,maptaxlot_hyphen,0,17;ownname \"ownname\" true true false 128 Text 0 0,First,#,Lane County Taxlots,ownname,0,128;addr1 \"addr1\" true true false 64 Text 0 0,First,#,Lane County Taxlots,addr1,0,64;ownercity \"ownercity\" true true false 40 Text 0 0,First,#,Lane County Taxlots,ownercity,0,40;ownerprvst \"ownerprvst\" true true false 30 Text 0 0,First,#,Lane County Taxlots,ownerprvst,0,30;ownerzip \"ownerzip\" true true false 10 Text 0 0,First,#,Lane County Taxlots,ownerzip,0,10;geocity_name \"geocity_name\" true true false 32 Text 0 0,First,#,Lane County Taxlots,geocity_name,0,32;ugb_name \"ugb_name\" true true false 32 Text 0 0,First,#,Lane County Taxlots,ugb_name,0,32;longitude \"longitude\" true true false 8 Double 8 38,First,#,Lane County Taxlots,longitude,-1,-1;latitude \"latitude\" true true false 8 Double 8 38,First,#,Lane County Taxlots,latitude,-1,-1', \"INTERSECT\", None, '')"
   ]
  },
  {
   "cell_type": "code",
   "execution_count": 242,
   "id": "7714ce38",
   "metadata": {},
   "outputs": [
    {
     "data": {
      "text/html": [
       "<div class='gpresult'><h2>Messages</h2><div id='messages' data-messages='[\"Start Time: Tuesday, January 24, 2023 9:32:08 PM\",\"Succeeded at Tuesday, January 24, 2023 9:32:11 PM (Elapsed Time: 3.54 seconds)\"]' data-show='true'><div id = 'default' /></div></div>"
      ],
      "text/plain": [
       "<Result 'G:\\\\projects\\\\UtilityDistricts\\\\eweb\\\\DrinkingWater\\\\IllegalCampCoordination\\\\Recieved\\\\IllegalCampNotification_pro\\\\most_recent.xlsx'>"
      ]
     },
     "execution_count": 242,
     "metadata": {},
     "output_type": "execute_result"
    }
   ],
   "source": [
    "arcpy.conversion.TableToExcel(path + '\\\\MyProject4.gdb\\\\HomelessCampSite_SpatialJoin14c', path+'\\\\most_recent.xlsx')"
   ]
  }
 ],
 "metadata": {
  "kernelspec": {
   "display_name": "Python 3",
   "language": "python",
   "name": "python3"
  },
  "language_info": {
   "codemirror_mode": {
    "name": "ipython",
    "version": 3
   },
   "file_extension": ".py",
   "mimetype": "text/x-python",
   "name": "python",
   "nbconvert_exporter": "python",
   "pygments_lexer": "ipython3",
   "version": "3.9.11"
  }
 },
 "nbformat": 4,
 "nbformat_minor": 5
}
