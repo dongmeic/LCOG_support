{
 "cells": [
  {
   "cell_type": "code",
   "execution_count": 160,
   "id": "99c0d3cc",
   "metadata": {},
   "outputs": [],
   "source": [
    "import arcpy"
   ]
  },
  {
   "cell_type": "code",
   "execution_count": 185,
   "id": "4fa25f51",
   "metadata": {},
   "outputs": [],
   "source": [
    "from arcgis.gis import GIS"
   ]
  },
  {
   "cell_type": "code",
   "execution_count": 186,
   "id": "4ea89933",
   "metadata": {},
   "outputs": [],
   "source": [
    "import json"
   ]
  },
  {
   "cell_type": "code",
   "execution_count": 196,
   "id": "274a7144",
   "metadata": {},
   "outputs": [],
   "source": [
    "from arcgis.features import FeatureLayerCollection"
   ]
  },
  {
   "cell_type": "code",
   "execution_count": 201,
   "id": "5dc6e1b6",
   "metadata": {},
   "outputs": [],
   "source": [
    "from arcgis.features import FeatureLayer"
   ]
  },
  {
   "cell_type": "code",
   "execution_count": 10,
   "id": "7ad925c1",
   "metadata": {},
   "outputs": [],
   "source": [
    "import os"
   ]
  },
  {
   "cell_type": "code",
   "execution_count": 114,
   "id": "2fe1ce41",
   "metadata": {},
   "outputs": [],
   "source": [
    "arcpy.env.overwriteOutput = True"
   ]
  },
  {
   "cell_type": "code",
   "execution_count": 2,
   "id": "fdd7c861",
   "metadata": {},
   "outputs": [],
   "source": [
    "camp_site = 'https://services5.arcgis.com/9s1YtFmLS0YTl10F/ArcGIS/rest/services/ZHomeless_Camp_Trash_Collector/FeatureServer/0'"
   ]
  },
  {
   "cell_type": "code",
   "execution_count": 213,
   "id": "949fc43a",
   "metadata": {},
   "outputs": [],
   "source": [
    "flayer = gis.content.search('ZHomeless_Camp_Trash_Collector')[2]"
   ]
  },
  {
   "cell_type": "code",
   "execution_count": 220,
   "id": "f49f891c",
   "metadata": {},
   "outputs": [],
   "source": [
    "outpath = r'G:\\projects\\UtilityDistricts\\eweb\\DrinkingWater\\IllegalCampCoordination\\Recieved'"
   ]
  },
  {
   "cell_type": "code",
   "execution_count": 3,
   "id": "edf366d3",
   "metadata": {},
   "outputs": [],
   "source": [
    "path = outpath + '\\\\IllegalCampNotification_pro'"
   ]
  },
  {
   "cell_type": "code",
   "execution_count": 13,
   "id": "ac8acb2b",
   "metadata": {},
   "outputs": [],
   "source": [
    "sdeFile = path + \"\\\\RLIDDB.sde\""
   ]
  },
  {
   "cell_type": "code",
   "execution_count": 43,
   "id": "48ef2907",
   "metadata": {},
   "outputs": [],
   "source": [
    "conn = arcpy.CreateDatabaseConnection_management(out_folder_path=path,\n",
    "                                          out_name=\"RLIDDB.sde\",\n",
    "                                          database_platform=\"SQL_SERVER\",\n",
    "                                          instance=\"rliddb.int.lcog.org,5433\",\n",
    "                                          account_authentication=\"OPERATING_SYSTEM_AUTH\",\n",
    "                                          database=\"RLIDGeo\")"
   ]
  },
  {
   "cell_type": "code",
   "execution_count": 41,
   "id": "cf8fc300",
   "metadata": {},
   "outputs": [],
   "source": [
    "if os.path.exists(sdeFile):\n",
    "    os.remove(sdeFile)"
   ]
  },
  {
   "cell_type": "code",
   "execution_count": 44,
   "id": "432cad1f",
   "metadata": {},
   "outputs": [],
   "source": [
    "arcpy.env.workspace = conn.getOutput(0)"
   ]
  },
  {
   "cell_type": "code",
   "execution_count": 205,
   "id": "865dd4a7",
   "metadata": {},
   "outputs": [],
   "source": [
    "fc = \"RLIDGeo.DBO.Taxlot\""
   ]
  },
  {
   "cell_type": "code",
   "execution_count": 152,
   "id": "df7eff58",
   "metadata": {},
   "outputs": [],
   "source": [
    "listdates1 = []"
   ]
  },
  {
   "cell_type": "code",
   "execution_count": 156,
   "id": "faf8a8f4",
   "metadata": {},
   "outputs": [],
   "source": [
    "cursor = arcpy.da.SearchCursor(camp_site, \"Date\")"
   ]
  },
  {
   "cell_type": "code",
   "execution_count": 157,
   "id": "e6c1e716",
   "metadata": {},
   "outputs": [],
   "source": [
    "for row in cursor:\n",
    "    listdates1.append(row)"
   ]
  },
  {
   "cell_type": "code",
   "execution_count": 62,
   "id": "a94e9dec",
   "metadata": {},
   "outputs": [],
   "source": [
    "from datetime import datetime"
   ]
  },
  {
   "cell_type": "code",
   "execution_count": 158,
   "id": "c6869500",
   "metadata": {},
   "outputs": [
    {
     "data": {
      "text/plain": [
       "datetime.datetime"
      ]
     },
     "execution_count": 158,
     "metadata": {},
     "output_type": "execute_result"
    }
   ],
   "source": [
    "type(listdates1[0][0])"
   ]
  },
  {
   "cell_type": "code",
   "execution_count": 215,
   "id": "f864c40e",
   "metadata": {},
   "outputs": [
    {
     "data": {
      "text/plain": [
       "[(datetime.datetime(2016, 5, 18, 15, 38, 19, 867000),),\n",
       " (datetime.datetime(2016, 5, 18, 15, 39, 57, 341000),),\n",
       " (datetime.datetime(2016, 5, 16, 15, 42, 32, 964000),)]"
      ]
     },
     "execution_count": 215,
     "metadata": {},
     "output_type": "execute_result"
    }
   ],
   "source": [
    "listdates1[1:4]"
   ]
  },
  {
   "cell_type": "code",
   "execution_count": 68,
   "id": "36e36047",
   "metadata": {},
   "outputs": [],
   "source": [
    "listdates = [dt[0] for dt in listdates1 if dt[0] is not None]"
   ]
  },
  {
   "cell_type": "code",
   "execution_count": 69,
   "id": "2b2c02c5",
   "metadata": {},
   "outputs": [],
   "source": [
    "maxdate = max(listdates)"
   ]
  },
  {
   "cell_type": "code",
   "execution_count": 70,
   "id": "f2205f09",
   "metadata": {},
   "outputs": [
    {
     "data": {
      "text/plain": [
       "datetime.datetime(2023, 1, 18, 22, 52, 35, 515000)"
      ]
     },
     "execution_count": 70,
     "metadata": {},
     "output_type": "execute_result"
    }
   ],
   "source": [
    "maxdate"
   ]
  },
  {
   "cell_type": "code",
   "execution_count": 71,
   "id": "ce840c97",
   "metadata": {},
   "outputs": [],
   "source": [
    "maxdatestr = str(maxdate)"
   ]
  },
  {
   "cell_type": "code",
   "execution_count": 216,
   "id": "6db39886",
   "metadata": {},
   "outputs": [
    {
     "data": {
      "text/plain": [
       "'2023-01-18 22:52:35.515000'"
      ]
     },
     "execution_count": 216,
     "metadata": {},
     "output_type": "execute_result"
    }
   ],
   "source": [
    "maxdatestr"
   ]
  },
  {
   "cell_type": "code",
   "execution_count": 219,
   "id": "85d9edd8",
   "metadata": {},
   "outputs": [],
   "source": [
    "datestr = maxdatestr.split('.')[0].split(' ')[0]"
   ]
  },
  {
   "cell_type": "code",
   "execution_count": 81,
   "id": "7a0194fd",
   "metadata": {},
   "outputs": [],
   "source": [
    "timestrlist = maxdatestr.split(' ')[1].split(':')"
   ]
  },
  {
   "cell_type": "code",
   "execution_count": 82,
   "id": "f90cad53",
   "metadata": {},
   "outputs": [],
   "source": [
    "h = timestrlist[0]\n",
    "m = timestrlist[1]\n",
    "s = timestrlist[2].split('.')[0]"
   ]
  },
  {
   "cell_type": "code",
   "execution_count": 83,
   "id": "759ba57e",
   "metadata": {},
   "outputs": [],
   "source": [
    "def convert_hour(str_h):\n",
    "    h = int(str_h)\n",
    "    if h >= 0 and h <= 11:\n",
    "        res = [str_h, 'AM']\n",
    "    elif h == 12:\n",
    "        res = [str_h, 'PM']\n",
    "    elif h > 12 and h <=23:\n",
    "        res = [str(h-12), 'PM']\n",
    "    return res"
   ]
  },
  {
   "cell_type": "code",
   "execution_count": 86,
   "id": "383d787e",
   "metadata": {},
   "outputs": [],
   "source": [
    "cvt_h = convert_hour(h)"
   ]
  },
  {
   "cell_type": "code",
   "execution_count": 222,
   "id": "69fadd0e",
   "metadata": {},
   "outputs": [],
   "source": [
    "def convert_date(datestr):\n",
    "    datestrlist = datestr.split('-')\n",
    "    Y = datestrlist[0]\n",
    "    m = str(int(datestrlist[1]))\n",
    "    d = str(int(datestrlist[2]))\n",
    "    res = m+'/'+d+'/'+Y\n",
    "    return res, Y, m, d"
   ]
  },
  {
   "cell_type": "code",
   "execution_count": 226,
   "id": "995d0720",
   "metadata": {},
   "outputs": [],
   "source": [
    "res = convert_date(datestr)"
   ]
  },
  {
   "cell_type": "code",
   "execution_count": 227,
   "id": "188698b1",
   "metadata": {},
   "outputs": [],
   "source": [
    "Y = res[1]"
   ]
  },
  {
   "cell_type": "code",
   "execution_count": 228,
   "id": "bc29c8ca",
   "metadata": {},
   "outputs": [],
   "source": [
    "m = res[2]"
   ]
  },
  {
   "cell_type": "code",
   "execution_count": 229,
   "id": "53b40c0b",
   "metadata": {},
   "outputs": [],
   "source": [
    "d = res[3]"
   ]
  },
  {
   "cell_type": "code",
   "execution_count": 231,
   "id": "b22964f6",
   "metadata": {},
   "outputs": [
    {
     "data": {
      "text/plain": [
       "'18'"
      ]
     },
     "execution_count": 231,
     "metadata": {},
     "output_type": "execute_result"
    }
   ],
   "source": [
    "d"
   ]
  },
  {
   "cell_type": "code",
   "execution_count": 232,
   "id": "99f409e7",
   "metadata": {},
   "outputs": [],
   "source": [
    "outfolder = os.path.join(outpath, Y, m+'_'+d)"
   ]
  },
  {
   "cell_type": "code",
   "execution_count": 235,
   "id": "c9e851b0",
   "metadata": {},
   "outputs": [
    {
     "name": "stdout",
     "output_type": "stream",
     "text": [
      "No need to report!\n"
     ]
    }
   ],
   "source": [
    "if os.path.exists(outfolder):\n",
    "    print('No need to report!')"
   ]
  },
  {
   "cell_type": "code",
   "execution_count": 223,
   "id": "b5ae0977",
   "metadata": {},
   "outputs": [
    {
     "data": {
      "text/plain": [
       "'1/18/2023'"
      ]
     },
     "execution_count": 223,
     "metadata": {},
     "output_type": "execute_result"
    }
   ],
   "source": [
    "convert_date(datestr)[0]"
   ]
  },
  {
   "cell_type": "code",
   "execution_count": 173,
   "id": "03e0206c",
   "metadata": {},
   "outputs": [],
   "source": [
    "def getDateStr(date):\n",
    "    def convert_hour(str_h):\n",
    "        h = int(str_h)\n",
    "        if h >= 0 and h <= 11:\n",
    "            res = [str_h, 'AM']\n",
    "        elif h == 12:\n",
    "            res = [str_h, 'PM']\n",
    "        elif h > 12 and h <=23:\n",
    "            res = [str(h-12), 'PM']\n",
    "        return res\n",
    "    \n",
    "    if date is None:\n",
    "        res = None\n",
    "    else:\n",
    "        strdate = str(date)\n",
    "        datestr = strdate.split(' ')[0]\n",
    "        res = convert_date(datestr)\n",
    "    return res"
   ]
  },
  {
   "cell_type": "code",
   "execution_count": 96,
   "id": "88aa9be6",
   "metadata": {},
   "outputs": [],
   "source": [
    "maxdatestr_n = convert_date(datestr) + ' '  + cvt_h[0] + ':' + m + ':' + s + ' ' + cvt_h[1]"
   ]
  },
  {
   "cell_type": "code",
   "execution_count": 97,
   "id": "8bda68db",
   "metadata": {},
   "outputs": [
    {
     "data": {
      "text/plain": [
       "'1/18/2023 10:52:35 PM'"
      ]
     },
     "execution_count": 97,
     "metadata": {},
     "output_type": "execute_result"
    }
   ],
   "source": [
    "maxdatestr_n"
   ]
  },
  {
   "cell_type": "code",
   "execution_count": 137,
   "id": "f03077a4",
   "metadata": {},
   "outputs": [
    {
     "data": {
      "text/plain": [
       "'1/18/2023 10:52:35 PM'"
      ]
     },
     "execution_count": 137,
     "metadata": {},
     "output_type": "execute_result"
    }
   ],
   "source": [
    "getDateStr(maxdate)"
   ]
  },
  {
   "cell_type": "code",
   "execution_count": 100,
   "id": "3c743e0f",
   "metadata": {},
   "outputs": [
    {
     "data": {
      "text/plain": [
       "\"Date = '1/18/2023 10:52:35 PM'\""
      ]
     },
     "execution_count": 100,
     "metadata": {},
     "output_type": "execute_result"
    }
   ],
   "source": [
    "f\"Date = '{maxdatestr_n}'\""
   ]
  },
  {
   "cell_type": "code",
   "execution_count": 129,
   "id": "227b9dfc",
   "metadata": {},
   "outputs": [
    {
     "data": {
      "text/html": [
       "<div class='gpresult'><h2>Messages</h2><div id='messages' data-messages='[\"Start Time: Thursday, January 19, 2023 3:12:28 AM\",\"Succeeded at Thursday, January 19, 2023 3:23:42 AM (Elapsed Time: 11 minutes 13 seconds)\"]' data-show='true'><div id = 'default' /></div></div>"
      ],
      "text/plain": [
       "<Result 'G:\\\\projects\\\\UtilityDistricts\\\\eweb\\\\DrinkingWater\\\\IllegalCampCoordination\\\\Recieved\\\\IllegalCampNotification_pro\\\\MyProject4.gdb\\\\datacopy'>"
      ]
     },
     "execution_count": 129,
     "metadata": {},
     "output_type": "execute_result"
    }
   ],
   "source": [
    "arcpy.management.CopyFeatures(camp_site, path + '\\\\MyProject4.gdb\\\\datacopy')"
   ]
  },
  {
   "cell_type": "code",
   "execution_count": 134,
   "id": "0aff1999",
   "metadata": {},
   "outputs": [
    {
     "data": {
      "text/html": [
       "<div class='gpresult'><h2>Messages</h2><div id='messages' data-messages='[\"Start Time: Thursday, January 19, 2023 3:39:03 AM\",\"Adding Date_str to datacopy...\",\"Succeeded at Thursday, January 19, 2023 3:39:06 AM (Elapsed Time: 3.15 seconds)\"]' data-show='true'><div id = 'default' /></div></div>"
      ],
      "text/plain": [
       "<Result 'G:\\\\projects\\\\UtilityDistricts\\\\eweb\\\\DrinkingWater\\\\IllegalCampCoordination\\\\Recieved\\\\IllegalCampNotification_pro\\\\MyProject4.gdb\\\\datacopy'>"
      ]
     },
     "execution_count": 134,
     "metadata": {},
     "output_type": "execute_result"
    }
   ],
   "source": [
    "arcpy.management.AddFields(path + '\\\\MyProject4.gdb\\\\datacopy', [['Date_str', \"TEXT\", 'datestr', 255, '1/18/2023 10:52:35 PM', '']])"
   ]
  },
  {
   "cell_type": "code",
   "execution_count": 171,
   "id": "ee420dd9",
   "metadata": {},
   "outputs": [],
   "source": [
    "expression = \"getDateStr(!Date!)\"\n",
    "\n",
    "codeblock = \"\"\"\n",
    "def getDateStr(date):\n",
    "    def convert_date(datestr):\n",
    "        datestrlist = datestr.split('-')\n",
    "        Y = datestrlist[0]\n",
    "        m = str(int(datestrlist[1]))\n",
    "        d = str(int(datestrlist[2]))\n",
    "        res = m+'/'+d+'/'+Y\n",
    "        return res\n",
    "\n",
    "    if date is None:\n",
    "        res = None\n",
    "    else:\n",
    "        strdate = str(date)\n",
    "        datestr = strdate.split(' ')[0]\n",
    "        res = convert_date(datestr)\n",
    "    return res\"\"\""
   ]
  },
  {
   "cell_type": "code",
   "execution_count": 172,
   "id": "7b16e252",
   "metadata": {},
   "outputs": [
    {
     "data": {
      "text/html": [
       "<div class='gpresult'><h2>Messages</h2><div id='messages' data-messages='[\"Start Time: Thursday, January 19, 2023 4:16:34 AM\",\"Succeeded at Thursday, January 19, 2023 4:16:35 AM (Elapsed Time: 0.97 seconds)\"]' data-show='true'><div id = 'default' /></div></div>"
      ],
      "text/plain": [
       "<Result 'G:\\\\projects\\\\UtilityDistricts\\\\eweb\\\\DrinkingWater\\\\IllegalCampCoordination\\\\Recieved\\\\IllegalCampNotification_pro\\\\MyProject4.gdb\\\\datacopy'>"
      ]
     },
     "execution_count": 172,
     "metadata": {},
     "output_type": "execute_result"
    }
   ],
   "source": [
    "arcpy.management.CalculateField(path + '\\\\MyProject4.gdb\\\\datacopy', 'Date_str',  expression, \"PYTHON3\", \n",
    "                                codeblock)"
   ]
  },
  {
   "cell_type": "code",
   "execution_count": 165,
   "id": "d2df9e0f",
   "metadata": {},
   "outputs": [
    {
     "data": {
      "text/plain": [
       "'1/18/2023 10:52:35 PM'"
      ]
     },
     "execution_count": 165,
     "metadata": {},
     "output_type": "execute_result"
    }
   ],
   "source": [
    "maxdatestr_n"
   ]
  },
  {
   "cell_type": "code",
   "execution_count": 169,
   "id": "b4d79f04",
   "metadata": {},
   "outputs": [
    {
     "data": {
      "text/plain": [
       "datetime.datetime(2023, 1, 18, 22, 52, 35, 515000)"
      ]
     },
     "execution_count": 169,
     "metadata": {},
     "output_type": "execute_result"
    }
   ],
   "source": [
    "maxdate"
   ]
  },
  {
   "cell_type": "code",
   "execution_count": 174,
   "id": "8f312899",
   "metadata": {},
   "outputs": [
    {
     "data": {
      "text/plain": [
       "'1/18/2023'"
      ]
     },
     "execution_count": 174,
     "metadata": {},
     "output_type": "execute_result"
    }
   ],
   "source": [
    "getDateStr(maxdate)"
   ]
  },
  {
   "cell_type": "code",
   "execution_count": 175,
   "id": "75b82193",
   "metadata": {},
   "outputs": [],
   "source": [
    "selres = arcpy.SelectLayerByAttribute_management(path + '\\\\MyProject4.gdb\\\\datacopy',\n",
    "                                                 \"NEW_SELECTION\", f\"Date_str = '{getDateStr(maxdate)}'\")"
   ]
  },
  {
   "cell_type": "code",
   "execution_count": 176,
   "id": "4080bb95",
   "metadata": {},
   "outputs": [
    {
     "name": "stdout",
     "output_type": "stream",
     "text": [
      "datacopy_Layer5\n"
     ]
    }
   ],
   "source": [
    "print(selres)"
   ]
  },
  {
   "cell_type": "code",
   "execution_count": 177,
   "id": "1b0cb618",
   "metadata": {},
   "outputs": [
    {
     "data": {
      "text/html": [
       "<div class='gpresult'><h2>Messages</h2><div id='messages' data-messages='[\"Start Time: Thursday, January 19, 2023 4:17:54 AM\",\"Succeeded at Thursday, January 19, 2023 4:18:11 AM (Elapsed Time: 16.78 seconds)\"]' data-show='true'><div id = 'default' /></div></div>"
      ],
      "text/plain": [
       "<Result 'G:\\\\projects\\\\UtilityDistricts\\\\eweb\\\\DrinkingWater\\\\IllegalCampCoordination\\\\Recieved\\\\IllegalCampNotification_pro\\\\MyProject4.gdb\\\\most_recent'>"
      ]
     },
     "execution_count": 177,
     "metadata": {},
     "output_type": "execute_result"
    }
   ],
   "source": [
    "arcpy.management.CopyFeatures(selres, path + '\\\\MyProject4.gdb\\\\most_recent')"
   ]
  },
  {
   "cell_type": "code",
   "execution_count": 240,
   "id": "53db10f0",
   "metadata": {},
   "outputs": [
    {
     "data": {
      "text/html": [
       "<div class='gpresult'><h2>Messages</h2><div id='messages' data-messages='[\"Start Time: Tuesday, January 24, 2023 9:31:17 PM\",\"Succeeded at Tuesday, January 24, 2023 9:31:42 PM (Elapsed Time: 24.77 seconds)\"]' data-show='true'><div id = 'default' /></div></div>"
      ],
      "text/plain": [
       "<Result 'G:\\\\projects\\\\UtilityDistricts\\\\eweb\\\\DrinkingWater\\\\IllegalCampCoordination\\\\Recieved\\\\IllegalCampNotification_pro\\\\MyProject4.gdb\\\\HomelessCampSite_SpatialJoin14c'>"
      ]
     },
     "execution_count": 240,
     "metadata": {},
     "output_type": "execute_result"
    }
   ],
   "source": [
    "arcpy.analysis.SpatialJoin(selres, fc, path + '\\\\MyProject4.gdb\\\\HomelessCampSite_SpatialJoin14c', \"JOIN_ONE_TO_ONE\", \"KEEP_ALL\",'Status \"Status\" true true false 50 Text 0 0,First,#,Homeless Camp Site,Status,0,50;Comments \"Comments\" true true false 500 Text 0 0,First,#,Homeless Camp Site,Comments,0,500;Date \"Date\" true true false 8 Date 0 0,First,#,Homeless Camp Site,Date,-1,-1;Submitted_by \"Submitted By\" true true false 50 Text 0 0,First,#,Homeless Camp Site,Submitted_by,0,50;Dogs_present \"Dogs present\" true true false 50 Text 0 0,First,#,Homeless Camp Site,Dogs_present,0,50;Unruly_inhabitants \"Unruly inhabitants\" true true false 50 Text 0 0,First,#,Homeless Camp Site,Unruly_inhabitants,0,50;Hazardous_materials_present \"Hazardous materials present\" true true false 50 Text 0 0,First,#,Homeless Camp Site,Hazardous_materials_present,0,50;Biohazards_present \"Biohazards present\" true true false 50 Text 0 0,First,#,Homeless Camp Site,Biohazards_present,0,50;Size_of_encampment \"Size of encampment\" true true false 50 Text 0 0,First,#,Homeless Camp Site,Size_of_encampment,0,50;GlobalID \"GlobalID\" false false true 38 GlobalID 0 0,First,#,Homeless Camp Site,GlobalID,-1,-1;maptaxlot_hyphen \"maptaxlot_hyphen\" true true false 17 Text 0 0,First,#,Lane County Taxlots,maptaxlot_hyphen,0,17;ownname \"ownname\" true true false 128 Text 0 0,First,#,Lane County Taxlots,ownname,0,128;addr1 \"addr1\" true true false 64 Text 0 0,First,#,Lane County Taxlots,addr1,0,64;ownercity \"ownercity\" true true false 40 Text 0 0,First,#,Lane County Taxlots,ownercity,0,40;ownerprvst \"ownerprvst\" true true false 30 Text 0 0,First,#,Lane County Taxlots,ownerprvst,0,30;ownerzip \"ownerzip\" true true false 10 Text 0 0,First,#,Lane County Taxlots,ownerzip,0,10;geocity_name \"geocity_name\" true true false 32 Text 0 0,First,#,Lane County Taxlots,geocity_name,0,32;ugb_name \"ugb_name\" true true false 32 Text 0 0,First,#,Lane County Taxlots,ugb_name,0,32;longitude \"longitude\" true true false 8 Double 8 38,First,#,Lane County Taxlots,longitude,-1,-1;latitude \"latitude\" true true false 8 Double 8 38,First,#,Lane County Taxlots,latitude,-1,-1', \"INTERSECT\", None, '')"
   ]
  },
  {
   "cell_type": "code",
   "execution_count": 242,
   "id": "6d6c528e",
   "metadata": {},
   "outputs": [
    {
     "data": {
      "text/html": [
       "<div class='gpresult'><h2>Messages</h2><div id='messages' data-messages='[\"Start Time: Tuesday, January 24, 2023 9:32:08 PM\",\"Succeeded at Tuesday, January 24, 2023 9:32:11 PM (Elapsed Time: 3.54 seconds)\"]' data-show='true'><div id = 'default' /></div></div>"
      ],
      "text/plain": [
       "<Result 'G:\\\\projects\\\\UtilityDistricts\\\\eweb\\\\DrinkingWater\\\\IllegalCampCoordination\\\\Recieved\\\\IllegalCampNotification_pro\\\\most_recent.xlsx'>"
      ]
     },
     "execution_count": 242,
     "metadata": {},
     "output_type": "execute_result"
    }
   ],
   "source": [
    "arcpy.conversion.TableToExcel(path + '\\\\MyProject4.gdb\\\\HomelessCampSite_SpatialJoin14c', path+'\\\\most_recent.xlsx')"
   ]
  }
 ],
 "metadata": {
  "kernelspec": {
   "display_name": "Python 3",
   "language": "python",
   "name": "python3"
  },
  "language_info": {
   "codemirror_mode": {
    "name": "ipython",
    "version": 3
   },
   "file_extension": ".py",
   "mimetype": "text/x-python",
   "name": "python",
   "nbconvert_exporter": "python",
   "pygments_lexer": "ipython3",
   "version": "3.9.11"
  }
 },
 "nbformat": 4,
 "nbformat_minor": 5
}
