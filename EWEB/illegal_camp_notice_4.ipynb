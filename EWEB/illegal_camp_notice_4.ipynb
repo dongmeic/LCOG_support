{
 "cells": [
  {
   "cell_type": "code",
   "execution_count": 1,
   "id": "47ecc2d1",
   "metadata": {},
   "outputs": [],
   "source": [
    "import win32com.client as win32\n",
    "from homeless import *\n",
    "import os\n",
    "import openpyxl\n",
    "from datetime import datetime\n",
    "from geopandas import gpd\n",
    "\n",
    "outpath = r'\\\\clsrv111.int.lcog.org\\GIS\\projects\\UtilityDistricts\\eweb\\DrinkingWater\\IllegalCampCoordination\\Recieved'\n",
    "path = outpath + '\\\\IllegalCampNotification_pro'\n",
    "dt = gpd.read_file(path + '\\\\MyProject4.gdb', layer= 'most_recent')\n",
    "res = convert_date(dt.date.values[0].split('T')[0])\n",
    "#res = convert_date(str(date(2023, 3, 6)))"
   ]
  },
  {
   "cell_type": "code",
   "execution_count": 2,
   "id": "745d2770",
   "metadata": {},
   "outputs": [
    {
     "data": {
      "text/plain": [
       "('3/9/2023', '2023', '3', '9')"
      ]
     },
     "execution_count": 2,
     "metadata": {},
     "output_type": "execute_result"
    }
   ],
   "source": [
    "res"
   ]
  },
  {
   "cell_type": "code",
   "execution_count": 3,
   "id": "183945c3",
   "metadata": {},
   "outputs": [],
   "source": [
    "input_format = '%m/%d/%Y'\n",
    "output_format = '%Y-%m-%d'\n",
    "\n",
    "# Convert the input string to a datetime object\n",
    "datetime_object = datetime.strptime(res[0], input_format)\n",
    "\n",
    "# Convert the datetime object to the output format\n",
    "dateinfo = datetime.strftime(datetime_object, output_format)"
   ]
  },
  {
   "cell_type": "code",
   "execution_count": 4,
   "id": "97da4756",
   "metadata": {},
   "outputs": [
    {
     "data": {
      "text/plain": [
       "'2023-03-09'"
      ]
     },
     "execution_count": 4,
     "metadata": {},
     "output_type": "execute_result"
    }
   ],
   "source": [
    "dateinfo"
   ]
  },
  {
   "cell_type": "code",
   "execution_count": 5,
   "id": "59443249",
   "metadata": {},
   "outputs": [
    {
     "name": "stdout",
     "output_type": "stream",
     "text": [
      "Added the image...\n",
      "Sent out the email...\n"
     ]
    }
   ],
   "source": [
    "Y = res[1]\n",
    "m = res[2]\n",
    "d = res[3]\n",
    "outfolder = os.path.join(outpath, Y, m+'_'+d)\n",
    "\n",
    "pic_path=path+'\\\\Map.jpg'\n",
    "outfile = f\"{outfolder}\\IllegalCampNotice_{m+'_'+d+'_'+Y[2:4]}.xlsx\"\n",
    "\n",
    "wb = openpyxl.load_workbook(outfile)\n",
    "ws = wb.active\n",
    "\n",
    "img = openpyxl.drawing.image.Image(path+'\\\\Map.jpg')\n",
    "img.height = 255*3\n",
    "img.width = 330*3\n",
    "img.anchor = 'C7'\n",
    "ws.add_image(img)\n",
    "\n",
    "wb.save(outfile)\n",
    "print(\"Added the image...\")\n",
    "\n",
    "outlook = win32.Dispatch('outlook.application')\n",
    "mail = outlook.CreateItem(0)\n",
    "#dateinfo = date.today().strftime(\"%m-%d-%Y\")\n",
    "mail.To = 'dchen@lcog.org'\n",
    "mail.Subject = f'Illegal Camp Notice to Review {dateinfo}'\n",
    "mail.Body = outfile\n",
    "mail.Send()\n",
    "print(\"Sent out the email...\")"
   ]
  }
 ],
 "metadata": {
  "kernelspec": {
   "display_name": "Python 3",
   "language": "python",
   "name": "python3"
  },
  "language_info": {
   "codemirror_mode": {
    "name": "ipython",
    "version": 3
   },
   "file_extension": ".py",
   "mimetype": "text/x-python",
   "name": "python",
   "nbconvert_exporter": "python",
   "pygments_lexer": "ipython3",
   "version": "3.9.11"
  }
 },
 "nbformat": 4,
 "nbformat_minor": 5
}
