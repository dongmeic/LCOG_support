{
 "cells": [
  {
   "cell_type": "code",
   "execution_count": 2,
   "id": "cf84adb5",
   "metadata": {},
   "outputs": [
    {
     "name": "stdout",
     "output_type": "stream",
     "text": [
      "Added the image...\n",
      "Sent out the email...\n"
     ]
    }
   ],
   "source": [
    "import win32com.client as win32\n",
    "from homeless import *\n",
    "import os\n",
    "import openpyxl\n",
    "from datetime import date\n",
    "\n",
    "outpath = r'\\\\clsrv111.int.lcog.org\\GIS\\projects\\UtilityDistricts\\eweb\\DrinkingWater\\IllegalCampCoordination\\Recieved'\n",
    "path = outpath + '\\\\IllegalCampNotification_pro'\n",
    "#res = convert_date(str(date.today()))\n",
    "res = convert_date(str(date(2023, 3, 6)))\n",
    "Y = res[1]\n",
    "m = res[2]\n",
    "d = res[3]\n",
    "outfolder = os.path.join(outpath, Y, m+'_'+d)\n",
    "\n",
    "pic_path=path+'\\\\Map.jpg'\n",
    "outfile = f\"{outfolder}\\IllegalCampNotice_{m+'_'+d+'_'+Y[2:4]}.xlsx\"\n",
    "\n",
    "wb = openpyxl.load_workbook(outfile)\n",
    "ws = wb.active\n",
    "\n",
    "img = openpyxl.drawing.image.Image(path+'\\\\Map.jpg')\n",
    "img.height = 255*3\n",
    "img.width = 330*3\n",
    "img.anchor = 'C7'\n",
    "ws.add_image(img)\n",
    "\n",
    "wb.save(outfile)\n",
    "print(\"Added the image...\")\n",
    "\n",
    "outlook = win32.Dispatch('outlook.application')\n",
    "mail = outlook.CreateItem(0)\n",
    "dateinfo = date.today().strftime(\"%m-%d-%Y\")\n",
    "mail.To = 'dchen@lcog.org'\n",
    "mail.Subject = f'Illegal Camp Notice to Review {dateinfo}'\n",
    "mail.Body = outfile\n",
    "mail.Send()\n",
    "print(\"Sent out the email...\")"
   ]
  }
 ],
 "metadata": {
  "kernelspec": {
   "display_name": "Python 3",
   "language": "python",
   "name": "python3"
  },
  "language_info": {
   "codemirror_mode": {
    "name": "ipython",
    "version": 3
   },
   "file_extension": ".py",
   "mimetype": "text/x-python",
   "name": "python",
   "nbconvert_exporter": "python",
   "pygments_lexer": "ipython3",
   "version": "3.8.8"
  }
 },
 "nbformat": 4,
 "nbformat_minor": 5
}
