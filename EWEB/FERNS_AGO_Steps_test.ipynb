{
 "cells": [
  {
   "cell_type": "code",
   "execution_count": 1,
   "id": "2b957d0a",
   "metadata": {},
   "outputs": [],
   "source": [
    "import arcpy\n",
    "from datetime import date\n",
    "import timeit\n",
    "import pandas as pd\n",
    "from itertools import groupby\n",
    "from operator import itemgetter"
   ]
  },
  {
   "cell_type": "code",
   "execution_count": 2,
   "id": "85774aea",
   "metadata": {},
   "outputs": [],
   "source": [
    "from arcgis.gis import GIS\n",
    "from arcgis.features import FeatureLayerCollection, FeatureLayer"
   ]
  },
  {
   "cell_type": "code",
   "execution_count": 3,
   "id": "6d25110d",
   "metadata": {},
   "outputs": [],
   "source": [
    "gis = GIS('home')"
   ]
  },
  {
   "cell_type": "code",
   "execution_count": 3,
   "id": "5971cc59",
   "metadata": {},
   "outputs": [],
   "source": [
    "search_result = gis.content.search(query=\"title:FERNSSummary_McKenzie_Joined\", item_type=\"Feature Layer\")"
   ]
  },
  {
   "cell_type": "code",
   "execution_count": 4,
   "id": "09db6a62",
   "metadata": {},
   "outputs": [],
   "source": [
    "item = gis.content.get('5a6cd762152a48cc9be95b9ccf6272bd')"
   ]
  },
  {
   "cell_type": "code",
   "execution_count": 5,
   "id": "7248a143",
   "metadata": {},
   "outputs": [
    {
     "name": "stdout",
     "output_type": "stream",
     "text": [
      "https://services5.arcgis.com/9s1YtFmLS0YTl10F/arcgis/rest/services/FERNS_for_McKenzie_Catchments/FeatureServer/0\n"
     ]
    }
   ],
   "source": [
    "lyr = [lyr.url for lyr in item.layers if lyr.properties.name == 'FERNSSummary_McKenzie_Joined'][0]\n",
    "print(lyr)"
   ]
  },
  {
   "cell_type": "code",
   "execution_count": 63,
   "id": "5fa3f619",
   "metadata": {},
   "outputs": [],
   "source": [
    "lay = item.layers[0]"
   ]
  },
  {
   "cell_type": "code",
   "execution_count": 69,
   "id": "1a0ab341",
   "metadata": {},
   "outputs": [],
   "source": [
    "sdf = pd.DataFrame.spatial.from_layer(lay)"
   ]
  },
  {
   "cell_type": "code",
   "execution_count": 65,
   "id": "d50acc22",
   "metadata": {},
   "outputs": [
    {
     "data": {
      "text/plain": [
       "'2023'"
      ]
     },
     "execution_count": 65,
     "metadata": {},
     "output_type": "execute_result"
    }
   ],
   "source": [
    "year"
   ]
  },
  {
   "cell_type": "code",
   "execution_count": 68,
   "id": "e0546dfe",
   "metadata": {},
   "outputs": [],
   "source": [
    "la_df = lay.delete_features(where = f\"YEAR = {year}\")"
   ]
  },
  {
   "cell_type": "code",
   "execution_count": 70,
   "id": "eef8ba2d",
   "metadata": {},
   "outputs": [
    {
     "data": {
      "text/plain": [
       "(0, 13)"
      ]
     },
     "execution_count": 70,
     "metadata": {},
     "output_type": "execute_result"
    }
   ],
   "source": [
    "sdf[sdf.YEAR == '2023'].shape"
   ]
  },
  {
   "cell_type": "code",
   "execution_count": 57,
   "id": "9c7eb1db",
   "metadata": {},
   "outputs": [],
   "source": [
    "sdf_old = sdf[sdf.YEAR != '2023']"
   ]
  },
  {
   "cell_type": "code",
   "execution_count": 14,
   "id": "89e83c70",
   "metadata": {},
   "outputs": [],
   "source": [
    "path = r\"G:\\projects\\UtilityDistricts\\eweb\\DrinkingWater\\EPA319_NPS_grant\\ForestApplication\\ODF_FACTS_DB\\FERNS\\FERNS_Model\"\n",
    "wrkspace = path + \"\\\\FERNS_Workspace.gdb\"\n",
    "year = str(date.today().year)"
   ]
  },
  {
   "cell_type": "code",
   "execution_count": 15,
   "id": "ce870069",
   "metadata": {},
   "outputs": [],
   "source": [
    "Expression=\"YEAR <> '{0}'\".format(year)"
   ]
  },
  {
   "cell_type": "code",
   "execution_count": 32,
   "id": "57cc6f1e",
   "metadata": {},
   "outputs": [],
   "source": [
    "arcpy.env.workspace = wrkspace"
   ]
  },
  {
   "cell_type": "code",
   "execution_count": 16,
   "id": "a995d41d",
   "metadata": {},
   "outputs": [],
   "source": [
    "arcpy.env.overwriteOutput = True"
   ]
  },
  {
   "cell_type": "code",
   "execution_count": 17,
   "id": "1dd70ff5",
   "metadata": {},
   "outputs": [],
   "source": [
    "FERNSSummary_McKenzie_Joined = path + \"\\\\FERNS_Final_Products.gdb\\\\FERNSSummary_McKenzie_Joined\"\n",
    "res = arcpy.GetCount_management(FERNSSummary_McKenzie_Joined)"
   ]
  },
  {
   "cell_type": "code",
   "execution_count": 71,
   "id": "97843961",
   "metadata": {},
   "outputs": [],
   "source": [
    "AGO_FERNSSummary_McKenzie_Joined_3_ = \"https://services5.arcgis.com/9s1YtFmLS0YTl10F/arcgis/rest/services/FERNS_for_McKenzie_Catchments/FeatureServer/0\""
   ]
  },
  {
   "cell_type": "code",
   "execution_count": 55,
   "id": "3667bc1a",
   "metadata": {},
   "outputs": [],
   "source": [
    "AGO_FERNSSummary_McKenzie_Joined_5_, count = arcpy.management.SelectLayerByAttribute(in_layer_or_view=AGO_FERNSSummary_McKenzie_Joined_3_, \n",
    "                                                                                        selection_type=\"NEW_SELECTION\", \n",
    "                                                                                        where_clause=Expression, \n",
    "                                                                                        invert_where_clause=\"\")"
   ]
  },
  {
   "cell_type": "code",
   "execution_count": 30,
   "id": "a8844747",
   "metadata": {},
   "outputs": [
    {
     "name": "stdout",
     "output_type": "stream",
     "text": [
      "Before Year 2023 there are 1351 counts and in Year 2023 there are 60 counts!\n"
     ]
    }
   ],
   "source": [
    "print(f\"Before Year {year} there are {count} counts and in Year {year} there are {res[0]} counts!\")"
   ]
  },
  {
   "cell_type": "code",
   "execution_count": 56,
   "id": "445cfeaa",
   "metadata": {},
   "outputs": [
    {
     "data": {
      "text/html": [
       "<div class='gpresult'><h2>Messages</h2><div id='messages' data-messages='[\"Start Time: Monday, February 27, 2023 10:48:53 PM\",\"Succeeded at Monday, February 27, 2023 10:49:05 PM (Elapsed Time: 11.27 seconds)\"]' data-show='true'><div id = 'default' /></div></div>"
      ],
      "text/plain": [
       "<Result 'G:\\\\projects\\\\UtilityDistricts\\\\eweb\\\\DrinkingWater\\\\EPA319_NPS_grant\\\\ForestApplication\\\\ODF_FACTS_DB\\\\FERNS\\\\FERNS_Model\\\\FERNS_Workspace.gdb\\\\FERNS_before_2023'>"
      ]
     },
     "execution_count": 56,
     "metadata": {},
     "output_type": "execute_result"
    }
   ],
   "source": [
    "arcpy.management.CopyFeatures(AGO_FERNSSummary_McKenzie_Joined_5_, f'FERNS_before_{year}')"
   ]
  },
  {
   "cell_type": "code",
   "execution_count": 72,
   "id": "680a9ab7",
   "metadata": {},
   "outputs": [],
   "source": [
    "AGO_FERNSSummary_McKenzie_Joined = arcpy.management.Append(inputs=[FERNSSummary_McKenzie_Joined], \n",
    "                                                           target=AGO_FERNSSummary_McKenzie_Joined_3_, \n",
    "                                                           schema_type=\"NO_TEST\", \n",
    "                                                           field_mapping=\"\", \n",
    "                                                           subtype=\"\", expression=\"\")[0]"
   ]
  },
  {
   "cell_type": "code",
   "execution_count": 26,
   "id": "638859d0",
   "metadata": {},
   "outputs": [
    {
     "data": {
      "text/html": [
       "<div class='gpresult'><h2>Messages</h2><div id='messages' data-messages='[\"Start Time: Monday, February 27, 2023 4:25:42 PM\",\"Row Count = 60\",\"Succeeded at Monday, February 27, 2023 4:25:43 PM (Elapsed Time: 1.21 seconds)\"]' data-show='true'><div id = 'default' /></div></div>"
      ],
      "text/plain": [
       "<Result '60'>"
      ]
     },
     "execution_count": 26,
     "metadata": {},
     "output_type": "execute_result"
    }
   ],
   "source": [
    "arcpy.GetCount_management(FERNSSummary_McKenzie_Joined)"
   ]
  },
  {
   "cell_type": "code",
   "execution_count": 73,
   "id": "7f3eb28d",
   "metadata": {},
   "outputs": [
    {
     "data": {
      "text/html": [
       "<div class='gpresult'><h2>Messages</h2><div id='messages' data-messages='[\"Start Time: Monday, February 27, 2023 11:44:00 PM\",\"Row Count = 1411\",\"Succeeded at Monday, February 27, 2023 11:44:01 PM (Elapsed Time: 0.35 seconds)\"]' data-show='true'><div id = 'default' /></div></div>"
      ],
      "text/plain": [
       "<Result '1411'>"
      ]
     },
     "execution_count": 73,
     "metadata": {},
     "output_type": "execute_result"
    }
   ],
   "source": [
    "arcpy.GetCount_management(AGO_FERNSSummary_McKenzie_Joined)"
   ]
  },
  {
   "cell_type": "code",
   "execution_count": 59,
   "id": "6236b4ad",
   "metadata": {},
   "outputs": [],
   "source": [
    "sdf_new = pd.DataFrame.spatial.from_featureclass(FERNSSummary_McKenzie_Joined)"
   ]
  },
  {
   "cell_type": "code",
   "execution_count": 60,
   "id": "d0f30944",
   "metadata": {},
   "outputs": [
    {
     "data": {
      "text/html": [
       "<div>\n",
       "<style scoped>\n",
       "    .dataframe tbody tr th:only-of-type {\n",
       "        vertical-align: middle;\n",
       "    }\n",
       "\n",
       "    .dataframe tbody tr th {\n",
       "        vertical-align: top;\n",
       "    }\n",
       "\n",
       "    .dataframe thead th {\n",
       "        text-align: right;\n",
       "    }\n",
       "</style>\n",
       "<table border=\"1\" class=\"dataframe\">\n",
       "  <thead>\n",
       "    <tr style=\"text-align: right;\">\n",
       "      <th></th>\n",
       "      <th>OBJECTID1</th>\n",
       "      <th>Basin_Name</th>\n",
       "      <th>EWEB_ID</th>\n",
       "      <th>Subbasin_Acres</th>\n",
       "      <th>YEAR</th>\n",
       "      <th>ActType</th>\n",
       "      <th>FREQUENCY</th>\n",
       "      <th>SUM_calc_acres</th>\n",
       "      <th>Activity_Acres_Percentage</th>\n",
       "      <th>SHAPE</th>\n",
       "    </tr>\n",
       "  </thead>\n",
       "  <tbody>\n",
       "    <tr>\n",
       "      <th>0</th>\n",
       "      <td>1</td>\n",
       "      <td>McKenzie_E060</td>\n",
       "      <td>E060</td>\n",
       "      <td>622.140939</td>\n",
       "      <td>2023</td>\n",
       "      <td>Commercial Thinning/Selective Cutting</td>\n",
       "      <td>5</td>\n",
       "      <td>206.026276</td>\n",
       "      <td>33.115692</td>\n",
       "      <td>{\"rings\": [[[4340055.160761148, 891324.6981627...</td>\n",
       "    </tr>\n",
       "    <tr>\n",
       "      <th>1</th>\n",
       "      <td>2</td>\n",
       "      <td>Holden Creek</td>\n",
       "      <td>E950</td>\n",
       "      <td>2765.264989</td>\n",
       "      <td>2023</td>\n",
       "      <td>Commercial Thinning/Selective Cutting</td>\n",
       "      <td>1</td>\n",
       "      <td>15.068833</td>\n",
       "      <td>0.544933</td>\n",
       "      <td>{\"rings\": [[[4336708.162729666, 911833.2677165...</td>\n",
       "    </tr>\n",
       "    <tr>\n",
       "      <th>2</th>\n",
       "      <td>3</td>\n",
       "      <td>McKenzie/Honey Creek</td>\n",
       "      <td>E101</td>\n",
       "      <td>803.599805</td>\n",
       "      <td>2023</td>\n",
       "      <td>Herbicide Application (Unit)</td>\n",
       "      <td>1</td>\n",
       "      <td>223.382093</td>\n",
       "      <td>27.797679</td>\n",
       "      <td>{\"rings\": [[[4374837.695538059, 911603.5721784...</td>\n",
       "    </tr>\n",
       "  </tbody>\n",
       "</table>\n",
       "</div>"
      ],
      "text/plain": [
       "   OBJECTID1            Basin_Name EWEB_ID  Subbasin_Acres  YEAR  \\\n",
       "0          1         McKenzie_E060    E060      622.140939  2023   \n",
       "1          2          Holden Creek    E950     2765.264989  2023   \n",
       "2          3  McKenzie/Honey Creek    E101      803.599805  2023   \n",
       "\n",
       "                                 ActType  FREQUENCY  SUM_calc_acres  \\\n",
       "0  Commercial Thinning/Selective Cutting          5      206.026276   \n",
       "1  Commercial Thinning/Selective Cutting          1       15.068833   \n",
       "2           Herbicide Application (Unit)          1      223.382093   \n",
       "\n",
       "   Activity_Acres_Percentage  \\\n",
       "0                  33.115692   \n",
       "1                   0.544933   \n",
       "2                  27.797679   \n",
       "\n",
       "                                               SHAPE  \n",
       "0  {\"rings\": [[[4340055.160761148, 891324.6981627...  \n",
       "1  {\"rings\": [[[4336708.162729666, 911833.2677165...  \n",
       "2  {\"rings\": [[[4374837.695538059, 911603.5721784...  "
      ]
     },
     "execution_count": 60,
     "metadata": {},
     "output_type": "execute_result"
    }
   ],
   "source": [
    "sdf_new.head(3)"
   ]
  },
  {
   "cell_type": "code",
   "execution_count": 61,
   "id": "53128d8f",
   "metadata": {},
   "outputs": [],
   "source": [
    "updated_sdf = sdf_new.append(sdf_old, ignore_index=False)"
   ]
  },
  {
   "cell_type": "code",
   "execution_count": 62,
   "id": "0ed33349",
   "metadata": {},
   "outputs": [
    {
     "data": {
      "text/plain": [
       "(1411, 13)"
      ]
     },
     "execution_count": 62,
     "metadata": {},
     "output_type": "execute_result"
    }
   ],
   "source": [
    "updated_sdf.shape"
   ]
  },
  {
   "cell_type": "code",
   "execution_count": null,
   "id": "2ff9f804",
   "metadata": {},
   "outputs": [],
   "source": [
    ".delete_features(where = \"OBJECTID > 15\")"
   ]
  },
  {
   "cell_type": "code",
   "execution_count": 10,
   "id": "bff59565",
   "metadata": {},
   "outputs": [],
   "source": [
    "import arcpy\n",
    "import os\n",
    "from datetime import date\n",
    "from sys import argv\n",
    "import timeit"
   ]
  },
  {
   "cell_type": "code",
   "execution_count": 6,
   "id": "89552503",
   "metadata": {},
   "outputs": [],
   "source": [
    "path = r\"G:\\projects\\UtilityDistricts\\eweb\\DrinkingWater\\EPA319_NPS_grant\\ForestApplication\\ODF_FACTS_DB\\FERNS\\FERNS_Model\"\n",
    "wrkspace = path + \"\\\\FERNS_Workspace.gdb\""
   ]
  },
  {
   "cell_type": "code",
   "execution_count": 7,
   "id": "ba1134ed",
   "metadata": {},
   "outputs": [],
   "source": [
    "year = str(date.today().year)"
   ]
  },
  {
   "cell_type": "code",
   "execution_count": 10,
   "id": "1ea5486c",
   "metadata": {},
   "outputs": [],
   "source": [
    "desc = arcpy.Describe(lyr)"
   ]
  },
  {
   "cell_type": "code",
   "execution_count": 11,
   "id": "ee0cebb2",
   "metadata": {},
   "outputs": [
    {
     "data": {
      "text/html": [
       "<style>table td#td0  {font-weight: bold}</style><table class=\"notebook\"><colgroup><col style=\"width:45%\"></col><col style=\"width:55%\"></col></colgroup><tr><td id = \"td0\" title=\"catalogPath\">catalogPath</td><td title=\"https://services5.arcgis.com/9s1YtFmLS0YTl10F/arcgis/rest/services/FERNS_for_McKenzie_Catchments/FeatureServer/0\">https://services5.arcgis.com/9s1YtFmLS0YTl10F/arcgis/rest/services/FERNS_for_McKenzie_Catchments/FeatureServer/0</td></tr><tr><td id = \"td0\" title=\"dataType\">dataType</td><td title=\"FeatureClass\">FeatureClass</td></tr><tr><td id = \"td0\" title=\"shapeType\">shapeType</td><td title=\"Polygon\">Polygon</td></tr><tr><td id = \"td0\" title=\"hasM\">hasM</td><td title=\"False\">False</td></tr><tr><td id = \"td0\" title=\"hasZ\">hasZ</td><td title=\"False\">False</td></tr></table><div class=\"title\"><i class=\"chevron-open\" onClick=\"event.preventDefault();document.getElementById('840EBEB1-B006-478F-9643-BA6A40AA17EE').style.display =   document.getElementById('840EBEB1-B006-478F-9643-BA6A40AA17EE').style.display == 'none' ? 'block' : 'none';this.classList.toggle('chevron-closed');\"></i>fields</div><div id=\"840EBEB1-B006-478F-9643-BA6A40AA17EE\"><style>table td#td0  {font-weight: bold}</style><table class=\"notebook\"><colgroup><col style=\"width:45%\"></col><col style=\"width:55%\"></col></colgroup><tr><td id = \"td0\" title=\"OBJECTID1\">OBJECTID1</td><td title=\"OID\">OID</td></tr><tr><td id = \"td0\" title=\"Basin_Name\">Basin_Name</td><td title=\"String\">String</td></tr><tr><td id = \"td0\" title=\"EWEB_ID\">EWEB_ID</td><td title=\"String\">String</td></tr><tr><td id = \"td0\" title=\"Subbasin_Acres\">Subbasin_Acres</td><td title=\"Double\">Double</td></tr><tr><td id = \"td0\" title=\"YEAR\">YEAR</td><td title=\"String\">String</td></tr><tr><td id = \"td0\" title=\"ActType\">ActType</td><td title=\"String\">String</td></tr><tr><td id = \"td0\" title=\"FREQUENCY\">FREQUENCY</td><td title=\"Integer\">Integer</td></tr><tr><td id = \"td0\" title=\"SUM_calc_acres\">SUM_calc_acres</td><td title=\"Double\">Double</td></tr><tr><td id = \"td0\" title=\"Activity_Acres_Percentage\">Activity_Acres_Percentage</td><td title=\"Double\">Double</td></tr><tr><td id = \"td0\" title=\"Shape__Area\">Shape__Area</td><td title=\"Double\">Double</td></tr><tr><td id = \"td0\" title=\"Shape__Length\">Shape__Length</td><td title=\"Double\">Double</td></tr><tr><td id = \"td0\" title=\"Shape\">Shape</td><td title=\"Geometry\">Geometry</td></tr></table></div><div class=\"title\"><i class=\"chevron-open\" onClick=\"event.preventDefault();document.getElementById('7251012F-21F5-4AE7-A735-8F42F3CF4B59').style.display =   document.getElementById('7251012F-21F5-4AE7-A735-8F42F3CF4B59').style.display == 'none' ? 'block' : 'none';this.classList.toggle('chevron-closed');\"></i>spatialReference</div><div id=\"7251012F-21F5-4AE7-A735-8F42F3CF4B59\"><style>table td#td0  {font-weight: bold}</style><table class=\"notebook\"><colgroup><col style=\"width:45%\"></col><col style=\"width:55%\"></col></colgroup><tr><td id = \"td0\" title=\"name (Projected Coordinate System)\">name (Projected Coordinate System)</td><td title=\"NAD_1983_HARN_StatePlane_Oregon_South_FIPS_3602_Feet_Intl\">NAD_1983_HARN_StatePlane_Oregon_South_FIPS_3602_Feet_Intl</td></tr><tr><td id = \"td0\" title=\"factoryCode (WKID)\">factoryCode (WKID)</td><td title=\"2914\">2914</td></tr><tr><td id = \"td0\" title=\"linearUnitName (Linear Unit)\">linearUnitName (Linear Unit)</td><td title=\"Foot\">Foot</td></tr></table><div class=\"subtitle\">spatialReference.GCS</div><style>table td#td0  {font-weight: bold}</style><table class=\"notebook\"><colgroup><col style=\"width:45%\"></col><col style=\"width:55%\"></col></colgroup><tr><td id = \"td0\" title=\"name (Geographic Coordinate System)\">name (Geographic Coordinate System)</td><td title=\"GCS_North_American_1983_HARN\">GCS_North_American_1983_HARN</td></tr><tr><td id = \"td0\" title=\"factoryCode (WKID)\">factoryCode (WKID)</td><td title=\"4152\">4152</td></tr><tr><td id = \"td0\" title=\"angularUnitName (Angular Unit)\">angularUnitName (Angular Unit)</td><td title=\"Degree\">Degree</td></tr><tr><td id = \"td0\" title=\"datumName (Datum)\">datumName (Datum)</td><td title=\"D_North_American_1983_HARN\">D_North_American_1983_HARN</td></tr></table></div><p class=\"gpresult\">For additional help,     see <a href=\"https://pro.arcgis.com/en/pro-app/latest/arcpy/functions/featureclass-properties.htm\" target=\"_blank\" >arcpy.Describe</a></p><br>"
      ],
      "text/plain": [
       "<geoprocessing describe data object at 0x1a2d98c7e30>"
      ]
     },
     "execution_count": 11,
     "metadata": {},
     "output_type": "execute_result"
    }
   ],
   "source": [
    "desc"
   ]
  },
  {
   "cell_type": "code",
   "execution_count": 7,
   "id": "7a2e0969",
   "metadata": {},
   "outputs": [],
   "source": [
    "def unique_values(table, field):  ##uses list comprehension\n",
    "    with arcpy.da.SearchCursor(table, [field]) as cursor:\n",
    "        return sorted({row[0] for row in cursor})"
   ]
  },
  {
   "cell_type": "code",
   "execution_count": 13,
   "id": "282d4219",
   "metadata": {},
   "outputs": [
    {
     "name": "stdout",
     "output_type": "stream",
     "text": [
      "0.8151014000000032\n",
      "['2014', '2015', '2016', '2017', '2018', '2019', '2020', '2021', '2022', '2023']\n"
     ]
    }
   ],
   "source": [
    "try:\n",
    "    start = timeit.default_timer()\n",
    "    vals = unique_values(lyr,\"YEAR\")\n",
    "\n",
    "    stop = timeit.default_timer()\n",
    "    total_time = stop - start\n",
    "    print(total_time)\n",
    "    print(vals)\n",
    "\n",
    "except Exception as e:\n",
    "    print(\"Error: \" + e.args[0])"
   ]
  },
  {
   "cell_type": "code",
   "execution_count": 38,
   "id": "b1fc691a",
   "metadata": {},
   "outputs": [],
   "source": [
    "fields = arcpy.ListFields(lyr)"
   ]
  },
  {
   "cell_type": "code",
   "execution_count": 39,
   "id": "cb47e368",
   "metadata": {},
   "outputs": [
    {
     "name": "stdout",
     "output_type": "stream",
     "text": [
      "OBJECTID1 is a type of OID with a length of 0\n",
      "Basin_Name is a type of String with a length of 10485758\n",
      "EWEB_ID is a type of String with a length of 10485758\n",
      "Subbasin_Acres is a type of Double with a length of 0\n",
      "YEAR is a type of String with a length of 10485758\n",
      "ActType is a type of String with a length of 10485758\n",
      "FREQUENCY is a type of Integer with a length of 0\n",
      "SUM_calc_acres is a type of Double with a length of 0\n",
      "Activity_Acres_Percentage is a type of Double with a length of 0\n",
      "Shape__Area is a type of Double with a length of 0\n",
      "Shape__Length is a type of Double with a length of 0\n",
      "GlobalID is a type of GlobalID with a length of 38\n",
      "Shape is a type of Geometry with a length of 0\n"
     ]
    }
   ],
   "source": [
    "for field in fields:\n",
    "    print(f\"{field.name} is a type of {field.type} with a length of {field.length}\")"
   ]
  },
  {
   "cell_type": "code",
   "execution_count": 40,
   "id": "5144acf3",
   "metadata": {},
   "outputs": [],
   "source": [
    "field_names = [field.name for field in fields]"
   ]
  },
  {
   "cell_type": "code",
   "execution_count": 41,
   "id": "2abf5d94",
   "metadata": {},
   "outputs": [],
   "source": [
    "field_names.remove('OBJECTID1')"
   ]
  },
  {
   "cell_type": "code",
   "execution_count": 42,
   "id": "5347f9a6",
   "metadata": {},
   "outputs": [],
   "source": [
    "field_names.remove('GlobalID')"
   ]
  },
  {
   "cell_type": "code",
   "execution_count": 43,
   "id": "fcb3e3f3",
   "metadata": {},
   "outputs": [
    {
     "data": {
      "text/plain": [
       "['Basin_Name',\n",
       " 'EWEB_ID',\n",
       " 'Subbasin_Acres',\n",
       " 'YEAR',\n",
       " 'ActType',\n",
       " 'FREQUENCY',\n",
       " 'SUM_calc_acres',\n",
       " 'Activity_Acres_Percentage',\n",
       " 'Shape__Area',\n",
       " 'Shape__Length',\n",
       " 'Shape']"
      ]
     },
     "execution_count": 43,
     "metadata": {},
     "output_type": "execute_result"
    }
   ],
   "source": [
    "field_names"
   ]
  },
  {
   "cell_type": "code",
   "execution_count": 45,
   "id": "54217915",
   "metadata": {},
   "outputs": [],
   "source": [
    "Expression=\"YEAR = '{0}'\".format(year)\n",
    "AGO_FERNSSummary_McKenzie_Joined_2_, Count = arcpy.management.SelectLayerByAttribute(in_layer_or_view=lyr, \n",
    "                                                                                        selection_type=\"NEW_SELECTION\", \n",
    "                                                                                        where_clause=Expression, \n",
    "                                                                                        invert_where_clause=\"\")"
   ]
  },
  {
   "cell_type": "code",
   "execution_count": 46,
   "id": "b360ca53",
   "metadata": {},
   "outputs": [
    {
     "name": "stdout",
     "output_type": "stream",
     "text": [
      "Year 2023 has 78 count!\n"
     ]
    }
   ],
   "source": [
    "print(f\"Year {year} has {Count} count!\")"
   ]
  },
  {
   "cell_type": "code",
   "execution_count": 8,
   "id": "e02f4318",
   "metadata": {},
   "outputs": [],
   "source": [
    "arcpy.env.overwriteOutput = True"
   ]
  },
  {
   "cell_type": "code",
   "execution_count": 44,
   "id": "34de4b00",
   "metadata": {},
   "outputs": [
    {
     "name": "stdout",
     "output_type": "stream",
     "text": [
      "145.9570421999997\n"
     ]
    }
   ],
   "source": [
    "# search for duplicated records based on the same values for all fields\n",
    "start = timeit.default_timer()\n",
    "result = arcpy.management.FindIdentical(lyr, path+'\\\\duplicate_incidents.dbf', field_names)\n",
    "stop = timeit.default_timer()\n",
    "total_time = stop - start\n",
    "print(total_time)"
   ]
  },
  {
   "cell_type": "code",
   "execution_count": 47,
   "id": "efd34725",
   "metadata": {},
   "outputs": [],
   "source": [
    "out_records = []   \n",
    "for row in arcpy.SearchCursor(result.getOutput(0), fields=\"IN_FID; FEAT_SEQ\"):\n",
    "    out_records.append([row.IN_FID, row.FEAT_SEQ])"
   ]
  },
  {
   "cell_type": "code",
   "execution_count": 48,
   "id": "247de580",
   "metadata": {},
   "outputs": [],
   "source": [
    "out_records.sort(key = itemgetter(1))"
   ]
  },
  {
   "cell_type": "code",
   "execution_count": 49,
   "id": "0b90bf9f",
   "metadata": {},
   "outputs": [],
   "source": [
    "identicals_iter = groupby(out_records, itemgetter(1))"
   ]
  },
  {
   "cell_type": "code",
   "execution_count": 50,
   "id": "6b381ff9",
   "metadata": {},
   "outputs": [],
   "source": [
    "identical_groups = [[item[0] for item in data] for (key, data) in identicals_iter]"
   ]
  },
  {
   "cell_type": "code",
   "execution_count": 51,
   "id": "9acf91c4",
   "metadata": {},
   "outputs": [
    {
     "data": {
      "text/plain": [
       "1429"
      ]
     },
     "execution_count": 51,
     "metadata": {},
     "output_type": "execute_result"
    }
   ],
   "source": [
    "len([item for item in identical_groups if len(item) == 1])"
   ]
  },
  {
   "cell_type": "code",
   "execution_count": 52,
   "id": "14e7003c",
   "metadata": {},
   "outputs": [
    {
     "data": {
      "text/plain": [
       "1429"
      ]
     },
     "execution_count": 52,
     "metadata": {},
     "output_type": "execute_result"
    }
   ],
   "source": [
    "len(identical_groups)"
   ]
  },
  {
   "cell_type": "code",
   "execution_count": 53,
   "id": "435f3a89",
   "metadata": {},
   "outputs": [
    {
     "data": {
      "text/plain": [
       "[]"
      ]
     },
     "execution_count": 53,
     "metadata": {},
     "output_type": "execute_result"
    }
   ],
   "source": [
    "[item for item in identical_groups if len(item) > 1]"
   ]
  },
  {
   "cell_type": "code",
   "execution_count": 26,
   "id": "bb5f4e35",
   "metadata": {},
   "outputs": [
    {
     "name": "stdout",
     "output_type": "stream",
     "text": [
      "125.17131449999988\n"
     ]
    }
   ],
   "source": [
    "start = timeit.default_timer()\n",
    "res = arcpy.management.DeleteIdentical(lyr, field_names)\n",
    "stop = timeit.default_timer()\n",
    "total_time = stop - start\n",
    "print(total_time)"
   ]
  },
  {
   "cell_type": "code",
   "execution_count": 23,
   "id": "224ad954",
   "metadata": {},
   "outputs": [
    {
     "data": {
      "text/plain": [
       "'https://services5.arcgis.com/9s1YtFmLS0YTl10F/arcgis/rest/services/FERNS_for_McKenzie_Catchments/FeatureServer/0'"
      ]
     },
     "execution_count": 23,
     "metadata": {},
     "output_type": "execute_result"
    }
   ],
   "source": [
    "lyr"
   ]
  },
  {
   "cell_type": "code",
   "execution_count": 24,
   "id": "abb54dc3",
   "metadata": {},
   "outputs": [],
   "source": [
    "Expression=f\"YEAR <> '{year}'\"\n",
    "selected, count = arcpy.management.SelectLayerByAttribute(in_layer_or_view=lyr, \n",
    "                                                          selection_type=\"NEW_SELECTION\",\n",
    "                                                          where_clause=Expression, \n",
    "                                                          invert_where_clause=\"\")"
   ]
  },
  {
   "cell_type": "code",
   "execution_count": 26,
   "id": "61503308",
   "metadata": {},
   "outputs": [],
   "source": [
    "arcpy.env.workspace = wrkspace"
   ]
  },
  {
   "cell_type": "code",
   "execution_count": 27,
   "id": "da85801b",
   "metadata": {},
   "outputs": [
    {
     "data": {
      "text/html": [
       "<div class='gpresult'><h2>Messages</h2><div id='messages' data-messages='[\"Start Time: Tuesday, January 10, 2023 12:13:17 AM\",\"Succeeded at Tuesday, January 10, 2023 12:14:15 AM (Elapsed Time: 57.44 seconds)\"]' data-show='true'><div id = 'default' /></div></div>"
      ],
      "text/plain": [
       "<Result 'G:\\\\projects\\\\UtilityDistricts\\\\eweb\\\\DrinkingWater\\\\EPA319_NPS_grant\\\\ForestApplication\\\\ODF_FACTS_DB\\\\FERNS\\\\FERNS_Model\\\\FERNS_Workspace.gdb\\\\FERNS_before_2023'>"
      ]
     },
     "execution_count": 27,
     "metadata": {},
     "output_type": "execute_result"
    }
   ],
   "source": [
    "arcpy.management.CopyFeatures(selected, f'FERNS_before_{year}')"
   ]
  },
  {
   "cell_type": "code",
   "execution_count": 28,
   "id": "6a9160fd",
   "metadata": {},
   "outputs": [],
   "source": [
    "FERNSSummary_McKenzie_Joined = path + \"\\\\FERNS_Final_Products.gdb\\\\FERNSSummary_McKenzie_Joined\""
   ]
  },
  {
   "cell_type": "code",
   "execution_count": 29,
   "id": "25c6dd8c",
   "metadata": {},
   "outputs": [],
   "source": [
    "Joined = arcpy.management.Append(inputs=[FERNSSummary_McKenzie_Joined],\n",
    "                                 target=f'FERNS_before_{year}',\n",
    "                                 schema_type=\"TEST\", \n",
    "                                 field_mapping=\"\", \n",
    "                                 subtype=\"\", \n",
    "                                 expression=\"\")[0]"
   ]
  }
 ],
 "metadata": {
  "kernelspec": {
   "display_name": "Python 3",
   "language": "python",
   "name": "python3"
  },
  "language_info": {
   "codemirror_mode": {
    "name": "ipython",
    "version": 3
   },
   "file_extension": ".py",
   "mimetype": "text/x-python",
   "name": "python",
   "nbconvert_exporter": "python",
   "pygments_lexer": "ipython3",
   "version": "3.9.11"
  }
 },
 "nbformat": 4,
 "nbformat_minor": 5
}
