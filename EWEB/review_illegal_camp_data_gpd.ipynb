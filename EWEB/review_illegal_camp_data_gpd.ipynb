{
 "cells": [
  {
   "cell_type": "code",
   "execution_count": 1,
   "id": "16a3e681",
   "metadata": {},
   "outputs": [],
   "source": [
    "import geopandas as gpd\n",
    "import pandas as pd\n",
    "import numpy as np\n",
    "from geopandas import GeoDataFrame"
   ]
  },
  {
   "cell_type": "code",
   "execution_count": 2,
   "id": "aaecf422",
   "metadata": {},
   "outputs": [],
   "source": [
    "path = r'G:\\projects\\UtilityDistricts\\eweb\\DrinkingWater\\IllegalCampCoordination\\Recieved\\IllegalCampNotification_pro\\MyProject4.gdb'"
   ]
  },
  {
   "cell_type": "code",
   "execution_count": 3,
   "id": "1ffa3b6b",
   "metadata": {},
   "outputs": [],
   "source": [
    "campsites = gpd.read_file(path, layer='illegal_camp_sites')"
   ]
  },
  {
   "cell_type": "code",
   "execution_count": 4,
   "id": "37002ffd",
   "metadata": {},
   "outputs": [
    {
     "data": {
      "text/html": [
       "<div>\n",
       "<style scoped>\n",
       "    .dataframe tbody tr th:only-of-type {\n",
       "        vertical-align: middle;\n",
       "    }\n",
       "\n",
       "    .dataframe tbody tr th {\n",
       "        vertical-align: top;\n",
       "    }\n",
       "\n",
       "    .dataframe thead th {\n",
       "        text-align: right;\n",
       "    }\n",
       "</style>\n",
       "<table border=\"1\" class=\"dataframe\">\n",
       "  <thead>\n",
       "    <tr style=\"text-align: right;\">\n",
       "      <th></th>\n",
       "      <th>status</th>\n",
       "      <th>comments</th>\n",
       "      <th>date</th>\n",
       "      <th>submitted_by</th>\n",
       "      <th>dogs_present</th>\n",
       "      <th>unruly_inhabitants</th>\n",
       "      <th>hazardous_materials_present</th>\n",
       "      <th>biohazards_present</th>\n",
       "      <th>size_of_encampment</th>\n",
       "      <th>global_id</th>\n",
       "      <th>geometry</th>\n",
       "    </tr>\n",
       "  </thead>\n",
       "  <tbody>\n",
       "    <tr>\n",
       "      <th>0</th>\n",
       "      <td>Abandoned</td>\n",
       "      <td>Contcated group 5/18 and gave notice.</td>\n",
       "      <td>2016-05-18T15:36:59+00:00</td>\n",
       "      <td>Youngblood</td>\n",
       "      <td>No</td>\n",
       "      <td>No</td>\n",
       "      <td>None</td>\n",
       "      <td>None</td>\n",
       "      <td>Small</td>\n",
       "      <td>ab8037ce-196f-4dcd-8f50-432ad3eab07f</td>\n",
       "      <td>POINT (648676.895 837520.043)</td>\n",
       "    </tr>\n",
       "    <tr>\n",
       "      <th>1</th>\n",
       "      <td>Cleaned-up</td>\n",
       "      <td>Cleaned up 5/18.</td>\n",
       "      <td>2016-05-18T15:38:19+00:00</td>\n",
       "      <td>Youngblood</td>\n",
       "      <td>No</td>\n",
       "      <td>No</td>\n",
       "      <td>No</td>\n",
       "      <td>No</td>\n",
       "      <td>Small</td>\n",
       "      <td>85eaca87-90a3-4255-a42c-f0b41f8f5c5b</td>\n",
       "      <td>POINT (648704.972 837641.883)</td>\n",
       "    </tr>\n",
       "    <tr>\n",
       "      <th>2</th>\n",
       "      <td>Occupied</td>\n",
       "      <td>Notified campers 5/18.</td>\n",
       "      <td>2016-05-18T15:39:57+00:00</td>\n",
       "      <td>Youngblood</td>\n",
       "      <td>No</td>\n",
       "      <td>None</td>\n",
       "      <td>None</td>\n",
       "      <td>None</td>\n",
       "      <td>Small</td>\n",
       "      <td>03ed666e-4ad3-4710-9a39-0995f1deeea2</td>\n",
       "      <td>POINT (648423.293 837925.831)</td>\n",
       "    </tr>\n",
       "  </tbody>\n",
       "</table>\n",
       "</div>"
      ],
      "text/plain": [
       "       status                               comments  \\\n",
       "0   Abandoned  Contcated group 5/18 and gave notice.   \n",
       "1  Cleaned-up                       Cleaned up 5/18.   \n",
       "2    Occupied                 Notified campers 5/18.   \n",
       "\n",
       "                        date submitted_by dogs_present unruly_inhabitants  \\\n",
       "0  2016-05-18T15:36:59+00:00   Youngblood           No                 No   \n",
       "1  2016-05-18T15:38:19+00:00   Youngblood           No                 No   \n",
       "2  2016-05-18T15:39:57+00:00   Youngblood           No               None   \n",
       "\n",
       "  hazardous_materials_present biohazards_present size_of_encampment  \\\n",
       "0                        None               None              Small   \n",
       "1                          No                 No              Small   \n",
       "2                        None               None              Small   \n",
       "\n",
       "                              global_id                       geometry  \n",
       "0  ab8037ce-196f-4dcd-8f50-432ad3eab07f  POINT (648676.895 837520.043)  \n",
       "1  85eaca87-90a3-4255-a42c-f0b41f8f5c5b  POINT (648704.972 837641.883)  \n",
       "2  03ed666e-4ad3-4710-9a39-0995f1deeea2  POINT (648423.293 837925.831)  "
      ]
     },
     "execution_count": 4,
     "metadata": {},
     "output_type": "execute_result"
    }
   ],
   "source": [
    "campsites.head(3)"
   ]
  },
  {
   "cell_type": "code",
   "execution_count": 5,
   "id": "e09e4d40",
   "metadata": {},
   "outputs": [],
   "source": [
    "river_buffer = gpd.read_file(path, layer = 'LCHydro24K_polyselectionsele')"
   ]
  },
  {
   "cell_type": "code",
   "execution_count": 6,
   "id": "eb379eb9",
   "metadata": {},
   "outputs": [],
   "source": [
    "campsites = campsites.to_crs(epsg=2914)"
   ]
  },
  {
   "cell_type": "code",
   "execution_count": 7,
   "id": "493be621",
   "metadata": {},
   "outputs": [
    {
     "data": {
      "text/plain": [
       "(753, 11)"
      ]
     },
     "execution_count": 7,
     "metadata": {},
     "output_type": "execute_result"
    }
   ],
   "source": [
    "campsites.shape"
   ]
  },
  {
   "cell_type": "code",
   "execution_count": 8,
   "id": "d7293e4a",
   "metadata": {},
   "outputs": [],
   "source": [
    "campsites.loc[:, 'year'] = campsites.date.apply(lambda x: x.split('-')[0] if x is not None else x)"
   ]
  },
  {
   "cell_type": "code",
   "execution_count": 9,
   "id": "0ce47384",
   "metadata": {},
   "outputs": [],
   "source": [
    "def get_pip(points, polygons):\n",
    "    id_list = list(polygons.index)\n",
    "    df = pd.DataFrame().reindex_like(points).dropna()\n",
    "    for ID in id_list:\n",
    "        pol = (polygons.loc[polygons.index==ID])\n",
    "        pol.reset_index(drop = True, inplace = True)\n",
    "        pip_mask = points.within(pol.loc[0, 'geometry'])\n",
    "        pip_data = points.loc[pip_mask].copy()\n",
    "        df = df.append(pip_data)\n",
    "    df.reset_index(inplace=True, drop=True)\n",
    "    return df "
   ]
  },
  {
   "cell_type": "code",
   "execution_count": 10,
   "id": "d43b6e71",
   "metadata": {},
   "outputs": [],
   "source": [
    "within_buffer = get_pip(campsites, river_buffer)"
   ]
  },
  {
   "cell_type": "code",
   "execution_count": 11,
   "id": "ce531103",
   "metadata": {},
   "outputs": [],
   "source": [
    "within_buffer_gdf = GeoDataFrame(within_buffer, crs='EPSG:2914', geometry=within_buffer['geometry'])"
   ]
  },
  {
   "cell_type": "code",
   "execution_count": 12,
   "id": "c2480479",
   "metadata": {},
   "outputs": [
    {
     "data": {
      "text/plain": [
       "(185, 12)"
      ]
     },
     "execution_count": 12,
     "metadata": {},
     "output_type": "execute_result"
    }
   ],
   "source": [
    "within_buffer.shape"
   ]
  },
  {
   "cell_type": "code",
   "execution_count": 13,
   "id": "df2c8447",
   "metadata": {},
   "outputs": [],
   "source": [
    "def close_points(points, dist_threshold):\n",
    "    dist = points.geometry.apply(lambda g: points.distance(g))\n",
    "    dist_triu = dist.where(~np.tril(np.ones(dist.shape)).astype(bool))\n",
    "    dist_triu = dist_triu.stack()\n",
    "    sel_dist = dist_triu[dist_triu < dist_threshold]\n",
    "    idx = []\n",
    "    if sel_dist.shape[0] > 0:\n",
    "        pairs = list(sel_dist.index)\n",
    "        df = pd.DataFrame()\n",
    "        for pair in pairs:\n",
    "            inds = list(pair)\n",
    "            idx = idx + inds\n",
    "            sel_pts = points[points.index.isin(inds)]\n",
    "            x = sel_pts.geometry.apply(lambda p: p.x).mean()\n",
    "            y = sel_pts.geometry.apply(lambda p: p.y).mean()\n",
    "            ndf = pd.DataFrame({'x':[x], 'y':[y]})\n",
    "            df = df.append(ndf)\n",
    "        pt_avg = gpd.GeoDataFrame(df, geometry=gpd.points_from_xy(df.x, df.y, crs='EPSG:2914'))\n",
    "        pt_avg.loc[:, 'year'] = points.year.values[0]\n",
    "        res = pt_avg[['year', 'geometry']]\n",
    "        return res, idx\n",
    "    else:\n",
    "        print(f'There are not close points within {dist_threshold} feet in {points.year.values[0]}')\n",
    "        return 0"
   ]
  },
  {
   "cell_type": "code",
   "execution_count": 14,
   "id": "aedd4338",
   "metadata": {},
   "outputs": [],
   "source": [
    "def reorganize_points(points, dist_threshold):\n",
    "    check_near_points = close_points(points, dist_threshold)\n",
    "    if check_near_points == 0:\n",
    "        pnts = points[['year', 'geometry']]\n",
    "    else:\n",
    "        avg_pnts = check_near_points[0]\n",
    "        idx = check_near_points[1]\n",
    "        other_pnts = points[~points.index.isin(idx)]\n",
    "        pnts = other_pnts[['year', 'geometry']].append(avg_pnts, ignore_index=True)\n",
    "    return pnts"
   ]
  },
  {
   "cell_type": "code",
   "execution_count": 15,
   "id": "6a46f6aa",
   "metadata": {},
   "outputs": [],
   "source": [
    "years = list(map(lambda x: str(x), range(2019, 2023)))"
   ]
  },
  {
   "cell_type": "code",
   "execution_count": 16,
   "id": "da7588fd",
   "metadata": {},
   "outputs": [],
   "source": [
    "outpath = r'G:\\projects\\UtilityDistricts\\eweb\\DrinkingWater\\IllegalCampCoordination\\Recieved\\Summary Statistics\\output'"
   ]
  },
  {
   "cell_type": "code",
   "execution_count": 17,
   "id": "fb14d744",
   "metadata": {},
   "outputs": [
    {
     "data": {
      "text/plain": [
       "array(['2016', '2017', '2018', '2019', '2020', '2021', None, '2022',\n",
       "       '2023', '2012'], dtype=object)"
      ]
     },
     "execution_count": 17,
     "metadata": {},
     "output_type": "execute_result"
    }
   ],
   "source": [
    "within_buffer_gdf.year.unique()"
   ]
  },
  {
   "cell_type": "code",
   "execution_count": 18,
   "id": "3ffc13e6",
   "metadata": {},
   "outputs": [
    {
     "data": {
      "text/plain": [
       "['2019', '2020', '2021', '2022']"
      ]
     },
     "execution_count": 18,
     "metadata": {},
     "output_type": "execute_result"
    }
   ],
   "source": [
    "years"
   ]
  },
  {
   "cell_type": "code",
   "execution_count": 19,
   "id": "50ddf2e5",
   "metadata": {},
   "outputs": [
    {
     "name": "stdout",
     "output_type": "stream",
     "text": [
      "There are not close points within 50 feet in 2020\n",
      "There are not close points within 50 feet in 2020\n",
      "There are not close points within 50 feet in 2022\n"
     ]
    }
   ],
   "source": [
    "lst = []\n",
    "for year in years:\n",
    "    site_yr = reorganize_points(campsites[campsites.year == year], 50)\n",
    "    site_buffer_yr = reorganize_points(within_buffer_gdf[within_buffer_gdf.year == year][['year', 'geometry']], 50)\n",
    "    site_yr.to_file(outpath+f'\\\\campsites_{year}.shp')\n",
    "    site_buffer_yr.to_file(outpath+f'\\\\campsites_within_buffer_{year}.shp')\n",
    "    lst.append([year, site_yr.shape[0], site_buffer_yr.shape[0]])"
   ]
  },
  {
   "cell_type": "code",
   "execution_count": 20,
   "id": "d82570ed",
   "metadata": {},
   "outputs": [],
   "source": [
    "df=pd.DataFrame(lst, columns=['Year', 'Total_Count', 'Count_within_Buffer'])"
   ]
  },
  {
   "cell_type": "code",
   "execution_count": 22,
   "id": "24adf15d",
   "metadata": {},
   "outputs": [],
   "source": [
    "df.to_csv(outpath+'\\\\summary_stat.csv', index=False)"
   ]
  }
 ],
 "metadata": {
  "kernelspec": {
   "display_name": "Python 3",
   "language": "python",
   "name": "python3"
  },
  "language_info": {
   "codemirror_mode": {
    "name": "ipython",
    "version": 3
   },
   "file_extension": ".py",
   "mimetype": "text/x-python",
   "name": "python",
   "nbconvert_exporter": "python",
   "pygments_lexer": "ipython3",
   "version": "3.8.8"
  }
 },
 "nbformat": 4,
 "nbformat_minor": 5
}
