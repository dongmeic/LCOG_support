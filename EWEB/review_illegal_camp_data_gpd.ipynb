{
 "cells": [
  {
   "cell_type": "code",
   "execution_count": 1,
   "id": "6bfe46b8",
   "metadata": {},
   "outputs": [],
   "source": [
    "import geopandas as gpd\n",
    "import pandas as pd\n",
    "import numpy as np\n",
    "from geopandas import GeoDataFrame"
   ]
  },
  {
   "cell_type": "code",
   "execution_count": 2,
   "id": "e83db5a3",
   "metadata": {},
   "outputs": [],
   "source": [
    "path = r'G:\\projects\\UtilityDistricts\\eweb\\DrinkingWater\\IllegalCampCoordination\\Recieved\\IllegalCampNotification_pro\\MyProject4.gdb'"
   ]
  },
  {
   "cell_type": "code",
   "execution_count": 3,
   "id": "ffef9786",
   "metadata": {},
   "outputs": [],
   "source": [
    "campsites = gpd.read_file(path, layer='illegal_camp_sites')"
   ]
  },
  {
   "cell_type": "code",
   "execution_count": 4,
   "id": "b3f309f7",
   "metadata": {},
   "outputs": [
    {
     "data": {
      "text/html": [
       "<div>\n",
       "<style scoped>\n",
       "    .dataframe tbody tr th:only-of-type {\n",
       "        vertical-align: middle;\n",
       "    }\n",
       "\n",
       "    .dataframe tbody tr th {\n",
       "        vertical-align: top;\n",
       "    }\n",
       "\n",
       "    .dataframe thead th {\n",
       "        text-align: right;\n",
       "    }\n",
       "</style>\n",
       "<table border=\"1\" class=\"dataframe\">\n",
       "  <thead>\n",
       "    <tr style=\"text-align: right;\">\n",
       "      <th></th>\n",
       "      <th>status</th>\n",
       "      <th>comments</th>\n",
       "      <th>date</th>\n",
       "      <th>submitted_by</th>\n",
       "      <th>dogs_present</th>\n",
       "      <th>unruly_inhabitants</th>\n",
       "      <th>hazardous_materials_present</th>\n",
       "      <th>biohazards_present</th>\n",
       "      <th>size_of_encampment</th>\n",
       "      <th>global_id</th>\n",
       "      <th>geometry</th>\n",
       "    </tr>\n",
       "  </thead>\n",
       "  <tbody>\n",
       "    <tr>\n",
       "      <th>0</th>\n",
       "      <td>Abandoned</td>\n",
       "      <td>Contcated group 5/18 and gave notice.</td>\n",
       "      <td>2016-05-18T15:36:59+00:00</td>\n",
       "      <td>Youngblood</td>\n",
       "      <td>No</td>\n",
       "      <td>No</td>\n",
       "      <td>None</td>\n",
       "      <td>None</td>\n",
       "      <td>Small</td>\n",
       "      <td>ab8037ce-196f-4dcd-8f50-432ad3eab07f</td>\n",
       "      <td>POINT (648676.895 837520.043)</td>\n",
       "    </tr>\n",
       "    <tr>\n",
       "      <th>1</th>\n",
       "      <td>Cleaned-up</td>\n",
       "      <td>Cleaned up 5/18.</td>\n",
       "      <td>2016-05-18T15:38:19+00:00</td>\n",
       "      <td>Youngblood</td>\n",
       "      <td>No</td>\n",
       "      <td>No</td>\n",
       "      <td>No</td>\n",
       "      <td>No</td>\n",
       "      <td>Small</td>\n",
       "      <td>85eaca87-90a3-4255-a42c-f0b41f8f5c5b</td>\n",
       "      <td>POINT (648704.972 837641.883)</td>\n",
       "    </tr>\n",
       "    <tr>\n",
       "      <th>2</th>\n",
       "      <td>Occupied</td>\n",
       "      <td>Notified campers 5/18.</td>\n",
       "      <td>2016-05-18T15:39:57+00:00</td>\n",
       "      <td>Youngblood</td>\n",
       "      <td>No</td>\n",
       "      <td>None</td>\n",
       "      <td>None</td>\n",
       "      <td>None</td>\n",
       "      <td>Small</td>\n",
       "      <td>03ed666e-4ad3-4710-9a39-0995f1deeea2</td>\n",
       "      <td>POINT (648423.293 837925.831)</td>\n",
       "    </tr>\n",
       "  </tbody>\n",
       "</table>\n",
       "</div>"
      ],
      "text/plain": [
       "       status                               comments  \\\n",
       "0   Abandoned  Contcated group 5/18 and gave notice.   \n",
       "1  Cleaned-up                       Cleaned up 5/18.   \n",
       "2    Occupied                 Notified campers 5/18.   \n",
       "\n",
       "                        date submitted_by dogs_present unruly_inhabitants  \\\n",
       "0  2016-05-18T15:36:59+00:00   Youngblood           No                 No   \n",
       "1  2016-05-18T15:38:19+00:00   Youngblood           No                 No   \n",
       "2  2016-05-18T15:39:57+00:00   Youngblood           No               None   \n",
       "\n",
       "  hazardous_materials_present biohazards_present size_of_encampment  \\\n",
       "0                        None               None              Small   \n",
       "1                          No                 No              Small   \n",
       "2                        None               None              Small   \n",
       "\n",
       "                              global_id                       geometry  \n",
       "0  ab8037ce-196f-4dcd-8f50-432ad3eab07f  POINT (648676.895 837520.043)  \n",
       "1  85eaca87-90a3-4255-a42c-f0b41f8f5c5b  POINT (648704.972 837641.883)  \n",
       "2  03ed666e-4ad3-4710-9a39-0995f1deeea2  POINT (648423.293 837925.831)  "
      ]
     },
     "execution_count": 4,
     "metadata": {},
     "output_type": "execute_result"
    }
   ],
   "source": [
    "campsites.head(3)"
   ]
  },
  {
   "cell_type": "code",
   "execution_count": 5,
   "id": "99339168",
   "metadata": {},
   "outputs": [],
   "source": [
    "river_buffer = gpd.read_file(path, layer = 'LCHydro24K_polyselectionsele')"
   ]
  },
  {
   "cell_type": "code",
   "execution_count": 6,
   "id": "4b4204af",
   "metadata": {},
   "outputs": [],
   "source": [
    "campsites = campsites.to_crs(epsg=2914)"
   ]
  },
  {
   "cell_type": "code",
   "execution_count": 7,
   "id": "29fd16e1",
   "metadata": {},
   "outputs": [
    {
     "data": {
      "text/plain": [
       "(758, 11)"
      ]
     },
     "execution_count": 7,
     "metadata": {},
     "output_type": "execute_result"
    }
   ],
   "source": [
    "campsites.shape"
   ]
  },
  {
   "cell_type": "code",
   "execution_count": 8,
   "id": "cb5affb8",
   "metadata": {},
   "outputs": [],
   "source": [
    "campsites.loc[:, 'year'] = campsites.date.apply(lambda x: x.split('-')[0] if x is not None else x)"
   ]
  },
  {
   "cell_type": "code",
   "execution_count": 9,
   "id": "372af4c6",
   "metadata": {},
   "outputs": [],
   "source": [
    "def get_pip(points, polygons):\n",
    "    id_list = list(polygons.index)\n",
    "    df = pd.DataFrame().reindex_like(points).dropna()\n",
    "    for ID in id_list:\n",
    "        pol = (polygons.loc[polygons.index==ID])\n",
    "        pol.reset_index(drop = True, inplace = True)\n",
    "        pip_mask = points.within(pol.loc[0, 'geometry'])\n",
    "        pip_data = points.loc[pip_mask].copy()\n",
    "        df = df.append(pip_data)\n",
    "    df.reset_index(inplace=True, drop=True)\n",
    "    return df "
   ]
  },
  {
   "cell_type": "code",
   "execution_count": 10,
   "id": "42384fe5",
   "metadata": {},
   "outputs": [],
   "source": [
    "within_buffer = get_pip(campsites, river_buffer)"
   ]
  },
  {
   "cell_type": "code",
   "execution_count": 11,
   "id": "06c9e16d",
   "metadata": {},
   "outputs": [],
   "source": [
    "within_buffer_gdf = GeoDataFrame(within_buffer, crs='EPSG:2914', geometry=within_buffer['geometry'])"
   ]
  },
  {
   "cell_type": "code",
   "execution_count": 12,
   "id": "c5a441b4",
   "metadata": {},
   "outputs": [
    {
     "data": {
      "text/plain": [
       "(185, 12)"
      ]
     },
     "execution_count": 12,
     "metadata": {},
     "output_type": "execute_result"
    }
   ],
   "source": [
    "within_buffer.shape"
   ]
  },
  {
   "cell_type": "code",
   "execution_count": 13,
   "id": "f0452698",
   "metadata": {},
   "outputs": [],
   "source": [
    "def close_points(points, dist_threshold):\n",
    "    dist = points.geometry.apply(lambda g: points.distance(g))\n",
    "    dist_triu = dist.where(~np.tril(np.ones(dist.shape)).astype(bool))\n",
    "    dist_triu = dist_triu.stack()\n",
    "    sel_dist = dist_triu[dist_triu < dist_threshold]\n",
    "    idx = []\n",
    "    if sel_dist.shape[0] > 0:\n",
    "        pairs = list(sel_dist.index)\n",
    "        df = pd.DataFrame()\n",
    "        for pair in pairs:\n",
    "            inds = list(pair)\n",
    "            idx = idx + inds\n",
    "            sel_pts = points[points.index.isin(inds)]\n",
    "            x = sel_pts.geometry.apply(lambda p: p.x).mean()\n",
    "            y = sel_pts.geometry.apply(lambda p: p.y).mean()\n",
    "            ndf = pd.DataFrame({'x':[x], 'y':[y]})\n",
    "            df = df.append(ndf)\n",
    "        pt_avg = gpd.GeoDataFrame(df, geometry=gpd.points_from_xy(df.x, df.y, crs='EPSG:2914'))\n",
    "        pt_avg.loc[:, 'year'] = points.year.values[0]\n",
    "        res = pt_avg[['year', 'geometry']]\n",
    "        return res, idx\n",
    "    else:\n",
    "        #print(f'There are not close points within {dist_threshold} feet in {points.year.values[0]}')\n",
    "        return 0"
   ]
  },
  {
   "cell_type": "code",
   "execution_count": 14,
   "id": "614979d9",
   "metadata": {},
   "outputs": [],
   "source": [
    "def reorganize_points(points, dist_threshold):\n",
    "    check_near_points = close_points(points, dist_threshold)\n",
    "    if check_near_points == 0:\n",
    "        pnts = points[['year', 'geometry']]\n",
    "    else:\n",
    "        avg_pnts = check_near_points[0]\n",
    "        idx = check_near_points[1]\n",
    "        other_pnts = points[~points.index.isin(idx)]\n",
    "        pnts = other_pnts[['year', 'geometry']].append(avg_pnts, ignore_index=True)\n",
    "    return pnts"
   ]
  },
  {
   "cell_type": "code",
   "execution_count": 17,
   "id": "8ccbe8a0",
   "metadata": {},
   "outputs": [],
   "source": [
    "years = list(map(lambda x: str(x), range(2020, 2023)))"
   ]
  },
  {
   "cell_type": "code",
   "execution_count": 14,
   "id": "6ae31360",
   "metadata": {},
   "outputs": [],
   "source": [
    "outpath = r'G:\\projects\\UtilityDistricts\\eweb\\DrinkingWater\\IllegalCampCoordination\\Recieved\\Summary Statistics\\output'"
   ]
  },
  {
   "cell_type": "code",
   "execution_count": 15,
   "id": "54a2d120",
   "metadata": {},
   "outputs": [],
   "source": [
    "allpoints = True"
   ]
  },
  {
   "cell_type": "code",
   "execution_count": 16,
   "id": "1044e4ff",
   "metadata": {},
   "outputs": [],
   "source": [
    "lst = []\n",
    "if allpoints:\n",
    "    for year in years:\n",
    "        site_yr = campsites[campsites.year == year][['year', 'geometry']]\n",
    "        site_buffer_yr = within_buffer_gdf[within_buffer_gdf.year == year][['year', 'geometry']]\n",
    "        site_yr.to_file(outpath+f'\\\\campsites_{year}_all.shp')\n",
    "        site_buffer_yr.to_file(outpath+f'\\\\campsites_within_buffer_{year}_all.shp')\n",
    "        lst.append([year, site_yr.shape[0], site_buffer_yr.shape[0]])\n",
    "    df=pd.DataFrame(lst, columns=['Year', 'Total_Count', 'Count_within_Buffer'])\n",
    "    df.to_csv(outpath+'\\\\summary_stat.csv', index=False)\n",
    "else:\n",
    "    for year in years:\n",
    "        site_yr = reorganize_points(campsites[campsites.year == year], 50)\n",
    "        site_buffer_yr = reorganize_points(within_buffer_gdf[within_buffer_gdf.year == year][['year', 'geometry']], 50)\n",
    "        site_yr.to_file(outpath+f'\\\\campsites_{year}.shp')\n",
    "        site_buffer_yr.to_file(outpath+f'\\\\campsites_within_buffer_{year}.shp')\n",
    "        lst.append([year, site_yr.shape[0], site_buffer_yr.shape[0]])\n",
    "    df=pd.DataFrame(lst, columns=['Year', 'Total_Count', 'Count_within_Buffer'])\n",
    "    df.to_csv(outpath+'\\\\summary_stat_removed_points.csv', index=False)"
   ]
  },
  {
   "cell_type": "code",
   "execution_count": 18,
   "id": "d9cf92d1",
   "metadata": {},
   "outputs": [],
   "source": [
    "campsites[campsites.year.isin(years)][['year', 'geometry']].to_file(outpath+'\\\\campsites_all.shp')"
   ]
  },
  {
   "cell_type": "code",
   "execution_count": 19,
   "id": "624b9670",
   "metadata": {},
   "outputs": [],
   "source": [
    "within_buffer_gdf[within_buffer_gdf.year.isin(years)][['year', 'geometry']].to_file(outpath+'\\\\campsites_within_buffer_all.shp')"
   ]
  },
  {
   "cell_type": "code",
   "execution_count": 29,
   "id": "90bfbd3a",
   "metadata": {},
   "outputs": [],
   "source": [
    "missing = pd.read_excel(r'G:\\projects\\UtilityDistricts\\eweb\\DrinkingWater\\IllegalCampCoordination\\Recieved\\Summary Statistics\\Maps\\missing_points.xlsx')"
   ]
  },
  {
   "cell_type": "code",
   "execution_count": 31,
   "id": "33f0aef2",
   "metadata": {},
   "outputs": [
    {
     "data": {
      "text/plain": [
       "Index(['TARGET_FID', 'Status', 'Comments', 'Date', 'Submitted By',\n",
       "       'Dogs present', 'Hazardous materials present', 'Biohazards present',\n",
       "       'Size of encampment', 'maptaxlot_hyphen', 'ownname', 'addr1',\n",
       "       'ownercity', 'ownerprvst', 'ownerzip', 'geocity_name', 'ugb_name',\n",
       "       'longitude', 'latitude', 'Above Intake', 'Photos'],\n",
       "      dtype='object')"
      ]
     },
     "execution_count": 31,
     "metadata": {},
     "output_type": "execute_result"
    }
   ],
   "source": [
    "missing.columns"
   ]
  },
  {
   "cell_type": "code",
   "execution_count": 34,
   "id": "59ed657a",
   "metadata": {},
   "outputs": [],
   "source": [
    "outpath = r'G:\\projects\\UtilityDistricts\\eweb\\DrinkingWater\\IllegalCampCoordination\\Recieved\\Summary Statistics\\Maps'"
   ]
  },
  {
   "cell_type": "code",
   "execution_count": 37,
   "id": "26642593",
   "metadata": {},
   "outputs": [],
   "source": [
    "def get_point_from_lonlat(df, export=True):\n",
    "    df = df[['longitude', 'latitude']]\n",
    "    gdf = gpd.GeoDataFrame(df, crs=\"EPSG:4326\", geometry=gpd.points_from_xy(df.longitude, df.latitude))\n",
    "    gdf = gdf.to_crs(epsg=2914)\n",
    "    if export:\n",
    "        gdf.to_file(outpath + '\\\\missing_points.shp')\n",
    "    return gdf"
   ]
  },
  {
   "cell_type": "code",
   "execution_count": 36,
   "id": "db210a29",
   "metadata": {},
   "outputs": [
    {
     "data": {
      "text/html": [
       "<div>\n",
       "<style scoped>\n",
       "    .dataframe tbody tr th:only-of-type {\n",
       "        vertical-align: middle;\n",
       "    }\n",
       "\n",
       "    .dataframe tbody tr th {\n",
       "        vertical-align: top;\n",
       "    }\n",
       "\n",
       "    .dataframe thead th {\n",
       "        text-align: right;\n",
       "    }\n",
       "</style>\n",
       "<table border=\"1\" class=\"dataframe\">\n",
       "  <thead>\n",
       "    <tr style=\"text-align: right;\">\n",
       "      <th></th>\n",
       "      <th>longitude</th>\n",
       "      <th>latitude</th>\n",
       "    </tr>\n",
       "  </thead>\n",
       "  <tbody>\n",
       "    <tr>\n",
       "      <th>0</th>\n",
       "      <td>-122.998016</td>\n",
       "      <td>44.059613</td>\n",
       "    </tr>\n",
       "    <tr>\n",
       "      <th>1</th>\n",
       "      <td>-123.011369</td>\n",
       "      <td>44.041530</td>\n",
       "    </tr>\n",
       "    <tr>\n",
       "      <th>2</th>\n",
       "      <td>-123.042453</td>\n",
       "      <td>44.093901</td>\n",
       "    </tr>\n",
       "  </tbody>\n",
       "</table>\n",
       "</div>"
      ],
      "text/plain": [
       "    longitude   latitude\n",
       "0 -122.998016  44.059613\n",
       "1 -123.011369  44.041530\n",
       "2 -123.042453  44.093901"
      ]
     },
     "execution_count": 36,
     "metadata": {},
     "output_type": "execute_result"
    }
   ],
   "source": [
    "missing[['longitude', 'latitude']]"
   ]
  },
  {
   "cell_type": "code",
   "execution_count": 39,
   "id": "a0dbb35b",
   "metadata": {},
   "outputs": [
    {
     "data": {
      "text/plain": [
       "0    1727\n",
       "1    1699\n",
       "2    1632\n",
       "Name: TARGET_FID, dtype: int64"
      ]
     },
     "execution_count": 39,
     "metadata": {},
     "output_type": "execute_result"
    }
   ],
   "source": [
    "missing['TARGET_FID']"
   ]
  },
  {
   "cell_type": "code",
   "execution_count": 38,
   "id": "f17edd54",
   "metadata": {},
   "outputs": [],
   "source": [
    "gdf = get_point_from_lonlat(df=missing, export=True)"
   ]
  },
  {
   "cell_type": "code",
   "execution_count": 21,
   "id": "049f8a7d",
   "metadata": {},
   "outputs": [],
   "source": [
    "from PyPDF2 import PdfMerger"
   ]
  },
  {
   "cell_type": "code",
   "execution_count": 20,
   "id": "92484d11",
   "metadata": {},
   "outputs": [],
   "source": [
    "pdfs = ['Summary.pdf', 'International Paper.pdf', '2022.pdf', '2021.pdf', '2020.pdf']"
   ]
  },
  {
   "cell_type": "code",
   "execution_count": 22,
   "id": "bda857ad",
   "metadata": {},
   "outputs": [],
   "source": [
    "map_path = outpath + '\\\\FY22-V2-DC'"
   ]
  },
  {
   "cell_type": "code",
   "execution_count": 26,
   "id": "cc68bd76",
   "metadata": {},
   "outputs": [],
   "source": [
    "merger = PdfMerger()"
   ]
  },
  {
   "cell_type": "code",
   "execution_count": 27,
   "id": "6622176b",
   "metadata": {},
   "outputs": [],
   "source": [
    "for pdf in pdfs:\n",
    "    merger.append(map_path+'\\\\'+pdf)"
   ]
  },
  {
   "cell_type": "code",
   "execution_count": 28,
   "id": "9b6143ac",
   "metadata": {},
   "outputs": [],
   "source": [
    "merger.write(map_path+\"\\\\Illegal_Camp_Report_Maps.pdf\")\n",
    "merger.close()"
   ]
  }
 ],
 "metadata": {
  "kernelspec": {
   "display_name": "Python 3",
   "language": "python",
   "name": "python3"
  },
  "language_info": {
   "codemirror_mode": {
    "name": "ipython",
    "version": 3
   },
   "file_extension": ".py",
   "mimetype": "text/x-python",
   "name": "python",
   "nbconvert_exporter": "python",
   "pygments_lexer": "ipython3",
   "version": "3.8.8"
  }
 },
 "nbformat": 4,
 "nbformat_minor": 5
}
