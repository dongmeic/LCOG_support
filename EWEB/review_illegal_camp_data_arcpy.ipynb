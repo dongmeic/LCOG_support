{
 "cells": [
  {
   "cell_type": "code",
   "execution_count": 1,
   "id": "168d332e",
   "metadata": {},
   "outputs": [],
   "source": [
    "import arcpy\n",
    "from arcgis import GIS\n",
    "import pandas as pd"
   ]
  },
  {
   "cell_type": "code",
   "execution_count": 2,
   "id": "50ec68bf",
   "metadata": {},
   "outputs": [],
   "source": [
    "path = r'G:\\projects\\UtilityDistricts\\eweb\\DrinkingWater\\IllegalCampCoordination\\Recieved\\IllegalCampNotification_pro\\MyProject4.gdb'"
   ]
  },
  {
   "cell_type": "code",
   "execution_count": 3,
   "id": "877ee159",
   "metadata": {},
   "outputs": [],
   "source": [
    "arcpy.env.overwriteOutput = True"
   ]
  },
  {
   "cell_type": "code",
   "execution_count": 4,
   "id": "ba34b4d5",
   "metadata": {},
   "outputs": [],
   "source": [
    "gis = GIS('home')"
   ]
  },
  {
   "cell_type": "code",
   "execution_count": 5,
   "id": "5456ee7d",
   "metadata": {},
   "outputs": [],
   "source": [
    "item = gis.content.get('a0f62640f4454051b27ab6286130019d')"
   ]
  },
  {
   "cell_type": "code",
   "execution_count": 6,
   "id": "3b899f2c",
   "metadata": {},
   "outputs": [],
   "source": [
    "flayer = item.layers[0]"
   ]
  },
  {
   "cell_type": "code",
   "execution_count": 7,
   "id": "cde0e148",
   "metadata": {},
   "outputs": [
    {
     "data": {
      "text/plain": [
       "<FeatureLayer url:\"https://services5.arcgis.com/9s1YtFmLS0YTl10F/arcgis/rest/services/ZHomeless_Camp_Trash_Collector/FeatureServer/0\">"
      ]
     },
     "execution_count": 7,
     "metadata": {},
     "output_type": "execute_result"
    }
   ],
   "source": [
    "flayer"
   ]
  },
  {
   "cell_type": "code",
   "execution_count": 8,
   "id": "07b45be2",
   "metadata": {},
   "outputs": [],
   "source": [
    "sdf = pd.DataFrame.spatial.from_layer(flayer)"
   ]
  },
  {
   "cell_type": "code",
   "execution_count": 9,
   "id": "5c4cb922",
   "metadata": {},
   "outputs": [
    {
     "data": {
      "text/html": [
       "<div>\n",
       "<style scoped>\n",
       "    .dataframe tbody tr th:only-of-type {\n",
       "        vertical-align: middle;\n",
       "    }\n",
       "\n",
       "    .dataframe tbody tr th {\n",
       "        vertical-align: top;\n",
       "    }\n",
       "\n",
       "    .dataframe thead th {\n",
       "        text-align: right;\n",
       "    }\n",
       "</style>\n",
       "<table border=\"1\" class=\"dataframe\">\n",
       "  <thead>\n",
       "    <tr style=\"text-align: right;\">\n",
       "      <th></th>\n",
       "      <th>OBJECTID</th>\n",
       "      <th>Status</th>\n",
       "      <th>Comments</th>\n",
       "      <th>Date</th>\n",
       "      <th>Submitted_by</th>\n",
       "      <th>Dogs_present</th>\n",
       "      <th>Unruly_inhabitants</th>\n",
       "      <th>Hazardous_materials_present</th>\n",
       "      <th>Biohazards_present</th>\n",
       "      <th>Size_of_encampment</th>\n",
       "      <th>GlobalID</th>\n",
       "      <th>SHAPE</th>\n",
       "    </tr>\n",
       "  </thead>\n",
       "  <tbody>\n",
       "    <tr>\n",
       "      <th>0</th>\n",
       "      <td>31</td>\n",
       "      <td>Abandoned</td>\n",
       "      <td>Contcated group 5/18 and gave notice.</td>\n",
       "      <td>2016-05-18 15:37:00.000000000</td>\n",
       "      <td>Youngblood</td>\n",
       "      <td>No</td>\n",
       "      <td>No</td>\n",
       "      <td>None</td>\n",
       "      <td>None</td>\n",
       "      <td>Small</td>\n",
       "      <td>ab8037ce-196f-4dcd-8f50-432ad3eab07f</td>\n",
       "      <td>{\"x\": 648676.8949984876, \"y\": 837520.042700977...</td>\n",
       "    </tr>\n",
       "    <tr>\n",
       "      <th>1</th>\n",
       "      <td>32</td>\n",
       "      <td>Cleaned-up</td>\n",
       "      <td>Cleaned up 5/18.</td>\n",
       "      <td>2016-05-18 15:38:19.867000103</td>\n",
       "      <td>Youngblood</td>\n",
       "      <td>No</td>\n",
       "      <td>No</td>\n",
       "      <td>No</td>\n",
       "      <td>No</td>\n",
       "      <td>Small</td>\n",
       "      <td>85eaca87-90a3-4255-a42c-f0b41f8f5c5b</td>\n",
       "      <td>{\"x\": 648704.9723999985, \"y\": 837641.882899999...</td>\n",
       "    </tr>\n",
       "    <tr>\n",
       "      <th>2</th>\n",
       "      <td>33</td>\n",
       "      <td>Occupied</td>\n",
       "      <td>Notified campers 5/18.</td>\n",
       "      <td>2016-05-18 15:39:57.341000080</td>\n",
       "      <td>Youngblood</td>\n",
       "      <td>No</td>\n",
       "      <td>None</td>\n",
       "      <td>None</td>\n",
       "      <td>None</td>\n",
       "      <td>Small</td>\n",
       "      <td>03ed666e-4ad3-4710-9a39-0995f1deeea2</td>\n",
       "      <td>{\"x\": 648423.2927000001, \"y\": 837925.831399999...</td>\n",
       "    </tr>\n",
       "    <tr>\n",
       "      <th>3</th>\n",
       "      <td>34</td>\n",
       "      <td>Cleaned-up</td>\n",
       "      <td>None</td>\n",
       "      <td>2016-05-16 15:42:32.963999987</td>\n",
       "      <td>Youngblood</td>\n",
       "      <td>No</td>\n",
       "      <td>Yes</td>\n",
       "      <td>Yes</td>\n",
       "      <td>Yes</td>\n",
       "      <td>Small</td>\n",
       "      <td>89f08fad-9895-467e-a901-39b50fd04aba</td>\n",
       "      <td>{\"x\": 650743.1345000006, \"y\": 785318.375700000...</td>\n",
       "    </tr>\n",
       "    <tr>\n",
       "      <th>4</th>\n",
       "      <td>35</td>\n",
       "      <td>Cleaned-up</td>\n",
       "      <td>None</td>\n",
       "      <td>2016-05-16 15:43:17.842000008</td>\n",
       "      <td>Youngblood</td>\n",
       "      <td>No</td>\n",
       "      <td>Yes</td>\n",
       "      <td>Yes</td>\n",
       "      <td>Yes</td>\n",
       "      <td>None</td>\n",
       "      <td>8a87b9a5-ad10-4ec9-bb13-9b963b8f42e4</td>\n",
       "      <td>{\"x\": 655531.245099999, \"y\": 799037.3687999994...</td>\n",
       "    </tr>\n",
       "  </tbody>\n",
       "</table>\n",
       "</div>"
      ],
      "text/plain": [
       "   OBJECTID      Status                               Comments  \\\n",
       "0        31   Abandoned  Contcated group 5/18 and gave notice.   \n",
       "1        32  Cleaned-up                       Cleaned up 5/18.   \n",
       "2        33    Occupied                 Notified campers 5/18.   \n",
       "3        34  Cleaned-up                                   None   \n",
       "4        35  Cleaned-up                                   None   \n",
       "\n",
       "                           Date Submitted_by Dogs_present Unruly_inhabitants  \\\n",
       "0 2016-05-18 15:37:00.000000000   Youngblood           No                 No   \n",
       "1 2016-05-18 15:38:19.867000103   Youngblood           No                 No   \n",
       "2 2016-05-18 15:39:57.341000080   Youngblood           No               None   \n",
       "3 2016-05-16 15:42:32.963999987   Youngblood           No                Yes   \n",
       "4 2016-05-16 15:43:17.842000008   Youngblood           No                Yes   \n",
       "\n",
       "  Hazardous_materials_present Biohazards_present Size_of_encampment  \\\n",
       "0                        None               None              Small   \n",
       "1                          No                 No              Small   \n",
       "2                        None               None              Small   \n",
       "3                         Yes                Yes              Small   \n",
       "4                         Yes                Yes               None   \n",
       "\n",
       "                               GlobalID  \\\n",
       "0  ab8037ce-196f-4dcd-8f50-432ad3eab07f   \n",
       "1  85eaca87-90a3-4255-a42c-f0b41f8f5c5b   \n",
       "2  03ed666e-4ad3-4710-9a39-0995f1deeea2   \n",
       "3  89f08fad-9895-467e-a901-39b50fd04aba   \n",
       "4  8a87b9a5-ad10-4ec9-bb13-9b963b8f42e4   \n",
       "\n",
       "                                               SHAPE  \n",
       "0  {\"x\": 648676.8949984876, \"y\": 837520.042700977...  \n",
       "1  {\"x\": 648704.9723999985, \"y\": 837641.882899999...  \n",
       "2  {\"x\": 648423.2927000001, \"y\": 837925.831399999...  \n",
       "3  {\"x\": 650743.1345000006, \"y\": 785318.375700000...  \n",
       "4  {\"x\": 655531.245099999, \"y\": 799037.3687999994...  "
      ]
     },
     "execution_count": 9,
     "metadata": {},
     "output_type": "execute_result"
    }
   ],
   "source": [
    "sdf.head()"
   ]
  },
  {
   "cell_type": "code",
   "execution_count": 10,
   "id": "a4e960b6",
   "metadata": {
    "scrolled": true
   },
   "outputs": [
    {
     "data": {
      "text/plain": [
       "array(['Abandoned', 'Cleaned-up', 'Occupied', 'Dump Site', 'Identified'],\n",
       "      dtype=object)"
      ]
     },
     "execution_count": 10,
     "metadata": {},
     "output_type": "execute_result"
    }
   ],
   "source": [
    "sdf['Status'].unique()"
   ]
  },
  {
   "cell_type": "code",
   "execution_count": 11,
   "id": "cf3a6580",
   "metadata": {},
   "outputs": [
    {
     "data": {
      "text/plain": [
       "(-20013371.86224397, 715894.8612818433, 850697.0890584171, 19132655.747352235)"
      ]
     },
     "execution_count": 11,
     "metadata": {},
     "output_type": "execute_result"
    }
   ],
   "source": [
    "sdf.spatial.full_extent"
   ]
  },
  {
   "cell_type": "code",
   "execution_count": 12,
   "id": "19767554",
   "metadata": {},
   "outputs": [
    {
     "name": "stderr",
     "output_type": "stream",
     "text": [
      "C:\\Users\\clid1852\\AppData\\Local\\ESRI\\conda\\envs\\arcgispro-py3-clone\\lib\\site-packages\\arcgis\\features\\geo\\_accessor.py:3226: UserWarning: Discarding nonzero nanoseconds in conversion\n",
      "  fs = self.__feature_set__\n",
      "extent must be set to either a 2d list, spatially enabled data frame full_extent, or dict. Values specified must include xmin, ymin, xmax, ymax. Please see the API doc for more information\n"
     ]
    },
    {
     "data": {
      "application/vnd.jupyter.widget-view+json": {
       "model_id": "9e4e28281d2a410cb6845a9d3789ae39",
       "version_major": 2,
       "version_minor": 0
      },
      "text/plain": [
       "MapView(layout=Layout(height='400px', width='100%'))"
      ]
     },
     "metadata": {},
     "output_type": "display_data"
    },
    {
     "data": {
      "text/html": [
       "<div class=\"map-static-img-preview-15050c6a-4625-40ed-b100-69c64e01e3d5\"><img src=\"\"></img></div>"
      ],
      "text/plain": [
       "<IPython.core.display.HTML object>"
      ]
     },
     "metadata": {},
     "output_type": "display_data"
    },
    {
     "data": {
      "text/html": [
       "<div class=\"map-html-embed-preview-15050c6a-4625-40ed-b100-69c64e01e3d5\"></div>"
      ],
      "text/plain": [
       "<IPython.core.display.HTML object>"
      ]
     },
     "metadata": {},
     "output_type": "display_data"
    }
   ],
   "source": [
    "sdf.spatial.plot()"
   ]
  },
  {
   "cell_type": "code",
   "execution_count": 13,
   "id": "5fbc7f20",
   "metadata": {},
   "outputs": [],
   "source": [
    "datacopy = sdf.spatial.to_featureclass(path + '\\\\illegal_camp_sites')"
   ]
  },
  {
   "cell_type": "code",
   "execution_count": 14,
   "id": "94128654",
   "metadata": {},
   "outputs": [
    {
     "name": "stdout",
     "output_type": "stream",
     "text": [
      "G:\\projects\\UtilityDistricts\\eweb\\DrinkingWater\\IllegalCampCoordination\\Recieved\\IllegalCampNotification_pro\\MyProject4.gdb\\illegal_camp_sites\n"
     ]
    }
   ],
   "source": [
    "print(datacopy)"
   ]
  }
 ],
 "metadata": {
  "kernelspec": {
   "display_name": "Python 3",
   "language": "python",
   "name": "python3"
  },
  "language_info": {
   "codemirror_mode": {
    "name": "ipython",
    "version": 3
   },
   "file_extension": ".py",
   "mimetype": "text/x-python",
   "name": "python",
   "nbconvert_exporter": "python",
   "pygments_lexer": "ipython3",
   "version": "3.9.11"
  }
 },
 "nbformat": 4,
 "nbformat_minor": 5
}
