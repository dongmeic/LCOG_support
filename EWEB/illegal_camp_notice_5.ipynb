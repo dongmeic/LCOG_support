{
 "cells": [
  {
   "cell_type": "code",
   "execution_count": 1,
   "id": "3595a083",
   "metadata": {},
   "outputs": [],
   "source": [
    "import win32com.client as win32\n",
    "import pandas as pd\n",
    "from homeless import *\n",
    "import os\n",
    "import openpyxl\n",
    "from datetime import date\n",
    "import sys"
   ]
  },
  {
   "cell_type": "code",
   "execution_count": 2,
   "id": "afa35c57",
   "metadata": {},
   "outputs": [],
   "source": [
    "outpath = r'\\\\clsrv111.int.lcog.org\\GIS\\projects\\UtilityDistricts\\eweb\\DrinkingWater\\IllegalCampCoordination\\Recieved'\n",
    "path = outpath + '\\\\IllegalCampNotification_pro'\n",
    "#res = convert_date(str(date.today()))\n",
    "res = convert_date(str(date(2023, 3, 6)))\n",
    "Y = res[1]\n",
    "m = res[2]\n",
    "d = res[3]\n",
    "outfolder = os.path.join(outpath, Y, m+'_'+d)\n",
    "outfile = f\"{outfolder}\\IllegalCampNotice_{m+'_'+d+'_'+Y[2:4]}.xlsx\""
   ]
  },
  {
   "cell_type": "code",
   "execution_count": 3,
   "id": "a270b786",
   "metadata": {},
   "outputs": [],
   "source": [
    "data = pd.read_excel(outpath+'\\\\Illegal Camping Report Mailing List.xlsx')\n",
    "#data = pd.read_excel('testemail.xlsx')\n",
    "outlook = win32.Dispatch('outlook.application')\n",
    "mail = outlook.CreateItem(0)"
   ]
  },
  {
   "cell_type": "code",
   "execution_count": 4,
   "id": "ecb0924d",
   "metadata": {},
   "outputs": [],
   "source": [
    "mailto = 'LCOGIllegalCampandDebrisCleanup@lcog.org'\n",
    "#mailto = 'dchen@lcog.org'\n",
    "mail.To = mailto\n",
    "#mail.CC = \";\".join(data['address'])"
   ]
  },
  {
   "cell_type": "code",
   "execution_count": 5,
   "id": "2320a0cd",
   "metadata": {},
   "outputs": [],
   "source": [
    "#mail.Subject = f'Illegal Camping Report {str(date.today())}'\n",
    "mail.Subject = f'Illegal Camping Report {str(date(2023, 3, 6))}'"
   ]
  },
  {
   "cell_type": "code",
   "execution_count": 6,
   "id": "584173dd",
   "metadata": {},
   "outputs": [],
   "source": [
    "mail.Body =  \"\"\"\n",
    "    Hello, \n",
    "\n",
    "    Please see the attached for the Illegal Camping Report this Monday (March 6th). \n",
    "    For questions about this report or the application please contact myself or Chrissy Barrows at LCOG.\n",
    "\n",
    "    Thank you,\n",
    "    Dongmei \n",
    "\n",
    "    \"\"\""
   ]
  },
  {
   "cell_type": "code",
   "execution_count": 7,
   "id": "03245187",
   "metadata": {},
   "outputs": [
    {
     "data": {
      "text/plain": [
       "<COMObject Add>"
      ]
     },
     "execution_count": 7,
     "metadata": {},
     "output_type": "execute_result"
    }
   ],
   "source": [
    "mail.Attachments.Add(outfile)"
   ]
  },
  {
   "cell_type": "code",
   "execution_count": 8,
   "id": "a1c988db",
   "metadata": {},
   "outputs": [],
   "source": [
    "mail.Send()"
   ]
  }
 ],
 "metadata": {
  "kernelspec": {
   "display_name": "Python 3",
   "language": "python",
   "name": "python3"
  },
  "language_info": {
   "codemirror_mode": {
    "name": "ipython",
    "version": 3
   },
   "file_extension": ".py",
   "mimetype": "text/x-python",
   "name": "python",
   "nbconvert_exporter": "python",
   "pygments_lexer": "ipython3",
   "version": "3.8.8"
  }
 },
 "nbformat": 4,
 "nbformat_minor": 5
}
