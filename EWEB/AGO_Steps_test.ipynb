{
 "cells": [
  {
   "cell_type": "code",
   "execution_count": 1,
   "id": "04bdbf76",
   "metadata": {},
   "outputs": [],
   "source": [
    "from arcgis.gis import GIS\n",
    "import arcpy\n",
    "from datetime import date\n",
    "import timeit\n",
    "import pandas as pd\n",
    "from itertools import groupby\n",
    "from operator import itemgetter"
   ]
  },
  {
   "cell_type": "code",
   "execution_count": 2,
   "id": "7da728d4",
   "metadata": {},
   "outputs": [],
   "source": [
    "from arcgis.features import FeatureLayerCollection"
   ]
  },
  {
   "cell_type": "code",
   "execution_count": 3,
   "id": "8a6ed36e",
   "metadata": {},
   "outputs": [],
   "source": [
    "gis = GIS('home')"
   ]
  },
  {
   "cell_type": "code",
   "execution_count": 3,
   "id": "778db530",
   "metadata": {},
   "outputs": [],
   "source": [
    "search_result = gis.content.search(query=\"title:FERNSSummary_McKenzie_Joined\", item_type=\"Feature Layer\")"
   ]
  },
  {
   "cell_type": "code",
   "execution_count": 4,
   "id": "49c442cd",
   "metadata": {},
   "outputs": [],
   "source": [
    "item = gis.content.get('5a6cd762152a48cc9be95b9ccf6272bd')"
   ]
  },
  {
   "cell_type": "code",
   "execution_count": 8,
   "id": "6d77ece8",
   "metadata": {},
   "outputs": [
    {
     "name": "stdout",
     "output_type": "stream",
     "text": [
      "https://services5.arcgis.com/9s1YtFmLS0YTl10F/arcgis/rest/services/FERNS_for_McKenzie_Catchments/FeatureServer/0\n"
     ]
    }
   ],
   "source": [
    "lyr = [lyr.url for lyr in item.layers if lyr.properties.name == 'FERNSSummary_McKenzie_Joined'][0]\n",
    "print(lyr)"
   ]
  },
  {
   "cell_type": "code",
   "execution_count": 10,
   "id": "02aa44ba",
   "metadata": {},
   "outputs": [],
   "source": [
    "import arcpy\n",
    "import os\n",
    "from datetime import date\n",
    "from sys import argv\n",
    "import timeit"
   ]
  },
  {
   "cell_type": "code",
   "execution_count": 6,
   "id": "a8c035c2",
   "metadata": {},
   "outputs": [],
   "source": [
    "path = r\"G:\\projects\\UtilityDistricts\\eweb\\DrinkingWater\\EPA319_NPS_grant\\ForestApplication\\ODF_FACTS_DB\\FERNS\\FERNS_Model\"\n",
    "wrkspace = path + \"\\\\FERNS_Workspace.gdb\""
   ]
  },
  {
   "cell_type": "code",
   "execution_count": 7,
   "id": "5307e97e",
   "metadata": {},
   "outputs": [],
   "source": [
    "year = str(date.today().year)"
   ]
  },
  {
   "cell_type": "code",
   "execution_count": 10,
   "id": "3b479fbb",
   "metadata": {},
   "outputs": [],
   "source": [
    "desc = arcpy.Describe(lyr)"
   ]
  },
  {
   "cell_type": "code",
   "execution_count": 11,
   "id": "64d636b9",
   "metadata": {},
   "outputs": [
    {
     "data": {
      "text/html": [
       "<style>table td#td0  {font-weight: bold}</style><table class=\"notebook\"><colgroup><col style=\"width:45%\"></col><col style=\"width:55%\"></col></colgroup><tr><td id = \"td0\" title=\"catalogPath\">catalogPath</td><td title=\"https://services5.arcgis.com/9s1YtFmLS0YTl10F/arcgis/rest/services/FERNS_for_McKenzie_Catchments/FeatureServer/0\">https://services5.arcgis.com/9s1YtFmLS0YTl10F/arcgis/rest/services/FERNS_for_McKenzie_Catchments/FeatureServer/0</td></tr><tr><td id = \"td0\" title=\"dataType\">dataType</td><td title=\"FeatureClass\">FeatureClass</td></tr><tr><td id = \"td0\" title=\"shapeType\">shapeType</td><td title=\"Polygon\">Polygon</td></tr><tr><td id = \"td0\" title=\"hasM\">hasM</td><td title=\"False\">False</td></tr><tr><td id = \"td0\" title=\"hasZ\">hasZ</td><td title=\"False\">False</td></tr></table><div class=\"title\"><i class=\"chevron-open\" onClick=\"event.preventDefault();document.getElementById('840EBEB1-B006-478F-9643-BA6A40AA17EE').style.display =   document.getElementById('840EBEB1-B006-478F-9643-BA6A40AA17EE').style.display == 'none' ? 'block' : 'none';this.classList.toggle('chevron-closed');\"></i>fields</div><div id=\"840EBEB1-B006-478F-9643-BA6A40AA17EE\"><style>table td#td0  {font-weight: bold}</style><table class=\"notebook\"><colgroup><col style=\"width:45%\"></col><col style=\"width:55%\"></col></colgroup><tr><td id = \"td0\" title=\"OBJECTID1\">OBJECTID1</td><td title=\"OID\">OID</td></tr><tr><td id = \"td0\" title=\"Basin_Name\">Basin_Name</td><td title=\"String\">String</td></tr><tr><td id = \"td0\" title=\"EWEB_ID\">EWEB_ID</td><td title=\"String\">String</td></tr><tr><td id = \"td0\" title=\"Subbasin_Acres\">Subbasin_Acres</td><td title=\"Double\">Double</td></tr><tr><td id = \"td0\" title=\"YEAR\">YEAR</td><td title=\"String\">String</td></tr><tr><td id = \"td0\" title=\"ActType\">ActType</td><td title=\"String\">String</td></tr><tr><td id = \"td0\" title=\"FREQUENCY\">FREQUENCY</td><td title=\"Integer\">Integer</td></tr><tr><td id = \"td0\" title=\"SUM_calc_acres\">SUM_calc_acres</td><td title=\"Double\">Double</td></tr><tr><td id = \"td0\" title=\"Activity_Acres_Percentage\">Activity_Acres_Percentage</td><td title=\"Double\">Double</td></tr><tr><td id = \"td0\" title=\"Shape__Area\">Shape__Area</td><td title=\"Double\">Double</td></tr><tr><td id = \"td0\" title=\"Shape__Length\">Shape__Length</td><td title=\"Double\">Double</td></tr><tr><td id = \"td0\" title=\"Shape\">Shape</td><td title=\"Geometry\">Geometry</td></tr></table></div><div class=\"title\"><i class=\"chevron-open\" onClick=\"event.preventDefault();document.getElementById('7251012F-21F5-4AE7-A735-8F42F3CF4B59').style.display =   document.getElementById('7251012F-21F5-4AE7-A735-8F42F3CF4B59').style.display == 'none' ? 'block' : 'none';this.classList.toggle('chevron-closed');\"></i>spatialReference</div><div id=\"7251012F-21F5-4AE7-A735-8F42F3CF4B59\"><style>table td#td0  {font-weight: bold}</style><table class=\"notebook\"><colgroup><col style=\"width:45%\"></col><col style=\"width:55%\"></col></colgroup><tr><td id = \"td0\" title=\"name (Projected Coordinate System)\">name (Projected Coordinate System)</td><td title=\"NAD_1983_HARN_StatePlane_Oregon_South_FIPS_3602_Feet_Intl\">NAD_1983_HARN_StatePlane_Oregon_South_FIPS_3602_Feet_Intl</td></tr><tr><td id = \"td0\" title=\"factoryCode (WKID)\">factoryCode (WKID)</td><td title=\"2914\">2914</td></tr><tr><td id = \"td0\" title=\"linearUnitName (Linear Unit)\">linearUnitName (Linear Unit)</td><td title=\"Foot\">Foot</td></tr></table><div class=\"subtitle\">spatialReference.GCS</div><style>table td#td0  {font-weight: bold}</style><table class=\"notebook\"><colgroup><col style=\"width:45%\"></col><col style=\"width:55%\"></col></colgroup><tr><td id = \"td0\" title=\"name (Geographic Coordinate System)\">name (Geographic Coordinate System)</td><td title=\"GCS_North_American_1983_HARN\">GCS_North_American_1983_HARN</td></tr><tr><td id = \"td0\" title=\"factoryCode (WKID)\">factoryCode (WKID)</td><td title=\"4152\">4152</td></tr><tr><td id = \"td0\" title=\"angularUnitName (Angular Unit)\">angularUnitName (Angular Unit)</td><td title=\"Degree\">Degree</td></tr><tr><td id = \"td0\" title=\"datumName (Datum)\">datumName (Datum)</td><td title=\"D_North_American_1983_HARN\">D_North_American_1983_HARN</td></tr></table></div><p class=\"gpresult\">For additional help,     see <a href=\"https://pro.arcgis.com/en/pro-app/latest/arcpy/functions/featureclass-properties.htm\" target=\"_blank\" >arcpy.Describe</a></p><br>"
      ],
      "text/plain": [
       "<geoprocessing describe data object at 0x1a2d98c7e30>"
      ]
     },
     "execution_count": 11,
     "metadata": {},
     "output_type": "execute_result"
    }
   ],
   "source": [
    "desc"
   ]
  },
  {
   "cell_type": "code",
   "execution_count": 7,
   "id": "0f7d2438",
   "metadata": {},
   "outputs": [],
   "source": [
    "def unique_values(table, field):  ##uses list comprehension\n",
    "    with arcpy.da.SearchCursor(table, [field]) as cursor:\n",
    "        return sorted({row[0] for row in cursor})"
   ]
  },
  {
   "cell_type": "code",
   "execution_count": 13,
   "id": "d9417b52",
   "metadata": {},
   "outputs": [
    {
     "name": "stdout",
     "output_type": "stream",
     "text": [
      "0.8151014000000032\n",
      "['2014', '2015', '2016', '2017', '2018', '2019', '2020', '2021', '2022', '2023']\n"
     ]
    }
   ],
   "source": [
    "try:\n",
    "    start = timeit.default_timer()\n",
    "    vals = unique_values(lyr,\"YEAR\")\n",
    "\n",
    "    stop = timeit.default_timer()\n",
    "    total_time = stop - start\n",
    "    print(total_time)\n",
    "    print(vals)\n",
    "\n",
    "except Exception as e:\n",
    "    print(\"Error: \" + e.args[0])"
   ]
  },
  {
   "cell_type": "code",
   "execution_count": 10,
   "id": "c7b7cb66",
   "metadata": {},
   "outputs": [],
   "source": [
    "fields = arcpy.ListFields(lyr)"
   ]
  },
  {
   "cell_type": "code",
   "execution_count": 11,
   "id": "4b250ee0",
   "metadata": {},
   "outputs": [
    {
     "name": "stdout",
     "output_type": "stream",
     "text": [
      "OBJECTID1 is a type of OID with a length of 0\n",
      "Basin_Name is a type of String with a length of 10485758\n",
      "EWEB_ID is a type of String with a length of 10485758\n",
      "Subbasin_Acres is a type of Double with a length of 0\n",
      "YEAR is a type of String with a length of 10485758\n",
      "ActType is a type of String with a length of 10485758\n",
      "FREQUENCY is a type of Integer with a length of 0\n",
      "SUM_calc_acres is a type of Double with a length of 0\n",
      "Activity_Acres_Percentage is a type of Double with a length of 0\n",
      "Shape__Area is a type of Double with a length of 0\n",
      "Shape__Length is a type of Double with a length of 0\n",
      "GlobalID is a type of GlobalID with a length of 38\n",
      "Shape is a type of Geometry with a length of 0\n"
     ]
    }
   ],
   "source": [
    "for field in fields:\n",
    "    print(f\"{field.name} is a type of {field.type} with a length of {field.length}\")"
   ]
  },
  {
   "cell_type": "code",
   "execution_count": 12,
   "id": "ac67c76d",
   "metadata": {},
   "outputs": [],
   "source": [
    "field_names = [field.name for field in fields]"
   ]
  },
  {
   "cell_type": "code",
   "execution_count": 13,
   "id": "814fe8b1",
   "metadata": {},
   "outputs": [],
   "source": [
    "field_names.remove('OBJECTID1')"
   ]
  },
  {
   "cell_type": "code",
   "execution_count": 24,
   "id": "f051c147",
   "metadata": {},
   "outputs": [],
   "source": [
    "field_names.remove('GlobalID')"
   ]
  },
  {
   "cell_type": "code",
   "execution_count": 25,
   "id": "29afbd5b",
   "metadata": {},
   "outputs": [
    {
     "data": {
      "text/plain": [
       "['Basin_Name',\n",
       " 'EWEB_ID',\n",
       " 'Subbasin_Acres',\n",
       " 'YEAR',\n",
       " 'ActType',\n",
       " 'FREQUENCY',\n",
       " 'SUM_calc_acres',\n",
       " 'Activity_Acres_Percentage',\n",
       " 'Shape__Area',\n",
       " 'Shape__Length',\n",
       " 'Shape']"
      ]
     },
     "execution_count": 25,
     "metadata": {},
     "output_type": "execute_result"
    }
   ],
   "source": [
    "field_names"
   ]
  },
  {
   "cell_type": "code",
   "execution_count": 31,
   "id": "269e4d38",
   "metadata": {},
   "outputs": [],
   "source": [
    "Expression=\"YEAR = '{0}'\".format(year)\n",
    "AGO_FERNSSummary_McKenzie_Joined_2_, Count = arcpy.management.SelectLayerByAttribute(in_layer_or_view=lyr, \n",
    "                                                                                        selection_type=\"NEW_SELECTION\", \n",
    "                                                                                        where_clause=Expression, \n",
    "                                                                                        invert_where_clause=\"\")"
   ]
  },
  {
   "cell_type": "code",
   "execution_count": 32,
   "id": "3ad51741",
   "metadata": {},
   "outputs": [
    {
     "name": "stdout",
     "output_type": "stream",
     "text": [
      "Year 2023 has 18 count!\n"
     ]
    }
   ],
   "source": [
    "print(f\"Year {year} has {Count} count!\")"
   ]
  },
  {
   "cell_type": "code",
   "execution_count": 8,
   "id": "9e02f5e2",
   "metadata": {},
   "outputs": [],
   "source": [
    "arcpy.env.overwriteOutput = True"
   ]
  },
  {
   "cell_type": "code",
   "execution_count": 15,
   "id": "eff5cdc7",
   "metadata": {},
   "outputs": [
    {
     "name": "stdout",
     "output_type": "stream",
     "text": [
      "175.2292379\n"
     ]
    }
   ],
   "source": [
    "# search for duplicated records based on the same values for all fields\n",
    "start = timeit.default_timer()\n",
    "result = arcpy.management.FindIdentical(lyr, path+'\\\\duplicate_incidents.dbf', field_names)\n",
    "stop = timeit.default_timer()\n",
    "total_time = stop - start\n",
    "print(total_time)"
   ]
  },
  {
   "cell_type": "code",
   "execution_count": 16,
   "id": "97f8ac23",
   "metadata": {},
   "outputs": [],
   "source": [
    "out_records = []   \n",
    "for row in arcpy.SearchCursor(result.getOutput(0), fields=\"IN_FID; FEAT_SEQ\"):\n",
    "    out_records.append([row.IN_FID, row.FEAT_SEQ])"
   ]
  },
  {
   "cell_type": "code",
   "execution_count": 17,
   "id": "1bfbc056",
   "metadata": {},
   "outputs": [],
   "source": [
    "out_records.sort(key = itemgetter(1))"
   ]
  },
  {
   "cell_type": "code",
   "execution_count": 18,
   "id": "890902df",
   "metadata": {},
   "outputs": [],
   "source": [
    "identicals_iter = groupby(out_records, itemgetter(1))"
   ]
  },
  {
   "cell_type": "code",
   "execution_count": 19,
   "id": "bf6553c0",
   "metadata": {},
   "outputs": [],
   "source": [
    "identical_groups = [[item[0] for item in data] for (key, data) in identicals_iter]"
   ]
  },
  {
   "cell_type": "code",
   "execution_count": 20,
   "id": "5473c85d",
   "metadata": {},
   "outputs": [
    {
     "data": {
      "text/plain": [
       "1387"
      ]
     },
     "execution_count": 20,
     "metadata": {},
     "output_type": "execute_result"
    }
   ],
   "source": [
    "len([item for item in identical_groups if len(item) == 1])"
   ]
  },
  {
   "cell_type": "code",
   "execution_count": 21,
   "id": "bddfbad3",
   "metadata": {},
   "outputs": [
    {
     "data": {
      "text/plain": [
       "1387"
      ]
     },
     "execution_count": 21,
     "metadata": {},
     "output_type": "execute_result"
    }
   ],
   "source": [
    "len(identical_groups)"
   ]
  },
  {
   "cell_type": "code",
   "execution_count": 22,
   "id": "cc82b6c5",
   "metadata": {},
   "outputs": [
    {
     "data": {
      "text/plain": [
       "[]"
      ]
     },
     "execution_count": 22,
     "metadata": {},
     "output_type": "execute_result"
    }
   ],
   "source": [
    "[item for item in identical_groups if len(item) > 1]"
   ]
  },
  {
   "cell_type": "code",
   "execution_count": 26,
   "id": "9ecd54ee",
   "metadata": {},
   "outputs": [
    {
     "name": "stdout",
     "output_type": "stream",
     "text": [
      "125.17131449999988\n"
     ]
    }
   ],
   "source": [
    "start = timeit.default_timer()\n",
    "res = arcpy.management.DeleteIdentical(lyr, field_names)\n",
    "stop = timeit.default_timer()\n",
    "total_time = stop - start\n",
    "print(total_time)"
   ]
  },
  {
   "cell_type": "code",
   "execution_count": 23,
   "id": "d82d5b04",
   "metadata": {},
   "outputs": [
    {
     "data": {
      "text/plain": [
       "'https://services5.arcgis.com/9s1YtFmLS0YTl10F/arcgis/rest/services/FERNS_for_McKenzie_Catchments/FeatureServer/0'"
      ]
     },
     "execution_count": 23,
     "metadata": {},
     "output_type": "execute_result"
    }
   ],
   "source": [
    "lyr"
   ]
  },
  {
   "cell_type": "code",
   "execution_count": 24,
   "id": "8930d7d0",
   "metadata": {},
   "outputs": [],
   "source": [
    "Expression=f\"YEAR <> '{year}'\"\n",
    "selected, count = arcpy.management.SelectLayerByAttribute(in_layer_or_view=lyr, \n",
    "                                                          selection_type=\"NEW_SELECTION\",\n",
    "                                                          where_clause=Expression, \n",
    "                                                          invert_where_clause=\"\")"
   ]
  },
  {
   "cell_type": "code",
   "execution_count": 26,
   "id": "d80df4c7",
   "metadata": {},
   "outputs": [],
   "source": [
    "arcpy.env.workspace = wrkspace"
   ]
  },
  {
   "cell_type": "code",
   "execution_count": 27,
   "id": "3a5fe2bf",
   "metadata": {},
   "outputs": [
    {
     "data": {
      "text/html": [
       "<div class='gpresult'><h2>Messages</h2><div id='messages' data-messages='[\"Start Time: Tuesday, January 10, 2023 12:13:17 AM\",\"Succeeded at Tuesday, January 10, 2023 12:14:15 AM (Elapsed Time: 57.44 seconds)\"]' data-show='true'><div id = 'default' /></div></div>"
      ],
      "text/plain": [
       "<Result 'G:\\\\projects\\\\UtilityDistricts\\\\eweb\\\\DrinkingWater\\\\EPA319_NPS_grant\\\\ForestApplication\\\\ODF_FACTS_DB\\\\FERNS\\\\FERNS_Model\\\\FERNS_Workspace.gdb\\\\FERNS_before_2023'>"
      ]
     },
     "execution_count": 27,
     "metadata": {},
     "output_type": "execute_result"
    }
   ],
   "source": [
    "arcpy.management.CopyFeatures(selected, f'FERNS_before_{year}')"
   ]
  },
  {
   "cell_type": "code",
   "execution_count": 28,
   "id": "8b6e82a9",
   "metadata": {},
   "outputs": [],
   "source": [
    "FERNSSummary_McKenzie_Joined = path + \"\\\\FERNS_Final_Products.gdb\\\\FERNSSummary_McKenzie_Joined\""
   ]
  },
  {
   "cell_type": "code",
   "execution_count": 29,
   "id": "fcab1818",
   "metadata": {},
   "outputs": [],
   "source": [
    "Joined = arcpy.management.Append(inputs=[FERNSSummary_McKenzie_Joined],\n",
    "                                 target=f'FERNS_before_{year}',\n",
    "                                 schema_type=\"TEST\", \n",
    "                                 field_mapping=\"\", \n",
    "                                 subtype=\"\", \n",
    "                                 expression=\"\")[0]"
   ]
  }
 ],
 "metadata": {
  "kernelspec": {
   "display_name": "Python 3",
   "language": "python",
   "name": "python3"
  },
  "language_info": {
   "codemirror_mode": {
    "name": "ipython",
    "version": 3
   },
   "file_extension": ".py",
   "mimetype": "text/x-python",
   "name": "python",
   "nbconvert_exporter": "python",
   "pygments_lexer": "ipython3",
   "version": "3.9.11"
  }
 },
 "nbformat": 4,
 "nbformat_minor": 5
}
