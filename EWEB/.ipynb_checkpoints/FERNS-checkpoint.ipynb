{
 "cells": [
  {
   "cell_type": "code",
   "execution_count": 1,
   "id": "dcff4c26",
   "metadata": {},
   "outputs": [],
   "source": [
    "import geopandas as gpd\n",
    "import os\n",
    "import requests\n",
    "import zipfile\n",
    "import urllib.request\n",
    "from datetime import date"
   ]
  },
  {
   "cell_type": "code",
   "execution_count": 2,
   "id": "3b0871ac",
   "metadata": {},
   "outputs": [],
   "source": [
    "inpath = r'G:\\projects\\UtilityDistricts\\eweb\\DrinkingWater\\EPA319_NPS_grant\\ForestApplication\\ODF_FACTS_DB\\FERNS\\FERNS_Model'"
   ]
  },
  {
   "cell_type": "code",
   "execution_count": 13,
   "id": "8bef7b1a",
   "metadata": {},
   "outputs": [],
   "source": [
    "def getData(url, dest_folder):\n",
    "    if not os.path.exists(dest_folder):\n",
    "        os.makedirs(dest_folder)\n",
    "    \n",
    "    filename = url.split('/')[-1].replace(\" \", \"_\")\n",
    "    file_path = os.path.join(dest_folder, filename)\n",
    "    \n",
    "    renamed_file = dest_folder + '\\\\Ferns_Noaps_Polygons' + '_' + date.today().strftime(\"%m%d%Y\") + '.gdb'\n",
    "\n",
    "    if not os.path.exists(renamed_file):\n",
    "        r = requests.get(url, stream=True)\n",
    "        if r.ok:\n",
    "            urllib.request.urlretrieve(url, file_path)\n",
    "            print(\"Saving to\", os.path.abspath(file_path))\n",
    "    #         with open(file_path, 'wb') as f:\n",
    "    #             for chunk in r.iter_content(chunk_size=1024 * 8):\n",
    "    #                 if chunk:\n",
    "    #                     f.write(chunk)\n",
    "    #                     f.flush()\n",
    "    #                     os.fsync(f.fileno())\n",
    "        else:  # HTTP status code 4XX/5XX\n",
    "            print(\"Download failed: status code {}\\n{}\".format(r.status_code, r.text))\n",
    "\n",
    "        with zipfile.ZipFile(file_path, 'r') as zip_ref:\n",
    "            zip_ref.extractall(dest_folder)\n",
    "\n",
    "        extracted_file = dest_folder + '\\\\Ferns_Noaps_Polygons.gdb' \n",
    "        print(\"Extracting file to\", extracted_file)\n",
    "\n",
    "        os.renames(extracted_file, renamed_file)\n",
    "        print(\"Renaming file to\", renamed_file)"
   ]
  },
  {
   "cell_type": "code",
   "execution_count": 14,
   "id": "a49b7666",
   "metadata": {},
   "outputs": [
    {
     "name": "stdout",
     "output_type": "stream",
     "text": [
      "Saving to G:\\projects\\UtilityDistricts\\eweb\\DrinkingWater\\EPA319_NPS_grant\\ForestApplication\\ODF_FACTS_DB\\FERNS\\FERNS_Model\\FernsNoapsPolygon_downloads\\FernsNoapsPolygons.Zip\n",
      "Extracting file to G:\\projects\\UtilityDistricts\\eweb\\DrinkingWater\\EPA319_NPS_grant\\ForestApplication\\ODF_FACTS_DB\\FERNS\\FERNS_Model//FernsNoapsPolygon_downloads\\Ferns_Noaps_Polygons.gdb\n",
      "Renaming file to G:\\projects\\UtilityDistricts\\eweb\\DrinkingWater\\EPA319_NPS_grant\\ForestApplication\\ODF_FACTS_DB\\FERNS\\FERNS_Model//FernsNoapsPolygon_downloads\\Ferns_Noaps_Polygons_12072022.gdb\n"
     ]
    }
   ],
   "source": [
    "getData(url = 'https://gisapps.odf.oregon.gov/data/FernsNoapsPolygons.Zip',\n",
    "        dest_folder = inpath + '//FernsNoapsPolygon_downloads')"
   ]
  },
  {
   "cell_type": "code",
   "execution_count": 9,
   "id": "af18303a",
   "metadata": {},
   "outputs": [],
   "source": []
  },
  {
   "cell_type": "code",
   "execution_count": 10,
   "id": "f15aa70f",
   "metadata": {},
   "outputs": [
    {
     "data": {
      "text/plain": [
       "True"
      ]
     },
     "execution_count": 10,
     "metadata": {},
     "output_type": "execute_result"
    }
   ],
   "source": []
  },
  {
   "cell_type": "code",
   "execution_count": 34,
   "id": "1d2b2ba5",
   "metadata": {},
   "outputs": [],
   "source": []
  }
 ],
 "metadata": {
  "kernelspec": {
   "display_name": "Python 3",
   "language": "python",
   "name": "python3"
  },
  "language_info": {
   "codemirror_mode": {
    "name": "ipython",
    "version": 3
   },
   "file_extension": ".py",
   "mimetype": "text/x-python",
   "name": "python",
   "nbconvert_exporter": "python",
   "pygments_lexer": "ipython3",
   "version": "3.8.8"
  }
 },
 "nbformat": 4,
 "nbformat_minor": 5
}
