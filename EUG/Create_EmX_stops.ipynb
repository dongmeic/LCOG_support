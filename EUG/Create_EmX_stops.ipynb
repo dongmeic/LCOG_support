{
 "cells": [
  {
   "cell_type": "code",
   "execution_count": 1,
   "id": "66d68914",
   "metadata": {},
   "outputs": [],
   "source": [
    "import geopandas as gpd\n",
    "from sqlalchemy import create_engine"
   ]
  },
  {
   "cell_type": "code",
   "execution_count": 3,
   "id": "6f034d5b",
   "metadata": {},
   "outputs": [],
   "source": [
    "engine = create_engine(   \n",
    "\"mssql+pyodbc:///?odbc_connect=\"\n",
    "\"Driver%3D%7BODBC+Driver+17+for+SQL+Server%7D%3B\"\n",
    "\"Server%3Drliddb.int.lcog.org%2C5433%3B\"\n",
    "\"Database%3DRLIDGeo%3B\"\n",
    "\"Trusted_Connection%3Dyes%3B\"\n",
    "\"ApplicationIntent%3DReadWrite%3B\"\n",
    "\"WSID%3Dclwrk4087.int.lcog.org%3B\")"
   ]
  },
  {
   "cell_type": "code",
   "execution_count": 37,
   "id": "388e5b69",
   "metadata": {},
   "outputs": [],
   "source": [
    "def readLTDstops():\n",
    "    sql = '''\n",
    "    SELECT \n",
    "    stop_number AS stopNumber,\n",
    "    stop_name AS stopName,\n",
    "    longitude,\n",
    "    latitude,\n",
    "    Shape.STAsBinary() AS geom\n",
    "    FROM dbo.LTD_Stop;\n",
    "    '''\n",
    "    \n",
    "    ltdstops = gpd.GeoDataFrame.from_postgis(sql, engine, geom_col='geom')\n",
    "    ltdstops.crs = \"EPSG:2914\"\n",
    "    \n",
    "    #ltdstops = ltdstops.to_crs(epsg=3857)\n",
    "    return ltdstops"
   ]
  },
  {
   "cell_type": "code",
   "execution_count": 4,
   "id": "29b3dead",
   "metadata": {
    "scrolled": true
   },
   "outputs": [],
   "source": [
    "LTDstops = readLTDstops()"
   ]
  },
  {
   "cell_type": "code",
   "execution_count": 5,
   "id": "c9bdcee8",
   "metadata": {},
   "outputs": [],
   "source": [
    "import pandas as pd"
   ]
  },
  {
   "cell_type": "code",
   "execution_count": 9,
   "id": "fc6fc733",
   "metadata": {},
   "outputs": [],
   "source": [
    "bikes_on_buses = pd.read_excel(r\"T:\\Data\\LTD Data\\BikeOnBuses\\Monthly\\LTD Bike Count_2019.xlsx\")"
   ]
  },
  {
   "cell_type": "code",
   "execution_count": 11,
   "id": "94a90eca",
   "metadata": {},
   "outputs": [
    {
     "data": {
      "text/html": [
       "<div>\n",
       "<style scoped>\n",
       "    .dataframe tbody tr th:only-of-type {\n",
       "        vertical-align: middle;\n",
       "    }\n",
       "\n",
       "    .dataframe tbody tr th {\n",
       "        vertical-align: top;\n",
       "    }\n",
       "\n",
       "    .dataframe thead th {\n",
       "        text-align: right;\n",
       "    }\n",
       "</style>\n",
       "<table border=\"1\" class=\"dataframe\">\n",
       "  <thead>\n",
       "    <tr style=\"text-align: right;\">\n",
       "      <th></th>\n",
       "      <th>srv</th>\n",
       "      <th>date</th>\n",
       "      <th>block</th>\n",
       "      <th>trip_end</th>\n",
       "      <th>time</th>\n",
       "      <th>route</th>\n",
       "      <th>dir</th>\n",
       "      <th>stop</th>\n",
       "      <th>stop_name</th>\n",
       "      <th>latitude</th>\n",
       "      <th>longitude</th>\n",
       "      <th>bus</th>\n",
       "      <th>odometer</th>\n",
       "      <th>desc</th>\n",
       "      <th>qty</th>\n",
       "    </tr>\n",
       "  </thead>\n",
       "  <tbody>\n",
       "    <tr>\n",
       "      <th>0</th>\n",
       "      <td>wkd</td>\n",
       "      <td>2019-01-02</td>\n",
       "      <td>2</td>\n",
       "      <td>05:13:00</td>\n",
       "      <td>05:09:00</td>\n",
       "      <td>11</td>\n",
       "      <td>O</td>\n",
       "      <td>14</td>\n",
       "      <td>W/S of 69th N of Main St</td>\n",
       "      <td>44.046193</td>\n",
       "      <td>-122.903940</td>\n",
       "      <td>6204</td>\n",
       "      <td>8.39</td>\n",
       "      <td>bike on rack</td>\n",
       "      <td>1</td>\n",
       "    </tr>\n",
       "    <tr>\n",
       "      <th>1</th>\n",
       "      <td>wkd</td>\n",
       "      <td>2019-01-02</td>\n",
       "      <td>2</td>\n",
       "      <td>05:31:00</td>\n",
       "      <td>05:21:00</td>\n",
       "      <td>11</td>\n",
       "      <td>I</td>\n",
       "      <td>44</td>\n",
       "      <td>N/S of Main E of 32nd</td>\n",
       "      <td>44.045906</td>\n",
       "      <td>-122.979896</td>\n",
       "      <td>6204</td>\n",
       "      <td>12.21</td>\n",
       "      <td>bike on rack</td>\n",
       "      <td>1</td>\n",
       "    </tr>\n",
       "    <tr>\n",
       "      <th>2</th>\n",
       "      <td>wkd</td>\n",
       "      <td>2019-01-02</td>\n",
       "      <td>2</td>\n",
       "      <td>07:39:00</td>\n",
       "      <td>07:32:00</td>\n",
       "      <td>18</td>\n",
       "      <td>I</td>\n",
       "      <td>58</td>\n",
       "      <td>W/S of Mohawk N of G</td>\n",
       "      <td>44.053969</td>\n",
       "      <td>-123.004102</td>\n",
       "      <td>6204</td>\n",
       "      <td>40.09</td>\n",
       "      <td>bike on rack</td>\n",
       "      <td>1</td>\n",
       "    </tr>\n",
       "    <tr>\n",
       "      <th>3</th>\n",
       "      <td>wkd</td>\n",
       "      <td>2019-01-02</td>\n",
       "      <td>2</td>\n",
       "      <td>07:57:00</td>\n",
       "      <td>07:41:00</td>\n",
       "      <td>18</td>\n",
       "      <td>O</td>\n",
       "      <td>2503</td>\n",
       "      <td>Springfield Station, Bay C</td>\n",
       "      <td>44.045114</td>\n",
       "      <td>-123.021270</td>\n",
       "      <td>6204</td>\n",
       "      <td>41.61</td>\n",
       "      <td>bike on rack</td>\n",
       "      <td>1</td>\n",
       "    </tr>\n",
       "    <tr>\n",
       "      <th>4</th>\n",
       "      <td>wkd</td>\n",
       "      <td>2019-01-02</td>\n",
       "      <td>3</td>\n",
       "      <td>06:57:00</td>\n",
       "      <td>06:22:00</td>\n",
       "      <td>12</td>\n",
       "      <td>O</td>\n",
       "      <td>2119</td>\n",
       "      <td>Eugene Station, Bay S</td>\n",
       "      <td>44.048689</td>\n",
       "      <td>-123.093716</td>\n",
       "      <td>1112</td>\n",
       "      <td>46.52</td>\n",
       "      <td>bike on rack</td>\n",
       "      <td>3</td>\n",
       "    </tr>\n",
       "  </tbody>\n",
       "</table>\n",
       "</div>"
      ],
      "text/plain": [
       "   srv       date  block  trip_end      time route dir  stop  \\\n",
       "0  wkd 2019-01-02      2  05:13:00  05:09:00    11   O    14   \n",
       "1  wkd 2019-01-02      2  05:31:00  05:21:00    11   I    44   \n",
       "2  wkd 2019-01-02      2  07:39:00  07:32:00    18   I    58   \n",
       "3  wkd 2019-01-02      2  07:57:00  07:41:00    18   O  2503   \n",
       "4  wkd 2019-01-02      3  06:57:00  06:22:00    12   O  2119   \n",
       "\n",
       "                    stop_name   latitude   longitude   bus  odometer  \\\n",
       "0    W/S of 69th N of Main St  44.046193 -122.903940  6204      8.39   \n",
       "1       N/S of Main E of 32nd  44.045906 -122.979896  6204     12.21   \n",
       "2        W/S of Mohawk N of G  44.053969 -123.004102  6204     40.09   \n",
       "3  Springfield Station, Bay C  44.045114 -123.021270  6204     41.61   \n",
       "4       Eugene Station, Bay S  44.048689 -123.093716  1112     46.52   \n",
       "\n",
       "           desc  qty  \n",
       "0  bike on rack    1  \n",
       "1  bike on rack    1  \n",
       "2  bike on rack    1  \n",
       "3  bike on rack    1  \n",
       "4  bike on rack    3  "
      ]
     },
     "execution_count": 11,
     "metadata": {},
     "output_type": "execute_result"
    }
   ],
   "source": [
    "bikes_on_buses.head()"
   ]
  },
  {
   "cell_type": "code",
   "execution_count": 10,
   "id": "9873fe9d",
   "metadata": {
    "scrolled": true
   },
   "outputs": [
    {
     "data": {
      "text/plain": [
       "array([11, 18, 12, 40, 41, 24, 93, 51, 96, 55, 28, 52, 36, 67, 66, 91, 27,\n",
       "       95, 13, 78, 85, 82, 98, 1, 17, 104, 105, 103, 92, 33, 73, 81,\n",
       "       '79x'], dtype=object)"
      ]
     },
     "execution_count": 10,
     "metadata": {},
     "output_type": "execute_result"
    }
   ],
   "source": [
    "bikes_on_buses.route.unique()"
   ]
  },
  {
   "cell_type": "code",
   "execution_count": 17,
   "id": "a4395af9",
   "metadata": {},
   "outputs": [],
   "source": [
    "Emx_Routes = [101, 102, 103, 104, 105]"
   ]
  },
  {
   "cell_type": "code",
   "execution_count": 25,
   "id": "233638a3",
   "metadata": {},
   "outputs": [],
   "source": [
    "Emx_Stops = bikes_on_buses[bikes_on_buses.route.isin(Emx_Routes)].stop.unique()"
   ]
  },
  {
   "cell_type": "code",
   "execution_count": 28,
   "id": "7fe2be07",
   "metadata": {},
   "outputs": [
    {
     "data": {
      "text/plain": [
       "int"
      ]
     },
     "execution_count": 28,
     "metadata": {},
     "output_type": "execute_result"
    }
   ],
   "source": [
    "type(Emx_Stops[0])"
   ]
  },
  {
   "cell_type": "code",
   "execution_count": 31,
   "id": "9096506d",
   "metadata": {},
   "outputs": [],
   "source": [
    "Emx_Stops = [\"0\" + str(Emx_Stop) for Emx_Stop in Emx_Stops]"
   ]
  },
  {
   "cell_type": "code",
   "execution_count": 32,
   "id": "86afe727",
   "metadata": {},
   "outputs": [
    {
     "data": {
      "text/plain": [
       "Index(['stopNumber', 'stopName', 'longitude', 'latitude', 'geom'], dtype='object')"
      ]
     },
     "execution_count": 32,
     "metadata": {},
     "output_type": "execute_result"
    }
   ],
   "source": [
    "LTDstops.columns"
   ]
  },
  {
   "cell_type": "code",
   "execution_count": 33,
   "id": "ce1dbb56",
   "metadata": {},
   "outputs": [],
   "source": [
    "LTD_Emx_stops = LTDstops[LTDstops.stopNumber.isin(Emx_Stops)]"
   ]
  },
  {
   "cell_type": "code",
   "execution_count": 34,
   "id": "bd331073",
   "metadata": {},
   "outputs": [],
   "source": [
    "LTD_Emx_stops.to_file(r\"T:\\DCProjects\\Support\\EUG\\MiddleHousing\\EmX_stops.shp\", index=False)"
   ]
  },
  {
   "cell_type": "code",
   "execution_count": 35,
   "id": "96d8a20d",
   "metadata": {},
   "outputs": [],
   "source": [
    "LTD_stops = LTDstops[~LTDstops.stopNumber.isin(Emx_Stops)]"
   ]
  },
  {
   "cell_type": "code",
   "execution_count": 36,
   "id": "7e3a4a30",
   "metadata": {},
   "outputs": [],
   "source": [
    "LTD_Emx_stops.to_file(r\"T:\\DCProjects\\Support\\EUG\\MiddleHousing\\LTD_stops.shp\", index=False)"
   ]
  }
 ],
 "metadata": {
  "kernelspec": {
   "display_name": "Python 3",
   "language": "python",
   "name": "python3"
  },
  "language_info": {
   "codemirror_mode": {
    "name": "ipython",
    "version": 3
   },
   "file_extension": ".py",
   "mimetype": "text/x-python",
   "name": "python",
   "nbconvert_exporter": "python",
   "pygments_lexer": "ipython3",
   "version": "3.8.8"
  }
 },
 "nbformat": 4,
 "nbformat_minor": 5
}
