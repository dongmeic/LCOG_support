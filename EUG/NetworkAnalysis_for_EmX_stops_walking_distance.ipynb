{
 "cells": [
  {
   "cell_type": "code",
   "execution_count": 1,
   "id": "6505acd8",
   "metadata": {},
   "outputs": [],
   "source": [
    "import ServiceAreaAnalysis as saa"
   ]
  },
  {
   "cell_type": "code",
   "execution_count": 2,
   "id": "580c526f",
   "metadata": {},
   "outputs": [
    {
     "name": "stdout",
     "output_type": "stream",
     "text": [
      "Creating service area analysis layer...\n",
      "Done...\n",
      "Adding facilities...\n",
      "Done...\n",
      "Solving service area...\n",
      "Done...\n",
      "0:00:01.837095\n",
      "Exporting service area polygons...\n",
      "Done...\n"
     ]
    }
   ],
   "source": [
    "saa.ServiceAreaAnalysis()"
   ]
  }
 ],
 "metadata": {
  "kernelspec": {
   "display_name": "Python 3",
   "language": "python",
   "name": "python3"
  },
  "language_info": {
   "codemirror_mode": {
    "name": "ipython",
    "version": 3
   },
   "file_extension": ".py",
   "mimetype": "text/x-python",
   "name": "python",
   "nbconvert_exporter": "python",
   "pygments_lexer": "ipython3",
   "version": "3.7.11"
  }
 },
 "nbformat": 4,
 "nbformat_minor": 5
}
