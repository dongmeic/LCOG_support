{
 "cells": [
  {
   "cell_type": "code",
   "execution_count": 1,
   "id": "6c5e75f0",
   "metadata": {},
   "outputs": [],
   "source": [
    "from datetime import date, timedelta\n",
    "import win32com.client\n",
    "from win32com.client import Dispatch, constants\n",
    "from office365.runtime.auth.user_credential import UserCredential\n",
    "from office365.sharepoint.client_context import ClientContext\n",
    "from office365.runtime.auth.client_credential import ClientCredential\n",
    "from office365.runtime.auth.authentication_context import AuthenticationContext\n",
    "from office365.sharepoint.files.file import File \n",
    "import io\n",
    "import pandas as pd\n",
    "import json"
   ]
  },
  {
   "cell_type": "code",
   "execution_count": 2,
   "id": "734a8e22",
   "metadata": {},
   "outputs": [
    {
     "data": {
      "text/plain": [
       "<function TextIOWrapper.close()>"
      ]
     },
     "execution_count": 2,
     "metadata": {},
     "output_type": "execute_result"
    }
   ],
   "source": [
    "f = open(r'T:\\DCProjects\\GitHub\\LCOG_support\\config\\keys.json')\n",
    "crd = json.load(f)\n",
    "f.close"
   ]
  },
  {
   "cell_type": "code",
   "execution_count": 3,
   "id": "fbf4027a",
   "metadata": {},
   "outputs": [],
   "source": [
    "url = 'https://lanecouncilofgovernments.sharepoint.com/:x:/r/sites/LCOGDiversityEquityBelonging/_layouts/15/Doc.aspx?sourcedoc=%7B95B76D95-363F-452E-A99D-77524AA7A68E%7D&file=Facilitator%20and%20Notetaker%20Rotation.xlsx&action=default&mobileredirect=true'"
   ]
  },
  {
   "cell_type": "code",
   "execution_count": 4,
   "id": "fd3db62c",
   "metadata": {},
   "outputs": [],
   "source": [
    "username, password = crd['SharePoint']['usr'], crd['SharePoint']['pwd']"
   ]
  },
  {
   "cell_type": "code",
   "execution_count": 5,
   "id": "87824b3d",
   "metadata": {},
   "outputs": [
    {
     "name": "stdout",
     "output_type": "stream",
     "text": [
      "Authentication Successful\n",
      "{}\n"
     ]
    }
   ],
   "source": [
    "ctx_auth = AuthenticationContext(url)\n",
    "if ctx_auth.acquire_token_for_user(username, password):\n",
    "    ctx = ClientContext(url, ctx_auth)\n",
    "    web = ctx.web\n",
    "    ctx.load(web)\n",
    "    ctx.execute_query()\n",
    "    print('Authentication Successful')\n",
    "    print(web.properties)\n",
    "else:\n",
    "    print(ctx_auth.get_last_error())"
   ]
  },
  {
   "cell_type": "code",
   "execution_count": 6,
   "id": "75a345f0",
   "metadata": {},
   "outputs": [],
   "source": [
    "response = File.open_binary(ctx, url)"
   ]
  },
  {
   "cell_type": "code",
   "execution_count": 7,
   "id": "6be1d6b0",
   "metadata": {},
   "outputs": [
    {
     "data": {
      "text/plain": [
       "0"
      ]
     },
     "execution_count": 7,
     "metadata": {},
     "output_type": "execute_result"
    }
   ],
   "source": [
    "#save data to BytesIO stream\n",
    "bytes_file_obj = io.BytesIO()\n",
    "bytes_file_obj.write(response.content)\n",
    "bytes_file_obj.seek(0) #set file object to start"
   ]
  },
  {
   "cell_type": "code",
   "execution_count": 17,
   "id": "b962cd61",
   "metadata": {},
   "outputs": [],
   "source": [
    "#read file into pandas dataframe\n",
    "#df = pd.read_excel(bytes_file_obj)"
   ]
  },
  {
   "cell_type": "code",
   "execution_count": 11,
   "id": "bcda186e",
   "metadata": {},
   "outputs": [],
   "source": [
    "sitename = 'LCOGDiversityEquityBelonging'"
   ]
  },
  {
   "cell_type": "code",
   "execution_count": 12,
   "id": "91095ce0",
   "metadata": {},
   "outputs": [],
   "source": [
    "# Credential to connect to your SP Site\n",
    "SITE_URL =f'https://lanecouncilofgovernments.sharepoint.com/sites/{sitename}'\n",
    "CLIENT_ID, CLIENT_SECRET = crd['SharePoint']['cid'], crd['SharePoint']['scr']"
   ]
  },
  {
   "cell_type": "code",
   "execution_count": 13,
   "id": "80b5bb12",
   "metadata": {},
   "outputs": [],
   "source": [
    "context = ClientContext(SITE_URL).with_credentials(ClientCredential(CLIENT_ID, CLIENT_SECRET))"
   ]
  },
  {
   "cell_type": "code",
   "execution_count": 14,
   "id": "dfb685fe",
   "metadata": {},
   "outputs": [
    {
     "ename": "ValueError",
     "evalue": "{\"error\":\"unauthorized_client\",\"error_description\":\"AADSTS700016: Application with identifier '1c7b4efb-8eec-4ccc-bda2-f6fd0940709f' was not found in the directory 'lanecouncilofgovernments'. This can happen if the application has not been installed by the administrator of the tenant or consented to by any user in the tenant. You may have sent your authentication request to the wrong tenant.\\r\\nTrace ID: 1091ee03-24ae-4ad8-bf79-28c890110300\\r\\nCorrelation ID: 0dc3ac6e-6e59-41f3-b2b4-3adbfcd602f9\\r\\nTimestamp: 2023-02-09 20:37:28Z\",\"error_codes\":[700016],\"timestamp\":\"2023-02-09 20:37:28Z\",\"trace_id\":\"1091ee03-24ae-4ad8-bf79-28c890110300\",\"correlation_id\":\"0dc3ac6e-6e59-41f3-b2b4-3adbfcd602f9\",\"error_uri\":\"https://accounts.accesscontrol.windows.net/error?code=700016\"}",
     "output_type": "error",
     "traceback": [
      "\u001b[1;31m---------------------------------------------------------------------------\u001b[0m",
      "\u001b[1;31mHTTPError\u001b[0m                                 Traceback (most recent call last)",
      "\u001b[1;32m~\\AppData\\Anaconda3\\envs\\geoenv\\lib\\site-packages\\office365\\runtime\\auth\\providers\\acs_token_provider.py\u001b[0m in \u001b[0;36mget_app_only_access_token\u001b[1;34m(self)\u001b[0m\n\u001b[0;32m     42\u001b[0m             \u001b[0murl_info\u001b[0m \u001b[1;33m=\u001b[0m \u001b[0murlparse\u001b[0m\u001b[1;33m(\u001b[0m\u001b[0mself\u001b[0m\u001b[1;33m.\u001b[0m\u001b[0murl\u001b[0m\u001b[1;33m)\u001b[0m\u001b[1;33m\u001b[0m\u001b[1;33m\u001b[0m\u001b[0m\n\u001b[1;32m---> 43\u001b[1;33m             \u001b[1;32mreturn\u001b[0m \u001b[0mself\u001b[0m\u001b[1;33m.\u001b[0m\u001b[0m_get_app_only_access_token\u001b[0m\u001b[1;33m(\u001b[0m\u001b[0murl_info\u001b[0m\u001b[1;33m.\u001b[0m\u001b[0mhostname\u001b[0m\u001b[1;33m,\u001b[0m \u001b[0mrealm\u001b[0m\u001b[1;33m)\u001b[0m\u001b[1;33m\u001b[0m\u001b[1;33m\u001b[0m\u001b[0m\n\u001b[0m\u001b[0;32m     44\u001b[0m         \u001b[1;32mexcept\u001b[0m \u001b[0mrequests\u001b[0m\u001b[1;33m.\u001b[0m\u001b[0mexceptions\u001b[0m\u001b[1;33m.\u001b[0m\u001b[0mRequestException\u001b[0m \u001b[1;32mas\u001b[0m \u001b[0me\u001b[0m\u001b[1;33m:\u001b[0m\u001b[1;33m\u001b[0m\u001b[1;33m\u001b[0m\u001b[0m\n",
      "\u001b[1;32m~\\AppData\\Anaconda3\\envs\\geoenv\\lib\\site-packages\\office365\\runtime\\auth\\providers\\acs_token_provider.py\u001b[0m in \u001b[0;36m_get_app_only_access_token\u001b[1;34m(self, target_host, target_realm)\u001b[0m\n\u001b[0;32m     65\u001b[0m                                  data=oauth2_request)\n\u001b[1;32m---> 66\u001b[1;33m         \u001b[0mresponse\u001b[0m\u001b[1;33m.\u001b[0m\u001b[0mraise_for_status\u001b[0m\u001b[1;33m(\u001b[0m\u001b[1;33m)\u001b[0m\u001b[1;33m\u001b[0m\u001b[1;33m\u001b[0m\u001b[0m\n\u001b[0m\u001b[0;32m     67\u001b[0m         \u001b[1;32mreturn\u001b[0m \u001b[0mTokenResponse\u001b[0m\u001b[1;33m.\u001b[0m\u001b[0mfrom_json\u001b[0m\u001b[1;33m(\u001b[0m\u001b[0mresponse\u001b[0m\u001b[1;33m.\u001b[0m\u001b[0mjson\u001b[0m\u001b[1;33m(\u001b[0m\u001b[1;33m)\u001b[0m\u001b[1;33m)\u001b[0m\u001b[1;33m\u001b[0m\u001b[1;33m\u001b[0m\u001b[0m\n",
      "\u001b[1;32m~\\AppData\\Anaconda3\\envs\\geoenv\\lib\\site-packages\\requests\\models.py\u001b[0m in \u001b[0;36mraise_for_status\u001b[1;34m(self)\u001b[0m\n\u001b[0;32m    942\u001b[0m         \u001b[1;32mif\u001b[0m \u001b[0mhttp_error_msg\u001b[0m\u001b[1;33m:\u001b[0m\u001b[1;33m\u001b[0m\u001b[1;33m\u001b[0m\u001b[0m\n\u001b[1;32m--> 943\u001b[1;33m             \u001b[1;32mraise\u001b[0m \u001b[0mHTTPError\u001b[0m\u001b[1;33m(\u001b[0m\u001b[0mhttp_error_msg\u001b[0m\u001b[1;33m,\u001b[0m \u001b[0mresponse\u001b[0m\u001b[1;33m=\u001b[0m\u001b[0mself\u001b[0m\u001b[1;33m)\u001b[0m\u001b[1;33m\u001b[0m\u001b[1;33m\u001b[0m\u001b[0m\n\u001b[0m\u001b[0;32m    944\u001b[0m \u001b[1;33m\u001b[0m\u001b[0m\n",
      "\u001b[1;31mHTTPError\u001b[0m: 400 Client Error: Bad Request for url: https://accounts.accesscontrol.windows.net/9a80ddb7-1790-4782-a634-ef32f273169c/tokens/OAuth/2",
      "\nDuring handling of the above exception, another exception occurred:\n",
      "\u001b[1;31mValueError\u001b[0m                                Traceback (most recent call last)",
      "\u001b[1;32m<ipython-input-14-44277950e6d0>\u001b[0m in \u001b[0;36m<module>\u001b[1;34m\u001b[0m\n\u001b[1;32m----> 1\u001b[1;33m response = File.open_binary(context, '/'.join([f'/sites/{sitename}/Shared Documents/Committee Meetings/Agendas', \n\u001b[0m\u001b[0;32m      2\u001b[0m                                            'Facilitator and Notetaker Rotation.xlsx']))\n",
      "\u001b[1;32m~\\AppData\\Anaconda3\\envs\\geoenv\\lib\\site-packages\\office365\\sharepoint\\files\\file.py\u001b[0m in \u001b[0;36mopen_binary\u001b[1;34m(context, server_relative_url)\u001b[0m\n\u001b[0;32m    420\u001b[0m         \u001b[0mrequest\u001b[0m \u001b[1;33m=\u001b[0m \u001b[0mRequestOptions\u001b[0m\u001b[1;33m(\u001b[0m\u001b[0murl\u001b[0m\u001b[1;33m)\u001b[0m\u001b[1;33m\u001b[0m\u001b[1;33m\u001b[0m\u001b[0m\n\u001b[0;32m    421\u001b[0m         \u001b[0mrequest\u001b[0m\u001b[1;33m.\u001b[0m\u001b[0mmethod\u001b[0m \u001b[1;33m=\u001b[0m \u001b[0mHttpMethod\u001b[0m\u001b[1;33m.\u001b[0m\u001b[0mGet\u001b[0m\u001b[1;33m\u001b[0m\u001b[1;33m\u001b[0m\u001b[0m\n\u001b[1;32m--> 422\u001b[1;33m         \u001b[0mresponse\u001b[0m \u001b[1;33m=\u001b[0m \u001b[0mcontext\u001b[0m\u001b[1;33m.\u001b[0m\u001b[0mpending_request\u001b[0m\u001b[1;33m(\u001b[0m\u001b[1;33m)\u001b[0m\u001b[1;33m.\u001b[0m\u001b[0mexecute_request_direct\u001b[0m\u001b[1;33m(\u001b[0m\u001b[0mrequest\u001b[0m\u001b[1;33m)\u001b[0m\u001b[1;33m\u001b[0m\u001b[1;33m\u001b[0m\u001b[0m\n\u001b[0m\u001b[0;32m    423\u001b[0m         \u001b[1;32mreturn\u001b[0m \u001b[0mresponse\u001b[0m\u001b[1;33m\u001b[0m\u001b[1;33m\u001b[0m\u001b[0m\n\u001b[0;32m    424\u001b[0m \u001b[1;33m\u001b[0m\u001b[0m\n",
      "\u001b[1;32m~\\AppData\\Anaconda3\\envs\\geoenv\\lib\\site-packages\\office365\\runtime\\client_request.py\u001b[0m in \u001b[0;36mexecute_request_direct\u001b[1;34m(self, request)\u001b[0m\n\u001b[0;32m     67\u001b[0m         \u001b[1;33m:\u001b[0m\u001b[0mtype\u001b[0m \u001b[0mrequest\u001b[0m\u001b[1;33m:\u001b[0m \u001b[0moffice365\u001b[0m\u001b[1;33m.\u001b[0m\u001b[0mruntime\u001b[0m\u001b[1;33m.\u001b[0m\u001b[0mhttp\u001b[0m\u001b[1;33m.\u001b[0m\u001b[0mrequest_options\u001b[0m\u001b[1;33m.\u001b[0m\u001b[0mRequestOptions\u001b[0m\u001b[1;33m\u001b[0m\u001b[1;33m\u001b[0m\u001b[0m\n\u001b[0;32m     68\u001b[0m         \"\"\"\n\u001b[1;32m---> 69\u001b[1;33m         \u001b[0mself\u001b[0m\u001b[1;33m.\u001b[0m\u001b[0mbeforeExecute\u001b[0m\u001b[1;33m.\u001b[0m\u001b[0mnotify\u001b[0m\u001b[1;33m(\u001b[0m\u001b[0mrequest\u001b[0m\u001b[1;33m)\u001b[0m\u001b[1;33m\u001b[0m\u001b[1;33m\u001b[0m\u001b[0m\n\u001b[0m\u001b[0;32m     70\u001b[0m         \u001b[1;32mif\u001b[0m \u001b[0mrequest\u001b[0m\u001b[1;33m.\u001b[0m\u001b[0mmethod\u001b[0m \u001b[1;33m==\u001b[0m \u001b[0mHttpMethod\u001b[0m\u001b[1;33m.\u001b[0m\u001b[0mPost\u001b[0m\u001b[1;33m:\u001b[0m\u001b[1;33m\u001b[0m\u001b[1;33m\u001b[0m\u001b[0m\n\u001b[0;32m     71\u001b[0m             \u001b[1;32mif\u001b[0m \u001b[0mrequest\u001b[0m\u001b[1;33m.\u001b[0m\u001b[0mis_bytes\u001b[0m \u001b[1;32mor\u001b[0m \u001b[0mrequest\u001b[0m\u001b[1;33m.\u001b[0m\u001b[0mis_file\u001b[0m\u001b[1;33m:\u001b[0m\u001b[1;33m\u001b[0m\u001b[1;33m\u001b[0m\u001b[0m\n",
      "\u001b[1;32m~\\AppData\\Anaconda3\\envs\\geoenv\\lib\\site-packages\\office365\\runtime\\types\\event_handler.py\u001b[0m in \u001b[0;36mnotify\u001b[1;34m(self, *args, **kwargs)\u001b[0m\n\u001b[0;32m     19\u001b[0m             \u001b[1;32mif\u001b[0m \u001b[0mself\u001b[0m\u001b[1;33m.\u001b[0m\u001b[0m_once\u001b[0m\u001b[1;33m:\u001b[0m\u001b[1;33m\u001b[0m\u001b[1;33m\u001b[0m\u001b[0m\n\u001b[0;32m     20\u001b[0m                 \u001b[0mself\u001b[0m\u001b[1;33m.\u001b[0m\u001b[0m_listeners\u001b[0m\u001b[1;33m.\u001b[0m\u001b[0mremove\u001b[0m\u001b[1;33m(\u001b[0m\u001b[0mlistener\u001b[0m\u001b[1;33m)\u001b[0m\u001b[1;33m\u001b[0m\u001b[1;33m\u001b[0m\u001b[0m\n\u001b[1;32m---> 21\u001b[1;33m             \u001b[0mlistener\u001b[0m\u001b[1;33m(\u001b[0m\u001b[1;33m*\u001b[0m\u001b[0margs\u001b[0m\u001b[1;33m,\u001b[0m \u001b[1;33m**\u001b[0m\u001b[0mkwargs\u001b[0m\u001b[1;33m)\u001b[0m\u001b[1;33m\u001b[0m\u001b[1;33m\u001b[0m\u001b[0m\n\u001b[0m",
      "\u001b[1;32m~\\AppData\\Anaconda3\\envs\\geoenv\\lib\\site-packages\\office365\\sharepoint\\client_context.py\u001b[0m in \u001b[0;36m_authenticate_request\u001b[1;34m(self, request)\u001b[0m\n\u001b[0;32m    210\u001b[0m \u001b[1;33m\u001b[0m\u001b[0m\n\u001b[0;32m    211\u001b[0m     \u001b[1;32mdef\u001b[0m \u001b[0m_authenticate_request\u001b[0m\u001b[1;33m(\u001b[0m\u001b[0mself\u001b[0m\u001b[1;33m,\u001b[0m \u001b[0mrequest\u001b[0m\u001b[1;33m)\u001b[0m\u001b[1;33m:\u001b[0m\u001b[1;33m\u001b[0m\u001b[1;33m\u001b[0m\u001b[0m\n\u001b[1;32m--> 212\u001b[1;33m         \u001b[0mself\u001b[0m\u001b[1;33m.\u001b[0m\u001b[0mauthentication_context\u001b[0m\u001b[1;33m.\u001b[0m\u001b[0mauthenticate_request\u001b[0m\u001b[1;33m(\u001b[0m\u001b[0mrequest\u001b[0m\u001b[1;33m)\u001b[0m\u001b[1;33m\u001b[0m\u001b[1;33m\u001b[0m\u001b[0m\n\u001b[0m\u001b[0;32m    213\u001b[0m \u001b[1;33m\u001b[0m\u001b[0m\n\u001b[0;32m    214\u001b[0m     \u001b[1;32mdef\u001b[0m \u001b[0m_build_modification_query\u001b[0m\u001b[1;33m(\u001b[0m\u001b[0mself\u001b[0m\u001b[1;33m,\u001b[0m \u001b[0mrequest\u001b[0m\u001b[1;33m)\u001b[0m\u001b[1;33m:\u001b[0m\u001b[1;33m\u001b[0m\u001b[1;33m\u001b[0m\u001b[0m\n",
      "\u001b[1;32m~\\AppData\\Anaconda3\\envs\\geoenv\\lib\\site-packages\\office365\\runtime\\auth\\authentication_context.py\u001b[0m in \u001b[0;36mauthenticate_request\u001b[1;34m(self, request)\u001b[0m\n\u001b[0;32m     95\u001b[0m         \u001b[1;33m:\u001b[0m\u001b[0mtype\u001b[0m \u001b[0mrequest\u001b[0m\u001b[1;33m:\u001b[0m \u001b[0moffice365\u001b[0m\u001b[1;33m.\u001b[0m\u001b[0mruntime\u001b[0m\u001b[1;33m.\u001b[0m\u001b[0mhttp\u001b[0m\u001b[1;33m.\u001b[0m\u001b[0mrequest_options\u001b[0m\u001b[1;33m.\u001b[0m\u001b[0mRequestOptions\u001b[0m\u001b[1;33m\u001b[0m\u001b[1;33m\u001b[0m\u001b[0m\n\u001b[0;32m     96\u001b[0m         \"\"\"\n\u001b[1;32m---> 97\u001b[1;33m         \u001b[0mself\u001b[0m\u001b[1;33m.\u001b[0m\u001b[0m_provider\u001b[0m\u001b[1;33m.\u001b[0m\u001b[0mauthenticate_request\u001b[0m\u001b[1;33m(\u001b[0m\u001b[0mrequest\u001b[0m\u001b[1;33m)\u001b[0m\u001b[1;33m\u001b[0m\u001b[1;33m\u001b[0m\u001b[0m\n\u001b[0m",
      "\u001b[1;32m~\\AppData\\Anaconda3\\envs\\geoenv\\lib\\site-packages\\office365\\runtime\\auth\\providers\\acs_token_provider.py\u001b[0m in \u001b[0;36mauthenticate_request\u001b[1;34m(self, request)\u001b[0m\n\u001b[0;32m     29\u001b[0m         \u001b[1;33m:\u001b[0m\u001b[0mtype\u001b[0m \u001b[0mrequest\u001b[0m\u001b[1;33m:\u001b[0m \u001b[0moffice365\u001b[0m\u001b[1;33m.\u001b[0m\u001b[0mruntime\u001b[0m\u001b[1;33m.\u001b[0m\u001b[0mhttp\u001b[0m\u001b[1;33m.\u001b[0m\u001b[0mrequest_options\u001b[0m\u001b[1;33m.\u001b[0m\u001b[0mRequestOptions\u001b[0m\u001b[1;33m\u001b[0m\u001b[1;33m\u001b[0m\u001b[0m\n\u001b[0;32m     30\u001b[0m         \"\"\"\n\u001b[1;32m---> 31\u001b[1;33m         \u001b[0mself\u001b[0m\u001b[1;33m.\u001b[0m\u001b[0mensure_app_only_access_token\u001b[0m\u001b[1;33m(\u001b[0m\u001b[1;33m)\u001b[0m\u001b[1;33m\u001b[0m\u001b[1;33m\u001b[0m\u001b[0m\n\u001b[0m\u001b[0;32m     32\u001b[0m         \u001b[0mrequest\u001b[0m\u001b[1;33m.\u001b[0m\u001b[0mset_header\u001b[0m\u001b[1;33m(\u001b[0m\u001b[1;34m'Authorization'\u001b[0m\u001b[1;33m,\u001b[0m \u001b[0mself\u001b[0m\u001b[1;33m.\u001b[0m\u001b[0m_get_authorization_header\u001b[0m\u001b[1;33m(\u001b[0m\u001b[1;33m)\u001b[0m\u001b[1;33m)\u001b[0m\u001b[1;33m\u001b[0m\u001b[1;33m\u001b[0m\u001b[0m\n\u001b[0;32m     33\u001b[0m \u001b[1;33m\u001b[0m\u001b[0m\n",
      "\u001b[1;32m~\\AppData\\Anaconda3\\envs\\geoenv\\lib\\site-packages\\office365\\runtime\\auth\\providers\\acs_token_provider.py\u001b[0m in \u001b[0;36mensure_app_only_access_token\u001b[1;34m(self)\u001b[0m\n\u001b[0;32m     34\u001b[0m     \u001b[1;32mdef\u001b[0m \u001b[0mensure_app_only_access_token\u001b[0m\u001b[1;33m(\u001b[0m\u001b[0mself\u001b[0m\u001b[1;33m)\u001b[0m\u001b[1;33m:\u001b[0m\u001b[1;33m\u001b[0m\u001b[1;33m\u001b[0m\u001b[0m\n\u001b[0;32m     35\u001b[0m         \u001b[1;32mif\u001b[0m \u001b[0mself\u001b[0m\u001b[1;33m.\u001b[0m\u001b[0m_cached_token\u001b[0m \u001b[1;32mis\u001b[0m \u001b[1;32mNone\u001b[0m\u001b[1;33m:\u001b[0m\u001b[1;33m\u001b[0m\u001b[1;33m\u001b[0m\u001b[0m\n\u001b[1;32m---> 36\u001b[1;33m             \u001b[0mself\u001b[0m\u001b[1;33m.\u001b[0m\u001b[0m_cached_token\u001b[0m \u001b[1;33m=\u001b[0m \u001b[0mself\u001b[0m\u001b[1;33m.\u001b[0m\u001b[0mget_app_only_access_token\u001b[0m\u001b[1;33m(\u001b[0m\u001b[1;33m)\u001b[0m\u001b[1;33m\u001b[0m\u001b[1;33m\u001b[0m\u001b[0m\n\u001b[0m\u001b[0;32m     37\u001b[0m         \u001b[1;32mreturn\u001b[0m \u001b[0mself\u001b[0m\u001b[1;33m.\u001b[0m\u001b[0m_cached_token\u001b[0m \u001b[1;32mand\u001b[0m \u001b[0mself\u001b[0m\u001b[1;33m.\u001b[0m\u001b[0m_cached_token\u001b[0m\u001b[1;33m.\u001b[0m\u001b[0mis_valid\u001b[0m\u001b[1;33m\u001b[0m\u001b[1;33m\u001b[0m\u001b[0m\n\u001b[0;32m     38\u001b[0m \u001b[1;33m\u001b[0m\u001b[0m\n",
      "\u001b[1;32m~\\AppData\\Anaconda3\\envs\\geoenv\\lib\\site-packages\\office365\\runtime\\auth\\providers\\acs_token_provider.py\u001b[0m in \u001b[0;36mget_app_only_access_token\u001b[1;34m(self)\u001b[0m\n\u001b[0;32m     44\u001b[0m         \u001b[1;32mexcept\u001b[0m \u001b[0mrequests\u001b[0m\u001b[1;33m.\u001b[0m\u001b[0mexceptions\u001b[0m\u001b[1;33m.\u001b[0m\u001b[0mRequestException\u001b[0m \u001b[1;32mas\u001b[0m \u001b[0me\u001b[0m\u001b[1;33m:\u001b[0m\u001b[1;33m\u001b[0m\u001b[1;33m\u001b[0m\u001b[0m\n\u001b[0;32m     45\u001b[0m             \u001b[0mself\u001b[0m\u001b[1;33m.\u001b[0m\u001b[0merror\u001b[0m \u001b[1;33m=\u001b[0m \u001b[0me\u001b[0m\u001b[1;33m.\u001b[0m\u001b[0mresponse\u001b[0m\u001b[1;33m.\u001b[0m\u001b[0mtext\u001b[0m\u001b[1;33m\u001b[0m\u001b[1;33m\u001b[0m\u001b[0m\n\u001b[1;32m---> 46\u001b[1;33m             \u001b[1;32mraise\u001b[0m \u001b[0mValueError\u001b[0m\u001b[1;33m(\u001b[0m\u001b[0me\u001b[0m\u001b[1;33m.\u001b[0m\u001b[0mresponse\u001b[0m\u001b[1;33m.\u001b[0m\u001b[0mtext\u001b[0m\u001b[1;33m)\u001b[0m\u001b[1;33m\u001b[0m\u001b[1;33m\u001b[0m\u001b[0m\n\u001b[0m\u001b[0;32m     47\u001b[0m \u001b[1;33m\u001b[0m\u001b[0m\n\u001b[0;32m     48\u001b[0m     \u001b[1;32mdef\u001b[0m \u001b[0m_get_app_only_access_token\u001b[0m\u001b[1;33m(\u001b[0m\u001b[0mself\u001b[0m\u001b[1;33m,\u001b[0m \u001b[0mtarget_host\u001b[0m\u001b[1;33m,\u001b[0m \u001b[0mtarget_realm\u001b[0m\u001b[1;33m)\u001b[0m\u001b[1;33m:\u001b[0m\u001b[1;33m\u001b[0m\u001b[1;33m\u001b[0m\u001b[0m\n",
      "\u001b[1;31mValueError\u001b[0m: {\"error\":\"unauthorized_client\",\"error_description\":\"AADSTS700016: Application with identifier '1c7b4efb-8eec-4ccc-bda2-f6fd0940709f' was not found in the directory 'lanecouncilofgovernments'. This can happen if the application has not been installed by the administrator of the tenant or consented to by any user in the tenant. You may have sent your authentication request to the wrong tenant.\\r\\nTrace ID: 1091ee03-24ae-4ad8-bf79-28c890110300\\r\\nCorrelation ID: 0dc3ac6e-6e59-41f3-b2b4-3adbfcd602f9\\r\\nTimestamp: 2023-02-09 20:37:28Z\",\"error_codes\":[700016],\"timestamp\":\"2023-02-09 20:37:28Z\",\"trace_id\":\"1091ee03-24ae-4ad8-bf79-28c890110300\",\"correlation_id\":\"0dc3ac6e-6e59-41f3-b2b4-3adbfcd602f9\",\"error_uri\":\"https://accounts.accesscontrol.windows.net/error?code=700016\"}"
     ]
    }
   ],
   "source": [
    "response = File.open_binary(context, '/'.join([f'/sites/{sitename}/Shared Documents/Committee Meetings/Agendas', \n",
    "                                           'Facilitator and Notetaker Rotation.xlsx']))"
   ]
  },
  {
   "cell_type": "code",
   "execution_count": null,
   "id": "2f8a5ec1",
   "metadata": {},
   "outputs": [],
   "source": [
    "df = pd.read_excel(io.BytesIO(response.content))"
   ]
  },
  {
   "cell_type": "code",
   "execution_count": null,
   "id": "f9f6ce9d",
   "metadata": {},
   "outputs": [],
   "source": [
    "def get_sharepoint_context_using_user():\n",
    " \n",
    "    # Get sharepoint credentials\n",
    "    sharepoint_url = 'https://lanecouncilofgovernments.sharepoint.com'\n",
    "\n",
    "    # Initialize the client credentials\n",
    "    user_credentials = UserCredential(crd['SharePoint']['usr'], crd['SharePoint']['pwd'])\n",
    "\n",
    "    # create client context object\n",
    "    ctx = ClientContext(sharepoint_url).with_credentials(user_credentials)\n",
    "\n",
    "    return ctx"
   ]
  },
  {
   "cell_type": "code",
   "execution_count": null,
   "id": "ba644097",
   "metadata": {},
   "outputs": [],
   "source": [
    "def get_files(file_url):\n",
    "    try:\n",
    "\n",
    "        site_url = \"https://lanecouncilofgovernments.sharepoint.com\"\n",
    "        credentials = ClientCredential(crd['SharePoint']['usr'], crd['SharePoint']['pwd'])\n",
    "\n",
    "        ctx = ClientContext(site_url).with_credentials(credentials)\n",
    "        \n",
    "        # file_url is the sharepoint url from which you need the list of files\n",
    "        list_source = ctx.web.get_folder_by_server_relative_url(file_url)\n",
    "        files = list_source.files\n",
    "        ctx.load(files)\n",
    "        ctx.execute_query()\n",
    "\n",
    "        return files\n",
    "\n",
    "    except Exception as e:\n",
    "        print(e)"
   ]
  },
  {
   "cell_type": "code",
   "execution_count": null,
   "id": "4c19301b",
   "metadata": {},
   "outputs": [],
   "source": [
    "get_files(url)"
   ]
  },
  {
   "cell_type": "code",
   "execution_count": null,
   "id": "305eaf48",
   "metadata": {},
   "outputs": [],
   "source": [
    "import datetime\n",
    "\n",
    "def third_Wednesday(year, month):\n",
    "    \"\"\"Return datetime.date for monthly option expiration given year and\n",
    "    month\n",
    "    \"\"\"\n",
    "    # The 15th is the lowest third day in the month\n",
    "    third = datetime.date(year, month, 15)\n",
    "    # What day of the week is the 15th?\n",
    "    w = third.weekday()\n",
    "    # Wednesday is weekday 2\n",
    "    if w != 2:\n",
    "        # Replace just the day (of month)\n",
    "        third = third.replace(day=(15 + (2 - w) % 7))\n",
    "    return third"
   ]
  },
  {
   "cell_type": "code",
   "execution_count": null,
   "id": "e2a19f05",
   "metadata": {},
   "outputs": [],
   "source": [
    "date1 = third_Wednesday(2023, 2)"
   ]
  },
  {
   "cell_type": "code",
   "execution_count": null,
   "id": "c3c6fbbe",
   "metadata": {},
   "outputs": [],
   "source": [
    "date1"
   ]
  },
  {
   "cell_type": "code",
   "execution_count": null,
   "id": "eb057e98",
   "metadata": {},
   "outputs": [],
   "source": [
    "date2 = date.today() + timedelta(days=7)"
   ]
  },
  {
   "cell_type": "code",
   "execution_count": null,
   "id": "5ec05f5d",
   "metadata": {},
   "outputs": [],
   "source": [
    "const=win32com.client.constants\n",
    "olMailItem = 0x0\n",
    "obj = win32com.client.Dispatch(\"Outlook.Application\")\n",
    "newMail = obj.CreateItem(olMailItem)\n",
    "newMail.Subject = f'Reminder: DEIB meeting next Wednesday {str(date1)}'\n",
    "newMail.BodyFormat = 2 # olFormatHTML https://msdn.microsoft.com/en-us/library/office/aa219371(v=office.11).aspx\n",
    "newMail.HTMLBody =  \"\"\"\n",
    "<HTML><BODY><p>Hello all,</p> \n",
    "\n",
    "<p>Our meeting facilitator and notetaker next week are Denise and Kate, and next month are Ellen and Heidi. Following the links, please find the folders for the <a href=\"https://lanecouncilofgovernments.sharepoint.com/:f:/r/sites/LCOGDiversityEquityBelonging/Shared%20Documents/Committee%20Meetings/Agendas/2023?csf=1&web=1&e=wBl76p\">meeting agenda</a>, and <a href=\"https://lanecouncilofgovernments.sharepoint.com/:f:/r/sites/LCOGDiversityEquityBelonging/Shared%20Documents/Committee%20Meetings/Meeting%20Notes/2023?csf=1&web=1&e=03DAbf\">meeting notes</a>.\n",
    "\n",
    "Meeting facilitators will need to fill out the agenda details. Please note that we will have a hybrid meeting this time, and the in-person meeting room is McKenzie Room on PPB 4th floor.</p> \n",
    "\n",
    "<p>Have a great day!</p>\n",
    "\n",
    "<p>Dongmei on behalf of DEIB Strategic Planning Subcommittee</p></BODY></HTML>\n",
    "\"\"\"\n",
    "newMail.To = \"LCOGDiversityEquityInclusionBelonging@lcog.org\"\n",
    "#newMail.From = \"LCOGDiversityEquityInclusionBelonging@lcog.org\"\n",
    "\n",
    "#newMail.Send()"
   ]
  }
 ],
 "metadata": {
  "kernelspec": {
   "display_name": "Python 3",
   "language": "python",
   "name": "python3"
  },
  "language_info": {
   "codemirror_mode": {
    "name": "ipython",
    "version": 3
   },
   "file_extension": ".py",
   "mimetype": "text/x-python",
   "name": "python",
   "nbconvert_exporter": "python",
   "pygments_lexer": "ipython3",
   "version": "3.8.8"
  }
 },
 "nbformat": 4,
 "nbformat_minor": 5
}
