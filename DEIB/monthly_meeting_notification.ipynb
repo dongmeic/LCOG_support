{
 "cells": [
  {
   "cell_type": "code",
   "execution_count": 14,
   "id": "0f587f10",
   "metadata": {},
   "outputs": [],
   "source": [
    "from datetime import date, timedelta\n",
    "import win32com.client\n",
    "from win32com.client import Dispatch, constants\n",
    "from openpyxl import load_workbook\n",
    "from office365.runtime.auth.user_credential import UserCredential\n",
    "from office365.sharepoint.client_context import ClientContext\n",
    "from office365.runtime.auth.client_credential import ClientCredential\n",
    "from office365.sharepoint.client_context import ClientContext\n",
    "import json"
   ]
  },
  {
   "cell_type": "code",
   "execution_count": 15,
   "id": "1005f697",
   "metadata": {},
   "outputs": [
    {
     "data": {
      "text/plain": [
       "<function TextIOWrapper.close()>"
      ]
     },
     "execution_count": 15,
     "metadata": {},
     "output_type": "execute_result"
    }
   ],
   "source": [
    "f = open(r'T:\\DCProjects\\GitHub\\LCOG_support\\config\\keys.json')\n",
    "crd = json.load(f)\n",
    "f.close"
   ]
  },
  {
   "cell_type": "code",
   "execution_count": 16,
   "id": "3fb5ffca",
   "metadata": {},
   "outputs": [],
   "source": [
    "def get_sharepoint_context_using_user():\n",
    " \n",
    "    # Get sharepoint credentials\n",
    "    sharepoint_url = 'https://lanecouncilofgovernments.sharepoint.com'\n",
    "\n",
    "    # Initialize the client credentials\n",
    "    user_credentials = UserCredential(crd['SharePoint']['usr'], crd['SharePoint']['pwd'])\n",
    "\n",
    "    # create client context object\n",
    "    ctx = ClientContext(sharepoint_url).with_credentials(user_credentials)\n",
    "\n",
    "    return ctx"
   ]
  },
  {
   "cell_type": "code",
   "execution_count": 17,
   "id": "368c2f9d",
   "metadata": {},
   "outputs": [],
   "source": [
    "def get_files(file_url):\n",
    "    try:\n",
    "\n",
    "        site_url = \"https://lanecouncilofgovernments.sharepoint.com\"\n",
    "        credentials = ClientCredential(crd['SharePoint']['usr'], crd['SharePoint']['pwd'])\n",
    "\n",
    "        ctx = ClientContext(site_url).with_credentials(credentials)\n",
    "        \n",
    "        # file_url is the sharepoint url from which you need the list of files\n",
    "        list_source = ctx.web.get_folder_by_server_relative_url(file_url)\n",
    "        files = list_source.files\n",
    "        ctx.load(files)\n",
    "        ctx.execute_query()\n",
    "\n",
    "        return files\n",
    "\n",
    "    except Exception as e:\n",
    "        print(e)"
   ]
  },
  {
   "cell_type": "code",
   "execution_count": 18,
   "id": "988d19c9",
   "metadata": {},
   "outputs": [
    {
     "name": "stdout",
     "output_type": "stream",
     "text": [
      "{\"error\":\"invalid_client\",\"error_description\":\"AADSTS70002: Client application name 'dchen@lcog.org@9a80ddb7-1790-4782-a634-ef32f273169c' is not valid or the credentials used to authenticate the client could not be understood by the server.\\r\\nTrace ID: 823afaab-9e6c-4a0a-a3cf-df4c10170000\\r\\nCorrelation ID: 8e920b93-2e3f-4510-a3f4-2f7c09632be8\\r\\nTimestamp: 2023-02-09 19:58:56Z\",\"error_codes\":[70002],\"timestamp\":\"2023-02-09 19:58:56Z\",\"trace_id\":\"823afaab-9e6c-4a0a-a3cf-df4c10170000\",\"correlation_id\":\"8e920b93-2e3f-4510-a3f4-2f7c09632be8\",\"error_uri\":\"https://accounts.accesscontrol.windows.net/error?code=70002\"}\n"
     ]
    }
   ],
   "source": [
    "get_files('https://lanecouncilofgovernments.sharepoint.com/:x:/r/sites/LCOGDiversityEquityBelonging/_layouts/15/Doc.aspx?sourcedoc=%7B95B76D95-363F-452E-A99D-77524AA7A68E%7D&file=Facilitator%20and%20Notetaker%20Rotation.xlsx&action=default&mobileredirect=true')"
   ]
  },
  {
   "cell_type": "code",
   "execution_count": 11,
   "id": "6969f9a2",
   "metadata": {},
   "outputs": [],
   "source": [
    "import datetime\n",
    "\n",
    "def third_Wednesday(year, month):\n",
    "    \"\"\"Return datetime.date for monthly option expiration given year and\n",
    "    month\n",
    "    \"\"\"\n",
    "    # The 15th is the lowest third day in the month\n",
    "    third = datetime.date(year, month, 15)\n",
    "    # What day of the week is the 15th?\n",
    "    w = third.weekday()\n",
    "    # Wednesday is weekday 2\n",
    "    if w != 2:\n",
    "        # Replace just the day (of month)\n",
    "        third = third.replace(day=(15 + (2 - w) % 7))\n",
    "    return third"
   ]
  },
  {
   "cell_type": "code",
   "execution_count": 12,
   "id": "81f227dd",
   "metadata": {},
   "outputs": [],
   "source": [
    "date1 = third_Wednesday(2023, 2)"
   ]
  },
  {
   "cell_type": "code",
   "execution_count": 13,
   "id": "a2d78a57",
   "metadata": {},
   "outputs": [
    {
     "data": {
      "text/plain": [
       "datetime.date(2023, 2, 15)"
      ]
     },
     "execution_count": 13,
     "metadata": {},
     "output_type": "execute_result"
    }
   ],
   "source": [
    "date1"
   ]
  },
  {
   "cell_type": "code",
   "execution_count": 6,
   "id": "2b1adb07",
   "metadata": {},
   "outputs": [],
   "source": [
    "date2 = date.today() + timedelta(days=7)"
   ]
  },
  {
   "cell_type": "code",
   "execution_count": 7,
   "id": "ec0b793a",
   "metadata": {},
   "outputs": [],
   "source": [
    "const=win32com.client.constants\n",
    "olMailItem = 0x0\n",
    "obj = win32com.client.Dispatch(\"Outlook.Application\")\n",
    "newMail = obj.CreateItem(olMailItem)\n",
    "newMail.Subject = f'Reminder: DEIB meeting next Wednesday {str(date1)}'\n",
    "newMail.BodyFormat = 2 # olFormatHTML https://msdn.microsoft.com/en-us/library/office/aa219371(v=office.11).aspx\n",
    "newMail.HTMLBody =  \"\"\"\n",
    "<HTML><BODY><p>Hello all,</p> \n",
    "\n",
    "<p>Our meeting facilitator and notetaker next week are Denise and Kate, and next month are Ellen and Heidi. Following the links, please find the folders for the <a href=\"https://lanecouncilofgovernments.sharepoint.com/:f:/r/sites/LCOGDiversityEquityBelonging/Shared%20Documents/Committee%20Meetings/Agendas/2023?csf=1&web=1&e=wBl76p\">meeting agenda</a>, and <a href=\"https://lanecouncilofgovernments.sharepoint.com/:f:/r/sites/LCOGDiversityEquityBelonging/Shared%20Documents/Committee%20Meetings/Meeting%20Notes/2023?csf=1&web=1&e=03DAbf\">meeting notes</a>.\n",
    "\n",
    "Meeting facilitators will need to fill out the agenda details. Please note that we will have a hybrid meeting this time, and the in-person meeting room is McKenzie Room on PPB 4th floor.</p> \n",
    "\n",
    "<p>Have a great day!</p>\n",
    "\n",
    "<p>Dongmei on behalf of DEIB Strategic Planning Subcommittee</p></BODY></HTML>\n",
    "\"\"\"\n",
    "newMail.To = \"LCOGDiversityEquityInclusionBelonging@lcog.org\"\n",
    "#newMail.From = \"LCOGDiversityEquityInclusionBelonging@lcog.org\"\n",
    "\n",
    "newMail.Send()"
   ]
  }
 ],
 "metadata": {
  "kernelspec": {
   "display_name": "Python 3",
   "language": "python",
   "name": "python3"
  },
  "language_info": {
   "codemirror_mode": {
    "name": "ipython",
    "version": 3
   },
   "file_extension": ".py",
   "mimetype": "text/x-python",
   "name": "python",
   "nbconvert_exporter": "python",
   "pygments_lexer": "ipython3",
   "version": "3.8.8"
  }
 },
 "nbformat": 4,
 "nbformat_minor": 5
}
