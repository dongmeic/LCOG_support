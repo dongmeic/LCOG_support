{
 "cells": [
  {
   "cell_type": "code",
   "execution_count": 1,
   "id": "7b4c23bd",
   "metadata": {},
   "outputs": [],
   "source": [
    "import datetime\n",
    "from datetime import date, timedelta\n",
    "import win32com.client\n",
    "from win32com.client import Dispatch, constants\n",
    "from office365.runtime.auth.user_credential import UserCredential\n",
    "from office365.sharepoint.client_context import ClientContext\n",
    "from office365.runtime.auth.client_credential import ClientCredential\n",
    "from office365.runtime.auth.authentication_context import AuthenticationContext\n",
    "from office365.sharepoint.files.file import File \n",
    "import io\n",
    "import pandas as pd\n",
    "import json\n",
    "from dateutil import relativedelta"
   ]
  },
  {
   "cell_type": "code",
   "execution_count": 2,
   "id": "26f969e7",
   "metadata": {},
   "outputs": [
    {
     "data": {
      "text/plain": [
       "<function TextIOWrapper.close()>"
      ]
     },
     "execution_count": 2,
     "metadata": {},
     "output_type": "execute_result"
    }
   ],
   "source": [
    "f = open(r'T:\\DCProjects\\GitHub\\LCOG_support\\config\\keys.json')\n",
    "crd = json.load(f)\n",
    "f.close"
   ]
  },
  {
   "cell_type": "code",
   "execution_count": 3,
   "id": "6624e6c4",
   "metadata": {},
   "outputs": [],
   "source": [
    "url = 'https://lanecouncilofgovernments.sharepoint.com/:x:/r/sites/LCOGDiversityEquityBelonging/_layouts/15/Doc.aspx?sourcedoc=%7B95B76D95-363F-452E-A99D-77524AA7A68E%7D&file=Facilitator%20and%20Notetaker%20Rotation.xlsx&action=default&mobileredirect=true'"
   ]
  },
  {
   "cell_type": "code",
   "execution_count": 4,
   "id": "0aca56e7",
   "metadata": {},
   "outputs": [],
   "source": [
    "username, password = crd['SharePoint']['usr'], crd['SharePoint']['pwd']"
   ]
  },
  {
   "cell_type": "code",
   "execution_count": 5,
   "id": "b560d126",
   "metadata": {},
   "outputs": [
    {
     "name": "stdout",
     "output_type": "stream",
     "text": [
      "Authentication Successful\n",
      "{}\n"
     ]
    }
   ],
   "source": [
    "ctx_auth = AuthenticationContext(url)\n",
    "if ctx_auth.acquire_token_for_user(username, password):\n",
    "    ctx = ClientContext(url, ctx_auth)\n",
    "    web = ctx.web\n",
    "    ctx.load(web)\n",
    "    ctx.execute_query()\n",
    "    print('Authentication Successful')\n",
    "    print(web.properties)\n",
    "else:\n",
    "    print(ctx_auth.get_last_error())"
   ]
  },
  {
   "cell_type": "code",
   "execution_count": 6,
   "id": "1cf8f708",
   "metadata": {},
   "outputs": [],
   "source": [
    "response = File.open_binary(ctx, url)"
   ]
  },
  {
   "cell_type": "code",
   "execution_count": 7,
   "id": "bd0d108f",
   "metadata": {},
   "outputs": [
    {
     "data": {
      "text/plain": [
       "0"
      ]
     },
     "execution_count": 7,
     "metadata": {},
     "output_type": "execute_result"
    }
   ],
   "source": [
    "#save data to BytesIO stream\n",
    "bytes_file_obj = io.BytesIO()\n",
    "bytes_file_obj.write(response.content)\n",
    "bytes_file_obj.seek(0) #set file object to start"
   ]
  },
  {
   "cell_type": "code",
   "execution_count": 17,
   "id": "21060467",
   "metadata": {},
   "outputs": [],
   "source": [
    "#read file into pandas dataframe\n",
    "#df = pd.read_excel(bytes_file_obj)"
   ]
  },
  {
   "cell_type": "code",
   "execution_count": 11,
   "id": "ea3fdfba",
   "metadata": {},
   "outputs": [],
   "source": [
    "sitename = 'LCOGDiversityEquityBelonging'"
   ]
  },
  {
   "cell_type": "code",
   "execution_count": 12,
   "id": "fc9d383c",
   "metadata": {},
   "outputs": [],
   "source": [
    "# Credential to connect to your SP Site\n",
    "SITE_URL =f'https://lanecouncilofgovernments.sharepoint.com/sites/{sitename}'\n",
    "CLIENT_ID, CLIENT_SECRET = crd['SharePoint']['cid'], crd['SharePoint']['scr']"
   ]
  },
  {
   "cell_type": "code",
   "execution_count": 13,
   "id": "9dfb64be",
   "metadata": {},
   "outputs": [],
   "source": [
    "context = ClientContext(SITE_URL).with_credentials(ClientCredential(CLIENT_ID, CLIENT_SECRET))"
   ]
  },
  {
   "cell_type": "code",
   "execution_count": 2,
   "id": "e60ecefb",
   "metadata": {},
   "outputs": [],
   "source": [
    "# response = File.open_binary(context, '/'.join([f'/sites/{sitename}/Shared Documents/Committee Meetings/Agendas', \n",
    "#                                            'Facilitator and Notetaker Rotation.xlsx']))"
   ]
  },
  {
   "cell_type": "code",
   "execution_count": null,
   "id": "a937b6e6",
   "metadata": {},
   "outputs": [],
   "source": [
    "#df = pd.read_excel(io.BytesIO(response.content))"
   ]
  },
  {
   "cell_type": "code",
   "execution_count": null,
   "id": "402d5865",
   "metadata": {},
   "outputs": [],
   "source": [
    "def get_sharepoint_context_using_user():\n",
    " \n",
    "    # Get sharepoint credentials\n",
    "    sharepoint_url = 'https://lanecouncilofgovernments.sharepoint.com'\n",
    "\n",
    "    # Initialize the client credentials\n",
    "    user_credentials = UserCredential(crd['SharePoint']['usr'], crd['SharePoint']['pwd'])\n",
    "\n",
    "    # create client context object\n",
    "    ctx = ClientContext(sharepoint_url).with_credentials(user_credentials)\n",
    "\n",
    "    return ctx"
   ]
  },
  {
   "cell_type": "code",
   "execution_count": null,
   "id": "84259a42",
   "metadata": {},
   "outputs": [],
   "source": [
    "def get_files(file_url):\n",
    "    try:\n",
    "\n",
    "        site_url = \"https://lanecouncilofgovernments.sharepoint.com\"\n",
    "        credentials = ClientCredential(crd['SharePoint']['usr'], crd['SharePoint']['pwd'])\n",
    "\n",
    "        ctx = ClientContext(site_url).with_credentials(credentials)\n",
    "        \n",
    "        # file_url is the sharepoint url from which you need the list of files\n",
    "        list_source = ctx.web.get_folder_by_server_relative_url(file_url)\n",
    "        files = list_source.files\n",
    "        ctx.load(files)\n",
    "        ctx.execute_query()\n",
    "\n",
    "        return files\n",
    "\n",
    "    except Exception as e:\n",
    "        print(e)"
   ]
  },
  {
   "cell_type": "code",
   "execution_count": null,
   "id": "8baf1baf",
   "metadata": {},
   "outputs": [],
   "source": [
    "get_files(url)"
   ]
  },
  {
   "cell_type": "code",
   "execution_count": 3,
   "id": "1dc7ab6a",
   "metadata": {},
   "outputs": [],
   "source": [
    "def third_Wednesday(year, month):\n",
    "    \"\"\"Return datetime.date for monthly option expiration given year and\n",
    "    month\n",
    "    \"\"\"\n",
    "    # The 15th is the lowest third day in the month\n",
    "    third = datetime.date(year, month, 15)\n",
    "    # What day of the week is the 15th?\n",
    "    w = third.weekday()\n",
    "    # Wednesday is weekday 2\n",
    "    if w != 2:\n",
    "        # Replace just the day (of month)\n",
    "        third = third.replace(day=(15 + (2 - w) % 7))\n",
    "    return third"
   ]
  },
  {
   "cell_type": "code",
   "execution_count": 4,
   "id": "e7baa400",
   "metadata": {},
   "outputs": [],
   "source": [
    "date1 = third_Wednesday(2023, 2)"
   ]
  },
  {
   "cell_type": "code",
   "execution_count": null,
   "id": "912c1d3d",
   "metadata": {},
   "outputs": [],
   "source": [
    "#date2 = date.today() + timedelta(days=7)"
   ]
  },
  {
   "cell_type": "code",
   "execution_count": 5,
   "id": "d4885ca6",
   "metadata": {},
   "outputs": [],
   "source": [
    "rota = pd.read_excel(r'T:\\DCProjects\\DEIB\\Facilitator and Notetaker Rotation.xlsx')"
   ]
  },
  {
   "cell_type": "code",
   "execution_count": 6,
   "id": "57291057",
   "metadata": {},
   "outputs": [],
   "source": [
    "today = date.today()"
   ]
  },
  {
   "cell_type": "code",
   "execution_count": 21,
   "id": "56280c4c",
   "metadata": {},
   "outputs": [
    {
     "data": {
      "text/plain": [
       "2"
      ]
     },
     "execution_count": 21,
     "metadata": {},
     "output_type": "execute_result"
    }
   ],
   "source": [
    "int(today.strftime(\"%m\"))"
   ]
  },
  {
   "cell_type": "code",
   "execution_count": 7,
   "id": "c94fd2c6",
   "metadata": {},
   "outputs": [],
   "source": [
    "cur_m = today.strftime(\"%B\") + ' ' + today.strftime(\"%Y\")"
   ]
  },
  {
   "cell_type": "code",
   "execution_count": 17,
   "id": "b31e86ca",
   "metadata": {},
   "outputs": [],
   "source": [
    "cur_fcr = rota.loc[rota.Month == cur_m, 'Facilitator'].values[0]\n",
    "cur_ntr = rota.loc[rota.Month == cur_m, 'Note Taker'].values[0]"
   ]
  },
  {
   "cell_type": "code",
   "execution_count": 9,
   "id": "455765c6",
   "metadata": {},
   "outputs": [],
   "source": [
    "nextmonth = datetime.date.today() + relativedelta.relativedelta(months=1)"
   ]
  },
  {
   "cell_type": "code",
   "execution_count": 10,
   "id": "3d6f96ff",
   "metadata": {},
   "outputs": [],
   "source": [
    "ftr_m = nextmonth.strftime(\"%B\") + ' ' + nextmonth.strftime(\"%Y\")"
   ]
  },
  {
   "cell_type": "code",
   "execution_count": 18,
   "id": "814d4a65",
   "metadata": {},
   "outputs": [],
   "source": [
    "ftr_fcr = rota.loc[rota.Month == ftr_m, 'Facilitator'].values[0]\n",
    "ftr_ntr = rota.loc[rota.Month == ftr_m, 'Note Taker'].values[0]"
   ]
  },
  {
   "cell_type": "code",
   "execution_count": 19,
   "id": "6bba0f0b",
   "metadata": {},
   "outputs": [],
   "source": [
    "const=win32com.client.constants\n",
    "olMailItem = 0x0\n",
    "obj = win32com.client.Dispatch(\"Outlook.Application\")\n",
    "newMail = obj.CreateItem(olMailItem)\n",
    "newMail.Subject = f'Reminder: DEIB meeting next Wednesday {str(date1)}'\n",
    "newMail.BodyFormat = 2 # olFormatHTML https://msdn.microsoft.com/en-us/library/office/aa219371(v=office.11).aspx\n",
    "newMail.HTMLBody =  f\"\"\"\n",
    "<HTML><BODY><p>Hello all,</p> \n",
    "\n",
    "<p>Our meeting facilitator and notetaker next week are {cur_fcr} and {cur_ntr}, and next month are {ftr_fcr} and {ftr_ntr}. Following the links, please find the folders for the <a href=\"https://lanecouncilofgovernments.sharepoint.com/:f:/r/sites/LCOGDiversityEquityBelonging/Shared%20Documents/Committee%20Meetings/Agendas/2023?csf=1&web=1&e=wBl76p\">meeting agenda</a>, and <a href=\"https://lanecouncilofgovernments.sharepoint.com/:f:/r/sites/LCOGDiversityEquityBelonging/Shared%20Documents/Committee%20Meetings/Meeting%20Notes/2023?csf=1&web=1&e=03DAbf\">meeting notes</a>.\n",
    "\n",
    "Meeting facilitators will need to fill out the agenda details. Thank you! </p> \n",
    "\n",
    "<p>Have a great day!</p>\n",
    "\n",
    "<p>Dongmei on behalf of DEIB Strategic Planning Subcommittee</p></BODY></HTML>\n",
    "\"\"\"\n",
    "newMail.To = \"dchen@lcog.org\"\n",
    "#newMail.To = \"LCOGDiversityEquityInclusionBelonging@lcog.org\"\n",
    "#newMail.From = \"LCOGDiversityEquityInclusionBelonging@lcog.org\"\n",
    "\n",
    "newMail.Send()"
   ]
  }
 ],
 "metadata": {
  "kernelspec": {
   "display_name": "Python 3",
   "language": "python",
   "name": "python3"
  },
  "language_info": {
   "codemirror_mode": {
    "name": "ipython",
    "version": 3
   },
   "file_extension": ".py",
   "mimetype": "text/x-python",
   "name": "python",
   "nbconvert_exporter": "python",
   "pygments_lexer": "ipython3",
   "version": "3.8.8"
  }
 },
 "nbformat": 4,
 "nbformat_minor": 5
}
